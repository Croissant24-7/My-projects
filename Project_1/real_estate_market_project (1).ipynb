{
 "cells": [
  {
   "cell_type": "markdown",
   "metadata": {
    "toc": true
   },
   "source": [
    "<h1>Содержание<span class=\"tocSkip\"></span></h1>\n",
    "<div class=\"toc\"><ul class=\"toc-item\"><li><span><a href=\"#Откройте-файл-с-данными-и-изучите-общую-информацию.\" data-toc-modified-id=\"Откройте-файл-с-данными-и-изучите-общую-информацию.-1\"><span class=\"toc-item-num\">1&nbsp;&nbsp;</span>Откройте файл с данными и изучите общую информацию.</a></span></li><li><span><a href=\"#Предобработка-данных\" data-toc-modified-id=\"Предобработка-данных-2\"><span class=\"toc-item-num\">2&nbsp;&nbsp;</span>Предобработка данных</a></span></li><li><span><a href=\"#Посчитайте-и-добавьте-в-таблицу-новые-столбцы\" data-toc-modified-id=\"Посчитайте-и-добавьте-в-таблицу-новые-столбцы-3\"><span class=\"toc-item-num\">3&nbsp;&nbsp;</span>Посчитайте и добавьте в таблицу новые столбцы</a></span></li><li><span><a href=\"#Проведите-исследовательский-анализ-данных\" data-toc-modified-id=\"Проведите-исследовательский-анализ-данных-4\"><span class=\"toc-item-num\">4&nbsp;&nbsp;</span>Проведите исследовательский анализ данных</a></span></li><li><span><a href=\"#Общий-вывод\" data-toc-modified-id=\"Общий-вывод-5\"><span class=\"toc-item-num\">5&nbsp;&nbsp;</span>Общий вывод</a></span></li></ul></div>"
   ]
  },
  {
   "cell_type": "markdown",
   "metadata": {},
   "source": [
    "# Исследование объявлений о продаже квартир\n",
    "\n",
    "В нашем распоряжении данные сервиса Яндекс.Недвижимость — архив объявлений о продаже квартир в Санкт-Петербурге и соседних населённых пунктах за несколько лет. Нужно научиться определять рыночную стоимость объектов недвижимости. Наша задача — установить параметры. Это позволит построить автоматизированную систему: она отследит аномалии и мошенническую деятельность. \n",
    "\n",
    "По каждой квартире на продажу доступны два вида данных. Первые вписаны пользователем, вторые — получены автоматически на основе картографических данных. Например, расстояние до центра, аэропорта, ближайшего парка и водоёма. "
   ]
  },
  {
   "cell_type": "markdown",
   "metadata": {},
   "source": [
    "### Откройте файл с данными и изучите общую информацию. "
   ]
  },
  {
   "cell_type": "code",
   "execution_count": 1,
   "metadata": {},
   "outputs": [],
   "source": [
    "import pandas as pd # импортируем библиотеку pandas\n",
    "import matplotlib.pyplot as plt # импортируем библиотеку matplotlib\n",
    "import numpy as np # импортируем библиотеку numpy"
   ]
  },
  {
   "cell_type": "code",
   "execution_count": 2,
   "metadata": {},
   "outputs": [
    {
     "ename": "FileNotFoundError",
     "evalue": "[Errno 2] No such file or directory: '/datasets/real_estate_data.csv'",
     "output_type": "error",
     "traceback": [
      "\u001b[1;31m---------------------------------------------------------------------------\u001b[0m",
      "\u001b[1;31mFileNotFoundError\u001b[0m                         Traceback (most recent call last)",
      "Input \u001b[1;32mIn [2]\u001b[0m, in \u001b[0;36m<cell line: 1>\u001b[1;34m()\u001b[0m\n\u001b[1;32m----> 1\u001b[0m data \u001b[38;5;241m=\u001b[39m \u001b[43mpd\u001b[49m\u001b[38;5;241;43m.\u001b[39;49m\u001b[43mread_csv\u001b[49m\u001b[43m(\u001b[49m\u001b[38;5;124;43m'\u001b[39;49m\u001b[38;5;124;43m/datasets/real_estate_data.csv\u001b[39;49m\u001b[38;5;124;43m'\u001b[39;49m\u001b[43m)\u001b[49m \u001b[38;5;66;03m# загружаем данные из файла в датафрейм\u001b[39;00m\n\u001b[0;32m      2\u001b[0m data\u001b[38;5;241m.\u001b[39mhead()\n",
      "File \u001b[1;32m~\\anaconda3\\lib\\site-packages\\pandas\\util\\_decorators.py:311\u001b[0m, in \u001b[0;36mdeprecate_nonkeyword_arguments.<locals>.decorate.<locals>.wrapper\u001b[1;34m(*args, **kwargs)\u001b[0m\n\u001b[0;32m    305\u001b[0m \u001b[38;5;28;01mif\u001b[39;00m \u001b[38;5;28mlen\u001b[39m(args) \u001b[38;5;241m>\u001b[39m num_allow_args:\n\u001b[0;32m    306\u001b[0m     warnings\u001b[38;5;241m.\u001b[39mwarn(\n\u001b[0;32m    307\u001b[0m         msg\u001b[38;5;241m.\u001b[39mformat(arguments\u001b[38;5;241m=\u001b[39marguments),\n\u001b[0;32m    308\u001b[0m         \u001b[38;5;167;01mFutureWarning\u001b[39;00m,\n\u001b[0;32m    309\u001b[0m         stacklevel\u001b[38;5;241m=\u001b[39mstacklevel,\n\u001b[0;32m    310\u001b[0m     )\n\u001b[1;32m--> 311\u001b[0m \u001b[38;5;28;01mreturn\u001b[39;00m func(\u001b[38;5;241m*\u001b[39margs, \u001b[38;5;241m*\u001b[39m\u001b[38;5;241m*\u001b[39mkwargs)\n",
      "File \u001b[1;32m~\\anaconda3\\lib\\site-packages\\pandas\\io\\parsers\\readers.py:680\u001b[0m, in \u001b[0;36mread_csv\u001b[1;34m(filepath_or_buffer, sep, delimiter, header, names, index_col, usecols, squeeze, prefix, mangle_dupe_cols, dtype, engine, converters, true_values, false_values, skipinitialspace, skiprows, skipfooter, nrows, na_values, keep_default_na, na_filter, verbose, skip_blank_lines, parse_dates, infer_datetime_format, keep_date_col, date_parser, dayfirst, cache_dates, iterator, chunksize, compression, thousands, decimal, lineterminator, quotechar, quoting, doublequote, escapechar, comment, encoding, encoding_errors, dialect, error_bad_lines, warn_bad_lines, on_bad_lines, delim_whitespace, low_memory, memory_map, float_precision, storage_options)\u001b[0m\n\u001b[0;32m    665\u001b[0m kwds_defaults \u001b[38;5;241m=\u001b[39m _refine_defaults_read(\n\u001b[0;32m    666\u001b[0m     dialect,\n\u001b[0;32m    667\u001b[0m     delimiter,\n\u001b[1;32m   (...)\u001b[0m\n\u001b[0;32m    676\u001b[0m     defaults\u001b[38;5;241m=\u001b[39m{\u001b[38;5;124m\"\u001b[39m\u001b[38;5;124mdelimiter\u001b[39m\u001b[38;5;124m\"\u001b[39m: \u001b[38;5;124m\"\u001b[39m\u001b[38;5;124m,\u001b[39m\u001b[38;5;124m\"\u001b[39m},\n\u001b[0;32m    677\u001b[0m )\n\u001b[0;32m    678\u001b[0m kwds\u001b[38;5;241m.\u001b[39mupdate(kwds_defaults)\n\u001b[1;32m--> 680\u001b[0m \u001b[38;5;28;01mreturn\u001b[39;00m \u001b[43m_read\u001b[49m\u001b[43m(\u001b[49m\u001b[43mfilepath_or_buffer\u001b[49m\u001b[43m,\u001b[49m\u001b[43m \u001b[49m\u001b[43mkwds\u001b[49m\u001b[43m)\u001b[49m\n",
      "File \u001b[1;32m~\\anaconda3\\lib\\site-packages\\pandas\\io\\parsers\\readers.py:575\u001b[0m, in \u001b[0;36m_read\u001b[1;34m(filepath_or_buffer, kwds)\u001b[0m\n\u001b[0;32m    572\u001b[0m _validate_names(kwds\u001b[38;5;241m.\u001b[39mget(\u001b[38;5;124m\"\u001b[39m\u001b[38;5;124mnames\u001b[39m\u001b[38;5;124m\"\u001b[39m, \u001b[38;5;28;01mNone\u001b[39;00m))\n\u001b[0;32m    574\u001b[0m \u001b[38;5;66;03m# Create the parser.\u001b[39;00m\n\u001b[1;32m--> 575\u001b[0m parser \u001b[38;5;241m=\u001b[39m TextFileReader(filepath_or_buffer, \u001b[38;5;241m*\u001b[39m\u001b[38;5;241m*\u001b[39mkwds)\n\u001b[0;32m    577\u001b[0m \u001b[38;5;28;01mif\u001b[39;00m chunksize \u001b[38;5;129;01mor\u001b[39;00m iterator:\n\u001b[0;32m    578\u001b[0m     \u001b[38;5;28;01mreturn\u001b[39;00m parser\n",
      "File \u001b[1;32m~\\anaconda3\\lib\\site-packages\\pandas\\io\\parsers\\readers.py:933\u001b[0m, in \u001b[0;36mTextFileReader.__init__\u001b[1;34m(self, f, engine, **kwds)\u001b[0m\n\u001b[0;32m    930\u001b[0m     \u001b[38;5;28mself\u001b[39m\u001b[38;5;241m.\u001b[39moptions[\u001b[38;5;124m\"\u001b[39m\u001b[38;5;124mhas_index_names\u001b[39m\u001b[38;5;124m\"\u001b[39m] \u001b[38;5;241m=\u001b[39m kwds[\u001b[38;5;124m\"\u001b[39m\u001b[38;5;124mhas_index_names\u001b[39m\u001b[38;5;124m\"\u001b[39m]\n\u001b[0;32m    932\u001b[0m \u001b[38;5;28mself\u001b[39m\u001b[38;5;241m.\u001b[39mhandles: IOHandles \u001b[38;5;241m|\u001b[39m \u001b[38;5;28;01mNone\u001b[39;00m \u001b[38;5;241m=\u001b[39m \u001b[38;5;28;01mNone\u001b[39;00m\n\u001b[1;32m--> 933\u001b[0m \u001b[38;5;28mself\u001b[39m\u001b[38;5;241m.\u001b[39m_engine \u001b[38;5;241m=\u001b[39m \u001b[38;5;28;43mself\u001b[39;49m\u001b[38;5;241;43m.\u001b[39;49m\u001b[43m_make_engine\u001b[49m\u001b[43m(\u001b[49m\u001b[43mf\u001b[49m\u001b[43m,\u001b[49m\u001b[43m \u001b[49m\u001b[38;5;28;43mself\u001b[39;49m\u001b[38;5;241;43m.\u001b[39;49m\u001b[43mengine\u001b[49m\u001b[43m)\u001b[49m\n",
      "File \u001b[1;32m~\\anaconda3\\lib\\site-packages\\pandas\\io\\parsers\\readers.py:1217\u001b[0m, in \u001b[0;36mTextFileReader._make_engine\u001b[1;34m(self, f, engine)\u001b[0m\n\u001b[0;32m   1213\u001b[0m     mode \u001b[38;5;241m=\u001b[39m \u001b[38;5;124m\"\u001b[39m\u001b[38;5;124mrb\u001b[39m\u001b[38;5;124m\"\u001b[39m\n\u001b[0;32m   1214\u001b[0m \u001b[38;5;66;03m# error: No overload variant of \"get_handle\" matches argument types\u001b[39;00m\n\u001b[0;32m   1215\u001b[0m \u001b[38;5;66;03m# \"Union[str, PathLike[str], ReadCsvBuffer[bytes], ReadCsvBuffer[str]]\"\u001b[39;00m\n\u001b[0;32m   1216\u001b[0m \u001b[38;5;66;03m# , \"str\", \"bool\", \"Any\", \"Any\", \"Any\", \"Any\", \"Any\"\u001b[39;00m\n\u001b[1;32m-> 1217\u001b[0m \u001b[38;5;28mself\u001b[39m\u001b[38;5;241m.\u001b[39mhandles \u001b[38;5;241m=\u001b[39m \u001b[43mget_handle\u001b[49m\u001b[43m(\u001b[49m\u001b[43m  \u001b[49m\u001b[38;5;66;43;03m# type: ignore[call-overload]\u001b[39;49;00m\n\u001b[0;32m   1218\u001b[0m \u001b[43m    \u001b[49m\u001b[43mf\u001b[49m\u001b[43m,\u001b[49m\n\u001b[0;32m   1219\u001b[0m \u001b[43m    \u001b[49m\u001b[43mmode\u001b[49m\u001b[43m,\u001b[49m\n\u001b[0;32m   1220\u001b[0m \u001b[43m    \u001b[49m\u001b[43mencoding\u001b[49m\u001b[38;5;241;43m=\u001b[39;49m\u001b[38;5;28;43mself\u001b[39;49m\u001b[38;5;241;43m.\u001b[39;49m\u001b[43moptions\u001b[49m\u001b[38;5;241;43m.\u001b[39;49m\u001b[43mget\u001b[49m\u001b[43m(\u001b[49m\u001b[38;5;124;43m\"\u001b[39;49m\u001b[38;5;124;43mencoding\u001b[39;49m\u001b[38;5;124;43m\"\u001b[39;49m\u001b[43m,\u001b[49m\u001b[43m \u001b[49m\u001b[38;5;28;43;01mNone\u001b[39;49;00m\u001b[43m)\u001b[49m\u001b[43m,\u001b[49m\n\u001b[0;32m   1221\u001b[0m \u001b[43m    \u001b[49m\u001b[43mcompression\u001b[49m\u001b[38;5;241;43m=\u001b[39;49m\u001b[38;5;28;43mself\u001b[39;49m\u001b[38;5;241;43m.\u001b[39;49m\u001b[43moptions\u001b[49m\u001b[38;5;241;43m.\u001b[39;49m\u001b[43mget\u001b[49m\u001b[43m(\u001b[49m\u001b[38;5;124;43m\"\u001b[39;49m\u001b[38;5;124;43mcompression\u001b[39;49m\u001b[38;5;124;43m\"\u001b[39;49m\u001b[43m,\u001b[49m\u001b[43m \u001b[49m\u001b[38;5;28;43;01mNone\u001b[39;49;00m\u001b[43m)\u001b[49m\u001b[43m,\u001b[49m\n\u001b[0;32m   1222\u001b[0m \u001b[43m    \u001b[49m\u001b[43mmemory_map\u001b[49m\u001b[38;5;241;43m=\u001b[39;49m\u001b[38;5;28;43mself\u001b[39;49m\u001b[38;5;241;43m.\u001b[39;49m\u001b[43moptions\u001b[49m\u001b[38;5;241;43m.\u001b[39;49m\u001b[43mget\u001b[49m\u001b[43m(\u001b[49m\u001b[38;5;124;43m\"\u001b[39;49m\u001b[38;5;124;43mmemory_map\u001b[39;49m\u001b[38;5;124;43m\"\u001b[39;49m\u001b[43m,\u001b[49m\u001b[43m \u001b[49m\u001b[38;5;28;43;01mFalse\u001b[39;49;00m\u001b[43m)\u001b[49m\u001b[43m,\u001b[49m\n\u001b[0;32m   1223\u001b[0m \u001b[43m    \u001b[49m\u001b[43mis_text\u001b[49m\u001b[38;5;241;43m=\u001b[39;49m\u001b[43mis_text\u001b[49m\u001b[43m,\u001b[49m\n\u001b[0;32m   1224\u001b[0m \u001b[43m    \u001b[49m\u001b[43merrors\u001b[49m\u001b[38;5;241;43m=\u001b[39;49m\u001b[38;5;28;43mself\u001b[39;49m\u001b[38;5;241;43m.\u001b[39;49m\u001b[43moptions\u001b[49m\u001b[38;5;241;43m.\u001b[39;49m\u001b[43mget\u001b[49m\u001b[43m(\u001b[49m\u001b[38;5;124;43m\"\u001b[39;49m\u001b[38;5;124;43mencoding_errors\u001b[39;49m\u001b[38;5;124;43m\"\u001b[39;49m\u001b[43m,\u001b[49m\u001b[43m \u001b[49m\u001b[38;5;124;43m\"\u001b[39;49m\u001b[38;5;124;43mstrict\u001b[39;49m\u001b[38;5;124;43m\"\u001b[39;49m\u001b[43m)\u001b[49m\u001b[43m,\u001b[49m\n\u001b[0;32m   1225\u001b[0m \u001b[43m    \u001b[49m\u001b[43mstorage_options\u001b[49m\u001b[38;5;241;43m=\u001b[39;49m\u001b[38;5;28;43mself\u001b[39;49m\u001b[38;5;241;43m.\u001b[39;49m\u001b[43moptions\u001b[49m\u001b[38;5;241;43m.\u001b[39;49m\u001b[43mget\u001b[49m\u001b[43m(\u001b[49m\u001b[38;5;124;43m\"\u001b[39;49m\u001b[38;5;124;43mstorage_options\u001b[39;49m\u001b[38;5;124;43m\"\u001b[39;49m\u001b[43m,\u001b[49m\u001b[43m \u001b[49m\u001b[38;5;28;43;01mNone\u001b[39;49;00m\u001b[43m)\u001b[49m\u001b[43m,\u001b[49m\n\u001b[0;32m   1226\u001b[0m \u001b[43m\u001b[49m\u001b[43m)\u001b[49m\n\u001b[0;32m   1227\u001b[0m \u001b[38;5;28;01massert\u001b[39;00m \u001b[38;5;28mself\u001b[39m\u001b[38;5;241m.\u001b[39mhandles \u001b[38;5;129;01mis\u001b[39;00m \u001b[38;5;129;01mnot\u001b[39;00m \u001b[38;5;28;01mNone\u001b[39;00m\n\u001b[0;32m   1228\u001b[0m f \u001b[38;5;241m=\u001b[39m \u001b[38;5;28mself\u001b[39m\u001b[38;5;241m.\u001b[39mhandles\u001b[38;5;241m.\u001b[39mhandle\n",
      "File \u001b[1;32m~\\anaconda3\\lib\\site-packages\\pandas\\io\\common.py:789\u001b[0m, in \u001b[0;36mget_handle\u001b[1;34m(path_or_buf, mode, encoding, compression, memory_map, is_text, errors, storage_options)\u001b[0m\n\u001b[0;32m    784\u001b[0m \u001b[38;5;28;01melif\u001b[39;00m \u001b[38;5;28misinstance\u001b[39m(handle, \u001b[38;5;28mstr\u001b[39m):\n\u001b[0;32m    785\u001b[0m     \u001b[38;5;66;03m# Check whether the filename is to be opened in binary mode.\u001b[39;00m\n\u001b[0;32m    786\u001b[0m     \u001b[38;5;66;03m# Binary mode does not support 'encoding' and 'newline'.\u001b[39;00m\n\u001b[0;32m    787\u001b[0m     \u001b[38;5;28;01mif\u001b[39;00m ioargs\u001b[38;5;241m.\u001b[39mencoding \u001b[38;5;129;01mand\u001b[39;00m \u001b[38;5;124m\"\u001b[39m\u001b[38;5;124mb\u001b[39m\u001b[38;5;124m\"\u001b[39m \u001b[38;5;129;01mnot\u001b[39;00m \u001b[38;5;129;01min\u001b[39;00m ioargs\u001b[38;5;241m.\u001b[39mmode:\n\u001b[0;32m    788\u001b[0m         \u001b[38;5;66;03m# Encoding\u001b[39;00m\n\u001b[1;32m--> 789\u001b[0m         handle \u001b[38;5;241m=\u001b[39m \u001b[38;5;28;43mopen\u001b[39;49m\u001b[43m(\u001b[49m\n\u001b[0;32m    790\u001b[0m \u001b[43m            \u001b[49m\u001b[43mhandle\u001b[49m\u001b[43m,\u001b[49m\n\u001b[0;32m    791\u001b[0m \u001b[43m            \u001b[49m\u001b[43mioargs\u001b[49m\u001b[38;5;241;43m.\u001b[39;49m\u001b[43mmode\u001b[49m\u001b[43m,\u001b[49m\n\u001b[0;32m    792\u001b[0m \u001b[43m            \u001b[49m\u001b[43mencoding\u001b[49m\u001b[38;5;241;43m=\u001b[39;49m\u001b[43mioargs\u001b[49m\u001b[38;5;241;43m.\u001b[39;49m\u001b[43mencoding\u001b[49m\u001b[43m,\u001b[49m\n\u001b[0;32m    793\u001b[0m \u001b[43m            \u001b[49m\u001b[43merrors\u001b[49m\u001b[38;5;241;43m=\u001b[39;49m\u001b[43merrors\u001b[49m\u001b[43m,\u001b[49m\n\u001b[0;32m    794\u001b[0m \u001b[43m            \u001b[49m\u001b[43mnewline\u001b[49m\u001b[38;5;241;43m=\u001b[39;49m\u001b[38;5;124;43m\"\u001b[39;49m\u001b[38;5;124;43m\"\u001b[39;49m\u001b[43m,\u001b[49m\n\u001b[0;32m    795\u001b[0m \u001b[43m        \u001b[49m\u001b[43m)\u001b[49m\n\u001b[0;32m    796\u001b[0m     \u001b[38;5;28;01melse\u001b[39;00m:\n\u001b[0;32m    797\u001b[0m         \u001b[38;5;66;03m# Binary mode\u001b[39;00m\n\u001b[0;32m    798\u001b[0m         handle \u001b[38;5;241m=\u001b[39m \u001b[38;5;28mopen\u001b[39m(handle, ioargs\u001b[38;5;241m.\u001b[39mmode)\n",
      "\u001b[1;31mFileNotFoundError\u001b[0m: [Errno 2] No such file or directory: '/datasets/real_estate_data.csv'"
     ]
    }
   ],
   "source": [
    "data = pd.read_csv('/datasets/real_estate_data.csv') # загружаем данные из файла в датафрейм\n",
    "data.head() # выводим его первые строки"
   ]
  },
  {
   "cell_type": "markdown",
   "metadata": {},
   "source": [
    "Видим, что исходные данные не разбиты по колонкам"
   ]
  },
  {
   "cell_type": "code",
   "execution_count": null,
   "metadata": {},
   "outputs": [],
   "source": [
    "data = pd.read_csv('/datasets/real_estate_data.csv', sep=\"\\t\") # разделяем колонки\n",
    "data.head() # снова выводим первые строки таблицы, чтобы увидеть результат"
   ]
  },
  {
   "cell_type": "code",
   "execution_count": null,
   "metadata": {},
   "outputs": [],
   "source": [
    "data.info() # выводим общую информацию о полученном датафрейме"
   ]
  },
  {
   "cell_type": "markdown",
   "metadata": {},
   "source": [
    "Датафрейм содержит 23 699 записей (22 столбца), при этом в ряде столбцов (ceiling_height, floors_total, living_area, is_apartment, kitchen_area, balcony, locality_name, airports_nearest, cityCenters_nearest, parks_around3000, parks_nearest, ponds_around3000, ponds_nearest, days_exposition) значения пропущены.\n",
    "При этом следует отметить, что формат значений в отдельных столбцах не соответствует требуемому: например, first_day_exposition (дата публикации) - object вместо datetime64, floors_total (всего этажей в доме) - float64 вместо int64, is_apartment (апартаменты) - object вместо bool, balcony (число балконов) - float64 вместо int64, parks_around3000 (число парков в радиусе 3 км) - float64 вместо int64, ponds_around3000 (число водоёмов в радиусе 3 км) - float64 вместо int64, days_exposition (сколько дней было размещено объявление) - float64 вместо int64.\n",
    "Кроме того, некоторые столбцы лучше переименовать (cityCenters_nearest, parks_around3000, ponds_around3000)."
   ]
  },
  {
   "cell_type": "code",
   "execution_count": null,
   "metadata": {},
   "outputs": [],
   "source": [
    "data.hist(figsize=(15, 20)) # строим общую гистограмму для всех числовых столбцов таблицы"
   ]
  },
  {
   "cell_type": "markdown",
   "metadata": {},
   "source": [
    "На гистограммах уже видим возможные аномалии (например, столбцы last_price, balcony)."
   ]
  },
  {
   "cell_type": "markdown",
   "metadata": {},
   "source": [
    "### Предобработка данных"
   ]
  },
  {
   "cell_type": "markdown",
   "metadata": {},
   "source": [
    "**2.1 Поиск и изучение пропущенных значений в столбцах**"
   ]
  },
  {
   "cell_type": "code",
   "execution_count": null,
   "metadata": {},
   "outputs": [],
   "source": [
    "data.isna().sum() # определяем, в каких столбцах есть пропуски, а также их количество"
   ]
  },
  {
   "cell_type": "code",
   "execution_count": null,
   "metadata": {},
   "outputs": [],
   "source": [
    "data['balcony'] = data['balcony'].fillna(0) # если продавец не указал число балконов, то, скорее всего, в его квартире их нет. Такие пропуски заменяем на 0.\n",
    "data['balcony'] = data['balcony'].astype(int) # меняем тип данных в столбце на int64 (количество балконов может быть только целым числом).\n",
    "data['is_apartment'] = data['is_apartment'].astype(bool) # меняем тип данных в столбце на bool (недвижимость либо является апартаментами, либо нет).\n",
    "data['is_apartment'] = data['is_apartment'].fillna(False) # если продавец не указал, является ли недвижимость апартаментами, то, скорее всего, не является. Такие пропуски заменяем на False.\n",
    "data['parks_around3000'] = data['parks_around3000'].fillna(0) # если продавец не указал число парков поблизости (либо количество не \"подтянулось\" автоматически), то, скорее всего, их нет. Такие пропуски заменяем на 0.\n",
    "data['ponds_around3000'] = data['ponds_around3000'].fillna(0) # если продавец не указал число водоемов поблизости (либо количество не \"подтянулось\" автоматически), то, скорее всего, их нет. Такие пропуски заменяем на 0.\n",
    "data['parks_around3000'] = data['parks_around3000'].astype(int) # меняем тип данных в столбце на int64 (количество парков может быть только целым числом).\n",
    "data['ponds_around3000'] = data['ponds_around3000'].astype(int) # меняем тип данных в столбце на int64 (количество водоемов может быть только целым числом)."
   ]
  },
  {
   "cell_type": "markdown",
   "metadata": {},
   "source": [
    "Отметим, что количество пропусков в столбце parks_around3000 и столбце ponds_around3000 идентично - скорее всего, пропуски в этих столбцах присутствуют по одним и тем же объектам (соответствующие объекты находятся вдали от парков и водоемов)."
   ]
  },
  {
   "cell_type": "code",
   "execution_count": null,
   "metadata": {},
   "outputs": [],
   "source": [
    "data = data.dropna(subset=['locality_name']) # удалим 49 квартир с пропущенными сведения о населенном пункте (данная информация слишком существенна для анализа)"
   ]
  },
  {
   "cell_type": "code",
   "execution_count": null,
   "metadata": {},
   "outputs": [],
   "source": [
    "data = data.dropna(subset=['floors_total']) # удалим 86 квартир с пропущенными сведения об этажности дома (данная информация слишком существенна для анализа)"
   ]
  },
  {
   "cell_type": "code",
   "execution_count": null,
   "metadata": {},
   "outputs": [],
   "source": [
    "no_kitchen = data[data['kitchen_area'].isnull()]\n",
    "no_kitchen['is_apartment'].value_counts() "
   ]
  },
  {
   "cell_type": "markdown",
   "metadata": {},
   "source": [
    "Видим, что большинство квартир \"без кухни\" является апартаментами."
   ]
  },
  {
   "cell_type": "code",
   "execution_count": null,
   "metadata": {},
   "outputs": [],
   "source": [
    "no_kitchen['open_plan'].value_counts()"
   ]
  },
  {
   "cell_type": "markdown",
   "metadata": {},
   "source": [
    "Видим, что квартир со свободной планировкой с пропущенной площадью кухни немного."
   ]
  },
  {
   "cell_type": "code",
   "execution_count": null,
   "metadata": {},
   "outputs": [],
   "source": [
    "no_living = data[data['living_area'].isnull()]\n",
    "no_living['is_apartment'].value_counts()"
   ]
  },
  {
   "cell_type": "markdown",
   "metadata": {},
   "source": [
    "Видим, что большинство квартир \"без жилой площади\" является апартаментами."
   ]
  },
  {
   "cell_type": "code",
   "execution_count": null,
   "metadata": {},
   "outputs": [],
   "source": [
    "no_living['open_plan'].value_counts()"
   ]
  },
  {
   "cell_type": "markdown",
   "metadata": {},
   "source": [
    "Видим, что квартир со свободной планировкой с пропущенной жилой площадью очень мало."
   ]
  },
  {
   "cell_type": "code",
   "execution_count": null,
   "metadata": {},
   "outputs": [],
   "source": [
    "avg_total = data.loc[(~data['living_area'].isna()), 'total_area'].mean()\n",
    "avg_living = data.loc[(~data['living_area'].isna()), 'living_area'].mean()\n",
    "ratio_1 = avg_total / avg_living\n",
    "data['living_area'] = data['living_area'].fillna(data['total_area'] / ratio_1) # заменим пропуски в столбце living_area на приблизительное вероятное значение, рассчитанное с помощью коэффициента (получен на основе выборки квартир без пропусков в данном столбце с использованием средних значений площади)"
   ]
  },
  {
   "cell_type": "code",
   "execution_count": null,
   "metadata": {},
   "outputs": [],
   "source": [
    "avg_total_1 = data.loc[(~data['kitchen_area'].isna()), 'total_area'].mean()\n",
    "avg_kitchen = data.loc[(~data['kitchen_area'].isna()), 'kitchen_area'].mean()\n",
    "ratio_2 = avg_total_1 / avg_kitchen\n",
    "data['kitchen_area'] = data['kitchen_area'].fillna(data['total_area'] / ratio_2) # заменим пропуски в столбце kitchen_area на приблизительное вероятное значение, рассчитанное с помощью коэффициента (получен на основе выборки квартир без пропусков в данном столбце с использованием средних значений площади)"
   ]
  },
  {
   "cell_type": "markdown",
   "metadata": {},
   "source": [
    "Количество пропусков в столбце ceiling_height слишком велико (почти 40% выборки) - целесообразнее оставить их как есть, чтобы не исказить статистики выборки и результаты анализа."
   ]
  },
  {
   "cell_type": "markdown",
   "metadata": {},
   "source": [
    "**2.2 Причины пропусков в данных**"
   ]
  },
  {
   "cell_type": "markdown",
   "metadata": {},
   "source": [
    "По всей видимости, по ряду объектов картографические данные (расстояние до центра города, аэропорта и ближайшего водоема/парка) отсутствуют вследствие технической ошибки (данные сведения не вносятся пользователями). Данные о расстоянии до центра города могут отсутствовать в отношении объектов, находящихся в небольших населенных пунктах. Можно предположить, что название населённого пункта также не \"подтянулось\" в базу из общего справочника из-за технического сбоя.\n",
    "Ряд данных, которые должны были быть внесены пользователями, также отсутствует по отдельным объектам: ceiling_height (высота потолков), floors_total (всего этажей в доме), living_area (жилая площадь в квадратных метрах), kitchen_area (площадь кухни).\n",
    "Указанное, возможно, обусловлено человеческим фактором (пользователи забыли заполнить соответствующие ячейки) либо тем, что параметры не были известны пользователям либо они посчитали эти сведения несущественными.\n",
    "Стоит отметить, что в отдельных случаях данные о kitchen_area могли отсутствовать из-за отсутствия отдельной кухни в квартире (апартаменты, свободная планировка).\n",
    "Кол-во дней, в течение которых было размещено объявление, отсуствует по причине того, что на момент среза объявление еще не было снято."
   ]
  },
  {
   "cell_type": "markdown",
   "metadata": {},
   "source": [
    "**2.3 Меняем типы данных в иных столбцах**"
   ]
  },
  {
   "cell_type": "code",
   "execution_count": null,
   "metadata": {},
   "outputs": [],
   "source": [
    "data['first_day_exposition'] = pd.to_datetime(data['first_day_exposition'], format='%Y-%m-%d %H:%M') # меняет формат данных в столбце на datetime64 (так как это дата) и избавляемся от нулевых значений часа/минуты/секунды.  \n",
    "data = data.rename(columns={'cityCenters_nearest': 'city_centers_nearest', 'parks_around3000': 'parks_around_3000', 'ponds_around3000': 'ponds_around_3000'}) # приводим в порядок названия некоторых столбцов"
   ]
  },
  {
   "cell_type": "markdown",
   "metadata": {},
   "source": [
    "Формат данных в столбцах floors_total и days_exposition поменять на int64 невозможно, так как в них есть пропуски, которые в соответствии с инструкцией по выполнению проекта нужно оставить (логичную замену предложить невозможно)."
   ]
  },
  {
   "cell_type": "markdown",
   "metadata": {},
   "source": [
    "**2.4 Устраняем неявные дубликаты в столбце с названиями**"
   ]
  },
  {
   "cell_type": "code",
   "execution_count": null,
   "metadata": {},
   "outputs": [],
   "source": [
    "print(data.duplicated().sum()) # проверим, нет ли явных дубликатов"
   ]
  },
  {
   "cell_type": "code",
   "execution_count": null,
   "metadata": {
    "scrolled": false
   },
   "outputs": [],
   "source": [
    "print(data['locality_name'].unique()) # изучаем уникальные значения в столбце с названиями населенных пунктов\n",
    "data['locality_name'] = data['locality_name'].str.replace('ё', 'е')\n",
    "data['locality_name'] = data['locality_name'].str.replace('городской поселок', 'поселок городского типа')\n",
    "data['locality_name'] = data['locality_name'].str.replace('поселок при железнодорожной станции', 'поселок станции')\n",
    "data['locality_name'] = data['locality_name'].str.replace('садоводческое некоммерческое товарищество', 'садовое товарищество')\n",
    "# устраняем неявные дубликаты"
   ]
  },
  {
   "cell_type": "markdown",
   "metadata": {},
   "source": [
    "**2.5 Устраняем редкие и выбивающиеся значения (аномалии) во всех столбцах**"
   ]
  },
  {
   "cell_type": "code",
   "execution_count": null,
   "metadata": {},
   "outputs": [],
   "source": [
    "print(data['total_images'].describe()) # получаем характеристики, дающие представление о выборке\n",
    "data['total_images'].hist() # строим гистограмму"
   ]
  },
  {
   "cell_type": "markdown",
   "metadata": {},
   "source": [
    "В отношении количества фотографий ничего необычного не выявлено (есть объявления без фотографий)."
   ]
  },
  {
   "cell_type": "code",
   "execution_count": null,
   "metadata": {},
   "outputs": [],
   "source": [
    "print(data['total_area'].describe()) # получаем характеристики, дающие представление о выборке\n",
    "data['total_area'].hist() # строим гистограмму"
   ]
  },
  {
   "cell_type": "markdown",
   "metadata": {},
   "source": [
    "Настораживают объекты общей площадью 12 кв м и 900 кв м."
   ]
  },
  {
   "cell_type": "code",
   "execution_count": null,
   "metadata": {},
   "outputs": [],
   "source": [
    "display(data.query('total_area == 12')) # получаем строку с объектом площадью 12 кв м."
   ]
  },
  {
   "cell_type": "markdown",
   "metadata": {},
   "source": [
    "Учитывая, что это апартаменты - похоже на правду."
   ]
  },
  {
   "cell_type": "code",
   "execution_count": null,
   "metadata": {},
   "outputs": [],
   "source": [
    "display(data.query('total_area == 900'))"
   ]
  },
  {
   "cell_type": "markdown",
   "metadata": {},
   "source": [
    "Учитывая сочетание остальных параметров - похоже на правду."
   ]
  },
  {
   "cell_type": "code",
   "execution_count": null,
   "metadata": {},
   "outputs": [],
   "source": [
    "print(data['last_price'].describe()) # получаем характеристики \n",
    "data['last_price'].head() # выводим несколько значений"
   ]
  },
  {
   "cell_type": "markdown",
   "metadata": {},
   "source": [
    "Функция выводит данные в странном формате (числа слишком длинные). Видим, что в таблице данные отображаются нормально."
   ]
  },
  {
   "cell_type": "code",
   "execution_count": null,
   "metadata": {},
   "outputs": [],
   "source": [
    "data['last_price'].max()"
   ]
  },
  {
   "cell_type": "markdown",
   "metadata": {},
   "source": [
    "Получили самую высокую цену в выборке - 763 млн руб."
   ]
  },
  {
   "cell_type": "code",
   "execution_count": null,
   "metadata": {},
   "outputs": [],
   "source": [
    "display(data.query('last_price > 100000000 and total_area < 120'))"
   ]
  },
  {
   "cell_type": "markdown",
   "metadata": {},
   "source": [
    "Видим, что дорогих квартир площадью менее 120 кв. м в базе нет."
   ]
  },
  {
   "cell_type": "code",
   "execution_count": null,
   "metadata": {},
   "outputs": [],
   "source": [
    "data['last_price'].min() "
   ]
  },
  {
   "cell_type": "markdown",
   "metadata": {},
   "source": [
    "Получили самую низкую цену в выборке - она подозрительно невысокая."
   ]
  },
  {
   "cell_type": "code",
   "execution_count": null,
   "metadata": {},
   "outputs": [],
   "source": [
    "display(data.query('last_price < 500000')) # отбираем квартиры стоимостью до 500 тыс. руб."
   ]
  },
  {
   "cell_type": "markdown",
   "metadata": {},
   "source": [
    "Стоимость двухкомнатной квартиры в Санкт-Петербурге площадью 109 кв. м в размере 12 190 руб. очевидно ошибочная.\n",
    "Вероятно, она стоит 12 190 000 руб. Остальные объекты гораздо меньше по площади, стоят все-таки дороже и находятся в небольших населенных пунктах Ленинградской области."
   ]
  },
  {
   "cell_type": "code",
   "execution_count": null,
   "metadata": {},
   "outputs": [],
   "source": [
    "rows_12 = (data['last_price'] == 12190.0)\n",
    "data.loc[rows_12, \"last_price\"] = 12190000.0 # меняем стоимость квартиры"
   ]
  },
  {
   "cell_type": "code",
   "execution_count": null,
   "metadata": {},
   "outputs": [],
   "source": [
    "data['last_price'].hist(bins=100, range=(500000, 50000000)) # строим гистограмму"
   ]
  },
  {
   "cell_type": "code",
   "execution_count": null,
   "metadata": {},
   "outputs": [],
   "source": [
    "print(data['rooms'].describe()) # получаем характеристики\n",
    "data['rooms'].hist() # строим гистограмму"
   ]
  },
  {
   "cell_type": "markdown",
   "metadata": {},
   "source": [
    "0 комнат и 19 комнат вызывают сомнения."
   ]
  },
  {
   "cell_type": "code",
   "execution_count": null,
   "metadata": {},
   "outputs": [],
   "source": [
    "display(data.query('rooms == 0'))"
   ]
  },
  {
   "cell_type": "markdown",
   "metadata": {},
   "source": [
    "Квартир с 0 комнат у нас в выборке довольно много (194 или почти 1%). Надо разобраться."
   ]
  },
  {
   "cell_type": "code",
   "execution_count": null,
   "metadata": {},
   "outputs": [],
   "source": [
    "rooms_0 = data.query('rooms == 0')\n",
    "rooms_0.query('total_area <= 45')"
   ]
  },
  {
   "cell_type": "markdown",
   "metadata": {},
   "source": [
    "Общая площадь 189 из 194 квартир без комнат не превышает 45 кв м - возможно заменить значение 0 на 1 (скорее всего это однушки-студии со свободной планировкой)."
   ]
  },
  {
   "cell_type": "code",
   "execution_count": null,
   "metadata": {},
   "outputs": [],
   "source": [
    "rows = (data['rooms'] == 0) & (data['total_area'] <= 45)\n",
    "data.loc[rows, \"rooms\"] = 1 # делаем \"однокомнатными\" квартиры площадью не более 45 кв м"
   ]
  },
  {
   "cell_type": "code",
   "execution_count": null,
   "metadata": {
    "scrolled": true
   },
   "outputs": [],
   "source": [
    "rooms_0.query('total_area > 45')"
   ]
  },
  {
   "cell_type": "markdown",
   "metadata": {},
   "source": [
    "5 апартаментов площадью от 58,4 кв м до 371 кв м вряд ли являются однокомнатными, логичную замену нулю предположить затруднительно."
   ]
  },
  {
   "cell_type": "code",
   "execution_count": null,
   "metadata": {},
   "outputs": [],
   "source": [
    "data = data[(data['rooms'] != 0) | (data['total_area'] < 45)] # убираем строки с 'большими' квартирами без комнат (5 квартир - несущественное для выборки количество)"
   ]
  },
  {
   "cell_type": "code",
   "execution_count": null,
   "metadata": {},
   "outputs": [],
   "source": [
    "display(data.query('rooms > 10'))"
   ]
  },
  {
   "cell_type": "markdown",
   "metadata": {},
   "source": [
    "Видим, что площадь квартир с количеством комнат от 10 не меньше 183,7 кв. м. Цена тоже соответствующая."
   ]
  },
  {
   "cell_type": "code",
   "execution_count": null,
   "metadata": {},
   "outputs": [],
   "source": [
    "print(data['ceiling_height'].describe()) # выводим характеристики\n",
    "data['ceiling_height'].hist(bins=10, range=(1,30)) # строим гистограмму"
   ]
  },
  {
   "cell_type": "markdown",
   "metadata": {},
   "source": [
    "Видим, что в базе есть квартиры с гигантскими потолками до 100 метров - похоже на ошибку.\n",
    "Также видим, что в базе есть квартиры с аномально низкими потолками (1 м как минимум)."
   ]
  },
  {
   "cell_type": "code",
   "execution_count": null,
   "metadata": {},
   "outputs": [],
   "source": [
    "display(data.query('ceiling_height > 10'))"
   ]
  },
  {
   "cell_type": "markdown",
   "metadata": {},
   "source": [
    "Квартир с аномально большими потолками в базе 25.\n",
    "Потолки высотой 22,6 м и выше возможно заменить на значения, разделенные на 10 (скорее всего, высота этих потолков 2,26 м и т.д.). Однако, чем заменить значения 10,3, 14, 20 и 100 м - неясно. Целесообразно их удалить."
   ]
  },
  {
   "cell_type": "code",
   "execution_count": null,
   "metadata": {},
   "outputs": [],
   "source": [
    "data = data[(data['ceiling_height'] != 10.3) & (data['ceiling_height'] != 14) & (data['ceiling_height'] != 20) & (data['ceiling_height'] != 100)] # убираем строки с аномально высокими потолками (4 квартиры - несущественное для выборки количество)"
   ]
  },
  {
   "cell_type": "code",
   "execution_count": null,
   "metadata": {},
   "outputs": [],
   "source": [
    "rows_1 = (data['ceiling_height'] > 10)\n",
    "data.loc[rows_1, \"ceiling_height\"] = data.loc[rows_1, \"ceiling_height\"] / 10 # делим значения высоты потолков больше 10 м на 10, чтобы привести их к реальным"
   ]
  },
  {
   "cell_type": "code",
   "execution_count": null,
   "metadata": {},
   "outputs": [],
   "source": [
    "display(data.query('ceiling_height < 2'))"
   ]
  },
  {
   "cell_type": "markdown",
   "metadata": {},
   "source": [
    "В базе обнаружены 3 квартиры с аномально низким потолком (менее 2 м). Целесообразно их удалить из базы."
   ]
  },
  {
   "cell_type": "code",
   "execution_count": null,
   "metadata": {},
   "outputs": [],
   "source": [
    "data = data[(data['ceiling_height'] != 1) & (data['ceiling_height'] != 1.20) & (data['ceiling_height'] != 1.75)]  # удаляем 3 объекта с высотой потолка менее 2 м"
   ]
  },
  {
   "cell_type": "code",
   "execution_count": null,
   "metadata": {},
   "outputs": [],
   "source": [
    "print(data['floors_total'].describe()) # получаем характеристики столбца\n",
    "data['floors_total'].hist() # строим гистограмму"
   ]
  },
  {
   "cell_type": "markdown",
   "metadata": {},
   "source": [
    "В базе данных присутствуют здания с количеством этажей от 1 до 60 - похоже на правду."
   ]
  },
  {
   "cell_type": "code",
   "execution_count": null,
   "metadata": {},
   "outputs": [],
   "source": [
    "print(data['living_area'].describe()) # получаем характеристики столбца\n",
    "data['living_area'].hist() # строим гистограмму"
   ]
  },
  {
   "cell_type": "markdown",
   "metadata": {},
   "source": [
    "Вызывает вопросы минимальное значение жилой площади (2 кв м), максимальное тоже можно проверить (409 кв м)."
   ]
  },
  {
   "cell_type": "code",
   "execution_count": null,
   "metadata": {},
   "outputs": [],
   "source": [
    "display(data.query('living_area < 10 and total_area > 40'))"
   ]
  },
  {
   "cell_type": "markdown",
   "metadata": {},
   "source": [
    "Выборка квартир с жилой площадью менее 10 кв. м и общей площадью более 40 кв. м вызывает вопросы - эти данные не бьются с показателями общей площади квартиры в совокупности с площадью кухни и количеством комнат: например, в выборке есть трехкомнатная квартира общей плащадью 139 кв. м с кухней площадью 16 кв. м и жилой площадью 3 кв. м. По отдельным объектам значения площади кухни и жилой площади возможно перепутаны местами (например, мы видим двухкомнатную квартиру с кухней площадью 41 кв. м и жилой площадью 8,4 кв. м), в ряде случаев возможно указано 2.0 вместо 20, например. В целом природа данной аномалии непонятна."
   ]
  },
  {
   "cell_type": "code",
   "execution_count": null,
   "metadata": {},
   "outputs": [],
   "source": [
    "data = data[~(data['living_area'] < 10) | ~(data['total_area'] > 40)] # удаляем из базы 10 квартир с жилой площадью менее 10 кв. м и общей площадью более 40 кв. м"
   ]
  },
  {
   "cell_type": "code",
   "execution_count": null,
   "metadata": {},
   "outputs": [],
   "source": [
    "display(data.query('living_area > 300'))"
   ]
  },
  {
   "cell_type": "markdown",
   "metadata": {},
   "source": [
    "Учитывая остальные параметры, похоже на правду."
   ]
  },
  {
   "cell_type": "code",
   "execution_count": null,
   "metadata": {},
   "outputs": [],
   "source": [
    "print(data['floor'].describe()) # получаем характеристики столбца\n",
    "data['floor'].hist() # строим гистограмму"
   ]
  },
  {
   "cell_type": "markdown",
   "metadata": {},
   "source": [
    "В части этажа, на котором находится квартира, аномалий не выявлено (минимальный - 1-й, максимальный - 33-й)."
   ]
  },
  {
   "cell_type": "code",
   "execution_count": null,
   "metadata": {},
   "outputs": [],
   "source": [
    "print(data['kitchen_area'].describe()) \n",
    "data['kitchen_area'].hist()"
   ]
  },
  {
   "cell_type": "markdown",
   "metadata": {},
   "source": [
    "Надо проверить слишком малые и большие значения площади кухни."
   ]
  },
  {
   "cell_type": "code",
   "execution_count": null,
   "metadata": {},
   "outputs": [],
   "source": [
    "print(data.query('kitchen_area > 50 and total_area < 100'))"
   ]
  },
  {
   "cell_type": "markdown",
   "metadata": {},
   "source": [
    "Маленьких квартир с аномально большой кухней не обнаружено."
   ]
  },
  {
   "cell_type": "code",
   "execution_count": null,
   "metadata": {},
   "outputs": [],
   "source": [
    "display(data.query('kitchen_area < 3'))"
   ]
  },
  {
   "cell_type": "markdown",
   "metadata": {},
   "source": [
    "В случае, если данные квартиры являются апартаментами, согласиться можно. Однако одна квартира (не апартаменты) площадью 66,4 кв. м с кухней площадью 2,89 кв м выглядит аномально."
   ]
  },
  {
   "cell_type": "code",
   "execution_count": null,
   "metadata": {},
   "outputs": [],
   "source": [
    "data = data[~(data['kitchen_area'] == 2.89) | ~(data['total_area'] == 66.40)] # убираем вышеуказанную квартиру"
   ]
  },
  {
   "cell_type": "code",
   "execution_count": null,
   "metadata": {},
   "outputs": [],
   "source": [
    "print(data['balcony'].describe()) # получаем характеристики столбца\n",
    "display(data.query('balcony > 3')) # выводим квартиры с количеством балконов больше 3"
   ]
  },
  {
   "cell_type": "markdown",
   "metadata": {},
   "source": [
    "Видим подозрительно большое количество квартир с большим количеством балконов (больше 3, доходит до 5).\n",
    "Особенно смущает несоответствие количества балконов количеству комнат. Возможно предположить, что пользователи в ряде случаев вносили данные о площади балкона, а не о количестве балконов."
   ]
  },
  {
   "cell_type": "code",
   "execution_count": null,
   "metadata": {},
   "outputs": [],
   "source": [
    "display(data.query('balcony > 3 and rooms < 3'))"
   ]
  },
  {
   "cell_type": "markdown",
   "metadata": {},
   "source": [
    "В выборке 184 квартиры, у которых меньше 3 комнат и больше 3 балконов!"
   ]
  },
  {
   "cell_type": "code",
   "execution_count": null,
   "metadata": {},
   "outputs": [],
   "source": [
    "display(data.query('balcony > 4 and rooms < 2'))"
   ]
  },
  {
   "cell_type": "markdown",
   "metadata": {},
   "source": [
    "В выборке есть даже 24 однушки с 5 балконами!"
   ]
  },
  {
   "cell_type": "markdown",
   "metadata": {},
   "source": [
    "С балконами надо что-то делать. Квартир с аномальным количеством балконов слишком много, чтобы удалить их из выборки.\n",
    "Целесообразно выбивающиеся значения привести к адекватным - например, сделать так, чтобы количество балконов не превышало количество комнат больше чем на 1 (+ гипотетический балкон для кухни)"
   ]
  },
  {
   "cell_type": "code",
   "execution_count": null,
   "metadata": {},
   "outputs": [],
   "source": [
    "rows_b = (data['rooms'] == 1) & (data['balcony'] > 2)\n",
    "data.loc[rows_b, \"balcony\"] = 2\n",
    "rows_b2 = (data['rooms'] == 2) & (data['balcony'] > 3)\n",
    "data.loc[rows_b2, \"balcony\"] = 3\n",
    "rows_b3 = (data['rooms'] == 3) & (data['balcony'] > 4)\n",
    "data.loc[rows_b3, \"balcony\"] = 4 # меняем соответствующие данные"
   ]
  },
  {
   "cell_type": "code",
   "execution_count": null,
   "metadata": {},
   "outputs": [],
   "source": [
    "print(data['airports_nearest'].describe()) # получаем характеристики столбца"
   ]
  },
  {
   "cell_type": "markdown",
   "metadata": {},
   "source": [
    "Вызывает вопросы квартира, находящася фактически внутри аэропорта."
   ]
  },
  {
   "cell_type": "code",
   "execution_count": null,
   "metadata": {},
   "outputs": [],
   "source": [
    "display(data.query('airports_nearest < 6000'))"
   ]
  },
  {
   "cell_type": "markdown",
   "metadata": {},
   "source": [
    "Менее 6 км до ближайшего аэропорта только от 1 квартиры - а именно, 0 м.\n",
    "Показатель картографический - видимо, ноль появился из-за технической ошибки."
   ]
  },
  {
   "cell_type": "code",
   "execution_count": null,
   "metadata": {},
   "outputs": [],
   "source": [
    "data = data[~(data['airports_nearest'] == 0)] # убираем вышеуказанную квартиру"
   ]
  },
  {
   "cell_type": "code",
   "execution_count": null,
   "metadata": {},
   "outputs": [],
   "source": [
    "print(data['city_centers_nearest'].describe()) # получаем характеристики столбца"
   ]
  },
  {
   "cell_type": "markdown",
   "metadata": {},
   "source": [
    "Данные не вызывают подозрений."
   ]
  },
  {
   "cell_type": "code",
   "execution_count": null,
   "metadata": {},
   "outputs": [],
   "source": [
    "print(data['ponds_around_3000'].describe()) # получаем характеристики столбца"
   ]
  },
  {
   "cell_type": "markdown",
   "metadata": {},
   "source": [
    "Данные не вызывают подозрений."
   ]
  },
  {
   "cell_type": "code",
   "execution_count": null,
   "metadata": {},
   "outputs": [],
   "source": [
    "print(data['ponds_nearest'].describe()) # получаем характеристики столбца"
   ]
  },
  {
   "cell_type": "markdown",
   "metadata": {},
   "source": [
    "Данные не вызывают подозрений (хотя водоем в 13 м от дома - это довольно близко)."
   ]
  },
  {
   "cell_type": "code",
   "execution_count": null,
   "metadata": {},
   "outputs": [],
   "source": [
    "print(data['parks_around_3000'].describe()) # получаем характеристики столбца"
   ]
  },
  {
   "cell_type": "markdown",
   "metadata": {},
   "source": [
    "Данные не вызывают подозрений."
   ]
  },
  {
   "cell_type": "code",
   "execution_count": null,
   "metadata": {},
   "outputs": [],
   "source": [
    "print(data['parks_nearest'].describe()) # получаем характеристики столбца"
   ]
  },
  {
   "cell_type": "markdown",
   "metadata": {},
   "source": [
    "Данные не вызывают подозрений (дом в 1 метре от парка находиться может)."
   ]
  },
  {
   "cell_type": "code",
   "execution_count": null,
   "metadata": {},
   "outputs": [],
   "source": [
    "print(data['days_exposition'].describe()) # получаем характеристики столбца"
   ]
  },
  {
   "cell_type": "markdown",
   "metadata": {},
   "source": [
    "Данные не вызывают подозрений."
   ]
  },
  {
   "cell_type": "code",
   "execution_count": null,
   "metadata": {},
   "outputs": [],
   "source": [
    "data = data.reset_index(drop=True) # обновляем индексацию после удаления строчек\n",
    "data.info()"
   ]
  },
  {
   "cell_type": "markdown",
   "metadata": {},
   "source": [
    "Видим, что количество записей уменьшилось до 23 541 (в целом несущественно). Однако в ряде столбцов сохранились пропуски, которые заменить невозможно."
   ]
  },
  {
   "cell_type": "markdown",
   "metadata": {},
   "source": [
    "### Посчитайте и добавьте в таблицу новые столбцы"
   ]
  },
  {
   "cell_type": "markdown",
   "metadata": {},
   "source": [
    "**3.1 Добавляем в таблицу данные о цене одного квадратного метра**"
   ]
  },
  {
   "cell_type": "code",
   "execution_count": null,
   "metadata": {},
   "outputs": [],
   "source": [
    "m_p = data['last_price'] / data['total_area'] # чтобы найти цену одного квадратного метра, нужно разделить ощую стоимость на общую площадь\n",
    "m_p = m_p.round() # округляем\n",
    "data.insert(2, 'meter_price', m_p, allow_duplicates = False) # вставляем столбец в нужное место\n",
    "data.head() # проверяем, что получилось"
   ]
  },
  {
   "cell_type": "markdown",
   "metadata": {},
   "source": [
    "**3.2 Добавляем в таблицу данные о дне публикации объявления**"
   ]
  },
  {
   "cell_type": "code",
   "execution_count": null,
   "metadata": {},
   "outputs": [],
   "source": [
    "weekday = data['first_day_exposition'].dt.weekday # определяем день\n",
    "data.insert(5, 'weekday', weekday, allow_duplicates = False) # вставляем столбец в нужное место\n",
    "data.head() # проверяем, что получилось"
   ]
  },
  {
   "cell_type": "markdown",
   "metadata": {},
   "source": [
    "**3.3 Добавляем в таблицу данные о месяце публикации объявления**"
   ]
  },
  {
   "cell_type": "code",
   "execution_count": null,
   "metadata": {},
   "outputs": [],
   "source": [
    "month = pd.DatetimeIndex(data['first_day_exposition']).month # вычленяем месяц\n",
    "data.insert(6, 'month', month, allow_duplicates = False) # вставляем столбец в нужное место\n",
    "data.head() # проверяем, что получилось"
   ]
  },
  {
   "cell_type": "markdown",
   "metadata": {},
   "source": [
    "**3.4 Добавляем в таблицу данные о годе публикации объявления**"
   ]
  },
  {
   "cell_type": "code",
   "execution_count": null,
   "metadata": {},
   "outputs": [],
   "source": [
    "year = pd.DatetimeIndex(data['first_day_exposition']).year # вычленяем год\n",
    "data.insert(7, 'year', year, allow_duplicates = False) # вставляем столбец в нужное место\n",
    "data.head() # проверяем, что получилось"
   ]
  },
  {
   "cell_type": "markdown",
   "metadata": {},
   "source": [
    "**3.5 Добавляем в таблицу данные о типе этажа квартиры**"
   ]
  },
  {
   "cell_type": "code",
   "execution_count": null,
   "metadata": {},
   "outputs": [],
   "source": [
    "def type_floor(floor):   # присваиваем каждой квартире тип этажа с помощью функции\n",
    "    if floor['floor'] == 1:\n",
    "        return 'первый'\n",
    "    if floor['floor'] == floor['floors_total']:\n",
    "        return 'последний'\n",
    "    return 'другой'\n",
    "type_f = data.apply(type_floor, axis=1)\n",
    "data.insert(13, 'type_floor', type_f, allow_duplicates = False) # вставляем столбец в нужное место\n",
    "data.head() # проверяем, что получилось"
   ]
  },
  {
   "cell_type": "markdown",
   "metadata": {},
   "source": [
    "**3.6 Добавляем в таблицу данные о расстоянии до центра города в километрах**"
   ]
  },
  {
   "cell_type": "code",
   "execution_count": null,
   "metadata": {},
   "outputs": [],
   "source": [
    "centre_km = data['city_centers_nearest'] / 1000 # чтобы получить сведения о расстоянии в километрах, делим имеющееся расстояние в метрах на 1000\n",
    "centre_km = centre_km.round() # округляем\n",
    "data.insert(22, 'centre_km', centre_km, allow_duplicates = False) # вставляем столбец в нужное место"
   ]
  },
  {
   "cell_type": "markdown",
   "metadata": {},
   "source": [
    "### Проведите исследовательский анализ данных"
   ]
  },
  {
   "cell_type": "markdown",
   "metadata": {},
   "source": [
    "**4.1 Изучение параметров выборки, в том числе с помощью гистограмм**"
   ]
  },
  {
   "cell_type": "markdown",
   "metadata": {},
   "source": [
    "*4.1.1 Общая площадь*"
   ]
  },
  {
   "cell_type": "code",
   "execution_count": null,
   "metadata": {},
   "outputs": [],
   "source": [
    "data['total_area'].describe() # выводим характеристики столбца."
   ]
  },
  {
   "cell_type": "markdown",
   "metadata": {},
   "source": [
    "Cреднее арифметическое - 60,3 кв. м, стандартное отклонение - 35,6 кв., минимальное значение - 12 кв. м, максимальное - 900 кв м, медиана - 52 кв м."
   ]
  },
  {
   "cell_type": "code",
   "execution_count": null,
   "metadata": {},
   "outputs": [],
   "source": [
    "data['total_area'].hist(bins=100, range=(0, 150)) # строим гистограмму"
   ]
  },
  {
   "cell_type": "markdown",
   "metadata": {},
   "source": [
    "Видим, что основная масса значений лежит в диапазоне 30 - 80 кв. м, что выглядит реалистично. График напоминает нормальное распределение."
   ]
  },
  {
   "cell_type": "markdown",
   "metadata": {},
   "source": [
    "*4.1.2 Жилая площадь*"
   ]
  },
  {
   "cell_type": "code",
   "execution_count": null,
   "metadata": {},
   "outputs": [],
   "source": [
    "data['living_area'].describe() # выводим характеристики столбца."
   ]
  },
  {
   "cell_type": "markdown",
   "metadata": {},
   "source": [
    "Среднее арифметическое - 34,6 кв. м, стандартное отклонение - 22,4 кв., минимальное значение - 2 кв. м, максимальное - 409 кв м, медиана - 30 кв м.\n",
    "В целом цифры коррелируют со значениями общей площади."
   ]
  },
  {
   "cell_type": "code",
   "execution_count": null,
   "metadata": {},
   "outputs": [],
   "source": [
    "data['living_area'].hist(bins=100, range=(0, 60)) # строим гистограмму"
   ]
  },
  {
   "cell_type": "markdown",
   "metadata": {},
   "source": [
    "Видим, что основная масса значений лежит в диапазоне 15 - 50 кв. м, что выглядит реалистично.\n",
    "На графике можно отметить \"провал\" в районе площади 20-27 кв м - таких квартир очень мало в выборке."
   ]
  },
  {
   "cell_type": "markdown",
   "metadata": {},
   "source": [
    "*4.1.3 Площадь кухни*"
   ]
  },
  {
   "cell_type": "code",
   "execution_count": null,
   "metadata": {},
   "outputs": [],
   "source": [
    "data['kitchen_area'].describe() # выводим характеристики столбца."
   ]
  },
  {
   "cell_type": "markdown",
   "metadata": {},
   "source": [
    "Среднее арифметическое - 10,5 кв. м, стандартное отклонение - 6 кв., минимальное значение - 1,3 кв. м, максимальное - 112 кв м, медиана - 9 кв м.\n",
    "В целом цифры коррелируют со значениями общей площади и жилой площади."
   ]
  },
  {
   "cell_type": "code",
   "execution_count": null,
   "metadata": {},
   "outputs": [],
   "source": [
    "data['kitchen_area'].hist(bins=100, range=(0, 20)) # строим гистограмму"
   ]
  },
  {
   "cell_type": "markdown",
   "metadata": {},
   "source": [
    "Видим, что основная масса значений лежит в диапазоне 6 - 15 кв. м, что выглядит реалистично.\n",
    "Определенные значения площади кухни существенно более распространены (6, 8, 11 кв. м)"
   ]
  },
  {
   "cell_type": "markdown",
   "metadata": {},
   "source": [
    "*4.1.4 Цена объекта*"
   ]
  },
  {
   "cell_type": "code",
   "execution_count": null,
   "metadata": {},
   "outputs": [],
   "source": [
    "data['last_price'].describe() # выводим характеристики столбца"
   ]
  },
  {
   "cell_type": "markdown",
   "metadata": {},
   "source": [
    "Самый дорогой объект в выборке стоит 763 млн руб., самый дешевый - 430 тыс. руб., медианное значение цены - чуть больше 4,6 млн руб., что ожидаемо, учитывая локацию. Среднее значение (6,5 млн руб.) больше медианного за счет \"дорогих\" выбросов."
   ]
  },
  {
   "cell_type": "code",
   "execution_count": null,
   "metadata": {},
   "outputs": [],
   "source": [
    "data['last_price'].hist(bins=100, range=(1500000, 50000000), figsize=(10,10)) # строим гистограмму"
   ]
  },
  {
   "cell_type": "markdown",
   "metadata": {},
   "source": [
    "Гистограмма нечитабельна из-за длины чисел."
   ]
  },
  {
   "cell_type": "code",
   "execution_count": null,
   "metadata": {},
   "outputs": [],
   "source": [
    "data['last_price_mln'] = data['last_price'] / 1000000 # для удобства создадим столбец с ценой в миллионах рублей"
   ]
  },
  {
   "cell_type": "code",
   "execution_count": null,
   "metadata": {},
   "outputs": [],
   "source": [
    "data['last_price_mln'] = data['last_price_mln'].round(1) # округлим"
   ]
  },
  {
   "cell_type": "code",
   "execution_count": null,
   "metadata": {},
   "outputs": [],
   "source": [
    "data['last_price_mln'].hist(bins=50, range=(1, 50), figsize=(10,10)) # строим гистограмму по ценам в миллионах рублей"
   ]
  },
  {
   "cell_type": "markdown",
   "metadata": {},
   "source": [
    "Видим, что стоимость большинства квартир составляет около 5 млн руб."
   ]
  },
  {
   "cell_type": "markdown",
   "metadata": {},
   "source": [
    "*4.1.5 Количество комнат*"
   ]
  },
  {
   "cell_type": "code",
   "execution_count": null,
   "metadata": {},
   "outputs": [],
   "source": [
    "data['rooms'].describe() # выводим характеристики столбца."
   ]
  },
  {
   "cell_type": "markdown",
   "metadata": {},
   "source": [
    "Cреднее арифметическое - 2,1, стандартное отклонение - 1,1, минимальное значение - 1, максимальное - 19, медиана - 2, третий квартиль - 3.\n",
    "В целом цифры ожидаемые (квартиры с количеством комнат больше 10 были рассмотрены выше)"
   ]
  },
  {
   "cell_type": "code",
   "execution_count": null,
   "metadata": {},
   "outputs": [],
   "source": [
    "data['rooms'].hist(bins=20, range=(1, 5)) # строим гистограмму "
   ]
  },
  {
   "cell_type": "markdown",
   "metadata": {},
   "source": [
    "Видим, что основная масса квартир - однокомнатные и двухкомнатные, трехкомнатных квартир немного меньше, что выглядит реалистично."
   ]
  },
  {
   "cell_type": "markdown",
   "metadata": {},
   "source": [
    "*4.1.6 Высота потолков*"
   ]
  },
  {
   "cell_type": "code",
   "execution_count": null,
   "metadata": {},
   "outputs": [],
   "source": [
    "data['ceiling_height'].describe() # выводим характеристики столбца."
   ]
  },
  {
   "cell_type": "markdown",
   "metadata": {},
   "source": [
    "Среднее арифметическое - 2,7, стандартное отклонение - 0,3, минимальное значение - 2, максимальное - 8,3, медиана - 2,65, третий квартиль - 2,8. В целом цифры ожидаемые."
   ]
  },
  {
   "cell_type": "code",
   "execution_count": null,
   "metadata": {},
   "outputs": [],
   "source": [
    "data['ceiling_height'].hist(bins=20, range=(2, 3)) # строим гистограмму"
   ]
  },
  {
   "cell_type": "markdown",
   "metadata": {},
   "source": [
    "Видим, что основная масса квартир имеет высоту потолка 2,5 м и чуть больше, что выглядит реалистично. Вместе с тем, необходимо помнить, что в базе существенное количество строк (более 9 тыс.) имеют пропуски в столбце с высотой потолка."
   ]
  },
  {
   "cell_type": "markdown",
   "metadata": {},
   "source": [
    "*4.1.7 Этаж квартиры*"
   ]
  },
  {
   "cell_type": "code",
   "execution_count": null,
   "metadata": {},
   "outputs": [],
   "source": [
    "data['floor'].describe() #  выводим характеристики столбца."
   ]
  },
  {
   "cell_type": "markdown",
   "metadata": {},
   "source": [
    "Среднее арифметическое - 5,9, стандартное отклонение - 4,9, минимальное значение - 1, максимальное - 33, медиана - 4, третий квартиль - 8. В целом цифры ожидаемые."
   ]
  },
  {
   "cell_type": "code",
   "execution_count": null,
   "metadata": {},
   "outputs": [],
   "source": [
    "data['floor'].hist(bins=30, range=(1, 20)) # строим гистограмму"
   ]
  },
  {
   "cell_type": "markdown",
   "metadata": {},
   "source": [
    "Видим, что квартиры в основном расположены на 1-5 этажах."
   ]
  },
  {
   "cell_type": "markdown",
   "metadata": {},
   "source": [
    "*4.1.8 Тип этажа квартиры*"
   ]
  },
  {
   "cell_type": "code",
   "execution_count": null,
   "metadata": {},
   "outputs": [],
   "source": [
    "data['type_floor'].value_counts()"
   ]
  },
  {
   "cell_type": "markdown",
   "metadata": {},
   "source": [
    "Видим, что 73,5% квартир располагаются не на первом и не на последнем этаже. Квартир на последнем этаже чуть больше, чем на первом."
   ]
  },
  {
   "cell_type": "code",
   "execution_count": null,
   "metadata": {},
   "outputs": [],
   "source": [
    "data['type_floor'].hist(bins=3) "
   ]
  },
  {
   "cell_type": "markdown",
   "metadata": {},
   "source": [
    "Гистограмма отражает вышеуказанные цифры."
   ]
  },
  {
   "cell_type": "markdown",
   "metadata": {},
   "source": [
    "*4.1.9 Общее количество этажей в доме*"
   ]
  },
  {
   "cell_type": "code",
   "execution_count": null,
   "metadata": {},
   "outputs": [],
   "source": [
    "data['floors_total'].describe() # выводим характеристики столбца."
   ]
  },
  {
   "cell_type": "markdown",
   "metadata": {},
   "source": [
    "Среднее арифметическое - 10,7, стандартное отклонение - 6,6, минимальное значение - 1, максимальное - 60, медиана - 9, третий квартиль - 16. В целом цифры ожидаемые."
   ]
  },
  {
   "cell_type": "code",
   "execution_count": null,
   "metadata": {},
   "outputs": [],
   "source": [
    "data['floors_total'].hist(bins=8, range=(1, 15)) "
   ]
  },
  {
   "cell_type": "markdown",
   "metadata": {},
   "source": [
    "График показывает, что пяти- и девятиэтажек больше всего (ожидаемо)."
   ]
  },
  {
   "cell_type": "markdown",
   "metadata": {},
   "source": [
    "*4.1.10 Расстояние до центра города в метрах*"
   ]
  },
  {
   "cell_type": "code",
   "execution_count": null,
   "metadata": {},
   "outputs": [],
   "source": [
    "data['city_centers_nearest'].describe() # выводим характеристики столбца."
   ]
  },
  {
   "cell_type": "markdown",
   "metadata": {},
   "source": [
    "Среднее арифметическое - 14 194, стандартное отклонение - 8 614, минимальное значение - 181, максимальное - 65 968, медиана - 13 099, третий квартиль - 16 285. В основном квартиры расположены не в самом центре."
   ]
  },
  {
   "cell_type": "code",
   "execution_count": null,
   "metadata": {},
   "outputs": [],
   "source": [
    "data['city_centers_nearest'].hist(bins=30, range=(100, 30000)) "
   ]
  },
  {
   "cell_type": "markdown",
   "metadata": {},
   "source": [
    "На гистограмме видим, что квартир в 5 км от центра больше, чем, например, 7-8 км. В основном квартиры расположены в 13-15 км от центра."
   ]
  },
  {
   "cell_type": "markdown",
   "metadata": {},
   "source": [
    "*4.1.11 Расстояние до ближайшего аэропорта*"
   ]
  },
  {
   "cell_type": "code",
   "execution_count": null,
   "metadata": {},
   "outputs": [],
   "source": [
    "data['airports_nearest'].describe() # выводим характеристики столбца"
   ]
  },
  {
   "cell_type": "markdown",
   "metadata": {},
   "source": [
    "Среднее арифметическое - 28 799, стандартное отклонение - 12 633, минимальное значение - 6 450, максимальное - 84 869, медиана - 26 757, третий квартиль - 37 282.\n",
    "В основном квартиры расположены относительно далеко от аэропорта - в среднем 27-28 км (гораздо дальше, чем от центра города - аэропорт находится за городом)."
   ]
  },
  {
   "cell_type": "code",
   "execution_count": null,
   "metadata": {},
   "outputs": [],
   "source": [
    "data['airports_nearest'].hist(bins=30, range=(10000, 70000)) "
   ]
  },
  {
   "cell_type": "markdown",
   "metadata": {},
   "source": [
    "На гистограмме видим, что квартиры в основном расположены примерно в 15-35 км от ближайшего аэропорта."
   ]
  },
  {
   "cell_type": "markdown",
   "metadata": {},
   "source": [
    "*4.1.12 Расстояние до ближайшего парка*"
   ]
  },
  {
   "cell_type": "code",
   "execution_count": null,
   "metadata": {},
   "outputs": [],
   "source": [
    "data['parks_nearest'].describe() # выводим характеристики столбца."
   ]
  },
  {
   "cell_type": "markdown",
   "metadata": {},
   "source": [
    "Среднее арифметическое - 490, стандартное отклонение - 341, минимальное значение - 1, максимальное - 3 190, медиана - 455, третий квартиль - 612."
   ]
  },
  {
   "cell_type": "code",
   "execution_count": null,
   "metadata": {},
   "outputs": [],
   "source": [
    "data['parks_nearest'].hist(bins=30, range=(100, 1000))"
   ]
  },
  {
   "cell_type": "markdown",
   "metadata": {},
   "source": [
    "Судя по гистограмме, квартиры расположены гораздо ближе к паркам (400-600 м), чем к аэропорту/центру города, что ожидаемо."
   ]
  },
  {
   "cell_type": "markdown",
   "metadata": {},
   "source": [
    "*4.1.13 День и месяц публикации объявления*"
   ]
  },
  {
   "cell_type": "code",
   "execution_count": null,
   "metadata": {},
   "outputs": [],
   "source": [
    "data['weekday'].describe() # выводим характеристики столбца"
   ]
  },
  {
   "cell_type": "code",
   "execution_count": null,
   "metadata": {},
   "outputs": [],
   "source": [
    "data['weekday'].value_counts() "
   ]
  },
  {
   "cell_type": "markdown",
   "metadata": {},
   "source": [
    "Для удобства подсчитаем количество уникальных значений. Четверг - самый популярный день."
   ]
  },
  {
   "cell_type": "code",
   "execution_count": null,
   "metadata": {},
   "outputs": [],
   "source": [
    "data['weekday'].hist(bins=8, range=(0, 7)) "
   ]
  },
  {
   "cell_type": "markdown",
   "metadata": {},
   "source": [
    "На графике видим, что объявления публиковались практически равномерно в будние дни, в выходные - гораздо реже, что ожидаемо и логично."
   ]
  },
  {
   "cell_type": "code",
   "execution_count": null,
   "metadata": {},
   "outputs": [],
   "source": [
    "data['month'].value_counts() # для удобства подсчитаем количество уникальных значений месяца публикации объявления"
   ]
  },
  {
   "cell_type": "markdown",
   "metadata": {},
   "source": [
    "Самый популярный месяц - февраль. В декабре, январе и мае меньше всего публикаций (в этимх месяцах много праздников, декабрь - предновогодний месяц). Летом публикаций также меньше (сезон отпусков)."
   ]
  },
  {
   "cell_type": "code",
   "execution_count": null,
   "metadata": {},
   "outputs": [],
   "source": [
    "data['month'].hist(bins=30, range=(1, 12)) "
   ]
  },
  {
   "cell_type": "markdown",
   "metadata": {},
   "source": [
    "Гистограмма наглядно отражает вышеописанные особенности."
   ]
  },
  {
   "cell_type": "markdown",
   "metadata": {},
   "source": [
    "**Согласно результатам анализа, портрет среднестатистической квартиры таков:**\n",
    "- однушка или двушка на 1-5 этаже пяти- или девятиэтажки (квартир на первом и последнем этажах меньше, чем на промежуточных);\n",
    "- общая площадь около 45 кв. м;\n",
    "- жилая площадь около 20 кв. м;\n",
    "- площадь кухни около 6-10 кв. м;\n",
    "- цена - около 4,5 млн руб.;\n",
    "- потолок 2,5 м;\n",
    "- квартира расположена относительно недалеко от парка (пол-километра), однако не в центре города и в отдалении от аэропорта.\n",
    "Объявления в основном публикуются в будние дни, скорее не в летние и не в праздничные месяцы."
   ]
  },
  {
   "cell_type": "markdown",
   "metadata": {},
   "source": [
    "**4.2 Изучаем, как быстро продавались квартиры**"
   ]
  },
  {
   "cell_type": "code",
   "execution_count": null,
   "metadata": {},
   "outputs": [],
   "source": [
    "data['days_exposition'].hist(bins=70, range=(10, 700), figsize=(20,10)) # строим гистограмму."
   ]
  },
  {
   "cell_type": "markdown",
   "metadata": {},
   "source": [
    "Судя по графику, большое количество квартир продавалось через 40 и 60 дней. При этом основная масса - в срок, не превышающий 200 дней."
   ]
  },
  {
   "cell_type": "code",
   "execution_count": null,
   "metadata": {},
   "outputs": [],
   "source": [
    "data['days_exposition'].mean().round() # считаем округленное среднее"
   ]
  },
  {
   "cell_type": "code",
   "execution_count": null,
   "metadata": {},
   "outputs": [],
   "source": [
    "data['days_exposition'].median() # считаем медиану"
   ]
  },
  {
   "cell_type": "code",
   "execution_count": null,
   "metadata": {},
   "outputs": [],
   "source": [
    "data['days_exposition'].describe() # еще можно таким способом"
   ]
  },
  {
   "cell_type": "markdown",
   "metadata": {},
   "source": [
    "Исходя из вышеотраженных данных, продажа квартиры занимает в среднем около 6 месяцев (в большинстве случаев - 1-3,5 месяца). Быстрыми продажами можно считать сделки в пределах месяца. Необычно долгие продажи - после 8-9 месяцев."
   ]
  },
  {
   "cell_type": "markdown",
   "metadata": {},
   "source": [
    "**4.3  Определяем факторы, которые больше всего влияют на общую (полную) стоимость объекта**"
   ]
  },
  {
   "cell_type": "markdown",
   "metadata": {},
   "source": [
    "*4.3.1 Корреляция цены и общей площади*"
   ]
  },
  {
   "cell_type": "code",
   "execution_count": null,
   "metadata": {},
   "outputs": [],
   "source": [
    "print(data['last_price_mln'].corr(data['total_area']))"
   ]
  },
  {
   "cell_type": "markdown",
   "metadata": {},
   "source": [
    "Корреляция (коэффициент Пирсона) 0.65 говорит о наличии связи, но не слишком сильной (используем цены в миллионах для удобства здесь и далее)."
   ]
  },
  {
   "cell_type": "code",
   "execution_count": null,
   "metadata": {},
   "outputs": [],
   "source": [
    "data.plot(x='total_area', y='last_price_mln', style='o', kind='scatter', xlim=(20, 400), ylim=(0, 50), grid=True, figsize=(8, 10))"
   ]
  },
  {
   "cell_type": "markdown",
   "metadata": {},
   "source": [
    "На графике видим, что в выборке есть дорогие (дороже 20 млн руб.) квартиры как большой площади (более 200 кв м), так и относительно небольшие (100-150 кв м). Видим, что квартира стоимостью 40 млн руб, например, может быть площадью как 70 кв м, так и 300 кв м."
   ]
  },
  {
   "cell_type": "markdown",
   "metadata": {},
   "source": [
    "*4.3.2 Корреляция цены и жилой площади* "
   ]
  },
  {
   "cell_type": "code",
   "execution_count": null,
   "metadata": {},
   "outputs": [],
   "source": [
    "print(data['last_price_mln'].corr(data['living_area']))"
   ]
  },
  {
   "cell_type": "markdown",
   "metadata": {},
   "source": [
    "Корреляция (коэффициент Пирсона) - 0,585 меньше, чем корреляция цены с общей площадью. Связь сохраняется, но она чуть менее прямая."
   ]
  },
  {
   "cell_type": "code",
   "execution_count": null,
   "metadata": {},
   "outputs": [],
   "source": [
    "data.plot(x='living_area', y='last_price_mln', style='o', kind='scatter', xlim=(15, 200), ylim=(0, 50), grid=True, figsize=(8, 11))"
   ]
  },
  {
   "cell_type": "markdown",
   "metadata": {},
   "source": [
    "График напоминает график соотношения общей площади и цены и выглядит логично на фоне более низкого коэффициента корреляции.\n",
    "В выборке небольших дорогих квартир не меньше, чем больших."
   ]
  },
  {
   "cell_type": "markdown",
   "metadata": {},
   "source": [
    "*4.3.3 Корреляция цены и площади кухни*"
   ]
  },
  {
   "cell_type": "code",
   "execution_count": null,
   "metadata": {},
   "outputs": [],
   "source": [
    "print(data['last_price_mln'].corr(data['kitchen_area']))"
   ]
  },
  {
   "cell_type": "markdown",
   "metadata": {},
   "source": [
    "Корреляция (коэффициент Пирсона) еще меньше - 0.51. Площадь кухни является менее существенным фактором, нежели общая площадь и жилая площадь."
   ]
  },
  {
   "cell_type": "code",
   "execution_count": null,
   "metadata": {},
   "outputs": [],
   "source": [
    "data.plot(x='kitchen_area', y='last_price_mln', style='o', kind='scatter', xlim=(5, 50), ylim=(0, 50), grid=True, figsize=(8, 10))"
   ]
  },
  {
   "cell_type": "markdown",
   "metadata": {},
   "source": [
    "График напоминает графики соотношения общей/жилой площади и цены и выглядит логично на фоне еще более низкого коэффициента корреляции.\n",
    "В выборке дорогих квартир с небольшой кухней не меньше, чем с большой."
   ]
  },
  {
   "cell_type": "markdown",
   "metadata": {},
   "source": [
    "*4.3.4 Корреляция цены и количества комнат*"
   ]
  },
  {
   "cell_type": "code",
   "execution_count": null,
   "metadata": {},
   "outputs": [],
   "source": [
    "print(data['rooms'].corr(data['last_price_mln']))"
   ]
  },
  {
   "cell_type": "markdown",
   "metadata": {},
   "source": [
    "Корреляция (коэффициент Пирсона) слабая -  само по себе большое количество комнат не сильно увеличивает стоимость."
   ]
  },
  {
   "cell_type": "code",
   "execution_count": null,
   "metadata": {},
   "outputs": [],
   "source": [
    "data_pivot_r = data.pivot_table(index=['rooms'], values='last_price_mln', aggfunc=['count', 'median']) # создадим сводную таблицу\n",
    "data_pivot_r"
   ]
  },
  {
   "cell_type": "markdown",
   "metadata": {},
   "source": [
    "Видим, что 1-3 комнатные квартиры составляют основную часть выборки - при этом медианная цена ожидаемо растет с увеличением количества квартир."
   ]
  },
  {
   "cell_type": "code",
   "execution_count": null,
   "metadata": {},
   "outputs": [],
   "source": [
    "data_pivot_r.plot(kind='bar', ylim=(0, 5000), figsize=(10,10)) # строим диаграмму по данным сводной таблицы"
   ]
  },
  {
   "cell_type": "markdown",
   "metadata": {},
   "source": [
    "Видим, что 1-3 комнатные квартиры составляют подавляющее большинство объектов. Медианная цена 12-комнатной квартиры выделяется за счет выброса (такая квартира в выборке всего одна). "
   ]
  },
  {
   "cell_type": "markdown",
   "metadata": {},
   "source": [
    "*4.3.5 Корреляция цены и этажа, на котором расположена квартира (первый, последний, другой)*"
   ]
  },
  {
   "cell_type": "code",
   "execution_count": null,
   "metadata": {},
   "outputs": [],
   "source": [
    "data_pivot_f = data.pivot_table(index=['type_floor'], values='last_price_mln', aggfunc=['median']) # создаем сводную таблицу\n",
    "data_pivot_f"
   ]
  },
  {
   "cell_type": "code",
   "execution_count": null,
   "metadata": {},
   "outputs": [],
   "source": [
    "data_pivot_f.plot()"
   ]
  },
  {
   "cell_type": "markdown",
   "metadata": {},
   "source": [
    "Медианная цена квартир, находящихся не на первом и не напоследнем этаже, выше на 10-20%. Квартиры на первом этаже в среднем дешевле квартир на последнем этаже, что ожидаемо."
   ]
  },
  {
   "cell_type": "markdown",
   "metadata": {},
   "source": [
    "*4.3.6 Корреляция цены и даты размещения (день недели, месяц, год)*"
   ]
  },
  {
   "cell_type": "code",
   "execution_count": null,
   "metadata": {},
   "outputs": [],
   "source": [
    "data_pivot_w = data.pivot_table(index=['weekday'], values='last_price_mln', aggfunc=['median']) # создаем сводную таблицу\n",
    "data_pivot_w"
   ]
  },
  {
   "cell_type": "code",
   "execution_count": null,
   "metadata": {},
   "outputs": [],
   "source": [
    "data_pivot_w_1 = data.pivot_table(index=['weekday'], values='last_price_mln', aggfunc=['count'])\n",
    "data_pivot_w_1"
   ]
  },
  {
   "cell_type": "code",
   "execution_count": null,
   "metadata": {},
   "outputs": [],
   "source": [
    "data_pivot_w.plot()"
   ]
  },
  {
   "cell_type": "code",
   "execution_count": null,
   "metadata": {},
   "outputs": [],
   "source": [
    "print(data['last_price_mln'].corr(data['weekday'])) "
   ]
  },
  {
   "cell_type": "markdown",
   "metadata": {},
   "source": [
    "Корреляции почти нет. Видим, что цена почти не зависит от дня недели, в который было размещено объявление (это логично)."
   ]
  },
  {
   "cell_type": "code",
   "execution_count": null,
   "metadata": {},
   "outputs": [],
   "source": [
    "data_pivot_m = data.pivot_table(index=['month'], values='last_price_mln', aggfunc=['median'])\n",
    "data_pivot_m"
   ]
  },
  {
   "cell_type": "code",
   "execution_count": null,
   "metadata": {},
   "outputs": [],
   "source": [
    "print(data['last_price_mln'].corr(data['month'])) "
   ]
  },
  {
   "cell_type": "markdown",
   "metadata": {},
   "source": [
    "Корреляции почти нет"
   ]
  },
  {
   "cell_type": "code",
   "execution_count": null,
   "metadata": {},
   "outputs": [],
   "source": [
    "data_pivot_m.plot()"
   ]
  },
  {
   "cell_type": "markdown",
   "metadata": {},
   "source": [
    "По итогам анализа видим, что корреляции цены и месяца нет - в середине года цена немного проседала, однако диапазон колебаний медианных значений невелик."
   ]
  },
  {
   "cell_type": "code",
   "execution_count": null,
   "metadata": {},
   "outputs": [],
   "source": [
    "data_pivot_y = data.pivot_table(index=['year'], values='last_price_mln', aggfunc=['median'])\n",
    "data_pivot_y"
   ]
  },
  {
   "cell_type": "markdown",
   "metadata": {},
   "source": [
    "Медианная цена в 2014 году была подозрительно высокой относительно других лет. 2015 год выше остальных лет (кроме 2014)."
   ]
  },
  {
   "cell_type": "code",
   "execution_count": null,
   "metadata": {},
   "outputs": [],
   "source": [
    "data_pivot_y.plot()"
   ]
  },
  {
   "cell_type": "code",
   "execution_count": null,
   "metadata": {},
   "outputs": [],
   "source": [
    "data_pivot_y_1 = data.pivot_table(index=['year'], values='last_price_mln', aggfunc=['count'])\n",
    "data_pivot_y_1"
   ]
  },
  {
   "cell_type": "code",
   "execution_count": null,
   "metadata": {},
   "outputs": [],
   "source": [
    "data_pivot_y_1.plot()"
   ]
  },
  {
   "cell_type": "markdown",
   "metadata": {},
   "source": [
    "Видим, что данные за 2014-2015 не показательны (особенно за 2014 год) - выборка объявлений очень маленькая.\n",
    "Медианная цена в 2016-2019 году (наибольшее количество объявлений) существенно не отличалась, лишь в 2019 году стала немного больше (возможно, из-за инфляции).\n",
    "Таким образом, сформировать однозначный вывод о существенной зависимости цены от года не представляется возможным.\n",
    "Однако, указанное обусловлено относительно коротким временным промежутком (2014-2019 гг.).\n",
    "Вероятно, на более длинной дистанции корреляция была бы более очевидной."
   ]
  },
  {
   "cell_type": "markdown",
   "metadata": {},
   "source": [
    "В целом, если говорить о наиболее существенных факторах, влияющих на цену, из отраженных в задании, это общая площадь и жилая площадь квартиры. Большее количество комнат, большая площадь кухни и нахождение не на первом/последнем этаже также увеличивает стоимость, но не так линейно.\n",
    "Возможно предположить, что существенное влияние на стоимость также оказывает близость к центру города, год постройки дома (отсутствует в базе) и неколичественные параметры (престижность района и уровень его инфраструктурной развитости, класс и состояние жилого комплекса/дома, качество отделки/ремонта квартиры)."
   ]
  },
  {
   "cell_type": "markdown",
   "metadata": {},
   "source": [
    "**4.4 Определяем среднюю цену одного квадратного метра в 10 населённых пунктах с наибольшим числом объявлений**"
   ]
  },
  {
   "cell_type": "code",
   "execution_count": null,
   "metadata": {},
   "outputs": [],
   "source": [
    "data['locality_name'].value_counts().head(10) # определим 10 населенных пунктов с наибольшим числом объявлений."
   ]
  },
  {
   "cell_type": "markdown",
   "metadata": {},
   "source": [
    "Санкт-Петербург ожидаемо лидирует с большим отрывом."
   ]
  },
  {
   "cell_type": "code",
   "execution_count": null,
   "metadata": {},
   "outputs": [],
   "source": [
    "top_10 = data.query('locality_name in [\"Санкт-Петербург\", \"поселок Мурино\", \"поселок Шушары\", \"Всеволожск\", \"Пушкин\", \"Колпино\", \"поселок Парголово\", \"Гатчина\", \"деревня Кудрово\", \"Выборг\"]')\n",
    "# сделаем срез из основной базы данных"
   ]
  },
  {
   "cell_type": "code",
   "execution_count": null,
   "metadata": {},
   "outputs": [],
   "source": [
    "avg_meter = top_10['meter_price'].mean().round() # найдем среднее значение и округлим\n",
    "avg_meter"
   ]
  },
  {
   "cell_type": "markdown",
   "metadata": {},
   "source": [
    "Cредняя цена одного квадратного метра в 10 населённых пунктах с наибольшим числом объявлений - 108 972 рубля."
   ]
  },
  {
   "cell_type": "code",
   "execution_count": null,
   "metadata": {},
   "outputs": [],
   "source": [
    "top_10_meter = top_10.pivot_table(index=['locality_name'], values='meter_price', aggfunc=['mean']) # строим сводную таблицу\n",
    "top_10_meter.columns = ['avg_meter_price']\n",
    "top_10_meter['avg_meter_price'] = top_10_meter['avg_meter_price'].round()\n",
    "top_10_meter.sort_values(by='avg_meter_price', ascending=False)"
   ]
  },
  {
   "cell_type": "markdown",
   "metadata": {},
   "source": [
    "С помощью сводной таблицы определяем среднюю стоимость квадратного метра по населенным пунктам, затем сортируем данные.\n",
    "Населённый пункт с самой высокой стоимостью квадратного метра - Санкт-Петербург (114 808 руб.), самой низкой - Выборг (58 142 руб.).\n",
    "Предположительно, данный факт обусловлен тем, что Выборг - самый отдаленный от Санкт-Петербурга населенный пункт в выборке."
   ]
  },
  {
   "cell_type": "markdown",
   "metadata": {},
   "source": [
    "**4.5 Анализируем изменения цены квадратного метра в Санкт-Петербурге для каждого километра по степени удалённости от центра**"
   ]
  },
  {
   "cell_type": "code",
   "execution_count": null,
   "metadata": {},
   "outputs": [],
   "source": [
    "spb = data.loc[data['locality_name'] == 'Санкт-Петербург'] # отберем квартиры, расположенные в Санкт-Петербурге"
   ]
  },
  {
   "cell_type": "code",
   "execution_count": null,
   "metadata": {},
   "outputs": [],
   "source": [
    "spb_km = spb.pivot_table(index=['centre_km'], values='meter_price', aggfunc=['mean']) # вычисляем среднюю цену метра на каждый километр удаленности от центра Санкт-Петербурга\n",
    "spb_km.columns = ['avg_meter_price_centre'] # переименовываем столбец\n",
    "spb_km['avg_meter_price_centre'] = spb_km['avg_meter_price_centre'].round() # округляем значения\n",
    "spb_km # выводим на экран"
   ]
  },
  {
   "cell_type": "code",
   "execution_count": null,
   "metadata": {},
   "outputs": [],
   "source": [
    "spb_km.plot() # строим график"
   ]
  },
  {
   "cell_type": "markdown",
   "metadata": {},
   "source": [
    "График в целом отражает обратную зависимость расстояния от центра города и стоимости квадратного метра.\n",
    "Вместе с тем, по отдельным \"километрам\" наблюдаются скачки стоимости, обусловленные присутствием на данном расстоянии объектов, превосходящих по иным характеристикам более близкие к центру объекты.\n",
    "Так, например, в 27 км от центра цена составляет 132,1 тыс. руб. - больше, чем в 8 км от центра.\n",
    "Стоимость квадратного метра по мере отдаления от центра меняется нелинейно - где-то шаг составляет 20-30 тыс. руб., в иных случаях - 3-5 тыс. руб."
   ]
  },
  {
   "cell_type": "code",
   "execution_count": null,
   "metadata": {},
   "outputs": [],
   "source": [
    "spb_km_1 = spb.pivot_table(index=['centre_km'], values='meter_price', aggfunc=['count'])\n",
    "spb_km_1 # выведем распределение количества объектов по километрам, полученное с помощью сводной таблицы"
   ]
  },
  {
   "cell_type": "markdown",
   "metadata": {},
   "source": [
    "Мы видим, что выборка не симметрична - объектов ближе 10 км и дальше 19 км от центра относительно немного, в связи с чем средние данные по ним могут быть искажены под влиянием иных параметров (например, 20 и 27 км)."
   ]
  },
  {
   "cell_type": "markdown",
   "metadata": {},
   "source": [
    "### Общий вывод"
   ]
  },
  {
   "cell_type": "markdown",
   "metadata": {},
   "source": [
    "В ходе выполнения проекта было проведено исследование объявлений о продаже квартир в Санкт-Петербурге и соседних населённых пунктах за несколько лет. Задача анализа — установить параметры для определения рыночной стоимости в целях последующего построения автоматизированной системы. \n",
    "\n",
    "*В процессе работы*:\n",
    "- были выявлены и удалены/заполнены пропущенные значения;\n",
    "- изменены типы данных в некоторых столбцах;\n",
    "- устранены неявные дубликаты в названиях населенных пунктов, а также аномальные значения в отдельных столбцах;\n",
    "- в таблицу добавлены дополнительные расчетные показатели.\n",
    "В целом можно отметить, что предобработка данных **существенным образом выборку не изменила** (удалено менее 1% записей), при этом ряд оставшихся **пропусков** (столбцы с расстоянием до центра города, ближайшего парка, аэропорта, водоема) не исказил результаты анализа (причина данных пропусков носит технический характер, кроме того, возможно в электронном справочнике по ряду населенных пунктов просто отсутствует точка центра города, не все парки и водоемы отмечены). Также пропуски **остались** в столбце с высотой потолка (учитывая их существенную долю от общего количества (около 40% или более 9 тыс.), соответствующей замены не нашлось).\n",
    "\n",
    "*По итогам анализа установлено следующее*:\n",
    "\n",
    "1. **Портрет среднестатистической квартиры таков**:\n",
    "- однушка или двушка на 1-5 этаже пяти- или девятиэтажки (квартир на первом и последнем этажах меньше, чем на промежуточных);\n",
    "- общая площадь около 45 кв. м;\n",
    "- жилая площадь около 20 кв. м;\n",
    "- площадь кухни около 6-10 кв. м;\n",
    "- цена - около 4,5 млн руб.;\n",
    "- высота потолка - около 2,5 м;\n",
    "- квартира расположена в Санкт-Петербурге относительно недалеко от парка (400-600 м), однако явно не в центре города (в 13-15 км) и в отдалении от аэропорта (15-35 км).\n",
    "Объявления в основном публикуются в будние дни, скорее не в летние и не в праздничные месяцы.\n",
    "\n",
    "2. Продажа квартиры занимает **в большинстве случаев** 1-3,5 месяца. **Быстрыми** продажами можно считать сделки в пределах месяца. **Необычно долгие продажи** - после 8-9 месяцев.\n",
    "\n",
    "\n",
    "3. Если говорить о **наиболее существенных факторах**, влияющих на цену, из отраженных в задании, это:\n",
    "- **общая площадь и жилая площадь квартиры**. Корреляция - 0,65 и 0,585, соответственно;\n",
    "- **большее количество комнат** (корреляция с ценой - 0,37), **большая площадь кухни** (корреляция с ценой - 0,51) и **нахождение не на первом/последнем этаже** (в меньшей степени) также увеличивает стоимость, но не так линейно (возможно, для установления более четкой корреляции необходим анализ по более симметричной выборке).\n",
    "\n",
    "Возможно предположить, что **существенное влияние** на стоимость также оказывает год постройки дома (отсутствует в базе) и неколичественные параметры (престижность района и уровень его инфраструктурной развитости, класс и состояние жилого комплекса/дома, качество отделки/ремонта квартиры), также отсутствующие в базе данных.\n",
    "\n",
    "4. **Близость к центру Санкт-Петербурга** в целом **положительно коррелирует** со стоимостью квартиры - стоимость квадратного метра по мере отдаления от центра снижается нелинейно - где-то шаг на 1 км составляет 20-30 тыс. руб., в иных случаях - 3-5 тыс. руб. (вместе с тем выборка **не в полной мере симметрична** - квартир близко к центру и совсем далеко от центра относительно немного). Кроме того, предположительно **расстояние иных населенных пунктов до Санкт-Петербурга** также имеет значение - например, в Выборге (находится дальше всех из числа наиболее популярных населенных пунктов) в среднем **самые дешевые квартиры** (58,1 тыс. руб. за 1 кв. м), **самые дорогие** - в Санкт-Петербурге - 114,8 тыс. руб. за 1 кв. м (вместе с тем, по данному вопросу целесообразно провести дополнительное исследование - возможно, дело не только в отдаленности от Санкт-Петербурга, но и в иных сопутствующих факторах (старый жилой фонд, неразвитая инфраструктура и т.д.)).\n",
    "\n",
    "5. **Целесообразно** добавить в базу сведения о годе постройки дома и включить их в анализ - на мой взгляд, этот фактор мог бы стать одним из ключевых в части влияния на цену квартиры.\n",
    "Кроме того, существенное влияние на стоимость могут оказывать вышеотмеченные качественные показатели, **отсутствующие в базе** (как минимум могли бы объяснить ряд выявленных фактов/тенденций)."
   ]
  }
 ],
 "metadata": {
  "ExecuteTimeLog": [
   {
    "duration": 724,
    "start_time": "2022-12-20T15:19:32.759Z"
   },
   {
    "duration": 98,
    "start_time": "2022-12-20T15:20:00.805Z"
   },
   {
    "duration": 5,
    "start_time": "2022-12-20T15:26:50.755Z"
   },
   {
    "duration": 400,
    "start_time": "2022-12-20T15:28:18.764Z"
   },
   {
    "duration": 11,
    "start_time": "2022-12-20T15:28:59.396Z"
   },
   {
    "duration": 96,
    "start_time": "2022-12-20T15:55:28.208Z"
   },
   {
    "duration": 5,
    "start_time": "2022-12-20T15:55:39.592Z"
   },
   {
    "duration": 33,
    "start_time": "2022-12-20T15:57:12.436Z"
   },
   {
    "duration": 86,
    "start_time": "2022-12-20T15:57:32.307Z"
   },
   {
    "duration": 86,
    "start_time": "2022-12-20T16:00:40.147Z"
   },
   {
    "duration": 92,
    "start_time": "2022-12-20T16:02:44.041Z"
   },
   {
    "duration": 86,
    "start_time": "2022-12-20T16:03:10.529Z"
   },
   {
    "duration": 165,
    "start_time": "2022-12-20T16:08:45.870Z"
   },
   {
    "duration": 83,
    "start_time": "2022-12-20T16:09:09.323Z"
   },
   {
    "duration": 59,
    "start_time": "2022-12-20T16:10:57.563Z"
   },
   {
    "duration": 83,
    "start_time": "2022-12-20T16:11:06.251Z"
   },
   {
    "duration": 85,
    "start_time": "2022-12-20T16:13:28.572Z"
   },
   {
    "duration": 90,
    "start_time": "2022-12-20T16:17:49.125Z"
   },
   {
    "duration": 89,
    "start_time": "2022-12-20T16:17:54.581Z"
   },
   {
    "duration": 85,
    "start_time": "2022-12-20T16:18:27.414Z"
   },
   {
    "duration": 83,
    "start_time": "2022-12-20T16:23:11.143Z"
   },
   {
    "duration": 83,
    "start_time": "2022-12-20T16:23:24.454Z"
   },
   {
    "duration": 84,
    "start_time": "2022-12-20T16:26:30.345Z"
   },
   {
    "duration": 871,
    "start_time": "2022-12-20T16:27:18.972Z"
   },
   {
    "duration": 98,
    "start_time": "2022-12-20T16:27:24.473Z"
   },
   {
    "duration": 80,
    "start_time": "2022-12-20T16:27:32.178Z"
   },
   {
    "duration": 80,
    "start_time": "2022-12-20T16:29:43.194Z"
   },
   {
    "duration": 47,
    "start_time": "2022-12-20T16:32:31.754Z"
   },
   {
    "duration": 82,
    "start_time": "2022-12-20T16:33:21.300Z"
   },
   {
    "duration": 42,
    "start_time": "2022-12-20T16:34:05.059Z"
   },
   {
    "duration": 109,
    "start_time": "2022-12-20T16:36:57.884Z"
   },
   {
    "duration": 95,
    "start_time": "2022-12-20T16:46:39.655Z"
   },
   {
    "duration": 106,
    "start_time": "2022-12-20T16:47:24.647Z"
   },
   {
    "duration": 21,
    "start_time": "2022-12-20T16:47:29.335Z"
   },
   {
    "duration": 1852,
    "start_time": "2022-12-20T17:26:00.908Z"
   },
   {
    "duration": 3,
    "start_time": "2022-12-20T17:34:32.517Z"
   },
   {
    "duration": 10,
    "start_time": "2022-12-20T17:37:50.042Z"
   },
   {
    "duration": 4,
    "start_time": "2022-12-20T18:01:30.125Z"
   },
   {
    "duration": 14,
    "start_time": "2022-12-20T18:02:22.427Z"
   },
   {
    "duration": 4,
    "start_time": "2022-12-20T18:02:28.843Z"
   },
   {
    "duration": 10,
    "start_time": "2022-12-20T18:04:10.085Z"
   },
   {
    "duration": 6,
    "start_time": "2022-12-20T18:04:15.964Z"
   },
   {
    "duration": 6,
    "start_time": "2022-12-20T18:07:11.749Z"
   },
   {
    "duration": 6,
    "start_time": "2022-12-20T18:13:42.104Z"
   },
   {
    "duration": 25,
    "start_time": "2022-12-20T18:15:03.680Z"
   },
   {
    "duration": 5,
    "start_time": "2022-12-20T18:15:33.616Z"
   },
   {
    "duration": 14,
    "start_time": "2022-12-20T18:16:27.576Z"
   },
   {
    "duration": 17,
    "start_time": "2022-12-20T18:18:18.465Z"
   },
   {
    "duration": 9,
    "start_time": "2022-12-20T18:19:42.177Z"
   },
   {
    "duration": 57,
    "start_time": "2022-12-21T14:17:35.522Z"
   },
   {
    "duration": 448,
    "start_time": "2022-12-21T14:17:50.308Z"
   },
   {
    "duration": 340,
    "start_time": "2022-12-21T14:17:50.760Z"
   },
   {
    "duration": 122,
    "start_time": "2022-12-21T14:17:51.102Z"
   },
   {
    "duration": 32,
    "start_time": "2022-12-21T14:17:51.226Z"
   },
   {
    "duration": 2920,
    "start_time": "2022-12-21T14:17:51.262Z"
   },
   {
    "duration": 11,
    "start_time": "2022-12-21T14:17:54.185Z"
   },
   {
    "duration": 133,
    "start_time": "2022-12-21T14:17:54.198Z"
   },
   {
    "duration": 1,
    "start_time": "2022-12-21T14:17:54.333Z"
   },
   {
    "duration": 736,
    "start_time": "2022-12-21T14:18:29.589Z"
   },
   {
    "duration": 7,
    "start_time": "2022-12-21T14:18:50.278Z"
   },
   {
    "duration": 17,
    "start_time": "2022-12-21T14:20:24.371Z"
   },
   {
    "duration": 23,
    "start_time": "2022-12-21T14:20:33.530Z"
   },
   {
    "duration": 374,
    "start_time": "2022-12-21T14:20:53.836Z"
   },
   {
    "duration": 100,
    "start_time": "2022-12-21T14:20:54.212Z"
   },
   {
    "duration": 121,
    "start_time": "2022-12-21T14:20:54.314Z"
   },
   {
    "duration": 17,
    "start_time": "2022-12-21T14:20:54.437Z"
   },
   {
    "duration": 2469,
    "start_time": "2022-12-21T14:20:54.456Z"
   },
   {
    "duration": 9,
    "start_time": "2022-12-21T14:20:56.928Z"
   },
   {
    "duration": 83,
    "start_time": "2022-12-21T14:20:56.939Z"
   },
   {
    "duration": 0,
    "start_time": "2022-12-21T14:20:57.024Z"
   },
   {
    "duration": 21,
    "start_time": "2022-12-21T14:21:41.823Z"
   },
   {
    "duration": 10,
    "start_time": "2022-12-21T14:21:53.583Z"
   },
   {
    "duration": 21,
    "start_time": "2022-12-21T14:21:59.726Z"
   },
   {
    "duration": 11,
    "start_time": "2022-12-21T14:23:09.927Z"
   },
   {
    "duration": 8,
    "start_time": "2022-12-21T14:23:20.094Z"
   },
   {
    "duration": 16,
    "start_time": "2022-12-21T14:23:26.215Z"
   },
   {
    "duration": 377,
    "start_time": "2022-12-21T14:24:13.384Z"
   },
   {
    "duration": 6,
    "start_time": "2022-12-21T14:24:27.293Z"
   },
   {
    "duration": 436,
    "start_time": "2022-12-21T14:24:47.494Z"
   },
   {
    "duration": 99,
    "start_time": "2022-12-21T14:24:47.933Z"
   },
   {
    "duration": 100,
    "start_time": "2022-12-21T14:24:48.034Z"
   },
   {
    "duration": 16,
    "start_time": "2022-12-21T14:24:48.136Z"
   },
   {
    "duration": 2388,
    "start_time": "2022-12-21T14:24:48.154Z"
   },
   {
    "duration": 11,
    "start_time": "2022-12-21T14:24:50.544Z"
   },
   {
    "duration": 16,
    "start_time": "2022-12-21T14:24:50.558Z"
   },
   {
    "duration": 4,
    "start_time": "2022-12-21T14:24:50.576Z"
   },
   {
    "duration": 6,
    "start_time": "2022-12-21T14:26:22.358Z"
   },
   {
    "duration": 1630,
    "start_time": "2022-12-21T14:27:03.072Z"
   },
   {
    "duration": 647,
    "start_time": "2022-12-21T14:27:42.960Z"
   },
   {
    "duration": 385,
    "start_time": "2022-12-21T14:27:55.534Z"
   },
   {
    "duration": 575,
    "start_time": "2022-12-21T14:28:10.524Z"
   },
   {
    "duration": 17,
    "start_time": "2022-12-21T14:29:24.015Z"
   },
   {
    "duration": 29,
    "start_time": "2022-12-21T14:31:47.039Z"
   },
   {
    "duration": 28,
    "start_time": "2022-12-21T14:32:28.905Z"
   },
   {
    "duration": 20,
    "start_time": "2022-12-21T14:34:53.682Z"
   },
   {
    "duration": 17,
    "start_time": "2022-12-21T14:40:56.620Z"
   },
   {
    "duration": 30,
    "start_time": "2022-12-21T14:41:12.628Z"
   },
   {
    "duration": 103,
    "start_time": "2022-12-21T14:43:18.668Z"
   },
   {
    "duration": 32,
    "start_time": "2022-12-21T14:44:01.148Z"
   },
   {
    "duration": 18,
    "start_time": "2022-12-21T14:44:23.966Z"
   },
   {
    "duration": 11,
    "start_time": "2022-12-21T14:46:58.064Z"
   },
   {
    "duration": 9,
    "start_time": "2022-12-21T14:47:14.437Z"
   },
   {
    "duration": 6,
    "start_time": "2022-12-21T14:48:09.819Z"
   },
   {
    "duration": 5,
    "start_time": "2022-12-21T14:53:22.962Z"
   },
   {
    "duration": 8,
    "start_time": "2022-12-21T14:53:35.718Z"
   },
   {
    "duration": 5,
    "start_time": "2022-12-21T14:54:11.015Z"
   },
   {
    "duration": 15,
    "start_time": "2022-12-21T15:00:14.490Z"
   },
   {
    "duration": 9,
    "start_time": "2022-12-21T15:00:40.114Z"
   },
   {
    "duration": 10,
    "start_time": "2022-12-21T15:02:24.540Z"
   },
   {
    "duration": 12,
    "start_time": "2022-12-21T15:03:05.131Z"
   },
   {
    "duration": 8,
    "start_time": "2022-12-21T15:03:43.426Z"
   },
   {
    "duration": 5,
    "start_time": "2022-12-21T15:03:53.314Z"
   },
   {
    "duration": 6,
    "start_time": "2022-12-21T15:03:57.101Z"
   },
   {
    "duration": 7,
    "start_time": "2022-12-21T15:03:59.764Z"
   },
   {
    "duration": 5,
    "start_time": "2022-12-21T15:27:42.459Z"
   },
   {
    "duration": 11,
    "start_time": "2022-12-21T15:27:46.875Z"
   },
   {
    "duration": 11,
    "start_time": "2022-12-21T15:29:29.165Z"
   },
   {
    "duration": 15,
    "start_time": "2022-12-21T15:32:30.415Z"
   },
   {
    "duration": 9,
    "start_time": "2022-12-21T15:32:53.821Z"
   },
   {
    "duration": 8,
    "start_time": "2022-12-21T15:33:09.975Z"
   },
   {
    "duration": 7,
    "start_time": "2022-12-21T15:33:35.606Z"
   },
   {
    "duration": 6,
    "start_time": "2022-12-21T15:33:37.622Z"
   },
   {
    "duration": 7,
    "start_time": "2022-12-21T15:33:56.565Z"
   },
   {
    "duration": 10,
    "start_time": "2022-12-21T15:44:46.017Z"
   },
   {
    "duration": 9,
    "start_time": "2022-12-21T15:45:47.561Z"
   },
   {
    "duration": 10,
    "start_time": "2022-12-21T15:46:37.025Z"
   },
   {
    "duration": 11,
    "start_time": "2022-12-21T15:46:52.314Z"
   },
   {
    "duration": 12,
    "start_time": "2022-12-21T15:46:58.041Z"
   },
   {
    "duration": 10,
    "start_time": "2022-12-21T15:48:26.242Z"
   },
   {
    "duration": 11,
    "start_time": "2022-12-21T15:50:42.123Z"
   },
   {
    "duration": 11,
    "start_time": "2022-12-21T15:51:12.459Z"
   },
   {
    "duration": 10,
    "start_time": "2022-12-21T16:04:44.520Z"
   },
   {
    "duration": 11,
    "start_time": "2022-12-21T16:11:05.437Z"
   },
   {
    "duration": 30,
    "start_time": "2022-12-21T16:13:56.539Z"
   },
   {
    "duration": 28,
    "start_time": "2022-12-21T16:15:14.087Z"
   },
   {
    "duration": 489,
    "start_time": "2022-12-21T16:15:57.132Z"
   },
   {
    "duration": 134,
    "start_time": "2022-12-21T16:15:57.626Z"
   },
   {
    "duration": 149,
    "start_time": "2022-12-21T16:15:57.762Z"
   },
   {
    "duration": 22,
    "start_time": "2022-12-21T16:15:57.913Z"
   },
   {
    "duration": 3697,
    "start_time": "2022-12-21T16:15:57.937Z"
   },
   {
    "duration": 15,
    "start_time": "2022-12-21T16:16:01.637Z"
   },
   {
    "duration": 51,
    "start_time": "2022-12-21T16:16:01.654Z"
   },
   {
    "duration": 27,
    "start_time": "2022-12-21T16:16:01.707Z"
   },
   {
    "duration": 27,
    "start_time": "2022-12-21T16:16:01.736Z"
   },
   {
    "duration": 20,
    "start_time": "2022-12-21T16:16:16.858Z"
   },
   {
    "duration": 569,
    "start_time": "2022-12-21T16:16:30.489Z"
   },
   {
    "duration": 140,
    "start_time": "2022-12-21T16:16:31.061Z"
   },
   {
    "duration": 164,
    "start_time": "2022-12-21T16:16:31.203Z"
   },
   {
    "duration": 37,
    "start_time": "2022-12-21T16:16:31.371Z"
   },
   {
    "duration": 3032,
    "start_time": "2022-12-21T16:16:31.410Z"
   },
   {
    "duration": 15,
    "start_time": "2022-12-21T16:16:34.444Z"
   },
   {
    "duration": 19,
    "start_time": "2022-12-21T16:16:34.461Z"
   },
   {
    "duration": 15,
    "start_time": "2022-12-21T16:16:34.484Z"
   },
   {
    "duration": 20,
    "start_time": "2022-12-21T16:16:34.501Z"
   },
   {
    "duration": 25,
    "start_time": "2022-12-21T16:53:10.946Z"
   },
   {
    "duration": 20,
    "start_time": "2022-12-21T16:54:19.866Z"
   },
   {
    "duration": 29,
    "start_time": "2022-12-21T16:57:35.986Z"
   },
   {
    "duration": 55,
    "start_time": "2022-12-21T17:03:19.788Z"
   },
   {
    "duration": 42,
    "start_time": "2022-12-21T17:05:43.756Z"
   },
   {
    "duration": 67,
    "start_time": "2022-12-21T17:06:53.693Z"
   },
   {
    "duration": 460,
    "start_time": "2022-12-21T17:07:55.117Z"
   },
   {
    "duration": 102,
    "start_time": "2022-12-21T17:07:55.580Z"
   },
   {
    "duration": 100,
    "start_time": "2022-12-21T17:07:55.684Z"
   },
   {
    "duration": 20,
    "start_time": "2022-12-21T17:07:55.786Z"
   },
   {
    "duration": 2421,
    "start_time": "2022-12-21T17:07:55.809Z"
   },
   {
    "duration": 15,
    "start_time": "2022-12-21T17:07:58.232Z"
   },
   {
    "duration": 17,
    "start_time": "2022-12-21T17:07:58.250Z"
   },
   {
    "duration": 13,
    "start_time": "2022-12-21T17:07:58.269Z"
   },
   {
    "duration": 68,
    "start_time": "2022-12-21T17:07:58.284Z"
   },
   {
    "duration": 24,
    "start_time": "2022-12-21T17:08:49.060Z"
   },
   {
    "duration": 22,
    "start_time": "2022-12-21T17:10:24.332Z"
   },
   {
    "duration": 9,
    "start_time": "2022-12-21T17:20:49.842Z"
   },
   {
    "duration": 18,
    "start_time": "2022-12-21T17:24:08.921Z"
   },
   {
    "duration": 12,
    "start_time": "2022-12-21T17:24:31.731Z"
   },
   {
    "duration": 12,
    "start_time": "2022-12-21T17:24:34.113Z"
   },
   {
    "duration": 11,
    "start_time": "2022-12-21T17:26:41.180Z"
   },
   {
    "duration": 11,
    "start_time": "2022-12-21T17:27:33.990Z"
   },
   {
    "duration": 924,
    "start_time": "2022-12-21T17:27:37.202Z"
   },
   {
    "duration": 10,
    "start_time": "2022-12-21T17:27:43.451Z"
   },
   {
    "duration": 11,
    "start_time": "2022-12-21T17:28:17.284Z"
   },
   {
    "duration": 9,
    "start_time": "2022-12-21T17:28:46.051Z"
   },
   {
    "duration": 11,
    "start_time": "2022-12-21T17:31:43.260Z"
   },
   {
    "duration": 9,
    "start_time": "2022-12-21T17:32:12.307Z"
   },
   {
    "duration": 12,
    "start_time": "2022-12-21T17:36:45.152Z"
   },
   {
    "duration": 11,
    "start_time": "2022-12-21T17:36:47.813Z"
   },
   {
    "duration": 12,
    "start_time": "2022-12-21T17:36:50.733Z"
   },
   {
    "duration": 9,
    "start_time": "2022-12-21T17:36:53.644Z"
   },
   {
    "duration": 11,
    "start_time": "2022-12-21T17:36:55.977Z"
   },
   {
    "duration": 11,
    "start_time": "2022-12-21T17:36:58.533Z"
   },
   {
    "duration": 11,
    "start_time": "2022-12-21T17:37:01.249Z"
   },
   {
    "duration": 10,
    "start_time": "2022-12-21T17:37:04.150Z"
   },
   {
    "duration": 12,
    "start_time": "2022-12-21T17:37:05.947Z"
   },
   {
    "duration": 153,
    "start_time": "2022-12-21T17:38:11.381Z"
   },
   {
    "duration": 141,
    "start_time": "2022-12-21T17:39:20.768Z"
   },
   {
    "duration": 19,
    "start_time": "2022-12-21T17:59:56.332Z"
   },
   {
    "duration": 19,
    "start_time": "2022-12-21T18:00:37.878Z"
   },
   {
    "duration": 26,
    "start_time": "2022-12-21T18:08:35.792Z"
   },
   {
    "duration": 16,
    "start_time": "2022-12-21T18:11:07.422Z"
   },
   {
    "duration": 24,
    "start_time": "2022-12-21T18:11:14.502Z"
   },
   {
    "duration": 183,
    "start_time": "2022-12-21T18:13:17.102Z"
   },
   {
    "duration": 166,
    "start_time": "2022-12-21T18:15:10.464Z"
   },
   {
    "duration": 25,
    "start_time": "2022-12-21T18:16:21.024Z"
   },
   {
    "duration": 19,
    "start_time": "2022-12-21T18:16:47.603Z"
   },
   {
    "duration": 22,
    "start_time": "2022-12-21T18:17:32.968Z"
   },
   {
    "duration": 4,
    "start_time": "2022-12-21T18:26:17.149Z"
   },
   {
    "duration": 7,
    "start_time": "2022-12-21T18:26:25.378Z"
   },
   {
    "duration": 9,
    "start_time": "2022-12-21T18:27:52.172Z"
   },
   {
    "duration": 65,
    "start_time": "2022-12-21T18:30:31.630Z"
   },
   {
    "duration": 43,
    "start_time": "2022-12-21T18:31:22.242Z"
   },
   {
    "duration": 46,
    "start_time": "2022-12-21T18:31:29.942Z"
   },
   {
    "duration": 43,
    "start_time": "2022-12-21T18:33:58.069Z"
   },
   {
    "duration": 51,
    "start_time": "2022-12-21T18:42:09.097Z"
   },
   {
    "duration": 38,
    "start_time": "2022-12-21T18:42:23.312Z"
   },
   {
    "duration": 42,
    "start_time": "2022-12-21T18:42:55.728Z"
   },
   {
    "duration": 62,
    "start_time": "2022-12-21T18:43:11.015Z"
   },
   {
    "duration": 415,
    "start_time": "2022-12-22T11:13:13.666Z"
   },
   {
    "duration": 321,
    "start_time": "2022-12-22T11:13:14.083Z"
   },
   {
    "duration": 124,
    "start_time": "2022-12-22T11:13:14.406Z"
   },
   {
    "duration": 26,
    "start_time": "2022-12-22T11:13:14.535Z"
   },
   {
    "duration": 2389,
    "start_time": "2022-12-22T11:13:14.563Z"
   },
   {
    "duration": 9,
    "start_time": "2022-12-22T11:13:16.954Z"
   },
   {
    "duration": 21,
    "start_time": "2022-12-22T11:13:16.965Z"
   },
   {
    "duration": 11,
    "start_time": "2022-12-22T11:13:16.988Z"
   },
   {
    "duration": 19,
    "start_time": "2022-12-22T11:13:17.000Z"
   },
   {
    "duration": 142,
    "start_time": "2022-12-22T11:13:17.021Z"
   },
   {
    "duration": 129,
    "start_time": "2022-12-22T11:13:17.164Z"
   },
   {
    "duration": 18,
    "start_time": "2022-12-22T11:13:17.294Z"
   },
   {
    "duration": 45,
    "start_time": "2022-12-22T11:13:17.313Z"
   },
   {
    "duration": 159,
    "start_time": "2022-12-22T11:13:17.361Z"
   },
   {
    "duration": 165,
    "start_time": "2022-12-22T11:13:17.522Z"
   },
   {
    "duration": 22,
    "start_time": "2022-12-22T11:13:17.688Z"
   },
   {
    "duration": 58,
    "start_time": "2022-12-22T11:13:17.711Z"
   },
   {
    "duration": 27,
    "start_time": "2022-12-22T11:13:17.770Z"
   },
   {
    "duration": 8,
    "start_time": "2022-12-22T11:13:17.798Z"
   },
   {
    "duration": 17,
    "start_time": "2022-12-22T11:13:17.808Z"
   },
   {
    "duration": 31,
    "start_time": "2022-12-22T11:13:17.826Z"
   },
   {
    "duration": 11,
    "start_time": "2022-12-22T11:13:17.859Z"
   },
   {
    "duration": 10,
    "start_time": "2022-12-22T11:13:17.871Z"
   },
   {
    "duration": 7,
    "start_time": "2022-12-22T11:13:17.883Z"
   },
   {
    "duration": 10,
    "start_time": "2022-12-22T11:13:17.891Z"
   },
   {
    "duration": 9,
    "start_time": "2022-12-22T11:13:17.902Z"
   },
   {
    "duration": 30,
    "start_time": "2022-12-22T11:13:17.913Z"
   },
   {
    "duration": 10,
    "start_time": "2022-12-22T11:13:17.945Z"
   },
   {
    "duration": 6,
    "start_time": "2022-12-22T11:13:17.957Z"
   },
   {
    "duration": 13,
    "start_time": "2022-12-22T11:13:17.965Z"
   },
   {
    "duration": 13,
    "start_time": "2022-12-22T11:13:17.980Z"
   },
   {
    "duration": 686,
    "start_time": "2022-12-22T11:16:17.225Z"
   },
   {
    "duration": 105,
    "start_time": "2022-12-22T11:16:17.913Z"
   },
   {
    "duration": 97,
    "start_time": "2022-12-22T11:16:18.019Z"
   },
   {
    "duration": 19,
    "start_time": "2022-12-22T11:16:18.117Z"
   },
   {
    "duration": 2042,
    "start_time": "2022-12-22T11:16:18.143Z"
   },
   {
    "duration": 10,
    "start_time": "2022-12-22T11:16:20.187Z"
   },
   {
    "duration": 17,
    "start_time": "2022-12-22T11:16:20.198Z"
   },
   {
    "duration": 18,
    "start_time": "2022-12-22T11:16:20.216Z"
   },
   {
    "duration": 42,
    "start_time": "2022-12-22T11:16:20.235Z"
   },
   {
    "duration": 171,
    "start_time": "2022-12-22T11:16:20.280Z"
   },
   {
    "duration": 142,
    "start_time": "2022-12-22T11:16:20.453Z"
   },
   {
    "duration": 19,
    "start_time": "2022-12-22T11:16:20.596Z"
   },
   {
    "duration": 42,
    "start_time": "2022-12-22T11:16:20.616Z"
   },
   {
    "duration": 156,
    "start_time": "2022-12-22T11:16:20.661Z"
   },
   {
    "duration": 169,
    "start_time": "2022-12-22T11:16:20.819Z"
   },
   {
    "duration": 23,
    "start_time": "2022-12-22T11:16:20.990Z"
   },
   {
    "duration": 76,
    "start_time": "2022-12-22T11:16:21.015Z"
   },
   {
    "duration": 29,
    "start_time": "2022-12-22T11:16:21.095Z"
   },
   {
    "duration": 12,
    "start_time": "2022-12-22T11:16:21.143Z"
   },
   {
    "duration": 12,
    "start_time": "2022-12-22T11:16:21.157Z"
   },
   {
    "duration": 14,
    "start_time": "2022-12-22T11:16:21.171Z"
   },
   {
    "duration": 19,
    "start_time": "2022-12-22T11:16:21.187Z"
   },
   {
    "duration": 13,
    "start_time": "2022-12-22T11:16:21.209Z"
   },
   {
    "duration": 22,
    "start_time": "2022-12-22T11:16:21.223Z"
   },
   {
    "duration": 20,
    "start_time": "2022-12-22T11:16:21.247Z"
   },
   {
    "duration": 9,
    "start_time": "2022-12-22T11:16:21.269Z"
   },
   {
    "duration": 8,
    "start_time": "2022-12-22T11:16:21.280Z"
   },
   {
    "duration": 23,
    "start_time": "2022-12-22T11:16:21.290Z"
   },
   {
    "duration": 26,
    "start_time": "2022-12-22T11:16:21.315Z"
   },
   {
    "duration": 21,
    "start_time": "2022-12-22T11:16:21.343Z"
   },
   {
    "duration": 17,
    "start_time": "2022-12-22T11:16:21.366Z"
   },
   {
    "duration": 8,
    "start_time": "2022-12-22T11:27:16.109Z"
   },
   {
    "duration": 31,
    "start_time": "2022-12-22T11:27:35.847Z"
   },
   {
    "duration": 7,
    "start_time": "2022-12-22T11:27:58.193Z"
   },
   {
    "duration": 11,
    "start_time": "2022-12-22T11:28:39.758Z"
   },
   {
    "duration": 18,
    "start_time": "2022-12-22T11:28:48.591Z"
   },
   {
    "duration": 6,
    "start_time": "2022-12-22T11:28:57.001Z"
   },
   {
    "duration": 663,
    "start_time": "2022-12-22T11:35:35.795Z"
   },
   {
    "duration": 103,
    "start_time": "2022-12-22T11:35:36.461Z"
   },
   {
    "duration": 125,
    "start_time": "2022-12-22T11:35:36.565Z"
   },
   {
    "duration": 16,
    "start_time": "2022-12-22T11:35:36.693Z"
   },
   {
    "duration": 2511,
    "start_time": "2022-12-22T11:35:36.710Z"
   },
   {
    "duration": 14,
    "start_time": "2022-12-22T11:35:39.223Z"
   },
   {
    "duration": 32,
    "start_time": "2022-12-22T11:35:39.239Z"
   },
   {
    "duration": 12,
    "start_time": "2022-12-22T11:35:39.273Z"
   },
   {
    "duration": 23,
    "start_time": "2022-12-22T11:35:39.287Z"
   },
   {
    "duration": 190,
    "start_time": "2022-12-22T11:35:39.315Z"
   },
   {
    "duration": 157,
    "start_time": "2022-12-22T11:35:39.507Z"
   },
   {
    "duration": 21,
    "start_time": "2022-12-22T11:35:39.666Z"
   },
   {
    "duration": 23,
    "start_time": "2022-12-22T11:35:39.689Z"
   },
   {
    "duration": 177,
    "start_time": "2022-12-22T11:35:39.714Z"
   },
   {
    "duration": 198,
    "start_time": "2022-12-22T11:35:39.892Z"
   },
   {
    "duration": 28,
    "start_time": "2022-12-22T11:35:40.093Z"
   },
   {
    "duration": 68,
    "start_time": "2022-12-22T11:35:40.123Z"
   },
   {
    "duration": 61,
    "start_time": "2022-12-22T11:35:40.193Z"
   },
   {
    "duration": 13,
    "start_time": "2022-12-22T11:35:40.256Z"
   },
   {
    "duration": 18,
    "start_time": "2022-12-22T11:35:40.273Z"
   },
   {
    "duration": 12,
    "start_time": "2022-12-22T11:35:40.295Z"
   },
   {
    "duration": 34,
    "start_time": "2022-12-22T11:35:40.309Z"
   },
   {
    "duration": 12,
    "start_time": "2022-12-22T11:35:40.353Z"
   },
   {
    "duration": 21,
    "start_time": "2022-12-22T11:35:40.367Z"
   },
   {
    "duration": 42,
    "start_time": "2022-12-22T11:35:40.390Z"
   },
   {
    "duration": 41,
    "start_time": "2022-12-22T11:35:40.442Z"
   },
   {
    "duration": 9,
    "start_time": "2022-12-22T11:35:40.485Z"
   },
   {
    "duration": 16,
    "start_time": "2022-12-22T11:35:40.496Z"
   },
   {
    "duration": 11,
    "start_time": "2022-12-22T11:35:40.514Z"
   },
   {
    "duration": 21,
    "start_time": "2022-12-22T11:35:40.526Z"
   },
   {
    "duration": 38,
    "start_time": "2022-12-22T11:35:40.549Z"
   },
   {
    "duration": 25,
    "start_time": "2022-12-22T11:35:40.589Z"
   },
   {
    "duration": 640,
    "start_time": "2022-12-22T11:41:48.260Z"
   },
   {
    "duration": 102,
    "start_time": "2022-12-22T11:41:48.902Z"
   },
   {
    "duration": 124,
    "start_time": "2022-12-22T11:41:49.005Z"
   },
   {
    "duration": 26,
    "start_time": "2022-12-22T11:41:49.135Z"
   },
   {
    "duration": 2170,
    "start_time": "2022-12-22T11:41:49.163Z"
   },
   {
    "duration": 15,
    "start_time": "2022-12-22T11:41:51.335Z"
   },
   {
    "duration": 27,
    "start_time": "2022-12-22T11:41:51.351Z"
   },
   {
    "duration": 48,
    "start_time": "2022-12-22T11:41:51.380Z"
   },
   {
    "duration": 43,
    "start_time": "2022-12-22T11:41:51.430Z"
   },
   {
    "duration": 153,
    "start_time": "2022-12-22T11:41:51.477Z"
   },
   {
    "duration": 136,
    "start_time": "2022-12-22T11:41:51.635Z"
   },
   {
    "duration": 18,
    "start_time": "2022-12-22T11:41:51.773Z"
   },
   {
    "duration": 27,
    "start_time": "2022-12-22T11:41:51.793Z"
   },
   {
    "duration": 164,
    "start_time": "2022-12-22T11:41:51.822Z"
   },
   {
    "duration": 171,
    "start_time": "2022-12-22T11:41:51.988Z"
   },
   {
    "duration": 22,
    "start_time": "2022-12-22T11:41:52.161Z"
   },
   {
    "duration": 72,
    "start_time": "2022-12-22T11:41:52.185Z"
   },
   {
    "duration": 30,
    "start_time": "2022-12-22T11:41:52.258Z"
   },
   {
    "duration": 17,
    "start_time": "2022-12-22T11:41:52.290Z"
   },
   {
    "duration": 34,
    "start_time": "2022-12-22T11:41:52.310Z"
   },
   {
    "duration": 11,
    "start_time": "2022-12-22T11:41:52.345Z"
   },
   {
    "duration": 22,
    "start_time": "2022-12-22T11:41:52.358Z"
   },
   {
    "duration": 23,
    "start_time": "2022-12-22T11:41:52.382Z"
   },
   {
    "duration": 57,
    "start_time": "2022-12-22T11:41:52.407Z"
   },
   {
    "duration": 9,
    "start_time": "2022-12-22T11:41:52.466Z"
   },
   {
    "duration": 16,
    "start_time": "2022-12-22T11:41:52.477Z"
   },
   {
    "duration": 19,
    "start_time": "2022-12-22T11:41:52.497Z"
   },
   {
    "duration": 19,
    "start_time": "2022-12-22T11:41:52.520Z"
   },
   {
    "duration": 25,
    "start_time": "2022-12-22T11:41:52.546Z"
   },
   {
    "duration": 20,
    "start_time": "2022-12-22T11:41:52.573Z"
   },
   {
    "duration": 24,
    "start_time": "2022-12-22T11:41:52.595Z"
   },
   {
    "duration": 25,
    "start_time": "2022-12-22T11:41:52.621Z"
   },
   {
    "duration": 16,
    "start_time": "2022-12-22T11:45:32.056Z"
   },
   {
    "duration": 17,
    "start_time": "2022-12-22T11:45:56.434Z"
   },
   {
    "duration": 19,
    "start_time": "2022-12-22T11:46:03.362Z"
   },
   {
    "duration": 17,
    "start_time": "2022-12-22T11:46:11.979Z"
   },
   {
    "duration": 15,
    "start_time": "2022-12-22T11:46:28.532Z"
   },
   {
    "duration": 645,
    "start_time": "2022-12-22T11:46:40.206Z"
   },
   {
    "duration": 98,
    "start_time": "2022-12-22T11:46:40.854Z"
   },
   {
    "duration": 108,
    "start_time": "2022-12-22T11:46:40.954Z"
   },
   {
    "duration": 17,
    "start_time": "2022-12-22T11:46:41.064Z"
   },
   {
    "duration": 2023,
    "start_time": "2022-12-22T11:46:41.082Z"
   },
   {
    "duration": 9,
    "start_time": "2022-12-22T11:46:43.107Z"
   },
   {
    "duration": 16,
    "start_time": "2022-12-22T11:46:43.118Z"
   },
   {
    "duration": 28,
    "start_time": "2022-12-22T11:46:43.136Z"
   },
   {
    "duration": 21,
    "start_time": "2022-12-22T11:46:43.166Z"
   },
   {
    "duration": 136,
    "start_time": "2022-12-22T11:46:43.190Z"
   },
   {
    "duration": 138,
    "start_time": "2022-12-22T11:46:43.327Z"
   },
   {
    "duration": 18,
    "start_time": "2022-12-22T11:46:43.467Z"
   },
   {
    "duration": 20,
    "start_time": "2022-12-22T11:46:43.487Z"
   },
   {
    "duration": 172,
    "start_time": "2022-12-22T11:46:43.509Z"
   },
   {
    "duration": 169,
    "start_time": "2022-12-22T11:46:43.682Z"
   },
   {
    "duration": 23,
    "start_time": "2022-12-22T11:46:43.853Z"
   },
   {
    "duration": 61,
    "start_time": "2022-12-22T11:46:43.877Z"
   },
   {
    "duration": 31,
    "start_time": "2022-12-22T11:46:43.940Z"
   },
   {
    "duration": 6,
    "start_time": "2022-12-22T11:46:43.973Z"
   },
   {
    "duration": 12,
    "start_time": "2022-12-22T11:46:43.981Z"
   },
   {
    "duration": 7,
    "start_time": "2022-12-22T11:46:43.995Z"
   },
   {
    "duration": 34,
    "start_time": "2022-12-22T11:46:44.004Z"
   },
   {
    "duration": 21,
    "start_time": "2022-12-22T11:46:44.041Z"
   },
   {
    "duration": 18,
    "start_time": "2022-12-22T11:46:44.063Z"
   },
   {
    "duration": 9,
    "start_time": "2022-12-22T11:46:44.082Z"
   },
   {
    "duration": 13,
    "start_time": "2022-12-22T11:46:44.093Z"
   },
   {
    "duration": 14,
    "start_time": "2022-12-22T11:46:44.108Z"
   },
   {
    "duration": 13,
    "start_time": "2022-12-22T11:46:44.125Z"
   },
   {
    "duration": 17,
    "start_time": "2022-12-22T11:46:44.144Z"
   },
   {
    "duration": 11,
    "start_time": "2022-12-22T11:46:44.163Z"
   },
   {
    "duration": 15,
    "start_time": "2022-12-22T11:46:44.176Z"
   },
   {
    "duration": 21,
    "start_time": "2022-12-22T11:46:44.193Z"
   },
   {
    "duration": 5,
    "start_time": "2022-12-22T11:55:46.508Z"
   },
   {
    "duration": 758,
    "start_time": "2022-12-22T11:56:05.515Z"
   },
   {
    "duration": 104,
    "start_time": "2022-12-22T11:56:06.275Z"
   },
   {
    "duration": 109,
    "start_time": "2022-12-22T11:56:06.381Z"
   },
   {
    "duration": 16,
    "start_time": "2022-12-22T11:56:06.492Z"
   },
   {
    "duration": 2110,
    "start_time": "2022-12-22T11:56:06.511Z"
   },
   {
    "duration": 10,
    "start_time": "2022-12-22T11:56:08.623Z"
   },
   {
    "duration": 45,
    "start_time": "2022-12-22T11:56:08.638Z"
   },
   {
    "duration": 21,
    "start_time": "2022-12-22T11:56:08.685Z"
   },
   {
    "duration": 31,
    "start_time": "2022-12-22T11:56:08.708Z"
   },
   {
    "duration": 159,
    "start_time": "2022-12-22T11:56:08.741Z"
   },
   {
    "duration": 145,
    "start_time": "2022-12-22T11:56:08.902Z"
   },
   {
    "duration": 22,
    "start_time": "2022-12-22T11:56:09.050Z"
   },
   {
    "duration": 21,
    "start_time": "2022-12-22T11:56:09.074Z"
   },
   {
    "duration": 213,
    "start_time": "2022-12-22T11:56:09.098Z"
   },
   {
    "duration": 178,
    "start_time": "2022-12-22T11:56:09.313Z"
   },
   {
    "duration": 54,
    "start_time": "2022-12-22T11:56:09.493Z"
   },
   {
    "duration": 52,
    "start_time": "2022-12-22T11:56:09.556Z"
   },
   {
    "duration": 5,
    "start_time": "2022-12-22T11:56:09.610Z"
   },
   {
    "duration": 80,
    "start_time": "2022-12-22T11:56:09.617Z"
   },
   {
    "duration": 19,
    "start_time": "2022-12-22T11:56:09.699Z"
   },
   {
    "duration": 25,
    "start_time": "2022-12-22T11:56:09.720Z"
   },
   {
    "duration": 14,
    "start_time": "2022-12-22T11:56:09.752Z"
   },
   {
    "duration": 15,
    "start_time": "2022-12-22T11:56:09.768Z"
   },
   {
    "duration": 16,
    "start_time": "2022-12-22T11:56:09.785Z"
   },
   {
    "duration": 14,
    "start_time": "2022-12-22T11:56:09.803Z"
   },
   {
    "duration": 19,
    "start_time": "2022-12-22T11:56:09.819Z"
   },
   {
    "duration": 25,
    "start_time": "2022-12-22T11:56:09.839Z"
   },
   {
    "duration": 18,
    "start_time": "2022-12-22T11:56:09.866Z"
   },
   {
    "duration": 29,
    "start_time": "2022-12-22T11:56:09.886Z"
   },
   {
    "duration": 12,
    "start_time": "2022-12-22T11:56:09.917Z"
   },
   {
    "duration": 16,
    "start_time": "2022-12-22T11:56:09.931Z"
   },
   {
    "duration": 20,
    "start_time": "2022-12-22T11:56:09.951Z"
   },
   {
    "duration": 8,
    "start_time": "2022-12-22T11:56:09.973Z"
   },
   {
    "duration": 10,
    "start_time": "2022-12-22T11:56:47.053Z"
   },
   {
    "duration": 134,
    "start_time": "2022-12-22T11:58:46.444Z"
   },
   {
    "duration": 277,
    "start_time": "2022-12-22T12:01:18.208Z"
   },
   {
    "duration": 111,
    "start_time": "2022-12-22T12:01:30.098Z"
   },
   {
    "duration": 10,
    "start_time": "2022-12-22T12:03:17.877Z"
   },
   {
    "duration": 142,
    "start_time": "2022-12-22T12:04:43.984Z"
   },
   {
    "duration": 143,
    "start_time": "2022-12-22T12:05:11.508Z"
   },
   {
    "duration": 137,
    "start_time": "2022-12-22T12:06:51.430Z"
   },
   {
    "duration": 134,
    "start_time": "2022-12-22T12:07:20.054Z"
   },
   {
    "duration": 29,
    "start_time": "2022-12-22T12:08:18.934Z"
   },
   {
    "duration": 24,
    "start_time": "2022-12-22T12:08:49.959Z"
   },
   {
    "duration": 26,
    "start_time": "2022-12-22T12:09:34.727Z"
   },
   {
    "duration": 17,
    "start_time": "2022-12-22T12:11:17.057Z"
   },
   {
    "duration": 132,
    "start_time": "2022-12-22T12:28:58.071Z"
   },
   {
    "duration": 27,
    "start_time": "2022-12-22T12:29:10.744Z"
   },
   {
    "duration": 15,
    "start_time": "2022-12-22T12:30:03.784Z"
   },
   {
    "duration": 29,
    "start_time": "2022-12-22T12:30:27.084Z"
   },
   {
    "duration": 7,
    "start_time": "2022-12-22T12:34:19.056Z"
   },
   {
    "duration": 5,
    "start_time": "2022-12-22T12:37:16.575Z"
   },
   {
    "duration": 18,
    "start_time": "2022-12-22T12:37:38.666Z"
   },
   {
    "duration": 7,
    "start_time": "2022-12-22T12:39:17.834Z"
   },
   {
    "duration": 7,
    "start_time": "2022-12-22T12:45:01.710Z"
   },
   {
    "duration": 18,
    "start_time": "2022-12-22T12:45:23.205Z"
   },
   {
    "duration": 38,
    "start_time": "2022-12-22T12:45:34.485Z"
   },
   {
    "duration": 26,
    "start_time": "2022-12-22T12:45:37.645Z"
   },
   {
    "duration": 596,
    "start_time": "2022-12-22T12:46:35.154Z"
   },
   {
    "duration": 89,
    "start_time": "2022-12-22T12:46:35.753Z"
   },
   {
    "duration": 93,
    "start_time": "2022-12-22T12:46:35.844Z"
   },
   {
    "duration": 14,
    "start_time": "2022-12-22T12:46:35.939Z"
   },
   {
    "duration": 1935,
    "start_time": "2022-12-22T12:46:35.954Z"
   },
   {
    "duration": 10,
    "start_time": "2022-12-22T12:46:37.890Z"
   },
   {
    "duration": 30,
    "start_time": "2022-12-22T12:46:37.901Z"
   },
   {
    "duration": 29,
    "start_time": "2022-12-22T12:46:37.934Z"
   },
   {
    "duration": 24,
    "start_time": "2022-12-22T12:46:37.964Z"
   },
   {
    "duration": 136,
    "start_time": "2022-12-22T12:46:37.991Z"
   },
   {
    "duration": 119,
    "start_time": "2022-12-22T12:46:38.129Z"
   },
   {
    "duration": 18,
    "start_time": "2022-12-22T12:46:38.249Z"
   },
   {
    "duration": 15,
    "start_time": "2022-12-22T12:46:38.269Z"
   },
   {
    "duration": 152,
    "start_time": "2022-12-22T12:46:38.285Z"
   },
   {
    "duration": 146,
    "start_time": "2022-12-22T12:46:38.438Z"
   },
   {
    "duration": 19,
    "start_time": "2022-12-22T12:46:38.586Z"
   },
   {
    "duration": 46,
    "start_time": "2022-12-22T12:46:38.607Z"
   },
   {
    "duration": 4,
    "start_time": "2022-12-22T12:46:38.655Z"
   },
   {
    "duration": 41,
    "start_time": "2022-12-22T12:46:38.661Z"
   },
   {
    "duration": 26,
    "start_time": "2022-12-22T12:46:38.704Z"
   },
   {
    "duration": 145,
    "start_time": "2022-12-22T12:46:38.732Z"
   },
   {
    "duration": 19,
    "start_time": "2022-12-22T12:46:38.878Z"
   },
   {
    "duration": 11,
    "start_time": "2022-12-22T12:46:38.899Z"
   },
   {
    "duration": 11,
    "start_time": "2022-12-22T12:46:38.912Z"
   },
   {
    "duration": 12,
    "start_time": "2022-12-22T12:46:38.924Z"
   },
   {
    "duration": 9,
    "start_time": "2022-12-22T12:46:38.937Z"
   },
   {
    "duration": 12,
    "start_time": "2022-12-22T12:46:38.947Z"
   },
   {
    "duration": 27,
    "start_time": "2022-12-22T12:46:38.962Z"
   },
   {
    "duration": 17,
    "start_time": "2022-12-22T12:46:38.991Z"
   },
   {
    "duration": 8,
    "start_time": "2022-12-22T12:46:39.010Z"
   },
   {
    "duration": 22,
    "start_time": "2022-12-22T12:46:39.019Z"
   },
   {
    "duration": 16,
    "start_time": "2022-12-22T12:46:39.042Z"
   },
   {
    "duration": 12,
    "start_time": "2022-12-22T12:46:39.059Z"
   },
   {
    "duration": 13,
    "start_time": "2022-12-22T12:46:39.072Z"
   },
   {
    "duration": 24,
    "start_time": "2022-12-22T12:46:39.087Z"
   },
   {
    "duration": 5,
    "start_time": "2022-12-22T12:49:46.640Z"
   },
   {
    "duration": 11,
    "start_time": "2022-12-22T12:50:13.727Z"
   },
   {
    "duration": 15,
    "start_time": "2022-12-22T12:52:11.049Z"
   },
   {
    "duration": 58,
    "start_time": "2022-12-22T12:53:37.200Z"
   },
   {
    "duration": 5,
    "start_time": "2022-12-22T12:53:47.808Z"
   },
   {
    "duration": 10,
    "start_time": "2022-12-22T12:54:03.791Z"
   },
   {
    "duration": 889,
    "start_time": "2022-12-22T16:44:03.454Z"
   },
   {
    "duration": 795,
    "start_time": "2022-12-22T16:44:04.346Z"
   },
   {
    "duration": 137,
    "start_time": "2022-12-22T16:44:05.143Z"
   },
   {
    "duration": 18,
    "start_time": "2022-12-22T16:44:05.283Z"
   },
   {
    "duration": 2453,
    "start_time": "2022-12-22T16:44:05.303Z"
   },
   {
    "duration": 11,
    "start_time": "2022-12-22T16:44:07.758Z"
   },
   {
    "duration": 36,
    "start_time": "2022-12-22T16:44:07.770Z"
   },
   {
    "duration": 43,
    "start_time": "2022-12-22T16:44:07.808Z"
   },
   {
    "duration": 22,
    "start_time": "2022-12-22T16:44:07.853Z"
   },
   {
    "duration": 173,
    "start_time": "2022-12-22T16:44:07.878Z"
   },
   {
    "duration": 154,
    "start_time": "2022-12-22T16:44:08.052Z"
   },
   {
    "duration": 25,
    "start_time": "2022-12-22T16:44:08.212Z"
   },
   {
    "duration": 21,
    "start_time": "2022-12-22T16:44:08.239Z"
   },
   {
    "duration": 189,
    "start_time": "2022-12-22T16:44:08.262Z"
   },
   {
    "duration": 181,
    "start_time": "2022-12-22T16:44:08.452Z"
   },
   {
    "duration": 34,
    "start_time": "2022-12-22T16:44:08.636Z"
   },
   {
    "duration": 76,
    "start_time": "2022-12-22T16:44:08.672Z"
   },
   {
    "duration": 6,
    "start_time": "2022-12-22T16:44:08.750Z"
   },
   {
    "duration": 36,
    "start_time": "2022-12-22T16:44:08.759Z"
   },
   {
    "duration": 23,
    "start_time": "2022-12-22T16:44:08.797Z"
   },
   {
    "duration": 164,
    "start_time": "2022-12-22T16:44:08.822Z"
   },
   {
    "duration": 37,
    "start_time": "2022-12-22T16:44:08.988Z"
   },
   {
    "duration": 8,
    "start_time": "2022-12-22T16:44:09.027Z"
   },
   {
    "duration": 7,
    "start_time": "2022-12-22T16:44:09.036Z"
   },
   {
    "duration": 23,
    "start_time": "2022-12-22T16:44:09.045Z"
   },
   {
    "duration": 17,
    "start_time": "2022-12-22T16:44:09.070Z"
   },
   {
    "duration": 23,
    "start_time": "2022-12-22T16:44:09.089Z"
   },
   {
    "duration": 10,
    "start_time": "2022-12-22T16:44:09.118Z"
   },
   {
    "duration": 23,
    "start_time": "2022-12-22T16:44:09.132Z"
   },
   {
    "duration": 12,
    "start_time": "2022-12-22T16:44:09.157Z"
   },
   {
    "duration": 9,
    "start_time": "2022-12-22T16:44:09.171Z"
   },
   {
    "duration": 35,
    "start_time": "2022-12-22T16:44:09.183Z"
   },
   {
    "duration": 32,
    "start_time": "2022-12-22T16:44:09.220Z"
   },
   {
    "duration": 9,
    "start_time": "2022-12-22T16:44:09.255Z"
   },
   {
    "duration": 21,
    "start_time": "2022-12-22T16:44:09.266Z"
   },
   {
    "duration": 10,
    "start_time": "2022-12-22T16:44:09.289Z"
   },
   {
    "duration": 17,
    "start_time": "2022-12-22T16:44:09.302Z"
   },
   {
    "duration": 22,
    "start_time": "2022-12-22T16:44:09.321Z"
   },
   {
    "duration": 150,
    "start_time": "2022-12-22T16:44:52.938Z"
   },
   {
    "duration": 242,
    "start_time": "2022-12-22T16:45:45.838Z"
   },
   {
    "duration": 631,
    "start_time": "2022-12-22T16:47:30.663Z"
   },
   {
    "duration": 173,
    "start_time": "2022-12-22T16:48:07.904Z"
   },
   {
    "duration": 609,
    "start_time": "2022-12-22T16:48:34.583Z"
   },
   {
    "duration": 598,
    "start_time": "2022-12-22T16:48:43.743Z"
   },
   {
    "duration": 130,
    "start_time": "2022-12-22T16:48:56.288Z"
   },
   {
    "duration": 307,
    "start_time": "2022-12-22T16:49:20.337Z"
   },
   {
    "duration": 33,
    "start_time": "2022-12-22T16:50:45.911Z"
   },
   {
    "duration": 9,
    "start_time": "2022-12-22T16:53:22.278Z"
   },
   {
    "duration": 23,
    "start_time": "2022-12-22T16:53:34.938Z"
   },
   {
    "duration": 19,
    "start_time": "2022-12-22T16:54:07.349Z"
   },
   {
    "duration": 5,
    "start_time": "2022-12-22T17:02:25.456Z"
   },
   {
    "duration": 14,
    "start_time": "2022-12-22T17:02:59.592Z"
   },
   {
    "duration": 18,
    "start_time": "2022-12-22T17:03:11.394Z"
   },
   {
    "duration": 682,
    "start_time": "2022-12-22T17:04:35.515Z"
   },
   {
    "duration": 100,
    "start_time": "2022-12-22T17:04:36.200Z"
   },
   {
    "duration": 123,
    "start_time": "2022-12-22T17:04:36.302Z"
   },
   {
    "duration": 20,
    "start_time": "2022-12-22T17:04:36.428Z"
   },
   {
    "duration": 2253,
    "start_time": "2022-12-22T17:04:36.451Z"
   },
   {
    "duration": 14,
    "start_time": "2022-12-22T17:04:38.706Z"
   },
   {
    "duration": 33,
    "start_time": "2022-12-22T17:04:38.723Z"
   },
   {
    "duration": 21,
    "start_time": "2022-12-22T17:04:38.758Z"
   },
   {
    "duration": 20,
    "start_time": "2022-12-22T17:04:38.781Z"
   },
   {
    "duration": 156,
    "start_time": "2022-12-22T17:04:38.805Z"
   },
   {
    "duration": 151,
    "start_time": "2022-12-22T17:04:38.963Z"
   },
   {
    "duration": 21,
    "start_time": "2022-12-22T17:04:39.115Z"
   },
   {
    "duration": 17,
    "start_time": "2022-12-22T17:04:39.137Z"
   },
   {
    "duration": 183,
    "start_time": "2022-12-22T17:04:39.156Z"
   },
   {
    "duration": 183,
    "start_time": "2022-12-22T17:04:39.342Z"
   },
   {
    "duration": 25,
    "start_time": "2022-12-22T17:04:39.527Z"
   },
   {
    "duration": 65,
    "start_time": "2022-12-22T17:04:39.555Z"
   },
   {
    "duration": 6,
    "start_time": "2022-12-22T17:04:39.622Z"
   },
   {
    "duration": 33,
    "start_time": "2022-12-22T17:04:39.630Z"
   },
   {
    "duration": 8,
    "start_time": "2022-12-22T17:04:39.665Z"
   },
   {
    "duration": 183,
    "start_time": "2022-12-22T17:04:39.675Z"
   },
   {
    "duration": 20,
    "start_time": "2022-12-22T17:04:39.860Z"
   },
   {
    "duration": 6,
    "start_time": "2022-12-22T17:04:39.882Z"
   },
   {
    "duration": 26,
    "start_time": "2022-12-22T17:04:39.890Z"
   },
   {
    "duration": 22,
    "start_time": "2022-12-22T17:04:39.918Z"
   },
   {
    "duration": 14,
    "start_time": "2022-12-22T17:04:39.943Z"
   },
   {
    "duration": 155,
    "start_time": "2022-12-22T17:04:39.959Z"
   },
   {
    "duration": 278,
    "start_time": "2022-12-22T17:04:40.117Z"
   },
   {
    "duration": 27,
    "start_time": "2022-12-22T17:04:40.397Z"
   },
   {
    "duration": 17,
    "start_time": "2022-12-22T17:04:40.426Z"
   },
   {
    "duration": 7,
    "start_time": "2022-12-22T17:04:40.444Z"
   },
   {
    "duration": 7,
    "start_time": "2022-12-22T17:04:40.452Z"
   },
   {
    "duration": 7,
    "start_time": "2022-12-22T17:04:40.461Z"
   },
   {
    "duration": 46,
    "start_time": "2022-12-22T17:04:40.470Z"
   },
   {
    "duration": 8,
    "start_time": "2022-12-22T17:04:40.517Z"
   },
   {
    "duration": 9,
    "start_time": "2022-12-22T17:04:40.527Z"
   },
   {
    "duration": 8,
    "start_time": "2022-12-22T17:04:40.538Z"
   },
   {
    "duration": 8,
    "start_time": "2022-12-22T17:04:40.548Z"
   },
   {
    "duration": 8,
    "start_time": "2022-12-22T17:04:40.557Z"
   },
   {
    "duration": 45,
    "start_time": "2022-12-22T17:04:40.567Z"
   },
   {
    "duration": 15,
    "start_time": "2022-12-22T17:05:33.156Z"
   },
   {
    "duration": 24,
    "start_time": "2022-12-22T17:06:03.148Z"
   },
   {
    "duration": 18,
    "start_time": "2022-12-22T17:06:16.845Z"
   },
   {
    "duration": 158,
    "start_time": "2022-12-22T17:06:29.498Z"
   },
   {
    "duration": 12,
    "start_time": "2022-12-22T17:07:06.306Z"
   },
   {
    "duration": 687,
    "start_time": "2022-12-22T17:07:27.682Z"
   },
   {
    "duration": 100,
    "start_time": "2022-12-22T17:07:29.457Z"
   },
   {
    "duration": 125,
    "start_time": "2022-12-22T17:07:32.234Z"
   },
   {
    "duration": 15,
    "start_time": "2022-12-22T17:07:35.564Z"
   },
   {
    "duration": 2085,
    "start_time": "2022-12-22T17:07:39.443Z"
   },
   {
    "duration": 14,
    "start_time": "2022-12-22T17:07:45.515Z"
   },
   {
    "duration": 14,
    "start_time": "2022-12-22T17:07:49.794Z"
   },
   {
    "duration": 14,
    "start_time": "2022-12-22T17:07:53.546Z"
   },
   {
    "duration": 21,
    "start_time": "2022-12-22T17:07:59.378Z"
   },
   {
    "duration": 16,
    "start_time": "2022-12-22T17:08:03.147Z"
   },
   {
    "duration": 143,
    "start_time": "2022-12-22T17:08:11.586Z"
   },
   {
    "duration": 128,
    "start_time": "2022-12-22T17:08:14.676Z"
   },
   {
    "duration": 17,
    "start_time": "2022-12-22T17:08:17.234Z"
   },
   {
    "duration": 16,
    "start_time": "2022-12-22T17:08:19.595Z"
   },
   {
    "duration": 148,
    "start_time": "2022-12-22T17:08:23.179Z"
   },
   {
    "duration": 174,
    "start_time": "2022-12-22T17:08:25.616Z"
   },
   {
    "duration": 23,
    "start_time": "2022-12-22T17:08:30.547Z"
   },
   {
    "duration": 48,
    "start_time": "2022-12-22T17:08:35.071Z"
   },
   {
    "duration": 5,
    "start_time": "2022-12-22T17:08:39.442Z"
   },
   {
    "duration": 13,
    "start_time": "2022-12-22T17:08:48.277Z"
   },
   {
    "duration": 28,
    "start_time": "2022-12-22T17:08:58.635Z"
   },
   {
    "duration": 8,
    "start_time": "2022-12-22T17:09:02.179Z"
   },
   {
    "duration": 14,
    "start_time": "2022-12-22T17:09:13.467Z"
   },
   {
    "duration": 6,
    "start_time": "2022-12-22T17:14:01.700Z"
   },
   {
    "duration": 10,
    "start_time": "2022-12-22T17:14:15.835Z"
   },
   {
    "duration": 12,
    "start_time": "2022-12-22T17:14:43.694Z"
   },
   {
    "duration": 670,
    "start_time": "2022-12-22T17:15:29.783Z"
   },
   {
    "duration": 96,
    "start_time": "2022-12-22T17:15:30.833Z"
   },
   {
    "duration": 117,
    "start_time": "2022-12-22T17:15:32.843Z"
   },
   {
    "duration": 15,
    "start_time": "2022-12-22T17:15:36.090Z"
   },
   {
    "duration": 2024,
    "start_time": "2022-12-22T17:15:38.664Z"
   },
   {
    "duration": 10,
    "start_time": "2022-12-22T17:15:43.792Z"
   },
   {
    "duration": 18,
    "start_time": "2022-12-22T17:15:46.609Z"
   },
   {
    "duration": 13,
    "start_time": "2022-12-22T17:15:49.480Z"
   },
   {
    "duration": 20,
    "start_time": "2022-12-22T17:15:53.377Z"
   },
   {
    "duration": 142,
    "start_time": "2022-12-22T17:15:56.369Z"
   },
   {
    "duration": 168,
    "start_time": "2022-12-22T17:15:59.441Z"
   },
   {
    "duration": 18,
    "start_time": "2022-12-22T17:16:02.410Z"
   },
   {
    "duration": 23,
    "start_time": "2022-12-22T17:16:05.210Z"
   },
   {
    "duration": 142,
    "start_time": "2022-12-22T17:16:07.672Z"
   },
   {
    "duration": 146,
    "start_time": "2022-12-22T17:16:10.803Z"
   },
   {
    "duration": 24,
    "start_time": "2022-12-22T17:16:13.482Z"
   },
   {
    "duration": 44,
    "start_time": "2022-12-22T17:16:17.984Z"
   },
   {
    "duration": 6,
    "start_time": "2022-12-22T17:16:21.201Z"
   },
   {
    "duration": 14,
    "start_time": "2022-12-22T17:16:32.697Z"
   },
   {
    "duration": 30,
    "start_time": "2022-12-22T17:16:39.680Z"
   },
   {
    "duration": 14,
    "start_time": "2022-12-22T17:16:56.529Z"
   },
   {
    "duration": 7,
    "start_time": "2022-12-22T17:20:38.100Z"
   },
   {
    "duration": 19,
    "start_time": "2022-12-22T17:20:46.626Z"
   },
   {
    "duration": 14,
    "start_time": "2022-12-22T17:21:18.867Z"
   },
   {
    "duration": 12,
    "start_time": "2022-12-22T17:21:22.012Z"
   },
   {
    "duration": 659,
    "start_time": "2022-12-22T17:21:40.891Z"
   },
   {
    "duration": 96,
    "start_time": "2022-12-22T17:21:41.552Z"
   },
   {
    "duration": 96,
    "start_time": "2022-12-22T17:21:41.649Z"
   },
   {
    "duration": 15,
    "start_time": "2022-12-22T17:21:41.746Z"
   },
   {
    "duration": 2048,
    "start_time": "2022-12-22T17:21:41.763Z"
   },
   {
    "duration": 9,
    "start_time": "2022-12-22T17:21:43.813Z"
   },
   {
    "duration": 15,
    "start_time": "2022-12-22T17:21:43.824Z"
   },
   {
    "duration": 12,
    "start_time": "2022-12-22T17:21:43.841Z"
   },
   {
    "duration": 22,
    "start_time": "2022-12-22T17:21:43.855Z"
   },
   {
    "duration": 171,
    "start_time": "2022-12-22T17:21:43.878Z"
   },
   {
    "duration": 132,
    "start_time": "2022-12-22T17:21:44.051Z"
   },
   {
    "duration": 29,
    "start_time": "2022-12-22T17:21:44.185Z"
   },
   {
    "duration": 18,
    "start_time": "2022-12-22T17:21:44.216Z"
   },
   {
    "duration": 154,
    "start_time": "2022-12-22T17:21:44.236Z"
   },
   {
    "duration": 163,
    "start_time": "2022-12-22T17:21:44.392Z"
   },
   {
    "duration": 23,
    "start_time": "2022-12-22T17:21:44.557Z"
   },
   {
    "duration": 56,
    "start_time": "2022-12-22T17:21:44.582Z"
   },
   {
    "duration": 5,
    "start_time": "2022-12-22T17:21:44.640Z"
   },
   {
    "duration": 38,
    "start_time": "2022-12-22T17:21:44.646Z"
   },
   {
    "duration": 27,
    "start_time": "2022-12-22T17:21:44.685Z"
   },
   {
    "duration": 160,
    "start_time": "2022-12-22T17:21:44.714Z"
   },
   {
    "duration": 36,
    "start_time": "2022-12-22T17:21:44.876Z"
   },
   {
    "duration": 3,
    "start_time": "2022-12-22T17:21:44.914Z"
   },
   {
    "duration": 9,
    "start_time": "2022-12-22T17:21:44.919Z"
   },
   {
    "duration": 17,
    "start_time": "2022-12-22T17:21:44.931Z"
   },
   {
    "duration": 8,
    "start_time": "2022-12-22T17:21:44.951Z"
   },
   {
    "duration": 11,
    "start_time": "2022-12-22T17:21:44.961Z"
   },
   {
    "duration": 8,
    "start_time": "2022-12-22T17:21:44.974Z"
   },
   {
    "duration": 23,
    "start_time": "2022-12-22T17:21:44.983Z"
   },
   {
    "duration": 27,
    "start_time": "2022-12-22T17:21:45.008Z"
   },
   {
    "duration": 18,
    "start_time": "2022-12-22T17:21:45.037Z"
   },
   {
    "duration": 10,
    "start_time": "2022-12-22T17:21:45.057Z"
   },
   {
    "duration": 11,
    "start_time": "2022-12-22T17:21:45.069Z"
   },
   {
    "duration": 16,
    "start_time": "2022-12-22T17:21:45.082Z"
   },
   {
    "duration": 17,
    "start_time": "2022-12-22T17:21:45.100Z"
   },
   {
    "duration": 9,
    "start_time": "2022-12-22T17:21:45.119Z"
   },
   {
    "duration": 15,
    "start_time": "2022-12-22T17:21:45.130Z"
   },
   {
    "duration": 16,
    "start_time": "2022-12-22T17:21:45.147Z"
   },
   {
    "duration": 14,
    "start_time": "2022-12-22T17:21:45.165Z"
   },
   {
    "duration": 10,
    "start_time": "2022-12-22T17:21:45.181Z"
   },
   {
    "duration": 33,
    "start_time": "2022-12-22T17:23:04.379Z"
   },
   {
    "duration": 34,
    "start_time": "2022-12-22T17:23:31.308Z"
   },
   {
    "duration": 54,
    "start_time": "2022-12-22T17:23:38.483Z"
   },
   {
    "duration": 18,
    "start_time": "2022-12-22T17:23:45.506Z"
   },
   {
    "duration": 23,
    "start_time": "2022-12-22T17:31:18.789Z"
   },
   {
    "duration": 13,
    "start_time": "2022-12-22T17:41:42.111Z"
   },
   {
    "duration": 634,
    "start_time": "2022-12-22T17:41:59.373Z"
   },
   {
    "duration": 95,
    "start_time": "2022-12-22T17:42:00.009Z"
   },
   {
    "duration": 98,
    "start_time": "2022-12-22T17:42:00.105Z"
   },
   {
    "duration": 17,
    "start_time": "2022-12-22T17:42:00.205Z"
   },
   {
    "duration": 2135,
    "start_time": "2022-12-22T17:42:00.225Z"
   },
   {
    "duration": 12,
    "start_time": "2022-12-22T17:42:02.362Z"
   },
   {
    "duration": 15,
    "start_time": "2022-12-22T17:42:02.376Z"
   },
   {
    "duration": 19,
    "start_time": "2022-12-22T17:42:02.392Z"
   },
   {
    "duration": 26,
    "start_time": "2022-12-22T17:42:02.414Z"
   },
   {
    "duration": 19,
    "start_time": "2022-12-22T17:42:02.442Z"
   },
   {
    "duration": 162,
    "start_time": "2022-12-22T17:42:02.462Z"
   },
   {
    "duration": 134,
    "start_time": "2022-12-22T17:42:02.626Z"
   },
   {
    "duration": 18,
    "start_time": "2022-12-22T17:42:02.762Z"
   },
   {
    "duration": 29,
    "start_time": "2022-12-22T17:42:02.784Z"
   },
   {
    "duration": 167,
    "start_time": "2022-12-22T17:42:02.815Z"
   },
   {
    "duration": 176,
    "start_time": "2022-12-22T17:42:02.984Z"
   },
   {
    "duration": 25,
    "start_time": "2022-12-22T17:42:03.161Z"
   },
   {
    "duration": 62,
    "start_time": "2022-12-22T17:42:03.188Z"
   },
   {
    "duration": 6,
    "start_time": "2022-12-22T17:42:03.252Z"
   },
   {
    "duration": 31,
    "start_time": "2022-12-22T17:42:03.260Z"
   },
   {
    "duration": 34,
    "start_time": "2022-12-22T17:42:03.292Z"
   },
   {
    "duration": 146,
    "start_time": "2022-12-22T17:42:03.328Z"
   },
   {
    "duration": 38,
    "start_time": "2022-12-22T17:42:03.476Z"
   },
   {
    "duration": 3,
    "start_time": "2022-12-22T17:42:03.517Z"
   },
   {
    "duration": 9,
    "start_time": "2022-12-22T17:42:03.522Z"
   },
   {
    "duration": 11,
    "start_time": "2022-12-22T17:42:03.533Z"
   },
   {
    "duration": 9,
    "start_time": "2022-12-22T17:42:03.546Z"
   },
   {
    "duration": 7,
    "start_time": "2022-12-22T17:42:03.557Z"
   },
   {
    "duration": 5,
    "start_time": "2022-12-22T17:42:03.567Z"
   },
   {
    "duration": 14,
    "start_time": "2022-12-22T17:42:03.574Z"
   },
   {
    "duration": 10,
    "start_time": "2022-12-22T17:42:03.591Z"
   },
   {
    "duration": 23,
    "start_time": "2022-12-22T17:42:03.602Z"
   },
   {
    "duration": 15,
    "start_time": "2022-12-22T17:42:03.628Z"
   },
   {
    "duration": 10,
    "start_time": "2022-12-22T17:42:03.645Z"
   },
   {
    "duration": 11,
    "start_time": "2022-12-22T17:42:03.657Z"
   },
   {
    "duration": 9,
    "start_time": "2022-12-22T17:42:03.670Z"
   },
   {
    "duration": 10,
    "start_time": "2022-12-22T17:42:03.681Z"
   },
   {
    "duration": 7,
    "start_time": "2022-12-22T17:42:03.692Z"
   },
   {
    "duration": 8,
    "start_time": "2022-12-22T17:42:03.712Z"
   },
   {
    "duration": 8,
    "start_time": "2022-12-22T17:42:03.721Z"
   },
   {
    "duration": 24,
    "start_time": "2022-12-22T17:42:03.732Z"
   },
   {
    "duration": 651,
    "start_time": "2022-12-22T17:49:21.446Z"
   },
   {
    "duration": 95,
    "start_time": "2022-12-22T17:49:22.100Z"
   },
   {
    "duration": 105,
    "start_time": "2022-12-22T17:49:22.197Z"
   },
   {
    "duration": 18,
    "start_time": "2022-12-22T17:49:22.303Z"
   },
   {
    "duration": 2065,
    "start_time": "2022-12-22T17:49:22.323Z"
   },
   {
    "duration": 11,
    "start_time": "2022-12-22T17:49:24.390Z"
   },
   {
    "duration": 21,
    "start_time": "2022-12-22T17:49:24.403Z"
   },
   {
    "duration": 13,
    "start_time": "2022-12-22T17:49:24.426Z"
   },
   {
    "duration": 35,
    "start_time": "2022-12-22T17:49:24.441Z"
   },
   {
    "duration": 19,
    "start_time": "2022-12-22T17:49:24.478Z"
   },
   {
    "duration": 166,
    "start_time": "2022-12-22T17:49:24.500Z"
   },
   {
    "duration": 140,
    "start_time": "2022-12-22T17:49:24.668Z"
   },
   {
    "duration": 21,
    "start_time": "2022-12-22T17:49:24.813Z"
   },
   {
    "duration": 18,
    "start_time": "2022-12-22T17:49:24.838Z"
   },
   {
    "duration": 186,
    "start_time": "2022-12-22T17:49:24.859Z"
   },
   {
    "duration": 168,
    "start_time": "2022-12-22T17:49:25.047Z"
   },
   {
    "duration": 23,
    "start_time": "2022-12-22T17:49:25.217Z"
   },
   {
    "duration": 44,
    "start_time": "2022-12-22T17:49:25.242Z"
   },
   {
    "duration": 20,
    "start_time": "2022-12-22T17:49:25.294Z"
   },
   {
    "duration": 73,
    "start_time": "2022-12-22T17:49:25.316Z"
   },
   {
    "duration": 29,
    "start_time": "2022-12-22T17:49:25.391Z"
   },
   {
    "duration": 6,
    "start_time": "2022-12-22T17:49:25.422Z"
   },
   {
    "duration": 46,
    "start_time": "2022-12-22T17:49:25.430Z"
   },
   {
    "duration": 3,
    "start_time": "2022-12-22T17:49:25.477Z"
   },
   {
    "duration": 24,
    "start_time": "2022-12-22T17:49:25.482Z"
   },
   {
    "duration": 16,
    "start_time": "2022-12-22T17:49:25.508Z"
   },
   {
    "duration": 33,
    "start_time": "2022-12-22T17:49:25.525Z"
   },
   {
    "duration": 20,
    "start_time": "2022-12-22T17:49:25.560Z"
   },
   {
    "duration": 18,
    "start_time": "2022-12-22T17:49:25.582Z"
   },
   {
    "duration": 20,
    "start_time": "2022-12-22T17:49:25.602Z"
   },
   {
    "duration": 34,
    "start_time": "2022-12-22T17:49:25.624Z"
   },
   {
    "duration": 35,
    "start_time": "2022-12-22T17:49:25.660Z"
   },
   {
    "duration": 25,
    "start_time": "2022-12-22T17:49:25.697Z"
   },
   {
    "duration": 15,
    "start_time": "2022-12-22T17:49:25.724Z"
   },
   {
    "duration": 28,
    "start_time": "2022-12-22T17:49:25.741Z"
   },
   {
    "duration": 37,
    "start_time": "2022-12-22T17:49:25.771Z"
   },
   {
    "duration": 35,
    "start_time": "2022-12-22T17:49:25.810Z"
   },
   {
    "duration": 20,
    "start_time": "2022-12-22T17:49:25.847Z"
   },
   {
    "duration": 35,
    "start_time": "2022-12-22T17:49:25.869Z"
   },
   {
    "duration": 35,
    "start_time": "2022-12-22T17:49:25.906Z"
   },
   {
    "duration": 27,
    "start_time": "2022-12-22T17:49:25.946Z"
   },
   {
    "duration": 15,
    "start_time": "2022-12-22T17:50:47.267Z"
   },
   {
    "duration": 83,
    "start_time": "2022-12-22T17:50:56.937Z"
   },
   {
    "duration": 13,
    "start_time": "2022-12-22T17:52:23.167Z"
   },
   {
    "duration": 15,
    "start_time": "2022-12-22T17:53:57.052Z"
   },
   {
    "duration": 15,
    "start_time": "2022-12-22T17:54:06.682Z"
   },
   {
    "duration": 15,
    "start_time": "2022-12-22T17:54:14.498Z"
   },
   {
    "duration": 8,
    "start_time": "2022-12-22T17:56:48.995Z"
   },
   {
    "duration": 15,
    "start_time": "2022-12-22T17:56:54.602Z"
   },
   {
    "duration": 637,
    "start_time": "2022-12-22T18:06:08.842Z"
   },
   {
    "duration": 95,
    "start_time": "2022-12-22T18:06:09.481Z"
   },
   {
    "duration": 97,
    "start_time": "2022-12-22T18:06:09.578Z"
   },
   {
    "duration": 15,
    "start_time": "2022-12-22T18:06:09.678Z"
   },
   {
    "duration": 2077,
    "start_time": "2022-12-22T18:06:09.695Z"
   },
   {
    "duration": 11,
    "start_time": "2022-12-22T18:06:11.774Z"
   },
   {
    "duration": 17,
    "start_time": "2022-12-22T18:06:11.787Z"
   },
   {
    "duration": 11,
    "start_time": "2022-12-22T18:06:11.806Z"
   },
   {
    "duration": 22,
    "start_time": "2022-12-22T18:06:11.818Z"
   },
   {
    "duration": 19,
    "start_time": "2022-12-22T18:06:11.842Z"
   },
   {
    "duration": 162,
    "start_time": "2022-12-22T18:06:11.862Z"
   },
   {
    "duration": 144,
    "start_time": "2022-12-22T18:06:12.025Z"
   },
   {
    "duration": 18,
    "start_time": "2022-12-22T18:06:12.171Z"
   },
   {
    "duration": 32,
    "start_time": "2022-12-22T18:06:12.192Z"
   },
   {
    "duration": 157,
    "start_time": "2022-12-22T18:06:12.226Z"
   },
   {
    "duration": 156,
    "start_time": "2022-12-22T18:06:12.385Z"
   },
   {
    "duration": 22,
    "start_time": "2022-12-22T18:06:12.542Z"
   },
   {
    "duration": 57,
    "start_time": "2022-12-22T18:06:12.566Z"
   },
   {
    "duration": 4,
    "start_time": "2022-12-22T18:06:12.625Z"
   },
   {
    "duration": 30,
    "start_time": "2022-12-22T18:06:12.630Z"
   },
   {
    "duration": 5,
    "start_time": "2022-12-22T18:06:12.661Z"
   },
   {
    "duration": 5,
    "start_time": "2022-12-22T18:06:12.667Z"
   },
   {
    "duration": 4,
    "start_time": "2022-12-22T18:06:12.674Z"
   },
   {
    "duration": 5,
    "start_time": "2022-12-22T18:06:12.680Z"
   },
   {
    "duration": 25,
    "start_time": "2022-12-22T18:06:12.687Z"
   },
   {
    "duration": 3,
    "start_time": "2022-12-22T18:06:12.714Z"
   },
   {
    "duration": 4,
    "start_time": "2022-12-22T18:06:12.719Z"
   },
   {
    "duration": 4,
    "start_time": "2022-12-22T18:06:12.726Z"
   },
   {
    "duration": 6,
    "start_time": "2022-12-22T18:06:12.731Z"
   },
   {
    "duration": 8,
    "start_time": "2022-12-22T18:06:12.738Z"
   },
   {
    "duration": 10,
    "start_time": "2022-12-22T18:06:12.748Z"
   },
   {
    "duration": 10,
    "start_time": "2022-12-22T18:06:12.759Z"
   },
   {
    "duration": 5,
    "start_time": "2022-12-22T18:06:12.770Z"
   },
   {
    "duration": 5,
    "start_time": "2022-12-22T18:06:12.776Z"
   },
   {
    "duration": 4,
    "start_time": "2022-12-22T18:06:12.782Z"
   },
   {
    "duration": 5,
    "start_time": "2022-12-22T18:06:12.788Z"
   },
   {
    "duration": 19,
    "start_time": "2022-12-22T18:06:12.794Z"
   },
   {
    "duration": 5,
    "start_time": "2022-12-22T18:06:12.814Z"
   },
   {
    "duration": 5,
    "start_time": "2022-12-22T18:06:12.820Z"
   },
   {
    "duration": 5,
    "start_time": "2022-12-22T18:06:12.827Z"
   },
   {
    "duration": 8,
    "start_time": "2022-12-22T18:06:12.834Z"
   },
   {
    "duration": 14,
    "start_time": "2022-12-22T18:06:48.992Z"
   },
   {
    "duration": 7,
    "start_time": "2022-12-22T18:07:25.872Z"
   },
   {
    "duration": 9,
    "start_time": "2022-12-22T18:08:23.824Z"
   },
   {
    "duration": 9,
    "start_time": "2022-12-22T18:08:44.304Z"
   },
   {
    "duration": 38,
    "start_time": "2022-12-22T18:09:35.625Z"
   },
   {
    "duration": 34,
    "start_time": "2022-12-22T18:09:49.904Z"
   },
   {
    "duration": 26,
    "start_time": "2022-12-22T18:10:21.209Z"
   },
   {
    "duration": 26,
    "start_time": "2022-12-22T18:11:35.697Z"
   },
   {
    "duration": 26,
    "start_time": "2022-12-22T18:12:24.897Z"
   },
   {
    "duration": 9,
    "start_time": "2022-12-22T18:12:57.130Z"
   },
   {
    "duration": 10,
    "start_time": "2022-12-22T18:17:04.947Z"
   },
   {
    "duration": 11,
    "start_time": "2022-12-22T18:17:12.293Z"
   },
   {
    "duration": 7,
    "start_time": "2022-12-22T18:17:15.539Z"
   },
   {
    "duration": 8,
    "start_time": "2022-12-22T18:17:20.996Z"
   },
   {
    "duration": 7,
    "start_time": "2022-12-22T18:17:24.565Z"
   },
   {
    "duration": 9,
    "start_time": "2022-12-22T18:17:29.770Z"
   },
   {
    "duration": 9,
    "start_time": "2022-12-22T18:17:34.771Z"
   },
   {
    "duration": 874,
    "start_time": "2022-12-23T09:31:39.285Z"
   },
   {
    "duration": 316,
    "start_time": "2022-12-23T09:31:40.161Z"
   },
   {
    "duration": 102,
    "start_time": "2022-12-23T09:31:40.479Z"
   },
   {
    "duration": 22,
    "start_time": "2022-12-23T09:31:40.583Z"
   },
   {
    "duration": 2150,
    "start_time": "2022-12-23T09:31:40.608Z"
   },
   {
    "duration": 10,
    "start_time": "2022-12-23T09:31:42.760Z"
   },
   {
    "duration": 20,
    "start_time": "2022-12-23T09:31:42.772Z"
   },
   {
    "duration": 17,
    "start_time": "2022-12-23T09:31:42.794Z"
   },
   {
    "duration": 31,
    "start_time": "2022-12-23T09:31:42.813Z"
   },
   {
    "duration": 18,
    "start_time": "2022-12-23T09:31:42.846Z"
   },
   {
    "duration": 193,
    "start_time": "2022-12-23T09:31:42.866Z"
   },
   {
    "duration": 145,
    "start_time": "2022-12-23T09:31:43.060Z"
   },
   {
    "duration": 23,
    "start_time": "2022-12-23T09:31:43.207Z"
   },
   {
    "duration": 16,
    "start_time": "2022-12-23T09:31:43.234Z"
   },
   {
    "duration": 187,
    "start_time": "2022-12-23T09:31:43.251Z"
   },
   {
    "duration": 189,
    "start_time": "2022-12-23T09:31:43.439Z"
   },
   {
    "duration": 22,
    "start_time": "2022-12-23T09:31:43.630Z"
   },
   {
    "duration": 62,
    "start_time": "2022-12-23T09:31:43.654Z"
   },
   {
    "duration": 6,
    "start_time": "2022-12-23T09:31:43.718Z"
   },
   {
    "duration": 32,
    "start_time": "2022-12-23T09:31:43.726Z"
   },
   {
    "duration": 23,
    "start_time": "2022-12-23T09:31:43.759Z"
   },
   {
    "duration": 14,
    "start_time": "2022-12-23T09:31:43.784Z"
   },
   {
    "duration": 6,
    "start_time": "2022-12-23T09:31:43.800Z"
   },
   {
    "duration": 6,
    "start_time": "2022-12-23T09:31:43.807Z"
   },
   {
    "duration": 9,
    "start_time": "2022-12-23T09:31:43.815Z"
   },
   {
    "duration": 12,
    "start_time": "2022-12-23T09:31:43.830Z"
   },
   {
    "duration": 6,
    "start_time": "2022-12-23T09:31:43.843Z"
   },
   {
    "duration": 8,
    "start_time": "2022-12-23T09:31:43.851Z"
   },
   {
    "duration": 12,
    "start_time": "2022-12-23T09:31:43.860Z"
   },
   {
    "duration": 6,
    "start_time": "2022-12-23T09:31:43.874Z"
   },
   {
    "duration": 8,
    "start_time": "2022-12-23T09:31:43.883Z"
   },
   {
    "duration": 27,
    "start_time": "2022-12-23T09:31:43.892Z"
   },
   {
    "duration": 3,
    "start_time": "2022-12-23T09:31:43.922Z"
   },
   {
    "duration": 18,
    "start_time": "2022-12-23T09:31:43.926Z"
   },
   {
    "duration": 11,
    "start_time": "2022-12-23T09:31:43.951Z"
   },
   {
    "duration": 14,
    "start_time": "2022-12-23T09:31:43.964Z"
   },
   {
    "duration": 22,
    "start_time": "2022-12-23T09:31:43.979Z"
   },
   {
    "duration": 12,
    "start_time": "2022-12-23T09:31:44.004Z"
   },
   {
    "duration": 16,
    "start_time": "2022-12-23T09:31:44.018Z"
   },
   {
    "duration": 10,
    "start_time": "2022-12-23T09:31:44.036Z"
   },
   {
    "duration": 8,
    "start_time": "2022-12-23T09:31:44.050Z"
   },
   {
    "duration": 17,
    "start_time": "2022-12-23T09:34:39.372Z"
   },
   {
    "duration": 29,
    "start_time": "2022-12-23T09:35:29.640Z"
   },
   {
    "duration": 21,
    "start_time": "2022-12-23T09:36:23.516Z"
   },
   {
    "duration": 621,
    "start_time": "2022-12-23T09:36:46.122Z"
   },
   {
    "duration": 106,
    "start_time": "2022-12-23T09:36:46.745Z"
   },
   {
    "duration": 101,
    "start_time": "2022-12-23T09:36:46.853Z"
   },
   {
    "duration": 14,
    "start_time": "2022-12-23T09:36:46.956Z"
   },
   {
    "duration": 2231,
    "start_time": "2022-12-23T09:36:46.972Z"
   },
   {
    "duration": 15,
    "start_time": "2022-12-23T09:36:49.247Z"
   },
   {
    "duration": 33,
    "start_time": "2022-12-23T09:36:49.264Z"
   },
   {
    "duration": 40,
    "start_time": "2022-12-23T09:36:49.300Z"
   },
   {
    "duration": 43,
    "start_time": "2022-12-23T09:36:49.341Z"
   },
   {
    "duration": 35,
    "start_time": "2022-12-23T09:36:49.386Z"
   },
   {
    "duration": 170,
    "start_time": "2022-12-23T09:36:49.423Z"
   },
   {
    "duration": 151,
    "start_time": "2022-12-23T09:36:49.595Z"
   },
   {
    "duration": 19,
    "start_time": "2022-12-23T09:36:49.747Z"
   },
   {
    "duration": 67,
    "start_time": "2022-12-23T09:36:49.768Z"
   },
   {
    "duration": 239,
    "start_time": "2022-12-23T09:36:49.837Z"
   },
   {
    "duration": 178,
    "start_time": "2022-12-23T09:36:50.077Z"
   },
   {
    "duration": 24,
    "start_time": "2022-12-23T09:36:50.256Z"
   },
   {
    "duration": 100,
    "start_time": "2022-12-23T09:36:50.282Z"
   },
   {
    "duration": 4,
    "start_time": "2022-12-23T09:36:50.383Z"
   },
   {
    "duration": 66,
    "start_time": "2022-12-23T09:36:50.389Z"
   },
   {
    "duration": 33,
    "start_time": "2022-12-23T09:36:50.456Z"
   },
   {
    "duration": 46,
    "start_time": "2022-12-23T09:36:50.491Z"
   },
   {
    "duration": 58,
    "start_time": "2022-12-23T09:36:50.539Z"
   },
   {
    "duration": 73,
    "start_time": "2022-12-23T09:36:50.600Z"
   },
   {
    "duration": 67,
    "start_time": "2022-12-23T09:36:50.674Z"
   },
   {
    "duration": 7,
    "start_time": "2022-12-23T09:36:50.743Z"
   },
   {
    "duration": 5,
    "start_time": "2022-12-23T09:36:50.752Z"
   },
   {
    "duration": 6,
    "start_time": "2022-12-23T09:36:50.761Z"
   },
   {
    "duration": 5,
    "start_time": "2022-12-23T09:36:50.769Z"
   },
   {
    "duration": 16,
    "start_time": "2022-12-23T09:36:50.775Z"
   },
   {
    "duration": 14,
    "start_time": "2022-12-23T09:36:50.793Z"
   },
   {
    "duration": 17,
    "start_time": "2022-12-23T09:36:50.811Z"
   },
   {
    "duration": 15,
    "start_time": "2022-12-23T09:36:50.830Z"
   },
   {
    "duration": 38,
    "start_time": "2022-12-23T09:36:50.846Z"
   },
   {
    "duration": 20,
    "start_time": "2022-12-23T09:36:50.886Z"
   },
   {
    "duration": 18,
    "start_time": "2022-12-23T09:36:50.908Z"
   },
   {
    "duration": 7,
    "start_time": "2022-12-23T09:36:50.927Z"
   },
   {
    "duration": 9,
    "start_time": "2022-12-23T09:36:50.936Z"
   },
   {
    "duration": 8,
    "start_time": "2022-12-23T09:36:50.946Z"
   },
   {
    "duration": 7,
    "start_time": "2022-12-23T09:36:50.955Z"
   },
   {
    "duration": 7,
    "start_time": "2022-12-23T09:36:50.964Z"
   },
   {
    "duration": 10,
    "start_time": "2022-12-23T09:39:27.440Z"
   },
   {
    "duration": 13,
    "start_time": "2022-12-23T09:39:50.536Z"
   },
   {
    "duration": 9,
    "start_time": "2022-12-23T09:42:20.619Z"
   },
   {
    "duration": 135,
    "start_time": "2022-12-23T09:42:51.302Z"
   },
   {
    "duration": 24,
    "start_time": "2022-12-23T09:43:01.538Z"
   },
   {
    "duration": 8,
    "start_time": "2022-12-23T09:49:58.128Z"
   },
   {
    "duration": 14,
    "start_time": "2022-12-23T09:50:07.829Z"
   },
   {
    "duration": 5,
    "start_time": "2022-12-23T09:52:28.125Z"
   },
   {
    "duration": 8,
    "start_time": "2022-12-23T09:52:47.619Z"
   },
   {
    "duration": 16,
    "start_time": "2022-12-23T09:53:03.533Z"
   },
   {
    "duration": 6,
    "start_time": "2022-12-23T09:54:16.973Z"
   },
   {
    "duration": 14,
    "start_time": "2022-12-23T09:54:27.380Z"
   },
   {
    "duration": 137,
    "start_time": "2022-12-23T09:54:41.101Z"
   },
   {
    "duration": 239,
    "start_time": "2022-12-23T09:54:57.244Z"
   },
   {
    "duration": 25,
    "start_time": "2022-12-23T09:55:30.107Z"
   },
   {
    "duration": 23,
    "start_time": "2022-12-23T09:57:02.662Z"
   },
   {
    "duration": 19,
    "start_time": "2022-12-23T09:57:24.085Z"
   },
   {
    "duration": 8,
    "start_time": "2022-12-23T09:59:53.308Z"
   },
   {
    "duration": 17,
    "start_time": "2022-12-23T10:00:00.013Z"
   },
   {
    "duration": 658,
    "start_time": "2022-12-23T10:01:13.070Z"
   },
   {
    "duration": 98,
    "start_time": "2022-12-23T10:01:13.730Z"
   },
   {
    "duration": 104,
    "start_time": "2022-12-23T10:01:13.829Z"
   },
   {
    "duration": 17,
    "start_time": "2022-12-23T10:01:13.934Z"
   },
   {
    "duration": 2253,
    "start_time": "2022-12-23T10:01:13.953Z"
   },
   {
    "duration": 13,
    "start_time": "2022-12-23T10:01:16.208Z"
   },
   {
    "duration": 18,
    "start_time": "2022-12-23T10:01:16.224Z"
   },
   {
    "duration": 52,
    "start_time": "2022-12-23T10:01:16.245Z"
   },
   {
    "duration": 49,
    "start_time": "2022-12-23T10:01:16.299Z"
   },
   {
    "duration": 24,
    "start_time": "2022-12-23T10:01:16.351Z"
   },
   {
    "duration": 170,
    "start_time": "2022-12-23T10:01:16.377Z"
   },
   {
    "duration": 141,
    "start_time": "2022-12-23T10:01:16.549Z"
   },
   {
    "duration": 18,
    "start_time": "2022-12-23T10:01:16.695Z"
   },
   {
    "duration": 20,
    "start_time": "2022-12-23T10:01:16.716Z"
   },
   {
    "duration": 166,
    "start_time": "2022-12-23T10:01:16.738Z"
   },
   {
    "duration": 155,
    "start_time": "2022-12-23T10:01:16.907Z"
   },
   {
    "duration": 33,
    "start_time": "2022-12-23T10:01:17.064Z"
   },
   {
    "duration": 43,
    "start_time": "2022-12-23T10:01:17.099Z"
   },
   {
    "duration": 5,
    "start_time": "2022-12-23T10:01:17.144Z"
   },
   {
    "duration": 52,
    "start_time": "2022-12-23T10:01:17.150Z"
   },
   {
    "duration": 6,
    "start_time": "2022-12-23T10:01:17.203Z"
   },
   {
    "duration": 158,
    "start_time": "2022-12-23T10:01:17.211Z"
   },
   {
    "duration": 32,
    "start_time": "2022-12-23T10:01:17.371Z"
   },
   {
    "duration": 10,
    "start_time": "2022-12-23T10:01:17.404Z"
   },
   {
    "duration": 14,
    "start_time": "2022-12-23T10:01:17.416Z"
   },
   {
    "duration": 5,
    "start_time": "2022-12-23T10:01:17.432Z"
   },
   {
    "duration": 26,
    "start_time": "2022-12-23T10:01:17.439Z"
   },
   {
    "duration": 8,
    "start_time": "2022-12-23T10:01:17.467Z"
   },
   {
    "duration": 161,
    "start_time": "2022-12-23T10:01:17.477Z"
   },
   {
    "duration": 263,
    "start_time": "2022-12-23T10:01:17.639Z"
   },
   {
    "duration": 21,
    "start_time": "2022-12-23T10:01:17.904Z"
   },
   {
    "duration": 3,
    "start_time": "2022-12-23T10:01:17.928Z"
   },
   {
    "duration": 26,
    "start_time": "2022-12-23T10:01:17.933Z"
   },
   {
    "duration": 12,
    "start_time": "2022-12-23T10:01:17.960Z"
   },
   {
    "duration": 4,
    "start_time": "2022-12-23T10:01:17.974Z"
   },
   {
    "duration": 8,
    "start_time": "2022-12-23T10:01:17.980Z"
   },
   {
    "duration": 7,
    "start_time": "2022-12-23T10:01:17.990Z"
   },
   {
    "duration": 5,
    "start_time": "2022-12-23T10:01:17.998Z"
   },
   {
    "duration": 7,
    "start_time": "2022-12-23T10:01:18.005Z"
   },
   {
    "duration": 6,
    "start_time": "2022-12-23T10:01:18.014Z"
   },
   {
    "duration": 4,
    "start_time": "2022-12-23T10:01:18.023Z"
   },
   {
    "duration": 13,
    "start_time": "2022-12-23T10:01:57.769Z"
   },
   {
    "duration": 6,
    "start_time": "2022-12-23T10:05:33.953Z"
   },
   {
    "duration": 17,
    "start_time": "2022-12-23T10:05:43.902Z"
   },
   {
    "duration": 680,
    "start_time": "2022-12-23T10:06:39.787Z"
   },
   {
    "duration": 95,
    "start_time": "2022-12-23T10:06:40.469Z"
   },
   {
    "duration": 110,
    "start_time": "2022-12-23T10:06:40.566Z"
   },
   {
    "duration": 29,
    "start_time": "2022-12-23T10:06:40.679Z"
   },
   {
    "duration": 2048,
    "start_time": "2022-12-23T10:06:40.710Z"
   },
   {
    "duration": 10,
    "start_time": "2022-12-23T10:06:42.759Z"
   },
   {
    "duration": 15,
    "start_time": "2022-12-23T10:06:42.771Z"
   },
   {
    "duration": 11,
    "start_time": "2022-12-23T10:06:42.787Z"
   },
   {
    "duration": 22,
    "start_time": "2022-12-23T10:06:42.799Z"
   },
   {
    "duration": 18,
    "start_time": "2022-12-23T10:06:42.824Z"
   },
   {
    "duration": 169,
    "start_time": "2022-12-23T10:06:42.844Z"
   },
   {
    "duration": 132,
    "start_time": "2022-12-23T10:06:43.015Z"
   },
   {
    "duration": 18,
    "start_time": "2022-12-23T10:06:43.148Z"
   },
   {
    "duration": 35,
    "start_time": "2022-12-23T10:06:43.168Z"
   },
   {
    "duration": 155,
    "start_time": "2022-12-23T10:06:43.205Z"
   },
   {
    "duration": 163,
    "start_time": "2022-12-23T10:06:43.362Z"
   },
   {
    "duration": 23,
    "start_time": "2022-12-23T10:06:43.527Z"
   },
   {
    "duration": 64,
    "start_time": "2022-12-23T10:06:43.552Z"
   },
   {
    "duration": 4,
    "start_time": "2022-12-23T10:06:43.618Z"
   },
   {
    "duration": 37,
    "start_time": "2022-12-23T10:06:43.624Z"
   },
   {
    "duration": 8,
    "start_time": "2022-12-23T10:06:43.663Z"
   },
   {
    "duration": 162,
    "start_time": "2022-12-23T10:06:43.673Z"
   },
   {
    "duration": 25,
    "start_time": "2022-12-23T10:06:43.837Z"
   },
   {
    "duration": 8,
    "start_time": "2022-12-23T10:06:43.864Z"
   },
   {
    "duration": 35,
    "start_time": "2022-12-23T10:06:43.874Z"
   },
   {
    "duration": 5,
    "start_time": "2022-12-23T10:06:43.911Z"
   },
   {
    "duration": 33,
    "start_time": "2022-12-23T10:06:43.918Z"
   },
   {
    "duration": 6,
    "start_time": "2022-12-23T10:06:43.955Z"
   },
   {
    "duration": 152,
    "start_time": "2022-12-23T10:06:43.963Z"
   },
   {
    "duration": 250,
    "start_time": "2022-12-23T10:06:44.117Z"
   },
   {
    "duration": 19,
    "start_time": "2022-12-23T10:06:44.369Z"
   },
   {
    "duration": 27,
    "start_time": "2022-12-23T10:06:44.397Z"
   },
   {
    "duration": 3,
    "start_time": "2022-12-23T10:06:44.425Z"
   },
   {
    "duration": 7,
    "start_time": "2022-12-23T10:06:44.430Z"
   },
   {
    "duration": 7,
    "start_time": "2022-12-23T10:06:44.439Z"
   },
   {
    "duration": 10,
    "start_time": "2022-12-23T10:06:44.448Z"
   },
   {
    "duration": 8,
    "start_time": "2022-12-23T10:06:44.460Z"
   },
   {
    "duration": 8,
    "start_time": "2022-12-23T10:06:44.469Z"
   },
   {
    "duration": 6,
    "start_time": "2022-12-23T10:06:44.478Z"
   },
   {
    "duration": 4,
    "start_time": "2022-12-23T10:06:44.486Z"
   },
   {
    "duration": 5,
    "start_time": "2022-12-23T10:06:44.492Z"
   },
   {
    "duration": 8,
    "start_time": "2022-12-23T10:06:44.499Z"
   },
   {
    "duration": 8,
    "start_time": "2022-12-23T10:11:09.343Z"
   },
   {
    "duration": 24,
    "start_time": "2022-12-23T10:12:28.121Z"
   },
   {
    "duration": 18,
    "start_time": "2022-12-23T10:13:41.716Z"
   },
   {
    "duration": 8,
    "start_time": "2022-12-23T10:45:02.517Z"
   },
   {
    "duration": 135,
    "start_time": "2022-12-23T10:46:04.326Z"
   },
   {
    "duration": 140,
    "start_time": "2022-12-23T10:46:12.530Z"
   },
   {
    "duration": 32,
    "start_time": "2022-12-23T10:46:49.157Z"
   },
   {
    "duration": 12,
    "start_time": "2022-12-23T10:47:34.326Z"
   },
   {
    "duration": 23,
    "start_time": "2022-12-23T10:48:28.100Z"
   },
   {
    "duration": 20,
    "start_time": "2022-12-23T10:48:39.650Z"
   },
   {
    "duration": 19,
    "start_time": "2022-12-23T10:53:11.531Z"
   },
   {
    "duration": 18,
    "start_time": "2022-12-23T10:53:32.626Z"
   },
   {
    "duration": 17,
    "start_time": "2022-12-23T10:54:09.276Z"
   },
   {
    "duration": 7,
    "start_time": "2022-12-23T10:54:24.895Z"
   },
   {
    "duration": 8,
    "start_time": "2022-12-23T10:54:37.940Z"
   },
   {
    "duration": 27,
    "start_time": "2022-12-23T10:54:45.237Z"
   },
   {
    "duration": 30,
    "start_time": "2022-12-23T10:55:06.759Z"
   },
   {
    "duration": 26,
    "start_time": "2022-12-23T10:55:24.341Z"
   },
   {
    "duration": 22,
    "start_time": "2022-12-23T10:56:05.641Z"
   },
   {
    "duration": 27,
    "start_time": "2022-12-23T11:00:07.727Z"
   },
   {
    "duration": 23,
    "start_time": "2022-12-23T11:00:12.037Z"
   },
   {
    "duration": 6,
    "start_time": "2022-12-23T11:07:59.887Z"
   },
   {
    "duration": 7,
    "start_time": "2022-12-23T11:08:45.161Z"
   },
   {
    "duration": 44,
    "start_time": "2022-12-23T11:08:46.480Z"
   },
   {
    "duration": 6,
    "start_time": "2022-12-23T11:09:11.176Z"
   },
   {
    "duration": 29,
    "start_time": "2022-12-23T11:09:13.180Z"
   },
   {
    "duration": 4,
    "start_time": "2022-12-23T11:09:28.886Z"
   },
   {
    "duration": 10,
    "start_time": "2022-12-23T11:09:31.255Z"
   },
   {
    "duration": 8,
    "start_time": "2022-12-23T11:10:00.342Z"
   },
   {
    "duration": 9,
    "start_time": "2022-12-23T11:10:20.728Z"
   },
   {
    "duration": 9,
    "start_time": "2022-12-23T11:10:48.336Z"
   },
   {
    "duration": 16,
    "start_time": "2022-12-23T11:11:29.421Z"
   },
   {
    "duration": 15,
    "start_time": "2022-12-23T11:11:54.449Z"
   },
   {
    "duration": 15,
    "start_time": "2022-12-23T11:12:01.753Z"
   },
   {
    "duration": 15,
    "start_time": "2022-12-23T11:12:09.032Z"
   },
   {
    "duration": 23,
    "start_time": "2022-12-23T11:12:17.256Z"
   },
   {
    "duration": 19,
    "start_time": "2022-12-23T11:12:24.224Z"
   },
   {
    "duration": 16,
    "start_time": "2022-12-23T11:12:31.169Z"
   },
   {
    "duration": 6,
    "start_time": "2022-12-23T11:23:30.748Z"
   },
   {
    "duration": 12,
    "start_time": "2022-12-23T11:23:57.277Z"
   },
   {
    "duration": 12,
    "start_time": "2022-12-23T11:24:10.793Z"
   },
   {
    "duration": 8,
    "start_time": "2022-12-23T11:24:29.966Z"
   },
   {
    "duration": 9,
    "start_time": "2022-12-23T11:24:48.436Z"
   },
   {
    "duration": 8,
    "start_time": "2022-12-23T11:25:04.893Z"
   },
   {
    "duration": 9,
    "start_time": "2022-12-23T11:25:15.364Z"
   },
   {
    "duration": 9,
    "start_time": "2022-12-23T11:26:26.965Z"
   },
   {
    "duration": 14,
    "start_time": "2022-12-23T11:28:38.721Z"
   },
   {
    "duration": 5,
    "start_time": "2022-12-23T11:29:51.254Z"
   },
   {
    "duration": 18,
    "start_time": "2022-12-23T11:30:00.340Z"
   },
   {
    "duration": 4,
    "start_time": "2022-12-23T11:45:28.923Z"
   },
   {
    "duration": 28,
    "start_time": "2022-12-23T11:45:39.948Z"
   },
   {
    "duration": 36,
    "start_time": "2022-12-23T11:46:58.726Z"
   },
   {
    "duration": 27,
    "start_time": "2022-12-23T11:47:08.305Z"
   },
   {
    "duration": 103,
    "start_time": "2022-12-23T11:52:58.729Z"
   },
   {
    "duration": 12,
    "start_time": "2022-12-23T11:53:06.144Z"
   },
   {
    "duration": 9,
    "start_time": "2022-12-23T11:54:09.551Z"
   },
   {
    "duration": 13,
    "start_time": "2022-12-23T11:55:13.724Z"
   },
   {
    "duration": 12,
    "start_time": "2022-12-23T11:55:19.745Z"
   },
   {
    "duration": 621,
    "start_time": "2022-12-23T11:55:33.441Z"
   },
   {
    "duration": 92,
    "start_time": "2022-12-23T11:55:34.064Z"
   },
   {
    "duration": 99,
    "start_time": "2022-12-23T11:55:34.157Z"
   },
   {
    "duration": 15,
    "start_time": "2022-12-23T11:55:34.258Z"
   },
   {
    "duration": 2195,
    "start_time": "2022-12-23T11:55:34.275Z"
   },
   {
    "duration": 10,
    "start_time": "2022-12-23T11:55:36.471Z"
   },
   {
    "duration": 21,
    "start_time": "2022-12-23T11:55:36.483Z"
   },
   {
    "duration": 29,
    "start_time": "2022-12-23T11:55:36.506Z"
   },
   {
    "duration": 24,
    "start_time": "2022-12-23T11:55:36.537Z"
   },
   {
    "duration": 20,
    "start_time": "2022-12-23T11:55:36.562Z"
   },
   {
    "duration": 156,
    "start_time": "2022-12-23T11:55:36.584Z"
   },
   {
    "duration": 135,
    "start_time": "2022-12-23T11:55:36.741Z"
   },
   {
    "duration": 30,
    "start_time": "2022-12-23T11:55:36.877Z"
   },
   {
    "duration": 18,
    "start_time": "2022-12-23T11:55:36.911Z"
   },
   {
    "duration": 160,
    "start_time": "2022-12-23T11:55:36.930Z"
   },
   {
    "duration": 177,
    "start_time": "2022-12-23T11:55:37.095Z"
   },
   {
    "duration": 31,
    "start_time": "2022-12-23T11:55:37.274Z"
   },
   {
    "duration": 43,
    "start_time": "2022-12-23T11:55:37.307Z"
   },
   {
    "duration": 5,
    "start_time": "2022-12-23T11:55:37.352Z"
   },
   {
    "duration": 47,
    "start_time": "2022-12-23T11:55:37.359Z"
   },
   {
    "duration": 18,
    "start_time": "2022-12-23T11:55:37.408Z"
   },
   {
    "duration": 150,
    "start_time": "2022-12-23T11:55:37.428Z"
   },
   {
    "duration": 33,
    "start_time": "2022-12-23T11:55:37.581Z"
   },
   {
    "duration": 9,
    "start_time": "2022-12-23T11:55:37.616Z"
   },
   {
    "duration": 21,
    "start_time": "2022-12-23T11:55:37.626Z"
   },
   {
    "duration": 10,
    "start_time": "2022-12-23T11:55:37.649Z"
   },
   {
    "duration": 39,
    "start_time": "2022-12-23T11:55:37.661Z"
   },
   {
    "duration": 7,
    "start_time": "2022-12-23T11:55:37.702Z"
   },
   {
    "duration": 152,
    "start_time": "2022-12-23T11:55:37.710Z"
   },
   {
    "duration": 274,
    "start_time": "2022-12-23T11:55:37.863Z"
   },
   {
    "duration": 35,
    "start_time": "2022-12-23T11:55:38.139Z"
   },
   {
    "duration": 28,
    "start_time": "2022-12-23T11:55:38.176Z"
   },
   {
    "duration": 33,
    "start_time": "2022-12-23T11:55:38.207Z"
   },
   {
    "duration": 156,
    "start_time": "2022-12-23T11:55:38.242Z"
   },
   {
    "duration": 167,
    "start_time": "2022-12-23T11:55:38.400Z"
   },
   {
    "duration": 10,
    "start_time": "2022-12-23T11:55:38.568Z"
   },
   {
    "duration": 33,
    "start_time": "2022-12-23T11:55:38.580Z"
   },
   {
    "duration": 8,
    "start_time": "2022-12-23T11:55:38.615Z"
   },
   {
    "duration": 27,
    "start_time": "2022-12-23T11:55:38.625Z"
   },
   {
    "duration": 43,
    "start_time": "2022-12-23T11:55:38.654Z"
   },
   {
    "duration": 27,
    "start_time": "2022-12-23T11:55:38.701Z"
   },
   {
    "duration": 8,
    "start_time": "2022-12-23T11:55:38.730Z"
   },
   {
    "duration": 19,
    "start_time": "2022-12-23T11:55:38.740Z"
   },
   {
    "duration": 38,
    "start_time": "2022-12-23T11:55:38.761Z"
   },
   {
    "duration": 12,
    "start_time": "2022-12-23T11:55:38.801Z"
   },
   {
    "duration": 37,
    "start_time": "2022-12-23T11:55:38.815Z"
   },
   {
    "duration": 8,
    "start_time": "2022-12-23T11:55:38.854Z"
   },
   {
    "duration": 10,
    "start_time": "2022-12-23T11:55:38.864Z"
   },
   {
    "duration": 8,
    "start_time": "2022-12-23T11:55:38.876Z"
   },
   {
    "duration": 17,
    "start_time": "2022-12-23T11:55:38.886Z"
   },
   {
    "duration": 9,
    "start_time": "2022-12-23T11:55:38.905Z"
   },
   {
    "duration": 16,
    "start_time": "2022-12-23T11:55:38.915Z"
   },
   {
    "duration": 29,
    "start_time": "2022-12-23T11:55:38.933Z"
   },
   {
    "duration": 78,
    "start_time": "2022-12-23T11:55:38.997Z"
   },
   {
    "duration": 8,
    "start_time": "2022-12-23T11:57:48.565Z"
   },
   {
    "duration": 12,
    "start_time": "2022-12-23T11:57:54.672Z"
   },
   {
    "duration": 10,
    "start_time": "2022-12-23T11:58:15.874Z"
   },
   {
    "duration": 7,
    "start_time": "2022-12-23T12:00:11.339Z"
   },
   {
    "duration": 31,
    "start_time": "2022-12-23T12:00:19.370Z"
   },
   {
    "duration": 1028,
    "start_time": "2022-12-23T12:03:22.242Z"
   },
   {
    "duration": 48,
    "start_time": "2022-12-23T12:03:32.320Z"
   },
   {
    "duration": 28,
    "start_time": "2022-12-23T12:04:17.636Z"
   },
   {
    "duration": 147,
    "start_time": "2022-12-23T12:06:55.552Z"
   },
   {
    "duration": 6,
    "start_time": "2022-12-23T12:08:24.809Z"
   },
   {
    "duration": 144,
    "start_time": "2022-12-23T12:11:19.370Z"
   },
   {
    "duration": 177,
    "start_time": "2022-12-23T12:50:13.979Z"
   },
   {
    "duration": 15,
    "start_time": "2022-12-23T12:50:26.642Z"
   },
   {
    "duration": 160,
    "start_time": "2022-12-23T12:50:34.170Z"
   },
   {
    "duration": 676,
    "start_time": "2022-12-23T12:52:07.080Z"
   },
   {
    "duration": 102,
    "start_time": "2022-12-23T12:52:07.758Z"
   },
   {
    "duration": 118,
    "start_time": "2022-12-23T12:52:07.862Z"
   },
   {
    "duration": 26,
    "start_time": "2022-12-23T12:52:07.982Z"
   },
   {
    "duration": 2178,
    "start_time": "2022-12-23T12:52:08.011Z"
   },
   {
    "duration": 10,
    "start_time": "2022-12-23T12:52:10.191Z"
   },
   {
    "duration": 28,
    "start_time": "2022-12-23T12:52:10.203Z"
   },
   {
    "duration": 11,
    "start_time": "2022-12-23T12:52:10.233Z"
   },
   {
    "duration": 32,
    "start_time": "2022-12-23T12:52:10.245Z"
   },
   {
    "duration": 33,
    "start_time": "2022-12-23T12:52:10.280Z"
   },
   {
    "duration": 174,
    "start_time": "2022-12-23T12:52:10.314Z"
   },
   {
    "duration": 140,
    "start_time": "2022-12-23T12:52:10.490Z"
   },
   {
    "duration": 19,
    "start_time": "2022-12-23T12:52:10.632Z"
   },
   {
    "duration": 17,
    "start_time": "2022-12-23T12:52:10.653Z"
   },
   {
    "duration": 34,
    "start_time": "2022-12-23T12:52:10.673Z"
   },
   {
    "duration": 169,
    "start_time": "2022-12-23T12:52:10.711Z"
   },
   {
    "duration": 32,
    "start_time": "2022-12-23T12:52:10.882Z"
   },
   {
    "duration": 42,
    "start_time": "2022-12-23T12:52:10.915Z"
   },
   {
    "duration": 4,
    "start_time": "2022-12-23T12:52:10.960Z"
   },
   {
    "duration": 55,
    "start_time": "2022-12-23T12:52:10.965Z"
   },
   {
    "duration": 6,
    "start_time": "2022-12-23T12:52:11.021Z"
   },
   {
    "duration": 169,
    "start_time": "2022-12-23T12:52:11.029Z"
   },
   {
    "duration": 25,
    "start_time": "2022-12-23T12:52:11.201Z"
   },
   {
    "duration": 7,
    "start_time": "2022-12-23T12:52:11.228Z"
   },
   {
    "duration": 16,
    "start_time": "2022-12-23T12:52:11.237Z"
   },
   {
    "duration": 6,
    "start_time": "2022-12-23T12:52:11.254Z"
   },
   {
    "duration": 44,
    "start_time": "2022-12-23T12:52:11.262Z"
   },
   {
    "duration": 8,
    "start_time": "2022-12-23T12:52:11.312Z"
   },
   {
    "duration": 155,
    "start_time": "2022-12-23T12:52:11.321Z"
   },
   {
    "duration": 196,
    "start_time": "2022-12-23T12:52:11.478Z"
   },
   {
    "duration": 33,
    "start_time": "2022-12-23T12:52:11.676Z"
   },
   {
    "duration": 8,
    "start_time": "2022-12-23T12:52:11.711Z"
   },
   {
    "duration": 19,
    "start_time": "2022-12-23T12:52:11.721Z"
   },
   {
    "duration": 260,
    "start_time": "2022-12-23T12:52:11.741Z"
   },
   {
    "duration": 163,
    "start_time": "2022-12-23T12:52:12.003Z"
   },
   {
    "duration": 11,
    "start_time": "2022-12-23T12:52:12.168Z"
   },
   {
    "duration": 35,
    "start_time": "2022-12-23T12:52:12.181Z"
   },
   {
    "duration": 7,
    "start_time": "2022-12-23T12:52:12.218Z"
   },
   {
    "duration": 37,
    "start_time": "2022-12-23T12:52:12.226Z"
   },
   {
    "duration": 35,
    "start_time": "2022-12-23T12:52:12.264Z"
   },
   {
    "duration": 25,
    "start_time": "2022-12-23T12:52:12.301Z"
   },
   {
    "duration": 8,
    "start_time": "2022-12-23T12:52:12.328Z"
   },
   {
    "duration": 9,
    "start_time": "2022-12-23T12:52:12.337Z"
   },
   {
    "duration": 15,
    "start_time": "2022-12-23T12:52:12.348Z"
   },
   {
    "duration": 40,
    "start_time": "2022-12-23T12:52:12.364Z"
   },
   {
    "duration": 18,
    "start_time": "2022-12-23T12:52:12.405Z"
   },
   {
    "duration": 8,
    "start_time": "2022-12-23T12:52:12.425Z"
   },
   {
    "duration": 13,
    "start_time": "2022-12-23T12:52:12.435Z"
   },
   {
    "duration": 7,
    "start_time": "2022-12-23T12:52:12.450Z"
   },
   {
    "duration": 23,
    "start_time": "2022-12-23T12:52:12.459Z"
   },
   {
    "duration": 21,
    "start_time": "2022-12-23T12:52:12.484Z"
   },
   {
    "duration": 24,
    "start_time": "2022-12-23T12:52:12.507Z"
   },
   {
    "duration": 29,
    "start_time": "2022-12-23T12:52:12.533Z"
   },
   {
    "duration": 54,
    "start_time": "2022-12-23T12:52:12.564Z"
   },
   {
    "duration": 29,
    "start_time": "2022-12-23T12:52:12.619Z"
   },
   {
    "duration": 48,
    "start_time": "2022-12-23T12:52:12.649Z"
   },
   {
    "duration": 6,
    "start_time": "2022-12-23T12:53:40.220Z"
   },
   {
    "duration": 6,
    "start_time": "2022-12-23T12:54:54.914Z"
   },
   {
    "duration": 5,
    "start_time": "2022-12-23T12:55:01.150Z"
   },
   {
    "duration": 5,
    "start_time": "2022-12-23T12:55:12.610Z"
   },
   {
    "duration": 4,
    "start_time": "2022-12-23T12:55:14.469Z"
   },
   {
    "duration": 28,
    "start_time": "2022-12-23T12:56:47.635Z"
   },
   {
    "duration": 17,
    "start_time": "2022-12-23T12:58:27.110Z"
   },
   {
    "duration": 11,
    "start_time": "2022-12-23T12:58:55.543Z"
   },
   {
    "duration": 31,
    "start_time": "2022-12-23T13:00:31.541Z"
   },
   {
    "duration": 23,
    "start_time": "2022-12-23T13:00:48.518Z"
   },
   {
    "duration": 22,
    "start_time": "2022-12-23T13:01:09.225Z"
   },
   {
    "duration": 44,
    "start_time": "2022-12-23T14:09:51.427Z"
   },
   {
    "duration": 756,
    "start_time": "2022-12-23T14:10:00.422Z"
   },
   {
    "duration": 300,
    "start_time": "2022-12-23T14:10:01.180Z"
   },
   {
    "duration": 88,
    "start_time": "2022-12-23T14:10:01.481Z"
   },
   {
    "duration": 14,
    "start_time": "2022-12-23T14:10:01.571Z"
   },
   {
    "duration": 2014,
    "start_time": "2022-12-23T14:10:01.587Z"
   },
   {
    "duration": 9,
    "start_time": "2022-12-23T14:10:03.603Z"
   },
   {
    "duration": 17,
    "start_time": "2022-12-23T14:10:03.613Z"
   },
   {
    "duration": 9,
    "start_time": "2022-12-23T14:10:03.631Z"
   },
   {
    "duration": 29,
    "start_time": "2022-12-23T14:10:03.642Z"
   },
   {
    "duration": 17,
    "start_time": "2022-12-23T14:10:03.673Z"
   },
   {
    "duration": 136,
    "start_time": "2022-12-23T14:10:03.691Z"
   },
   {
    "duration": 110,
    "start_time": "2022-12-23T14:10:03.835Z"
   },
   {
    "duration": 17,
    "start_time": "2022-12-23T14:10:03.947Z"
   },
   {
    "duration": 14,
    "start_time": "2022-12-23T14:10:03.966Z"
   },
   {
    "duration": 13,
    "start_time": "2022-12-23T14:10:03.982Z"
   },
   {
    "duration": 4,
    "start_time": "2022-12-23T14:10:03.997Z"
   },
   {
    "duration": 39,
    "start_time": "2022-12-23T14:10:04.003Z"
   },
   {
    "duration": 4,
    "start_time": "2022-12-23T14:10:04.043Z"
   },
   {
    "duration": 19,
    "start_time": "2022-12-23T14:10:04.049Z"
   },
   {
    "duration": 81,
    "start_time": "2022-12-23T14:10:04.070Z"
   },
   {
    "duration": 0,
    "start_time": "2022-12-23T14:10:04.153Z"
   },
   {
    "duration": 0,
    "start_time": "2022-12-23T14:10:04.154Z"
   },
   {
    "duration": 0,
    "start_time": "2022-12-23T14:10:04.155Z"
   },
   {
    "duration": 0,
    "start_time": "2022-12-23T14:10:04.156Z"
   },
   {
    "duration": 0,
    "start_time": "2022-12-23T14:10:04.157Z"
   },
   {
    "duration": 0,
    "start_time": "2022-12-23T14:10:04.157Z"
   },
   {
    "duration": 0,
    "start_time": "2022-12-23T14:10:04.159Z"
   },
   {
    "duration": 0,
    "start_time": "2022-12-23T14:10:04.159Z"
   },
   {
    "duration": 0,
    "start_time": "2022-12-23T14:10:04.160Z"
   },
   {
    "duration": 0,
    "start_time": "2022-12-23T14:10:04.161Z"
   },
   {
    "duration": 0,
    "start_time": "2022-12-23T14:10:04.162Z"
   },
   {
    "duration": 0,
    "start_time": "2022-12-23T14:10:04.164Z"
   },
   {
    "duration": 0,
    "start_time": "2022-12-23T14:10:04.164Z"
   },
   {
    "duration": 0,
    "start_time": "2022-12-23T14:10:04.165Z"
   },
   {
    "duration": 0,
    "start_time": "2022-12-23T14:10:04.166Z"
   },
   {
    "duration": 0,
    "start_time": "2022-12-23T14:10:04.167Z"
   },
   {
    "duration": 0,
    "start_time": "2022-12-23T14:10:04.168Z"
   },
   {
    "duration": 0,
    "start_time": "2022-12-23T14:10:04.169Z"
   },
   {
    "duration": 0,
    "start_time": "2022-12-23T14:10:04.170Z"
   },
   {
    "duration": 0,
    "start_time": "2022-12-23T14:10:04.170Z"
   },
   {
    "duration": 0,
    "start_time": "2022-12-23T14:10:04.171Z"
   },
   {
    "duration": 0,
    "start_time": "2022-12-23T14:10:04.172Z"
   },
   {
    "duration": 0,
    "start_time": "2022-12-23T14:10:04.173Z"
   },
   {
    "duration": 0,
    "start_time": "2022-12-23T14:10:04.174Z"
   },
   {
    "duration": 0,
    "start_time": "2022-12-23T14:10:04.175Z"
   },
   {
    "duration": 0,
    "start_time": "2022-12-23T14:10:04.176Z"
   },
   {
    "duration": 0,
    "start_time": "2022-12-23T14:10:04.177Z"
   },
   {
    "duration": 0,
    "start_time": "2022-12-23T14:10:04.178Z"
   },
   {
    "duration": 0,
    "start_time": "2022-12-23T14:10:04.179Z"
   },
   {
    "duration": 0,
    "start_time": "2022-12-23T14:10:04.180Z"
   },
   {
    "duration": 0,
    "start_time": "2022-12-23T14:10:04.181Z"
   },
   {
    "duration": 0,
    "start_time": "2022-12-23T14:10:04.182Z"
   },
   {
    "duration": 0,
    "start_time": "2022-12-23T14:10:04.183Z"
   },
   {
    "duration": 0,
    "start_time": "2022-12-23T14:10:04.184Z"
   },
   {
    "duration": 0,
    "start_time": "2022-12-23T14:10:04.236Z"
   },
   {
    "duration": 0,
    "start_time": "2022-12-23T14:10:04.237Z"
   },
   {
    "duration": 0,
    "start_time": "2022-12-23T14:10:04.238Z"
   },
   {
    "duration": 0,
    "start_time": "2022-12-23T14:10:04.239Z"
   },
   {
    "duration": 0,
    "start_time": "2022-12-23T14:10:04.240Z"
   },
   {
    "duration": 0,
    "start_time": "2022-12-23T14:10:04.241Z"
   },
   {
    "duration": 0,
    "start_time": "2022-12-23T14:10:04.242Z"
   },
   {
    "duration": 4,
    "start_time": "2022-12-23T14:10:26.999Z"
   },
   {
    "duration": 7,
    "start_time": "2022-12-23T14:10:40.322Z"
   },
   {
    "duration": 637,
    "start_time": "2022-12-23T14:13:08.595Z"
   },
   {
    "duration": 92,
    "start_time": "2022-12-23T14:13:09.235Z"
   },
   {
    "duration": 93,
    "start_time": "2022-12-23T14:13:09.329Z"
   },
   {
    "duration": 23,
    "start_time": "2022-12-23T14:13:09.423Z"
   },
   {
    "duration": 2009,
    "start_time": "2022-12-23T14:13:09.448Z"
   },
   {
    "duration": 9,
    "start_time": "2022-12-23T14:13:11.459Z"
   },
   {
    "duration": 27,
    "start_time": "2022-12-23T14:13:11.470Z"
   },
   {
    "duration": 22,
    "start_time": "2022-12-23T14:13:11.499Z"
   },
   {
    "duration": 31,
    "start_time": "2022-12-23T14:13:11.523Z"
   },
   {
    "duration": 18,
    "start_time": "2022-12-23T14:13:11.556Z"
   },
   {
    "duration": 150,
    "start_time": "2022-12-23T14:13:11.576Z"
   },
   {
    "duration": 130,
    "start_time": "2022-12-23T14:13:11.727Z"
   },
   {
    "duration": 17,
    "start_time": "2022-12-23T14:13:11.859Z"
   },
   {
    "duration": 15,
    "start_time": "2022-12-23T14:13:11.879Z"
   },
   {
    "duration": 12,
    "start_time": "2022-12-23T14:13:11.895Z"
   },
   {
    "duration": 28,
    "start_time": "2022-12-23T14:13:11.908Z"
   },
   {
    "duration": 16,
    "start_time": "2022-12-23T14:13:11.938Z"
   },
   {
    "duration": 6,
    "start_time": "2022-12-23T14:13:11.955Z"
   },
   {
    "duration": 26,
    "start_time": "2022-12-23T14:13:11.963Z"
   },
   {
    "duration": 8,
    "start_time": "2022-12-23T14:13:11.990Z"
   },
   {
    "duration": 166,
    "start_time": "2022-12-23T14:13:12.000Z"
   },
   {
    "duration": 24,
    "start_time": "2022-12-23T14:13:12.169Z"
   },
   {
    "duration": 64,
    "start_time": "2022-12-23T14:13:12.195Z"
   },
   {
    "duration": 5,
    "start_time": "2022-12-23T14:13:12.261Z"
   },
   {
    "duration": 40,
    "start_time": "2022-12-23T14:13:12.267Z"
   },
   {
    "duration": 14,
    "start_time": "2022-12-23T14:13:12.309Z"
   },
   {
    "duration": 175,
    "start_time": "2022-12-23T14:13:12.325Z"
   },
   {
    "duration": 42,
    "start_time": "2022-12-23T14:13:12.502Z"
   },
   {
    "duration": 25,
    "start_time": "2022-12-23T14:13:12.546Z"
   },
   {
    "duration": 19,
    "start_time": "2022-12-23T14:13:12.573Z"
   },
   {
    "duration": 7,
    "start_time": "2022-12-23T14:13:12.594Z"
   },
   {
    "duration": 44,
    "start_time": "2022-12-23T14:13:12.603Z"
   },
   {
    "duration": 18,
    "start_time": "2022-12-23T14:13:12.649Z"
   },
   {
    "duration": 137,
    "start_time": "2022-12-23T14:13:12.668Z"
   },
   {
    "duration": 160,
    "start_time": "2022-12-23T14:13:12.807Z"
   },
   {
    "duration": 19,
    "start_time": "2022-12-23T14:13:12.970Z"
   },
   {
    "duration": 6,
    "start_time": "2022-12-23T14:13:12.991Z"
   },
   {
    "duration": 41,
    "start_time": "2022-12-23T14:13:12.998Z"
   },
   {
    "duration": 223,
    "start_time": "2022-12-23T14:13:13.040Z"
   },
   {
    "duration": 164,
    "start_time": "2022-12-23T14:13:13.264Z"
   },
   {
    "duration": 10,
    "start_time": "2022-12-23T14:13:13.435Z"
   },
   {
    "duration": 31,
    "start_time": "2022-12-23T14:13:13.447Z"
   },
   {
    "duration": 11,
    "start_time": "2022-12-23T14:13:13.480Z"
   },
   {
    "duration": 37,
    "start_time": "2022-12-23T14:13:13.492Z"
   },
   {
    "duration": 26,
    "start_time": "2022-12-23T14:13:13.536Z"
   },
   {
    "duration": 25,
    "start_time": "2022-12-23T14:13:13.564Z"
   },
   {
    "duration": 9,
    "start_time": "2022-12-23T14:13:13.591Z"
   },
   {
    "duration": 39,
    "start_time": "2022-12-23T14:13:13.602Z"
   },
   {
    "duration": 17,
    "start_time": "2022-12-23T14:13:13.643Z"
   },
   {
    "duration": 6,
    "start_time": "2022-12-23T14:13:13.662Z"
   },
   {
    "duration": 12,
    "start_time": "2022-12-23T14:13:13.670Z"
   },
   {
    "duration": 12,
    "start_time": "2022-12-23T14:13:13.684Z"
   },
   {
    "duration": 17,
    "start_time": "2022-12-23T14:13:13.697Z"
   },
   {
    "duration": 19,
    "start_time": "2022-12-23T14:13:13.735Z"
   },
   {
    "duration": 19,
    "start_time": "2022-12-23T14:13:13.756Z"
   },
   {
    "duration": 15,
    "start_time": "2022-12-23T14:13:13.776Z"
   },
   {
    "duration": 21,
    "start_time": "2022-12-23T14:13:13.793Z"
   },
   {
    "duration": 28,
    "start_time": "2022-12-23T14:13:13.815Z"
   },
   {
    "duration": 28,
    "start_time": "2022-12-23T14:13:13.844Z"
   },
   {
    "duration": 27,
    "start_time": "2022-12-23T14:13:13.873Z"
   },
   {
    "duration": 50,
    "start_time": "2022-12-23T14:13:13.902Z"
   },
   {
    "duration": 4,
    "start_time": "2022-12-23T14:18:15.102Z"
   },
   {
    "duration": 40,
    "start_time": "2022-12-23T14:18:52.229Z"
   },
   {
    "duration": 71,
    "start_time": "2022-12-23T14:23:37.726Z"
   },
   {
    "duration": 49,
    "start_time": "2022-12-23T14:24:31.815Z"
   },
   {
    "duration": 49,
    "start_time": "2022-12-23T14:25:07.008Z"
   },
   {
    "duration": 54,
    "start_time": "2022-12-23T14:25:21.822Z"
   },
   {
    "duration": 47,
    "start_time": "2022-12-23T14:25:41.640Z"
   },
   {
    "duration": 4,
    "start_time": "2022-12-23T14:26:10.402Z"
   },
   {
    "duration": 45,
    "start_time": "2022-12-23T14:26:31.831Z"
   },
   {
    "duration": 13,
    "start_time": "2022-12-23T14:26:42.431Z"
   },
   {
    "duration": 93,
    "start_time": "2022-12-23T14:32:42.868Z"
   },
   {
    "duration": 85,
    "start_time": "2022-12-23T14:33:08.346Z"
   },
   {
    "duration": 778,
    "start_time": "2022-12-24T11:07:55.586Z"
   },
   {
    "duration": 140,
    "start_time": "2022-12-24T11:07:56.366Z"
   },
   {
    "duration": 89,
    "start_time": "2022-12-24T11:07:56.508Z"
   },
   {
    "duration": 24,
    "start_time": "2022-12-24T11:07:56.599Z"
   },
   {
    "duration": 2005,
    "start_time": "2022-12-24T11:07:56.626Z"
   },
   {
    "duration": 8,
    "start_time": "2022-12-24T11:07:58.633Z"
   },
   {
    "duration": 25,
    "start_time": "2022-12-24T11:07:58.643Z"
   },
   {
    "duration": 31,
    "start_time": "2022-12-24T11:07:58.669Z"
   },
   {
    "duration": 33,
    "start_time": "2022-12-24T11:07:58.702Z"
   },
   {
    "duration": 18,
    "start_time": "2022-12-24T11:07:58.736Z"
   },
   {
    "duration": 152,
    "start_time": "2022-12-24T11:07:58.755Z"
   },
   {
    "duration": 133,
    "start_time": "2022-12-24T11:07:58.909Z"
   },
   {
    "duration": 17,
    "start_time": "2022-12-24T11:07:59.044Z"
   },
   {
    "duration": 16,
    "start_time": "2022-12-24T11:07:59.064Z"
   },
   {
    "duration": 21,
    "start_time": "2022-12-24T11:07:59.081Z"
   },
   {
    "duration": 32,
    "start_time": "2022-12-24T11:07:59.104Z"
   },
   {
    "duration": 34,
    "start_time": "2022-12-24T11:07:59.137Z"
   },
   {
    "duration": 18,
    "start_time": "2022-12-24T11:07:59.173Z"
   },
   {
    "duration": 30,
    "start_time": "2022-12-24T11:07:59.192Z"
   },
   {
    "duration": 23,
    "start_time": "2022-12-24T11:07:59.223Z"
   },
   {
    "duration": 157,
    "start_time": "2022-12-24T11:07:59.247Z"
   },
   {
    "duration": 30,
    "start_time": "2022-12-24T11:07:59.405Z"
   },
   {
    "duration": 38,
    "start_time": "2022-12-24T11:07:59.436Z"
   },
   {
    "duration": 5,
    "start_time": "2022-12-24T11:07:59.475Z"
   },
   {
    "duration": 49,
    "start_time": "2022-12-24T11:07:59.481Z"
   },
   {
    "duration": 16,
    "start_time": "2022-12-24T11:07:59.531Z"
   },
   {
    "duration": 138,
    "start_time": "2022-12-24T11:07:59.548Z"
   },
   {
    "duration": 34,
    "start_time": "2022-12-24T11:07:59.688Z"
   },
   {
    "duration": 16,
    "start_time": "2022-12-24T11:07:59.724Z"
   },
   {
    "duration": 13,
    "start_time": "2022-12-24T11:07:59.742Z"
   },
   {
    "duration": 16,
    "start_time": "2022-12-24T11:07:59.756Z"
   },
   {
    "duration": 29,
    "start_time": "2022-12-24T11:07:59.774Z"
   },
   {
    "duration": 13,
    "start_time": "2022-12-24T11:07:59.805Z"
   },
   {
    "duration": 156,
    "start_time": "2022-12-24T11:07:59.820Z"
   },
   {
    "duration": 179,
    "start_time": "2022-12-24T11:07:59.978Z"
   },
   {
    "duration": 19,
    "start_time": "2022-12-24T11:08:00.159Z"
   },
   {
    "duration": 48,
    "start_time": "2022-12-24T11:08:00.180Z"
   },
   {
    "duration": 52,
    "start_time": "2022-12-24T11:08:00.230Z"
   },
   {
    "duration": 256,
    "start_time": "2022-12-24T11:08:00.285Z"
   },
   {
    "duration": 158,
    "start_time": "2022-12-24T11:08:00.543Z"
   },
   {
    "duration": 17,
    "start_time": "2022-12-24T11:08:00.705Z"
   },
   {
    "duration": 27,
    "start_time": "2022-12-24T11:08:00.724Z"
   },
   {
    "duration": 17,
    "start_time": "2022-12-24T11:08:00.753Z"
   },
   {
    "duration": 48,
    "start_time": "2022-12-24T11:08:00.772Z"
   },
   {
    "duration": 31,
    "start_time": "2022-12-24T11:08:00.822Z"
   },
   {
    "duration": 24,
    "start_time": "2022-12-24T11:08:00.855Z"
   },
   {
    "duration": 23,
    "start_time": "2022-12-24T11:08:00.881Z"
   },
   {
    "duration": 23,
    "start_time": "2022-12-24T11:08:00.906Z"
   },
   {
    "duration": 45,
    "start_time": "2022-12-24T11:08:00.931Z"
   },
   {
    "duration": 9,
    "start_time": "2022-12-24T11:08:00.978Z"
   },
   {
    "duration": 29,
    "start_time": "2022-12-24T11:08:00.988Z"
   },
   {
    "duration": 31,
    "start_time": "2022-12-24T11:08:01.019Z"
   },
   {
    "duration": 35,
    "start_time": "2022-12-24T11:08:01.052Z"
   },
   {
    "duration": 60,
    "start_time": "2022-12-24T11:08:01.089Z"
   },
   {
    "duration": 34,
    "start_time": "2022-12-24T11:08:01.151Z"
   },
   {
    "duration": 32,
    "start_time": "2022-12-24T11:08:01.187Z"
   },
   {
    "duration": 14,
    "start_time": "2022-12-24T11:08:01.221Z"
   },
   {
    "duration": 29,
    "start_time": "2022-12-24T11:08:01.236Z"
   },
   {
    "duration": 27,
    "start_time": "2022-12-24T11:08:01.267Z"
   },
   {
    "duration": 44,
    "start_time": "2022-12-24T11:08:01.296Z"
   },
   {
    "duration": 26,
    "start_time": "2022-12-24T11:08:01.341Z"
   },
   {
    "duration": 177,
    "start_time": "2022-12-24T11:08:01.369Z"
   },
   {
    "duration": 0,
    "start_time": "2022-12-24T11:08:01.547Z"
   },
   {
    "duration": 69,
    "start_time": "2022-12-24T11:10:32.048Z"
   },
   {
    "duration": 86,
    "start_time": "2022-12-24T11:11:02.175Z"
   },
   {
    "duration": 83,
    "start_time": "2022-12-24T11:13:39.056Z"
   },
   {
    "duration": 179,
    "start_time": "2022-12-24T11:19:19.481Z"
   },
   {
    "duration": 82,
    "start_time": "2022-12-24T11:20:25.522Z"
   },
   {
    "duration": 84,
    "start_time": "2022-12-24T11:22:13.875Z"
   },
   {
    "duration": 296,
    "start_time": "2022-12-24T11:22:32.619Z"
   },
   {
    "duration": 287,
    "start_time": "2022-12-24T11:22:41.089Z"
   },
   {
    "duration": 300,
    "start_time": "2022-12-24T11:25:52.195Z"
   },
   {
    "duration": 354,
    "start_time": "2022-12-24T11:26:03.514Z"
   },
   {
    "duration": 598,
    "start_time": "2022-12-24T11:27:20.268Z"
   },
   {
    "duration": 88,
    "start_time": "2022-12-24T11:27:20.869Z"
   },
   {
    "duration": 96,
    "start_time": "2022-12-24T11:27:20.958Z"
   },
   {
    "duration": 15,
    "start_time": "2022-12-24T11:27:21.055Z"
   },
   {
    "duration": 1992,
    "start_time": "2022-12-24T11:27:21.072Z"
   },
   {
    "duration": 11,
    "start_time": "2022-12-24T11:27:23.065Z"
   },
   {
    "duration": 18,
    "start_time": "2022-12-24T11:27:23.078Z"
   },
   {
    "duration": 33,
    "start_time": "2022-12-24T11:27:23.097Z"
   },
   {
    "duration": 31,
    "start_time": "2022-12-24T11:27:23.132Z"
   },
   {
    "duration": 18,
    "start_time": "2022-12-24T11:27:23.166Z"
   },
   {
    "duration": 155,
    "start_time": "2022-12-24T11:27:23.186Z"
   },
   {
    "duration": 129,
    "start_time": "2022-12-24T11:27:23.342Z"
   },
   {
    "duration": 18,
    "start_time": "2022-12-24T11:27:23.472Z"
   },
   {
    "duration": 31,
    "start_time": "2022-12-24T11:27:23.493Z"
   },
   {
    "duration": 11,
    "start_time": "2022-12-24T11:27:23.525Z"
   },
   {
    "duration": 15,
    "start_time": "2022-12-24T11:27:23.538Z"
   },
   {
    "duration": 20,
    "start_time": "2022-12-24T11:27:23.555Z"
   },
   {
    "duration": 15,
    "start_time": "2022-12-24T11:27:23.577Z"
   },
   {
    "duration": 33,
    "start_time": "2022-12-24T11:27:23.594Z"
   },
   {
    "duration": 12,
    "start_time": "2022-12-24T11:27:23.629Z"
   },
   {
    "duration": 155,
    "start_time": "2022-12-24T11:27:23.643Z"
   },
   {
    "duration": 30,
    "start_time": "2022-12-24T11:27:23.799Z"
   },
   {
    "duration": 39,
    "start_time": "2022-12-24T11:27:23.832Z"
   },
   {
    "duration": 4,
    "start_time": "2022-12-24T11:27:23.873Z"
   },
   {
    "duration": 46,
    "start_time": "2022-12-24T11:27:23.878Z"
   },
   {
    "duration": 17,
    "start_time": "2022-12-24T11:27:23.926Z"
   },
   {
    "duration": 166,
    "start_time": "2022-12-24T11:27:23.944Z"
   },
   {
    "duration": 35,
    "start_time": "2022-12-24T11:27:24.113Z"
   },
   {
    "duration": 10,
    "start_time": "2022-12-24T11:27:24.150Z"
   },
   {
    "duration": 35,
    "start_time": "2022-12-24T11:27:24.162Z"
   },
   {
    "duration": 8,
    "start_time": "2022-12-24T11:27:24.199Z"
   },
   {
    "duration": 21,
    "start_time": "2022-12-24T11:27:24.208Z"
   },
   {
    "duration": 7,
    "start_time": "2022-12-24T11:27:24.231Z"
   },
   {
    "duration": 144,
    "start_time": "2022-12-24T11:27:24.240Z"
   },
   {
    "duration": 172,
    "start_time": "2022-12-24T11:27:24.386Z"
   },
   {
    "duration": 21,
    "start_time": "2022-12-24T11:27:24.560Z"
   },
   {
    "duration": 7,
    "start_time": "2022-12-24T11:27:24.583Z"
   },
   {
    "duration": 41,
    "start_time": "2022-12-24T11:27:24.592Z"
   },
   {
    "duration": 218,
    "start_time": "2022-12-24T11:27:24.635Z"
   },
   {
    "duration": 169,
    "start_time": "2022-12-24T11:27:24.855Z"
   },
   {
    "duration": 11,
    "start_time": "2022-12-24T11:27:25.028Z"
   },
   {
    "duration": 21,
    "start_time": "2022-12-24T11:27:25.042Z"
   },
   {
    "duration": 8,
    "start_time": "2022-12-24T11:27:25.065Z"
   },
   {
    "duration": 52,
    "start_time": "2022-12-24T11:27:25.075Z"
   },
   {
    "duration": 21,
    "start_time": "2022-12-24T11:27:25.129Z"
   },
   {
    "duration": 21,
    "start_time": "2022-12-24T11:27:25.152Z"
   },
   {
    "duration": 7,
    "start_time": "2022-12-24T11:27:25.175Z"
   },
   {
    "duration": 10,
    "start_time": "2022-12-24T11:27:25.183Z"
   },
   {
    "duration": 41,
    "start_time": "2022-12-24T11:27:25.194Z"
   },
   {
    "duration": 5,
    "start_time": "2022-12-24T11:27:25.236Z"
   },
   {
    "duration": 9,
    "start_time": "2022-12-24T11:27:25.243Z"
   },
   {
    "duration": 7,
    "start_time": "2022-12-24T11:27:25.253Z"
   },
   {
    "duration": 8,
    "start_time": "2022-12-24T11:27:25.261Z"
   },
   {
    "duration": 6,
    "start_time": "2022-12-24T11:27:25.271Z"
   },
   {
    "duration": 48,
    "start_time": "2022-12-24T11:27:25.279Z"
   },
   {
    "duration": 9,
    "start_time": "2022-12-24T11:27:25.329Z"
   },
   {
    "duration": 111,
    "start_time": "2022-12-24T11:27:25.340Z"
   },
   {
    "duration": 29,
    "start_time": "2022-12-24T11:27:25.453Z"
   },
   {
    "duration": 28,
    "start_time": "2022-12-24T11:27:25.484Z"
   },
   {
    "duration": 36,
    "start_time": "2022-12-24T11:27:25.514Z"
   },
   {
    "duration": 31,
    "start_time": "2022-12-24T11:27:25.551Z"
   },
   {
    "duration": 461,
    "start_time": "2022-12-24T11:27:25.584Z"
   },
   {
    "duration": 0,
    "start_time": "2022-12-24T11:27:26.046Z"
   },
   {
    "duration": 319,
    "start_time": "2022-12-24T11:27:31.297Z"
   },
   {
    "duration": 310,
    "start_time": "2022-12-24T11:30:00.666Z"
   },
   {
    "duration": 118,
    "start_time": "2022-12-24T11:31:32.266Z"
   },
   {
    "duration": 139,
    "start_time": "2022-12-24T11:33:39.884Z"
   },
   {
    "duration": 90,
    "start_time": "2022-12-24T11:33:44.803Z"
   },
   {
    "duration": 202,
    "start_time": "2022-12-24T11:34:10.692Z"
   },
   {
    "duration": 323,
    "start_time": "2022-12-24T11:36:39.757Z"
   },
   {
    "duration": 333,
    "start_time": "2022-12-24T11:37:20.100Z"
   },
   {
    "duration": 37,
    "start_time": "2022-12-24T11:38:59.933Z"
   },
   {
    "duration": 72,
    "start_time": "2022-12-24T11:44:04.351Z"
   },
   {
    "duration": 10,
    "start_time": "2022-12-24T11:45:24.798Z"
   },
   {
    "duration": 72,
    "start_time": "2022-12-24T11:45:39.432Z"
   },
   {
    "duration": 31,
    "start_time": "2022-12-24T11:45:52.711Z"
   },
   {
    "duration": 10,
    "start_time": "2022-12-24T11:49:53.112Z"
   },
   {
    "duration": 9,
    "start_time": "2022-12-24T11:50:05.177Z"
   },
   {
    "duration": 10,
    "start_time": "2022-12-24T11:51:07.434Z"
   },
   {
    "duration": 25,
    "start_time": "2022-12-24T11:51:26.500Z"
   },
   {
    "duration": 12,
    "start_time": "2022-12-24T11:52:50.682Z"
   },
   {
    "duration": 28,
    "start_time": "2022-12-24T11:53:02.881Z"
   },
   {
    "duration": 15,
    "start_time": "2022-12-24T11:53:49.237Z"
   },
   {
    "duration": 36,
    "start_time": "2022-12-24T11:53:58.459Z"
   },
   {
    "duration": 12,
    "start_time": "2022-12-24T11:54:42.389Z"
   },
   {
    "duration": 659,
    "start_time": "2022-12-24T11:55:13.518Z"
   },
   {
    "duration": 86,
    "start_time": "2022-12-24T11:55:15.100Z"
   },
   {
    "duration": 111,
    "start_time": "2022-12-24T11:55:17.899Z"
   },
   {
    "duration": 16,
    "start_time": "2022-12-24T11:55:20.228Z"
   },
   {
    "duration": 1977,
    "start_time": "2022-12-24T11:55:22.411Z"
   },
   {
    "duration": 9,
    "start_time": "2022-12-24T11:55:25.705Z"
   },
   {
    "duration": 13,
    "start_time": "2022-12-24T11:55:29.619Z"
   },
   {
    "duration": 12,
    "start_time": "2022-12-24T11:55:33.057Z"
   },
   {
    "duration": 21,
    "start_time": "2022-12-24T11:55:35.729Z"
   },
   {
    "duration": 22,
    "start_time": "2022-12-24T11:55:38.164Z"
   },
   {
    "duration": 136,
    "start_time": "2022-12-24T11:55:42.386Z"
   },
   {
    "duration": 142,
    "start_time": "2022-12-24T11:55:46.709Z"
   },
   {
    "duration": 18,
    "start_time": "2022-12-24T11:55:50.786Z"
   },
   {
    "duration": 17,
    "start_time": "2022-12-24T11:55:52.746Z"
   },
   {
    "duration": 11,
    "start_time": "2022-12-24T11:55:55.003Z"
   },
   {
    "duration": 4,
    "start_time": "2022-12-24T11:55:57.163Z"
   },
   {
    "duration": 9,
    "start_time": "2022-12-24T11:55:58.826Z"
   },
   {
    "duration": 5,
    "start_time": "2022-12-24T11:56:00.098Z"
   },
   {
    "duration": 19,
    "start_time": "2022-12-24T11:56:01.139Z"
   },
   {
    "duration": 4,
    "start_time": "2022-12-24T11:56:04.290Z"
   },
   {
    "duration": 148,
    "start_time": "2022-12-24T11:56:05.422Z"
   },
   {
    "duration": 24,
    "start_time": "2022-12-24T11:56:07.979Z"
   },
   {
    "duration": 39,
    "start_time": "2022-12-24T11:56:11.002Z"
   },
   {
    "duration": 5,
    "start_time": "2022-12-24T11:56:13.514Z"
   },
   {
    "duration": 27,
    "start_time": "2022-12-24T11:56:15.219Z"
   },
   {
    "duration": 6,
    "start_time": "2022-12-24T11:56:17.252Z"
   },
   {
    "duration": 132,
    "start_time": "2022-12-24T11:56:18.564Z"
   },
   {
    "duration": 24,
    "start_time": "2022-12-24T11:56:20.355Z"
   },
   {
    "duration": 9,
    "start_time": "2022-12-24T11:56:22.475Z"
   },
   {
    "duration": 14,
    "start_time": "2022-12-24T11:56:23.891Z"
   },
   {
    "duration": 6,
    "start_time": "2022-12-24T11:56:34.979Z"
   },
   {
    "duration": 17,
    "start_time": "2022-12-24T11:56:36.211Z"
   },
   {
    "duration": 7,
    "start_time": "2022-12-24T11:56:40.667Z"
   },
   {
    "duration": 122,
    "start_time": "2022-12-24T11:56:42.259Z"
   },
   {
    "duration": 150,
    "start_time": "2022-12-24T11:56:44.689Z"
   },
   {
    "duration": 20,
    "start_time": "2022-12-24T11:56:47.300Z"
   },
   {
    "duration": 8,
    "start_time": "2022-12-24T11:56:52.075Z"
   },
   {
    "duration": 19,
    "start_time": "2022-12-24T11:56:53.532Z"
   },
   {
    "duration": 216,
    "start_time": "2022-12-24T11:56:57.027Z"
   },
   {
    "duration": 152,
    "start_time": "2022-12-24T11:56:59.771Z"
   },
   {
    "duration": 9,
    "start_time": "2022-12-24T11:57:02.171Z"
   },
   {
    "duration": 27,
    "start_time": "2022-12-24T11:57:04.067Z"
   },
   {
    "duration": 7,
    "start_time": "2022-12-24T11:57:12.612Z"
   },
   {
    "duration": 29,
    "start_time": "2022-12-24T11:57:14.314Z"
   },
   {
    "duration": 28,
    "start_time": "2022-12-24T11:57:17.902Z"
   },
   {
    "duration": 25,
    "start_time": "2022-12-24T11:57:20.478Z"
   },
   {
    "duration": 8,
    "start_time": "2022-12-24T11:57:24.941Z"
   },
   {
    "duration": 8,
    "start_time": "2022-12-24T11:57:26.772Z"
   },
   {
    "duration": 15,
    "start_time": "2022-12-24T11:57:28.485Z"
   },
   {
    "duration": 6,
    "start_time": "2022-12-24T11:57:30.427Z"
   },
   {
    "duration": 9,
    "start_time": "2022-12-24T11:57:31.739Z"
   },
   {
    "duration": 7,
    "start_time": "2022-12-24T11:57:33.227Z"
   },
   {
    "duration": 9,
    "start_time": "2022-12-24T11:57:34.915Z"
   },
   {
    "duration": 7,
    "start_time": "2022-12-24T11:57:35.764Z"
   },
   {
    "duration": 9,
    "start_time": "2022-12-24T11:57:38.290Z"
   },
   {
    "duration": 9,
    "start_time": "2022-12-24T11:57:39.987Z"
   },
   {
    "duration": 14,
    "start_time": "2022-12-24T11:57:41.412Z"
   },
   {
    "duration": 30,
    "start_time": "2022-12-24T11:57:45.108Z"
   },
   {
    "duration": 30,
    "start_time": "2022-12-24T11:58:50.163Z"
   },
   {
    "duration": 27,
    "start_time": "2022-12-24T11:59:28.613Z"
   },
   {
    "duration": 642,
    "start_time": "2022-12-24T12:00:02.754Z"
   },
   {
    "duration": 86,
    "start_time": "2022-12-24T12:00:03.398Z"
   },
   {
    "duration": 97,
    "start_time": "2022-12-24T12:00:03.486Z"
   },
   {
    "duration": 15,
    "start_time": "2022-12-24T12:00:03.585Z"
   },
   {
    "duration": 1990,
    "start_time": "2022-12-24T12:00:03.602Z"
   },
   {
    "duration": 10,
    "start_time": "2022-12-24T12:00:05.593Z"
   },
   {
    "duration": 31,
    "start_time": "2022-12-24T12:00:05.604Z"
   },
   {
    "duration": 34,
    "start_time": "2022-12-24T12:00:05.636Z"
   },
   {
    "duration": 38,
    "start_time": "2022-12-24T12:00:05.672Z"
   },
   {
    "duration": 19,
    "start_time": "2022-12-24T12:00:05.712Z"
   },
   {
    "duration": 166,
    "start_time": "2022-12-24T12:00:05.733Z"
   },
   {
    "duration": 140,
    "start_time": "2022-12-24T12:00:05.900Z"
   },
   {
    "duration": 16,
    "start_time": "2022-12-24T12:00:06.042Z"
   },
   {
    "duration": 36,
    "start_time": "2022-12-24T12:00:06.060Z"
   },
   {
    "duration": 17,
    "start_time": "2022-12-24T12:00:06.097Z"
   },
   {
    "duration": 39,
    "start_time": "2022-12-24T12:00:06.115Z"
   },
   {
    "duration": 26,
    "start_time": "2022-12-24T12:00:06.156Z"
   },
   {
    "duration": 26,
    "start_time": "2022-12-24T12:00:06.184Z"
   },
   {
    "duration": 30,
    "start_time": "2022-12-24T12:00:06.211Z"
   },
   {
    "duration": 7,
    "start_time": "2022-12-24T12:00:06.242Z"
   },
   {
    "duration": 179,
    "start_time": "2022-12-24T12:00:06.251Z"
   },
   {
    "duration": 24,
    "start_time": "2022-12-24T12:00:06.432Z"
   },
   {
    "duration": 52,
    "start_time": "2022-12-24T12:00:06.458Z"
   },
   {
    "duration": 12,
    "start_time": "2022-12-24T12:00:06.511Z"
   },
   {
    "duration": 44,
    "start_time": "2022-12-24T12:00:06.525Z"
   },
   {
    "duration": 45,
    "start_time": "2022-12-24T12:00:06.571Z"
   },
   {
    "duration": 168,
    "start_time": "2022-12-24T12:00:06.618Z"
   },
   {
    "duration": 23,
    "start_time": "2022-12-24T12:00:06.790Z"
   },
   {
    "duration": 8,
    "start_time": "2022-12-24T12:00:06.822Z"
   },
   {
    "duration": 26,
    "start_time": "2022-12-24T12:00:06.832Z"
   },
   {
    "duration": 27,
    "start_time": "2022-12-24T12:00:06.860Z"
   },
   {
    "duration": 24,
    "start_time": "2022-12-24T12:00:06.889Z"
   },
   {
    "duration": 150,
    "start_time": "2022-12-24T12:00:06.914Z"
   },
   {
    "duration": 171,
    "start_time": "2022-12-24T12:00:07.065Z"
   },
   {
    "duration": 19,
    "start_time": "2022-12-24T12:00:07.238Z"
   },
   {
    "duration": 32,
    "start_time": "2022-12-24T12:00:07.259Z"
   },
   {
    "duration": 58,
    "start_time": "2022-12-24T12:00:07.292Z"
   },
   {
    "duration": 235,
    "start_time": "2022-12-24T12:00:07.351Z"
   },
   {
    "duration": 157,
    "start_time": "2022-12-24T12:00:07.588Z"
   },
   {
    "duration": 11,
    "start_time": "2022-12-24T12:00:07.746Z"
   },
   {
    "duration": 45,
    "start_time": "2022-12-24T12:00:07.759Z"
   },
   {
    "duration": 33,
    "start_time": "2022-12-24T12:00:07.806Z"
   },
   {
    "duration": 62,
    "start_time": "2022-12-24T12:00:07.840Z"
   },
   {
    "duration": 37,
    "start_time": "2022-12-24T12:00:07.903Z"
   },
   {
    "duration": 38,
    "start_time": "2022-12-24T12:00:07.942Z"
   },
   {
    "duration": 15,
    "start_time": "2022-12-24T12:00:07.982Z"
   },
   {
    "duration": 46,
    "start_time": "2022-12-24T12:00:07.998Z"
   },
   {
    "duration": 42,
    "start_time": "2022-12-24T12:00:08.045Z"
   },
   {
    "duration": 43,
    "start_time": "2022-12-24T12:00:08.088Z"
   },
   {
    "duration": 38,
    "start_time": "2022-12-24T12:00:08.133Z"
   },
   {
    "duration": 34,
    "start_time": "2022-12-24T12:00:08.173Z"
   },
   {
    "duration": 35,
    "start_time": "2022-12-24T12:00:08.208Z"
   },
   {
    "duration": 32,
    "start_time": "2022-12-24T12:00:08.245Z"
   },
   {
    "duration": 35,
    "start_time": "2022-12-24T12:00:08.278Z"
   },
   {
    "duration": 33,
    "start_time": "2022-12-24T12:00:08.315Z"
   },
   {
    "duration": 36,
    "start_time": "2022-12-24T12:00:08.350Z"
   },
   {
    "duration": 39,
    "start_time": "2022-12-24T12:00:08.388Z"
   },
   {
    "duration": 10,
    "start_time": "2022-12-24T12:00:08.429Z"
   },
   {
    "duration": 74,
    "start_time": "2022-12-24T12:00:08.440Z"
   },
   {
    "duration": 38,
    "start_time": "2022-12-24T12:00:08.516Z"
   },
   {
    "duration": 337,
    "start_time": "2022-12-24T12:00:08.555Z"
   },
   {
    "duration": 33,
    "start_time": "2022-12-24T12:00:08.893Z"
   },
   {
    "duration": 29,
    "start_time": "2022-12-24T12:01:19.292Z"
   },
   {
    "duration": 80,
    "start_time": "2022-12-24T12:02:19.484Z"
   },
   {
    "duration": 642,
    "start_time": "2022-12-24T12:02:45.725Z"
   },
   {
    "duration": 91,
    "start_time": "2022-12-24T12:02:46.369Z"
   },
   {
    "duration": 102,
    "start_time": "2022-12-24T12:02:46.462Z"
   },
   {
    "duration": 14,
    "start_time": "2022-12-24T12:02:46.566Z"
   },
   {
    "duration": 1938,
    "start_time": "2022-12-24T12:02:46.582Z"
   },
   {
    "duration": 10,
    "start_time": "2022-12-24T12:02:48.521Z"
   },
   {
    "duration": 14,
    "start_time": "2022-12-24T12:02:48.533Z"
   },
   {
    "duration": 10,
    "start_time": "2022-12-24T12:02:48.549Z"
   },
   {
    "duration": 21,
    "start_time": "2022-12-24T12:02:48.560Z"
   },
   {
    "duration": 40,
    "start_time": "2022-12-24T12:02:48.584Z"
   },
   {
    "duration": 135,
    "start_time": "2022-12-24T12:02:48.626Z"
   },
   {
    "duration": 135,
    "start_time": "2022-12-24T12:02:48.762Z"
   },
   {
    "duration": 24,
    "start_time": "2022-12-24T12:02:48.899Z"
   },
   {
    "duration": 21,
    "start_time": "2022-12-24T12:02:48.924Z"
   },
   {
    "duration": 13,
    "start_time": "2022-12-24T12:02:48.947Z"
   },
   {
    "duration": 5,
    "start_time": "2022-12-24T12:02:48.963Z"
   },
   {
    "duration": 12,
    "start_time": "2022-12-24T12:02:48.970Z"
   },
   {
    "duration": 41,
    "start_time": "2022-12-24T12:02:48.984Z"
   },
   {
    "duration": 23,
    "start_time": "2022-12-24T12:02:49.026Z"
   },
   {
    "duration": 4,
    "start_time": "2022-12-24T12:02:49.051Z"
   },
   {
    "duration": 179,
    "start_time": "2022-12-24T12:02:49.057Z"
   },
   {
    "duration": 26,
    "start_time": "2022-12-24T12:02:49.238Z"
   },
   {
    "duration": 68,
    "start_time": "2022-12-24T12:02:49.266Z"
   },
   {
    "duration": 5,
    "start_time": "2022-12-24T12:02:49.336Z"
   },
   {
    "duration": 30,
    "start_time": "2022-12-24T12:02:49.342Z"
   },
   {
    "duration": 22,
    "start_time": "2022-12-24T12:02:49.374Z"
   },
   {
    "duration": 152,
    "start_time": "2022-12-24T12:02:49.398Z"
   },
   {
    "duration": 23,
    "start_time": "2022-12-24T12:02:49.554Z"
   },
   {
    "duration": 8,
    "start_time": "2022-12-24T12:02:49.579Z"
   },
   {
    "duration": 7,
    "start_time": "2022-12-24T12:02:49.588Z"
   },
   {
    "duration": 36,
    "start_time": "2022-12-24T12:02:49.596Z"
   },
   {
    "duration": 7,
    "start_time": "2022-12-24T12:02:49.634Z"
   },
   {
    "duration": 154,
    "start_time": "2022-12-24T12:02:49.643Z"
   },
   {
    "duration": 169,
    "start_time": "2022-12-24T12:02:49.798Z"
   },
   {
    "duration": 20,
    "start_time": "2022-12-24T12:02:49.968Z"
   },
   {
    "duration": 7,
    "start_time": "2022-12-24T12:02:49.990Z"
   },
   {
    "duration": 36,
    "start_time": "2022-12-24T12:02:49.999Z"
   },
   {
    "duration": 231,
    "start_time": "2022-12-24T12:02:50.037Z"
   },
   {
    "duration": 144,
    "start_time": "2022-12-24T12:02:50.270Z"
   },
   {
    "duration": 9,
    "start_time": "2022-12-24T12:02:50.422Z"
   },
   {
    "duration": 16,
    "start_time": "2022-12-24T12:02:50.433Z"
   },
   {
    "duration": 7,
    "start_time": "2022-12-24T12:02:50.451Z"
   },
   {
    "duration": 26,
    "start_time": "2022-12-24T12:02:50.460Z"
   },
   {
    "duration": 53,
    "start_time": "2022-12-24T12:02:50.487Z"
   },
   {
    "duration": 21,
    "start_time": "2022-12-24T12:02:50.542Z"
   },
   {
    "duration": 7,
    "start_time": "2022-12-24T12:02:50.564Z"
   },
   {
    "duration": 10,
    "start_time": "2022-12-24T12:02:50.572Z"
   },
   {
    "duration": 15,
    "start_time": "2022-12-24T12:02:50.583Z"
   },
   {
    "duration": 27,
    "start_time": "2022-12-24T12:02:50.599Z"
   },
   {
    "duration": 9,
    "start_time": "2022-12-24T12:02:50.627Z"
   },
   {
    "duration": 6,
    "start_time": "2022-12-24T12:02:50.638Z"
   },
   {
    "duration": 16,
    "start_time": "2022-12-24T12:02:50.645Z"
   },
   {
    "duration": 13,
    "start_time": "2022-12-24T12:02:50.662Z"
   },
   {
    "duration": 8,
    "start_time": "2022-12-24T12:02:50.677Z"
   },
   {
    "duration": 7,
    "start_time": "2022-12-24T12:02:50.687Z"
   },
   {
    "duration": 43,
    "start_time": "2022-12-24T12:02:50.696Z"
   },
   {
    "duration": 29,
    "start_time": "2022-12-24T12:02:50.740Z"
   },
   {
    "duration": 29,
    "start_time": "2022-12-24T12:02:50.770Z"
   },
   {
    "duration": 46,
    "start_time": "2022-12-24T12:02:50.800Z"
   },
   {
    "duration": 351,
    "start_time": "2022-12-24T12:02:50.848Z"
   },
   {
    "duration": 34,
    "start_time": "2022-12-24T12:02:51.200Z"
   },
   {
    "duration": 27,
    "start_time": "2022-12-24T12:03:03.035Z"
   },
   {
    "duration": 602,
    "start_time": "2022-12-24T12:04:19.062Z"
   },
   {
    "duration": 86,
    "start_time": "2022-12-24T12:04:19.666Z"
   },
   {
    "duration": 102,
    "start_time": "2022-12-24T12:04:19.753Z"
   },
   {
    "duration": 18,
    "start_time": "2022-12-24T12:04:19.858Z"
   },
   {
    "duration": 1974,
    "start_time": "2022-12-24T12:04:19.877Z"
   },
   {
    "duration": 10,
    "start_time": "2022-12-24T12:04:21.853Z"
   },
   {
    "duration": 13,
    "start_time": "2022-12-24T12:04:21.865Z"
   },
   {
    "duration": 10,
    "start_time": "2022-12-24T12:04:21.880Z"
   },
   {
    "duration": 31,
    "start_time": "2022-12-24T12:04:21.891Z"
   },
   {
    "duration": 22,
    "start_time": "2022-12-24T12:04:21.925Z"
   },
   {
    "duration": 150,
    "start_time": "2022-12-24T12:04:21.948Z"
   },
   {
    "duration": 127,
    "start_time": "2022-12-24T12:04:22.100Z"
   },
   {
    "duration": 16,
    "start_time": "2022-12-24T12:04:22.229Z"
   },
   {
    "duration": 16,
    "start_time": "2022-12-24T12:04:22.247Z"
   },
   {
    "duration": 10,
    "start_time": "2022-12-24T12:04:22.264Z"
   },
   {
    "duration": 5,
    "start_time": "2022-12-24T12:04:22.275Z"
   },
   {
    "duration": 47,
    "start_time": "2022-12-24T12:04:22.281Z"
   },
   {
    "duration": 6,
    "start_time": "2022-12-24T12:04:22.329Z"
   },
   {
    "duration": 21,
    "start_time": "2022-12-24T12:04:22.336Z"
   },
   {
    "duration": 4,
    "start_time": "2022-12-24T12:04:22.359Z"
   },
   {
    "duration": 171,
    "start_time": "2022-12-24T12:04:22.364Z"
   },
   {
    "duration": 23,
    "start_time": "2022-12-24T12:04:22.536Z"
   },
   {
    "duration": 39,
    "start_time": "2022-12-24T12:04:22.561Z"
   },
   {
    "duration": 24,
    "start_time": "2022-12-24T12:04:22.601Z"
   },
   {
    "duration": 30,
    "start_time": "2022-12-24T12:04:22.627Z"
   },
   {
    "duration": 7,
    "start_time": "2022-12-24T12:04:22.659Z"
   },
   {
    "duration": 150,
    "start_time": "2022-12-24T12:04:22.667Z"
   },
   {
    "duration": 23,
    "start_time": "2022-12-24T12:04:22.822Z"
   },
   {
    "duration": 11,
    "start_time": "2022-12-24T12:04:22.847Z"
   },
   {
    "duration": 5,
    "start_time": "2022-12-24T12:04:22.859Z"
   },
   {
    "duration": 21,
    "start_time": "2022-12-24T12:04:22.866Z"
   },
   {
    "duration": 7,
    "start_time": "2022-12-24T12:04:22.888Z"
   },
   {
    "duration": 153,
    "start_time": "2022-12-24T12:04:22.897Z"
   },
   {
    "duration": 170,
    "start_time": "2022-12-24T12:04:23.051Z"
   },
   {
    "duration": 20,
    "start_time": "2022-12-24T12:04:23.223Z"
   },
   {
    "duration": 8,
    "start_time": "2022-12-24T12:04:23.245Z"
   },
   {
    "duration": 18,
    "start_time": "2022-12-24T12:04:23.254Z"
   },
   {
    "duration": 239,
    "start_time": "2022-12-24T12:04:23.274Z"
   },
   {
    "duration": 159,
    "start_time": "2022-12-24T12:04:23.515Z"
   },
   {
    "duration": 10,
    "start_time": "2022-12-24T12:04:23.676Z"
   },
   {
    "duration": 19,
    "start_time": "2022-12-24T12:04:23.688Z"
   },
   {
    "duration": 19,
    "start_time": "2022-12-24T12:04:23.709Z"
   },
   {
    "duration": 26,
    "start_time": "2022-12-24T12:04:23.730Z"
   },
   {
    "duration": 22,
    "start_time": "2022-12-24T12:04:23.758Z"
   },
   {
    "duration": 54,
    "start_time": "2022-12-24T12:04:23.782Z"
   },
   {
    "duration": 9,
    "start_time": "2022-12-24T12:04:23.838Z"
   },
   {
    "duration": 24,
    "start_time": "2022-12-24T12:04:23.848Z"
   },
   {
    "duration": 21,
    "start_time": "2022-12-24T12:04:23.874Z"
   },
   {
    "duration": 5,
    "start_time": "2022-12-24T12:04:23.896Z"
   },
   {
    "duration": 22,
    "start_time": "2022-12-24T12:04:23.903Z"
   },
   {
    "duration": 9,
    "start_time": "2022-12-24T12:04:23.926Z"
   },
   {
    "duration": 9,
    "start_time": "2022-12-24T12:04:23.936Z"
   },
   {
    "duration": 9,
    "start_time": "2022-12-24T12:04:23.947Z"
   },
   {
    "duration": 9,
    "start_time": "2022-12-24T12:04:23.957Z"
   },
   {
    "duration": 9,
    "start_time": "2022-12-24T12:04:23.967Z"
   },
   {
    "duration": 58,
    "start_time": "2022-12-24T12:04:23.978Z"
   },
   {
    "duration": 36,
    "start_time": "2022-12-24T12:04:24.038Z"
   },
   {
    "duration": 56,
    "start_time": "2022-12-24T12:04:24.076Z"
   },
   {
    "duration": 38,
    "start_time": "2022-12-24T12:04:24.134Z"
   },
   {
    "duration": 363,
    "start_time": "2022-12-24T12:04:24.174Z"
   },
   {
    "duration": 26,
    "start_time": "2022-12-24T12:04:24.539Z"
   },
   {
    "duration": 32,
    "start_time": "2022-12-24T12:04:34.011Z"
   },
   {
    "duration": 621,
    "start_time": "2022-12-24T12:05:35.986Z"
   },
   {
    "duration": 90,
    "start_time": "2022-12-24T12:05:36.610Z"
   },
   {
    "duration": 93,
    "start_time": "2022-12-24T12:05:36.702Z"
   },
   {
    "duration": 25,
    "start_time": "2022-12-24T12:05:36.797Z"
   },
   {
    "duration": 2031,
    "start_time": "2022-12-24T12:05:36.824Z"
   },
   {
    "duration": 10,
    "start_time": "2022-12-24T12:05:38.857Z"
   },
   {
    "duration": 32,
    "start_time": "2022-12-24T12:05:38.869Z"
   },
   {
    "duration": 21,
    "start_time": "2022-12-24T12:05:38.903Z"
   },
   {
    "duration": 31,
    "start_time": "2022-12-24T12:05:38.926Z"
   },
   {
    "duration": 19,
    "start_time": "2022-12-24T12:05:38.959Z"
   },
   {
    "duration": 163,
    "start_time": "2022-12-24T12:05:38.980Z"
   },
   {
    "duration": 135,
    "start_time": "2022-12-24T12:05:39.144Z"
   },
   {
    "duration": 18,
    "start_time": "2022-12-24T12:05:39.281Z"
   },
   {
    "duration": 28,
    "start_time": "2022-12-24T12:05:39.303Z"
   },
   {
    "duration": 13,
    "start_time": "2022-12-24T12:05:39.333Z"
   },
   {
    "duration": 5,
    "start_time": "2022-12-24T12:05:39.347Z"
   },
   {
    "duration": 11,
    "start_time": "2022-12-24T12:05:39.354Z"
   },
   {
    "duration": 4,
    "start_time": "2022-12-24T12:05:39.366Z"
   },
   {
    "duration": 57,
    "start_time": "2022-12-24T12:05:39.371Z"
   },
   {
    "duration": 4,
    "start_time": "2022-12-24T12:05:39.430Z"
   },
   {
    "duration": 170,
    "start_time": "2022-12-24T12:05:39.436Z"
   },
   {
    "duration": 33,
    "start_time": "2022-12-24T12:05:39.608Z"
   },
   {
    "duration": 44,
    "start_time": "2022-12-24T12:05:39.643Z"
   },
   {
    "duration": 7,
    "start_time": "2022-12-24T12:05:39.689Z"
   },
   {
    "duration": 30,
    "start_time": "2022-12-24T12:05:39.722Z"
   },
   {
    "duration": 6,
    "start_time": "2022-12-24T12:05:39.754Z"
   },
   {
    "duration": 176,
    "start_time": "2022-12-24T12:05:39.762Z"
   },
   {
    "duration": 23,
    "start_time": "2022-12-24T12:05:39.940Z"
   },
   {
    "duration": 8,
    "start_time": "2022-12-24T12:05:39.965Z"
   },
   {
    "duration": 7,
    "start_time": "2022-12-24T12:05:39.974Z"
   },
   {
    "duration": 20,
    "start_time": "2022-12-24T12:05:39.983Z"
   },
   {
    "duration": 9,
    "start_time": "2022-12-24T12:05:40.022Z"
   },
   {
    "duration": 152,
    "start_time": "2022-12-24T12:05:40.032Z"
   },
   {
    "duration": 174,
    "start_time": "2022-12-24T12:05:40.185Z"
   },
   {
    "duration": 20,
    "start_time": "2022-12-24T12:05:40.361Z"
   },
   {
    "duration": 8,
    "start_time": "2022-12-24T12:05:40.382Z"
   },
   {
    "duration": 39,
    "start_time": "2022-12-24T12:05:40.391Z"
   },
   {
    "duration": 220,
    "start_time": "2022-12-24T12:05:40.432Z"
   },
   {
    "duration": 156,
    "start_time": "2022-12-24T12:05:40.653Z"
   },
   {
    "duration": 13,
    "start_time": "2022-12-24T12:05:40.811Z"
   },
   {
    "duration": 18,
    "start_time": "2022-12-24T12:05:40.828Z"
   },
   {
    "duration": 7,
    "start_time": "2022-12-24T12:05:40.847Z"
   },
   {
    "duration": 27,
    "start_time": "2022-12-24T12:05:40.856Z"
   },
   {
    "duration": 50,
    "start_time": "2022-12-24T12:05:40.884Z"
   },
   {
    "duration": 23,
    "start_time": "2022-12-24T12:05:40.935Z"
   },
   {
    "duration": 8,
    "start_time": "2022-12-24T12:05:40.959Z"
   },
   {
    "duration": 8,
    "start_time": "2022-12-24T12:05:40.969Z"
   },
   {
    "duration": 44,
    "start_time": "2022-12-24T12:05:40.979Z"
   },
   {
    "duration": 7,
    "start_time": "2022-12-24T12:05:41.025Z"
   },
   {
    "duration": 8,
    "start_time": "2022-12-24T12:05:41.034Z"
   },
   {
    "duration": 8,
    "start_time": "2022-12-24T12:05:41.043Z"
   },
   {
    "duration": 9,
    "start_time": "2022-12-24T12:05:41.052Z"
   },
   {
    "duration": 7,
    "start_time": "2022-12-24T12:05:41.063Z"
   },
   {
    "duration": 8,
    "start_time": "2022-12-24T12:05:41.071Z"
   },
   {
    "duration": 49,
    "start_time": "2022-12-24T12:05:41.081Z"
   },
   {
    "duration": 14,
    "start_time": "2022-12-24T12:05:41.131Z"
   },
   {
    "duration": 27,
    "start_time": "2022-12-24T12:05:41.147Z"
   },
   {
    "duration": 56,
    "start_time": "2022-12-24T12:05:41.175Z"
   },
   {
    "duration": 27,
    "start_time": "2022-12-24T12:05:41.232Z"
   },
   {
    "duration": 26,
    "start_time": "2022-12-24T12:05:41.260Z"
   },
   {
    "duration": 348,
    "start_time": "2022-12-24T12:06:55.078Z"
   },
   {
    "duration": 385,
    "start_time": "2022-12-24T12:07:27.922Z"
   },
   {
    "duration": 674,
    "start_time": "2022-12-24T12:07:56.863Z"
   },
   {
    "duration": 91,
    "start_time": "2022-12-24T12:07:57.539Z"
   },
   {
    "duration": 106,
    "start_time": "2022-12-24T12:07:57.632Z"
   },
   {
    "duration": 17,
    "start_time": "2022-12-24T12:07:57.740Z"
   },
   {
    "duration": 1998,
    "start_time": "2022-12-24T12:07:57.758Z"
   },
   {
    "duration": 10,
    "start_time": "2022-12-24T12:07:59.757Z"
   },
   {
    "duration": 26,
    "start_time": "2022-12-24T12:07:59.768Z"
   },
   {
    "duration": 28,
    "start_time": "2022-12-24T12:07:59.796Z"
   },
   {
    "duration": 66,
    "start_time": "2022-12-24T12:07:59.825Z"
   },
   {
    "duration": 47,
    "start_time": "2022-12-24T12:07:59.893Z"
   },
   {
    "duration": 211,
    "start_time": "2022-12-24T12:07:59.941Z"
   },
   {
    "duration": 142,
    "start_time": "2022-12-24T12:08:00.154Z"
   },
   {
    "duration": 31,
    "start_time": "2022-12-24T12:08:00.299Z"
   },
   {
    "duration": 22,
    "start_time": "2022-12-24T12:08:00.333Z"
   },
   {
    "duration": 35,
    "start_time": "2022-12-24T12:08:00.356Z"
   },
   {
    "duration": 27,
    "start_time": "2022-12-24T12:08:00.392Z"
   },
   {
    "duration": 38,
    "start_time": "2022-12-24T12:08:00.421Z"
   },
   {
    "duration": 21,
    "start_time": "2022-12-24T12:08:00.461Z"
   },
   {
    "duration": 40,
    "start_time": "2022-12-24T12:08:00.484Z"
   },
   {
    "duration": 24,
    "start_time": "2022-12-24T12:08:00.526Z"
   },
   {
    "duration": 171,
    "start_time": "2022-12-24T12:08:00.552Z"
   },
   {
    "duration": 23,
    "start_time": "2022-12-24T12:08:00.724Z"
   },
   {
    "duration": 84,
    "start_time": "2022-12-24T12:08:00.749Z"
   },
   {
    "duration": 6,
    "start_time": "2022-12-24T12:08:00.834Z"
   },
   {
    "duration": 109,
    "start_time": "2022-12-24T12:08:00.841Z"
   },
   {
    "duration": 32,
    "start_time": "2022-12-24T12:08:00.951Z"
   },
   {
    "duration": 156,
    "start_time": "2022-12-24T12:08:00.985Z"
   },
   {
    "duration": 23,
    "start_time": "2022-12-24T12:08:01.145Z"
   },
   {
    "duration": 8,
    "start_time": "2022-12-24T12:08:01.170Z"
   },
   {
    "duration": 5,
    "start_time": "2022-12-24T12:08:01.179Z"
   },
   {
    "duration": 40,
    "start_time": "2022-12-24T12:08:01.185Z"
   },
   {
    "duration": 21,
    "start_time": "2022-12-24T12:08:01.226Z"
   },
   {
    "duration": 146,
    "start_time": "2022-12-24T12:08:01.249Z"
   },
   {
    "duration": 171,
    "start_time": "2022-12-24T12:08:01.396Z"
   },
   {
    "duration": 27,
    "start_time": "2022-12-24T12:08:01.569Z"
   },
   {
    "duration": 24,
    "start_time": "2022-12-24T12:08:01.598Z"
   },
   {
    "duration": 30,
    "start_time": "2022-12-24T12:08:01.624Z"
   },
   {
    "duration": 223,
    "start_time": "2022-12-24T12:08:01.656Z"
   },
   {
    "duration": 161,
    "start_time": "2022-12-24T12:08:01.881Z"
   },
   {
    "duration": 9,
    "start_time": "2022-12-24T12:08:02.044Z"
   },
   {
    "duration": 23,
    "start_time": "2022-12-24T12:08:02.055Z"
   },
   {
    "duration": 8,
    "start_time": "2022-12-24T12:08:02.080Z"
   },
   {
    "duration": 50,
    "start_time": "2022-12-24T12:08:02.090Z"
   },
   {
    "duration": 22,
    "start_time": "2022-12-24T12:08:02.142Z"
   },
   {
    "duration": 23,
    "start_time": "2022-12-24T12:08:02.166Z"
   },
   {
    "duration": 31,
    "start_time": "2022-12-24T12:08:02.191Z"
   },
   {
    "duration": 9,
    "start_time": "2022-12-24T12:08:02.224Z"
   },
   {
    "duration": 30,
    "start_time": "2022-12-24T12:08:02.234Z"
   },
   {
    "duration": 12,
    "start_time": "2022-12-24T12:08:02.266Z"
   },
   {
    "duration": 11,
    "start_time": "2022-12-24T12:08:02.279Z"
   },
   {
    "duration": 10,
    "start_time": "2022-12-24T12:08:02.291Z"
   },
   {
    "duration": 10,
    "start_time": "2022-12-24T12:08:02.302Z"
   },
   {
    "duration": 7,
    "start_time": "2022-12-24T12:08:02.321Z"
   },
   {
    "duration": 18,
    "start_time": "2022-12-24T12:08:02.330Z"
   },
   {
    "duration": 8,
    "start_time": "2022-12-24T12:08:02.350Z"
   },
   {
    "duration": 14,
    "start_time": "2022-12-24T12:08:02.360Z"
   },
   {
    "duration": 46,
    "start_time": "2022-12-24T12:08:02.376Z"
   },
   {
    "duration": 29,
    "start_time": "2022-12-24T12:08:02.424Z"
   },
   {
    "duration": 28,
    "start_time": "2022-12-24T12:08:02.454Z"
   },
   {
    "duration": 48,
    "start_time": "2022-12-24T12:08:02.484Z"
   },
   {
    "duration": 338,
    "start_time": "2022-12-24T12:08:23.488Z"
   },
   {
    "duration": 28,
    "start_time": "2022-12-24T12:09:51.407Z"
   },
   {
    "duration": 605,
    "start_time": "2022-12-24T12:10:18.149Z"
   },
   {
    "duration": 88,
    "start_time": "2022-12-24T12:10:18.756Z"
   },
   {
    "duration": 98,
    "start_time": "2022-12-24T12:10:18.846Z"
   },
   {
    "duration": 14,
    "start_time": "2022-12-24T12:10:18.946Z"
   },
   {
    "duration": 2005,
    "start_time": "2022-12-24T12:10:18.962Z"
   },
   {
    "duration": 9,
    "start_time": "2022-12-24T12:10:20.970Z"
   },
   {
    "duration": 13,
    "start_time": "2022-12-24T12:10:20.981Z"
   },
   {
    "duration": 9,
    "start_time": "2022-12-24T12:10:20.995Z"
   },
   {
    "duration": 23,
    "start_time": "2022-12-24T12:10:21.006Z"
   },
   {
    "duration": 20,
    "start_time": "2022-12-24T12:10:21.032Z"
   },
   {
    "duration": 151,
    "start_time": "2022-12-24T12:10:21.054Z"
   },
   {
    "duration": 128,
    "start_time": "2022-12-24T12:10:21.207Z"
   },
   {
    "duration": 17,
    "start_time": "2022-12-24T12:10:21.337Z"
   },
   {
    "duration": 17,
    "start_time": "2022-12-24T12:10:21.356Z"
   },
   {
    "duration": 16,
    "start_time": "2022-12-24T12:10:21.375Z"
   },
   {
    "duration": 4,
    "start_time": "2022-12-24T12:10:21.393Z"
   },
   {
    "duration": 10,
    "start_time": "2022-12-24T12:10:21.423Z"
   },
   {
    "duration": 5,
    "start_time": "2022-12-24T12:10:21.435Z"
   },
   {
    "duration": 18,
    "start_time": "2022-12-24T12:10:21.442Z"
   },
   {
    "duration": 4,
    "start_time": "2022-12-24T12:10:21.462Z"
   },
   {
    "duration": 194,
    "start_time": "2022-12-24T12:10:21.467Z"
   },
   {
    "duration": 23,
    "start_time": "2022-12-24T12:10:21.662Z"
   },
   {
    "duration": 56,
    "start_time": "2022-12-24T12:10:21.687Z"
   },
   {
    "duration": 4,
    "start_time": "2022-12-24T12:10:21.745Z"
   },
   {
    "duration": 33,
    "start_time": "2022-12-24T12:10:21.751Z"
   },
   {
    "duration": 6,
    "start_time": "2022-12-24T12:10:21.786Z"
   },
   {
    "duration": 167,
    "start_time": "2022-12-24T12:10:21.793Z"
   },
   {
    "duration": 24,
    "start_time": "2022-12-24T12:10:21.964Z"
   },
   {
    "duration": 13,
    "start_time": "2022-12-24T12:10:21.990Z"
   },
   {
    "duration": 18,
    "start_time": "2022-12-24T12:10:22.005Z"
   },
   {
    "duration": 23,
    "start_time": "2022-12-24T12:10:22.025Z"
   },
   {
    "duration": 8,
    "start_time": "2022-12-24T12:10:22.049Z"
   },
   {
    "duration": 154,
    "start_time": "2022-12-24T12:10:22.059Z"
   },
   {
    "duration": 157,
    "start_time": "2022-12-24T12:10:22.221Z"
   },
   {
    "duration": 19,
    "start_time": "2022-12-24T12:10:22.380Z"
   },
   {
    "duration": 21,
    "start_time": "2022-12-24T12:10:22.401Z"
   },
   {
    "duration": 17,
    "start_time": "2022-12-24T12:10:22.423Z"
   },
   {
    "duration": 223,
    "start_time": "2022-12-24T12:10:22.442Z"
   },
   {
    "duration": 176,
    "start_time": "2022-12-24T12:10:22.666Z"
   },
   {
    "duration": 10,
    "start_time": "2022-12-24T12:10:22.844Z"
   },
   {
    "duration": 28,
    "start_time": "2022-12-24T12:10:22.855Z"
   },
   {
    "duration": 7,
    "start_time": "2022-12-24T12:10:22.885Z"
   },
   {
    "duration": 46,
    "start_time": "2022-12-24T12:10:22.893Z"
   },
   {
    "duration": 22,
    "start_time": "2022-12-24T12:10:22.941Z"
   },
   {
    "duration": 20,
    "start_time": "2022-12-24T12:10:22.965Z"
   },
   {
    "duration": 7,
    "start_time": "2022-12-24T12:10:22.987Z"
   },
   {
    "duration": 8,
    "start_time": "2022-12-24T12:10:23.023Z"
   },
   {
    "duration": 16,
    "start_time": "2022-12-24T12:10:23.033Z"
   },
   {
    "duration": 5,
    "start_time": "2022-12-24T12:10:23.051Z"
   },
   {
    "duration": 8,
    "start_time": "2022-12-24T12:10:23.058Z"
   },
   {
    "duration": 7,
    "start_time": "2022-12-24T12:10:23.068Z"
   },
   {
    "duration": 52,
    "start_time": "2022-12-24T12:10:23.076Z"
   },
   {
    "duration": 8,
    "start_time": "2022-12-24T12:10:23.130Z"
   },
   {
    "duration": 8,
    "start_time": "2022-12-24T12:10:23.140Z"
   },
   {
    "duration": 8,
    "start_time": "2022-12-24T12:10:23.149Z"
   },
   {
    "duration": 14,
    "start_time": "2022-12-24T12:10:23.159Z"
   },
   {
    "duration": 66,
    "start_time": "2022-12-24T12:10:23.175Z"
   },
   {
    "duration": 32,
    "start_time": "2022-12-24T12:10:23.243Z"
   },
   {
    "duration": 27,
    "start_time": "2022-12-24T12:10:23.277Z"
   },
   {
    "duration": 43,
    "start_time": "2022-12-24T12:10:23.305Z"
   },
   {
    "duration": 348,
    "start_time": "2022-12-24T12:10:23.350Z"
   },
   {
    "duration": 33,
    "start_time": "2022-12-24T12:10:23.700Z"
   },
   {
    "duration": 74,
    "start_time": "2022-12-24T12:10:46.780Z"
   },
   {
    "duration": 11,
    "start_time": "2022-12-24T12:10:56.180Z"
   },
   {
    "duration": 660,
    "start_time": "2022-12-24T12:11:19.773Z"
   },
   {
    "duration": 100,
    "start_time": "2022-12-24T12:11:20.435Z"
   },
   {
    "duration": 105,
    "start_time": "2022-12-24T12:11:20.537Z"
   },
   {
    "duration": 19,
    "start_time": "2022-12-24T12:11:20.644Z"
   },
   {
    "duration": 2047,
    "start_time": "2022-12-24T12:11:20.665Z"
   },
   {
    "duration": 11,
    "start_time": "2022-12-24T12:11:22.713Z"
   },
   {
    "duration": 23,
    "start_time": "2022-12-24T12:11:22.726Z"
   },
   {
    "duration": 15,
    "start_time": "2022-12-24T12:11:22.751Z"
   },
   {
    "duration": 39,
    "start_time": "2022-12-24T12:11:22.768Z"
   },
   {
    "duration": 17,
    "start_time": "2022-12-24T12:11:22.810Z"
   },
   {
    "duration": 158,
    "start_time": "2022-12-24T12:11:22.829Z"
   },
   {
    "duration": 121,
    "start_time": "2022-12-24T12:11:22.989Z"
   },
   {
    "duration": 18,
    "start_time": "2022-12-24T12:11:23.121Z"
   },
   {
    "duration": 15,
    "start_time": "2022-12-24T12:11:23.141Z"
   },
   {
    "duration": 10,
    "start_time": "2022-12-24T12:11:23.157Z"
   },
   {
    "duration": 5,
    "start_time": "2022-12-24T12:11:23.168Z"
   },
   {
    "duration": 36,
    "start_time": "2022-12-24T12:11:23.175Z"
   },
   {
    "duration": 12,
    "start_time": "2022-12-24T12:11:23.212Z"
   },
   {
    "duration": 20,
    "start_time": "2022-12-24T12:11:23.226Z"
   },
   {
    "duration": 12,
    "start_time": "2022-12-24T12:11:23.248Z"
   },
   {
    "duration": 152,
    "start_time": "2022-12-24T12:11:23.261Z"
   },
   {
    "duration": 22,
    "start_time": "2022-12-24T12:11:23.421Z"
   },
   {
    "duration": 40,
    "start_time": "2022-12-24T12:11:23.445Z"
   },
   {
    "duration": 5,
    "start_time": "2022-12-24T12:11:23.488Z"
   },
   {
    "duration": 54,
    "start_time": "2022-12-24T12:11:23.494Z"
   },
   {
    "duration": 6,
    "start_time": "2022-12-24T12:11:23.550Z"
   },
   {
    "duration": 165,
    "start_time": "2022-12-24T12:11:23.557Z"
   },
   {
    "duration": 23,
    "start_time": "2022-12-24T12:11:23.725Z"
   },
   {
    "duration": 8,
    "start_time": "2022-12-24T12:11:23.749Z"
   },
   {
    "duration": 5,
    "start_time": "2022-12-24T12:11:23.758Z"
   },
   {
    "duration": 16,
    "start_time": "2022-12-24T12:11:23.764Z"
   },
   {
    "duration": 6,
    "start_time": "2022-12-24T12:11:23.781Z"
   },
   {
    "duration": 162,
    "start_time": "2022-12-24T12:11:23.788Z"
   },
   {
    "duration": 208,
    "start_time": "2022-12-24T12:11:23.952Z"
   },
   {
    "duration": 26,
    "start_time": "2022-12-24T12:11:24.162Z"
   },
   {
    "duration": 9,
    "start_time": "2022-12-24T12:11:24.190Z"
   },
   {
    "duration": 34,
    "start_time": "2022-12-24T12:11:24.201Z"
   },
   {
    "duration": 220,
    "start_time": "2022-12-24T12:11:24.237Z"
   },
   {
    "duration": 150,
    "start_time": "2022-12-24T12:11:24.459Z"
   },
   {
    "duration": 18,
    "start_time": "2022-12-24T12:11:24.610Z"
   },
   {
    "duration": 20,
    "start_time": "2022-12-24T12:11:24.630Z"
   },
   {
    "duration": 7,
    "start_time": "2022-12-24T12:11:24.652Z"
   },
   {
    "duration": 29,
    "start_time": "2022-12-24T12:11:24.661Z"
   },
   {
    "duration": 49,
    "start_time": "2022-12-24T12:11:24.692Z"
   },
   {
    "duration": 23,
    "start_time": "2022-12-24T12:11:24.743Z"
   },
   {
    "duration": 8,
    "start_time": "2022-12-24T12:11:24.768Z"
   },
   {
    "duration": 9,
    "start_time": "2022-12-24T12:11:24.778Z"
   },
   {
    "duration": 44,
    "start_time": "2022-12-24T12:11:24.789Z"
   },
   {
    "duration": 10,
    "start_time": "2022-12-24T12:11:24.834Z"
   },
   {
    "duration": 15,
    "start_time": "2022-12-24T12:11:24.846Z"
   },
   {
    "duration": 8,
    "start_time": "2022-12-24T12:11:24.863Z"
   },
   {
    "duration": 9,
    "start_time": "2022-12-24T12:11:24.873Z"
   },
   {
    "duration": 7,
    "start_time": "2022-12-24T12:11:24.884Z"
   },
   {
    "duration": 33,
    "start_time": "2022-12-24T12:11:24.893Z"
   },
   {
    "duration": 10,
    "start_time": "2022-12-24T12:11:24.928Z"
   },
   {
    "duration": 14,
    "start_time": "2022-12-24T12:11:24.940Z"
   },
   {
    "duration": 36,
    "start_time": "2022-12-24T12:11:24.956Z"
   },
   {
    "duration": 59,
    "start_time": "2022-12-24T12:11:24.994Z"
   },
   {
    "duration": 27,
    "start_time": "2022-12-24T12:11:25.055Z"
   },
   {
    "duration": 48,
    "start_time": "2022-12-24T12:11:25.084Z"
   },
   {
    "duration": 344,
    "start_time": "2022-12-24T12:11:25.133Z"
   },
   {
    "duration": 5,
    "start_time": "2022-12-24T12:11:55.551Z"
   },
   {
    "duration": 14,
    "start_time": "2022-12-24T12:12:04.686Z"
   },
   {
    "duration": 635,
    "start_time": "2022-12-24T12:12:25.540Z"
   },
   {
    "duration": 87,
    "start_time": "2022-12-24T12:12:26.177Z"
   },
   {
    "duration": 93,
    "start_time": "2022-12-24T12:12:26.265Z"
   },
   {
    "duration": 14,
    "start_time": "2022-12-24T12:12:26.360Z"
   },
   {
    "duration": 1936,
    "start_time": "2022-12-24T12:12:26.376Z"
   },
   {
    "duration": 10,
    "start_time": "2022-12-24T12:12:28.313Z"
   },
   {
    "duration": 14,
    "start_time": "2022-12-24T12:12:28.325Z"
   },
   {
    "duration": 10,
    "start_time": "2022-12-24T12:12:28.341Z"
   },
   {
    "duration": 22,
    "start_time": "2022-12-24T12:12:28.352Z"
   },
   {
    "duration": 17,
    "start_time": "2022-12-24T12:12:28.376Z"
   },
   {
    "duration": 148,
    "start_time": "2022-12-24T12:12:28.422Z"
   },
   {
    "duration": 138,
    "start_time": "2022-12-24T12:12:28.572Z"
   },
   {
    "duration": 23,
    "start_time": "2022-12-24T12:12:28.712Z"
   },
   {
    "duration": 15,
    "start_time": "2022-12-24T12:12:28.738Z"
   },
   {
    "duration": 11,
    "start_time": "2022-12-24T12:12:28.755Z"
   },
   {
    "duration": 3,
    "start_time": "2022-12-24T12:12:28.768Z"
   },
   {
    "duration": 9,
    "start_time": "2022-12-24T12:12:28.773Z"
   },
   {
    "duration": 4,
    "start_time": "2022-12-24T12:12:28.784Z"
   },
   {
    "duration": 26,
    "start_time": "2022-12-24T12:12:28.823Z"
   },
   {
    "duration": 4,
    "start_time": "2022-12-24T12:12:28.851Z"
   },
   {
    "duration": 167,
    "start_time": "2022-12-24T12:12:28.856Z"
   },
   {
    "duration": 24,
    "start_time": "2022-12-24T12:12:29.025Z"
   },
   {
    "duration": 40,
    "start_time": "2022-12-24T12:12:29.050Z"
   },
   {
    "duration": 5,
    "start_time": "2022-12-24T12:12:29.092Z"
   },
   {
    "duration": 28,
    "start_time": "2022-12-24T12:12:29.122Z"
   },
   {
    "duration": 6,
    "start_time": "2022-12-24T12:12:29.151Z"
   },
   {
    "duration": 152,
    "start_time": "2022-12-24T12:12:29.159Z"
   },
   {
    "duration": 29,
    "start_time": "2022-12-24T12:12:29.313Z"
   },
   {
    "duration": 15,
    "start_time": "2022-12-24T12:12:29.344Z"
   },
   {
    "duration": 5,
    "start_time": "2022-12-24T12:12:29.361Z"
   },
   {
    "duration": 17,
    "start_time": "2022-12-24T12:12:29.368Z"
   },
   {
    "duration": 7,
    "start_time": "2022-12-24T12:12:29.387Z"
   },
   {
    "duration": 156,
    "start_time": "2022-12-24T12:12:29.395Z"
   },
   {
    "duration": 162,
    "start_time": "2022-12-24T12:12:29.552Z"
   },
   {
    "duration": 24,
    "start_time": "2022-12-24T12:12:29.715Z"
   },
   {
    "duration": 8,
    "start_time": "2022-12-24T12:12:29.741Z"
   },
   {
    "duration": 34,
    "start_time": "2022-12-24T12:12:29.750Z"
   },
   {
    "duration": 238,
    "start_time": "2022-12-24T12:12:29.786Z"
   },
   {
    "duration": 154,
    "start_time": "2022-12-24T12:12:30.026Z"
   },
   {
    "duration": 11,
    "start_time": "2022-12-24T12:12:30.182Z"
   },
   {
    "duration": 44,
    "start_time": "2022-12-24T12:12:30.199Z"
   },
   {
    "duration": 18,
    "start_time": "2022-12-24T12:12:30.245Z"
   },
   {
    "duration": 48,
    "start_time": "2022-12-24T12:12:30.265Z"
   },
   {
    "duration": 49,
    "start_time": "2022-12-24T12:12:30.315Z"
   },
   {
    "duration": 23,
    "start_time": "2022-12-24T12:12:30.366Z"
   },
   {
    "duration": 8,
    "start_time": "2022-12-24T12:12:30.391Z"
   },
   {
    "duration": 25,
    "start_time": "2022-12-24T12:12:30.401Z"
   },
   {
    "duration": 41,
    "start_time": "2022-12-24T12:12:30.427Z"
   },
   {
    "duration": 19,
    "start_time": "2022-12-24T12:12:30.470Z"
   },
   {
    "duration": 21,
    "start_time": "2022-12-24T12:12:30.491Z"
   },
   {
    "duration": 10,
    "start_time": "2022-12-24T12:12:30.514Z"
   },
   {
    "duration": 17,
    "start_time": "2022-12-24T12:12:30.526Z"
   },
   {
    "duration": 31,
    "start_time": "2022-12-24T12:12:30.545Z"
   },
   {
    "duration": 19,
    "start_time": "2022-12-24T12:12:30.577Z"
   },
   {
    "duration": 37,
    "start_time": "2022-12-24T12:12:30.597Z"
   },
   {
    "duration": 16,
    "start_time": "2022-12-24T12:12:30.636Z"
   },
   {
    "duration": 50,
    "start_time": "2022-12-24T12:12:30.654Z"
   },
   {
    "duration": 27,
    "start_time": "2022-12-24T12:12:30.706Z"
   },
   {
    "duration": 34,
    "start_time": "2022-12-24T12:12:30.735Z"
   },
   {
    "duration": 25,
    "start_time": "2022-12-24T12:12:30.771Z"
   },
   {
    "duration": 357,
    "start_time": "2022-12-24T12:12:30.798Z"
   },
   {
    "duration": 5,
    "start_time": "2022-12-24T12:12:31.156Z"
   },
   {
    "duration": 35,
    "start_time": "2022-12-24T12:12:31.162Z"
   },
   {
    "duration": 611,
    "start_time": "2022-12-24T12:13:29.379Z"
   },
   {
    "duration": 88,
    "start_time": "2022-12-24T12:13:29.992Z"
   },
   {
    "duration": 104,
    "start_time": "2022-12-24T12:13:30.081Z"
   },
   {
    "duration": 15,
    "start_time": "2022-12-24T12:13:30.187Z"
   },
   {
    "duration": 2039,
    "start_time": "2022-12-24T12:13:30.204Z"
   },
   {
    "duration": 12,
    "start_time": "2022-12-24T12:13:32.246Z"
   },
   {
    "duration": 16,
    "start_time": "2022-12-24T12:13:32.260Z"
   },
   {
    "duration": 14,
    "start_time": "2022-12-24T12:13:32.278Z"
   },
   {
    "duration": 35,
    "start_time": "2022-12-24T12:13:32.294Z"
   },
   {
    "duration": 18,
    "start_time": "2022-12-24T12:13:32.331Z"
   },
   {
    "duration": 160,
    "start_time": "2022-12-24T12:13:32.351Z"
   },
   {
    "duration": 137,
    "start_time": "2022-12-24T12:13:32.513Z"
   },
   {
    "duration": 18,
    "start_time": "2022-12-24T12:13:32.651Z"
   },
   {
    "duration": 16,
    "start_time": "2022-12-24T12:13:32.672Z"
   },
   {
    "duration": 18,
    "start_time": "2022-12-24T12:13:32.689Z"
   },
   {
    "duration": 21,
    "start_time": "2022-12-24T12:13:32.708Z"
   },
   {
    "duration": 25,
    "start_time": "2022-12-24T12:13:32.731Z"
   },
   {
    "duration": 13,
    "start_time": "2022-12-24T12:13:32.758Z"
   },
   {
    "duration": 37,
    "start_time": "2022-12-24T12:13:32.772Z"
   },
   {
    "duration": 5,
    "start_time": "2022-12-24T12:13:32.810Z"
   },
   {
    "duration": 159,
    "start_time": "2022-12-24T12:13:32.817Z"
   },
   {
    "duration": 22,
    "start_time": "2022-12-24T12:13:32.978Z"
   },
   {
    "duration": 63,
    "start_time": "2022-12-24T12:13:33.002Z"
   },
   {
    "duration": 5,
    "start_time": "2022-12-24T12:13:33.067Z"
   },
   {
    "duration": 37,
    "start_time": "2022-12-24T12:13:33.074Z"
   },
   {
    "duration": 14,
    "start_time": "2022-12-24T12:13:33.113Z"
   },
   {
    "duration": 158,
    "start_time": "2022-12-24T12:13:33.128Z"
   },
   {
    "duration": 23,
    "start_time": "2022-12-24T12:13:33.287Z"
   },
   {
    "duration": 16,
    "start_time": "2022-12-24T12:13:33.311Z"
   },
   {
    "duration": 13,
    "start_time": "2022-12-24T12:13:33.329Z"
   },
   {
    "duration": 29,
    "start_time": "2022-12-24T12:13:33.344Z"
   },
   {
    "duration": 16,
    "start_time": "2022-12-24T12:13:33.375Z"
   },
   {
    "duration": 155,
    "start_time": "2022-12-24T12:13:33.392Z"
   },
   {
    "duration": 169,
    "start_time": "2022-12-24T12:13:33.549Z"
   },
   {
    "duration": 21,
    "start_time": "2022-12-24T12:13:33.719Z"
   },
   {
    "duration": 9,
    "start_time": "2022-12-24T12:13:33.741Z"
   },
   {
    "duration": 48,
    "start_time": "2022-12-24T12:13:33.751Z"
   },
   {
    "duration": 213,
    "start_time": "2022-12-24T12:13:33.801Z"
   },
   {
    "duration": 199,
    "start_time": "2022-12-24T12:13:34.016Z"
   },
   {
    "duration": 11,
    "start_time": "2022-12-24T12:13:34.221Z"
   },
   {
    "duration": 23,
    "start_time": "2022-12-24T12:13:34.236Z"
   },
   {
    "duration": 8,
    "start_time": "2022-12-24T12:13:34.261Z"
   },
   {
    "duration": 36,
    "start_time": "2022-12-24T12:13:34.270Z"
   },
   {
    "duration": 21,
    "start_time": "2022-12-24T12:13:34.321Z"
   },
   {
    "duration": 31,
    "start_time": "2022-12-24T12:13:34.343Z"
   },
   {
    "duration": 8,
    "start_time": "2022-12-24T12:13:34.375Z"
   },
   {
    "duration": 20,
    "start_time": "2022-12-24T12:13:34.384Z"
   },
   {
    "duration": 35,
    "start_time": "2022-12-24T12:13:34.406Z"
   },
   {
    "duration": 10,
    "start_time": "2022-12-24T12:13:34.443Z"
   },
   {
    "duration": 21,
    "start_time": "2022-12-24T12:13:34.454Z"
   },
   {
    "duration": 9,
    "start_time": "2022-12-24T12:13:34.476Z"
   },
   {
    "duration": 19,
    "start_time": "2022-12-24T12:13:34.487Z"
   },
   {
    "duration": 22,
    "start_time": "2022-12-24T12:13:34.508Z"
   },
   {
    "duration": 15,
    "start_time": "2022-12-24T12:13:34.532Z"
   },
   {
    "duration": 12,
    "start_time": "2022-12-24T12:13:34.549Z"
   },
   {
    "duration": 14,
    "start_time": "2022-12-24T12:13:34.563Z"
   },
   {
    "duration": 27,
    "start_time": "2022-12-24T12:13:34.578Z"
   },
   {
    "duration": 38,
    "start_time": "2022-12-24T12:13:34.606Z"
   },
   {
    "duration": 28,
    "start_time": "2022-12-24T12:13:34.645Z"
   },
   {
    "duration": 26,
    "start_time": "2022-12-24T12:13:34.674Z"
   },
   {
    "duration": 353,
    "start_time": "2022-12-24T12:13:34.722Z"
   },
   {
    "duration": 4,
    "start_time": "2022-12-24T12:13:35.077Z"
   },
   {
    "duration": 20,
    "start_time": "2022-12-24T12:13:35.083Z"
   },
   {
    "duration": 689,
    "start_time": "2022-12-24T12:14:22.318Z"
   },
   {
    "duration": 87,
    "start_time": "2022-12-24T12:14:23.009Z"
   },
   {
    "duration": 94,
    "start_time": "2022-12-24T12:14:23.098Z"
   },
   {
    "duration": 15,
    "start_time": "2022-12-24T12:14:23.195Z"
   },
   {
    "duration": 1979,
    "start_time": "2022-12-24T12:14:23.212Z"
   },
   {
    "duration": 10,
    "start_time": "2022-12-24T12:14:25.193Z"
   },
   {
    "duration": 22,
    "start_time": "2022-12-24T12:14:25.204Z"
   },
   {
    "duration": 10,
    "start_time": "2022-12-24T12:14:25.227Z"
   },
   {
    "duration": 23,
    "start_time": "2022-12-24T12:14:25.238Z"
   },
   {
    "duration": 19,
    "start_time": "2022-12-24T12:14:25.265Z"
   },
   {
    "duration": 165,
    "start_time": "2022-12-24T12:14:25.285Z"
   },
   {
    "duration": 127,
    "start_time": "2022-12-24T12:14:25.452Z"
   },
   {
    "duration": 19,
    "start_time": "2022-12-24T12:14:25.581Z"
   },
   {
    "duration": 27,
    "start_time": "2022-12-24T12:14:25.601Z"
   },
   {
    "duration": 11,
    "start_time": "2022-12-24T12:14:25.629Z"
   },
   {
    "duration": 4,
    "start_time": "2022-12-24T12:14:25.641Z"
   },
   {
    "duration": 10,
    "start_time": "2022-12-24T12:14:25.647Z"
   },
   {
    "duration": 4,
    "start_time": "2022-12-24T12:14:25.658Z"
   },
   {
    "duration": 18,
    "start_time": "2022-12-24T12:14:25.663Z"
   },
   {
    "duration": 5,
    "start_time": "2022-12-24T12:14:25.722Z"
   },
   {
    "duration": 178,
    "start_time": "2022-12-24T12:14:25.729Z"
   },
   {
    "duration": 29,
    "start_time": "2022-12-24T12:14:25.909Z"
   },
   {
    "duration": 38,
    "start_time": "2022-12-24T12:14:25.940Z"
   },
   {
    "duration": 5,
    "start_time": "2022-12-24T12:14:25.980Z"
   },
   {
    "duration": 47,
    "start_time": "2022-12-24T12:14:25.987Z"
   },
   {
    "duration": 5,
    "start_time": "2022-12-24T12:14:26.036Z"
   },
   {
    "duration": 150,
    "start_time": "2022-12-24T12:14:26.043Z"
   },
   {
    "duration": 36,
    "start_time": "2022-12-24T12:14:26.196Z"
   },
   {
    "duration": 8,
    "start_time": "2022-12-24T12:14:26.234Z"
   },
   {
    "duration": 5,
    "start_time": "2022-12-24T12:14:26.243Z"
   },
   {
    "duration": 19,
    "start_time": "2022-12-24T12:14:26.249Z"
   },
   {
    "duration": 7,
    "start_time": "2022-12-24T12:14:26.269Z"
   },
   {
    "duration": 155,
    "start_time": "2022-12-24T12:14:26.278Z"
   },
   {
    "duration": 167,
    "start_time": "2022-12-24T12:14:26.435Z"
   },
   {
    "duration": 22,
    "start_time": "2022-12-24T12:14:26.604Z"
   },
   {
    "duration": 7,
    "start_time": "2022-12-24T12:14:26.628Z"
   },
   {
    "duration": 21,
    "start_time": "2022-12-24T12:14:26.637Z"
   },
   {
    "duration": 242,
    "start_time": "2022-12-24T12:14:26.659Z"
   },
   {
    "duration": 173,
    "start_time": "2022-12-24T12:14:26.903Z"
   },
   {
    "duration": 9,
    "start_time": "2022-12-24T12:14:27.078Z"
   },
   {
    "duration": 19,
    "start_time": "2022-12-24T12:14:27.089Z"
   },
   {
    "duration": 7,
    "start_time": "2022-12-24T12:14:27.122Z"
   },
   {
    "duration": 26,
    "start_time": "2022-12-24T12:14:27.131Z"
   },
   {
    "duration": 21,
    "start_time": "2022-12-24T12:14:27.159Z"
   },
   {
    "duration": 49,
    "start_time": "2022-12-24T12:14:27.182Z"
   },
   {
    "duration": 7,
    "start_time": "2022-12-24T12:14:27.233Z"
   },
   {
    "duration": 9,
    "start_time": "2022-12-24T12:14:27.242Z"
   },
   {
    "duration": 15,
    "start_time": "2022-12-24T12:14:27.252Z"
   },
   {
    "duration": 5,
    "start_time": "2022-12-24T12:14:27.269Z"
   },
   {
    "duration": 11,
    "start_time": "2022-12-24T12:14:27.275Z"
   },
   {
    "duration": 34,
    "start_time": "2022-12-24T12:14:27.288Z"
   },
   {
    "duration": 9,
    "start_time": "2022-12-24T12:14:27.324Z"
   },
   {
    "duration": 7,
    "start_time": "2022-12-24T12:14:27.334Z"
   },
   {
    "duration": 8,
    "start_time": "2022-12-24T12:14:27.343Z"
   },
   {
    "duration": 11,
    "start_time": "2022-12-24T12:14:27.352Z"
   },
   {
    "duration": 14,
    "start_time": "2022-12-24T12:14:27.364Z"
   },
   {
    "duration": 65,
    "start_time": "2022-12-24T12:14:27.380Z"
   },
   {
    "duration": 29,
    "start_time": "2022-12-24T12:14:27.447Z"
   },
   {
    "duration": 47,
    "start_time": "2022-12-24T12:14:27.477Z"
   },
   {
    "duration": 27,
    "start_time": "2022-12-24T12:14:27.525Z"
   },
   {
    "duration": 361,
    "start_time": "2022-12-24T12:14:27.553Z"
   },
   {
    "duration": 7,
    "start_time": "2022-12-24T12:14:27.915Z"
   },
   {
    "duration": 35,
    "start_time": "2022-12-24T12:14:27.923Z"
   },
   {
    "duration": 744,
    "start_time": "2022-12-25T12:49:46.738Z"
   },
   {
    "duration": 133,
    "start_time": "2022-12-25T12:49:47.484Z"
   },
   {
    "duration": 84,
    "start_time": "2022-12-25T12:49:47.619Z"
   },
   {
    "duration": 14,
    "start_time": "2022-12-25T12:49:47.705Z"
   },
   {
    "duration": 1971,
    "start_time": "2022-12-25T12:49:47.721Z"
   },
   {
    "duration": 10,
    "start_time": "2022-12-25T12:49:49.694Z"
   },
   {
    "duration": 39,
    "start_time": "2022-12-25T12:49:49.705Z"
   },
   {
    "duration": 25,
    "start_time": "2022-12-25T12:49:49.746Z"
   },
   {
    "duration": 30,
    "start_time": "2022-12-25T12:49:49.773Z"
   },
   {
    "duration": 21,
    "start_time": "2022-12-25T12:49:49.805Z"
   },
   {
    "duration": 152,
    "start_time": "2022-12-25T12:49:49.828Z"
   },
   {
    "duration": 146,
    "start_time": "2022-12-25T12:49:49.982Z"
   },
   {
    "duration": 19,
    "start_time": "2022-12-25T12:49:50.130Z"
   },
   {
    "duration": 27,
    "start_time": "2022-12-25T12:49:50.152Z"
   },
   {
    "duration": 13,
    "start_time": "2022-12-25T12:49:50.181Z"
   },
   {
    "duration": 16,
    "start_time": "2022-12-25T12:49:50.195Z"
   },
   {
    "duration": 28,
    "start_time": "2022-12-25T12:49:50.213Z"
   },
   {
    "duration": 10,
    "start_time": "2022-12-25T12:49:50.243Z"
   },
   {
    "duration": 29,
    "start_time": "2022-12-25T12:49:50.254Z"
   },
   {
    "duration": 6,
    "start_time": "2022-12-25T12:49:50.284Z"
   },
   {
    "duration": 171,
    "start_time": "2022-12-25T12:49:50.292Z"
   },
   {
    "duration": 34,
    "start_time": "2022-12-25T12:49:50.465Z"
   },
   {
    "duration": 44,
    "start_time": "2022-12-25T12:49:50.501Z"
   },
   {
    "duration": 30,
    "start_time": "2022-12-25T12:49:50.547Z"
   },
   {
    "duration": 31,
    "start_time": "2022-12-25T12:49:50.579Z"
   },
   {
    "duration": 7,
    "start_time": "2022-12-25T12:49:50.611Z"
   },
   {
    "duration": 171,
    "start_time": "2022-12-25T12:49:50.620Z"
   },
   {
    "duration": 23,
    "start_time": "2022-12-25T12:49:50.793Z"
   },
   {
    "duration": 11,
    "start_time": "2022-12-25T12:49:50.818Z"
   },
   {
    "duration": 21,
    "start_time": "2022-12-25T12:49:50.831Z"
   },
   {
    "duration": 24,
    "start_time": "2022-12-25T12:49:50.853Z"
   },
   {
    "duration": 9,
    "start_time": "2022-12-25T12:49:50.879Z"
   },
   {
    "duration": 150,
    "start_time": "2022-12-25T12:49:50.890Z"
   },
   {
    "duration": 191,
    "start_time": "2022-12-25T12:49:51.042Z"
   },
   {
    "duration": 19,
    "start_time": "2022-12-25T12:49:51.235Z"
   },
   {
    "duration": 24,
    "start_time": "2022-12-25T12:49:51.256Z"
   },
   {
    "duration": 20,
    "start_time": "2022-12-25T12:49:51.281Z"
   },
   {
    "duration": 222,
    "start_time": "2022-12-25T12:49:51.303Z"
   },
   {
    "duration": 156,
    "start_time": "2022-12-25T12:49:51.527Z"
   },
   {
    "duration": 11,
    "start_time": "2022-12-25T12:49:51.685Z"
   },
   {
    "duration": 19,
    "start_time": "2022-12-25T12:49:51.701Z"
   },
   {
    "duration": 7,
    "start_time": "2022-12-25T12:49:51.722Z"
   },
   {
    "duration": 59,
    "start_time": "2022-12-25T12:49:51.731Z"
   },
   {
    "duration": 25,
    "start_time": "2022-12-25T12:49:51.791Z"
   },
   {
    "duration": 23,
    "start_time": "2022-12-25T12:49:51.818Z"
   },
   {
    "duration": 36,
    "start_time": "2022-12-25T12:49:51.844Z"
   },
   {
    "duration": 8,
    "start_time": "2022-12-25T12:49:51.882Z"
   },
   {
    "duration": 17,
    "start_time": "2022-12-25T12:49:51.892Z"
   },
   {
    "duration": 5,
    "start_time": "2022-12-25T12:49:51.911Z"
   },
   {
    "duration": 17,
    "start_time": "2022-12-25T12:49:51.918Z"
   },
   {
    "duration": 8,
    "start_time": "2022-12-25T12:49:51.937Z"
   },
   {
    "duration": 20,
    "start_time": "2022-12-25T12:49:51.947Z"
   },
   {
    "duration": 22,
    "start_time": "2022-12-25T12:49:51.978Z"
   },
   {
    "duration": 11,
    "start_time": "2022-12-25T12:49:52.002Z"
   },
   {
    "duration": 27,
    "start_time": "2022-12-25T12:49:52.015Z"
   },
   {
    "duration": 24,
    "start_time": "2022-12-25T12:49:52.044Z"
   },
   {
    "duration": 34,
    "start_time": "2022-12-25T12:49:52.070Z"
   },
   {
    "duration": 40,
    "start_time": "2022-12-25T12:49:52.106Z"
   },
   {
    "duration": 40,
    "start_time": "2022-12-25T12:49:52.147Z"
   },
   {
    "duration": 28,
    "start_time": "2022-12-25T12:49:52.189Z"
   },
   {
    "duration": 362,
    "start_time": "2022-12-25T12:49:52.219Z"
   },
   {
    "duration": 4,
    "start_time": "2022-12-25T12:49:52.583Z"
   },
   {
    "duration": 1273,
    "start_time": "2022-12-25T12:52:54.752Z"
   },
   {
    "duration": 10,
    "start_time": "2022-12-25T12:56:28.358Z"
   },
   {
    "duration": 122,
    "start_time": "2022-12-25T12:57:41.205Z"
   },
   {
    "duration": 11,
    "start_time": "2022-12-25T12:57:55.654Z"
   },
   {
    "duration": 116,
    "start_time": "2022-12-25T12:57:58.758Z"
   },
   {
    "duration": 215,
    "start_time": "2022-12-25T12:58:05.397Z"
   },
   {
    "duration": 318,
    "start_time": "2022-12-25T12:59:19.008Z"
   },
   {
    "duration": 9,
    "start_time": "2022-12-25T13:08:22.385Z"
   },
   {
    "duration": 319,
    "start_time": "2022-12-25T13:10:04.467Z"
   },
   {
    "duration": 236,
    "start_time": "2022-12-25T13:10:43.482Z"
   },
   {
    "duration": 12,
    "start_time": "2022-12-25T13:12:04.432Z"
   },
   {
    "duration": 247,
    "start_time": "2022-12-25T13:14:16.866Z"
   },
   {
    "duration": 258,
    "start_time": "2022-12-25T13:14:34.370Z"
   },
   {
    "duration": 279,
    "start_time": "2022-12-25T13:14:47.319Z"
   },
   {
    "duration": 451,
    "start_time": "2022-12-25T13:14:58.427Z"
   },
   {
    "duration": 259,
    "start_time": "2022-12-25T13:15:20.836Z"
   },
   {
    "duration": 283,
    "start_time": "2022-12-25T13:16:16.324Z"
   },
   {
    "duration": 65,
    "start_time": "2022-12-25T13:22:47.245Z"
   },
   {
    "duration": 91,
    "start_time": "2022-12-25T13:22:55.974Z"
   },
   {
    "duration": 68,
    "start_time": "2022-12-25T13:23:05.973Z"
   },
   {
    "duration": 11,
    "start_time": "2022-12-25T13:24:46.286Z"
   },
   {
    "duration": 8,
    "start_time": "2022-12-25T13:24:54.940Z"
   },
   {
    "duration": 4,
    "start_time": "2022-12-25T13:26:05.255Z"
   },
   {
    "duration": 15,
    "start_time": "2022-12-25T13:26:14.480Z"
   },
   {
    "duration": 18,
    "start_time": "2022-12-25T13:26:19.750Z"
   },
   {
    "duration": 8,
    "start_time": "2022-12-25T13:26:24.304Z"
   },
   {
    "duration": 29,
    "start_time": "2022-12-25T13:27:53.505Z"
   },
   {
    "duration": 17,
    "start_time": "2022-12-25T13:28:14.270Z"
   },
   {
    "duration": 43,
    "start_time": "2022-12-25T13:29:10.634Z"
   },
   {
    "duration": 14,
    "start_time": "2022-12-25T13:29:22.544Z"
   },
   {
    "duration": 17,
    "start_time": "2022-12-25T13:29:29.591Z"
   },
   {
    "duration": 68,
    "start_time": "2022-12-25T13:31:35.041Z"
   },
   {
    "duration": 65,
    "start_time": "2022-12-25T13:31:38.454Z"
   },
   {
    "duration": 5,
    "start_time": "2022-12-25T13:31:43.273Z"
   },
   {
    "duration": 40,
    "start_time": "2022-12-25T13:31:48.921Z"
   },
   {
    "duration": 9,
    "start_time": "2022-12-25T13:32:30.961Z"
   },
   {
    "duration": 6,
    "start_time": "2022-12-25T13:33:52.673Z"
   },
   {
    "duration": 8,
    "start_time": "2022-12-25T13:34:05.986Z"
   },
   {
    "duration": 6,
    "start_time": "2022-12-25T13:34:29.785Z"
   },
   {
    "duration": 5,
    "start_time": "2022-12-25T14:02:37.554Z"
   },
   {
    "duration": 54,
    "start_time": "2022-12-25T14:02:55.960Z"
   },
   {
    "duration": 38,
    "start_time": "2022-12-25T14:03:04.770Z"
   },
   {
    "duration": 11,
    "start_time": "2022-12-25T14:03:36.459Z"
   },
   {
    "duration": 15,
    "start_time": "2022-12-25T14:04:23.584Z"
   },
   {
    "duration": 700,
    "start_time": "2022-12-25T14:04:30.928Z"
   },
   {
    "duration": 88,
    "start_time": "2022-12-25T14:04:31.630Z"
   },
   {
    "duration": 106,
    "start_time": "2022-12-25T14:04:31.720Z"
   },
   {
    "duration": 14,
    "start_time": "2022-12-25T14:04:31.828Z"
   },
   {
    "duration": 1948,
    "start_time": "2022-12-25T14:04:31.844Z"
   },
   {
    "duration": 11,
    "start_time": "2022-12-25T14:04:33.795Z"
   },
   {
    "duration": 46,
    "start_time": "2022-12-25T14:04:33.808Z"
   },
   {
    "duration": 74,
    "start_time": "2022-12-25T14:04:33.856Z"
   },
   {
    "duration": 42,
    "start_time": "2022-12-25T14:04:33.932Z"
   },
   {
    "duration": 29,
    "start_time": "2022-12-25T14:04:33.976Z"
   },
   {
    "duration": 38,
    "start_time": "2022-12-25T14:04:34.007Z"
   },
   {
    "duration": 42,
    "start_time": "2022-12-25T14:04:34.048Z"
   },
   {
    "duration": 54,
    "start_time": "2022-12-25T14:04:34.092Z"
   },
   {
    "duration": 65,
    "start_time": "2022-12-25T14:04:34.150Z"
   },
   {
    "duration": 41,
    "start_time": "2022-12-25T14:04:34.217Z"
   },
   {
    "duration": 162,
    "start_time": "2022-12-25T14:04:34.260Z"
   },
   {
    "duration": 143,
    "start_time": "2022-12-25T14:04:34.423Z"
   },
   {
    "duration": 25,
    "start_time": "2022-12-25T14:04:34.569Z"
   },
   {
    "duration": 54,
    "start_time": "2022-12-25T14:04:34.596Z"
   },
   {
    "duration": 18,
    "start_time": "2022-12-25T14:04:34.652Z"
   },
   {
    "duration": 28,
    "start_time": "2022-12-25T14:04:34.672Z"
   },
   {
    "duration": 29,
    "start_time": "2022-12-25T14:04:34.702Z"
   },
   {
    "duration": 45,
    "start_time": "2022-12-25T14:04:34.733Z"
   },
   {
    "duration": 64,
    "start_time": "2022-12-25T14:04:34.780Z"
   },
   {
    "duration": 13,
    "start_time": "2022-12-25T14:04:34.847Z"
   },
   {
    "duration": 204,
    "start_time": "2022-12-25T14:04:34.862Z"
   },
   {
    "duration": 30,
    "start_time": "2022-12-25T14:04:35.067Z"
   },
   {
    "duration": 84,
    "start_time": "2022-12-25T14:04:35.099Z"
   },
   {
    "duration": 14,
    "start_time": "2022-12-25T14:04:35.185Z"
   },
   {
    "duration": 26,
    "start_time": "2022-12-25T14:04:35.201Z"
   },
   {
    "duration": 19,
    "start_time": "2022-12-25T14:04:35.229Z"
   },
   {
    "duration": 140,
    "start_time": "2022-12-25T14:04:35.250Z"
   },
   {
    "duration": 25,
    "start_time": "2022-12-25T14:04:35.391Z"
   },
   {
    "duration": 14,
    "start_time": "2022-12-25T14:04:35.418Z"
   },
   {
    "duration": 6,
    "start_time": "2022-12-25T14:04:35.433Z"
   },
   {
    "duration": 40,
    "start_time": "2022-12-25T14:04:35.441Z"
   },
   {
    "duration": 7,
    "start_time": "2022-12-25T14:04:35.483Z"
   },
   {
    "duration": 139,
    "start_time": "2022-12-25T14:04:35.492Z"
   },
   {
    "duration": 189,
    "start_time": "2022-12-25T14:04:35.633Z"
   },
   {
    "duration": 21,
    "start_time": "2022-12-25T14:04:35.824Z"
   },
   {
    "duration": 11,
    "start_time": "2022-12-25T14:04:35.850Z"
   },
   {
    "duration": 19,
    "start_time": "2022-12-25T14:04:35.877Z"
   },
   {
    "duration": 236,
    "start_time": "2022-12-25T14:04:35.898Z"
   },
   {
    "duration": 154,
    "start_time": "2022-12-25T14:04:36.135Z"
   },
   {
    "duration": 10,
    "start_time": "2022-12-25T14:04:36.291Z"
   },
   {
    "duration": 26,
    "start_time": "2022-12-25T14:04:36.303Z"
   },
   {
    "duration": 9,
    "start_time": "2022-12-25T14:04:36.331Z"
   },
   {
    "duration": 55,
    "start_time": "2022-12-25T14:04:36.341Z"
   },
   {
    "duration": 24,
    "start_time": "2022-12-25T14:04:36.398Z"
   },
   {
    "duration": 22,
    "start_time": "2022-12-25T14:04:36.424Z"
   },
   {
    "duration": 32,
    "start_time": "2022-12-25T14:04:36.447Z"
   },
   {
    "duration": 9,
    "start_time": "2022-12-25T14:04:36.480Z"
   },
   {
    "duration": 18,
    "start_time": "2022-12-25T14:04:36.490Z"
   },
   {
    "duration": 6,
    "start_time": "2022-12-25T14:04:36.510Z"
   },
   {
    "duration": 10,
    "start_time": "2022-12-25T14:04:36.518Z"
   },
   {
    "duration": 9,
    "start_time": "2022-12-25T14:04:36.530Z"
   },
   {
    "duration": 45,
    "start_time": "2022-12-25T14:04:36.541Z"
   },
   {
    "duration": 7,
    "start_time": "2022-12-25T14:04:36.588Z"
   },
   {
    "duration": 9,
    "start_time": "2022-12-25T14:04:36.597Z"
   },
   {
    "duration": 10,
    "start_time": "2022-12-25T14:04:36.608Z"
   },
   {
    "duration": 20,
    "start_time": "2022-12-25T14:04:36.621Z"
   },
   {
    "duration": 39,
    "start_time": "2022-12-25T14:04:36.678Z"
   },
   {
    "duration": 28,
    "start_time": "2022-12-25T14:04:36.719Z"
   },
   {
    "duration": 46,
    "start_time": "2022-12-25T14:04:36.749Z"
   },
   {
    "duration": 27,
    "start_time": "2022-12-25T14:04:36.798Z"
   },
   {
    "duration": 402,
    "start_time": "2022-12-25T14:04:36.828Z"
   },
   {
    "duration": 5,
    "start_time": "2022-12-25T14:04:37.232Z"
   },
   {
    "duration": 33,
    "start_time": "2022-12-25T14:04:37.239Z"
   },
   {
    "duration": 279,
    "start_time": "2022-12-25T14:04:37.274Z"
   },
   {
    "duration": 9,
    "start_time": "2022-12-25T14:04:37.555Z"
   },
   {
    "duration": 261,
    "start_time": "2022-12-25T14:04:37.565Z"
   },
   {
    "duration": 10,
    "start_time": "2022-12-25T14:04:37.828Z"
   },
   {
    "duration": 302,
    "start_time": "2022-12-25T14:04:37.839Z"
   },
   {
    "duration": 11,
    "start_time": "2022-12-25T14:05:07.376Z"
   },
   {
    "duration": 83,
    "start_time": "2022-12-25T14:05:22.391Z"
   },
   {
    "duration": 11,
    "start_time": "2022-12-25T14:05:30.627Z"
   },
   {
    "duration": 712,
    "start_time": "2022-12-25T14:05:50.736Z"
   },
   {
    "duration": 95,
    "start_time": "2022-12-25T14:05:51.450Z"
   },
   {
    "duration": 102,
    "start_time": "2022-12-25T14:05:51.547Z"
   },
   {
    "duration": 27,
    "start_time": "2022-12-25T14:05:51.651Z"
   },
   {
    "duration": 2328,
    "start_time": "2022-12-25T14:05:51.680Z"
   },
   {
    "duration": 13,
    "start_time": "2022-12-25T14:05:54.011Z"
   },
   {
    "duration": 18,
    "start_time": "2022-12-25T14:05:54.027Z"
   },
   {
    "duration": 22,
    "start_time": "2022-12-25T14:05:54.047Z"
   },
   {
    "duration": 37,
    "start_time": "2022-12-25T14:05:54.072Z"
   },
   {
    "duration": 46,
    "start_time": "2022-12-25T14:05:54.113Z"
   },
   {
    "duration": 16,
    "start_time": "2022-12-25T14:05:54.162Z"
   },
   {
    "duration": 30,
    "start_time": "2022-12-25T14:05:54.181Z"
   },
   {
    "duration": 36,
    "start_time": "2022-12-25T14:05:54.214Z"
   },
   {
    "duration": 20,
    "start_time": "2022-12-25T14:05:54.252Z"
   },
   {
    "duration": 145,
    "start_time": "2022-12-25T14:05:54.274Z"
   },
   {
    "duration": 134,
    "start_time": "2022-12-25T14:05:54.421Z"
   },
   {
    "duration": 29,
    "start_time": "2022-12-25T14:05:54.556Z"
   },
   {
    "duration": 18,
    "start_time": "2022-12-25T14:05:54.587Z"
   },
   {
    "duration": 16,
    "start_time": "2022-12-25T14:05:54.607Z"
   },
   {
    "duration": 5,
    "start_time": "2022-12-25T14:05:54.625Z"
   },
   {
    "duration": 13,
    "start_time": "2022-12-25T14:05:54.632Z"
   },
   {
    "duration": 33,
    "start_time": "2022-12-25T14:05:54.648Z"
   },
   {
    "duration": 20,
    "start_time": "2022-12-25T14:05:54.683Z"
   },
   {
    "duration": 5,
    "start_time": "2022-12-25T14:05:54.705Z"
   },
   {
    "duration": 171,
    "start_time": "2022-12-25T14:05:54.712Z"
   },
   {
    "duration": 36,
    "start_time": "2022-12-25T14:05:54.886Z"
   },
   {
    "duration": 73,
    "start_time": "2022-12-25T14:05:54.924Z"
   },
   {
    "duration": 6,
    "start_time": "2022-12-25T14:05:55.002Z"
   },
   {
    "duration": 28,
    "start_time": "2022-12-25T14:05:55.010Z"
   },
   {
    "duration": 11,
    "start_time": "2022-12-25T14:05:55.039Z"
   },
   {
    "duration": 203,
    "start_time": "2022-12-25T14:05:55.052Z"
   },
   {
    "duration": 29,
    "start_time": "2022-12-25T14:05:55.257Z"
   },
   {
    "duration": 15,
    "start_time": "2022-12-25T14:05:55.287Z"
   },
   {
    "duration": 13,
    "start_time": "2022-12-25T14:05:55.304Z"
   },
   {
    "duration": 22,
    "start_time": "2022-12-25T14:05:55.319Z"
   },
   {
    "duration": 7,
    "start_time": "2022-12-25T14:05:55.342Z"
   },
   {
    "duration": 154,
    "start_time": "2022-12-25T14:05:55.350Z"
   },
   {
    "duration": 191,
    "start_time": "2022-12-25T14:05:55.506Z"
   },
   {
    "duration": 24,
    "start_time": "2022-12-25T14:05:55.698Z"
   },
   {
    "duration": 12,
    "start_time": "2022-12-25T14:05:55.724Z"
   },
   {
    "duration": 33,
    "start_time": "2022-12-25T14:05:55.738Z"
   },
   {
    "duration": 231,
    "start_time": "2022-12-25T14:05:55.773Z"
   },
   {
    "duration": 210,
    "start_time": "2022-12-25T14:05:56.006Z"
   },
   {
    "duration": 61,
    "start_time": "2022-12-25T14:05:56.218Z"
   },
   {
    "duration": 18,
    "start_time": "2022-12-25T14:05:56.281Z"
   },
   {
    "duration": 9,
    "start_time": "2022-12-25T14:05:56.301Z"
   },
   {
    "duration": 38,
    "start_time": "2022-12-25T14:05:56.312Z"
   },
   {
    "duration": 34,
    "start_time": "2022-12-25T14:05:56.377Z"
   },
   {
    "duration": 71,
    "start_time": "2022-12-25T14:05:56.413Z"
   },
   {
    "duration": 8,
    "start_time": "2022-12-25T14:05:56.486Z"
   },
   {
    "duration": 18,
    "start_time": "2022-12-25T14:05:56.497Z"
   },
   {
    "duration": 62,
    "start_time": "2022-12-25T14:05:56.517Z"
   },
   {
    "duration": 6,
    "start_time": "2022-12-25T14:05:56.582Z"
   },
   {
    "duration": 16,
    "start_time": "2022-12-25T14:05:56.590Z"
   },
   {
    "duration": 10,
    "start_time": "2022-12-25T14:05:56.609Z"
   },
   {
    "duration": 9,
    "start_time": "2022-12-25T14:05:56.622Z"
   },
   {
    "duration": 9,
    "start_time": "2022-12-25T14:05:56.633Z"
   },
   {
    "duration": 43,
    "start_time": "2022-12-25T14:05:56.644Z"
   },
   {
    "duration": 14,
    "start_time": "2022-12-25T14:05:56.688Z"
   },
   {
    "duration": 14,
    "start_time": "2022-12-25T14:05:56.704Z"
   },
   {
    "duration": 59,
    "start_time": "2022-12-25T14:05:56.720Z"
   },
   {
    "duration": 29,
    "start_time": "2022-12-25T14:05:56.781Z"
   },
   {
    "duration": 28,
    "start_time": "2022-12-25T14:05:56.812Z"
   },
   {
    "duration": 57,
    "start_time": "2022-12-25T14:05:56.842Z"
   },
   {
    "duration": 365,
    "start_time": "2022-12-25T14:05:56.901Z"
   },
   {
    "duration": 10,
    "start_time": "2022-12-25T14:05:57.268Z"
   },
   {
    "duration": 40,
    "start_time": "2022-12-25T14:05:57.280Z"
   },
   {
    "duration": 306,
    "start_time": "2022-12-25T14:05:57.322Z"
   },
   {
    "duration": 10,
    "start_time": "2022-12-25T14:05:57.630Z"
   },
   {
    "duration": 266,
    "start_time": "2022-12-25T14:05:57.642Z"
   },
   {
    "duration": 13,
    "start_time": "2022-12-25T14:05:57.910Z"
   },
   {
    "duration": 309,
    "start_time": "2022-12-25T14:05:57.925Z"
   },
   {
    "duration": 7,
    "start_time": "2022-12-25T14:10:13.165Z"
   },
   {
    "duration": 14,
    "start_time": "2022-12-25T14:10:25.643Z"
   },
   {
    "duration": 15,
    "start_time": "2022-12-25T14:10:30.679Z"
   },
   {
    "duration": 12,
    "start_time": "2022-12-25T14:10:43.363Z"
   },
   {
    "duration": 91,
    "start_time": "2022-12-25T14:10:50.844Z"
   },
   {
    "duration": 15,
    "start_time": "2022-12-25T14:14:29.336Z"
   },
   {
    "duration": 65,
    "start_time": "2022-12-25T14:14:44.599Z"
   },
   {
    "duration": 11,
    "start_time": "2022-12-25T14:14:48.604Z"
   },
   {
    "duration": 10,
    "start_time": "2022-12-25T14:15:57.094Z"
   },
   {
    "duration": 655,
    "start_time": "2022-12-25T14:25:07.562Z"
   },
   {
    "duration": 83,
    "start_time": "2022-12-25T14:25:08.219Z"
   },
   {
    "duration": 90,
    "start_time": "2022-12-25T14:25:08.304Z"
   },
   {
    "duration": 14,
    "start_time": "2022-12-25T14:25:08.396Z"
   },
   {
    "duration": 1912,
    "start_time": "2022-12-25T14:25:08.412Z"
   },
   {
    "duration": 10,
    "start_time": "2022-12-25T14:25:10.325Z"
   },
   {
    "duration": 14,
    "start_time": "2022-12-25T14:25:10.336Z"
   },
   {
    "duration": 10,
    "start_time": "2022-12-25T14:25:10.351Z"
   },
   {
    "duration": 7,
    "start_time": "2022-12-25T14:25:10.363Z"
   },
   {
    "duration": 5,
    "start_time": "2022-12-25T14:25:10.379Z"
   },
   {
    "duration": 11,
    "start_time": "2022-12-25T14:25:10.386Z"
   },
   {
    "duration": 10,
    "start_time": "2022-12-25T14:25:10.399Z"
   },
   {
    "duration": 95,
    "start_time": "2022-12-25T14:25:10.410Z"
   },
   {
    "duration": 0,
    "start_time": "2022-12-25T14:25:10.508Z"
   },
   {
    "duration": 0,
    "start_time": "2022-12-25T14:25:10.509Z"
   },
   {
    "duration": 0,
    "start_time": "2022-12-25T14:25:10.510Z"
   },
   {
    "duration": 0,
    "start_time": "2022-12-25T14:25:10.512Z"
   },
   {
    "duration": 0,
    "start_time": "2022-12-25T14:25:10.513Z"
   },
   {
    "duration": 0,
    "start_time": "2022-12-25T14:25:10.514Z"
   },
   {
    "duration": 0,
    "start_time": "2022-12-25T14:25:10.516Z"
   },
   {
    "duration": 0,
    "start_time": "2022-12-25T14:25:10.517Z"
   },
   {
    "duration": 0,
    "start_time": "2022-12-25T14:25:10.519Z"
   },
   {
    "duration": 0,
    "start_time": "2022-12-25T14:25:10.520Z"
   },
   {
    "duration": 0,
    "start_time": "2022-12-25T14:25:10.521Z"
   },
   {
    "duration": 0,
    "start_time": "2022-12-25T14:25:10.523Z"
   },
   {
    "duration": 0,
    "start_time": "2022-12-25T14:25:10.524Z"
   },
   {
    "duration": 0,
    "start_time": "2022-12-25T14:25:10.525Z"
   },
   {
    "duration": 0,
    "start_time": "2022-12-25T14:25:10.526Z"
   },
   {
    "duration": 0,
    "start_time": "2022-12-25T14:25:10.527Z"
   },
   {
    "duration": 0,
    "start_time": "2022-12-25T14:25:10.528Z"
   },
   {
    "duration": 0,
    "start_time": "2022-12-25T14:25:10.530Z"
   },
   {
    "duration": 0,
    "start_time": "2022-12-25T14:25:10.531Z"
   },
   {
    "duration": 0,
    "start_time": "2022-12-25T14:25:10.532Z"
   },
   {
    "duration": 0,
    "start_time": "2022-12-25T14:25:10.533Z"
   },
   {
    "duration": 0,
    "start_time": "2022-12-25T14:25:10.534Z"
   },
   {
    "duration": 0,
    "start_time": "2022-12-25T14:25:10.535Z"
   },
   {
    "duration": 0,
    "start_time": "2022-12-25T14:25:10.536Z"
   },
   {
    "duration": 0,
    "start_time": "2022-12-25T14:25:10.537Z"
   },
   {
    "duration": 0,
    "start_time": "2022-12-25T14:25:10.538Z"
   },
   {
    "duration": 0,
    "start_time": "2022-12-25T14:25:10.578Z"
   },
   {
    "duration": 0,
    "start_time": "2022-12-25T14:25:10.579Z"
   },
   {
    "duration": 0,
    "start_time": "2022-12-25T14:25:10.580Z"
   },
   {
    "duration": 0,
    "start_time": "2022-12-25T14:25:10.581Z"
   },
   {
    "duration": 0,
    "start_time": "2022-12-25T14:25:10.581Z"
   },
   {
    "duration": 0,
    "start_time": "2022-12-25T14:25:10.582Z"
   },
   {
    "duration": 0,
    "start_time": "2022-12-25T14:25:10.584Z"
   },
   {
    "duration": 0,
    "start_time": "2022-12-25T14:25:10.585Z"
   },
   {
    "duration": 0,
    "start_time": "2022-12-25T14:25:10.586Z"
   },
   {
    "duration": 0,
    "start_time": "2022-12-25T14:25:10.588Z"
   },
   {
    "duration": 0,
    "start_time": "2022-12-25T14:25:10.589Z"
   },
   {
    "duration": 0,
    "start_time": "2022-12-25T14:25:10.590Z"
   },
   {
    "duration": 0,
    "start_time": "2022-12-25T14:25:10.592Z"
   },
   {
    "duration": 0,
    "start_time": "2022-12-25T14:25:10.593Z"
   },
   {
    "duration": 0,
    "start_time": "2022-12-25T14:25:10.594Z"
   },
   {
    "duration": 0,
    "start_time": "2022-12-25T14:25:10.596Z"
   },
   {
    "duration": 0,
    "start_time": "2022-12-25T14:25:10.597Z"
   },
   {
    "duration": 0,
    "start_time": "2022-12-25T14:25:10.598Z"
   },
   {
    "duration": 0,
    "start_time": "2022-12-25T14:25:10.600Z"
   },
   {
    "duration": 0,
    "start_time": "2022-12-25T14:25:10.601Z"
   },
   {
    "duration": 0,
    "start_time": "2022-12-25T14:25:10.602Z"
   },
   {
    "duration": 0,
    "start_time": "2022-12-25T14:25:10.603Z"
   },
   {
    "duration": 0,
    "start_time": "2022-12-25T14:25:10.605Z"
   },
   {
    "duration": 0,
    "start_time": "2022-12-25T14:25:10.606Z"
   },
   {
    "duration": 0,
    "start_time": "2022-12-25T14:25:10.607Z"
   },
   {
    "duration": 0,
    "start_time": "2022-12-25T14:25:10.608Z"
   },
   {
    "duration": 0,
    "start_time": "2022-12-25T14:25:10.609Z"
   },
   {
    "duration": 0,
    "start_time": "2022-12-25T14:25:10.611Z"
   },
   {
    "duration": 0,
    "start_time": "2022-12-25T14:25:10.612Z"
   },
   {
    "duration": 0,
    "start_time": "2022-12-25T14:25:10.613Z"
   },
   {
    "duration": 0,
    "start_time": "2022-12-25T14:25:10.614Z"
   },
   {
    "duration": 0,
    "start_time": "2022-12-25T14:25:10.678Z"
   },
   {
    "duration": 0,
    "start_time": "2022-12-25T14:25:10.679Z"
   },
   {
    "duration": 0,
    "start_time": "2022-12-25T14:25:10.680Z"
   },
   {
    "duration": 0,
    "start_time": "2022-12-25T14:25:10.681Z"
   },
   {
    "duration": 10,
    "start_time": "2022-12-25T14:25:47.678Z"
   },
   {
    "duration": 719,
    "start_time": "2022-12-25T14:28:03.536Z"
   },
   {
    "duration": 106,
    "start_time": "2022-12-25T14:28:04.257Z"
   },
   {
    "duration": 97,
    "start_time": "2022-12-25T14:28:04.365Z"
   },
   {
    "duration": 22,
    "start_time": "2022-12-25T14:28:04.464Z"
   },
   {
    "duration": 2016,
    "start_time": "2022-12-25T14:28:04.488Z"
   },
   {
    "duration": 10,
    "start_time": "2022-12-25T14:28:06.507Z"
   },
   {
    "duration": 16,
    "start_time": "2022-12-25T14:28:06.519Z"
   },
   {
    "duration": 11,
    "start_time": "2022-12-25T14:28:06.537Z"
   },
   {
    "duration": 7,
    "start_time": "2022-12-25T14:28:06.550Z"
   },
   {
    "duration": 7,
    "start_time": "2022-12-25T14:28:06.577Z"
   },
   {
    "duration": 17,
    "start_time": "2022-12-25T14:28:06.586Z"
   },
   {
    "duration": 7,
    "start_time": "2022-12-25T14:28:06.605Z"
   },
   {
    "duration": 27,
    "start_time": "2022-12-25T14:28:06.613Z"
   },
   {
    "duration": 28,
    "start_time": "2022-12-25T14:28:06.642Z"
   },
   {
    "duration": 19,
    "start_time": "2022-12-25T14:28:06.678Z"
   },
   {
    "duration": 158,
    "start_time": "2022-12-25T14:28:06.700Z"
   },
   {
    "duration": 157,
    "start_time": "2022-12-25T14:28:06.860Z"
   },
   {
    "duration": 18,
    "start_time": "2022-12-25T14:28:07.019Z"
   },
   {
    "duration": 38,
    "start_time": "2022-12-25T14:28:07.039Z"
   },
   {
    "duration": 47,
    "start_time": "2022-12-25T14:28:07.078Z"
   },
   {
    "duration": 15,
    "start_time": "2022-12-25T14:28:07.127Z"
   },
   {
    "duration": 30,
    "start_time": "2022-12-25T14:28:07.144Z"
   },
   {
    "duration": 26,
    "start_time": "2022-12-25T14:28:07.176Z"
   },
   {
    "duration": 58,
    "start_time": "2022-12-25T14:28:07.204Z"
   },
   {
    "duration": 9,
    "start_time": "2022-12-25T14:28:07.264Z"
   },
   {
    "duration": 162,
    "start_time": "2022-12-25T14:28:07.275Z"
   },
   {
    "duration": 22,
    "start_time": "2022-12-25T14:28:07.438Z"
   },
   {
    "duration": 58,
    "start_time": "2022-12-25T14:28:07.464Z"
   },
   {
    "duration": 5,
    "start_time": "2022-12-25T14:28:07.523Z"
   },
   {
    "duration": 58,
    "start_time": "2022-12-25T14:28:07.530Z"
   },
   {
    "duration": 25,
    "start_time": "2022-12-25T14:28:07.590Z"
   },
   {
    "duration": 152,
    "start_time": "2022-12-25T14:28:07.617Z"
   },
   {
    "duration": 28,
    "start_time": "2022-12-25T14:28:07.771Z"
   },
   {
    "duration": 50,
    "start_time": "2022-12-25T14:28:07.802Z"
   },
   {
    "duration": 26,
    "start_time": "2022-12-25T14:28:07.855Z"
   },
   {
    "duration": 39,
    "start_time": "2022-12-25T14:28:07.883Z"
   },
   {
    "duration": 9,
    "start_time": "2022-12-25T14:28:07.924Z"
   },
   {
    "duration": 182,
    "start_time": "2022-12-25T14:28:07.935Z"
   },
   {
    "duration": 163,
    "start_time": "2022-12-25T14:28:08.119Z"
   },
   {
    "duration": 25,
    "start_time": "2022-12-25T14:28:08.284Z"
   },
   {
    "duration": 15,
    "start_time": "2022-12-25T14:28:08.311Z"
   },
   {
    "duration": 49,
    "start_time": "2022-12-25T14:28:08.329Z"
   },
   {
    "duration": 221,
    "start_time": "2022-12-25T14:28:08.379Z"
   },
   {
    "duration": 153,
    "start_time": "2022-12-25T14:28:08.602Z"
   },
   {
    "duration": 22,
    "start_time": "2022-12-25T14:28:08.757Z"
   },
   {
    "duration": 69,
    "start_time": "2022-12-25T14:28:08.781Z"
   },
   {
    "duration": 17,
    "start_time": "2022-12-25T14:28:08.852Z"
   },
   {
    "duration": 53,
    "start_time": "2022-12-25T14:28:08.871Z"
   },
   {
    "duration": 36,
    "start_time": "2022-12-25T14:28:08.926Z"
   },
   {
    "duration": 30,
    "start_time": "2022-12-25T14:28:08.964Z"
   },
   {
    "duration": 33,
    "start_time": "2022-12-25T14:28:08.995Z"
   },
   {
    "duration": 56,
    "start_time": "2022-12-25T14:28:09.029Z"
   },
   {
    "duration": 69,
    "start_time": "2022-12-25T14:28:09.087Z"
   },
   {
    "duration": 37,
    "start_time": "2022-12-25T14:28:09.158Z"
   },
   {
    "duration": 51,
    "start_time": "2022-12-25T14:28:09.197Z"
   },
   {
    "duration": 28,
    "start_time": "2022-12-25T14:28:09.250Z"
   },
   {
    "duration": 74,
    "start_time": "2022-12-25T14:28:09.280Z"
   },
   {
    "duration": 46,
    "start_time": "2022-12-25T14:28:09.355Z"
   },
   {
    "duration": 51,
    "start_time": "2022-12-25T14:28:09.403Z"
   },
   {
    "duration": 50,
    "start_time": "2022-12-25T14:28:09.456Z"
   },
   {
    "duration": 44,
    "start_time": "2022-12-25T14:28:09.508Z"
   },
   {
    "duration": 59,
    "start_time": "2022-12-25T14:28:09.554Z"
   },
   {
    "duration": 54,
    "start_time": "2022-12-25T14:28:09.614Z"
   },
   {
    "duration": 58,
    "start_time": "2022-12-25T14:28:09.669Z"
   },
   {
    "duration": 26,
    "start_time": "2022-12-25T14:28:09.729Z"
   },
   {
    "duration": 341,
    "start_time": "2022-12-25T14:28:09.756Z"
   },
   {
    "duration": 6,
    "start_time": "2022-12-25T14:28:10.099Z"
   },
   {
    "duration": 86,
    "start_time": "2022-12-25T14:28:10.106Z"
   },
   {
    "duration": 269,
    "start_time": "2022-12-25T14:28:10.194Z"
   },
   {
    "duration": 17,
    "start_time": "2022-12-25T14:28:10.465Z"
   },
   {
    "duration": 263,
    "start_time": "2022-12-25T14:28:10.484Z"
   },
   {
    "duration": 9,
    "start_time": "2022-12-25T14:28:10.749Z"
   },
   {
    "duration": 278,
    "start_time": "2022-12-25T14:28:10.760Z"
   },
   {
    "duration": 95,
    "start_time": "2022-12-25T14:37:04.401Z"
   },
   {
    "duration": 48,
    "start_time": "2022-12-25T14:37:13.407Z"
   },
   {
    "duration": 38,
    "start_time": "2022-12-25T14:37:28.296Z"
   },
   {
    "duration": 201,
    "start_time": "2022-12-25T14:37:35.100Z"
   },
   {
    "duration": 40,
    "start_time": "2022-12-25T14:37:50.417Z"
   },
   {
    "duration": 86,
    "start_time": "2022-12-25T14:38:04.744Z"
   },
   {
    "duration": 4,
    "start_time": "2022-12-25T14:42:41.121Z"
   },
   {
    "duration": 6,
    "start_time": "2022-12-25T14:42:49.705Z"
   },
   {
    "duration": 6,
    "start_time": "2022-12-25T14:43:38.729Z"
   },
   {
    "duration": 8,
    "start_time": "2022-12-25T14:44:21.610Z"
   },
   {
    "duration": 8,
    "start_time": "2022-12-25T14:45:59.162Z"
   },
   {
    "duration": 14,
    "start_time": "2022-12-25T14:46:14.554Z"
   },
   {
    "duration": 8,
    "start_time": "2022-12-25T14:48:16.467Z"
   },
   {
    "duration": 13,
    "start_time": "2022-12-25T14:48:30.116Z"
   },
   {
    "duration": 12,
    "start_time": "2022-12-25T14:49:44.397Z"
   },
   {
    "duration": 632,
    "start_time": "2022-12-25T14:50:25.227Z"
   },
   {
    "duration": 89,
    "start_time": "2022-12-25T14:50:25.861Z"
   },
   {
    "duration": 94,
    "start_time": "2022-12-25T14:50:25.952Z"
   },
   {
    "duration": 16,
    "start_time": "2022-12-25T14:50:26.048Z"
   },
   {
    "duration": 1970,
    "start_time": "2022-12-25T14:50:26.066Z"
   },
   {
    "duration": 12,
    "start_time": "2022-12-25T14:50:28.038Z"
   },
   {
    "duration": 21,
    "start_time": "2022-12-25T14:50:28.052Z"
   },
   {
    "duration": 29,
    "start_time": "2022-12-25T14:50:28.075Z"
   },
   {
    "duration": 7,
    "start_time": "2022-12-25T14:50:28.105Z"
   },
   {
    "duration": 10,
    "start_time": "2022-12-25T14:50:28.113Z"
   },
   {
    "duration": 8,
    "start_time": "2022-12-25T14:50:28.125Z"
   },
   {
    "duration": 13,
    "start_time": "2022-12-25T14:50:28.135Z"
   },
   {
    "duration": 6,
    "start_time": "2022-12-25T14:50:28.150Z"
   },
   {
    "duration": 7,
    "start_time": "2022-12-25T14:50:28.159Z"
   },
   {
    "duration": 32,
    "start_time": "2022-12-25T14:50:28.177Z"
   },
   {
    "duration": 22,
    "start_time": "2022-12-25T14:50:28.211Z"
   },
   {
    "duration": 28,
    "start_time": "2022-12-25T14:50:28.234Z"
   },
   {
    "duration": 24,
    "start_time": "2022-12-25T14:50:28.264Z"
   },
   {
    "duration": 138,
    "start_time": "2022-12-25T14:50:28.292Z"
   },
   {
    "duration": 128,
    "start_time": "2022-12-25T14:50:28.431Z"
   },
   {
    "duration": 26,
    "start_time": "2022-12-25T14:50:28.560Z"
   },
   {
    "duration": 15,
    "start_time": "2022-12-25T14:50:28.587Z"
   },
   {
    "duration": 14,
    "start_time": "2022-12-25T14:50:28.604Z"
   },
   {
    "duration": 5,
    "start_time": "2022-12-25T14:50:28.619Z"
   },
   {
    "duration": 18,
    "start_time": "2022-12-25T14:50:28.625Z"
   },
   {
    "duration": 7,
    "start_time": "2022-12-25T14:50:28.644Z"
   },
   {
    "duration": 47,
    "start_time": "2022-12-25T14:50:28.653Z"
   },
   {
    "duration": 4,
    "start_time": "2022-12-25T14:50:28.702Z"
   },
   {
    "duration": 157,
    "start_time": "2022-12-25T14:50:28.708Z"
   },
   {
    "duration": 29,
    "start_time": "2022-12-25T14:50:28.867Z"
   },
   {
    "duration": 47,
    "start_time": "2022-12-25T14:50:28.897Z"
   },
   {
    "duration": 5,
    "start_time": "2022-12-25T14:50:28.947Z"
   },
   {
    "duration": 61,
    "start_time": "2022-12-25T14:50:28.953Z"
   },
   {
    "duration": 6,
    "start_time": "2022-12-25T14:50:29.016Z"
   },
   {
    "duration": 139,
    "start_time": "2022-12-25T14:50:29.023Z"
   },
   {
    "duration": 31,
    "start_time": "2022-12-25T14:50:29.163Z"
   },
   {
    "duration": 14,
    "start_time": "2022-12-25T14:50:29.196Z"
   },
   {
    "duration": 6,
    "start_time": "2022-12-25T14:50:29.212Z"
   },
   {
    "duration": 18,
    "start_time": "2022-12-25T14:50:29.219Z"
   },
   {
    "duration": 6,
    "start_time": "2022-12-25T14:50:29.239Z"
   },
   {
    "duration": 168,
    "start_time": "2022-12-25T14:50:29.250Z"
   },
   {
    "duration": 173,
    "start_time": "2022-12-25T14:50:29.420Z"
   },
   {
    "duration": 19,
    "start_time": "2022-12-25T14:50:29.595Z"
   },
   {
    "duration": 7,
    "start_time": "2022-12-25T14:50:29.615Z"
   },
   {
    "duration": 23,
    "start_time": "2022-12-25T14:50:29.624Z"
   },
   {
    "duration": 223,
    "start_time": "2022-12-25T14:50:29.649Z"
   },
   {
    "duration": 148,
    "start_time": "2022-12-25T14:50:29.874Z"
   },
   {
    "duration": 10,
    "start_time": "2022-12-25T14:50:30.024Z"
   },
   {
    "duration": 58,
    "start_time": "2022-12-25T14:50:30.035Z"
   },
   {
    "duration": 8,
    "start_time": "2022-12-25T14:50:30.095Z"
   },
   {
    "duration": 35,
    "start_time": "2022-12-25T14:50:30.104Z"
   },
   {
    "duration": 22,
    "start_time": "2022-12-25T14:50:30.141Z"
   },
   {
    "duration": 36,
    "start_time": "2022-12-25T14:50:30.164Z"
   },
   {
    "duration": 28,
    "start_time": "2022-12-25T14:50:30.202Z"
   },
   {
    "duration": 60,
    "start_time": "2022-12-25T14:50:30.232Z"
   },
   {
    "duration": 37,
    "start_time": "2022-12-25T14:50:30.293Z"
   },
   {
    "duration": 21,
    "start_time": "2022-12-25T14:50:30.332Z"
   },
   {
    "duration": 14,
    "start_time": "2022-12-25T14:50:30.355Z"
   },
   {
    "duration": 20,
    "start_time": "2022-12-25T14:50:30.371Z"
   },
   {
    "duration": 15,
    "start_time": "2022-12-25T14:50:30.393Z"
   },
   {
    "duration": 20,
    "start_time": "2022-12-25T14:50:30.410Z"
   },
   {
    "duration": 50,
    "start_time": "2022-12-25T14:50:30.432Z"
   },
   {
    "duration": 43,
    "start_time": "2022-12-25T14:50:30.484Z"
   },
   {
    "duration": 23,
    "start_time": "2022-12-25T14:50:30.529Z"
   },
   {
    "duration": 35,
    "start_time": "2022-12-25T14:50:30.554Z"
   },
   {
    "duration": 26,
    "start_time": "2022-12-25T14:50:30.591Z"
   },
   {
    "duration": 26,
    "start_time": "2022-12-25T14:50:30.619Z"
   },
   {
    "duration": 51,
    "start_time": "2022-12-25T14:50:30.647Z"
   },
   {
    "duration": 395,
    "start_time": "2022-12-25T14:50:30.700Z"
   },
   {
    "duration": 5,
    "start_time": "2022-12-25T14:50:31.097Z"
   },
   {
    "duration": 45,
    "start_time": "2022-12-25T14:50:31.104Z"
   },
   {
    "duration": 285,
    "start_time": "2022-12-25T14:50:31.151Z"
   },
   {
    "duration": 9,
    "start_time": "2022-12-25T14:50:31.438Z"
   },
   {
    "duration": 257,
    "start_time": "2022-12-25T14:50:31.449Z"
   },
   {
    "duration": 8,
    "start_time": "2022-12-25T14:50:31.707Z"
   },
   {
    "duration": 255,
    "start_time": "2022-12-25T14:50:31.717Z"
   },
   {
    "duration": 8,
    "start_time": "2022-12-25T15:02:04.020Z"
   },
   {
    "duration": 14,
    "start_time": "2022-12-25T15:02:20.047Z"
   },
   {
    "duration": 4,
    "start_time": "2022-12-25T15:02:40.093Z"
   },
   {
    "duration": 717,
    "start_time": "2022-12-25T15:03:25.372Z"
   },
   {
    "duration": 86,
    "start_time": "2022-12-25T15:03:26.092Z"
   },
   {
    "duration": 88,
    "start_time": "2022-12-25T15:03:26.188Z"
   },
   {
    "duration": 26,
    "start_time": "2022-12-25T15:03:26.277Z"
   },
   {
    "duration": 2143,
    "start_time": "2022-12-25T15:03:26.305Z"
   },
   {
    "duration": 11,
    "start_time": "2022-12-25T15:03:28.450Z"
   },
   {
    "duration": 55,
    "start_time": "2022-12-25T15:03:28.463Z"
   },
   {
    "duration": 67,
    "start_time": "2022-12-25T15:03:28.520Z"
   },
   {
    "duration": 19,
    "start_time": "2022-12-25T15:03:28.589Z"
   },
   {
    "duration": 51,
    "start_time": "2022-12-25T15:03:28.610Z"
   },
   {
    "duration": 38,
    "start_time": "2022-12-25T15:03:28.662Z"
   },
   {
    "duration": 39,
    "start_time": "2022-12-25T15:03:28.702Z"
   },
   {
    "duration": 48,
    "start_time": "2022-12-25T15:03:28.743Z"
   },
   {
    "duration": 53,
    "start_time": "2022-12-25T15:03:28.795Z"
   },
   {
    "duration": 70,
    "start_time": "2022-12-25T15:03:28.849Z"
   },
   {
    "duration": 16,
    "start_time": "2022-12-25T15:03:28.920Z"
   },
   {
    "duration": 12,
    "start_time": "2022-12-25T15:03:28.938Z"
   },
   {
    "duration": 23,
    "start_time": "2022-12-25T15:03:28.952Z"
   },
   {
    "duration": 26,
    "start_time": "2022-12-25T15:03:28.976Z"
   },
   {
    "duration": 147,
    "start_time": "2022-12-25T15:03:29.004Z"
   },
   {
    "duration": 117,
    "start_time": "2022-12-25T15:03:29.152Z"
   },
   {
    "duration": 33,
    "start_time": "2022-12-25T15:03:29.271Z"
   },
   {
    "duration": 14,
    "start_time": "2022-12-25T15:03:29.306Z"
   },
   {
    "duration": 12,
    "start_time": "2022-12-25T15:03:29.322Z"
   },
   {
    "duration": 5,
    "start_time": "2022-12-25T15:03:29.335Z"
   },
   {
    "duration": 11,
    "start_time": "2022-12-25T15:03:29.341Z"
   },
   {
    "duration": 46,
    "start_time": "2022-12-25T15:03:29.353Z"
   },
   {
    "duration": 18,
    "start_time": "2022-12-25T15:03:29.406Z"
   },
   {
    "duration": 4,
    "start_time": "2022-12-25T15:03:29.426Z"
   },
   {
    "duration": 170,
    "start_time": "2022-12-25T15:03:29.431Z"
   },
   {
    "duration": 23,
    "start_time": "2022-12-25T15:03:29.602Z"
   },
   {
    "duration": 63,
    "start_time": "2022-12-25T15:03:29.627Z"
   },
   {
    "duration": 5,
    "start_time": "2022-12-25T15:03:29.692Z"
   },
   {
    "duration": 32,
    "start_time": "2022-12-25T15:03:29.699Z"
   },
   {
    "duration": 7,
    "start_time": "2022-12-25T15:03:29.733Z"
   },
   {
    "duration": 133,
    "start_time": "2022-12-25T15:03:29.742Z"
   },
   {
    "duration": 26,
    "start_time": "2022-12-25T15:03:29.883Z"
   },
   {
    "duration": 10,
    "start_time": "2022-12-25T15:03:29.911Z"
   },
   {
    "duration": 10,
    "start_time": "2022-12-25T15:03:29.923Z"
   },
   {
    "duration": 27,
    "start_time": "2022-12-25T15:03:29.935Z"
   },
   {
    "duration": 7,
    "start_time": "2022-12-25T15:03:29.966Z"
   },
   {
    "duration": 145,
    "start_time": "2022-12-25T15:03:29.983Z"
   },
   {
    "duration": 171,
    "start_time": "2022-12-25T15:03:30.130Z"
   },
   {
    "duration": 19,
    "start_time": "2022-12-25T15:03:30.303Z"
   },
   {
    "duration": 10,
    "start_time": "2022-12-25T15:03:30.324Z"
   },
   {
    "duration": 18,
    "start_time": "2022-12-25T15:03:30.335Z"
   },
   {
    "duration": 246,
    "start_time": "2022-12-25T15:03:30.354Z"
   },
   {
    "duration": 153,
    "start_time": "2022-12-25T15:03:30.602Z"
   },
   {
    "duration": 10,
    "start_time": "2022-12-25T15:03:30.756Z"
   },
   {
    "duration": 55,
    "start_time": "2022-12-25T15:03:30.767Z"
   },
   {
    "duration": 7,
    "start_time": "2022-12-25T15:03:30.824Z"
   },
   {
    "duration": 58,
    "start_time": "2022-12-25T15:03:30.832Z"
   },
   {
    "duration": 24,
    "start_time": "2022-12-25T15:03:30.892Z"
   },
   {
    "duration": 35,
    "start_time": "2022-12-25T15:03:30.917Z"
   },
   {
    "duration": 18,
    "start_time": "2022-12-25T15:03:30.954Z"
   },
   {
    "duration": 63,
    "start_time": "2022-12-25T15:03:30.974Z"
   },
   {
    "duration": 51,
    "start_time": "2022-12-25T15:03:31.039Z"
   },
   {
    "duration": 31,
    "start_time": "2022-12-25T15:03:31.092Z"
   },
   {
    "duration": 44,
    "start_time": "2022-12-25T15:03:31.125Z"
   },
   {
    "duration": 34,
    "start_time": "2022-12-25T15:03:31.171Z"
   },
   {
    "duration": 9,
    "start_time": "2022-12-25T15:03:31.207Z"
   },
   {
    "duration": 12,
    "start_time": "2022-12-25T15:03:31.217Z"
   },
   {
    "duration": 11,
    "start_time": "2022-12-25T15:03:31.231Z"
   },
   {
    "duration": 14,
    "start_time": "2022-12-25T15:03:31.244Z"
   },
   {
    "duration": 28,
    "start_time": "2022-12-25T15:03:31.260Z"
   },
   {
    "duration": 31,
    "start_time": "2022-12-25T15:03:31.291Z"
   },
   {
    "duration": 29,
    "start_time": "2022-12-25T15:03:31.325Z"
   },
   {
    "duration": 50,
    "start_time": "2022-12-25T15:03:31.356Z"
   },
   {
    "duration": 28,
    "start_time": "2022-12-25T15:03:31.407Z"
   },
   {
    "duration": 390,
    "start_time": "2022-12-25T15:03:31.437Z"
   },
   {
    "duration": 4,
    "start_time": "2022-12-25T15:03:31.829Z"
   },
   {
    "duration": 13,
    "start_time": "2022-12-25T15:03:31.835Z"
   },
   {
    "duration": 261,
    "start_time": "2022-12-25T15:03:31.850Z"
   },
   {
    "duration": 8,
    "start_time": "2022-12-25T15:03:32.113Z"
   },
   {
    "duration": 249,
    "start_time": "2022-12-25T15:03:32.122Z"
   },
   {
    "duration": 19,
    "start_time": "2022-12-25T15:03:32.372Z"
   },
   {
    "duration": 265,
    "start_time": "2022-12-25T15:03:32.393Z"
   },
   {
    "duration": 9,
    "start_time": "2022-12-25T15:05:04.521Z"
   },
   {
    "duration": 27,
    "start_time": "2022-12-25T15:08:14.079Z"
   },
   {
    "duration": 382,
    "start_time": "2022-12-25T15:10:52.869Z"
   },
   {
    "duration": 179,
    "start_time": "2022-12-25T15:11:00.677Z"
   },
   {
    "duration": 9,
    "start_time": "2022-12-25T15:12:32.462Z"
   },
   {
    "duration": 147,
    "start_time": "2022-12-25T15:13:55.399Z"
   },
   {
    "duration": 157,
    "start_time": "2022-12-25T15:14:00.902Z"
   },
   {
    "duration": 10,
    "start_time": "2022-12-25T15:14:54.301Z"
   },
   {
    "duration": 166,
    "start_time": "2022-12-25T15:16:08.164Z"
   },
   {
    "duration": 181,
    "start_time": "2022-12-25T15:16:15.612Z"
   },
   {
    "duration": 149,
    "start_time": "2022-12-25T15:16:25.471Z"
   },
   {
    "duration": 120,
    "start_time": "2022-12-25T15:16:40.731Z"
   },
   {
    "duration": 7,
    "start_time": "2022-12-25T15:18:17.073Z"
   },
   {
    "duration": 10,
    "start_time": "2022-12-25T15:20:20.909Z"
   },
   {
    "duration": 129,
    "start_time": "2022-12-25T15:21:41.687Z"
   },
   {
    "duration": 111,
    "start_time": "2022-12-25T15:22:59.810Z"
   },
   {
    "duration": 243,
    "start_time": "2022-12-25T15:23:18.386Z"
   },
   {
    "duration": 161,
    "start_time": "2022-12-25T15:24:12.250Z"
   },
   {
    "duration": 159,
    "start_time": "2022-12-25T15:24:26.221Z"
   },
   {
    "duration": 1285,
    "start_time": "2022-12-25T15:25:42.820Z"
   },
   {
    "duration": 11,
    "start_time": "2022-12-25T15:26:13.227Z"
   },
   {
    "duration": 319,
    "start_time": "2022-12-25T15:28:07.668Z"
   },
   {
    "duration": 171,
    "start_time": "2022-12-25T15:28:38.590Z"
   },
   {
    "duration": 266,
    "start_time": "2022-12-25T15:28:50.581Z"
   },
   {
    "duration": 21,
    "start_time": "2022-12-25T15:29:53.590Z"
   },
   {
    "duration": 173,
    "start_time": "2022-12-25T15:31:39.086Z"
   },
   {
    "duration": 12,
    "start_time": "2022-12-25T15:39:41.490Z"
   },
   {
    "duration": 208,
    "start_time": "2022-12-25T15:41:06.259Z"
   },
   {
    "duration": 173,
    "start_time": "2022-12-25T15:41:58.440Z"
   },
   {
    "duration": 10,
    "start_time": "2022-12-25T15:44:42.273Z"
   },
   {
    "duration": 233,
    "start_time": "2022-12-25T15:45:25.163Z"
   },
   {
    "duration": 192,
    "start_time": "2022-12-25T15:45:30.970Z"
   },
   {
    "duration": 230,
    "start_time": "2022-12-25T15:46:01.757Z"
   },
   {
    "duration": 198,
    "start_time": "2022-12-25T15:46:08.850Z"
   },
   {
    "duration": 217,
    "start_time": "2022-12-25T15:46:14.691Z"
   },
   {
    "duration": 6,
    "start_time": "2022-12-25T15:47:37.897Z"
   },
   {
    "duration": 7,
    "start_time": "2022-12-25T15:48:57.107Z"
   },
   {
    "duration": 145,
    "start_time": "2022-12-25T15:50:54.245Z"
   },
   {
    "duration": 134,
    "start_time": "2022-12-25T15:51:04.429Z"
   },
   {
    "duration": 176,
    "start_time": "2022-12-25T15:51:20.997Z"
   },
   {
    "duration": 10,
    "start_time": "2022-12-25T15:55:16.893Z"
   },
   {
    "duration": 158,
    "start_time": "2022-12-25T15:58:15.237Z"
   },
   {
    "duration": 187,
    "start_time": "2022-12-25T15:59:53.376Z"
   },
   {
    "duration": 180,
    "start_time": "2022-12-25T15:59:59.064Z"
   },
   {
    "duration": 398,
    "start_time": "2022-12-25T16:00:04.027Z"
   },
   {
    "duration": 212,
    "start_time": "2022-12-25T16:00:25.487Z"
   },
   {
    "duration": 179,
    "start_time": "2022-12-25T16:00:34.417Z"
   },
   {
    "duration": 203,
    "start_time": "2022-12-25T16:04:05.800Z"
   },
   {
    "duration": 197,
    "start_time": "2022-12-25T16:04:15.372Z"
   },
   {
    "duration": 187,
    "start_time": "2022-12-25T16:04:40.925Z"
   },
   {
    "duration": 265,
    "start_time": "2022-12-25T16:05:02.890Z"
   },
   {
    "duration": 264,
    "start_time": "2022-12-25T16:05:56.629Z"
   },
   {
    "duration": 257,
    "start_time": "2022-12-25T16:06:25.556Z"
   },
   {
    "duration": 298,
    "start_time": "2022-12-25T16:06:30.783Z"
   },
   {
    "duration": 432,
    "start_time": "2022-12-25T16:06:39.996Z"
   },
   {
    "duration": 5,
    "start_time": "2022-12-25T16:07:13.608Z"
   },
   {
    "duration": 6,
    "start_time": "2022-12-25T16:07:49.957Z"
   },
   {
    "duration": 5,
    "start_time": "2022-12-25T16:08:22.958Z"
   },
   {
    "duration": 14,
    "start_time": "2022-12-25T16:09:02.958Z"
   },
   {
    "duration": 10,
    "start_time": "2022-12-25T16:09:09.858Z"
   },
   {
    "duration": 6,
    "start_time": "2022-12-25T16:09:25.035Z"
   },
   {
    "duration": 194,
    "start_time": "2022-12-25T16:15:30.529Z"
   },
   {
    "duration": 171,
    "start_time": "2022-12-25T16:16:01.403Z"
   },
   {
    "duration": 197,
    "start_time": "2022-12-25T16:21:18.310Z"
   },
   {
    "duration": 199,
    "start_time": "2022-12-25T16:21:26.496Z"
   },
   {
    "duration": 250,
    "start_time": "2022-12-25T16:21:34.796Z"
   },
   {
    "duration": 236,
    "start_time": "2022-12-25T16:21:56.272Z"
   },
   {
    "duration": 234,
    "start_time": "2022-12-25T16:22:02.368Z"
   },
   {
    "duration": 229,
    "start_time": "2022-12-25T16:22:08.983Z"
   },
   {
    "duration": 288,
    "start_time": "2022-12-25T16:22:19.260Z"
   },
   {
    "duration": 262,
    "start_time": "2022-12-25T16:22:28.090Z"
   },
   {
    "duration": 12,
    "start_time": "2022-12-25T16:23:25.728Z"
   },
   {
    "duration": 6,
    "start_time": "2022-12-25T16:23:36.190Z"
   },
   {
    "duration": 5,
    "start_time": "2022-12-25T16:23:38.452Z"
   },
   {
    "duration": 12,
    "start_time": "2022-12-25T16:25:57.810Z"
   },
   {
    "duration": 375,
    "start_time": "2022-12-25T16:30:05.538Z"
   },
   {
    "duration": 831,
    "start_time": "2022-12-26T09:55:58.312Z"
   },
   {
    "duration": 327,
    "start_time": "2022-12-26T09:55:59.145Z"
   },
   {
    "duration": 105,
    "start_time": "2022-12-26T09:55:59.474Z"
   },
   {
    "duration": 29,
    "start_time": "2022-12-26T09:55:59.581Z"
   },
   {
    "duration": 1806,
    "start_time": "2022-12-26T09:55:59.612Z"
   },
   {
    "duration": 11,
    "start_time": "2022-12-26T09:56:01.420Z"
   },
   {
    "duration": 12,
    "start_time": "2022-12-26T09:56:01.432Z"
   },
   {
    "duration": 15,
    "start_time": "2022-12-26T09:56:01.446Z"
   },
   {
    "duration": 8,
    "start_time": "2022-12-26T09:56:01.462Z"
   },
   {
    "duration": 8,
    "start_time": "2022-12-26T09:56:01.473Z"
   },
   {
    "duration": 28,
    "start_time": "2022-12-26T09:56:01.483Z"
   },
   {
    "duration": 7,
    "start_time": "2022-12-26T09:56:01.512Z"
   },
   {
    "duration": 21,
    "start_time": "2022-12-26T09:56:01.520Z"
   },
   {
    "duration": 27,
    "start_time": "2022-12-26T09:56:01.543Z"
   },
   {
    "duration": 33,
    "start_time": "2022-12-26T09:56:01.572Z"
   },
   {
    "duration": 20,
    "start_time": "2022-12-26T09:56:01.608Z"
   },
   {
    "duration": 29,
    "start_time": "2022-12-26T09:56:01.630Z"
   },
   {
    "duration": 67,
    "start_time": "2022-12-26T09:56:01.661Z"
   },
   {
    "duration": 18,
    "start_time": "2022-12-26T09:56:01.730Z"
   },
   {
    "duration": 123,
    "start_time": "2022-12-26T09:56:01.750Z"
   },
   {
    "duration": 134,
    "start_time": "2022-12-26T09:56:01.875Z"
   },
   {
    "duration": 18,
    "start_time": "2022-12-26T09:56:02.011Z"
   },
   {
    "duration": 13,
    "start_time": "2022-12-26T09:56:02.030Z"
   },
   {
    "duration": 14,
    "start_time": "2022-12-26T09:56:02.044Z"
   },
   {
    "duration": 27,
    "start_time": "2022-12-26T09:56:02.060Z"
   },
   {
    "duration": 29,
    "start_time": "2022-12-26T09:56:02.088Z"
   },
   {
    "duration": 15,
    "start_time": "2022-12-26T09:56:02.119Z"
   },
   {
    "duration": 20,
    "start_time": "2022-12-26T09:56:02.138Z"
   },
   {
    "duration": 4,
    "start_time": "2022-12-26T09:56:02.159Z"
   },
   {
    "duration": 160,
    "start_time": "2022-12-26T09:56:02.164Z"
   },
   {
    "duration": 21,
    "start_time": "2022-12-26T09:56:02.326Z"
   },
   {
    "duration": 56,
    "start_time": "2022-12-26T09:56:02.348Z"
   },
   {
    "duration": 17,
    "start_time": "2022-12-26T09:56:02.405Z"
   },
   {
    "duration": 28,
    "start_time": "2022-12-26T09:56:02.423Z"
   },
   {
    "duration": 5,
    "start_time": "2022-12-26T09:56:02.453Z"
   },
   {
    "duration": 22,
    "start_time": "2022-12-26T09:56:02.459Z"
   },
   {
    "duration": 138,
    "start_time": "2022-12-26T09:56:02.483Z"
   },
   {
    "duration": 21,
    "start_time": "2022-12-26T09:56:02.623Z"
   },
   {
    "duration": 12,
    "start_time": "2022-12-26T09:56:02.646Z"
   },
   {
    "duration": 5,
    "start_time": "2022-12-26T09:56:02.660Z"
   },
   {
    "duration": 20,
    "start_time": "2022-12-26T09:56:02.666Z"
   },
   {
    "duration": 13,
    "start_time": "2022-12-26T09:56:02.700Z"
   },
   {
    "duration": 120,
    "start_time": "2022-12-26T09:56:02.714Z"
   },
   {
    "duration": 158,
    "start_time": "2022-12-26T09:56:02.836Z"
   },
   {
    "duration": 29,
    "start_time": "2022-12-26T09:56:02.997Z"
   },
   {
    "duration": 6,
    "start_time": "2022-12-26T09:56:03.028Z"
   },
   {
    "duration": 16,
    "start_time": "2022-12-26T09:56:03.036Z"
   },
   {
    "duration": 203,
    "start_time": "2022-12-26T09:56:03.054Z"
   },
   {
    "duration": 128,
    "start_time": "2022-12-26T09:56:03.259Z"
   },
   {
    "duration": 22,
    "start_time": "2022-12-26T09:56:03.389Z"
   },
   {
    "duration": 24,
    "start_time": "2022-12-26T09:56:03.413Z"
   },
   {
    "duration": 6,
    "start_time": "2022-12-26T09:56:03.439Z"
   },
   {
    "duration": 34,
    "start_time": "2022-12-26T09:56:03.446Z"
   },
   {
    "duration": 27,
    "start_time": "2022-12-26T09:56:03.481Z"
   },
   {
    "duration": 19,
    "start_time": "2022-12-26T09:56:03.510Z"
   },
   {
    "duration": 7,
    "start_time": "2022-12-26T09:56:03.530Z"
   },
   {
    "duration": 7,
    "start_time": "2022-12-26T09:56:03.538Z"
   },
   {
    "duration": 19,
    "start_time": "2022-12-26T09:56:03.546Z"
   },
   {
    "duration": 5,
    "start_time": "2022-12-26T09:56:03.566Z"
   },
   {
    "duration": 25,
    "start_time": "2022-12-26T09:56:03.572Z"
   },
   {
    "duration": 8,
    "start_time": "2022-12-26T09:56:03.602Z"
   },
   {
    "duration": 21,
    "start_time": "2022-12-26T09:56:03.612Z"
   },
   {
    "duration": 6,
    "start_time": "2022-12-26T09:56:03.634Z"
   },
   {
    "duration": 6,
    "start_time": "2022-12-26T09:56:03.642Z"
   },
   {
    "duration": 24,
    "start_time": "2022-12-26T09:56:03.649Z"
   },
   {
    "duration": 44,
    "start_time": "2022-12-26T09:56:03.674Z"
   },
   {
    "duration": 24,
    "start_time": "2022-12-26T09:56:03.720Z"
   },
   {
    "duration": 23,
    "start_time": "2022-12-26T09:56:03.745Z"
   },
   {
    "duration": 41,
    "start_time": "2022-12-26T09:56:03.770Z"
   },
   {
    "duration": 23,
    "start_time": "2022-12-26T09:56:03.813Z"
   },
   {
    "duration": 329,
    "start_time": "2022-12-26T09:56:03.837Z"
   },
   {
    "duration": 4,
    "start_time": "2022-12-26T09:56:04.167Z"
   },
   {
    "duration": 16,
    "start_time": "2022-12-26T09:56:04.173Z"
   },
   {
    "duration": 226,
    "start_time": "2022-12-26T09:56:04.190Z"
   },
   {
    "duration": 9,
    "start_time": "2022-12-26T09:56:04.417Z"
   },
   {
    "duration": 285,
    "start_time": "2022-12-26T09:56:04.427Z"
   },
   {
    "duration": 13,
    "start_time": "2022-12-26T09:56:04.716Z"
   },
   {
    "duration": 302,
    "start_time": "2022-12-26T09:56:04.731Z"
   },
   {
    "duration": 9,
    "start_time": "2022-12-26T09:56:05.034Z"
   },
   {
    "duration": 12,
    "start_time": "2022-12-26T09:56:05.045Z"
   },
   {
    "duration": 31,
    "start_time": "2022-12-26T09:56:05.058Z"
   },
   {
    "duration": 19,
    "start_time": "2022-12-26T09:56:05.094Z"
   },
   {
    "duration": 9,
    "start_time": "2022-12-26T09:56:05.114Z"
   },
   {
    "duration": 307,
    "start_time": "2022-12-26T09:56:05.124Z"
   },
   {
    "duration": 8,
    "start_time": "2022-12-26T09:56:05.432Z"
   },
   {
    "duration": 149,
    "start_time": "2022-12-26T09:56:05.441Z"
   },
   {
    "duration": 18,
    "start_time": "2022-12-26T09:56:05.592Z"
   },
   {
    "duration": 156,
    "start_time": "2022-12-26T09:56:05.612Z"
   },
   {
    "duration": 7,
    "start_time": "2022-12-26T09:56:05.770Z"
   },
   {
    "duration": 166,
    "start_time": "2022-12-26T09:56:05.778Z"
   },
   {
    "duration": 7,
    "start_time": "2022-12-26T09:56:05.946Z"
   },
   {
    "duration": 128,
    "start_time": "2022-12-26T09:56:05.954Z"
   },
   {
    "duration": 28,
    "start_time": "2022-12-26T09:56:06.083Z"
   },
   {
    "duration": 117,
    "start_time": "2022-12-26T09:56:06.113Z"
   },
   {
    "duration": 9,
    "start_time": "2022-12-26T09:56:06.231Z"
   },
   {
    "duration": 170,
    "start_time": "2022-12-26T09:56:06.241Z"
   },
   {
    "duration": 9,
    "start_time": "2022-12-26T09:56:06.413Z"
   },
   {
    "duration": 143,
    "start_time": "2022-12-26T09:56:06.424Z"
   },
   {
    "duration": 9,
    "start_time": "2022-12-26T09:56:06.569Z"
   },
   {
    "duration": 153,
    "start_time": "2022-12-26T09:56:06.580Z"
   },
   {
    "duration": 9,
    "start_time": "2022-12-26T09:56:06.735Z"
   },
   {
    "duration": 10,
    "start_time": "2022-12-26T09:56:06.745Z"
   },
   {
    "duration": 173,
    "start_time": "2022-12-26T09:56:06.757Z"
   },
   {
    "duration": 6,
    "start_time": "2022-12-26T09:56:06.932Z"
   },
   {
    "duration": 155,
    "start_time": "2022-12-26T09:56:06.939Z"
   },
   {
    "duration": 360,
    "start_time": "2022-12-26T09:56:07.096Z"
   },
   {
    "duration": 4,
    "start_time": "2022-12-26T09:56:07.457Z"
   },
   {
    "duration": 6,
    "start_time": "2022-12-26T09:56:07.463Z"
   },
   {
    "duration": 30,
    "start_time": "2022-12-26T09:56:07.471Z"
   },
   {
    "duration": 70,
    "start_time": "2022-12-26T09:56:07.502Z"
   },
   {
    "duration": 0,
    "start_time": "2022-12-26T09:56:07.573Z"
   },
   {
    "duration": 0,
    "start_time": "2022-12-26T09:56:07.574Z"
   },
   {
    "duration": 4,
    "start_time": "2022-12-26T10:05:23.042Z"
   },
   {
    "duration": 244,
    "start_time": "2022-12-26T10:10:20.799Z"
   },
   {
    "duration": 220,
    "start_time": "2022-12-26T10:10:39.612Z"
   },
   {
    "duration": 244,
    "start_time": "2022-12-26T10:11:24.522Z"
   },
   {
    "duration": 8,
    "start_time": "2022-12-26T11:00:05.593Z"
   },
   {
    "duration": 5,
    "start_time": "2022-12-26T11:03:43.353Z"
   },
   {
    "duration": 4,
    "start_time": "2022-12-26T11:04:48.190Z"
   },
   {
    "duration": 6,
    "start_time": "2022-12-26T11:05:55.868Z"
   },
   {
    "duration": 5,
    "start_time": "2022-12-26T11:06:08.755Z"
   },
   {
    "duration": 420,
    "start_time": "2022-12-26T11:08:24.203Z"
   },
   {
    "duration": 761,
    "start_time": "2022-12-26T11:08:43.698Z"
   },
   {
    "duration": 19,
    "start_time": "2022-12-26T11:10:04.058Z"
   },
   {
    "duration": 20,
    "start_time": "2022-12-26T11:10:11.763Z"
   },
   {
    "duration": 263,
    "start_time": "2022-12-26T11:14:23.511Z"
   },
   {
    "duration": 204,
    "start_time": "2022-12-26T11:15:13.970Z"
   },
   {
    "duration": 117,
    "start_time": "2022-12-26T11:15:24.023Z"
   },
   {
    "duration": 203,
    "start_time": "2022-12-26T11:15:51.667Z"
   },
   {
    "duration": 223,
    "start_time": "2022-12-26T11:17:11.987Z"
   },
   {
    "duration": 29,
    "start_time": "2022-12-26T11:19:52.581Z"
   },
   {
    "duration": 20,
    "start_time": "2022-12-26T11:20:27.040Z"
   },
   {
    "duration": 14,
    "start_time": "2022-12-26T11:20:58.743Z"
   },
   {
    "duration": 157,
    "start_time": "2022-12-26T11:21:21.697Z"
   },
   {
    "duration": 135,
    "start_time": "2022-12-26T11:21:38.519Z"
   },
   {
    "duration": 138,
    "start_time": "2022-12-26T11:22:33.067Z"
   },
   {
    "duration": 5,
    "start_time": "2022-12-26T11:23:35.764Z"
   },
   {
    "duration": 15,
    "start_time": "2022-12-26T11:24:38.684Z"
   },
   {
    "duration": 164,
    "start_time": "2022-12-26T11:25:04.591Z"
   },
   {
    "duration": 123,
    "start_time": "2022-12-26T11:25:16.064Z"
   },
   {
    "duration": 10,
    "start_time": "2022-12-26T11:25:24.808Z"
   },
   {
    "duration": 225,
    "start_time": "2022-12-26T11:25:29.921Z"
   },
   {
    "duration": 122,
    "start_time": "2022-12-26T11:25:43.985Z"
   },
   {
    "duration": 112,
    "start_time": "2022-12-26T11:26:03.721Z"
   },
   {
    "duration": 119,
    "start_time": "2022-12-26T11:26:16.064Z"
   },
   {
    "duration": 13,
    "start_time": "2022-12-26T11:28:53.368Z"
   },
   {
    "duration": 4,
    "start_time": "2022-12-26T11:29:18.072Z"
   },
   {
    "duration": 129,
    "start_time": "2022-12-26T11:29:32.668Z"
   },
   {
    "duration": 15,
    "start_time": "2022-12-26T11:31:27.378Z"
   },
   {
    "duration": 20,
    "start_time": "2022-12-26T11:32:48.456Z"
   },
   {
    "duration": 143,
    "start_time": "2022-12-26T11:34:46.996Z"
   },
   {
    "duration": 224,
    "start_time": "2022-12-26T11:35:00.355Z"
   },
   {
    "duration": 20,
    "start_time": "2022-12-26T11:35:19.826Z"
   },
   {
    "duration": 132,
    "start_time": "2022-12-26T11:35:30.260Z"
   },
   {
    "duration": 15,
    "start_time": "2022-12-26T11:35:48.819Z"
   },
   {
    "duration": 120,
    "start_time": "2022-12-26T11:35:51.453Z"
   },
   {
    "duration": 8,
    "start_time": "2022-12-26T11:36:12.490Z"
   },
   {
    "duration": 8,
    "start_time": "2022-12-26T11:36:42.008Z"
   },
   {
    "duration": 13,
    "start_time": "2022-12-26T11:36:50.295Z"
   },
   {
    "duration": 15,
    "start_time": "2022-12-26T11:37:49.121Z"
   },
   {
    "duration": 78,
    "start_time": "2022-12-26T13:32:42.820Z"
   },
   {
    "duration": 1087,
    "start_time": "2022-12-26T13:32:49.061Z"
   },
   {
    "duration": 172,
    "start_time": "2022-12-26T13:32:50.151Z"
   },
   {
    "duration": 98,
    "start_time": "2022-12-26T13:32:50.325Z"
   },
   {
    "duration": 27,
    "start_time": "2022-12-26T13:32:50.427Z"
   },
   {
    "duration": 2208,
    "start_time": "2022-12-26T13:32:50.456Z"
   },
   {
    "duration": 10,
    "start_time": "2022-12-26T13:32:52.666Z"
   },
   {
    "duration": 29,
    "start_time": "2022-12-26T13:32:52.679Z"
   },
   {
    "duration": 43,
    "start_time": "2022-12-26T13:32:52.710Z"
   },
   {
    "duration": 36,
    "start_time": "2022-12-26T13:32:52.756Z"
   },
   {
    "duration": 36,
    "start_time": "2022-12-26T13:32:52.795Z"
   },
   {
    "duration": 35,
    "start_time": "2022-12-26T13:32:52.833Z"
   },
   {
    "duration": 30,
    "start_time": "2022-12-26T13:32:52.870Z"
   },
   {
    "duration": 18,
    "start_time": "2022-12-26T13:32:52.902Z"
   },
   {
    "duration": 43,
    "start_time": "2022-12-26T13:32:52.922Z"
   },
   {
    "duration": 51,
    "start_time": "2022-12-26T13:32:52.967Z"
   },
   {
    "duration": 27,
    "start_time": "2022-12-26T13:32:53.020Z"
   },
   {
    "duration": 27,
    "start_time": "2022-12-26T13:32:53.048Z"
   },
   {
    "duration": 44,
    "start_time": "2022-12-26T13:32:53.077Z"
   },
   {
    "duration": 33,
    "start_time": "2022-12-26T13:32:53.123Z"
   },
   {
    "duration": 161,
    "start_time": "2022-12-26T13:32:53.157Z"
   },
   {
    "duration": 145,
    "start_time": "2022-12-26T13:32:53.320Z"
   },
   {
    "duration": 18,
    "start_time": "2022-12-26T13:32:53.467Z"
   },
   {
    "duration": 47,
    "start_time": "2022-12-26T13:32:53.486Z"
   },
   {
    "duration": 15,
    "start_time": "2022-12-26T13:32:53.535Z"
   },
   {
    "duration": 20,
    "start_time": "2022-12-26T13:32:53.551Z"
   },
   {
    "duration": 15,
    "start_time": "2022-12-26T13:32:53.573Z"
   },
   {
    "duration": 15,
    "start_time": "2022-12-26T13:32:53.589Z"
   },
   {
    "duration": 30,
    "start_time": "2022-12-26T13:32:53.609Z"
   },
   {
    "duration": 5,
    "start_time": "2022-12-26T13:32:53.641Z"
   },
   {
    "duration": 264,
    "start_time": "2022-12-26T13:32:53.651Z"
   },
   {
    "duration": 172,
    "start_time": "2022-12-26T13:32:53.917Z"
   },
   {
    "duration": 28,
    "start_time": "2022-12-26T13:32:54.091Z"
   },
   {
    "duration": 74,
    "start_time": "2022-12-26T13:32:54.120Z"
   },
   {
    "duration": 7,
    "start_time": "2022-12-26T13:32:54.197Z"
   },
   {
    "duration": 48,
    "start_time": "2022-12-26T13:32:54.206Z"
   },
   {
    "duration": 16,
    "start_time": "2022-12-26T13:32:54.257Z"
   },
   {
    "duration": 26,
    "start_time": "2022-12-26T13:32:54.277Z"
   },
   {
    "duration": 156,
    "start_time": "2022-12-26T13:32:54.305Z"
   },
   {
    "duration": 36,
    "start_time": "2022-12-26T13:32:54.463Z"
   },
   {
    "duration": 11,
    "start_time": "2022-12-26T13:32:54.501Z"
   },
   {
    "duration": 12,
    "start_time": "2022-12-26T13:32:54.514Z"
   },
   {
    "duration": 56,
    "start_time": "2022-12-26T13:32:54.528Z"
   },
   {
    "duration": 10,
    "start_time": "2022-12-26T13:32:54.585Z"
   },
   {
    "duration": 230,
    "start_time": "2022-12-26T13:32:54.597Z"
   },
   {
    "duration": 178,
    "start_time": "2022-12-26T13:32:54.829Z"
   },
   {
    "duration": 22,
    "start_time": "2022-12-26T13:32:55.009Z"
   },
   {
    "duration": 22,
    "start_time": "2022-12-26T13:32:55.034Z"
   },
   {
    "duration": 27,
    "start_time": "2022-12-26T13:32:55.059Z"
   },
   {
    "duration": 165,
    "start_time": "2022-12-26T13:32:55.088Z"
   },
   {
    "duration": 154,
    "start_time": "2022-12-26T13:32:55.255Z"
   },
   {
    "duration": 9,
    "start_time": "2022-12-26T13:32:55.411Z"
   },
   {
    "duration": 38,
    "start_time": "2022-12-26T13:32:55.422Z"
   },
   {
    "duration": 8,
    "start_time": "2022-12-26T13:32:55.462Z"
   },
   {
    "duration": 34,
    "start_time": "2022-12-26T13:32:55.472Z"
   },
   {
    "duration": 55,
    "start_time": "2022-12-26T13:32:55.508Z"
   },
   {
    "duration": 31,
    "start_time": "2022-12-26T13:32:55.565Z"
   },
   {
    "duration": 8,
    "start_time": "2022-12-26T13:32:55.598Z"
   },
   {
    "duration": 19,
    "start_time": "2022-12-26T13:32:55.607Z"
   },
   {
    "duration": 39,
    "start_time": "2022-12-26T13:32:55.628Z"
   },
   {
    "duration": 17,
    "start_time": "2022-12-26T13:32:55.669Z"
   },
   {
    "duration": 21,
    "start_time": "2022-12-26T13:32:55.688Z"
   },
   {
    "duration": 18,
    "start_time": "2022-12-26T13:32:55.710Z"
   },
   {
    "duration": 13,
    "start_time": "2022-12-26T13:32:55.730Z"
   },
   {
    "duration": 17,
    "start_time": "2022-12-26T13:32:55.745Z"
   },
   {
    "duration": 12,
    "start_time": "2022-12-26T13:32:55.764Z"
   },
   {
    "duration": 19,
    "start_time": "2022-12-26T13:32:55.777Z"
   },
   {
    "duration": 20,
    "start_time": "2022-12-26T13:32:55.798Z"
   },
   {
    "duration": 45,
    "start_time": "2022-12-26T13:32:55.820Z"
   },
   {
    "duration": 30,
    "start_time": "2022-12-26T13:32:55.867Z"
   },
   {
    "duration": 51,
    "start_time": "2022-12-26T13:32:55.900Z"
   },
   {
    "duration": 29,
    "start_time": "2022-12-26T13:32:55.952Z"
   },
   {
    "duration": 379,
    "start_time": "2022-12-26T13:32:55.983Z"
   },
   {
    "duration": 5,
    "start_time": "2022-12-26T13:32:56.364Z"
   },
   {
    "duration": 25,
    "start_time": "2022-12-26T13:32:56.371Z"
   },
   {
    "duration": 293,
    "start_time": "2022-12-26T13:32:56.398Z"
   },
   {
    "duration": 11,
    "start_time": "2022-12-26T13:32:56.693Z"
   },
   {
    "duration": 276,
    "start_time": "2022-12-26T13:32:56.706Z"
   },
   {
    "duration": 9,
    "start_time": "2022-12-26T13:32:56.984Z"
   },
   {
    "duration": 391,
    "start_time": "2022-12-26T13:32:56.995Z"
   },
   {
    "duration": 10,
    "start_time": "2022-12-26T13:32:57.388Z"
   },
   {
    "duration": 10,
    "start_time": "2022-12-26T13:32:57.399Z"
   },
   {
    "duration": 17,
    "start_time": "2022-12-26T13:32:57.415Z"
   },
   {
    "duration": 20,
    "start_time": "2022-12-26T13:32:57.433Z"
   },
   {
    "duration": 6,
    "start_time": "2022-12-26T13:32:57.454Z"
   },
   {
    "duration": 298,
    "start_time": "2022-12-26T13:32:57.462Z"
   },
   {
    "duration": 8,
    "start_time": "2022-12-26T13:32:57.763Z"
   },
   {
    "duration": 194,
    "start_time": "2022-12-26T13:32:57.773Z"
   },
   {
    "duration": 12,
    "start_time": "2022-12-26T13:32:57.969Z"
   },
   {
    "duration": 186,
    "start_time": "2022-12-26T13:32:57.983Z"
   },
   {
    "duration": 12,
    "start_time": "2022-12-26T13:32:58.171Z"
   },
   {
    "duration": 204,
    "start_time": "2022-12-26T13:32:58.184Z"
   },
   {
    "duration": 11,
    "start_time": "2022-12-26T13:32:58.390Z"
   },
   {
    "duration": 172,
    "start_time": "2022-12-26T13:32:58.403Z"
   },
   {
    "duration": 12,
    "start_time": "2022-12-26T13:32:58.577Z"
   },
   {
    "duration": 225,
    "start_time": "2022-12-26T13:32:58.591Z"
   },
   {
    "duration": 10,
    "start_time": "2022-12-26T13:32:58.818Z"
   },
   {
    "duration": 214,
    "start_time": "2022-12-26T13:32:58.830Z"
   },
   {
    "duration": 13,
    "start_time": "2022-12-26T13:32:59.046Z"
   },
   {
    "duration": 197,
    "start_time": "2022-12-26T13:32:59.061Z"
   },
   {
    "duration": 10,
    "start_time": "2022-12-26T13:32:59.259Z"
   },
   {
    "duration": 164,
    "start_time": "2022-12-26T13:32:59.271Z"
   },
   {
    "duration": 17,
    "start_time": "2022-12-26T13:32:59.437Z"
   },
   {
    "duration": 6,
    "start_time": "2022-12-26T13:32:59.456Z"
   },
   {
    "duration": 338,
    "start_time": "2022-12-26T13:32:59.464Z"
   },
   {
    "duration": 8,
    "start_time": "2022-12-26T13:32:59.804Z"
   },
   {
    "duration": 215,
    "start_time": "2022-12-26T13:32:59.814Z"
   },
   {
    "duration": 306,
    "start_time": "2022-12-26T13:33:00.031Z"
   },
   {
    "duration": 13,
    "start_time": "2022-12-26T13:33:00.339Z"
   },
   {
    "duration": 8,
    "start_time": "2022-12-26T13:33:00.354Z"
   },
   {
    "duration": 12,
    "start_time": "2022-12-26T13:33:00.363Z"
   },
   {
    "duration": 21,
    "start_time": "2022-12-26T13:33:00.377Z"
   },
   {
    "duration": 14,
    "start_time": "2022-12-26T13:33:00.400Z"
   },
   {
    "duration": 11,
    "start_time": "2022-12-26T13:33:00.416Z"
   },
   {
    "duration": 12,
    "start_time": "2022-12-26T13:33:00.429Z"
   },
   {
    "duration": 13,
    "start_time": "2022-12-26T13:33:00.443Z"
   },
   {
    "duration": 35,
    "start_time": "2022-12-26T13:33:00.457Z"
   },
   {
    "duration": 20,
    "start_time": "2022-12-26T13:33:00.494Z"
   },
   {
    "duration": 168,
    "start_time": "2022-12-26T13:33:00.516Z"
   },
   {
    "duration": 20,
    "start_time": "2022-12-26T13:33:00.686Z"
   },
   {
    "duration": 22,
    "start_time": "2022-12-26T13:33:00.708Z"
   },
   {
    "duration": 190,
    "start_time": "2022-12-26T13:33:00.731Z"
   },
   {
    "duration": 5,
    "start_time": "2022-12-26T13:33:00.923Z"
   },
   {
    "duration": 70,
    "start_time": "2022-12-26T13:33:00.930Z"
   },
   {
    "duration": 26,
    "start_time": "2022-12-26T13:33:01.002Z"
   },
   {
    "duration": 196,
    "start_time": "2022-12-26T13:33:01.030Z"
   },
   {
    "duration": 24,
    "start_time": "2022-12-26T13:33:01.228Z"
   },
   {
    "duration": 48,
    "start_time": "2022-12-26T13:33:01.254Z"
   },
   {
    "duration": 6,
    "start_time": "2022-12-26T13:33:17.566Z"
   },
   {
    "duration": 88,
    "start_time": "2022-12-26T13:35:24.385Z"
   },
   {
    "duration": 278,
    "start_time": "2022-12-26T13:35:32.107Z"
   },
   {
    "duration": 253,
    "start_time": "2022-12-26T13:36:14.357Z"
   },
   {
    "duration": 237,
    "start_time": "2022-12-26T13:36:37.287Z"
   },
   {
    "duration": 223,
    "start_time": "2022-12-26T13:36:42.766Z"
   },
   {
    "duration": 4,
    "start_time": "2022-12-26T13:37:02.970Z"
   },
   {
    "duration": 228,
    "start_time": "2022-12-26T13:37:08.341Z"
   },
   {
    "duration": 139,
    "start_time": "2022-12-26T13:40:21.458Z"
   },
   {
    "duration": 5,
    "start_time": "2022-12-26T13:40:57.857Z"
   },
   {
    "duration": 8,
    "start_time": "2022-12-26T13:40:59.614Z"
   },
   {
    "duration": 10,
    "start_time": "2022-12-26T13:41:14.706Z"
   },
   {
    "duration": 191,
    "start_time": "2022-12-26T13:44:03.765Z"
   },
   {
    "duration": 342,
    "start_time": "2022-12-26T13:48:54.700Z"
   },
   {
    "duration": 567,
    "start_time": "2022-12-26T13:49:03.159Z"
   },
   {
    "duration": 620,
    "start_time": "2022-12-26T13:49:36.173Z"
   },
   {
    "duration": 969,
    "start_time": "2022-12-26T13:49:59.562Z"
   },
   {
    "duration": 435,
    "start_time": "2022-12-26T13:50:30.367Z"
   },
   {
    "duration": 290,
    "start_time": "2022-12-26T13:50:41.861Z"
   },
   {
    "duration": 337,
    "start_time": "2022-12-26T13:50:59.958Z"
   },
   {
    "duration": 332,
    "start_time": "2022-12-26T13:51:09.459Z"
   },
   {
    "duration": 279,
    "start_time": "2022-12-26T13:52:22.792Z"
   },
   {
    "duration": 280,
    "start_time": "2022-12-26T13:53:10.921Z"
   },
   {
    "duration": 297,
    "start_time": "2022-12-26T13:53:36.979Z"
   },
   {
    "duration": 287,
    "start_time": "2022-12-26T13:58:33.283Z"
   },
   {
    "duration": 308,
    "start_time": "2022-12-26T14:00:31.395Z"
   },
   {
    "duration": 354,
    "start_time": "2022-12-26T14:00:48.056Z"
   },
   {
    "duration": 28,
    "start_time": "2022-12-26T14:01:52.226Z"
   },
   {
    "duration": 4,
    "start_time": "2022-12-26T14:02:32.044Z"
   },
   {
    "duration": 776,
    "start_time": "2022-12-26T14:02:37.881Z"
   },
   {
    "duration": 102,
    "start_time": "2022-12-26T14:02:38.659Z"
   },
   {
    "duration": 133,
    "start_time": "2022-12-26T14:02:38.764Z"
   },
   {
    "duration": 17,
    "start_time": "2022-12-26T14:02:38.898Z"
   },
   {
    "duration": 2443,
    "start_time": "2022-12-26T14:02:38.918Z"
   },
   {
    "duration": 13,
    "start_time": "2022-12-26T14:02:41.362Z"
   },
   {
    "duration": 16,
    "start_time": "2022-12-26T14:02:41.377Z"
   },
   {
    "duration": 15,
    "start_time": "2022-12-26T14:02:41.395Z"
   },
   {
    "duration": 10,
    "start_time": "2022-12-26T14:02:41.412Z"
   },
   {
    "duration": 39,
    "start_time": "2022-12-26T14:02:41.424Z"
   },
   {
    "duration": 23,
    "start_time": "2022-12-26T14:02:41.465Z"
   },
   {
    "duration": 11,
    "start_time": "2022-12-26T14:02:41.490Z"
   },
   {
    "duration": 6,
    "start_time": "2022-12-26T14:02:41.503Z"
   },
   {
    "duration": 12,
    "start_time": "2022-12-26T14:02:41.513Z"
   },
   {
    "duration": 32,
    "start_time": "2022-12-26T14:02:41.527Z"
   },
   {
    "duration": 9,
    "start_time": "2022-12-26T14:02:41.561Z"
   },
   {
    "duration": 17,
    "start_time": "2022-12-26T14:02:41.572Z"
   },
   {
    "duration": 29,
    "start_time": "2022-12-26T14:02:41.591Z"
   },
   {
    "duration": 34,
    "start_time": "2022-12-26T14:02:41.622Z"
   },
   {
    "duration": 170,
    "start_time": "2022-12-26T14:02:41.659Z"
   },
   {
    "duration": 159,
    "start_time": "2022-12-26T14:02:41.831Z"
   },
   {
    "duration": 24,
    "start_time": "2022-12-26T14:02:41.992Z"
   },
   {
    "duration": 36,
    "start_time": "2022-12-26T14:02:42.018Z"
   },
   {
    "duration": 14,
    "start_time": "2022-12-26T14:02:42.056Z"
   },
   {
    "duration": 6,
    "start_time": "2022-12-26T14:02:42.072Z"
   },
   {
    "duration": 13,
    "start_time": "2022-12-26T14:02:42.080Z"
   },
   {
    "duration": 9,
    "start_time": "2022-12-26T14:02:42.095Z"
   },
   {
    "duration": 55,
    "start_time": "2022-12-26T14:02:42.106Z"
   },
   {
    "duration": 6,
    "start_time": "2022-12-26T14:02:42.163Z"
   },
   {
    "duration": 307,
    "start_time": "2022-12-26T14:02:42.171Z"
   },
   {
    "duration": 162,
    "start_time": "2022-12-26T14:02:42.480Z"
   },
   {
    "duration": 28,
    "start_time": "2022-12-26T14:02:42.644Z"
   },
   {
    "duration": 50,
    "start_time": "2022-12-26T14:02:42.674Z"
   },
   {
    "duration": 5,
    "start_time": "2022-12-26T14:02:42.726Z"
   },
   {
    "duration": 31,
    "start_time": "2022-12-26T14:02:42.751Z"
   },
   {
    "duration": 22,
    "start_time": "2022-12-26T14:02:42.784Z"
   },
   {
    "duration": 27,
    "start_time": "2022-12-26T14:02:42.808Z"
   },
   {
    "duration": 179,
    "start_time": "2022-12-26T14:02:42.837Z"
   },
   {
    "duration": 34,
    "start_time": "2022-12-26T14:02:43.018Z"
   },
   {
    "duration": 38,
    "start_time": "2022-12-26T14:02:43.054Z"
   },
   {
    "duration": 6,
    "start_time": "2022-12-26T14:02:43.179Z"
   },
   {
    "duration": 29,
    "start_time": "2022-12-26T14:02:43.186Z"
   },
   {
    "duration": 19,
    "start_time": "2022-12-26T14:02:43.218Z"
   },
   {
    "duration": 171,
    "start_time": "2022-12-26T14:02:43.239Z"
   },
   {
    "duration": 183,
    "start_time": "2022-12-26T14:02:43.411Z"
   },
   {
    "duration": 22,
    "start_time": "2022-12-26T14:02:43.596Z"
   },
   {
    "duration": 32,
    "start_time": "2022-12-26T14:02:43.620Z"
   },
   {
    "duration": 39,
    "start_time": "2022-12-26T14:02:43.654Z"
   },
   {
    "duration": 161,
    "start_time": "2022-12-26T14:02:43.696Z"
   },
   {
    "duration": 182,
    "start_time": "2022-12-26T14:02:43.859Z"
   },
   {
    "duration": 16,
    "start_time": "2022-12-26T14:02:44.044Z"
   },
   {
    "duration": 48,
    "start_time": "2022-12-26T14:02:44.062Z"
   },
   {
    "duration": 8,
    "start_time": "2022-12-26T14:02:44.112Z"
   },
   {
    "duration": 47,
    "start_time": "2022-12-26T14:02:44.122Z"
   },
   {
    "duration": 30,
    "start_time": "2022-12-26T14:02:44.171Z"
   },
   {
    "duration": 31,
    "start_time": "2022-12-26T14:02:44.202Z"
   },
   {
    "duration": 23,
    "start_time": "2022-12-26T14:02:44.235Z"
   },
   {
    "duration": 31,
    "start_time": "2022-12-26T14:02:44.260Z"
   },
   {
    "duration": 43,
    "start_time": "2022-12-26T14:02:44.294Z"
   },
   {
    "duration": 16,
    "start_time": "2022-12-26T14:02:44.339Z"
   },
   {
    "duration": 20,
    "start_time": "2022-12-26T14:02:44.357Z"
   },
   {
    "duration": 21,
    "start_time": "2022-12-26T14:02:44.379Z"
   },
   {
    "duration": 15,
    "start_time": "2022-12-26T14:02:44.402Z"
   },
   {
    "duration": 21,
    "start_time": "2022-12-26T14:02:44.418Z"
   },
   {
    "duration": 12,
    "start_time": "2022-12-26T14:02:44.441Z"
   },
   {
    "duration": 21,
    "start_time": "2022-12-26T14:02:44.455Z"
   },
   {
    "duration": 19,
    "start_time": "2022-12-26T14:02:44.478Z"
   },
   {
    "duration": 39,
    "start_time": "2022-12-26T14:02:44.498Z"
   },
   {
    "duration": 39,
    "start_time": "2022-12-26T14:02:44.551Z"
   },
   {
    "duration": 31,
    "start_time": "2022-12-26T14:02:44.592Z"
   },
   {
    "duration": 56,
    "start_time": "2022-12-26T14:02:44.625Z"
   },
   {
    "duration": 369,
    "start_time": "2022-12-26T14:02:44.683Z"
   },
   {
    "duration": 6,
    "start_time": "2022-12-26T14:02:45.054Z"
   },
   {
    "duration": 18,
    "start_time": "2022-12-26T14:02:45.062Z"
   },
   {
    "duration": 317,
    "start_time": "2022-12-26T14:02:45.082Z"
   },
   {
    "duration": 11,
    "start_time": "2022-12-26T14:02:45.401Z"
   },
   {
    "duration": 314,
    "start_time": "2022-12-26T14:02:45.414Z"
   },
   {
    "duration": 22,
    "start_time": "2022-12-26T14:02:45.730Z"
   },
   {
    "duration": 396,
    "start_time": "2022-12-26T14:02:45.754Z"
   },
   {
    "duration": 13,
    "start_time": "2022-12-26T14:02:46.152Z"
   },
   {
    "duration": 21,
    "start_time": "2022-12-26T14:02:46.167Z"
   },
   {
    "duration": 10,
    "start_time": "2022-12-26T14:02:46.190Z"
   },
   {
    "duration": 15,
    "start_time": "2022-12-26T14:02:46.202Z"
   },
   {
    "duration": 28,
    "start_time": "2022-12-26T14:02:46.219Z"
   },
   {
    "duration": 288,
    "start_time": "2022-12-26T14:02:46.249Z"
   },
   {
    "duration": 14,
    "start_time": "2022-12-26T14:02:46.539Z"
   },
   {
    "duration": 198,
    "start_time": "2022-12-26T14:02:46.556Z"
   },
   {
    "duration": 10,
    "start_time": "2022-12-26T14:02:46.756Z"
   },
   {
    "duration": 178,
    "start_time": "2022-12-26T14:02:46.767Z"
   },
   {
    "duration": 12,
    "start_time": "2022-12-26T14:02:46.950Z"
   },
   {
    "duration": 209,
    "start_time": "2022-12-26T14:02:46.964Z"
   },
   {
    "duration": 11,
    "start_time": "2022-12-26T14:02:47.175Z"
   },
   {
    "duration": 164,
    "start_time": "2022-12-26T14:02:47.188Z"
   },
   {
    "duration": 12,
    "start_time": "2022-12-26T14:02:47.354Z"
   },
   {
    "duration": 190,
    "start_time": "2022-12-26T14:02:47.368Z"
   },
   {
    "duration": 11,
    "start_time": "2022-12-26T14:02:47.560Z"
   },
   {
    "duration": 207,
    "start_time": "2022-12-26T14:02:47.573Z"
   },
   {
    "duration": 13,
    "start_time": "2022-12-26T14:02:47.782Z"
   },
   {
    "duration": 216,
    "start_time": "2022-12-26T14:02:47.797Z"
   },
   {
    "duration": 10,
    "start_time": "2022-12-26T14:02:48.015Z"
   },
   {
    "duration": 183,
    "start_time": "2022-12-26T14:02:48.027Z"
   },
   {
    "duration": 10,
    "start_time": "2022-12-26T14:02:48.212Z"
   },
   {
    "duration": 41,
    "start_time": "2022-12-26T14:02:48.224Z"
   },
   {
    "duration": 272,
    "start_time": "2022-12-26T14:02:48.267Z"
   },
   {
    "duration": 13,
    "start_time": "2022-12-26T14:02:48.541Z"
   },
   {
    "duration": 169,
    "start_time": "2022-12-26T14:02:48.556Z"
   },
   {
    "duration": 308,
    "start_time": "2022-12-26T14:02:48.727Z"
   },
   {
    "duration": 15,
    "start_time": "2022-12-26T14:02:49.036Z"
   },
   {
    "duration": 8,
    "start_time": "2022-12-26T14:02:49.053Z"
   },
   {
    "duration": 24,
    "start_time": "2022-12-26T14:02:49.063Z"
   },
   {
    "duration": 9,
    "start_time": "2022-12-26T14:02:49.089Z"
   },
   {
    "duration": 11,
    "start_time": "2022-12-26T14:02:49.100Z"
   },
   {
    "duration": 19,
    "start_time": "2022-12-26T14:02:49.113Z"
   },
   {
    "duration": 415,
    "start_time": "2022-12-26T14:02:49.136Z"
   },
   {
    "duration": 5,
    "start_time": "2022-12-26T14:02:49.552Z"
   },
   {
    "duration": 377,
    "start_time": "2022-12-26T14:02:49.559Z"
   },
   {
    "duration": 12,
    "start_time": "2022-12-26T14:02:49.938Z"
   },
   {
    "duration": 298,
    "start_time": "2022-12-26T14:02:49.952Z"
   },
   {
    "duration": 75,
    "start_time": "2022-12-26T14:02:50.253Z"
   },
   {
    "duration": 0,
    "start_time": "2022-12-26T14:02:50.330Z"
   },
   {
    "duration": 0,
    "start_time": "2022-12-26T14:02:50.332Z"
   },
   {
    "duration": 0,
    "start_time": "2022-12-26T14:02:50.333Z"
   },
   {
    "duration": 0,
    "start_time": "2022-12-26T14:02:50.334Z"
   },
   {
    "duration": 0,
    "start_time": "2022-12-26T14:02:50.335Z"
   },
   {
    "duration": 0,
    "start_time": "2022-12-26T14:02:50.336Z"
   },
   {
    "duration": 0,
    "start_time": "2022-12-26T14:02:50.337Z"
   },
   {
    "duration": 0,
    "start_time": "2022-12-26T14:02:50.338Z"
   },
   {
    "duration": 0,
    "start_time": "2022-12-26T14:02:50.340Z"
   },
   {
    "duration": 0,
    "start_time": "2022-12-26T14:02:50.341Z"
   },
   {
    "duration": 0,
    "start_time": "2022-12-26T14:02:50.342Z"
   },
   {
    "duration": 0,
    "start_time": "2022-12-26T14:02:50.343Z"
   },
   {
    "duration": 0,
    "start_time": "2022-12-26T14:02:50.344Z"
   },
   {
    "duration": 6,
    "start_time": "2022-12-26T14:03:29.511Z"
   },
   {
    "duration": 23,
    "start_time": "2022-12-26T14:03:34.247Z"
   },
   {
    "duration": 1435,
    "start_time": "2022-12-26T14:06:05.881Z"
   },
   {
    "duration": 198,
    "start_time": "2022-12-26T14:06:35.174Z"
   },
   {
    "duration": 1217,
    "start_time": "2022-12-26T14:06:43.985Z"
   },
   {
    "duration": 158,
    "start_time": "2022-12-26T14:08:37.710Z"
   },
   {
    "duration": 18,
    "start_time": "2022-12-26T14:08:47.927Z"
   },
   {
    "duration": 147,
    "start_time": "2022-12-26T14:08:50.191Z"
   },
   {
    "duration": 306,
    "start_time": "2022-12-26T14:09:34.814Z"
   },
   {
    "duration": 4,
    "start_time": "2022-12-26T14:10:15.767Z"
   },
   {
    "duration": 12,
    "start_time": "2022-12-26T14:10:28.847Z"
   },
   {
    "duration": 845,
    "start_time": "2022-12-26T14:10:41.767Z"
   },
   {
    "duration": 107,
    "start_time": "2022-12-26T14:10:42.614Z"
   },
   {
    "duration": 133,
    "start_time": "2022-12-26T14:10:42.723Z"
   },
   {
    "duration": 18,
    "start_time": "2022-12-26T14:10:42.857Z"
   },
   {
    "duration": 2204,
    "start_time": "2022-12-26T14:10:42.877Z"
   },
   {
    "duration": 11,
    "start_time": "2022-12-26T14:10:45.083Z"
   },
   {
    "duration": 22,
    "start_time": "2022-12-26T14:10:45.096Z"
   },
   {
    "duration": 18,
    "start_time": "2022-12-26T14:10:45.120Z"
   },
   {
    "duration": 10,
    "start_time": "2022-12-26T14:10:45.140Z"
   },
   {
    "duration": 9,
    "start_time": "2022-12-26T14:10:45.152Z"
   },
   {
    "duration": 11,
    "start_time": "2022-12-26T14:10:45.163Z"
   },
   {
    "duration": 17,
    "start_time": "2022-12-26T14:10:45.176Z"
   },
   {
    "duration": 27,
    "start_time": "2022-12-26T14:10:45.195Z"
   },
   {
    "duration": 31,
    "start_time": "2022-12-26T14:10:45.226Z"
   },
   {
    "duration": 12,
    "start_time": "2022-12-26T14:10:45.259Z"
   },
   {
    "duration": 8,
    "start_time": "2022-12-26T14:10:45.273Z"
   },
   {
    "duration": 14,
    "start_time": "2022-12-26T14:10:45.283Z"
   },
   {
    "duration": 31,
    "start_time": "2022-12-26T14:10:45.300Z"
   },
   {
    "duration": 31,
    "start_time": "2022-12-26T14:10:45.333Z"
   },
   {
    "duration": 184,
    "start_time": "2022-12-26T14:10:45.366Z"
   },
   {
    "duration": 158,
    "start_time": "2022-12-26T14:10:45.552Z"
   },
   {
    "duration": 20,
    "start_time": "2022-12-26T14:10:45.712Z"
   },
   {
    "duration": 23,
    "start_time": "2022-12-26T14:10:45.750Z"
   },
   {
    "duration": 12,
    "start_time": "2022-12-26T14:10:45.775Z"
   },
   {
    "duration": 4,
    "start_time": "2022-12-26T14:10:45.789Z"
   },
   {
    "duration": 16,
    "start_time": "2022-12-26T14:10:45.795Z"
   },
   {
    "duration": 38,
    "start_time": "2022-12-26T14:10:45.813Z"
   },
   {
    "duration": 23,
    "start_time": "2022-12-26T14:10:45.854Z"
   },
   {
    "duration": 5,
    "start_time": "2022-12-26T14:10:45.879Z"
   },
   {
    "duration": 292,
    "start_time": "2022-12-26T14:10:45.886Z"
   },
   {
    "duration": 188,
    "start_time": "2022-12-26T14:10:46.181Z"
   },
   {
    "duration": 27,
    "start_time": "2022-12-26T14:10:46.371Z"
   },
   {
    "duration": 69,
    "start_time": "2022-12-26T14:10:46.400Z"
   },
   {
    "duration": 6,
    "start_time": "2022-12-26T14:10:46.471Z"
   },
   {
    "duration": 39,
    "start_time": "2022-12-26T14:10:46.479Z"
   },
   {
    "duration": 12,
    "start_time": "2022-12-26T14:10:46.520Z"
   },
   {
    "duration": 27,
    "start_time": "2022-12-26T14:10:46.551Z"
   },
   {
    "duration": 177,
    "start_time": "2022-12-26T14:10:46.581Z"
   },
   {
    "duration": 25,
    "start_time": "2022-12-26T14:10:46.760Z"
   },
   {
    "duration": 20,
    "start_time": "2022-12-26T14:10:46.787Z"
   },
   {
    "duration": 6,
    "start_time": "2022-12-26T14:10:46.915Z"
   },
   {
    "duration": 43,
    "start_time": "2022-12-26T14:10:46.923Z"
   },
   {
    "duration": 8,
    "start_time": "2022-12-26T14:10:46.968Z"
   },
   {
    "duration": 159,
    "start_time": "2022-12-26T14:10:46.978Z"
   },
   {
    "duration": 189,
    "start_time": "2022-12-26T14:10:47.139Z"
   },
   {
    "duration": 33,
    "start_time": "2022-12-26T14:10:47.330Z"
   },
   {
    "duration": 10,
    "start_time": "2022-12-26T14:10:47.365Z"
   },
   {
    "duration": 21,
    "start_time": "2022-12-26T14:10:47.377Z"
   },
   {
    "duration": 196,
    "start_time": "2022-12-26T14:10:47.401Z"
   },
   {
    "duration": 203,
    "start_time": "2022-12-26T14:10:47.599Z"
   },
   {
    "duration": 12,
    "start_time": "2022-12-26T14:10:47.804Z"
   },
   {
    "duration": 41,
    "start_time": "2022-12-26T14:10:47.818Z"
   },
   {
    "duration": 10,
    "start_time": "2022-12-26T14:10:47.862Z"
   },
   {
    "duration": 36,
    "start_time": "2022-12-26T14:10:47.874Z"
   },
   {
    "duration": 49,
    "start_time": "2022-12-26T14:10:47.912Z"
   },
   {
    "duration": 33,
    "start_time": "2022-12-26T14:10:47.964Z"
   },
   {
    "duration": 11,
    "start_time": "2022-12-26T14:10:47.999Z"
   },
   {
    "duration": 39,
    "start_time": "2022-12-26T14:10:48.012Z"
   },
   {
    "duration": 23,
    "start_time": "2022-12-26T14:10:48.053Z"
   },
   {
    "duration": 8,
    "start_time": "2022-12-26T14:10:48.078Z"
   },
   {
    "duration": 10,
    "start_time": "2022-12-26T14:10:48.088Z"
   },
   {
    "duration": 8,
    "start_time": "2022-12-26T14:10:48.100Z"
   },
   {
    "duration": 49,
    "start_time": "2022-12-26T14:10:48.110Z"
   },
   {
    "duration": 13,
    "start_time": "2022-12-26T14:10:48.161Z"
   },
   {
    "duration": 13,
    "start_time": "2022-12-26T14:10:48.177Z"
   },
   {
    "duration": 12,
    "start_time": "2022-12-26T14:10:48.192Z"
   },
   {
    "duration": 56,
    "start_time": "2022-12-26T14:10:48.206Z"
   },
   {
    "duration": 36,
    "start_time": "2022-12-26T14:10:48.264Z"
   },
   {
    "duration": 53,
    "start_time": "2022-12-26T14:10:48.302Z"
   },
   {
    "duration": 41,
    "start_time": "2022-12-26T14:10:48.357Z"
   },
   {
    "duration": 56,
    "start_time": "2022-12-26T14:10:48.401Z"
   },
   {
    "duration": 407,
    "start_time": "2022-12-26T14:10:48.459Z"
   },
   {
    "duration": 6,
    "start_time": "2022-12-26T14:10:48.868Z"
   },
   {
    "duration": 18,
    "start_time": "2022-12-26T14:10:48.876Z"
   },
   {
    "duration": 340,
    "start_time": "2022-12-26T14:10:48.896Z"
   },
   {
    "duration": 17,
    "start_time": "2022-12-26T14:10:49.238Z"
   },
   {
    "duration": 294,
    "start_time": "2022-12-26T14:10:49.257Z"
   },
   {
    "duration": 13,
    "start_time": "2022-12-26T14:10:49.553Z"
   },
   {
    "duration": 484,
    "start_time": "2022-12-26T14:10:49.569Z"
   },
   {
    "duration": 11,
    "start_time": "2022-12-26T14:10:50.056Z"
   },
   {
    "duration": 9,
    "start_time": "2022-12-26T14:10:50.069Z"
   },
   {
    "duration": 18,
    "start_time": "2022-12-26T14:10:50.080Z"
   },
   {
    "duration": 17,
    "start_time": "2022-12-26T14:10:50.100Z"
   },
   {
    "duration": 19,
    "start_time": "2022-12-26T14:10:50.119Z"
   },
   {
    "duration": 322,
    "start_time": "2022-12-26T14:10:50.140Z"
   },
   {
    "duration": 12,
    "start_time": "2022-12-26T14:10:50.464Z"
   },
   {
    "duration": 219,
    "start_time": "2022-12-26T14:10:50.478Z"
   },
   {
    "duration": 12,
    "start_time": "2022-12-26T14:10:50.699Z"
   },
   {
    "duration": 204,
    "start_time": "2022-12-26T14:10:50.713Z"
   },
   {
    "duration": 12,
    "start_time": "2022-12-26T14:10:50.920Z"
   },
   {
    "duration": 217,
    "start_time": "2022-12-26T14:10:50.934Z"
   },
   {
    "duration": 9,
    "start_time": "2022-12-26T14:10:51.153Z"
   },
   {
    "duration": 149,
    "start_time": "2022-12-26T14:10:51.164Z"
   },
   {
    "duration": 10,
    "start_time": "2022-12-26T14:10:51.316Z"
   },
   {
    "duration": 175,
    "start_time": "2022-12-26T14:10:51.328Z"
   },
   {
    "duration": 12,
    "start_time": "2022-12-26T14:10:51.505Z"
   },
   {
    "duration": 226,
    "start_time": "2022-12-26T14:10:51.519Z"
   },
   {
    "duration": 14,
    "start_time": "2022-12-26T14:10:51.747Z"
   },
   {
    "duration": 203,
    "start_time": "2022-12-26T14:10:51.763Z"
   },
   {
    "duration": 10,
    "start_time": "2022-12-26T14:10:51.968Z"
   },
   {
    "duration": 174,
    "start_time": "2022-12-26T14:10:51.980Z"
   },
   {
    "duration": 11,
    "start_time": "2022-12-26T14:10:52.157Z"
   },
   {
    "duration": 22,
    "start_time": "2022-12-26T14:10:52.170Z"
   },
   {
    "duration": 299,
    "start_time": "2022-12-26T14:10:52.195Z"
   },
   {
    "duration": 6,
    "start_time": "2022-12-26T14:10:52.496Z"
   },
   {
    "duration": 203,
    "start_time": "2022-12-26T14:10:52.504Z"
   },
   {
    "duration": 320,
    "start_time": "2022-12-26T14:10:52.709Z"
   },
   {
    "duration": 25,
    "start_time": "2022-12-26T14:10:53.030Z"
   },
   {
    "duration": 7,
    "start_time": "2022-12-26T14:10:53.057Z"
   },
   {
    "duration": 29,
    "start_time": "2022-12-26T14:10:53.066Z"
   },
   {
    "duration": 5,
    "start_time": "2022-12-26T14:10:53.097Z"
   },
   {
    "duration": 17,
    "start_time": "2022-12-26T14:10:53.104Z"
   },
   {
    "duration": 10,
    "start_time": "2022-12-26T14:10:53.123Z"
   },
   {
    "duration": 319,
    "start_time": "2022-12-26T14:10:53.135Z"
   },
   {
    "duration": 6,
    "start_time": "2022-12-26T14:10:53.457Z"
   },
   {
    "duration": 313,
    "start_time": "2022-12-26T14:10:53.465Z"
   },
   {
    "duration": 5,
    "start_time": "2022-12-26T14:10:53.780Z"
   },
   {
    "duration": 318,
    "start_time": "2022-12-26T14:10:53.787Z"
   },
   {
    "duration": 6,
    "start_time": "2022-12-26T14:10:54.107Z"
   },
   {
    "duration": 53,
    "start_time": "2022-12-26T14:10:54.115Z"
   },
   {
    "duration": 19,
    "start_time": "2022-12-26T14:10:54.170Z"
   },
   {
    "duration": 177,
    "start_time": "2022-12-26T14:10:54.198Z"
   },
   {
    "duration": 21,
    "start_time": "2022-12-26T14:10:54.377Z"
   },
   {
    "duration": 18,
    "start_time": "2022-12-26T14:10:54.400Z"
   },
   {
    "duration": 234,
    "start_time": "2022-12-26T14:10:54.420Z"
   },
   {
    "duration": 5,
    "start_time": "2022-12-26T14:10:54.656Z"
   },
   {
    "duration": 19,
    "start_time": "2022-12-26T14:10:54.663Z"
   },
   {
    "duration": 6,
    "start_time": "2022-12-26T14:10:54.684Z"
   },
   {
    "duration": 212,
    "start_time": "2022-12-26T14:10:54.692Z"
   },
   {
    "duration": 19,
    "start_time": "2022-12-26T14:10:54.906Z"
   },
   {
    "duration": 34,
    "start_time": "2022-12-26T14:10:54.927Z"
   },
   {
    "duration": 304,
    "start_time": "2022-12-26T14:12:57.229Z"
   },
   {
    "duration": 16,
    "start_time": "2022-12-26T14:30:38.184Z"
   },
   {
    "duration": 19,
    "start_time": "2022-12-26T14:31:04.308Z"
   },
   {
    "duration": 103,
    "start_time": "2022-12-26T14:31:34.385Z"
   },
   {
    "duration": 26,
    "start_time": "2022-12-26T14:32:57.163Z"
   },
   {
    "duration": 9,
    "start_time": "2022-12-26T14:34:54.257Z"
   },
   {
    "duration": 10,
    "start_time": "2022-12-26T14:35:02.423Z"
   },
   {
    "duration": 834,
    "start_time": "2022-12-26T16:04:12.313Z"
   },
   {
    "duration": 143,
    "start_time": "2022-12-26T16:04:13.149Z"
   },
   {
    "duration": 93,
    "start_time": "2022-12-26T16:04:13.294Z"
   },
   {
    "duration": 25,
    "start_time": "2022-12-26T16:04:13.389Z"
   },
   {
    "duration": 2085,
    "start_time": "2022-12-26T16:04:13.417Z"
   },
   {
    "duration": 11,
    "start_time": "2022-12-26T16:04:15.504Z"
   },
   {
    "duration": 15,
    "start_time": "2022-12-26T16:04:15.517Z"
   },
   {
    "duration": 11,
    "start_time": "2022-12-26T16:04:15.534Z"
   },
   {
    "duration": 8,
    "start_time": "2022-12-26T16:04:15.546Z"
   },
   {
    "duration": 7,
    "start_time": "2022-12-26T16:04:15.558Z"
   },
   {
    "duration": 40,
    "start_time": "2022-12-26T16:04:15.566Z"
   },
   {
    "duration": 10,
    "start_time": "2022-12-26T16:04:15.607Z"
   },
   {
    "duration": 6,
    "start_time": "2022-12-26T16:04:15.618Z"
   },
   {
    "duration": 8,
    "start_time": "2022-12-26T16:04:15.625Z"
   },
   {
    "duration": 10,
    "start_time": "2022-12-26T16:04:15.634Z"
   },
   {
    "duration": 5,
    "start_time": "2022-12-26T16:04:15.645Z"
   },
   {
    "duration": 9,
    "start_time": "2022-12-26T16:04:15.651Z"
   },
   {
    "duration": 43,
    "start_time": "2022-12-26T16:04:15.661Z"
   },
   {
    "duration": 18,
    "start_time": "2022-12-26T16:04:15.706Z"
   },
   {
    "duration": 140,
    "start_time": "2022-12-26T16:04:15.726Z"
   },
   {
    "duration": 119,
    "start_time": "2022-12-26T16:04:15.867Z"
   },
   {
    "duration": 24,
    "start_time": "2022-12-26T16:04:15.987Z"
   },
   {
    "duration": 14,
    "start_time": "2022-12-26T16:04:16.013Z"
   },
   {
    "duration": 12,
    "start_time": "2022-12-26T16:04:16.029Z"
   },
   {
    "duration": 4,
    "start_time": "2022-12-26T16:04:16.042Z"
   },
   {
    "duration": 11,
    "start_time": "2022-12-26T16:04:16.047Z"
   },
   {
    "duration": 4,
    "start_time": "2022-12-26T16:04:16.059Z"
   },
   {
    "duration": 50,
    "start_time": "2022-12-26T16:04:16.067Z"
   },
   {
    "duration": 4,
    "start_time": "2022-12-26T16:04:16.118Z"
   },
   {
    "duration": 252,
    "start_time": "2022-12-26T16:04:16.124Z"
   },
   {
    "duration": 172,
    "start_time": "2022-12-26T16:04:16.378Z"
   },
   {
    "duration": 22,
    "start_time": "2022-12-26T16:04:16.552Z"
   },
   {
    "duration": 52,
    "start_time": "2022-12-26T16:04:16.575Z"
   },
   {
    "duration": 4,
    "start_time": "2022-12-26T16:04:16.629Z"
   },
   {
    "duration": 28,
    "start_time": "2022-12-26T16:04:16.635Z"
   },
   {
    "duration": 11,
    "start_time": "2022-12-26T16:04:16.665Z"
   },
   {
    "duration": 33,
    "start_time": "2022-12-26T16:04:16.677Z"
   },
   {
    "duration": 145,
    "start_time": "2022-12-26T16:04:16.711Z"
   },
   {
    "duration": 20,
    "start_time": "2022-12-26T16:04:16.858Z"
   },
   {
    "duration": 12,
    "start_time": "2022-12-26T16:04:16.880Z"
   },
   {
    "duration": 13,
    "start_time": "2022-12-26T16:04:16.894Z"
   },
   {
    "duration": 24,
    "start_time": "2022-12-26T16:04:16.909Z"
   },
   {
    "duration": 6,
    "start_time": "2022-12-26T16:04:16.934Z"
   },
   {
    "duration": 220,
    "start_time": "2022-12-26T16:04:16.942Z"
   },
   {
    "duration": 162,
    "start_time": "2022-12-26T16:04:17.163Z"
   },
   {
    "duration": 22,
    "start_time": "2022-12-26T16:04:17.327Z"
   },
   {
    "duration": 9,
    "start_time": "2022-12-26T16:04:17.351Z"
   },
   {
    "duration": 42,
    "start_time": "2022-12-26T16:04:17.362Z"
   },
   {
    "duration": 179,
    "start_time": "2022-12-26T16:04:17.407Z"
   },
   {
    "duration": 145,
    "start_time": "2022-12-26T16:04:17.588Z"
   },
   {
    "duration": 10,
    "start_time": "2022-12-26T16:04:17.734Z"
   },
   {
    "duration": 24,
    "start_time": "2022-12-26T16:04:17.745Z"
   },
   {
    "duration": 6,
    "start_time": "2022-12-26T16:04:17.771Z"
   },
   {
    "duration": 47,
    "start_time": "2022-12-26T16:04:17.779Z"
   },
   {
    "duration": 21,
    "start_time": "2022-12-26T16:04:17.828Z"
   },
   {
    "duration": 20,
    "start_time": "2022-12-26T16:04:17.851Z"
   },
   {
    "duration": 7,
    "start_time": "2022-12-26T16:04:17.873Z"
   },
   {
    "duration": 28,
    "start_time": "2022-12-26T16:04:17.881Z"
   },
   {
    "duration": 14,
    "start_time": "2022-12-26T16:04:17.911Z"
   },
   {
    "duration": 5,
    "start_time": "2022-12-26T16:04:17.926Z"
   },
   {
    "duration": 13,
    "start_time": "2022-12-26T16:04:17.933Z"
   },
   {
    "duration": 6,
    "start_time": "2022-12-26T16:04:17.948Z"
   },
   {
    "duration": 8,
    "start_time": "2022-12-26T16:04:17.956Z"
   },
   {
    "duration": 7,
    "start_time": "2022-12-26T16:04:17.965Z"
   },
   {
    "duration": 38,
    "start_time": "2022-12-26T16:04:17.973Z"
   },
   {
    "duration": 12,
    "start_time": "2022-12-26T16:04:18.013Z"
   },
   {
    "duration": 12,
    "start_time": "2022-12-26T16:04:18.027Z"
   },
   {
    "duration": 25,
    "start_time": "2022-12-26T16:04:18.041Z"
   },
   {
    "duration": 51,
    "start_time": "2022-12-26T16:04:18.067Z"
   },
   {
    "duration": 36,
    "start_time": "2022-12-26T16:04:18.120Z"
   },
   {
    "duration": 47,
    "start_time": "2022-12-26T16:04:18.159Z"
   },
   {
    "duration": 373,
    "start_time": "2022-12-26T16:04:18.207Z"
   },
   {
    "duration": 5,
    "start_time": "2022-12-26T16:04:18.582Z"
   },
   {
    "duration": 30,
    "start_time": "2022-12-26T16:04:18.589Z"
   },
   {
    "duration": 253,
    "start_time": "2022-12-26T16:04:18.621Z"
   },
   {
    "duration": 9,
    "start_time": "2022-12-26T16:04:18.876Z"
   },
   {
    "duration": 260,
    "start_time": "2022-12-26T16:04:18.886Z"
   },
   {
    "duration": 10,
    "start_time": "2022-12-26T16:04:19.147Z"
   },
   {
    "duration": 347,
    "start_time": "2022-12-26T16:04:19.159Z"
   },
   {
    "duration": 9,
    "start_time": "2022-12-26T16:04:19.507Z"
   },
   {
    "duration": 5,
    "start_time": "2022-12-26T16:04:19.517Z"
   },
   {
    "duration": 5,
    "start_time": "2022-12-26T16:04:19.528Z"
   },
   {
    "duration": 13,
    "start_time": "2022-12-26T16:04:19.534Z"
   },
   {
    "duration": 10,
    "start_time": "2022-12-26T16:04:19.549Z"
   },
   {
    "duration": 275,
    "start_time": "2022-12-26T16:04:19.560Z"
   },
   {
    "duration": 9,
    "start_time": "2022-12-26T16:04:19.837Z"
   },
   {
    "duration": 166,
    "start_time": "2022-12-26T16:04:19.847Z"
   },
   {
    "duration": 12,
    "start_time": "2022-12-26T16:04:20.015Z"
   },
   {
    "duration": 177,
    "start_time": "2022-12-26T16:04:20.028Z"
   },
   {
    "duration": 8,
    "start_time": "2022-12-26T16:04:20.207Z"
   },
   {
    "duration": 190,
    "start_time": "2022-12-26T16:04:20.217Z"
   },
   {
    "duration": 8,
    "start_time": "2022-12-26T16:04:20.408Z"
   },
   {
    "duration": 131,
    "start_time": "2022-12-26T16:04:20.417Z"
   },
   {
    "duration": 8,
    "start_time": "2022-12-26T16:04:20.550Z"
   },
   {
    "duration": 167,
    "start_time": "2022-12-26T16:04:20.560Z"
   },
   {
    "duration": 10,
    "start_time": "2022-12-26T16:04:20.728Z"
   },
   {
    "duration": 184,
    "start_time": "2022-12-26T16:04:20.740Z"
   },
   {
    "duration": 9,
    "start_time": "2022-12-26T16:04:20.925Z"
   },
   {
    "duration": 162,
    "start_time": "2022-12-26T16:04:20.936Z"
   },
   {
    "duration": 11,
    "start_time": "2022-12-26T16:04:21.104Z"
   },
   {
    "duration": 153,
    "start_time": "2022-12-26T16:04:21.117Z"
   },
   {
    "duration": 9,
    "start_time": "2022-12-26T16:04:21.272Z"
   },
   {
    "duration": 26,
    "start_time": "2022-12-26T16:04:21.283Z"
   },
   {
    "duration": 260,
    "start_time": "2022-12-26T16:04:21.310Z"
   },
   {
    "duration": 5,
    "start_time": "2022-12-26T16:04:21.571Z"
   },
   {
    "duration": 160,
    "start_time": "2022-12-26T16:04:21.578Z"
   },
   {
    "duration": 276,
    "start_time": "2022-12-26T16:04:21.740Z"
   },
   {
    "duration": 5,
    "start_time": "2022-12-26T16:04:22.018Z"
   },
   {
    "duration": 23,
    "start_time": "2022-12-26T16:04:22.024Z"
   },
   {
    "duration": 10,
    "start_time": "2022-12-26T16:04:22.048Z"
   },
   {
    "duration": 3,
    "start_time": "2022-12-26T16:04:22.060Z"
   },
   {
    "duration": 13,
    "start_time": "2022-12-26T16:04:22.064Z"
   },
   {
    "duration": 10,
    "start_time": "2022-12-26T16:04:22.078Z"
   },
   {
    "duration": 285,
    "start_time": "2022-12-26T16:04:22.090Z"
   },
   {
    "duration": 5,
    "start_time": "2022-12-26T16:04:22.377Z"
   },
   {
    "duration": 296,
    "start_time": "2022-12-26T16:04:22.384Z"
   },
   {
    "duration": 4,
    "start_time": "2022-12-26T16:04:22.682Z"
   },
   {
    "duration": 290,
    "start_time": "2022-12-26T16:04:22.687Z"
   },
   {
    "duration": 4,
    "start_time": "2022-12-26T16:04:22.979Z"
   },
   {
    "duration": 37,
    "start_time": "2022-12-26T16:04:22.985Z"
   },
   {
    "duration": 15,
    "start_time": "2022-12-26T16:04:23.024Z"
   },
   {
    "duration": 163,
    "start_time": "2022-12-26T16:04:23.041Z"
   },
   {
    "duration": 15,
    "start_time": "2022-12-26T16:04:23.206Z"
   },
   {
    "duration": 13,
    "start_time": "2022-12-26T16:04:23.222Z"
   },
   {
    "duration": 174,
    "start_time": "2022-12-26T16:04:23.236Z"
   },
   {
    "duration": 4,
    "start_time": "2022-12-26T16:04:23.412Z"
   },
   {
    "duration": 16,
    "start_time": "2022-12-26T16:04:23.418Z"
   },
   {
    "duration": 4,
    "start_time": "2022-12-26T16:04:23.436Z"
   },
   {
    "duration": 180,
    "start_time": "2022-12-26T16:04:23.441Z"
   },
   {
    "duration": 15,
    "start_time": "2022-12-26T16:04:23.624Z"
   },
   {
    "duration": 282,
    "start_time": "2022-12-26T16:04:23.641Z"
   },
   {
    "duration": 13,
    "start_time": "2022-12-26T16:04:23.924Z"
   },
   {
    "duration": 7,
    "start_time": "2022-12-26T16:04:23.938Z"
   },
   {
    "duration": 97,
    "start_time": "2022-12-26T16:06:56.317Z"
   },
   {
    "duration": 7,
    "start_time": "2022-12-26T16:07:21.496Z"
   },
   {
    "duration": 9,
    "start_time": "2022-12-26T16:07:36.622Z"
   },
   {
    "duration": 8,
    "start_time": "2022-12-26T16:09:37.821Z"
   },
   {
    "duration": 8,
    "start_time": "2022-12-26T16:10:05.614Z"
   },
   {
    "duration": 7,
    "start_time": "2022-12-26T16:14:48.241Z"
   },
   {
    "duration": 29,
    "start_time": "2022-12-26T16:15:00.640Z"
   },
   {
    "duration": 13,
    "start_time": "2022-12-26T16:15:21.544Z"
   },
   {
    "duration": 3,
    "start_time": "2022-12-26T16:16:44.855Z"
   },
   {
    "duration": 6,
    "start_time": "2022-12-26T16:16:51.534Z"
   },
   {
    "duration": 5,
    "start_time": "2022-12-26T16:17:00.174Z"
   },
   {
    "duration": 3,
    "start_time": "2022-12-26T16:19:46.746Z"
   },
   {
    "duration": 17,
    "start_time": "2022-12-26T16:21:48.191Z"
   },
   {
    "duration": 18,
    "start_time": "2022-12-26T16:22:28.465Z"
   },
   {
    "duration": 27,
    "start_time": "2022-12-26T16:22:50.538Z"
   },
   {
    "duration": 26,
    "start_time": "2022-12-26T16:22:58.434Z"
   },
   {
    "duration": 18,
    "start_time": "2022-12-26T16:23:03.970Z"
   },
   {
    "duration": 1161,
    "start_time": "2022-12-26T16:23:21.378Z"
   },
   {
    "duration": 16,
    "start_time": "2022-12-26T16:23:34.610Z"
   },
   {
    "duration": 14,
    "start_time": "2022-12-26T16:25:28.930Z"
   },
   {
    "duration": 15,
    "start_time": "2022-12-26T16:25:42.370Z"
   },
   {
    "duration": 17,
    "start_time": "2022-12-26T16:25:51.516Z"
   },
   {
    "duration": 24,
    "start_time": "2022-12-26T16:26:24.350Z"
   },
   {
    "duration": 24,
    "start_time": "2022-12-26T16:26:29.988Z"
   },
   {
    "duration": 19,
    "start_time": "2022-12-26T16:28:19.140Z"
   },
   {
    "duration": 325,
    "start_time": "2022-12-26T16:38:00.944Z"
   },
   {
    "duration": 16,
    "start_time": "2022-12-26T16:38:16.554Z"
   },
   {
    "duration": 14,
    "start_time": "2022-12-26T16:38:34.504Z"
   },
   {
    "duration": 15,
    "start_time": "2022-12-26T16:38:58.769Z"
   },
   {
    "duration": 17,
    "start_time": "2022-12-26T16:39:32.442Z"
   },
   {
    "duration": 933,
    "start_time": "2022-12-26T18:03:41.728Z"
   },
   {
    "duration": 161,
    "start_time": "2022-12-26T18:03:42.664Z"
   },
   {
    "duration": 90,
    "start_time": "2022-12-26T18:03:42.826Z"
   },
   {
    "duration": 22,
    "start_time": "2022-12-26T18:03:42.918Z"
   },
   {
    "duration": 1960,
    "start_time": "2022-12-26T18:03:42.943Z"
   },
   {
    "duration": 10,
    "start_time": "2022-12-26T18:03:44.904Z"
   },
   {
    "duration": 18,
    "start_time": "2022-12-26T18:03:44.916Z"
   },
   {
    "duration": 11,
    "start_time": "2022-12-26T18:03:44.936Z"
   },
   {
    "duration": 8,
    "start_time": "2022-12-26T18:03:44.949Z"
   },
   {
    "duration": 12,
    "start_time": "2022-12-26T18:03:44.959Z"
   },
   {
    "duration": 5,
    "start_time": "2022-12-26T18:03:44.973Z"
   },
   {
    "duration": 9,
    "start_time": "2022-12-26T18:03:44.980Z"
   },
   {
    "duration": 7,
    "start_time": "2022-12-26T18:03:44.990Z"
   },
   {
    "duration": 12,
    "start_time": "2022-12-26T18:03:45.001Z"
   },
   {
    "duration": 41,
    "start_time": "2022-12-26T18:03:45.015Z"
   },
   {
    "duration": 7,
    "start_time": "2022-12-26T18:03:45.057Z"
   },
   {
    "duration": 23,
    "start_time": "2022-12-26T18:03:45.066Z"
   },
   {
    "duration": 31,
    "start_time": "2022-12-26T18:03:45.091Z"
   },
   {
    "duration": 21,
    "start_time": "2022-12-26T18:03:45.124Z"
   },
   {
    "duration": 142,
    "start_time": "2022-12-26T18:03:45.146Z"
   },
   {
    "duration": 126,
    "start_time": "2022-12-26T18:03:45.290Z"
   },
   {
    "duration": 17,
    "start_time": "2022-12-26T18:03:45.417Z"
   },
   {
    "duration": 29,
    "start_time": "2022-12-26T18:03:45.435Z"
   },
   {
    "duration": 13,
    "start_time": "2022-12-26T18:03:45.466Z"
   },
   {
    "duration": 5,
    "start_time": "2022-12-26T18:03:45.480Z"
   },
   {
    "duration": 15,
    "start_time": "2022-12-26T18:03:45.486Z"
   },
   {
    "duration": 5,
    "start_time": "2022-12-26T18:03:45.502Z"
   },
   {
    "duration": 43,
    "start_time": "2022-12-26T18:03:45.509Z"
   },
   {
    "duration": 5,
    "start_time": "2022-12-26T18:03:45.554Z"
   },
   {
    "duration": 235,
    "start_time": "2022-12-26T18:03:45.560Z"
   },
   {
    "duration": 150,
    "start_time": "2022-12-26T18:03:45.797Z"
   },
   {
    "duration": 22,
    "start_time": "2022-12-26T18:03:45.952Z"
   },
   {
    "duration": 40,
    "start_time": "2022-12-26T18:03:45.976Z"
   },
   {
    "duration": 5,
    "start_time": "2022-12-26T18:03:46.018Z"
   },
   {
    "duration": 50,
    "start_time": "2022-12-26T18:03:46.024Z"
   },
   {
    "duration": 6,
    "start_time": "2022-12-26T18:03:46.076Z"
   },
   {
    "duration": 28,
    "start_time": "2022-12-26T18:03:46.083Z"
   },
   {
    "duration": 148,
    "start_time": "2022-12-26T18:03:46.113Z"
   },
   {
    "duration": 20,
    "start_time": "2022-12-26T18:03:46.263Z"
   },
   {
    "duration": 9,
    "start_time": "2022-12-26T18:03:46.285Z"
   },
   {
    "duration": 6,
    "start_time": "2022-12-26T18:03:46.405Z"
   },
   {
    "duration": 17,
    "start_time": "2022-12-26T18:03:46.412Z"
   },
   {
    "duration": 24,
    "start_time": "2022-12-26T18:03:46.431Z"
   },
   {
    "duration": 142,
    "start_time": "2022-12-26T18:03:46.457Z"
   },
   {
    "duration": 156,
    "start_time": "2022-12-26T18:03:46.600Z"
   },
   {
    "duration": 19,
    "start_time": "2022-12-26T18:03:46.758Z"
   },
   {
    "duration": 7,
    "start_time": "2022-12-26T18:03:46.779Z"
   },
   {
    "duration": 32,
    "start_time": "2022-12-26T18:03:46.788Z"
   },
   {
    "duration": 168,
    "start_time": "2022-12-26T18:03:46.821Z"
   },
   {
    "duration": 145,
    "start_time": "2022-12-26T18:03:46.991Z"
   },
   {
    "duration": 15,
    "start_time": "2022-12-26T18:03:47.137Z"
   },
   {
    "duration": 20,
    "start_time": "2022-12-26T18:03:47.154Z"
   },
   {
    "duration": 8,
    "start_time": "2022-12-26T18:03:47.175Z"
   },
   {
    "duration": 31,
    "start_time": "2022-12-26T18:03:47.184Z"
   },
   {
    "duration": 49,
    "start_time": "2022-12-26T18:03:47.216Z"
   },
   {
    "duration": 23,
    "start_time": "2022-12-26T18:03:47.267Z"
   },
   {
    "duration": 7,
    "start_time": "2022-12-26T18:03:47.292Z"
   },
   {
    "duration": 9,
    "start_time": "2022-12-26T18:03:47.301Z"
   },
   {
    "duration": 42,
    "start_time": "2022-12-26T18:03:47.312Z"
   },
   {
    "duration": 5,
    "start_time": "2022-12-26T18:03:47.356Z"
   },
   {
    "duration": 11,
    "start_time": "2022-12-26T18:03:47.363Z"
   },
   {
    "duration": 7,
    "start_time": "2022-12-26T18:03:47.376Z"
   },
   {
    "duration": 11,
    "start_time": "2022-12-26T18:03:47.385Z"
   },
   {
    "duration": 13,
    "start_time": "2022-12-26T18:03:47.397Z"
   },
   {
    "duration": 8,
    "start_time": "2022-12-26T18:03:47.411Z"
   },
   {
    "duration": 37,
    "start_time": "2022-12-26T18:03:47.421Z"
   },
   {
    "duration": 15,
    "start_time": "2022-12-26T18:03:47.459Z"
   },
   {
    "duration": 26,
    "start_time": "2022-12-26T18:03:47.475Z"
   },
   {
    "duration": 55,
    "start_time": "2022-12-26T18:03:47.503Z"
   },
   {
    "duration": 31,
    "start_time": "2022-12-26T18:03:47.559Z"
   },
   {
    "duration": 30,
    "start_time": "2022-12-26T18:03:47.592Z"
   },
   {
    "duration": 402,
    "start_time": "2022-12-26T18:03:47.624Z"
   },
   {
    "duration": 5,
    "start_time": "2022-12-26T18:03:48.028Z"
   },
   {
    "duration": 24,
    "start_time": "2022-12-26T18:03:48.035Z"
   },
   {
    "duration": 291,
    "start_time": "2022-12-26T18:03:48.061Z"
   },
   {
    "duration": 11,
    "start_time": "2022-12-26T18:03:48.354Z"
   },
   {
    "duration": 307,
    "start_time": "2022-12-26T18:03:48.368Z"
   },
   {
    "duration": 10,
    "start_time": "2022-12-26T18:03:48.677Z"
   },
   {
    "duration": 427,
    "start_time": "2022-12-26T18:03:48.689Z"
   },
   {
    "duration": 12,
    "start_time": "2022-12-26T18:03:49.118Z"
   },
   {
    "duration": 20,
    "start_time": "2022-12-26T18:03:49.132Z"
   },
   {
    "duration": 8,
    "start_time": "2022-12-26T18:03:49.155Z"
   },
   {
    "duration": 18,
    "start_time": "2022-12-26T18:03:49.165Z"
   },
   {
    "duration": 22,
    "start_time": "2022-12-26T18:03:49.185Z"
   },
   {
    "duration": 320,
    "start_time": "2022-12-26T18:03:49.209Z"
   },
   {
    "duration": 21,
    "start_time": "2022-12-26T18:03:49.531Z"
   },
   {
    "duration": 166,
    "start_time": "2022-12-26T18:03:49.554Z"
   },
   {
    "duration": 12,
    "start_time": "2022-12-26T18:03:49.722Z"
   },
   {
    "duration": 194,
    "start_time": "2022-12-26T18:03:49.736Z"
   },
   {
    "duration": 20,
    "start_time": "2022-12-26T18:03:49.932Z"
   },
   {
    "duration": 200,
    "start_time": "2022-12-26T18:03:49.954Z"
   },
   {
    "duration": 8,
    "start_time": "2022-12-26T18:03:50.156Z"
   },
   {
    "duration": 149,
    "start_time": "2022-12-26T18:03:50.166Z"
   },
   {
    "duration": 10,
    "start_time": "2022-12-26T18:03:50.316Z"
   },
   {
    "duration": 174,
    "start_time": "2022-12-26T18:03:50.328Z"
   },
   {
    "duration": 11,
    "start_time": "2022-12-26T18:03:50.504Z"
   },
   {
    "duration": 178,
    "start_time": "2022-12-26T18:03:50.517Z"
   },
   {
    "duration": 11,
    "start_time": "2022-12-26T18:03:50.697Z"
   },
   {
    "duration": 175,
    "start_time": "2022-12-26T18:03:50.710Z"
   },
   {
    "duration": 10,
    "start_time": "2022-12-26T18:03:50.887Z"
   },
   {
    "duration": 178,
    "start_time": "2022-12-26T18:03:50.899Z"
   },
   {
    "duration": 8,
    "start_time": "2022-12-26T18:03:51.079Z"
   },
   {
    "duration": 9,
    "start_time": "2022-12-26T18:03:51.089Z"
   },
   {
    "duration": 300,
    "start_time": "2022-12-26T18:03:51.100Z"
   },
   {
    "duration": 6,
    "start_time": "2022-12-26T18:03:51.402Z"
   },
   {
    "duration": 188,
    "start_time": "2022-12-26T18:03:51.410Z"
   },
   {
    "duration": 322,
    "start_time": "2022-12-26T18:03:51.599Z"
   },
   {
    "duration": 6,
    "start_time": "2022-12-26T18:03:51.923Z"
   },
   {
    "duration": 22,
    "start_time": "2022-12-26T18:03:51.931Z"
   },
   {
    "duration": 12,
    "start_time": "2022-12-26T18:03:51.956Z"
   },
   {
    "duration": 6,
    "start_time": "2022-12-26T18:03:51.970Z"
   },
   {
    "duration": 10,
    "start_time": "2022-12-26T18:03:51.978Z"
   },
   {
    "duration": 18,
    "start_time": "2022-12-26T18:03:51.990Z"
   },
   {
    "duration": 354,
    "start_time": "2022-12-26T18:03:52.010Z"
   },
   {
    "duration": 5,
    "start_time": "2022-12-26T18:03:52.366Z"
   },
   {
    "duration": 349,
    "start_time": "2022-12-26T18:03:52.372Z"
   },
   {
    "duration": 4,
    "start_time": "2022-12-26T18:03:52.723Z"
   },
   {
    "duration": 288,
    "start_time": "2022-12-26T18:03:52.729Z"
   },
   {
    "duration": 5,
    "start_time": "2022-12-26T18:03:53.019Z"
   },
   {
    "duration": 37,
    "start_time": "2022-12-26T18:03:53.026Z"
   },
   {
    "duration": 14,
    "start_time": "2022-12-26T18:03:53.065Z"
   },
   {
    "duration": 144,
    "start_time": "2022-12-26T18:03:53.085Z"
   },
   {
    "duration": 22,
    "start_time": "2022-12-26T18:03:53.231Z"
   },
   {
    "duration": 16,
    "start_time": "2022-12-26T18:03:53.255Z"
   },
   {
    "duration": 164,
    "start_time": "2022-12-26T18:03:53.273Z"
   },
   {
    "duration": 4,
    "start_time": "2022-12-26T18:03:53.439Z"
   },
   {
    "duration": 16,
    "start_time": "2022-12-26T18:03:53.451Z"
   },
   {
    "duration": 4,
    "start_time": "2022-12-26T18:03:53.468Z"
   },
   {
    "duration": 168,
    "start_time": "2022-12-26T18:03:53.474Z"
   },
   {
    "duration": 21,
    "start_time": "2022-12-26T18:03:53.643Z"
   },
   {
    "duration": 289,
    "start_time": "2022-12-26T18:03:53.665Z"
   },
   {
    "duration": 15,
    "start_time": "2022-12-26T18:03:53.956Z"
   },
   {
    "duration": 7,
    "start_time": "2022-12-26T18:03:53.973Z"
   },
   {
    "duration": 11,
    "start_time": "2022-12-26T18:03:53.981Z"
   },
   {
    "duration": 5,
    "start_time": "2022-12-26T18:03:53.994Z"
   },
   {
    "duration": 20,
    "start_time": "2022-12-26T18:03:54.001Z"
   },
   {
    "duration": 68,
    "start_time": "2022-12-26T18:25:01.679Z"
   },
   {
    "duration": 42,
    "start_time": "2022-12-26T18:25:21.887Z"
   },
   {
    "duration": 3,
    "start_time": "2022-12-26T18:26:23.745Z"
   },
   {
    "duration": 7,
    "start_time": "2022-12-26T18:26:31.470Z"
   },
   {
    "duration": 11,
    "start_time": "2022-12-26T18:26:37.758Z"
   },
   {
    "duration": 19,
    "start_time": "2022-12-26T18:27:10.327Z"
   },
   {
    "duration": 11,
    "start_time": "2022-12-26T18:27:40.118Z"
   },
   {
    "duration": 19,
    "start_time": "2022-12-26T18:28:17.175Z"
   },
   {
    "duration": 138,
    "start_time": "2022-12-26T18:33:44.377Z"
   },
   {
    "duration": 10,
    "start_time": "2022-12-26T18:41:09.044Z"
   },
   {
    "duration": 14,
    "start_time": "2022-12-26T18:41:18.438Z"
   },
   {
    "duration": 704,
    "start_time": "2022-12-26T18:45:24.414Z"
   },
   {
    "duration": 92,
    "start_time": "2022-12-26T18:45:25.120Z"
   },
   {
    "duration": 101,
    "start_time": "2022-12-26T18:45:25.214Z"
   },
   {
    "duration": 15,
    "start_time": "2022-12-26T18:45:25.317Z"
   },
   {
    "duration": 1956,
    "start_time": "2022-12-26T18:45:25.335Z"
   },
   {
    "duration": 9,
    "start_time": "2022-12-26T18:45:27.293Z"
   },
   {
    "duration": 13,
    "start_time": "2022-12-26T18:45:27.304Z"
   },
   {
    "duration": 13,
    "start_time": "2022-12-26T18:45:27.318Z"
   },
   {
    "duration": 7,
    "start_time": "2022-12-26T18:45:27.332Z"
   },
   {
    "duration": 17,
    "start_time": "2022-12-26T18:45:27.341Z"
   },
   {
    "duration": 6,
    "start_time": "2022-12-26T18:45:27.360Z"
   },
   {
    "duration": 10,
    "start_time": "2022-12-26T18:45:27.367Z"
   },
   {
    "duration": 5,
    "start_time": "2022-12-26T18:45:27.379Z"
   },
   {
    "duration": 9,
    "start_time": "2022-12-26T18:45:27.388Z"
   },
   {
    "duration": 8,
    "start_time": "2022-12-26T18:45:27.399Z"
   },
   {
    "duration": 9,
    "start_time": "2022-12-26T18:45:27.409Z"
   },
   {
    "duration": 11,
    "start_time": "2022-12-26T18:45:27.452Z"
   },
   {
    "duration": 27,
    "start_time": "2022-12-26T18:45:27.465Z"
   },
   {
    "duration": 18,
    "start_time": "2022-12-26T18:45:27.493Z"
   },
   {
    "duration": 150,
    "start_time": "2022-12-26T18:45:27.513Z"
   },
   {
    "duration": 120,
    "start_time": "2022-12-26T18:45:27.665Z"
   },
   {
    "duration": 16,
    "start_time": "2022-12-26T18:45:27.786Z"
   },
   {
    "duration": 15,
    "start_time": "2022-12-26T18:45:27.804Z"
   },
   {
    "duration": 36,
    "start_time": "2022-12-26T18:45:27.820Z"
   },
   {
    "duration": 5,
    "start_time": "2022-12-26T18:45:27.858Z"
   },
   {
    "duration": 11,
    "start_time": "2022-12-26T18:45:27.864Z"
   },
   {
    "duration": 4,
    "start_time": "2022-12-26T18:45:27.877Z"
   },
   {
    "duration": 19,
    "start_time": "2022-12-26T18:45:27.883Z"
   },
   {
    "duration": 4,
    "start_time": "2022-12-26T18:45:27.904Z"
   },
   {
    "duration": 262,
    "start_time": "2022-12-26T18:45:27.910Z"
   },
   {
    "duration": 151,
    "start_time": "2022-12-26T18:45:28.174Z"
   },
   {
    "duration": 28,
    "start_time": "2022-12-26T18:45:28.327Z"
   },
   {
    "duration": 38,
    "start_time": "2022-12-26T18:45:28.356Z"
   },
   {
    "duration": 5,
    "start_time": "2022-12-26T18:45:28.397Z"
   },
   {
    "duration": 49,
    "start_time": "2022-12-26T18:45:28.403Z"
   },
   {
    "duration": 9,
    "start_time": "2022-12-26T18:45:28.454Z"
   },
   {
    "duration": 18,
    "start_time": "2022-12-26T18:45:28.465Z"
   },
   {
    "duration": 147,
    "start_time": "2022-12-26T18:45:28.484Z"
   },
   {
    "duration": 28,
    "start_time": "2022-12-26T18:45:28.633Z"
   },
   {
    "duration": 9,
    "start_time": "2022-12-26T18:45:28.663Z"
   },
   {
    "duration": 6,
    "start_time": "2022-12-26T18:45:28.766Z"
   },
   {
    "duration": 18,
    "start_time": "2022-12-26T18:45:28.774Z"
   },
   {
    "duration": 6,
    "start_time": "2022-12-26T18:45:28.794Z"
   },
   {
    "duration": 153,
    "start_time": "2022-12-26T18:45:28.802Z"
   },
   {
    "duration": 157,
    "start_time": "2022-12-26T18:45:28.957Z"
   },
   {
    "duration": 20,
    "start_time": "2022-12-26T18:45:29.116Z"
   },
   {
    "duration": 9,
    "start_time": "2022-12-26T18:45:29.153Z"
   },
   {
    "duration": 18,
    "start_time": "2022-12-26T18:45:29.164Z"
   },
   {
    "duration": 152,
    "start_time": "2022-12-26T18:45:29.184Z"
   },
   {
    "duration": 142,
    "start_time": "2022-12-26T18:45:29.338Z"
   },
   {
    "duration": 9,
    "start_time": "2022-12-26T18:45:29.482Z"
   },
   {
    "duration": 29,
    "start_time": "2022-12-26T18:45:29.492Z"
   },
   {
    "duration": 6,
    "start_time": "2022-12-26T18:45:29.523Z"
   },
   {
    "duration": 42,
    "start_time": "2022-12-26T18:45:29.531Z"
   },
   {
    "duration": 22,
    "start_time": "2022-12-26T18:45:29.575Z"
   },
   {
    "duration": 26,
    "start_time": "2022-12-26T18:45:29.598Z"
   },
   {
    "duration": 30,
    "start_time": "2022-12-26T18:45:29.627Z"
   },
   {
    "duration": 13,
    "start_time": "2022-12-26T18:45:29.659Z"
   },
   {
    "duration": 25,
    "start_time": "2022-12-26T18:45:29.674Z"
   },
   {
    "duration": 6,
    "start_time": "2022-12-26T18:45:29.702Z"
   },
   {
    "duration": 9,
    "start_time": "2022-12-26T18:45:29.710Z"
   },
   {
    "duration": 8,
    "start_time": "2022-12-26T18:45:29.721Z"
   },
   {
    "duration": 11,
    "start_time": "2022-12-26T18:45:29.751Z"
   },
   {
    "duration": 9,
    "start_time": "2022-12-26T18:45:29.764Z"
   },
   {
    "duration": 9,
    "start_time": "2022-12-26T18:45:29.775Z"
   },
   {
    "duration": 11,
    "start_time": "2022-12-26T18:45:29.786Z"
   },
   {
    "duration": 14,
    "start_time": "2022-12-26T18:45:29.798Z"
   },
   {
    "duration": 60,
    "start_time": "2022-12-26T18:45:29.813Z"
   },
   {
    "duration": 26,
    "start_time": "2022-12-26T18:45:29.874Z"
   },
   {
    "duration": 50,
    "start_time": "2022-12-26T18:45:29.902Z"
   },
   {
    "duration": 26,
    "start_time": "2022-12-26T18:45:29.954Z"
   },
   {
    "duration": 329,
    "start_time": "2022-12-26T18:45:29.982Z"
   },
   {
    "duration": 5,
    "start_time": "2022-12-26T18:45:30.313Z"
   },
   {
    "duration": 47,
    "start_time": "2022-12-26T18:45:30.319Z"
   },
   {
    "duration": 230,
    "start_time": "2022-12-26T18:45:30.368Z"
   },
   {
    "duration": 10,
    "start_time": "2022-12-26T18:45:30.600Z"
   },
   {
    "duration": 280,
    "start_time": "2022-12-26T18:45:30.612Z"
   },
   {
    "duration": 9,
    "start_time": "2022-12-26T18:45:30.893Z"
   },
   {
    "duration": 467,
    "start_time": "2022-12-26T18:45:30.904Z"
   },
   {
    "duration": 9,
    "start_time": "2022-12-26T18:45:31.373Z"
   },
   {
    "duration": 4,
    "start_time": "2022-12-26T18:45:31.384Z"
   },
   {
    "duration": 7,
    "start_time": "2022-12-26T18:45:31.390Z"
   },
   {
    "duration": 19,
    "start_time": "2022-12-26T18:45:31.398Z"
   },
   {
    "duration": 6,
    "start_time": "2022-12-26T18:45:31.419Z"
   },
   {
    "duration": 244,
    "start_time": "2022-12-26T18:45:31.427Z"
   },
   {
    "duration": 11,
    "start_time": "2022-12-26T18:45:31.673Z"
   },
   {
    "duration": 270,
    "start_time": "2022-12-26T18:45:31.686Z"
   },
   {
    "duration": 9,
    "start_time": "2022-12-26T18:45:31.957Z"
   },
   {
    "duration": 238,
    "start_time": "2022-12-26T18:45:31.968Z"
   },
   {
    "duration": 8,
    "start_time": "2022-12-26T18:45:32.208Z"
   },
   {
    "duration": 174,
    "start_time": "2022-12-26T18:45:32.218Z"
   },
   {
    "duration": 8,
    "start_time": "2022-12-26T18:45:32.394Z"
   },
   {
    "duration": 173,
    "start_time": "2022-12-26T18:45:32.404Z"
   },
   {
    "duration": 15,
    "start_time": "2022-12-26T18:45:32.579Z"
   },
   {
    "duration": 176,
    "start_time": "2022-12-26T18:45:32.596Z"
   },
   {
    "duration": 10,
    "start_time": "2022-12-26T18:45:32.774Z"
   },
   {
    "duration": 182,
    "start_time": "2022-12-26T18:45:32.786Z"
   },
   {
    "duration": 12,
    "start_time": "2022-12-26T18:45:32.970Z"
   },
   {
    "duration": 177,
    "start_time": "2022-12-26T18:45:32.984Z"
   },
   {
    "duration": 10,
    "start_time": "2022-12-26T18:45:33.163Z"
   },
   {
    "duration": 150,
    "start_time": "2022-12-26T18:45:33.175Z"
   },
   {
    "duration": 9,
    "start_time": "2022-12-26T18:45:33.327Z"
   },
   {
    "duration": 15,
    "start_time": "2022-12-26T18:45:33.338Z"
   },
   {
    "duration": 263,
    "start_time": "2022-12-26T18:45:33.355Z"
   },
   {
    "duration": 7,
    "start_time": "2022-12-26T18:45:33.619Z"
   },
   {
    "duration": 154,
    "start_time": "2022-12-26T18:45:33.627Z"
   },
   {
    "duration": 261,
    "start_time": "2022-12-26T18:45:33.783Z"
   },
   {
    "duration": 9,
    "start_time": "2022-12-26T18:45:34.046Z"
   },
   {
    "duration": 13,
    "start_time": "2022-12-26T18:45:34.056Z"
   },
   {
    "duration": 9,
    "start_time": "2022-12-26T18:45:34.070Z"
   },
   {
    "duration": 3,
    "start_time": "2022-12-26T18:45:34.081Z"
   },
   {
    "duration": 6,
    "start_time": "2022-12-26T18:45:34.086Z"
   },
   {
    "duration": 7,
    "start_time": "2022-12-26T18:45:34.094Z"
   },
   {
    "duration": 307,
    "start_time": "2022-12-26T18:45:34.102Z"
   },
   {
    "duration": 5,
    "start_time": "2022-12-26T18:45:34.410Z"
   },
   {
    "duration": 284,
    "start_time": "2022-12-26T18:45:34.417Z"
   },
   {
    "duration": 4,
    "start_time": "2022-12-26T18:45:34.703Z"
   },
   {
    "duration": 298,
    "start_time": "2022-12-26T18:45:34.709Z"
   },
   {
    "duration": 6,
    "start_time": "2022-12-26T18:45:35.009Z"
   },
   {
    "duration": 42,
    "start_time": "2022-12-26T18:45:35.017Z"
   },
   {
    "duration": 19,
    "start_time": "2022-12-26T18:45:35.061Z"
   },
   {
    "duration": 200,
    "start_time": "2022-12-26T18:45:35.087Z"
   },
   {
    "duration": 17,
    "start_time": "2022-12-26T18:45:35.290Z"
   },
   {
    "duration": 18,
    "start_time": "2022-12-26T18:45:35.310Z"
   },
   {
    "duration": 191,
    "start_time": "2022-12-26T18:45:35.330Z"
   },
   {
    "duration": 4,
    "start_time": "2022-12-26T18:45:35.523Z"
   },
   {
    "duration": 28,
    "start_time": "2022-12-26T18:45:35.529Z"
   },
   {
    "duration": 6,
    "start_time": "2022-12-26T18:45:35.558Z"
   },
   {
    "duration": 161,
    "start_time": "2022-12-26T18:45:35.566Z"
   },
   {
    "duration": 26,
    "start_time": "2022-12-26T18:45:35.729Z"
   },
   {
    "duration": 273,
    "start_time": "2022-12-26T18:45:35.758Z"
   },
   {
    "duration": 21,
    "start_time": "2022-12-26T18:45:36.033Z"
   },
   {
    "duration": 8,
    "start_time": "2022-12-26T18:45:36.055Z"
   },
   {
    "duration": 14,
    "start_time": "2022-12-26T18:45:36.065Z"
   },
   {
    "duration": 4,
    "start_time": "2022-12-26T18:45:36.081Z"
   },
   {
    "duration": 23,
    "start_time": "2022-12-26T18:45:36.087Z"
   },
   {
    "duration": 6,
    "start_time": "2022-12-26T18:45:36.113Z"
   },
   {
    "duration": 41,
    "start_time": "2022-12-26T18:45:36.121Z"
   },
   {
    "duration": 162,
    "start_time": "2022-12-26T18:45:36.163Z"
   },
   {
    "duration": 27,
    "start_time": "2022-12-26T18:45:36.327Z"
   },
   {
    "duration": 10,
    "start_time": "2022-12-26T18:53:30.968Z"
   },
   {
    "duration": 6,
    "start_time": "2022-12-26T18:55:28.433Z"
   },
   {
    "duration": 10,
    "start_time": "2022-12-26T18:55:42.505Z"
   },
   {
    "duration": 978,
    "start_time": "2022-12-27T19:07:00.510Z"
   },
   {
    "duration": 155,
    "start_time": "2022-12-27T19:07:01.490Z"
   },
   {
    "duration": 114,
    "start_time": "2022-12-27T19:07:01.650Z"
   },
   {
    "duration": 18,
    "start_time": "2022-12-27T19:07:01.766Z"
   },
   {
    "duration": 2278,
    "start_time": "2022-12-27T19:07:01.786Z"
   },
   {
    "duration": 11,
    "start_time": "2022-12-27T19:07:04.066Z"
   },
   {
    "duration": 19,
    "start_time": "2022-12-27T19:07:04.079Z"
   },
   {
    "duration": 11,
    "start_time": "2022-12-27T19:07:04.100Z"
   },
   {
    "duration": 37,
    "start_time": "2022-12-27T19:07:04.114Z"
   },
   {
    "duration": 10,
    "start_time": "2022-12-27T19:07:04.153Z"
   },
   {
    "duration": 10,
    "start_time": "2022-12-27T19:07:04.165Z"
   },
   {
    "duration": 22,
    "start_time": "2022-12-27T19:07:04.176Z"
   },
   {
    "duration": 10,
    "start_time": "2022-12-27T19:07:04.200Z"
   },
   {
    "duration": 15,
    "start_time": "2022-12-27T19:07:04.212Z"
   },
   {
    "duration": 24,
    "start_time": "2022-12-27T19:07:04.229Z"
   },
   {
    "duration": 6,
    "start_time": "2022-12-27T19:07:04.255Z"
   },
   {
    "duration": 18,
    "start_time": "2022-12-27T19:07:04.263Z"
   },
   {
    "duration": 32,
    "start_time": "2022-12-27T19:07:04.283Z"
   },
   {
    "duration": 40,
    "start_time": "2022-12-27T19:07:04.317Z"
   },
   {
    "duration": 180,
    "start_time": "2022-12-27T19:07:04.358Z"
   },
   {
    "duration": 151,
    "start_time": "2022-12-27T19:07:04.539Z"
   },
   {
    "duration": 18,
    "start_time": "2022-12-27T19:07:04.692Z"
   },
   {
    "duration": 17,
    "start_time": "2022-12-27T19:07:04.713Z"
   },
   {
    "duration": 13,
    "start_time": "2022-12-27T19:07:04.751Z"
   },
   {
    "duration": 6,
    "start_time": "2022-12-27T19:07:04.766Z"
   },
   {
    "duration": 15,
    "start_time": "2022-12-27T19:07:04.774Z"
   },
   {
    "duration": 6,
    "start_time": "2022-12-27T19:07:04.793Z"
   },
   {
    "duration": 63,
    "start_time": "2022-12-27T19:07:04.801Z"
   },
   {
    "duration": 5,
    "start_time": "2022-12-27T19:07:04.866Z"
   },
   {
    "duration": 270,
    "start_time": "2022-12-27T19:07:04.873Z"
   },
   {
    "duration": 169,
    "start_time": "2022-12-27T19:07:05.151Z"
   },
   {
    "duration": 37,
    "start_time": "2022-12-27T19:07:05.322Z"
   },
   {
    "duration": 44,
    "start_time": "2022-12-27T19:07:05.361Z"
   },
   {
    "duration": 11,
    "start_time": "2022-12-27T19:07:05.407Z"
   },
   {
    "duration": 46,
    "start_time": "2022-12-27T19:07:05.421Z"
   },
   {
    "duration": 14,
    "start_time": "2022-12-27T19:07:05.469Z"
   },
   {
    "duration": 19,
    "start_time": "2022-12-27T19:07:05.485Z"
   },
   {
    "duration": 177,
    "start_time": "2022-12-27T19:07:05.507Z"
   },
   {
    "duration": 23,
    "start_time": "2022-12-27T19:07:05.686Z"
   },
   {
    "duration": 16,
    "start_time": "2022-12-27T19:07:05.711Z"
   },
   {
    "duration": 24,
    "start_time": "2022-12-27T19:07:05.729Z"
   },
   {
    "duration": 17,
    "start_time": "2022-12-27T19:07:05.755Z"
   },
   {
    "duration": 13,
    "start_time": "2022-12-27T19:07:05.774Z"
   },
   {
    "duration": 238,
    "start_time": "2022-12-27T19:07:05.789Z"
   },
   {
    "duration": 201,
    "start_time": "2022-12-27T19:07:06.029Z"
   },
   {
    "duration": 31,
    "start_time": "2022-12-27T19:07:06.232Z"
   },
   {
    "duration": 8,
    "start_time": "2022-12-27T19:07:06.265Z"
   },
   {
    "duration": 25,
    "start_time": "2022-12-27T19:07:06.275Z"
   },
   {
    "duration": 158,
    "start_time": "2022-12-27T19:07:06.302Z"
   },
   {
    "duration": 169,
    "start_time": "2022-12-27T19:07:06.463Z"
   },
   {
    "duration": 21,
    "start_time": "2022-12-27T19:07:06.634Z"
   },
   {
    "duration": 30,
    "start_time": "2022-12-27T19:07:06.657Z"
   },
   {
    "duration": 9,
    "start_time": "2022-12-27T19:07:06.689Z"
   },
   {
    "duration": 39,
    "start_time": "2022-12-27T19:07:06.700Z"
   },
   {
    "duration": 31,
    "start_time": "2022-12-27T19:07:06.741Z"
   },
   {
    "duration": 31,
    "start_time": "2022-12-27T19:07:06.774Z"
   },
   {
    "duration": 10,
    "start_time": "2022-12-27T19:07:06.807Z"
   },
   {
    "duration": 32,
    "start_time": "2022-12-27T19:07:06.820Z"
   },
   {
    "duration": 18,
    "start_time": "2022-12-27T19:07:06.854Z"
   },
   {
    "duration": 7,
    "start_time": "2022-12-27T19:07:06.874Z"
   },
   {
    "duration": 12,
    "start_time": "2022-12-27T19:07:06.883Z"
   },
   {
    "duration": 17,
    "start_time": "2022-12-27T19:07:06.897Z"
   },
   {
    "duration": 35,
    "start_time": "2022-12-27T19:07:06.916Z"
   },
   {
    "duration": 11,
    "start_time": "2022-12-27T19:07:06.953Z"
   },
   {
    "duration": 15,
    "start_time": "2022-12-27T19:07:06.965Z"
   },
   {
    "duration": 8,
    "start_time": "2022-12-27T19:07:06.982Z"
   },
   {
    "duration": 25,
    "start_time": "2022-12-27T19:07:06.992Z"
   },
   {
    "duration": 51,
    "start_time": "2022-12-27T19:07:07.019Z"
   },
   {
    "duration": 30,
    "start_time": "2022-12-27T19:07:07.071Z"
   },
   {
    "duration": 52,
    "start_time": "2022-12-27T19:07:07.104Z"
   },
   {
    "duration": 31,
    "start_time": "2022-12-27T19:07:07.157Z"
   },
   {
    "duration": 383,
    "start_time": "2022-12-27T19:07:07.189Z"
   },
   {
    "duration": 6,
    "start_time": "2022-12-27T19:07:07.574Z"
   },
   {
    "duration": 25,
    "start_time": "2022-12-27T19:07:07.583Z"
   },
   {
    "duration": 279,
    "start_time": "2022-12-27T19:07:07.610Z"
   },
   {
    "duration": 10,
    "start_time": "2022-12-27T19:07:07.891Z"
   },
   {
    "duration": 274,
    "start_time": "2022-12-27T19:07:07.903Z"
   },
   {
    "duration": 12,
    "start_time": "2022-12-27T19:07:08.179Z"
   },
   {
    "duration": 416,
    "start_time": "2022-12-27T19:07:08.192Z"
   },
   {
    "duration": 11,
    "start_time": "2022-12-27T19:07:08.610Z"
   },
   {
    "duration": 22,
    "start_time": "2022-12-27T19:07:08.628Z"
   },
   {
    "duration": 6,
    "start_time": "2022-12-27T19:07:08.652Z"
   },
   {
    "duration": 11,
    "start_time": "2022-12-27T19:07:08.659Z"
   },
   {
    "duration": 4,
    "start_time": "2022-12-27T19:07:08.672Z"
   },
   {
    "duration": 311,
    "start_time": "2022-12-27T19:07:08.678Z"
   },
   {
    "duration": 10,
    "start_time": "2022-12-27T19:07:08.991Z"
   },
   {
    "duration": 196,
    "start_time": "2022-12-27T19:07:09.003Z"
   },
   {
    "duration": 14,
    "start_time": "2022-12-27T19:07:09.202Z"
   },
   {
    "duration": 192,
    "start_time": "2022-12-27T19:07:09.218Z"
   },
   {
    "duration": 11,
    "start_time": "2022-12-27T19:07:09.412Z"
   },
   {
    "duration": 251,
    "start_time": "2022-12-27T19:07:09.425Z"
   },
   {
    "duration": 14,
    "start_time": "2022-12-27T19:07:09.680Z"
   },
   {
    "duration": 166,
    "start_time": "2022-12-27T19:07:09.696Z"
   },
   {
    "duration": 11,
    "start_time": "2022-12-27T19:07:09.864Z"
   },
   {
    "duration": 209,
    "start_time": "2022-12-27T19:07:09.877Z"
   },
   {
    "duration": 9,
    "start_time": "2022-12-27T19:07:10.088Z"
   },
   {
    "duration": 203,
    "start_time": "2022-12-27T19:07:10.099Z"
   },
   {
    "duration": 11,
    "start_time": "2022-12-27T19:07:10.304Z"
   },
   {
    "duration": 195,
    "start_time": "2022-12-27T19:07:10.317Z"
   },
   {
    "duration": 11,
    "start_time": "2022-12-27T19:07:10.514Z"
   },
   {
    "duration": 194,
    "start_time": "2022-12-27T19:07:10.527Z"
   },
   {
    "duration": 9,
    "start_time": "2022-12-27T19:07:10.723Z"
   },
   {
    "duration": 18,
    "start_time": "2022-12-27T19:07:10.735Z"
   },
   {
    "duration": 298,
    "start_time": "2022-12-27T19:07:10.755Z"
   },
   {
    "duration": 7,
    "start_time": "2022-12-27T19:07:11.055Z"
   },
   {
    "duration": 184,
    "start_time": "2022-12-27T19:07:11.064Z"
   },
   {
    "duration": 299,
    "start_time": "2022-12-27T19:07:11.251Z"
   },
   {
    "duration": 5,
    "start_time": "2022-12-27T19:07:11.553Z"
   },
   {
    "duration": 33,
    "start_time": "2022-12-27T19:07:11.560Z"
   },
   {
    "duration": 12,
    "start_time": "2022-12-27T19:07:11.595Z"
   },
   {
    "duration": 12,
    "start_time": "2022-12-27T19:07:11.609Z"
   },
   {
    "duration": 44,
    "start_time": "2022-12-27T19:07:11.622Z"
   },
   {
    "duration": 16,
    "start_time": "2022-12-27T19:07:11.668Z"
   },
   {
    "duration": 295,
    "start_time": "2022-12-27T19:07:11.686Z"
   },
   {
    "duration": 6,
    "start_time": "2022-12-27T19:07:11.983Z"
   },
   {
    "duration": 306,
    "start_time": "2022-12-27T19:07:11.991Z"
   },
   {
    "duration": 5,
    "start_time": "2022-12-27T19:07:12.299Z"
   },
   {
    "duration": 301,
    "start_time": "2022-12-27T19:07:12.306Z"
   },
   {
    "duration": 4,
    "start_time": "2022-12-27T19:07:12.609Z"
   },
   {
    "duration": 46,
    "start_time": "2022-12-27T19:07:12.615Z"
   },
   {
    "duration": 20,
    "start_time": "2022-12-27T19:07:12.663Z"
   },
   {
    "duration": 169,
    "start_time": "2022-12-27T19:07:12.684Z"
   },
   {
    "duration": 16,
    "start_time": "2022-12-27T19:07:12.854Z"
   },
   {
    "duration": 20,
    "start_time": "2022-12-27T19:07:12.873Z"
   },
   {
    "duration": 183,
    "start_time": "2022-12-27T19:07:12.896Z"
   },
   {
    "duration": 5,
    "start_time": "2022-12-27T19:07:13.081Z"
   },
   {
    "duration": 25,
    "start_time": "2022-12-27T19:07:13.088Z"
   },
   {
    "duration": 11,
    "start_time": "2022-12-27T19:07:13.115Z"
   },
   {
    "duration": 191,
    "start_time": "2022-12-27T19:07:13.128Z"
   },
   {
    "duration": 16,
    "start_time": "2022-12-27T19:07:13.321Z"
   },
   {
    "duration": 287,
    "start_time": "2022-12-27T19:07:13.350Z"
   },
   {
    "duration": 23,
    "start_time": "2022-12-27T19:07:13.639Z"
   },
   {
    "duration": 12,
    "start_time": "2022-12-27T19:07:13.664Z"
   },
   {
    "duration": 19,
    "start_time": "2022-12-27T19:07:13.678Z"
   },
   {
    "duration": 6,
    "start_time": "2022-12-27T19:07:13.699Z"
   },
   {
    "duration": 21,
    "start_time": "2022-12-27T19:07:13.706Z"
   },
   {
    "duration": 7,
    "start_time": "2022-12-27T19:07:13.752Z"
   },
   {
    "duration": 22,
    "start_time": "2022-12-27T19:07:13.760Z"
   },
   {
    "duration": 177,
    "start_time": "2022-12-27T19:07:13.784Z"
   },
   {
    "duration": 18,
    "start_time": "2022-12-27T19:07:13.962Z"
   },
   {
    "duration": 756,
    "start_time": "2022-12-28T17:32:43.000Z"
   },
   {
    "duration": 296,
    "start_time": "2022-12-28T17:32:43.758Z"
   },
   {
    "duration": 106,
    "start_time": "2022-12-28T17:32:44.056Z"
   },
   {
    "duration": 19,
    "start_time": "2022-12-28T17:32:44.164Z"
   },
   {
    "duration": 2117,
    "start_time": "2022-12-28T17:32:44.185Z"
   },
   {
    "duration": 10,
    "start_time": "2022-12-28T17:32:46.304Z"
   },
   {
    "duration": 16,
    "start_time": "2022-12-28T17:32:46.315Z"
   },
   {
    "duration": 9,
    "start_time": "2022-12-28T17:32:46.332Z"
   },
   {
    "duration": 9,
    "start_time": "2022-12-28T17:32:46.343Z"
   },
   {
    "duration": 21,
    "start_time": "2022-12-28T17:32:46.353Z"
   },
   {
    "duration": 5,
    "start_time": "2022-12-28T17:32:46.376Z"
   },
   {
    "duration": 17,
    "start_time": "2022-12-28T17:32:46.382Z"
   },
   {
    "duration": 8,
    "start_time": "2022-12-28T17:32:46.400Z"
   },
   {
    "duration": 31,
    "start_time": "2022-12-28T17:32:46.412Z"
   },
   {
    "duration": 41,
    "start_time": "2022-12-28T17:32:46.445Z"
   },
   {
    "duration": 19,
    "start_time": "2022-12-28T17:32:46.487Z"
   },
   {
    "duration": 19,
    "start_time": "2022-12-28T17:32:46.508Z"
   },
   {
    "duration": 33,
    "start_time": "2022-12-28T17:32:46.529Z"
   },
   {
    "duration": 21,
    "start_time": "2022-12-28T17:32:46.564Z"
   },
   {
    "duration": 143,
    "start_time": "2022-12-28T17:32:46.587Z"
   },
   {
    "duration": 122,
    "start_time": "2022-12-28T17:32:46.732Z"
   },
   {
    "duration": 15,
    "start_time": "2022-12-28T17:32:46.856Z"
   },
   {
    "duration": 25,
    "start_time": "2022-12-28T17:32:46.873Z"
   },
   {
    "duration": 10,
    "start_time": "2022-12-28T17:32:46.900Z"
   },
   {
    "duration": 4,
    "start_time": "2022-12-28T17:32:46.911Z"
   },
   {
    "duration": 8,
    "start_time": "2022-12-28T17:32:46.917Z"
   },
   {
    "duration": 4,
    "start_time": "2022-12-28T17:32:46.926Z"
   },
   {
    "duration": 23,
    "start_time": "2022-12-28T17:32:46.932Z"
   },
   {
    "duration": 4,
    "start_time": "2022-12-28T17:32:46.956Z"
   },
   {
    "duration": 238,
    "start_time": "2022-12-28T17:32:46.961Z"
   },
   {
    "duration": 143,
    "start_time": "2022-12-28T17:32:47.201Z"
   },
   {
    "duration": 20,
    "start_time": "2022-12-28T17:32:47.345Z"
   },
   {
    "duration": 43,
    "start_time": "2022-12-28T17:32:47.366Z"
   },
   {
    "duration": 4,
    "start_time": "2022-12-28T17:32:47.410Z"
   },
   {
    "duration": 23,
    "start_time": "2022-12-28T17:32:47.415Z"
   },
   {
    "duration": 10,
    "start_time": "2022-12-28T17:32:47.440Z"
   },
   {
    "duration": 16,
    "start_time": "2022-12-28T17:32:47.451Z"
   },
   {
    "duration": 146,
    "start_time": "2022-12-28T17:32:47.469Z"
   },
   {
    "duration": 20,
    "start_time": "2022-12-28T17:32:47.617Z"
   },
   {
    "duration": 13,
    "start_time": "2022-12-28T17:32:47.639Z"
   },
   {
    "duration": 5,
    "start_time": "2022-12-28T17:32:47.726Z"
   },
   {
    "duration": 17,
    "start_time": "2022-12-28T17:32:47.732Z"
   },
   {
    "duration": 5,
    "start_time": "2022-12-28T17:32:47.750Z"
   },
   {
    "duration": 123,
    "start_time": "2022-12-28T17:32:47.757Z"
   },
   {
    "duration": 158,
    "start_time": "2022-12-28T17:32:47.882Z"
   },
   {
    "duration": 17,
    "start_time": "2022-12-28T17:32:48.042Z"
   },
   {
    "duration": 6,
    "start_time": "2022-12-28T17:32:48.061Z"
   },
   {
    "duration": 40,
    "start_time": "2022-12-28T17:32:48.069Z"
   },
   {
    "duration": 142,
    "start_time": "2022-12-28T17:32:48.110Z"
   },
   {
    "duration": 144,
    "start_time": "2022-12-28T17:32:48.253Z"
   },
   {
    "duration": 8,
    "start_time": "2022-12-28T17:32:48.399Z"
   },
   {
    "duration": 22,
    "start_time": "2022-12-28T17:32:48.409Z"
   },
   {
    "duration": 6,
    "start_time": "2022-12-28T17:32:48.432Z"
   },
   {
    "duration": 27,
    "start_time": "2022-12-28T17:32:48.439Z"
   },
   {
    "duration": 40,
    "start_time": "2022-12-28T17:32:48.467Z"
   },
   {
    "duration": 20,
    "start_time": "2022-12-28T17:32:48.508Z"
   },
   {
    "duration": 9,
    "start_time": "2022-12-28T17:32:48.530Z"
   },
   {
    "duration": 11,
    "start_time": "2022-12-28T17:32:48.540Z"
   },
   {
    "duration": 21,
    "start_time": "2022-12-28T17:32:48.553Z"
   },
   {
    "duration": 22,
    "start_time": "2022-12-28T17:32:48.576Z"
   },
   {
    "duration": 9,
    "start_time": "2022-12-28T17:32:48.599Z"
   },
   {
    "duration": 7,
    "start_time": "2022-12-28T17:32:48.610Z"
   },
   {
    "duration": 7,
    "start_time": "2022-12-28T17:32:48.619Z"
   },
   {
    "duration": 6,
    "start_time": "2022-12-28T17:32:48.627Z"
   },
   {
    "duration": 7,
    "start_time": "2022-12-28T17:32:48.635Z"
   },
   {
    "duration": 7,
    "start_time": "2022-12-28T17:32:48.644Z"
   },
   {
    "duration": 55,
    "start_time": "2022-12-28T17:32:48.653Z"
   },
   {
    "duration": 25,
    "start_time": "2022-12-28T17:32:48.710Z"
   },
   {
    "duration": 23,
    "start_time": "2022-12-28T17:32:48.737Z"
   },
   {
    "duration": 48,
    "start_time": "2022-12-28T17:32:48.762Z"
   },
   {
    "duration": 22,
    "start_time": "2022-12-28T17:32:48.812Z"
   },
   {
    "duration": 347,
    "start_time": "2022-12-28T17:32:48.835Z"
   },
   {
    "duration": 4,
    "start_time": "2022-12-28T17:32:49.185Z"
   },
   {
    "duration": 9,
    "start_time": "2022-12-28T17:32:49.197Z"
   },
   {
    "duration": 224,
    "start_time": "2022-12-28T17:32:49.208Z"
   },
   {
    "duration": 9,
    "start_time": "2022-12-28T17:32:49.434Z"
   },
   {
    "duration": 255,
    "start_time": "2022-12-28T17:32:49.444Z"
   },
   {
    "duration": 9,
    "start_time": "2022-12-28T17:32:49.701Z"
   },
   {
    "duration": 349,
    "start_time": "2022-12-28T17:32:49.712Z"
   },
   {
    "duration": 9,
    "start_time": "2022-12-28T17:32:50.063Z"
   },
   {
    "duration": 5,
    "start_time": "2022-12-28T17:32:50.074Z"
   },
   {
    "duration": 18,
    "start_time": "2022-12-28T17:32:50.080Z"
   },
   {
    "duration": 10,
    "start_time": "2022-12-28T17:32:50.100Z"
   },
   {
    "duration": 5,
    "start_time": "2022-12-28T17:32:50.112Z"
   },
   {
    "duration": 269,
    "start_time": "2022-12-28T17:32:50.119Z"
   },
   {
    "duration": 7,
    "start_time": "2022-12-28T17:32:50.397Z"
   },
   {
    "duration": 145,
    "start_time": "2022-12-28T17:32:50.405Z"
   },
   {
    "duration": 10,
    "start_time": "2022-12-28T17:32:50.551Z"
   },
   {
    "duration": 148,
    "start_time": "2022-12-28T17:32:50.562Z"
   },
   {
    "duration": 7,
    "start_time": "2022-12-28T17:32:50.712Z"
   },
   {
    "duration": 157,
    "start_time": "2022-12-28T17:32:50.720Z"
   },
   {
    "duration": 6,
    "start_time": "2022-12-28T17:32:50.879Z"
   },
   {
    "duration": 103,
    "start_time": "2022-12-28T17:32:50.897Z"
   },
   {
    "duration": 9,
    "start_time": "2022-12-28T17:32:51.002Z"
   },
   {
    "duration": 143,
    "start_time": "2022-12-28T17:32:51.012Z"
   },
   {
    "duration": 8,
    "start_time": "2022-12-28T17:32:51.157Z"
   },
   {
    "duration": 158,
    "start_time": "2022-12-28T17:32:51.166Z"
   },
   {
    "duration": 8,
    "start_time": "2022-12-28T17:32:51.326Z"
   },
   {
    "duration": 148,
    "start_time": "2022-12-28T17:32:51.335Z"
   },
   {
    "duration": 17,
    "start_time": "2022-12-28T17:32:51.484Z"
   },
   {
    "duration": 156,
    "start_time": "2022-12-28T17:32:51.502Z"
   },
   {
    "duration": 8,
    "start_time": "2022-12-28T17:32:51.659Z"
   },
   {
    "duration": 16,
    "start_time": "2022-12-28T17:32:51.668Z"
   },
   {
    "duration": 246,
    "start_time": "2022-12-28T17:32:51.686Z"
   },
   {
    "duration": 6,
    "start_time": "2022-12-28T17:32:51.933Z"
   },
   {
    "duration": 153,
    "start_time": "2022-12-28T17:32:51.940Z"
   },
   {
    "duration": 241,
    "start_time": "2022-12-28T17:32:52.097Z"
   },
   {
    "duration": 4,
    "start_time": "2022-12-28T17:32:52.340Z"
   },
   {
    "duration": 10,
    "start_time": "2022-12-28T17:32:52.346Z"
   },
   {
    "duration": 11,
    "start_time": "2022-12-28T17:32:52.358Z"
   },
   {
    "duration": 5,
    "start_time": "2022-12-28T17:32:52.371Z"
   },
   {
    "duration": 21,
    "start_time": "2022-12-28T17:32:52.377Z"
   },
   {
    "duration": 5,
    "start_time": "2022-12-28T17:32:52.399Z"
   },
   {
    "duration": 265,
    "start_time": "2022-12-28T17:32:52.406Z"
   },
   {
    "duration": 4,
    "start_time": "2022-12-28T17:32:52.673Z"
   },
   {
    "duration": 259,
    "start_time": "2022-12-28T17:32:52.678Z"
   },
   {
    "duration": 5,
    "start_time": "2022-12-28T17:32:52.938Z"
   },
   {
    "duration": 281,
    "start_time": "2022-12-28T17:32:52.944Z"
   },
   {
    "duration": 5,
    "start_time": "2022-12-28T17:32:53.226Z"
   },
   {
    "duration": 22,
    "start_time": "2022-12-28T17:32:53.232Z"
   },
   {
    "duration": 12,
    "start_time": "2022-12-28T17:32:53.255Z"
   },
   {
    "duration": 142,
    "start_time": "2022-12-28T17:32:53.273Z"
   },
   {
    "duration": 12,
    "start_time": "2022-12-28T17:32:53.417Z"
   },
   {
    "duration": 10,
    "start_time": "2022-12-28T17:32:53.431Z"
   },
   {
    "duration": 154,
    "start_time": "2022-12-28T17:32:53.443Z"
   },
   {
    "duration": 4,
    "start_time": "2022-12-28T17:32:53.599Z"
   },
   {
    "duration": 15,
    "start_time": "2022-12-28T17:32:53.605Z"
   },
   {
    "duration": 4,
    "start_time": "2022-12-28T17:32:53.622Z"
   },
   {
    "duration": 150,
    "start_time": "2022-12-28T17:32:53.627Z"
   },
   {
    "duration": 21,
    "start_time": "2022-12-28T17:32:53.779Z"
   },
   {
    "duration": 242,
    "start_time": "2022-12-28T17:32:53.801Z"
   },
   {
    "duration": 14,
    "start_time": "2022-12-28T17:32:54.044Z"
   },
   {
    "duration": 12,
    "start_time": "2022-12-28T17:32:54.060Z"
   },
   {
    "duration": 26,
    "start_time": "2022-12-28T17:32:54.074Z"
   },
   {
    "duration": 4,
    "start_time": "2022-12-28T17:32:54.102Z"
   },
   {
    "duration": 20,
    "start_time": "2022-12-28T17:32:54.107Z"
   },
   {
    "duration": 5,
    "start_time": "2022-12-28T17:32:54.129Z"
   },
   {
    "duration": 16,
    "start_time": "2022-12-28T17:32:54.136Z"
   },
   {
    "duration": 154,
    "start_time": "2022-12-28T17:32:54.153Z"
   },
   {
    "duration": 22,
    "start_time": "2022-12-28T17:32:54.309Z"
   },
   {
    "duration": 57,
    "start_time": "2022-12-28T17:36:01.545Z"
   },
   {
    "duration": 23,
    "start_time": "2022-12-28T17:43:06.058Z"
   },
   {
    "duration": 8,
    "start_time": "2022-12-28T17:43:31.648Z"
   },
   {
    "duration": 682,
    "start_time": "2022-12-28T17:46:55.988Z"
   },
   {
    "duration": 88,
    "start_time": "2022-12-28T17:46:56.672Z"
   },
   {
    "duration": 99,
    "start_time": "2022-12-28T17:46:56.761Z"
   },
   {
    "duration": 15,
    "start_time": "2022-12-28T17:46:56.861Z"
   },
   {
    "duration": 1868,
    "start_time": "2022-12-28T17:46:56.878Z"
   },
   {
    "duration": 9,
    "start_time": "2022-12-28T17:46:58.748Z"
   },
   {
    "duration": 12,
    "start_time": "2022-12-28T17:46:58.758Z"
   },
   {
    "duration": 24,
    "start_time": "2022-12-28T17:46:58.771Z"
   },
   {
    "duration": 6,
    "start_time": "2022-12-28T17:46:58.796Z"
   },
   {
    "duration": 7,
    "start_time": "2022-12-28T17:46:58.803Z"
   },
   {
    "duration": 4,
    "start_time": "2022-12-28T17:46:58.812Z"
   },
   {
    "duration": 8,
    "start_time": "2022-12-28T17:46:58.818Z"
   },
   {
    "duration": 6,
    "start_time": "2022-12-28T17:46:58.827Z"
   },
   {
    "duration": 7,
    "start_time": "2022-12-28T17:46:58.836Z"
   },
   {
    "duration": 17,
    "start_time": "2022-12-28T17:46:58.844Z"
   },
   {
    "duration": 35,
    "start_time": "2022-12-28T17:46:58.862Z"
   },
   {
    "duration": 19,
    "start_time": "2022-12-28T17:46:58.899Z"
   },
   {
    "duration": 13,
    "start_time": "2022-12-28T17:46:58.919Z"
   },
   {
    "duration": 6,
    "start_time": "2022-12-28T17:46:58.934Z"
   },
   {
    "duration": 150,
    "start_time": "2022-12-28T17:46:58.941Z"
   },
   {
    "duration": 126,
    "start_time": "2022-12-28T17:46:59.097Z"
   },
   {
    "duration": 16,
    "start_time": "2022-12-28T17:46:59.225Z"
   },
   {
    "duration": 22,
    "start_time": "2022-12-28T17:46:59.242Z"
   },
   {
    "duration": 10,
    "start_time": "2022-12-28T17:46:59.265Z"
   },
   {
    "duration": 22,
    "start_time": "2022-12-28T17:46:59.277Z"
   },
   {
    "duration": 10,
    "start_time": "2022-12-28T17:46:59.301Z"
   },
   {
    "duration": 5,
    "start_time": "2022-12-28T17:46:59.313Z"
   },
   {
    "duration": 18,
    "start_time": "2022-12-28T17:46:59.319Z"
   },
   {
    "duration": 3,
    "start_time": "2022-12-28T17:46:59.339Z"
   },
   {
    "duration": 238,
    "start_time": "2022-12-28T17:46:59.344Z"
   },
   {
    "duration": 146,
    "start_time": "2022-12-28T17:46:59.584Z"
   },
   {
    "duration": 20,
    "start_time": "2022-12-28T17:46:59.732Z"
   },
   {
    "duration": 56,
    "start_time": "2022-12-28T17:46:59.754Z"
   },
   {
    "duration": 4,
    "start_time": "2022-12-28T17:46:59.812Z"
   },
   {
    "duration": 32,
    "start_time": "2022-12-28T17:46:59.818Z"
   },
   {
    "duration": 10,
    "start_time": "2022-12-28T17:46:59.852Z"
   },
   {
    "duration": 18,
    "start_time": "2022-12-28T17:46:59.863Z"
   },
   {
    "duration": 178,
    "start_time": "2022-12-28T17:46:59.882Z"
   },
   {
    "duration": 22,
    "start_time": "2022-12-28T17:47:00.062Z"
   },
   {
    "duration": 21,
    "start_time": "2022-12-28T17:47:00.180Z"
   },
   {
    "duration": 6,
    "start_time": "2022-12-28T17:47:00.202Z"
   },
   {
    "duration": 67,
    "start_time": "2022-12-28T17:47:00.209Z"
   },
   {
    "duration": 39,
    "start_time": "2022-12-28T17:47:00.278Z"
   },
   {
    "duration": 169,
    "start_time": "2022-12-28T17:47:00.319Z"
   },
   {
    "duration": 151,
    "start_time": "2022-12-28T17:47:00.490Z"
   },
   {
    "duration": 23,
    "start_time": "2022-12-28T17:47:00.643Z"
   },
   {
    "duration": 70,
    "start_time": "2022-12-28T17:47:00.667Z"
   },
   {
    "duration": 54,
    "start_time": "2022-12-28T17:47:00.739Z"
   },
   {
    "duration": 148,
    "start_time": "2022-12-28T17:47:00.794Z"
   },
   {
    "duration": 139,
    "start_time": "2022-12-28T17:47:00.944Z"
   },
   {
    "duration": 18,
    "start_time": "2022-12-28T17:47:01.085Z"
   },
   {
    "duration": 37,
    "start_time": "2022-12-28T17:47:01.105Z"
   },
   {
    "duration": 22,
    "start_time": "2022-12-28T17:47:01.144Z"
   },
   {
    "duration": 39,
    "start_time": "2022-12-28T17:47:01.168Z"
   },
   {
    "duration": 53,
    "start_time": "2022-12-28T17:47:01.209Z"
   },
   {
    "duration": 39,
    "start_time": "2022-12-28T17:47:01.264Z"
   },
   {
    "duration": 6,
    "start_time": "2022-12-28T17:47:01.305Z"
   },
   {
    "duration": 19,
    "start_time": "2022-12-28T17:47:01.313Z"
   },
   {
    "duration": 30,
    "start_time": "2022-12-28T17:47:01.334Z"
   },
   {
    "duration": 6,
    "start_time": "2022-12-28T17:47:01.365Z"
   },
   {
    "duration": 12,
    "start_time": "2022-12-28T17:47:01.373Z"
   },
   {
    "duration": 19,
    "start_time": "2022-12-28T17:47:01.386Z"
   },
   {
    "duration": 13,
    "start_time": "2022-12-28T17:47:01.407Z"
   },
   {
    "duration": 17,
    "start_time": "2022-12-28T17:47:01.421Z"
   },
   {
    "duration": 13,
    "start_time": "2022-12-28T17:47:01.440Z"
   },
   {
    "duration": 49,
    "start_time": "2022-12-28T17:47:01.454Z"
   },
   {
    "duration": 35,
    "start_time": "2022-12-28T17:47:01.505Z"
   },
   {
    "duration": 27,
    "start_time": "2022-12-28T17:47:01.542Z"
   },
   {
    "duration": 31,
    "start_time": "2022-12-28T17:47:01.570Z"
   },
   {
    "duration": 27,
    "start_time": "2022-12-28T17:47:01.603Z"
   },
   {
    "duration": 23,
    "start_time": "2022-12-28T17:47:01.631Z"
   },
   {
    "duration": 342,
    "start_time": "2022-12-28T17:47:01.656Z"
   },
   {
    "duration": 4,
    "start_time": "2022-12-28T17:47:02.000Z"
   },
   {
    "duration": 21,
    "start_time": "2022-12-28T17:47:02.005Z"
   },
   {
    "duration": 230,
    "start_time": "2022-12-28T17:47:02.027Z"
   },
   {
    "duration": 9,
    "start_time": "2022-12-28T17:47:02.259Z"
   },
   {
    "duration": 251,
    "start_time": "2022-12-28T17:47:02.269Z"
   },
   {
    "duration": 9,
    "start_time": "2022-12-28T17:47:02.521Z"
   },
   {
    "duration": 345,
    "start_time": "2022-12-28T17:47:02.532Z"
   },
   {
    "duration": 19,
    "start_time": "2022-12-28T17:47:02.879Z"
   },
   {
    "duration": 4,
    "start_time": "2022-12-28T17:47:02.900Z"
   },
   {
    "duration": 19,
    "start_time": "2022-12-28T17:47:02.906Z"
   },
   {
    "duration": 7,
    "start_time": "2022-12-28T17:47:02.927Z"
   },
   {
    "duration": 6,
    "start_time": "2022-12-28T17:47:02.936Z"
   },
   {
    "duration": 260,
    "start_time": "2022-12-28T17:47:02.943Z"
   },
   {
    "duration": 8,
    "start_time": "2022-12-28T17:47:03.205Z"
   },
   {
    "duration": 159,
    "start_time": "2022-12-28T17:47:03.215Z"
   },
   {
    "duration": 9,
    "start_time": "2022-12-28T17:47:03.376Z"
   },
   {
    "duration": 179,
    "start_time": "2022-12-28T17:47:03.387Z"
   },
   {
    "duration": 8,
    "start_time": "2022-12-28T17:47:03.568Z"
   },
   {
    "duration": 171,
    "start_time": "2022-12-28T17:47:03.578Z"
   },
   {
    "duration": 8,
    "start_time": "2022-12-28T17:47:03.751Z"
   },
   {
    "duration": 120,
    "start_time": "2022-12-28T17:47:03.761Z"
   },
   {
    "duration": 18,
    "start_time": "2022-12-28T17:47:03.883Z"
   },
   {
    "duration": 152,
    "start_time": "2022-12-28T17:47:03.903Z"
   },
   {
    "duration": 10,
    "start_time": "2022-12-28T17:47:04.056Z"
   },
   {
    "duration": 168,
    "start_time": "2022-12-28T17:47:04.067Z"
   },
   {
    "duration": 10,
    "start_time": "2022-12-28T17:47:04.237Z"
   },
   {
    "duration": 189,
    "start_time": "2022-12-28T17:47:04.248Z"
   },
   {
    "duration": 10,
    "start_time": "2022-12-28T17:47:04.438Z"
   },
   {
    "duration": 161,
    "start_time": "2022-12-28T17:47:04.449Z"
   },
   {
    "duration": 12,
    "start_time": "2022-12-28T17:47:04.611Z"
   },
   {
    "duration": 20,
    "start_time": "2022-12-28T17:47:04.625Z"
   },
   {
    "duration": 330,
    "start_time": "2022-12-28T17:47:04.654Z"
   },
   {
    "duration": 11,
    "start_time": "2022-12-28T17:47:04.986Z"
   },
   {
    "duration": 153,
    "start_time": "2022-12-28T17:47:04.999Z"
   },
   {
    "duration": 279,
    "start_time": "2022-12-28T17:47:05.154Z"
   },
   {
    "duration": 5,
    "start_time": "2022-12-28T17:47:05.435Z"
   },
   {
    "duration": 16,
    "start_time": "2022-12-28T17:47:05.441Z"
   },
   {
    "duration": 12,
    "start_time": "2022-12-28T17:47:05.459Z"
   },
   {
    "duration": 3,
    "start_time": "2022-12-28T17:47:05.473Z"
   },
   {
    "duration": 20,
    "start_time": "2022-12-28T17:47:05.478Z"
   },
   {
    "duration": 5,
    "start_time": "2022-12-28T17:47:05.499Z"
   },
   {
    "duration": 296,
    "start_time": "2022-12-28T17:47:05.505Z"
   },
   {
    "duration": 5,
    "start_time": "2022-12-28T17:47:05.803Z"
   },
   {
    "duration": 272,
    "start_time": "2022-12-28T17:47:05.809Z"
   },
   {
    "duration": 5,
    "start_time": "2022-12-28T17:47:06.083Z"
   },
   {
    "duration": 286,
    "start_time": "2022-12-28T17:47:06.104Z"
   },
   {
    "duration": 8,
    "start_time": "2022-12-28T17:47:06.392Z"
   },
   {
    "duration": 31,
    "start_time": "2022-12-28T17:47:06.402Z"
   },
   {
    "duration": 14,
    "start_time": "2022-12-28T17:47:06.435Z"
   },
   {
    "duration": 153,
    "start_time": "2022-12-28T17:47:06.451Z"
   },
   {
    "duration": 12,
    "start_time": "2022-12-28T17:47:06.606Z"
   },
   {
    "duration": 20,
    "start_time": "2022-12-28T17:47:06.620Z"
   },
   {
    "duration": 145,
    "start_time": "2022-12-28T17:47:06.642Z"
   },
   {
    "duration": 10,
    "start_time": "2022-12-28T17:47:06.789Z"
   },
   {
    "duration": 17,
    "start_time": "2022-12-28T17:47:06.801Z"
   },
   {
    "duration": 5,
    "start_time": "2022-12-28T17:47:06.820Z"
   },
   {
    "duration": 155,
    "start_time": "2022-12-28T17:47:06.826Z"
   },
   {
    "duration": 22,
    "start_time": "2022-12-28T17:47:06.983Z"
   },
   {
    "duration": 257,
    "start_time": "2022-12-28T17:47:07.006Z"
   },
   {
    "duration": 13,
    "start_time": "2022-12-28T17:47:07.264Z"
   },
   {
    "duration": 23,
    "start_time": "2022-12-28T17:47:07.278Z"
   },
   {
    "duration": 9,
    "start_time": "2022-12-28T17:47:07.303Z"
   },
   {
    "duration": 6,
    "start_time": "2022-12-28T17:47:07.314Z"
   },
   {
    "duration": 17,
    "start_time": "2022-12-28T17:47:07.322Z"
   },
   {
    "duration": 6,
    "start_time": "2022-12-28T17:47:07.340Z"
   },
   {
    "duration": 16,
    "start_time": "2022-12-28T17:47:07.347Z"
   },
   {
    "duration": 155,
    "start_time": "2022-12-28T17:47:07.365Z"
   },
   {
    "duration": 14,
    "start_time": "2022-12-28T17:47:07.522Z"
   },
   {
    "duration": 53,
    "start_time": "2022-12-28T17:51:48.661Z"
   },
   {
    "duration": 7,
    "start_time": "2022-12-28T17:51:52.457Z"
   },
   {
    "duration": 29,
    "start_time": "2022-12-28T17:59:33.993Z"
   },
   {
    "duration": 23,
    "start_time": "2022-12-28T18:01:55.426Z"
   },
   {
    "duration": 16,
    "start_time": "2022-12-28T18:02:13.682Z"
   },
   {
    "duration": 589,
    "start_time": "2022-12-28T18:03:37.256Z"
   },
   {
    "duration": 87,
    "start_time": "2022-12-28T18:03:37.847Z"
   },
   {
    "duration": 110,
    "start_time": "2022-12-28T18:03:37.936Z"
   },
   {
    "duration": 15,
    "start_time": "2022-12-28T18:03:38.047Z"
   },
   {
    "duration": 1766,
    "start_time": "2022-12-28T18:03:38.064Z"
   },
   {
    "duration": 12,
    "start_time": "2022-12-28T18:03:39.832Z"
   },
   {
    "duration": 13,
    "start_time": "2022-12-28T18:03:39.845Z"
   },
   {
    "duration": 9,
    "start_time": "2022-12-28T18:03:39.860Z"
   },
   {
    "duration": 5,
    "start_time": "2022-12-28T18:03:39.871Z"
   },
   {
    "duration": 8,
    "start_time": "2022-12-28T18:03:39.878Z"
   },
   {
    "duration": 10,
    "start_time": "2022-12-28T18:03:39.887Z"
   },
   {
    "duration": 7,
    "start_time": "2022-12-28T18:03:39.899Z"
   },
   {
    "duration": 11,
    "start_time": "2022-12-28T18:03:39.907Z"
   },
   {
    "duration": 8,
    "start_time": "2022-12-28T18:03:39.921Z"
   },
   {
    "duration": 10,
    "start_time": "2022-12-28T18:03:39.931Z"
   },
   {
    "duration": 13,
    "start_time": "2022-12-28T18:03:39.942Z"
   },
   {
    "duration": 22,
    "start_time": "2022-12-28T18:03:39.956Z"
   },
   {
    "duration": 68,
    "start_time": "2022-12-28T18:03:39.980Z"
   },
   {
    "duration": 152,
    "start_time": "2022-12-28T18:03:40.050Z"
   },
   {
    "duration": 126,
    "start_time": "2022-12-28T18:03:40.203Z"
   },
   {
    "duration": 15,
    "start_time": "2022-12-28T18:03:40.331Z"
   },
   {
    "duration": 25,
    "start_time": "2022-12-28T18:03:40.347Z"
   },
   {
    "duration": 30,
    "start_time": "2022-12-28T18:03:40.373Z"
   },
   {
    "duration": 4,
    "start_time": "2022-12-28T18:03:40.405Z"
   },
   {
    "duration": 25,
    "start_time": "2022-12-28T18:03:40.411Z"
   },
   {
    "duration": 7,
    "start_time": "2022-12-28T18:03:40.438Z"
   },
   {
    "duration": 34,
    "start_time": "2022-12-28T18:03:40.446Z"
   },
   {
    "duration": 4,
    "start_time": "2022-12-28T18:03:40.481Z"
   },
   {
    "duration": 230,
    "start_time": "2022-12-28T18:03:40.496Z"
   },
   {
    "duration": 181,
    "start_time": "2022-12-28T18:03:40.727Z"
   },
   {
    "duration": 26,
    "start_time": "2022-12-28T18:03:40.910Z"
   },
   {
    "duration": 38,
    "start_time": "2022-12-28T18:03:40.938Z"
   },
   {
    "duration": 5,
    "start_time": "2022-12-28T18:03:40.998Z"
   },
   {
    "duration": 29,
    "start_time": "2022-12-28T18:03:41.005Z"
   },
   {
    "duration": 8,
    "start_time": "2022-12-28T18:03:41.036Z"
   },
   {
    "duration": 17,
    "start_time": "2022-12-28T18:03:41.046Z"
   },
   {
    "duration": 142,
    "start_time": "2022-12-28T18:03:41.064Z"
   },
   {
    "duration": 20,
    "start_time": "2022-12-28T18:03:41.208Z"
   },
   {
    "duration": 19,
    "start_time": "2022-12-28T18:03:41.229Z"
   },
   {
    "duration": 6,
    "start_time": "2022-12-28T18:03:41.249Z"
   },
   {
    "duration": 19,
    "start_time": "2022-12-28T18:03:41.330Z"
   },
   {
    "duration": 6,
    "start_time": "2022-12-28T18:03:41.350Z"
   },
   {
    "duration": 124,
    "start_time": "2022-12-28T18:03:41.357Z"
   },
   {
    "duration": 152,
    "start_time": "2022-12-28T18:03:41.483Z"
   },
   {
    "duration": 16,
    "start_time": "2022-12-28T18:03:41.637Z"
   },
   {
    "duration": 6,
    "start_time": "2022-12-28T18:03:41.655Z"
   },
   {
    "duration": 16,
    "start_time": "2022-12-28T18:03:41.662Z"
   },
   {
    "duration": 132,
    "start_time": "2022-12-28T18:03:41.697Z"
   },
   {
    "duration": 133,
    "start_time": "2022-12-28T18:03:41.830Z"
   },
   {
    "duration": 9,
    "start_time": "2022-12-28T18:03:41.965Z"
   },
   {
    "duration": 31,
    "start_time": "2022-12-28T18:03:41.976Z"
   },
   {
    "duration": 7,
    "start_time": "2022-12-28T18:03:42.008Z"
   },
   {
    "duration": 32,
    "start_time": "2022-12-28T18:03:42.017Z"
   },
   {
    "duration": 19,
    "start_time": "2022-12-28T18:03:42.050Z"
   },
   {
    "duration": 40,
    "start_time": "2022-12-28T18:03:42.070Z"
   },
   {
    "duration": 7,
    "start_time": "2022-12-28T18:03:42.111Z"
   },
   {
    "duration": 14,
    "start_time": "2022-12-28T18:03:42.119Z"
   },
   {
    "duration": 14,
    "start_time": "2022-12-28T18:03:42.134Z"
   },
   {
    "duration": 18,
    "start_time": "2022-12-28T18:03:42.149Z"
   },
   {
    "duration": 7,
    "start_time": "2022-12-28T18:03:42.168Z"
   },
   {
    "duration": 21,
    "start_time": "2022-12-28T18:03:42.176Z"
   },
   {
    "duration": 7,
    "start_time": "2022-12-28T18:03:42.200Z"
   },
   {
    "duration": 10,
    "start_time": "2022-12-28T18:03:42.209Z"
   },
   {
    "duration": 8,
    "start_time": "2022-12-28T18:03:42.221Z"
   },
   {
    "duration": 8,
    "start_time": "2022-12-28T18:03:42.231Z"
   },
   {
    "duration": 24,
    "start_time": "2022-12-28T18:03:42.241Z"
   },
   {
    "duration": 35,
    "start_time": "2022-12-28T18:03:42.266Z"
   },
   {
    "duration": 35,
    "start_time": "2022-12-28T18:03:42.302Z"
   },
   {
    "duration": 25,
    "start_time": "2022-12-28T18:03:42.338Z"
   },
   {
    "duration": 51,
    "start_time": "2022-12-28T18:03:42.364Z"
   },
   {
    "duration": 345,
    "start_time": "2022-12-28T18:03:42.417Z"
   },
   {
    "duration": 5,
    "start_time": "2022-12-28T18:03:42.763Z"
   },
   {
    "duration": 15,
    "start_time": "2022-12-28T18:03:42.769Z"
   },
   {
    "duration": 240,
    "start_time": "2022-12-28T18:03:42.786Z"
   },
   {
    "duration": 9,
    "start_time": "2022-12-28T18:03:43.027Z"
   },
   {
    "duration": 223,
    "start_time": "2022-12-28T18:03:43.037Z"
   },
   {
    "duration": 8,
    "start_time": "2022-12-28T18:03:43.262Z"
   },
   {
    "duration": 312,
    "start_time": "2022-12-28T18:03:43.272Z"
   },
   {
    "duration": 16,
    "start_time": "2022-12-28T18:03:43.585Z"
   },
   {
    "duration": 4,
    "start_time": "2022-12-28T18:03:43.603Z"
   },
   {
    "duration": 5,
    "start_time": "2022-12-28T18:03:43.609Z"
   },
   {
    "duration": 7,
    "start_time": "2022-12-28T18:03:43.615Z"
   },
   {
    "duration": 10,
    "start_time": "2022-12-28T18:03:43.624Z"
   },
   {
    "duration": 238,
    "start_time": "2022-12-28T18:03:43.635Z"
   },
   {
    "duration": 10,
    "start_time": "2022-12-28T18:03:43.875Z"
   },
   {
    "duration": 171,
    "start_time": "2022-12-28T18:03:43.886Z"
   },
   {
    "duration": 9,
    "start_time": "2022-12-28T18:03:44.059Z"
   },
   {
    "duration": 140,
    "start_time": "2022-12-28T18:03:44.069Z"
   },
   {
    "duration": 7,
    "start_time": "2022-12-28T18:03:44.211Z"
   },
   {
    "duration": 164,
    "start_time": "2022-12-28T18:03:44.220Z"
   },
   {
    "duration": 13,
    "start_time": "2022-12-28T18:03:44.385Z"
   },
   {
    "duration": 116,
    "start_time": "2022-12-28T18:03:44.400Z"
   },
   {
    "duration": 16,
    "start_time": "2022-12-28T18:03:44.517Z"
   },
   {
    "duration": 176,
    "start_time": "2022-12-28T18:03:44.535Z"
   },
   {
    "duration": 11,
    "start_time": "2022-12-28T18:03:44.713Z"
   },
   {
    "duration": 188,
    "start_time": "2022-12-28T18:03:44.725Z"
   },
   {
    "duration": 9,
    "start_time": "2022-12-28T18:03:44.915Z"
   },
   {
    "duration": 156,
    "start_time": "2022-12-28T18:03:44.925Z"
   },
   {
    "duration": 17,
    "start_time": "2022-12-28T18:03:45.082Z"
   },
   {
    "duration": 127,
    "start_time": "2022-12-28T18:03:45.100Z"
   },
   {
    "duration": 9,
    "start_time": "2022-12-28T18:03:45.228Z"
   },
   {
    "duration": 6,
    "start_time": "2022-12-28T18:03:45.238Z"
   },
   {
    "duration": 232,
    "start_time": "2022-12-28T18:03:45.246Z"
   },
   {
    "duration": 5,
    "start_time": "2022-12-28T18:03:45.479Z"
   },
   {
    "duration": 149,
    "start_time": "2022-12-28T18:03:45.486Z"
   },
   {
    "duration": 265,
    "start_time": "2022-12-28T18:03:45.637Z"
   },
   {
    "duration": 4,
    "start_time": "2022-12-28T18:03:45.904Z"
   },
   {
    "duration": 9,
    "start_time": "2022-12-28T18:03:45.910Z"
   },
   {
    "duration": 11,
    "start_time": "2022-12-28T18:03:45.920Z"
   },
   {
    "duration": 4,
    "start_time": "2022-12-28T18:03:45.933Z"
   },
   {
    "duration": 18,
    "start_time": "2022-12-28T18:03:45.939Z"
   },
   {
    "duration": 9,
    "start_time": "2022-12-28T18:03:45.959Z"
   },
   {
    "duration": 258,
    "start_time": "2022-12-28T18:03:45.970Z"
   },
   {
    "duration": 7,
    "start_time": "2022-12-28T18:03:46.230Z"
   },
   {
    "duration": 260,
    "start_time": "2022-12-28T18:03:46.238Z"
   },
   {
    "duration": 5,
    "start_time": "2022-12-28T18:03:46.500Z"
   },
   {
    "duration": 267,
    "start_time": "2022-12-28T18:03:46.507Z"
   },
   {
    "duration": 5,
    "start_time": "2022-12-28T18:03:46.776Z"
   },
   {
    "duration": 32,
    "start_time": "2022-12-28T18:03:46.782Z"
   },
   {
    "duration": 13,
    "start_time": "2022-12-28T18:03:46.815Z"
   },
   {
    "duration": 137,
    "start_time": "2022-12-28T18:03:46.829Z"
   },
   {
    "duration": 14,
    "start_time": "2022-12-28T18:03:46.972Z"
   },
   {
    "duration": 12,
    "start_time": "2022-12-28T18:03:46.997Z"
   },
   {
    "duration": 157,
    "start_time": "2022-12-28T18:03:47.010Z"
   },
   {
    "duration": 4,
    "start_time": "2022-12-28T18:03:47.168Z"
   },
   {
    "duration": 32,
    "start_time": "2022-12-28T18:03:47.174Z"
   },
   {
    "duration": 11,
    "start_time": "2022-12-28T18:03:47.208Z"
   },
   {
    "duration": 147,
    "start_time": "2022-12-28T18:03:47.220Z"
   },
   {
    "duration": 13,
    "start_time": "2022-12-28T18:03:47.369Z"
   },
   {
    "duration": 250,
    "start_time": "2022-12-28T18:03:47.383Z"
   },
   {
    "duration": 15,
    "start_time": "2022-12-28T18:03:47.635Z"
   },
   {
    "duration": 8,
    "start_time": "2022-12-28T18:03:47.651Z"
   },
   {
    "duration": 20,
    "start_time": "2022-12-28T18:03:47.662Z"
   },
   {
    "duration": 5,
    "start_time": "2022-12-28T18:03:47.698Z"
   },
   {
    "duration": 30,
    "start_time": "2022-12-28T18:03:47.705Z"
   },
   {
    "duration": 6,
    "start_time": "2022-12-28T18:03:47.737Z"
   },
   {
    "duration": 25,
    "start_time": "2022-12-28T18:03:47.745Z"
   },
   {
    "duration": 172,
    "start_time": "2022-12-28T18:03:47.772Z"
   },
   {
    "duration": 17,
    "start_time": "2022-12-28T18:03:47.946Z"
   },
   {
    "duration": 14,
    "start_time": "2022-12-28T18:04:55.239Z"
   },
   {
    "duration": 16,
    "start_time": "2022-12-28T18:05:05.042Z"
   },
   {
    "duration": 26,
    "start_time": "2022-12-28T18:07:25.344Z"
   },
   {
    "duration": 18,
    "start_time": "2022-12-28T18:08:41.930Z"
   },
   {
    "duration": 15,
    "start_time": "2022-12-28T18:08:52.577Z"
   },
   {
    "duration": 14,
    "start_time": "2022-12-28T18:09:07.773Z"
   },
   {
    "duration": 15,
    "start_time": "2022-12-28T18:09:22.772Z"
   },
   {
    "duration": 26,
    "start_time": "2022-12-28T18:09:33.984Z"
   },
   {
    "duration": 37,
    "start_time": "2022-12-28T18:09:47.679Z"
   },
   {
    "duration": 37,
    "start_time": "2022-12-28T18:09:57.098Z"
   },
   {
    "duration": 15,
    "start_time": "2022-12-28T18:10:08.346Z"
   },
   {
    "duration": 14,
    "start_time": "2022-12-28T18:10:18.118Z"
   },
   {
    "duration": 15,
    "start_time": "2022-12-28T18:10:27.309Z"
   },
   {
    "duration": 655,
    "start_time": "2022-12-28T18:12:51.579Z"
   },
   {
    "duration": 94,
    "start_time": "2022-12-28T18:12:52.237Z"
   },
   {
    "duration": 166,
    "start_time": "2022-12-28T18:12:52.333Z"
   },
   {
    "duration": 21,
    "start_time": "2022-12-28T18:12:52.500Z"
   },
   {
    "duration": 1898,
    "start_time": "2022-12-28T18:12:52.524Z"
   },
   {
    "duration": 10,
    "start_time": "2022-12-28T18:12:54.424Z"
   },
   {
    "duration": 15,
    "start_time": "2022-12-28T18:12:54.436Z"
   },
   {
    "duration": 21,
    "start_time": "2022-12-28T18:12:54.453Z"
   },
   {
    "duration": 7,
    "start_time": "2022-12-28T18:12:54.475Z"
   },
   {
    "duration": 16,
    "start_time": "2022-12-28T18:12:54.483Z"
   },
   {
    "duration": 5,
    "start_time": "2022-12-28T18:12:54.500Z"
   },
   {
    "duration": 9,
    "start_time": "2022-12-28T18:12:54.507Z"
   },
   {
    "duration": 6,
    "start_time": "2022-12-28T18:12:54.517Z"
   },
   {
    "duration": 6,
    "start_time": "2022-12-28T18:12:54.526Z"
   },
   {
    "duration": 5,
    "start_time": "2022-12-28T18:12:54.534Z"
   },
   {
    "duration": 13,
    "start_time": "2022-12-28T18:12:54.540Z"
   },
   {
    "duration": 58,
    "start_time": "2022-12-28T18:12:54.555Z"
   },
   {
    "duration": 65,
    "start_time": "2022-12-28T18:12:54.614Z"
   },
   {
    "duration": 206,
    "start_time": "2022-12-28T18:12:54.680Z"
   },
   {
    "duration": 138,
    "start_time": "2022-12-28T18:12:54.888Z"
   },
   {
    "duration": 16,
    "start_time": "2022-12-28T18:12:55.028Z"
   },
   {
    "duration": 27,
    "start_time": "2022-12-28T18:12:55.046Z"
   },
   {
    "duration": 29,
    "start_time": "2022-12-28T18:12:55.075Z"
   },
   {
    "duration": 5,
    "start_time": "2022-12-28T18:12:55.105Z"
   },
   {
    "duration": 26,
    "start_time": "2022-12-28T18:12:55.111Z"
   },
   {
    "duration": 5,
    "start_time": "2022-12-28T18:12:55.140Z"
   },
   {
    "duration": 29,
    "start_time": "2022-12-28T18:12:55.147Z"
   },
   {
    "duration": 4,
    "start_time": "2022-12-28T18:12:55.197Z"
   },
   {
    "duration": 231,
    "start_time": "2022-12-28T18:12:55.203Z"
   },
   {
    "duration": 151,
    "start_time": "2022-12-28T18:12:55.436Z"
   },
   {
    "duration": 49,
    "start_time": "2022-12-28T18:12:55.588Z"
   },
   {
    "duration": 61,
    "start_time": "2022-12-28T18:12:55.638Z"
   },
   {
    "duration": 6,
    "start_time": "2022-12-28T18:12:55.701Z"
   },
   {
    "duration": 37,
    "start_time": "2022-12-28T18:12:55.708Z"
   },
   {
    "duration": 7,
    "start_time": "2022-12-28T18:12:55.747Z"
   },
   {
    "duration": 29,
    "start_time": "2022-12-28T18:12:55.756Z"
   },
   {
    "duration": 144,
    "start_time": "2022-12-28T18:12:55.798Z"
   },
   {
    "duration": 41,
    "start_time": "2022-12-28T18:12:55.945Z"
   },
   {
    "duration": 10,
    "start_time": "2022-12-28T18:12:55.996Z"
   },
   {
    "duration": 5,
    "start_time": "2022-12-28T18:12:56.007Z"
   },
   {
    "duration": 25,
    "start_time": "2022-12-28T18:12:56.099Z"
   },
   {
    "duration": 12,
    "start_time": "2022-12-28T18:12:56.127Z"
   },
   {
    "duration": 126,
    "start_time": "2022-12-28T18:12:56.141Z"
   },
   {
    "duration": 153,
    "start_time": "2022-12-28T18:12:56.269Z"
   },
   {
    "duration": 30,
    "start_time": "2022-12-28T18:12:56.423Z"
   },
   {
    "duration": 6,
    "start_time": "2022-12-28T18:12:56.455Z"
   },
   {
    "duration": 49,
    "start_time": "2022-12-28T18:12:56.463Z"
   },
   {
    "duration": 159,
    "start_time": "2022-12-28T18:12:56.514Z"
   },
   {
    "duration": 136,
    "start_time": "2022-12-28T18:12:56.675Z"
   },
   {
    "duration": 12,
    "start_time": "2022-12-28T18:12:56.813Z"
   },
   {
    "duration": 46,
    "start_time": "2022-12-28T18:12:56.827Z"
   },
   {
    "duration": 27,
    "start_time": "2022-12-28T18:12:56.874Z"
   },
   {
    "duration": 46,
    "start_time": "2022-12-28T18:12:56.903Z"
   },
   {
    "duration": 48,
    "start_time": "2022-12-28T18:12:56.950Z"
   },
   {
    "duration": 37,
    "start_time": "2022-12-28T18:12:57.000Z"
   },
   {
    "duration": 7,
    "start_time": "2022-12-28T18:12:57.038Z"
   },
   {
    "duration": 11,
    "start_time": "2022-12-28T18:12:57.046Z"
   },
   {
    "duration": 48,
    "start_time": "2022-12-28T18:12:57.058Z"
   },
   {
    "duration": 6,
    "start_time": "2022-12-28T18:12:57.107Z"
   },
   {
    "duration": 9,
    "start_time": "2022-12-28T18:12:57.115Z"
   },
   {
    "duration": 10,
    "start_time": "2022-12-28T18:12:57.126Z"
   },
   {
    "duration": 9,
    "start_time": "2022-12-28T18:12:57.138Z"
   },
   {
    "duration": 11,
    "start_time": "2022-12-28T18:12:57.148Z"
   },
   {
    "duration": 44,
    "start_time": "2022-12-28T18:12:57.161Z"
   },
   {
    "duration": 10,
    "start_time": "2022-12-28T18:12:57.207Z"
   },
   {
    "duration": 26,
    "start_time": "2022-12-28T18:12:57.219Z"
   },
   {
    "duration": 37,
    "start_time": "2022-12-28T18:12:57.247Z"
   },
   {
    "duration": 26,
    "start_time": "2022-12-28T18:12:57.298Z"
   },
   {
    "duration": 24,
    "start_time": "2022-12-28T18:12:57.325Z"
   },
   {
    "duration": 47,
    "start_time": "2022-12-28T18:12:57.351Z"
   },
   {
    "duration": 324,
    "start_time": "2022-12-28T18:12:57.400Z"
   },
   {
    "duration": 4,
    "start_time": "2022-12-28T18:12:57.726Z"
   },
   {
    "duration": 11,
    "start_time": "2022-12-28T18:12:57.731Z"
   },
   {
    "duration": 271,
    "start_time": "2022-12-28T18:12:57.744Z"
   },
   {
    "duration": 9,
    "start_time": "2022-12-28T18:12:58.017Z"
   },
   {
    "duration": 233,
    "start_time": "2022-12-28T18:12:58.027Z"
   },
   {
    "duration": 10,
    "start_time": "2022-12-28T18:12:58.261Z"
   },
   {
    "duration": 324,
    "start_time": "2022-12-28T18:12:58.273Z"
   },
   {
    "duration": 10,
    "start_time": "2022-12-28T18:12:58.599Z"
   },
   {
    "duration": 10,
    "start_time": "2022-12-28T18:12:58.610Z"
   },
   {
    "duration": 5,
    "start_time": "2022-12-28T18:12:58.622Z"
   },
   {
    "duration": 7,
    "start_time": "2022-12-28T18:12:58.628Z"
   },
   {
    "duration": 11,
    "start_time": "2022-12-28T18:12:58.636Z"
   },
   {
    "duration": 255,
    "start_time": "2022-12-28T18:12:58.648Z"
   },
   {
    "duration": 8,
    "start_time": "2022-12-28T18:12:58.905Z"
   },
   {
    "duration": 163,
    "start_time": "2022-12-28T18:12:58.915Z"
   },
   {
    "duration": 18,
    "start_time": "2022-12-28T18:12:59.079Z"
   },
   {
    "duration": 134,
    "start_time": "2022-12-28T18:12:59.098Z"
   },
   {
    "duration": 8,
    "start_time": "2022-12-28T18:12:59.234Z"
   },
   {
    "duration": 165,
    "start_time": "2022-12-28T18:12:59.244Z"
   },
   {
    "duration": 7,
    "start_time": "2022-12-28T18:12:59.410Z"
   },
   {
    "duration": 116,
    "start_time": "2022-12-28T18:12:59.419Z"
   },
   {
    "duration": 8,
    "start_time": "2022-12-28T18:12:59.537Z"
   },
   {
    "duration": 141,
    "start_time": "2022-12-28T18:12:59.546Z"
   },
   {
    "duration": 10,
    "start_time": "2022-12-28T18:12:59.697Z"
   },
   {
    "duration": 168,
    "start_time": "2022-12-28T18:12:59.708Z"
   },
   {
    "duration": 10,
    "start_time": "2022-12-28T18:12:59.878Z"
   },
   {
    "duration": 183,
    "start_time": "2022-12-28T18:12:59.898Z"
   },
   {
    "duration": 19,
    "start_time": "2022-12-28T18:13:00.083Z"
   },
   {
    "duration": 143,
    "start_time": "2022-12-28T18:13:00.104Z"
   },
   {
    "duration": 10,
    "start_time": "2022-12-28T18:13:00.248Z"
   },
   {
    "duration": 21,
    "start_time": "2022-12-28T18:13:00.260Z"
   },
   {
    "duration": 292,
    "start_time": "2022-12-28T18:13:00.283Z"
   },
   {
    "duration": 6,
    "start_time": "2022-12-28T18:13:00.577Z"
   },
   {
    "duration": 172,
    "start_time": "2022-12-28T18:13:00.597Z"
   },
   {
    "duration": 264,
    "start_time": "2022-12-28T18:13:00.770Z"
   },
   {
    "duration": 5,
    "start_time": "2022-12-28T18:13:01.036Z"
   },
   {
    "duration": 32,
    "start_time": "2022-12-28T18:13:01.042Z"
   },
   {
    "duration": 28,
    "start_time": "2022-12-28T18:13:01.077Z"
   },
   {
    "duration": 15,
    "start_time": "2022-12-28T18:13:01.106Z"
   },
   {
    "duration": 23,
    "start_time": "2022-12-28T18:13:01.122Z"
   },
   {
    "duration": 34,
    "start_time": "2022-12-28T18:13:01.146Z"
   },
   {
    "duration": 268,
    "start_time": "2022-12-28T18:13:01.182Z"
   },
   {
    "duration": 5,
    "start_time": "2022-12-28T18:13:01.452Z"
   },
   {
    "duration": 270,
    "start_time": "2022-12-28T18:13:01.459Z"
   },
   {
    "duration": 5,
    "start_time": "2022-12-28T18:13:01.730Z"
   },
   {
    "duration": 288,
    "start_time": "2022-12-28T18:13:01.737Z"
   },
   {
    "duration": 4,
    "start_time": "2022-12-28T18:13:02.027Z"
   },
   {
    "duration": 72,
    "start_time": "2022-12-28T18:13:02.033Z"
   },
   {
    "duration": 19,
    "start_time": "2022-12-28T18:13:02.107Z"
   },
   {
    "duration": 141,
    "start_time": "2022-12-28T18:13:02.128Z"
   },
   {
    "duration": 22,
    "start_time": "2022-12-28T18:13:02.277Z"
   },
   {
    "duration": 48,
    "start_time": "2022-12-28T18:13:02.301Z"
   },
   {
    "duration": 155,
    "start_time": "2022-12-28T18:13:02.350Z"
   },
   {
    "duration": 5,
    "start_time": "2022-12-28T18:13:02.507Z"
   },
   {
    "duration": 28,
    "start_time": "2022-12-28T18:13:02.513Z"
   },
   {
    "duration": 5,
    "start_time": "2022-12-28T18:13:02.543Z"
   },
   {
    "duration": 165,
    "start_time": "2022-12-28T18:13:02.549Z"
   },
   {
    "duration": 13,
    "start_time": "2022-12-28T18:13:02.715Z"
   },
   {
    "duration": 249,
    "start_time": "2022-12-28T18:13:02.729Z"
   },
   {
    "duration": 21,
    "start_time": "2022-12-28T18:13:02.980Z"
   },
   {
    "duration": 8,
    "start_time": "2022-12-28T18:13:03.002Z"
   },
   {
    "duration": 13,
    "start_time": "2022-12-28T18:13:03.012Z"
   },
   {
    "duration": 5,
    "start_time": "2022-12-28T18:13:03.026Z"
   },
   {
    "duration": 26,
    "start_time": "2022-12-28T18:13:03.033Z"
   },
   {
    "duration": 6,
    "start_time": "2022-12-28T18:13:03.061Z"
   },
   {
    "duration": 37,
    "start_time": "2022-12-28T18:13:03.069Z"
   },
   {
    "duration": 141,
    "start_time": "2022-12-28T18:13:03.108Z"
   },
   {
    "duration": 14,
    "start_time": "2022-12-28T18:13:03.251Z"
   },
   {
    "duration": 22,
    "start_time": "2022-12-28T18:17:39.635Z"
   },
   {
    "duration": 121,
    "start_time": "2022-12-28T18:21:56.426Z"
   },
   {
    "duration": 553,
    "start_time": "2022-12-28T18:22:13.846Z"
   },
   {
    "duration": 92,
    "start_time": "2022-12-28T18:22:14.401Z"
   },
   {
    "duration": 107,
    "start_time": "2022-12-28T18:22:14.495Z"
   },
   {
    "duration": 18,
    "start_time": "2022-12-28T18:22:14.604Z"
   },
   {
    "duration": 1878,
    "start_time": "2022-12-28T18:22:14.624Z"
   },
   {
    "duration": 10,
    "start_time": "2022-12-28T18:22:16.504Z"
   },
   {
    "duration": 17,
    "start_time": "2022-12-28T18:22:16.515Z"
   },
   {
    "duration": 17,
    "start_time": "2022-12-28T18:22:16.533Z"
   },
   {
    "duration": 6,
    "start_time": "2022-12-28T18:22:16.552Z"
   },
   {
    "duration": 7,
    "start_time": "2022-12-28T18:22:16.561Z"
   },
   {
    "duration": 5,
    "start_time": "2022-12-28T18:22:16.570Z"
   },
   {
    "duration": 26,
    "start_time": "2022-12-28T18:22:16.576Z"
   },
   {
    "duration": 5,
    "start_time": "2022-12-28T18:22:16.604Z"
   },
   {
    "duration": 6,
    "start_time": "2022-12-28T18:22:16.610Z"
   },
   {
    "duration": 7,
    "start_time": "2022-12-28T18:22:16.618Z"
   },
   {
    "duration": 10,
    "start_time": "2022-12-28T18:22:16.627Z"
   },
   {
    "duration": 24,
    "start_time": "2022-12-28T18:22:16.638Z"
   },
   {
    "duration": 76,
    "start_time": "2022-12-28T18:22:16.663Z"
   },
   {
    "duration": 135,
    "start_time": "2022-12-28T18:22:16.741Z"
   },
   {
    "duration": 120,
    "start_time": "2022-12-28T18:22:16.877Z"
   },
   {
    "duration": 21,
    "start_time": "2022-12-28T18:22:16.999Z"
   },
   {
    "duration": 19,
    "start_time": "2022-12-28T18:22:17.022Z"
   },
   {
    "duration": 8,
    "start_time": "2022-12-28T18:22:17.043Z"
   },
   {
    "duration": 5,
    "start_time": "2022-12-28T18:22:17.052Z"
   },
   {
    "duration": 43,
    "start_time": "2022-12-28T18:22:17.058Z"
   },
   {
    "duration": 3,
    "start_time": "2022-12-28T18:22:17.103Z"
   },
   {
    "duration": 39,
    "start_time": "2022-12-28T18:22:17.108Z"
   },
   {
    "duration": 4,
    "start_time": "2022-12-28T18:22:17.150Z"
   },
   {
    "duration": 220,
    "start_time": "2022-12-28T18:22:17.155Z"
   },
   {
    "duration": 157,
    "start_time": "2022-12-28T18:22:17.378Z"
   },
   {
    "duration": 38,
    "start_time": "2022-12-28T18:22:17.537Z"
   },
   {
    "duration": 47,
    "start_time": "2022-12-28T18:22:17.576Z"
   },
   {
    "duration": 4,
    "start_time": "2022-12-28T18:22:17.625Z"
   },
   {
    "duration": 32,
    "start_time": "2022-12-28T18:22:17.630Z"
   },
   {
    "duration": 6,
    "start_time": "2022-12-28T18:22:17.664Z"
   },
   {
    "duration": 47,
    "start_time": "2022-12-28T18:22:17.672Z"
   },
   {
    "duration": 140,
    "start_time": "2022-12-28T18:22:17.720Z"
   },
   {
    "duration": 44,
    "start_time": "2022-12-28T18:22:17.862Z"
   },
   {
    "duration": 9,
    "start_time": "2022-12-28T18:22:17.907Z"
   },
   {
    "duration": 5,
    "start_time": "2022-12-28T18:22:17.917Z"
   },
   {
    "duration": 29,
    "start_time": "2022-12-28T18:22:17.923Z"
   },
   {
    "duration": 6,
    "start_time": "2022-12-28T18:22:17.954Z"
   },
   {
    "duration": 193,
    "start_time": "2022-12-28T18:22:17.961Z"
   },
   {
    "duration": 134,
    "start_time": "2022-12-28T18:22:18.155Z"
   },
   {
    "duration": 29,
    "start_time": "2022-12-28T18:22:18.297Z"
   },
   {
    "duration": 6,
    "start_time": "2022-12-28T18:22:18.328Z"
   },
   {
    "duration": 26,
    "start_time": "2022-12-28T18:22:18.335Z"
   },
   {
    "duration": 142,
    "start_time": "2022-12-28T18:22:18.363Z"
   },
   {
    "duration": 129,
    "start_time": "2022-12-28T18:22:18.506Z"
   },
   {
    "duration": 8,
    "start_time": "2022-12-28T18:22:18.637Z"
   },
   {
    "duration": 37,
    "start_time": "2022-12-28T18:22:18.647Z"
   },
   {
    "duration": 7,
    "start_time": "2022-12-28T18:22:18.697Z"
   },
   {
    "duration": 39,
    "start_time": "2022-12-28T18:22:18.705Z"
   },
   {
    "duration": 56,
    "start_time": "2022-12-28T18:22:18.745Z"
   },
   {
    "duration": 35,
    "start_time": "2022-12-28T18:22:18.802Z"
   },
   {
    "duration": 6,
    "start_time": "2022-12-28T18:22:18.839Z"
   },
   {
    "duration": 8,
    "start_time": "2022-12-28T18:22:18.847Z"
   },
   {
    "duration": 42,
    "start_time": "2022-12-28T18:22:18.857Z"
   },
   {
    "duration": 5,
    "start_time": "2022-12-28T18:22:18.900Z"
   },
   {
    "duration": 19,
    "start_time": "2022-12-28T18:22:18.906Z"
   },
   {
    "duration": 10,
    "start_time": "2022-12-28T18:22:18.927Z"
   },
   {
    "duration": 38,
    "start_time": "2022-12-28T18:22:18.939Z"
   },
   {
    "duration": 14,
    "start_time": "2022-12-28T18:22:18.979Z"
   },
   {
    "duration": 10,
    "start_time": "2022-12-28T18:22:18.995Z"
   },
   {
    "duration": 12,
    "start_time": "2022-12-28T18:22:19.006Z"
   },
   {
    "duration": 14,
    "start_time": "2022-12-28T18:22:19.020Z"
   },
   {
    "duration": 35,
    "start_time": "2022-12-28T18:22:19.035Z"
   },
   {
    "duration": 52,
    "start_time": "2022-12-28T18:22:19.072Z"
   },
   {
    "duration": 32,
    "start_time": "2022-12-28T18:22:19.126Z"
   },
   {
    "duration": 44,
    "start_time": "2022-12-28T18:22:19.160Z"
   },
   {
    "duration": 303,
    "start_time": "2022-12-28T18:22:19.206Z"
   },
   {
    "duration": 5,
    "start_time": "2022-12-28T18:22:19.510Z"
   },
   {
    "duration": 33,
    "start_time": "2022-12-28T18:22:19.516Z"
   },
   {
    "duration": 207,
    "start_time": "2022-12-28T18:22:19.551Z"
   },
   {
    "duration": 9,
    "start_time": "2022-12-28T18:22:19.759Z"
   },
   {
    "duration": 233,
    "start_time": "2022-12-28T18:22:19.769Z"
   },
   {
    "duration": 8,
    "start_time": "2022-12-28T18:22:20.004Z"
   },
   {
    "duration": 331,
    "start_time": "2022-12-28T18:22:20.013Z"
   },
   {
    "duration": 8,
    "start_time": "2022-12-28T18:22:20.345Z"
   },
   {
    "duration": 7,
    "start_time": "2022-12-28T18:22:20.355Z"
   },
   {
    "duration": 9,
    "start_time": "2022-12-28T18:22:20.364Z"
   },
   {
    "duration": 20,
    "start_time": "2022-12-28T18:22:20.379Z"
   },
   {
    "duration": 9,
    "start_time": "2022-12-28T18:22:20.401Z"
   },
   {
    "duration": 234,
    "start_time": "2022-12-28T18:22:20.412Z"
   },
   {
    "duration": 7,
    "start_time": "2022-12-28T18:22:20.648Z"
   },
   {
    "duration": 154,
    "start_time": "2022-12-28T18:22:20.657Z"
   },
   {
    "duration": 9,
    "start_time": "2022-12-28T18:22:20.812Z"
   },
   {
    "duration": 133,
    "start_time": "2022-12-28T18:22:20.822Z"
   },
   {
    "duration": 8,
    "start_time": "2022-12-28T18:22:20.956Z"
   },
   {
    "duration": 156,
    "start_time": "2022-12-28T18:22:20.965Z"
   },
   {
    "duration": 7,
    "start_time": "2022-12-28T18:22:21.122Z"
   },
   {
    "duration": 115,
    "start_time": "2022-12-28T18:22:21.130Z"
   },
   {
    "duration": 7,
    "start_time": "2022-12-28T18:22:21.247Z"
   },
   {
    "duration": 132,
    "start_time": "2022-12-28T18:22:21.256Z"
   },
   {
    "duration": 8,
    "start_time": "2022-12-28T18:22:21.396Z"
   },
   {
    "duration": 153,
    "start_time": "2022-12-28T18:22:21.406Z"
   },
   {
    "duration": 11,
    "start_time": "2022-12-28T18:22:21.560Z"
   },
   {
    "duration": 174,
    "start_time": "2022-12-28T18:22:21.572Z"
   },
   {
    "duration": 10,
    "start_time": "2022-12-28T18:22:21.748Z"
   },
   {
    "duration": 144,
    "start_time": "2022-12-28T18:22:21.760Z"
   },
   {
    "duration": 9,
    "start_time": "2022-12-28T18:22:21.905Z"
   },
   {
    "duration": 7,
    "start_time": "2022-12-28T18:22:21.915Z"
   },
   {
    "duration": 256,
    "start_time": "2022-12-28T18:22:21.924Z"
   },
   {
    "duration": 6,
    "start_time": "2022-12-28T18:22:22.181Z"
   },
   {
    "duration": 149,
    "start_time": "2022-12-28T18:22:22.197Z"
   },
   {
    "duration": 247,
    "start_time": "2022-12-28T18:22:22.348Z"
   },
   {
    "duration": 5,
    "start_time": "2022-12-28T18:22:22.597Z"
   },
   {
    "duration": 18,
    "start_time": "2022-12-28T18:22:22.603Z"
   },
   {
    "duration": 28,
    "start_time": "2022-12-28T18:22:22.622Z"
   },
   {
    "duration": 14,
    "start_time": "2022-12-28T18:22:22.652Z"
   },
   {
    "duration": 13,
    "start_time": "2022-12-28T18:22:22.667Z"
   },
   {
    "duration": 14,
    "start_time": "2022-12-28T18:22:22.681Z"
   },
   {
    "duration": 260,
    "start_time": "2022-12-28T18:22:22.697Z"
   },
   {
    "duration": 4,
    "start_time": "2022-12-28T18:22:22.958Z"
   },
   {
    "duration": 261,
    "start_time": "2022-12-28T18:22:22.964Z"
   },
   {
    "duration": 4,
    "start_time": "2022-12-28T18:22:23.226Z"
   },
   {
    "duration": 255,
    "start_time": "2022-12-28T18:22:23.232Z"
   },
   {
    "duration": 11,
    "start_time": "2022-12-28T18:22:23.488Z"
   },
   {
    "duration": 26,
    "start_time": "2022-12-28T18:22:23.500Z"
   },
   {
    "duration": 13,
    "start_time": "2022-12-28T18:22:23.527Z"
   },
   {
    "duration": 130,
    "start_time": "2022-12-28T18:22:23.541Z"
   },
   {
    "duration": 26,
    "start_time": "2022-12-28T18:22:23.673Z"
   },
   {
    "duration": 16,
    "start_time": "2022-12-28T18:22:23.700Z"
   },
   {
    "duration": 151,
    "start_time": "2022-12-28T18:22:23.717Z"
   },
   {
    "duration": 5,
    "start_time": "2022-12-28T18:22:23.869Z"
   },
   {
    "duration": 27,
    "start_time": "2022-12-28T18:22:23.875Z"
   },
   {
    "duration": 4,
    "start_time": "2022-12-28T18:22:23.904Z"
   },
   {
    "duration": 159,
    "start_time": "2022-12-28T18:22:23.909Z"
   },
   {
    "duration": 13,
    "start_time": "2022-12-28T18:22:24.070Z"
   },
   {
    "duration": 236,
    "start_time": "2022-12-28T18:22:24.084Z"
   },
   {
    "duration": 16,
    "start_time": "2022-12-28T18:22:24.321Z"
   },
   {
    "duration": 9,
    "start_time": "2022-12-28T18:22:24.339Z"
   },
   {
    "duration": 19,
    "start_time": "2022-12-28T18:22:24.350Z"
   },
   {
    "duration": 5,
    "start_time": "2022-12-28T18:22:24.370Z"
   },
   {
    "duration": 14,
    "start_time": "2022-12-28T18:22:24.397Z"
   },
   {
    "duration": 6,
    "start_time": "2022-12-28T18:22:24.413Z"
   },
   {
    "duration": 21,
    "start_time": "2022-12-28T18:22:24.420Z"
   },
   {
    "duration": 144,
    "start_time": "2022-12-28T18:22:24.443Z"
   },
   {
    "duration": 18,
    "start_time": "2022-12-28T18:22:24.589Z"
   },
   {
    "duration": 226,
    "start_time": "2022-12-28T18:23:09.098Z"
   },
   {
    "duration": 636,
    "start_time": "2022-12-28T18:23:36.769Z"
   },
   {
    "duration": 84,
    "start_time": "2022-12-28T18:23:37.406Z"
   },
   {
    "duration": 82,
    "start_time": "2022-12-28T18:23:37.492Z"
   },
   {
    "duration": 25,
    "start_time": "2022-12-28T18:23:37.576Z"
   },
   {
    "duration": 1687,
    "start_time": "2022-12-28T18:23:37.603Z"
   },
   {
    "duration": 9,
    "start_time": "2022-12-28T18:23:39.292Z"
   },
   {
    "duration": 13,
    "start_time": "2022-12-28T18:23:39.303Z"
   },
   {
    "duration": 11,
    "start_time": "2022-12-28T18:23:39.317Z"
   },
   {
    "duration": 7,
    "start_time": "2022-12-28T18:23:39.329Z"
   },
   {
    "duration": 12,
    "start_time": "2022-12-28T18:23:39.338Z"
   },
   {
    "duration": 18,
    "start_time": "2022-12-28T18:23:39.351Z"
   },
   {
    "duration": 7,
    "start_time": "2022-12-28T18:23:39.370Z"
   },
   {
    "duration": 5,
    "start_time": "2022-12-28T18:23:39.379Z"
   },
   {
    "duration": 16,
    "start_time": "2022-12-28T18:23:39.385Z"
   },
   {
    "duration": 6,
    "start_time": "2022-12-28T18:23:39.402Z"
   },
   {
    "duration": 9,
    "start_time": "2022-12-28T18:23:39.410Z"
   },
   {
    "duration": 38,
    "start_time": "2022-12-28T18:23:39.421Z"
   },
   {
    "duration": 52,
    "start_time": "2022-12-28T18:23:39.461Z"
   },
   {
    "duration": 140,
    "start_time": "2022-12-28T18:23:39.514Z"
   },
   {
    "duration": 111,
    "start_time": "2022-12-28T18:23:39.655Z"
   },
   {
    "duration": 34,
    "start_time": "2022-12-28T18:23:39.767Z"
   },
   {
    "duration": 21,
    "start_time": "2022-12-28T18:23:39.802Z"
   },
   {
    "duration": 10,
    "start_time": "2022-12-28T18:23:39.824Z"
   },
   {
    "duration": 4,
    "start_time": "2022-12-28T18:23:39.835Z"
   },
   {
    "duration": 18,
    "start_time": "2022-12-28T18:23:39.840Z"
   },
   {
    "duration": 3,
    "start_time": "2022-12-28T18:23:39.860Z"
   },
   {
    "duration": 57,
    "start_time": "2022-12-28T18:23:39.864Z"
   },
   {
    "duration": 4,
    "start_time": "2022-12-28T18:23:39.924Z"
   },
   {
    "duration": 239,
    "start_time": "2022-12-28T18:23:39.929Z"
   },
   {
    "duration": 133,
    "start_time": "2022-12-28T18:23:40.170Z"
   },
   {
    "duration": 33,
    "start_time": "2022-12-28T18:23:40.305Z"
   },
   {
    "duration": 34,
    "start_time": "2022-12-28T18:23:40.339Z"
   },
   {
    "duration": 23,
    "start_time": "2022-12-28T18:23:40.374Z"
   },
   {
    "duration": 29,
    "start_time": "2022-12-28T18:23:40.398Z"
   },
   {
    "duration": 6,
    "start_time": "2022-12-28T18:23:40.428Z"
   },
   {
    "duration": 24,
    "start_time": "2022-12-28T18:23:40.436Z"
   },
   {
    "duration": 323,
    "start_time": "2022-12-28T18:23:40.461Z"
   },
   {
    "duration": 46,
    "start_time": "2022-12-28T18:23:40.785Z"
   },
   {
    "duration": 8,
    "start_time": "2022-12-28T18:23:40.832Z"
   },
   {
    "duration": 4,
    "start_time": "2022-12-28T18:23:40.842Z"
   },
   {
    "duration": 53,
    "start_time": "2022-12-28T18:23:40.848Z"
   },
   {
    "duration": 5,
    "start_time": "2022-12-28T18:23:40.903Z"
   },
   {
    "duration": 125,
    "start_time": "2022-12-28T18:23:40.910Z"
   },
   {
    "duration": 147,
    "start_time": "2022-12-28T18:23:41.037Z"
   },
   {
    "duration": 38,
    "start_time": "2022-12-28T18:23:41.186Z"
   },
   {
    "duration": 6,
    "start_time": "2022-12-28T18:23:41.225Z"
   },
   {
    "duration": 33,
    "start_time": "2022-12-28T18:23:41.233Z"
   },
   {
    "duration": 134,
    "start_time": "2022-12-28T18:23:41.267Z"
   },
   {
    "duration": 126,
    "start_time": "2022-12-28T18:23:41.403Z"
   },
   {
    "duration": 8,
    "start_time": "2022-12-28T18:23:41.531Z"
   },
   {
    "duration": 39,
    "start_time": "2022-12-28T18:23:41.540Z"
   },
   {
    "duration": 19,
    "start_time": "2022-12-28T18:23:41.580Z"
   },
   {
    "duration": 39,
    "start_time": "2022-12-28T18:23:41.600Z"
   },
   {
    "duration": 33,
    "start_time": "2022-12-28T18:23:41.641Z"
   },
   {
    "duration": 53,
    "start_time": "2022-12-28T18:23:41.676Z"
   },
   {
    "duration": 6,
    "start_time": "2022-12-28T18:23:41.730Z"
   },
   {
    "duration": 10,
    "start_time": "2022-12-28T18:23:41.738Z"
   },
   {
    "duration": 38,
    "start_time": "2022-12-28T18:23:41.749Z"
   },
   {
    "duration": 14,
    "start_time": "2022-12-28T18:23:41.788Z"
   },
   {
    "duration": 11,
    "start_time": "2022-12-28T18:23:41.803Z"
   },
   {
    "duration": 6,
    "start_time": "2022-12-28T18:23:41.815Z"
   },
   {
    "duration": 10,
    "start_time": "2022-12-28T18:23:41.822Z"
   },
   {
    "duration": 7,
    "start_time": "2022-12-28T18:23:41.834Z"
   },
   {
    "duration": 7,
    "start_time": "2022-12-28T18:23:41.843Z"
   },
   {
    "duration": 9,
    "start_time": "2022-12-28T18:23:41.852Z"
   },
   {
    "duration": 47,
    "start_time": "2022-12-28T18:23:41.862Z"
   },
   {
    "duration": 25,
    "start_time": "2022-12-28T18:23:41.911Z"
   },
   {
    "duration": 27,
    "start_time": "2022-12-28T18:23:41.937Z"
   },
   {
    "duration": 49,
    "start_time": "2022-12-28T18:23:41.965Z"
   },
   {
    "duration": 25,
    "start_time": "2022-12-28T18:23:42.015Z"
   },
   {
    "duration": 329,
    "start_time": "2022-12-28T18:23:42.041Z"
   },
   {
    "duration": 4,
    "start_time": "2022-12-28T18:23:42.371Z"
   },
   {
    "duration": 21,
    "start_time": "2022-12-28T18:23:42.377Z"
   },
   {
    "duration": 212,
    "start_time": "2022-12-28T18:23:42.399Z"
   },
   {
    "duration": 8,
    "start_time": "2022-12-28T18:23:42.613Z"
   },
   {
    "duration": 312,
    "start_time": "2022-12-28T18:23:42.623Z"
   },
   {
    "duration": 9,
    "start_time": "2022-12-28T18:23:42.937Z"
   },
   {
    "duration": 223,
    "start_time": "2022-12-28T18:23:42.947Z"
   },
   {
    "duration": 9,
    "start_time": "2022-12-28T18:23:43.172Z"
   },
   {
    "duration": 16,
    "start_time": "2022-12-28T18:23:43.183Z"
   },
   {
    "duration": 6,
    "start_time": "2022-12-28T18:23:43.200Z"
   },
   {
    "duration": 6,
    "start_time": "2022-12-28T18:23:43.212Z"
   },
   {
    "duration": 5,
    "start_time": "2022-12-28T18:23:43.219Z"
   },
   {
    "duration": 233,
    "start_time": "2022-12-28T18:23:43.225Z"
   },
   {
    "duration": 8,
    "start_time": "2022-12-28T18:23:43.460Z"
   },
   {
    "duration": 137,
    "start_time": "2022-12-28T18:23:43.469Z"
   },
   {
    "duration": 8,
    "start_time": "2022-12-28T18:23:43.607Z"
   },
   {
    "duration": 127,
    "start_time": "2022-12-28T18:23:43.617Z"
   },
   {
    "duration": 9,
    "start_time": "2022-12-28T18:23:43.746Z"
   },
   {
    "duration": 178,
    "start_time": "2022-12-28T18:23:43.757Z"
   },
   {
    "duration": 8,
    "start_time": "2022-12-28T18:23:43.936Z"
   },
   {
    "duration": 118,
    "start_time": "2022-12-28T18:23:43.945Z"
   },
   {
    "duration": 8,
    "start_time": "2022-12-28T18:23:44.065Z"
   },
   {
    "duration": 138,
    "start_time": "2022-12-28T18:23:44.075Z"
   },
   {
    "duration": 9,
    "start_time": "2022-12-28T18:23:44.214Z"
   },
   {
    "duration": 188,
    "start_time": "2022-12-28T18:23:44.227Z"
   },
   {
    "duration": 9,
    "start_time": "2022-12-28T18:23:44.417Z"
   },
   {
    "duration": 183,
    "start_time": "2022-12-28T18:23:44.427Z"
   },
   {
    "duration": 11,
    "start_time": "2022-12-28T18:23:44.612Z"
   },
   {
    "duration": 252,
    "start_time": "2022-12-28T18:23:44.625Z"
   },
   {
    "duration": 19,
    "start_time": "2022-12-28T18:23:44.879Z"
   },
   {
    "duration": 6,
    "start_time": "2022-12-28T18:23:44.899Z"
   },
   {
    "duration": 141,
    "start_time": "2022-12-28T18:23:44.907Z"
   },
   {
    "duration": 6,
    "start_time": "2022-12-28T18:23:45.050Z"
   },
   {
    "duration": 151,
    "start_time": "2022-12-28T18:23:45.057Z"
   },
   {
    "duration": 243,
    "start_time": "2022-12-28T18:23:45.209Z"
   },
   {
    "duration": 5,
    "start_time": "2022-12-28T18:23:45.464Z"
   },
   {
    "duration": 6,
    "start_time": "2022-12-28T18:23:45.471Z"
   },
   {
    "duration": 12,
    "start_time": "2022-12-28T18:23:45.478Z"
   },
   {
    "duration": 4,
    "start_time": "2022-12-28T18:23:45.497Z"
   },
   {
    "duration": 6,
    "start_time": "2022-12-28T18:23:45.503Z"
   },
   {
    "duration": 6,
    "start_time": "2022-12-28T18:23:45.510Z"
   },
   {
    "duration": 263,
    "start_time": "2022-12-28T18:23:45.518Z"
   },
   {
    "duration": 17,
    "start_time": "2022-12-28T18:23:45.783Z"
   },
   {
    "duration": 260,
    "start_time": "2022-12-28T18:23:45.801Z"
   },
   {
    "duration": 5,
    "start_time": "2022-12-28T18:23:46.062Z"
   },
   {
    "duration": 265,
    "start_time": "2022-12-28T18:23:46.068Z"
   },
   {
    "duration": 4,
    "start_time": "2022-12-28T18:23:46.334Z"
   },
   {
    "duration": 23,
    "start_time": "2022-12-28T18:23:46.339Z"
   },
   {
    "duration": 35,
    "start_time": "2022-12-28T18:23:46.363Z"
   },
   {
    "duration": 119,
    "start_time": "2022-12-28T18:23:46.399Z"
   },
   {
    "duration": 13,
    "start_time": "2022-12-28T18:23:46.520Z"
   },
   {
    "duration": 11,
    "start_time": "2022-12-28T18:23:46.534Z"
   },
   {
    "duration": 154,
    "start_time": "2022-12-28T18:23:46.546Z"
   },
   {
    "duration": 4,
    "start_time": "2022-12-28T18:23:46.701Z"
   },
   {
    "duration": 16,
    "start_time": "2022-12-28T18:23:46.707Z"
   },
   {
    "duration": 4,
    "start_time": "2022-12-28T18:23:46.724Z"
   },
   {
    "duration": 153,
    "start_time": "2022-12-28T18:23:46.730Z"
   },
   {
    "duration": 16,
    "start_time": "2022-12-28T18:23:46.885Z"
   },
   {
    "duration": 244,
    "start_time": "2022-12-28T18:23:46.903Z"
   },
   {
    "duration": 14,
    "start_time": "2022-12-28T18:23:47.149Z"
   },
   {
    "duration": 9,
    "start_time": "2022-12-28T18:23:47.165Z"
   },
   {
    "duration": 28,
    "start_time": "2022-12-28T18:23:47.175Z"
   },
   {
    "duration": 4,
    "start_time": "2022-12-28T18:23:47.204Z"
   },
   {
    "duration": 16,
    "start_time": "2022-12-28T18:23:47.209Z"
   },
   {
    "duration": 5,
    "start_time": "2022-12-28T18:23:47.226Z"
   },
   {
    "duration": 15,
    "start_time": "2022-12-28T18:23:47.232Z"
   },
   {
    "duration": 145,
    "start_time": "2022-12-28T18:23:47.248Z"
   },
   {
    "duration": 13,
    "start_time": "2022-12-28T18:23:47.398Z"
   },
   {
    "duration": 163,
    "start_time": "2022-12-28T18:24:48.927Z"
   },
   {
    "duration": 136,
    "start_time": "2022-12-28T18:24:55.975Z"
   },
   {
    "duration": 160,
    "start_time": "2022-12-28T18:25:00.887Z"
   },
   {
    "duration": 156,
    "start_time": "2022-12-28T18:25:06.105Z"
   },
   {
    "duration": 626,
    "start_time": "2022-12-28T18:25:12.500Z"
   },
   {
    "duration": 87,
    "start_time": "2022-12-28T18:25:13.128Z"
   },
   {
    "duration": 99,
    "start_time": "2022-12-28T18:25:13.216Z"
   },
   {
    "duration": 14,
    "start_time": "2022-12-28T18:25:13.317Z"
   },
   {
    "duration": 1817,
    "start_time": "2022-12-28T18:25:13.333Z"
   },
   {
    "duration": 10,
    "start_time": "2022-12-28T18:25:15.151Z"
   },
   {
    "duration": 16,
    "start_time": "2022-12-28T18:25:15.162Z"
   },
   {
    "duration": 10,
    "start_time": "2022-12-28T18:25:15.179Z"
   },
   {
    "duration": 10,
    "start_time": "2022-12-28T18:25:15.190Z"
   },
   {
    "duration": 6,
    "start_time": "2022-12-28T18:25:15.203Z"
   },
   {
    "duration": 5,
    "start_time": "2022-12-28T18:25:15.210Z"
   },
   {
    "duration": 18,
    "start_time": "2022-12-28T18:25:15.216Z"
   },
   {
    "duration": 13,
    "start_time": "2022-12-28T18:25:15.235Z"
   },
   {
    "duration": 9,
    "start_time": "2022-12-28T18:25:15.250Z"
   },
   {
    "duration": 11,
    "start_time": "2022-12-28T18:25:15.261Z"
   },
   {
    "duration": 14,
    "start_time": "2022-12-28T18:25:15.274Z"
   },
   {
    "duration": 30,
    "start_time": "2022-12-28T18:25:15.289Z"
   },
   {
    "duration": 50,
    "start_time": "2022-12-28T18:25:15.320Z"
   },
   {
    "duration": 137,
    "start_time": "2022-12-28T18:25:15.371Z"
   },
   {
    "duration": 116,
    "start_time": "2022-12-28T18:25:15.509Z"
   },
   {
    "duration": 24,
    "start_time": "2022-12-28T18:25:15.627Z"
   },
   {
    "duration": 44,
    "start_time": "2022-12-28T18:25:15.653Z"
   },
   {
    "duration": 13,
    "start_time": "2022-12-28T18:25:15.699Z"
   },
   {
    "duration": 4,
    "start_time": "2022-12-28T18:25:15.714Z"
   },
   {
    "duration": 20,
    "start_time": "2022-12-28T18:25:15.720Z"
   },
   {
    "duration": 4,
    "start_time": "2022-12-28T18:25:15.742Z"
   },
   {
    "duration": 50,
    "start_time": "2022-12-28T18:25:15.747Z"
   },
   {
    "duration": 4,
    "start_time": "2022-12-28T18:25:15.801Z"
   },
   {
    "duration": 222,
    "start_time": "2022-12-28T18:25:15.807Z"
   },
   {
    "duration": 142,
    "start_time": "2022-12-28T18:25:16.030Z"
   },
   {
    "duration": 42,
    "start_time": "2022-12-28T18:25:16.174Z"
   },
   {
    "duration": 36,
    "start_time": "2022-12-28T18:25:16.218Z"
   },
   {
    "duration": 4,
    "start_time": "2022-12-28T18:25:16.256Z"
   },
   {
    "duration": 43,
    "start_time": "2022-12-28T18:25:16.262Z"
   },
   {
    "duration": 28,
    "start_time": "2022-12-28T18:25:16.306Z"
   },
   {
    "duration": 51,
    "start_time": "2022-12-28T18:25:16.336Z"
   },
   {
    "duration": 175,
    "start_time": "2022-12-28T18:25:16.388Z"
   },
   {
    "duration": 50,
    "start_time": "2022-12-28T18:25:16.565Z"
   },
   {
    "duration": 9,
    "start_time": "2022-12-28T18:25:16.617Z"
   },
   {
    "duration": 16,
    "start_time": "2022-12-28T18:25:16.627Z"
   },
   {
    "duration": 43,
    "start_time": "2022-12-28T18:25:16.645Z"
   },
   {
    "duration": 8,
    "start_time": "2022-12-28T18:25:16.690Z"
   },
   {
    "duration": 190,
    "start_time": "2022-12-28T18:25:16.700Z"
   },
   {
    "duration": 150,
    "start_time": "2022-12-28T18:25:16.892Z"
   },
   {
    "duration": 32,
    "start_time": "2022-12-28T18:25:17.044Z"
   },
   {
    "duration": 18,
    "start_time": "2022-12-28T18:25:17.079Z"
   },
   {
    "duration": 30,
    "start_time": "2022-12-28T18:25:17.099Z"
   },
   {
    "duration": 172,
    "start_time": "2022-12-28T18:25:17.130Z"
   },
   {
    "duration": 125,
    "start_time": "2022-12-28T18:25:17.303Z"
   },
   {
    "duration": 8,
    "start_time": "2022-12-28T18:25:17.430Z"
   },
   {
    "duration": 42,
    "start_time": "2022-12-28T18:25:17.439Z"
   },
   {
    "duration": 19,
    "start_time": "2022-12-28T18:25:17.482Z"
   },
   {
    "duration": 45,
    "start_time": "2022-12-28T18:25:17.503Z"
   },
   {
    "duration": 49,
    "start_time": "2022-12-28T18:25:17.549Z"
   },
   {
    "duration": 34,
    "start_time": "2022-12-28T18:25:17.600Z"
   },
   {
    "duration": 6,
    "start_time": "2022-12-28T18:25:17.636Z"
   },
   {
    "duration": 9,
    "start_time": "2022-12-28T18:25:17.644Z"
   },
   {
    "duration": 23,
    "start_time": "2022-12-28T18:25:17.654Z"
   },
   {
    "duration": 6,
    "start_time": "2022-12-28T18:25:17.697Z"
   },
   {
    "duration": 16,
    "start_time": "2022-12-28T18:25:17.704Z"
   },
   {
    "duration": 6,
    "start_time": "2022-12-28T18:25:17.722Z"
   },
   {
    "duration": 13,
    "start_time": "2022-12-28T18:25:17.729Z"
   },
   {
    "duration": 6,
    "start_time": "2022-12-28T18:25:17.743Z"
   },
   {
    "duration": 7,
    "start_time": "2022-12-28T18:25:17.750Z"
   },
   {
    "duration": 7,
    "start_time": "2022-12-28T18:25:17.758Z"
   },
   {
    "duration": 36,
    "start_time": "2022-12-28T18:25:17.767Z"
   },
   {
    "duration": 24,
    "start_time": "2022-12-28T18:25:17.804Z"
   },
   {
    "duration": 35,
    "start_time": "2022-12-28T18:25:17.830Z"
   },
   {
    "duration": 41,
    "start_time": "2022-12-28T18:25:17.866Z"
   },
   {
    "duration": 28,
    "start_time": "2022-12-28T18:25:17.908Z"
   },
   {
    "duration": 325,
    "start_time": "2022-12-28T18:25:17.938Z"
   },
   {
    "duration": 5,
    "start_time": "2022-12-28T18:25:18.264Z"
   },
   {
    "duration": 11,
    "start_time": "2022-12-28T18:25:18.270Z"
   },
   {
    "duration": 223,
    "start_time": "2022-12-28T18:25:18.283Z"
   },
   {
    "duration": 10,
    "start_time": "2022-12-28T18:25:18.507Z"
   },
   {
    "duration": 236,
    "start_time": "2022-12-28T18:25:18.518Z"
   },
   {
    "duration": 8,
    "start_time": "2022-12-28T18:25:18.756Z"
   },
   {
    "duration": 337,
    "start_time": "2022-12-28T18:25:18.765Z"
   },
   {
    "duration": 9,
    "start_time": "2022-12-28T18:25:19.104Z"
   },
   {
    "duration": 5,
    "start_time": "2022-12-28T18:25:19.115Z"
   },
   {
    "duration": 10,
    "start_time": "2022-12-28T18:25:19.121Z"
   },
   {
    "duration": 5,
    "start_time": "2022-12-28T18:25:19.138Z"
   },
   {
    "duration": 8,
    "start_time": "2022-12-28T18:25:19.145Z"
   },
   {
    "duration": 257,
    "start_time": "2022-12-28T18:25:19.154Z"
   },
   {
    "duration": 7,
    "start_time": "2022-12-28T18:25:19.413Z"
   },
   {
    "duration": 143,
    "start_time": "2022-12-28T18:25:19.421Z"
   },
   {
    "duration": 10,
    "start_time": "2022-12-28T18:25:19.566Z"
   },
   {
    "duration": 146,
    "start_time": "2022-12-28T18:25:19.578Z"
   },
   {
    "duration": 7,
    "start_time": "2022-12-28T18:25:19.725Z"
   },
   {
    "duration": 149,
    "start_time": "2022-12-28T18:25:19.734Z"
   },
   {
    "duration": 6,
    "start_time": "2022-12-28T18:25:19.885Z"
   },
   {
    "duration": 114,
    "start_time": "2022-12-28T18:25:19.897Z"
   },
   {
    "duration": 8,
    "start_time": "2022-12-28T18:25:20.013Z"
   },
   {
    "duration": 141,
    "start_time": "2022-12-28T18:25:20.023Z"
   },
   {
    "duration": 10,
    "start_time": "2022-12-28T18:25:20.166Z"
   },
   {
    "duration": 171,
    "start_time": "2022-12-28T18:25:20.178Z"
   },
   {
    "duration": 8,
    "start_time": "2022-12-28T18:25:20.351Z"
   },
   {
    "duration": 161,
    "start_time": "2022-12-28T18:25:20.361Z"
   },
   {
    "duration": 10,
    "start_time": "2022-12-28T18:25:20.526Z"
   },
   {
    "duration": 136,
    "start_time": "2022-12-28T18:25:20.537Z"
   },
   {
    "duration": 9,
    "start_time": "2022-12-28T18:25:20.675Z"
   },
   {
    "duration": 5,
    "start_time": "2022-12-28T18:25:20.697Z"
   },
   {
    "duration": 231,
    "start_time": "2022-12-28T18:25:20.704Z"
   },
   {
    "duration": 5,
    "start_time": "2022-12-28T18:25:20.937Z"
   },
   {
    "duration": 142,
    "start_time": "2022-12-28T18:25:20.944Z"
   },
   {
    "duration": 249,
    "start_time": "2022-12-28T18:25:21.087Z"
   },
   {
    "duration": 4,
    "start_time": "2022-12-28T18:25:21.338Z"
   },
   {
    "duration": 6,
    "start_time": "2022-12-28T18:25:21.343Z"
   },
   {
    "duration": 10,
    "start_time": "2022-12-28T18:25:21.350Z"
   },
   {
    "duration": 4,
    "start_time": "2022-12-28T18:25:21.361Z"
   },
   {
    "duration": 7,
    "start_time": "2022-12-28T18:25:21.366Z"
   },
   {
    "duration": 24,
    "start_time": "2022-12-28T18:25:21.375Z"
   },
   {
    "duration": 260,
    "start_time": "2022-12-28T18:25:21.401Z"
   },
   {
    "duration": 5,
    "start_time": "2022-12-28T18:25:21.663Z"
   },
   {
    "duration": 269,
    "start_time": "2022-12-28T18:25:21.669Z"
   },
   {
    "duration": 6,
    "start_time": "2022-12-28T18:25:21.940Z"
   },
   {
    "duration": 277,
    "start_time": "2022-12-28T18:25:21.948Z"
   },
   {
    "duration": 4,
    "start_time": "2022-12-28T18:25:22.226Z"
   },
   {
    "duration": 21,
    "start_time": "2022-12-28T18:25:22.232Z"
   },
   {
    "duration": 14,
    "start_time": "2022-12-28T18:25:22.254Z"
   },
   {
    "duration": 148,
    "start_time": "2022-12-28T18:25:22.270Z"
   },
   {
    "duration": 14,
    "start_time": "2022-12-28T18:25:22.419Z"
   },
   {
    "duration": 15,
    "start_time": "2022-12-28T18:25:22.434Z"
   },
   {
    "duration": 152,
    "start_time": "2022-12-28T18:25:22.450Z"
   },
   {
    "duration": 4,
    "start_time": "2022-12-28T18:25:22.604Z"
   },
   {
    "duration": 19,
    "start_time": "2022-12-28T18:25:22.609Z"
   },
   {
    "duration": 5,
    "start_time": "2022-12-28T18:25:22.630Z"
   },
   {
    "duration": 152,
    "start_time": "2022-12-28T18:25:22.636Z"
   },
   {
    "duration": 18,
    "start_time": "2022-12-28T18:25:22.789Z"
   },
   {
    "duration": 236,
    "start_time": "2022-12-28T18:25:22.809Z"
   },
   {
    "duration": 12,
    "start_time": "2022-12-28T18:25:23.047Z"
   },
   {
    "duration": 6,
    "start_time": "2022-12-28T18:25:23.061Z"
   },
   {
    "duration": 16,
    "start_time": "2022-12-28T18:25:23.069Z"
   },
   {
    "duration": 5,
    "start_time": "2022-12-28T18:25:23.096Z"
   },
   {
    "duration": 16,
    "start_time": "2022-12-28T18:25:23.103Z"
   },
   {
    "duration": 6,
    "start_time": "2022-12-28T18:25:23.120Z"
   },
   {
    "duration": 16,
    "start_time": "2022-12-28T18:25:23.127Z"
   },
   {
    "duration": 139,
    "start_time": "2022-12-28T18:25:23.144Z"
   },
   {
    "duration": 18,
    "start_time": "2022-12-28T18:25:23.284Z"
   },
   {
    "duration": 143,
    "start_time": "2022-12-28T18:26:09.295Z"
   },
   {
    "duration": 129,
    "start_time": "2022-12-28T18:26:16.076Z"
   },
   {
    "duration": 171,
    "start_time": "2022-12-28T18:26:30.254Z"
   },
   {
    "duration": 128,
    "start_time": "2022-12-28T18:26:34.960Z"
   },
   {
    "duration": 627,
    "start_time": "2022-12-28T18:26:49.432Z"
   },
   {
    "duration": 92,
    "start_time": "2022-12-28T18:26:50.061Z"
   },
   {
    "duration": 96,
    "start_time": "2022-12-28T18:26:50.154Z"
   },
   {
    "duration": 13,
    "start_time": "2022-12-28T18:26:50.252Z"
   },
   {
    "duration": 1695,
    "start_time": "2022-12-28T18:26:50.267Z"
   },
   {
    "duration": 9,
    "start_time": "2022-12-28T18:26:51.964Z"
   },
   {
    "duration": 12,
    "start_time": "2022-12-28T18:26:51.974Z"
   },
   {
    "duration": 9,
    "start_time": "2022-12-28T18:26:51.987Z"
   },
   {
    "duration": 10,
    "start_time": "2022-12-28T18:26:51.998Z"
   },
   {
    "duration": 7,
    "start_time": "2022-12-28T18:26:52.010Z"
   },
   {
    "duration": 19,
    "start_time": "2022-12-28T18:26:52.018Z"
   },
   {
    "duration": 8,
    "start_time": "2022-12-28T18:26:52.038Z"
   },
   {
    "duration": 16,
    "start_time": "2022-12-28T18:26:52.048Z"
   },
   {
    "duration": 6,
    "start_time": "2022-12-28T18:26:52.066Z"
   },
   {
    "duration": 6,
    "start_time": "2022-12-28T18:26:52.073Z"
   },
   {
    "duration": 10,
    "start_time": "2022-12-28T18:26:52.080Z"
   },
   {
    "duration": 29,
    "start_time": "2022-12-28T18:26:52.092Z"
   },
   {
    "duration": 45,
    "start_time": "2022-12-28T18:26:52.123Z"
   },
   {
    "duration": 123,
    "start_time": "2022-12-28T18:26:52.169Z"
   },
   {
    "duration": 111,
    "start_time": "2022-12-28T18:26:52.298Z"
   },
   {
    "duration": 23,
    "start_time": "2022-12-28T18:26:52.410Z"
   },
   {
    "duration": 20,
    "start_time": "2022-12-28T18:26:52.434Z"
   },
   {
    "duration": 8,
    "start_time": "2022-12-28T18:26:52.456Z"
   },
   {
    "duration": 31,
    "start_time": "2022-12-28T18:26:52.466Z"
   },
   {
    "duration": 14,
    "start_time": "2022-12-28T18:26:52.498Z"
   },
   {
    "duration": 12,
    "start_time": "2022-12-28T18:26:52.514Z"
   },
   {
    "duration": 104,
    "start_time": "2022-12-28T18:26:52.527Z"
   },
   {
    "duration": 3,
    "start_time": "2022-12-28T18:26:52.636Z"
   },
   {
    "duration": 206,
    "start_time": "2022-12-28T18:26:52.642Z"
   },
   {
    "duration": 132,
    "start_time": "2022-12-28T18:26:52.850Z"
   },
   {
    "duration": 41,
    "start_time": "2022-12-28T18:26:52.983Z"
   },
   {
    "duration": 34,
    "start_time": "2022-12-28T18:26:53.025Z"
   },
   {
    "duration": 4,
    "start_time": "2022-12-28T18:26:53.061Z"
   },
   {
    "duration": 41,
    "start_time": "2022-12-28T18:26:53.066Z"
   },
   {
    "duration": 6,
    "start_time": "2022-12-28T18:26:53.108Z"
   },
   {
    "duration": 26,
    "start_time": "2022-12-28T18:26:53.115Z"
   },
   {
    "duration": 139,
    "start_time": "2022-12-28T18:26:53.143Z"
   },
   {
    "duration": 43,
    "start_time": "2022-12-28T18:26:53.283Z"
   },
   {
    "duration": 9,
    "start_time": "2022-12-28T18:26:53.328Z"
   },
   {
    "duration": 5,
    "start_time": "2022-12-28T18:26:53.339Z"
   },
   {
    "duration": 31,
    "start_time": "2022-12-28T18:26:53.345Z"
   },
   {
    "duration": 23,
    "start_time": "2022-12-28T18:26:53.377Z"
   },
   {
    "duration": 197,
    "start_time": "2022-12-28T18:26:53.402Z"
   },
   {
    "duration": 144,
    "start_time": "2022-12-28T18:26:53.601Z"
   },
   {
    "duration": 28,
    "start_time": "2022-12-28T18:26:53.747Z"
   },
   {
    "duration": 22,
    "start_time": "2022-12-28T18:26:53.777Z"
   },
   {
    "duration": 26,
    "start_time": "2022-12-28T18:26:53.801Z"
   },
   {
    "duration": 138,
    "start_time": "2022-12-28T18:26:53.829Z"
   },
   {
    "duration": 145,
    "start_time": "2022-12-28T18:26:53.969Z"
   },
   {
    "duration": 10,
    "start_time": "2022-12-28T18:26:54.115Z"
   },
   {
    "duration": 50,
    "start_time": "2022-12-28T18:26:54.126Z"
   },
   {
    "duration": 6,
    "start_time": "2022-12-28T18:26:54.178Z"
   },
   {
    "duration": 45,
    "start_time": "2022-12-28T18:26:54.186Z"
   },
   {
    "duration": 35,
    "start_time": "2022-12-28T18:26:54.232Z"
   },
   {
    "duration": 50,
    "start_time": "2022-12-28T18:26:54.268Z"
   },
   {
    "duration": 6,
    "start_time": "2022-12-28T18:26:54.320Z"
   },
   {
    "duration": 13,
    "start_time": "2022-12-28T18:26:54.327Z"
   },
   {
    "duration": 43,
    "start_time": "2022-12-28T18:26:54.342Z"
   },
   {
    "duration": 5,
    "start_time": "2022-12-28T18:26:54.386Z"
   },
   {
    "duration": 7,
    "start_time": "2022-12-28T18:26:54.393Z"
   },
   {
    "duration": 5,
    "start_time": "2022-12-28T18:26:54.402Z"
   },
   {
    "duration": 7,
    "start_time": "2022-12-28T18:26:54.409Z"
   },
   {
    "duration": 6,
    "start_time": "2022-12-28T18:26:54.417Z"
   },
   {
    "duration": 7,
    "start_time": "2022-12-28T18:26:54.424Z"
   },
   {
    "duration": 7,
    "start_time": "2022-12-28T18:26:54.432Z"
   },
   {
    "duration": 12,
    "start_time": "2022-12-28T18:26:54.441Z"
   },
   {
    "duration": 62,
    "start_time": "2022-12-28T18:26:54.454Z"
   },
   {
    "duration": 23,
    "start_time": "2022-12-28T18:26:54.518Z"
   },
   {
    "duration": 23,
    "start_time": "2022-12-28T18:26:54.543Z"
   },
   {
    "duration": 47,
    "start_time": "2022-12-28T18:26:54.568Z"
   },
   {
    "duration": 381,
    "start_time": "2022-12-28T18:26:54.617Z"
   },
   {
    "duration": 6,
    "start_time": "2022-12-28T18:26:55.000Z"
   },
   {
    "duration": 37,
    "start_time": "2022-12-28T18:26:55.008Z"
   },
   {
    "duration": 215,
    "start_time": "2022-12-28T18:26:55.047Z"
   },
   {
    "duration": 10,
    "start_time": "2022-12-28T18:26:55.263Z"
   },
   {
    "duration": 230,
    "start_time": "2022-12-28T18:26:55.275Z"
   },
   {
    "duration": 8,
    "start_time": "2022-12-28T18:26:55.506Z"
   },
   {
    "duration": 316,
    "start_time": "2022-12-28T18:26:55.516Z"
   },
   {
    "duration": 8,
    "start_time": "2022-12-28T18:26:55.834Z"
   },
   {
    "duration": 4,
    "start_time": "2022-12-28T18:26:55.844Z"
   },
   {
    "duration": 5,
    "start_time": "2022-12-28T18:26:55.850Z"
   },
   {
    "duration": 7,
    "start_time": "2022-12-28T18:26:55.860Z"
   },
   {
    "duration": 31,
    "start_time": "2022-12-28T18:26:55.868Z"
   },
   {
    "duration": 224,
    "start_time": "2022-12-28T18:26:55.901Z"
   },
   {
    "duration": 7,
    "start_time": "2022-12-28T18:26:56.127Z"
   },
   {
    "duration": 155,
    "start_time": "2022-12-28T18:26:56.135Z"
   },
   {
    "duration": 9,
    "start_time": "2022-12-28T18:26:56.296Z"
   },
   {
    "duration": 138,
    "start_time": "2022-12-28T18:26:56.306Z"
   },
   {
    "duration": 9,
    "start_time": "2022-12-28T18:26:56.445Z"
   },
   {
    "duration": 161,
    "start_time": "2022-12-28T18:26:56.456Z"
   },
   {
    "duration": 6,
    "start_time": "2022-12-28T18:26:56.618Z"
   },
   {
    "duration": 111,
    "start_time": "2022-12-28T18:26:56.626Z"
   },
   {
    "duration": 8,
    "start_time": "2022-12-28T18:26:56.738Z"
   },
   {
    "duration": 136,
    "start_time": "2022-12-28T18:26:56.748Z"
   },
   {
    "duration": 16,
    "start_time": "2022-12-28T18:26:56.885Z"
   },
   {
    "duration": 153,
    "start_time": "2022-12-28T18:26:56.903Z"
   },
   {
    "duration": 9,
    "start_time": "2022-12-28T18:26:57.057Z"
   },
   {
    "duration": 161,
    "start_time": "2022-12-28T18:26:57.067Z"
   },
   {
    "duration": 10,
    "start_time": "2022-12-28T18:26:57.229Z"
   },
   {
    "duration": 145,
    "start_time": "2022-12-28T18:26:57.240Z"
   },
   {
    "duration": 15,
    "start_time": "2022-12-28T18:26:57.387Z"
   },
   {
    "duration": 5,
    "start_time": "2022-12-28T18:26:57.403Z"
   },
   {
    "duration": 229,
    "start_time": "2022-12-28T18:26:57.409Z"
   },
   {
    "duration": 5,
    "start_time": "2022-12-28T18:26:57.640Z"
   },
   {
    "duration": 137,
    "start_time": "2022-12-28T18:26:57.646Z"
   },
   {
    "duration": 255,
    "start_time": "2022-12-28T18:26:57.784Z"
   },
   {
    "duration": 5,
    "start_time": "2022-12-28T18:26:58.041Z"
   },
   {
    "duration": 7,
    "start_time": "2022-12-28T18:26:58.047Z"
   },
   {
    "duration": 9,
    "start_time": "2022-12-28T18:26:58.056Z"
   },
   {
    "duration": 4,
    "start_time": "2022-12-28T18:26:58.066Z"
   },
   {
    "duration": 26,
    "start_time": "2022-12-28T18:26:58.071Z"
   },
   {
    "duration": 4,
    "start_time": "2022-12-28T18:26:58.099Z"
   },
   {
    "duration": 266,
    "start_time": "2022-12-28T18:26:58.105Z"
   },
   {
    "duration": 4,
    "start_time": "2022-12-28T18:26:58.373Z"
   },
   {
    "duration": 254,
    "start_time": "2022-12-28T18:26:58.378Z"
   },
   {
    "duration": 5,
    "start_time": "2022-12-28T18:26:58.633Z"
   },
   {
    "duration": 291,
    "start_time": "2022-12-28T18:26:58.639Z"
   },
   {
    "duration": 5,
    "start_time": "2022-12-28T18:26:58.932Z"
   },
   {
    "duration": 77,
    "start_time": "2022-12-28T18:26:58.939Z"
   },
   {
    "duration": 14,
    "start_time": "2022-12-28T18:26:59.018Z"
   },
   {
    "duration": 183,
    "start_time": "2022-12-28T18:26:59.033Z"
   },
   {
    "duration": 14,
    "start_time": "2022-12-28T18:26:59.217Z"
   },
   {
    "duration": 13,
    "start_time": "2022-12-28T18:26:59.232Z"
   },
   {
    "duration": 154,
    "start_time": "2022-12-28T18:26:59.246Z"
   },
   {
    "duration": 5,
    "start_time": "2022-12-28T18:26:59.401Z"
   },
   {
    "duration": 16,
    "start_time": "2022-12-28T18:26:59.407Z"
   },
   {
    "duration": 12,
    "start_time": "2022-12-28T18:26:59.424Z"
   },
   {
    "duration": 180,
    "start_time": "2022-12-28T18:26:59.438Z"
   },
   {
    "duration": 13,
    "start_time": "2022-12-28T18:26:59.620Z"
   },
   {
    "duration": 439,
    "start_time": "2022-12-28T18:26:59.635Z"
   },
   {
    "duration": 22,
    "start_time": "2022-12-28T18:27:00.076Z"
   },
   {
    "duration": 40,
    "start_time": "2022-12-28T18:27:00.099Z"
   },
   {
    "duration": 14,
    "start_time": "2022-12-28T18:27:00.140Z"
   },
   {
    "duration": 6,
    "start_time": "2022-12-28T18:27:00.156Z"
   },
   {
    "duration": 18,
    "start_time": "2022-12-28T18:27:00.165Z"
   },
   {
    "duration": 12,
    "start_time": "2022-12-28T18:27:00.184Z"
   },
   {
    "duration": 45,
    "start_time": "2022-12-28T18:27:00.198Z"
   },
   {
    "duration": 157,
    "start_time": "2022-12-28T18:27:00.245Z"
   },
   {
    "duration": 15,
    "start_time": "2022-12-28T18:27:00.404Z"
   },
   {
    "duration": 9,
    "start_time": "2022-12-28T18:37:43.646Z"
   },
   {
    "duration": 159,
    "start_time": "2022-12-28T18:49:55.428Z"
   },
   {
    "duration": 194,
    "start_time": "2022-12-28T18:50:21.497Z"
   },
   {
    "duration": 131,
    "start_time": "2022-12-28T18:50:36.512Z"
   },
   {
    "duration": 164,
    "start_time": "2022-12-28T18:50:45.886Z"
   },
   {
    "duration": 159,
    "start_time": "2022-12-28T18:51:01.566Z"
   },
   {
    "duration": 293,
    "start_time": "2022-12-28T18:51:08.115Z"
   },
   {
    "duration": 179,
    "start_time": "2022-12-28T18:51:14.122Z"
   },
   {
    "duration": 647,
    "start_time": "2022-12-28T19:48:01.803Z"
   },
   {
    "duration": 87,
    "start_time": "2022-12-28T19:48:02.452Z"
   },
   {
    "duration": 101,
    "start_time": "2022-12-28T19:48:02.541Z"
   },
   {
    "duration": 13,
    "start_time": "2022-12-28T19:48:02.644Z"
   },
   {
    "duration": 1819,
    "start_time": "2022-12-28T19:48:02.659Z"
   },
   {
    "duration": 10,
    "start_time": "2022-12-28T19:48:04.480Z"
   },
   {
    "duration": 16,
    "start_time": "2022-12-28T19:48:04.492Z"
   },
   {
    "duration": 13,
    "start_time": "2022-12-28T19:48:04.509Z"
   },
   {
    "duration": 8,
    "start_time": "2022-12-28T19:48:04.524Z"
   },
   {
    "duration": 19,
    "start_time": "2022-12-28T19:48:04.535Z"
   },
   {
    "duration": 6,
    "start_time": "2022-12-28T19:48:04.556Z"
   },
   {
    "duration": 13,
    "start_time": "2022-12-28T19:48:04.564Z"
   },
   {
    "duration": 6,
    "start_time": "2022-12-28T19:48:04.596Z"
   },
   {
    "duration": 24,
    "start_time": "2022-12-28T19:48:04.606Z"
   },
   {
    "duration": 16,
    "start_time": "2022-12-28T19:48:04.632Z"
   },
   {
    "duration": 18,
    "start_time": "2022-12-28T19:48:04.650Z"
   },
   {
    "duration": 39,
    "start_time": "2022-12-28T19:48:04.670Z"
   },
   {
    "duration": 85,
    "start_time": "2022-12-28T19:48:04.712Z"
   },
   {
    "duration": 176,
    "start_time": "2022-12-28T19:48:04.799Z"
   },
   {
    "duration": 123,
    "start_time": "2022-12-28T19:48:04.977Z"
   },
   {
    "duration": 24,
    "start_time": "2022-12-28T19:48:05.101Z"
   },
   {
    "duration": 29,
    "start_time": "2022-12-28T19:48:05.127Z"
   },
   {
    "duration": 10,
    "start_time": "2022-12-28T19:48:05.157Z"
   },
   {
    "duration": 4,
    "start_time": "2022-12-28T19:48:05.169Z"
   },
   {
    "duration": 46,
    "start_time": "2022-12-28T19:48:05.174Z"
   },
   {
    "duration": 5,
    "start_time": "2022-12-28T19:48:05.221Z"
   },
   {
    "duration": 52,
    "start_time": "2022-12-28T19:48:05.227Z"
   },
   {
    "duration": 5,
    "start_time": "2022-12-28T19:48:05.280Z"
   },
   {
    "duration": 246,
    "start_time": "2022-12-28T19:48:05.286Z"
   },
   {
    "duration": 154,
    "start_time": "2022-12-28T19:48:05.534Z"
   },
   {
    "duration": 44,
    "start_time": "2022-12-28T19:48:05.690Z"
   },
   {
    "duration": 43,
    "start_time": "2022-12-28T19:48:05.735Z"
   },
   {
    "duration": 21,
    "start_time": "2022-12-28T19:48:05.780Z"
   },
   {
    "duration": 30,
    "start_time": "2022-12-28T19:48:05.803Z"
   },
   {
    "duration": 8,
    "start_time": "2022-12-28T19:48:05.835Z"
   },
   {
    "duration": 39,
    "start_time": "2022-12-28T19:48:05.844Z"
   },
   {
    "duration": 149,
    "start_time": "2022-12-28T19:48:05.897Z"
   },
   {
    "duration": 51,
    "start_time": "2022-12-28T19:48:06.047Z"
   },
   {
    "duration": 12,
    "start_time": "2022-12-28T19:48:06.100Z"
   },
   {
    "duration": 8,
    "start_time": "2022-12-28T19:48:06.113Z"
   },
   {
    "duration": 31,
    "start_time": "2022-12-28T19:48:06.223Z"
   },
   {
    "duration": 7,
    "start_time": "2022-12-28T19:48:06.257Z"
   },
   {
    "duration": 178,
    "start_time": "2022-12-28T19:48:06.266Z"
   },
   {
    "duration": 175,
    "start_time": "2022-12-28T19:48:06.445Z"
   },
   {
    "duration": 30,
    "start_time": "2022-12-28T19:48:06.622Z"
   },
   {
    "duration": 15,
    "start_time": "2022-12-28T19:48:06.654Z"
   },
   {
    "duration": 39,
    "start_time": "2022-12-28T19:48:06.670Z"
   },
   {
    "duration": 128,
    "start_time": "2022-12-28T19:48:06.711Z"
   },
   {
    "duration": 144,
    "start_time": "2022-12-28T19:48:06.841Z"
   },
   {
    "duration": 20,
    "start_time": "2022-12-28T19:48:06.986Z"
   },
   {
    "duration": 48,
    "start_time": "2022-12-28T19:48:07.008Z"
   },
   {
    "duration": 7,
    "start_time": "2022-12-28T19:48:07.058Z"
   },
   {
    "duration": 63,
    "start_time": "2022-12-28T19:48:07.067Z"
   },
   {
    "duration": 37,
    "start_time": "2022-12-28T19:48:07.132Z"
   },
   {
    "duration": 60,
    "start_time": "2022-12-28T19:48:07.171Z"
   },
   {
    "duration": 9,
    "start_time": "2022-12-28T19:48:07.234Z"
   },
   {
    "duration": 13,
    "start_time": "2022-12-28T19:48:07.245Z"
   },
   {
    "duration": 41,
    "start_time": "2022-12-28T19:48:07.259Z"
   },
   {
    "duration": 6,
    "start_time": "2022-12-28T19:48:07.302Z"
   },
   {
    "duration": 13,
    "start_time": "2022-12-28T19:48:07.309Z"
   },
   {
    "duration": 6,
    "start_time": "2022-12-28T19:48:07.324Z"
   },
   {
    "duration": 15,
    "start_time": "2022-12-28T19:48:07.332Z"
   },
   {
    "duration": 7,
    "start_time": "2022-12-28T19:48:07.349Z"
   },
   {
    "duration": 11,
    "start_time": "2022-12-28T19:48:07.358Z"
   },
   {
    "duration": 33,
    "start_time": "2022-12-28T19:48:07.371Z"
   },
   {
    "duration": 19,
    "start_time": "2022-12-28T19:48:07.407Z"
   },
   {
    "duration": 32,
    "start_time": "2022-12-28T19:48:07.428Z"
   },
   {
    "duration": 59,
    "start_time": "2022-12-28T19:48:07.462Z"
   },
   {
    "duration": 27,
    "start_time": "2022-12-28T19:48:07.523Z"
   },
   {
    "duration": 57,
    "start_time": "2022-12-28T19:48:07.552Z"
   },
   {
    "duration": 351,
    "start_time": "2022-12-28T19:48:07.611Z"
   },
   {
    "duration": 7,
    "start_time": "2022-12-28T19:48:07.964Z"
   },
   {
    "duration": 18,
    "start_time": "2022-12-28T19:48:07.972Z"
   },
   {
    "duration": 245,
    "start_time": "2022-12-28T19:48:07.998Z"
   },
   {
    "duration": 11,
    "start_time": "2022-12-28T19:48:08.245Z"
   },
   {
    "duration": 270,
    "start_time": "2022-12-28T19:48:08.258Z"
   },
   {
    "duration": 11,
    "start_time": "2022-12-28T19:48:08.529Z"
   },
   {
    "duration": 362,
    "start_time": "2022-12-28T19:48:08.542Z"
   },
   {
    "duration": 10,
    "start_time": "2022-12-28T19:48:08.906Z"
   },
   {
    "duration": 30,
    "start_time": "2022-12-28T19:48:08.918Z"
   },
   {
    "duration": 10,
    "start_time": "2022-12-28T19:48:08.950Z"
   },
   {
    "duration": 12,
    "start_time": "2022-12-28T19:48:08.961Z"
   },
   {
    "duration": 8,
    "start_time": "2022-12-28T19:48:08.974Z"
   },
   {
    "duration": 246,
    "start_time": "2022-12-28T19:48:08.983Z"
   },
   {
    "duration": 8,
    "start_time": "2022-12-28T19:48:09.231Z"
   },
   {
    "duration": 151,
    "start_time": "2022-12-28T19:48:09.240Z"
   },
   {
    "duration": 12,
    "start_time": "2022-12-28T19:48:09.393Z"
   },
   {
    "duration": 187,
    "start_time": "2022-12-28T19:48:09.406Z"
   },
   {
    "duration": 9,
    "start_time": "2022-12-28T19:48:09.594Z"
   },
   {
    "duration": 171,
    "start_time": "2022-12-28T19:48:09.604Z"
   },
   {
    "duration": 8,
    "start_time": "2022-12-28T19:48:09.776Z"
   },
   {
    "duration": 120,
    "start_time": "2022-12-28T19:48:09.786Z"
   },
   {
    "duration": 11,
    "start_time": "2022-12-28T19:48:09.907Z"
   },
   {
    "duration": 184,
    "start_time": "2022-12-28T19:48:09.920Z"
   },
   {
    "duration": 12,
    "start_time": "2022-12-28T19:48:10.106Z"
   },
   {
    "duration": 191,
    "start_time": "2022-12-28T19:48:10.120Z"
   },
   {
    "duration": 11,
    "start_time": "2022-12-28T19:48:10.312Z"
   },
   {
    "duration": 158,
    "start_time": "2022-12-28T19:48:10.324Z"
   },
   {
    "duration": 17,
    "start_time": "2022-12-28T19:48:10.484Z"
   },
   {
    "duration": 240,
    "start_time": "2022-12-28T19:48:10.503Z"
   },
   {
    "duration": 8,
    "start_time": "2022-12-28T19:48:10.745Z"
   },
   {
    "duration": 15,
    "start_time": "2022-12-28T19:48:10.755Z"
   },
   {
    "duration": 152,
    "start_time": "2022-12-28T19:48:10.772Z"
   },
   {
    "duration": 6,
    "start_time": "2022-12-28T19:48:10.926Z"
   },
   {
    "duration": 155,
    "start_time": "2022-12-28T19:48:10.934Z"
   },
   {
    "duration": 271,
    "start_time": "2022-12-28T19:48:11.090Z"
   },
   {
    "duration": 6,
    "start_time": "2022-12-28T19:48:11.363Z"
   },
   {
    "duration": 8,
    "start_time": "2022-12-28T19:48:11.371Z"
   },
   {
    "duration": 24,
    "start_time": "2022-12-28T19:48:11.381Z"
   },
   {
    "duration": 4,
    "start_time": "2022-12-28T19:48:11.407Z"
   },
   {
    "duration": 7,
    "start_time": "2022-12-28T19:48:11.413Z"
   },
   {
    "duration": 6,
    "start_time": "2022-12-28T19:48:11.422Z"
   },
   {
    "duration": 304,
    "start_time": "2022-12-28T19:48:11.429Z"
   },
   {
    "duration": 6,
    "start_time": "2022-12-28T19:48:11.734Z"
   },
   {
    "duration": 284,
    "start_time": "2022-12-28T19:48:11.742Z"
   },
   {
    "duration": 5,
    "start_time": "2022-12-28T19:48:12.028Z"
   },
   {
    "duration": 297,
    "start_time": "2022-12-28T19:48:12.035Z"
   },
   {
    "duration": 5,
    "start_time": "2022-12-28T19:48:12.334Z"
   },
   {
    "duration": 30,
    "start_time": "2022-12-28T19:48:12.340Z"
   },
   {
    "duration": 32,
    "start_time": "2022-12-28T19:48:12.372Z"
   },
   {
    "duration": 144,
    "start_time": "2022-12-28T19:48:12.406Z"
   },
   {
    "duration": 14,
    "start_time": "2022-12-28T19:48:12.557Z"
   },
   {
    "duration": 28,
    "start_time": "2022-12-28T19:48:12.572Z"
   },
   {
    "duration": 153,
    "start_time": "2022-12-28T19:48:12.601Z"
   },
   {
    "duration": 5,
    "start_time": "2022-12-28T19:48:12.755Z"
   },
   {
    "duration": 35,
    "start_time": "2022-12-28T19:48:12.762Z"
   },
   {
    "duration": 5,
    "start_time": "2022-12-28T19:48:12.799Z"
   },
   {
    "duration": 168,
    "start_time": "2022-12-28T19:48:12.807Z"
   },
   {
    "duration": 21,
    "start_time": "2022-12-28T19:48:12.977Z"
   },
   {
    "duration": 254,
    "start_time": "2022-12-28T19:48:13.000Z"
   },
   {
    "duration": 13,
    "start_time": "2022-12-28T19:48:13.255Z"
   },
   {
    "duration": 33,
    "start_time": "2022-12-28T19:48:13.269Z"
   },
   {
    "duration": 13,
    "start_time": "2022-12-28T19:48:13.304Z"
   },
   {
    "duration": 10,
    "start_time": "2022-12-28T19:48:13.319Z"
   },
   {
    "duration": 27,
    "start_time": "2022-12-28T19:48:13.331Z"
   },
   {
    "duration": 8,
    "start_time": "2022-12-28T19:48:13.360Z"
   },
   {
    "duration": 21,
    "start_time": "2022-12-28T19:48:13.369Z"
   },
   {
    "duration": 133,
    "start_time": "2022-12-28T19:48:13.391Z"
   },
   {
    "duration": 19,
    "start_time": "2022-12-28T19:48:13.525Z"
   },
   {
    "duration": 146,
    "start_time": "2022-12-28T19:54:56.388Z"
   },
   {
    "duration": 176,
    "start_time": "2022-12-28T19:56:11.731Z"
   },
   {
    "duration": 212,
    "start_time": "2022-12-28T19:56:24.872Z"
   },
   {
    "duration": 195,
    "start_time": "2022-12-28T19:56:30.092Z"
   },
   {
    "duration": 146,
    "start_time": "2022-12-28T19:56:36.986Z"
   },
   {
    "duration": 6,
    "start_time": "2022-12-28T19:57:58.116Z"
   },
   {
    "duration": 289,
    "start_time": "2022-12-28T19:59:12.828Z"
   },
   {
    "duration": 5,
    "start_time": "2022-12-28T20:08:53.099Z"
   },
   {
    "duration": 587,
    "start_time": "2022-12-28T20:17:27.423Z"
   },
   {
    "duration": 85,
    "start_time": "2022-12-28T20:17:28.012Z"
   },
   {
    "duration": 84,
    "start_time": "2022-12-28T20:17:28.098Z"
   },
   {
    "duration": 24,
    "start_time": "2022-12-28T20:17:28.184Z"
   },
   {
    "duration": 1749,
    "start_time": "2022-12-28T20:17:28.209Z"
   },
   {
    "duration": 8,
    "start_time": "2022-12-28T20:17:29.960Z"
   },
   {
    "duration": 13,
    "start_time": "2022-12-28T20:17:29.969Z"
   },
   {
    "duration": 13,
    "start_time": "2022-12-28T20:17:29.984Z"
   },
   {
    "duration": 6,
    "start_time": "2022-12-28T20:17:29.998Z"
   },
   {
    "duration": 26,
    "start_time": "2022-12-28T20:17:30.006Z"
   },
   {
    "duration": 23,
    "start_time": "2022-12-28T20:17:30.033Z"
   },
   {
    "duration": 22,
    "start_time": "2022-12-28T20:17:30.057Z"
   },
   {
    "duration": 7,
    "start_time": "2022-12-28T20:17:30.080Z"
   },
   {
    "duration": 9,
    "start_time": "2022-12-28T20:17:30.089Z"
   },
   {
    "duration": 20,
    "start_time": "2022-12-28T20:17:30.100Z"
   },
   {
    "duration": 24,
    "start_time": "2022-12-28T20:17:30.122Z"
   },
   {
    "duration": 78,
    "start_time": "2022-12-28T20:17:30.148Z"
   },
   {
    "duration": 86,
    "start_time": "2022-12-28T20:17:30.228Z"
   },
   {
    "duration": 143,
    "start_time": "2022-12-28T20:17:30.316Z"
   },
   {
    "duration": 118,
    "start_time": "2022-12-28T20:17:30.460Z"
   },
   {
    "duration": 40,
    "start_time": "2022-12-28T20:17:30.580Z"
   },
   {
    "duration": 55,
    "start_time": "2022-12-28T20:17:30.621Z"
   },
   {
    "duration": 24,
    "start_time": "2022-12-28T20:17:30.678Z"
   },
   {
    "duration": 33,
    "start_time": "2022-12-28T20:17:30.703Z"
   },
   {
    "duration": 32,
    "start_time": "2022-12-28T20:17:30.738Z"
   },
   {
    "duration": 32,
    "start_time": "2022-12-28T20:17:30.771Z"
   },
   {
    "duration": 53,
    "start_time": "2022-12-28T20:17:30.804Z"
   },
   {
    "duration": 6,
    "start_time": "2022-12-28T20:17:30.862Z"
   },
   {
    "duration": 231,
    "start_time": "2022-12-28T20:17:30.869Z"
   },
   {
    "duration": 143,
    "start_time": "2022-12-28T20:17:31.101Z"
   },
   {
    "duration": 34,
    "start_time": "2022-12-28T20:17:31.246Z"
   },
   {
    "duration": 45,
    "start_time": "2022-12-28T20:17:31.281Z"
   },
   {
    "duration": 13,
    "start_time": "2022-12-28T20:17:31.327Z"
   },
   {
    "duration": 48,
    "start_time": "2022-12-28T20:17:31.341Z"
   },
   {
    "duration": 14,
    "start_time": "2022-12-28T20:17:31.390Z"
   },
   {
    "duration": 34,
    "start_time": "2022-12-28T20:17:31.405Z"
   },
   {
    "duration": 127,
    "start_time": "2022-12-28T20:17:31.440Z"
   },
   {
    "duration": 38,
    "start_time": "2022-12-28T20:17:31.569Z"
   },
   {
    "duration": 11,
    "start_time": "2022-12-28T20:17:31.608Z"
   },
   {
    "duration": 11,
    "start_time": "2022-12-28T20:17:31.621Z"
   },
   {
    "duration": 36,
    "start_time": "2022-12-28T20:17:31.634Z"
   },
   {
    "duration": 5,
    "start_time": "2022-12-28T20:17:31.672Z"
   },
   {
    "duration": 180,
    "start_time": "2022-12-28T20:17:31.679Z"
   },
   {
    "duration": 152,
    "start_time": "2022-12-28T20:17:31.860Z"
   },
   {
    "duration": 28,
    "start_time": "2022-12-28T20:17:32.014Z"
   },
   {
    "duration": 6,
    "start_time": "2022-12-28T20:17:32.044Z"
   },
   {
    "duration": 40,
    "start_time": "2022-12-28T20:17:32.051Z"
   },
   {
    "duration": 119,
    "start_time": "2022-12-28T20:17:32.097Z"
   },
   {
    "duration": 117,
    "start_time": "2022-12-28T20:17:32.217Z"
   },
   {
    "duration": 9,
    "start_time": "2022-12-28T20:17:32.336Z"
   },
   {
    "duration": 53,
    "start_time": "2022-12-28T20:17:32.346Z"
   },
   {
    "duration": 7,
    "start_time": "2022-12-28T20:17:32.400Z"
   },
   {
    "duration": 38,
    "start_time": "2022-12-28T20:17:32.408Z"
   },
   {
    "duration": 50,
    "start_time": "2022-12-28T20:17:32.448Z"
   },
   {
    "duration": 52,
    "start_time": "2022-12-28T20:17:32.500Z"
   },
   {
    "duration": 10,
    "start_time": "2022-12-28T20:17:32.554Z"
   },
   {
    "duration": 11,
    "start_time": "2022-12-28T20:17:32.565Z"
   },
   {
    "duration": 42,
    "start_time": "2022-12-28T20:17:32.577Z"
   },
   {
    "duration": 12,
    "start_time": "2022-12-28T20:17:32.621Z"
   },
   {
    "duration": 16,
    "start_time": "2022-12-28T20:17:32.635Z"
   },
   {
    "duration": 16,
    "start_time": "2022-12-28T20:17:32.652Z"
   },
   {
    "duration": 26,
    "start_time": "2022-12-28T20:17:32.670Z"
   },
   {
    "duration": 7,
    "start_time": "2022-12-28T20:17:32.698Z"
   },
   {
    "duration": 12,
    "start_time": "2022-12-28T20:17:32.707Z"
   },
   {
    "duration": 19,
    "start_time": "2022-12-28T20:17:32.720Z"
   },
   {
    "duration": 22,
    "start_time": "2022-12-28T20:17:32.741Z"
   },
   {
    "duration": 37,
    "start_time": "2022-12-28T20:17:32.765Z"
   },
   {
    "duration": 23,
    "start_time": "2022-12-28T20:17:32.804Z"
   },
   {
    "duration": 22,
    "start_time": "2022-12-28T20:17:32.828Z"
   },
   {
    "duration": 22,
    "start_time": "2022-12-28T20:17:32.851Z"
   },
   {
    "duration": 316,
    "start_time": "2022-12-28T20:17:32.897Z"
   },
   {
    "duration": 5,
    "start_time": "2022-12-28T20:17:33.214Z"
   },
   {
    "duration": 15,
    "start_time": "2022-12-28T20:17:33.220Z"
   },
   {
    "duration": 209,
    "start_time": "2022-12-28T20:17:33.236Z"
   },
   {
    "duration": 8,
    "start_time": "2022-12-28T20:17:33.447Z"
   },
   {
    "duration": 218,
    "start_time": "2022-12-28T20:17:33.456Z"
   },
   {
    "duration": 10,
    "start_time": "2022-12-28T20:17:33.675Z"
   },
   {
    "duration": 318,
    "start_time": "2022-12-28T20:17:33.697Z"
   },
   {
    "duration": 9,
    "start_time": "2022-12-28T20:17:34.017Z"
   },
   {
    "duration": 227,
    "start_time": "2022-12-28T20:17:34.028Z"
   },
   {
    "duration": 3,
    "start_time": "2022-12-28T20:17:34.257Z"
   },
   {
    "duration": 5,
    "start_time": "2022-12-28T20:17:34.266Z"
   },
   {
    "duration": 9,
    "start_time": "2022-12-28T20:17:34.272Z"
   },
   {
    "duration": 166,
    "start_time": "2022-12-28T20:17:34.282Z"
   },
   {
    "duration": 8,
    "start_time": "2022-12-28T20:17:34.450Z"
   },
   {
    "duration": 166,
    "start_time": "2022-12-28T20:17:34.460Z"
   },
   {
    "duration": 10,
    "start_time": "2022-12-28T20:17:34.628Z"
   },
   {
    "duration": 184,
    "start_time": "2022-12-28T20:17:34.641Z"
   },
   {
    "duration": 7,
    "start_time": "2022-12-28T20:17:34.826Z"
   },
   {
    "duration": 112,
    "start_time": "2022-12-28T20:17:34.834Z"
   },
   {
    "duration": 7,
    "start_time": "2022-12-28T20:17:34.948Z"
   },
   {
    "duration": 136,
    "start_time": "2022-12-28T20:17:34.957Z"
   },
   {
    "duration": 9,
    "start_time": "2022-12-28T20:17:35.096Z"
   },
   {
    "duration": 168,
    "start_time": "2022-12-28T20:17:35.107Z"
   },
   {
    "duration": 10,
    "start_time": "2022-12-28T20:17:35.276Z"
   },
   {
    "duration": 167,
    "start_time": "2022-12-28T20:17:35.287Z"
   },
   {
    "duration": 9,
    "start_time": "2022-12-28T20:17:35.455Z"
   },
   {
    "duration": 272,
    "start_time": "2022-12-28T20:17:35.466Z"
   },
   {
    "duration": 7,
    "start_time": "2022-12-28T20:17:35.739Z"
   },
   {
    "duration": 6,
    "start_time": "2022-12-28T20:17:35.747Z"
   },
   {
    "duration": 135,
    "start_time": "2022-12-28T20:17:35.754Z"
   },
   {
    "duration": 9,
    "start_time": "2022-12-28T20:17:35.891Z"
   },
   {
    "duration": 132,
    "start_time": "2022-12-28T20:17:35.902Z"
   },
   {
    "duration": 246,
    "start_time": "2022-12-28T20:17:36.036Z"
   },
   {
    "duration": 5,
    "start_time": "2022-12-28T20:17:36.284Z"
   },
   {
    "duration": 11,
    "start_time": "2022-12-28T20:17:36.290Z"
   },
   {
    "duration": 11,
    "start_time": "2022-12-28T20:17:36.302Z"
   },
   {
    "duration": 10,
    "start_time": "2022-12-28T20:17:36.314Z"
   },
   {
    "duration": 256,
    "start_time": "2022-12-28T20:17:36.326Z"
   },
   {
    "duration": 4,
    "start_time": "2022-12-28T20:17:36.584Z"
   },
   {
    "duration": 257,
    "start_time": "2022-12-28T20:17:36.598Z"
   },
   {
    "duration": 4,
    "start_time": "2022-12-28T20:17:36.857Z"
   },
   {
    "duration": 280,
    "start_time": "2022-12-28T20:17:36.863Z"
   },
   {
    "duration": 5,
    "start_time": "2022-12-28T20:17:37.145Z"
   },
   {
    "duration": 24,
    "start_time": "2022-12-28T20:17:37.152Z"
   },
   {
    "duration": 30,
    "start_time": "2022-12-28T20:17:37.178Z"
   },
   {
    "duration": 121,
    "start_time": "2022-12-28T20:17:37.209Z"
   },
   {
    "duration": 12,
    "start_time": "2022-12-28T20:17:37.332Z"
   },
   {
    "duration": 10,
    "start_time": "2022-12-28T20:17:37.346Z"
   },
   {
    "duration": 158,
    "start_time": "2022-12-28T20:17:37.357Z"
   },
   {
    "duration": 5,
    "start_time": "2022-12-28T20:17:37.517Z"
   },
   {
    "duration": 20,
    "start_time": "2022-12-28T20:17:37.524Z"
   },
   {
    "duration": 5,
    "start_time": "2022-12-28T20:17:37.546Z"
   },
   {
    "duration": 155,
    "start_time": "2022-12-28T20:17:37.552Z"
   },
   {
    "duration": 13,
    "start_time": "2022-12-28T20:17:37.709Z"
   },
   {
    "duration": 242,
    "start_time": "2022-12-28T20:17:37.723Z"
   },
   {
    "duration": 11,
    "start_time": "2022-12-28T20:17:37.967Z"
   },
   {
    "duration": 19,
    "start_time": "2022-12-28T20:17:37.980Z"
   },
   {
    "duration": 9,
    "start_time": "2022-12-28T20:17:38.001Z"
   },
   {
    "duration": 7,
    "start_time": "2022-12-28T20:17:38.011Z"
   },
   {
    "duration": 15,
    "start_time": "2022-12-28T20:17:38.020Z"
   },
   {
    "duration": 6,
    "start_time": "2022-12-28T20:17:38.036Z"
   },
   {
    "duration": 18,
    "start_time": "2022-12-28T20:17:38.043Z"
   },
   {
    "duration": 154,
    "start_time": "2022-12-28T20:17:38.062Z"
   },
   {
    "duration": 14,
    "start_time": "2022-12-28T20:17:38.218Z"
   },
   {
    "duration": 219,
    "start_time": "2022-12-28T20:19:13.328Z"
   },
   {
    "duration": 177,
    "start_time": "2022-12-28T20:20:40.330Z"
   },
   {
    "duration": 211,
    "start_time": "2022-12-28T20:25:27.497Z"
   },
   {
    "duration": 334,
    "start_time": "2022-12-28T20:25:36.856Z"
   },
   {
    "duration": 197,
    "start_time": "2022-12-28T20:25:48.604Z"
   },
   {
    "duration": 202,
    "start_time": "2022-12-28T20:25:55.788Z"
   },
   {
    "duration": 190,
    "start_time": "2022-12-28T20:26:01.386Z"
   },
   {
    "duration": 206,
    "start_time": "2022-12-28T20:27:48.858Z"
   },
   {
    "duration": 209,
    "start_time": "2022-12-28T20:28:34.344Z"
   },
   {
    "duration": 200,
    "start_time": "2022-12-28T20:28:55.899Z"
   },
   {
    "duration": 216,
    "start_time": "2022-12-28T20:31:55.558Z"
   },
   {
    "duration": 384,
    "start_time": "2022-12-28T20:32:44.319Z"
   },
   {
    "duration": 226,
    "start_time": "2022-12-28T20:32:50.042Z"
   },
   {
    "duration": 293,
    "start_time": "2022-12-28T20:33:12.203Z"
   },
   {
    "duration": 269,
    "start_time": "2022-12-28T20:33:20.134Z"
   },
   {
    "duration": 401,
    "start_time": "2022-12-28T20:33:26.407Z"
   },
   {
    "duration": 274,
    "start_time": "2022-12-28T20:33:39.000Z"
   },
   {
    "duration": 128,
    "start_time": "2022-12-28T20:34:39.063Z"
   },
   {
    "duration": 193,
    "start_time": "2022-12-28T20:35:50.708Z"
   },
   {
    "duration": 240,
    "start_time": "2022-12-28T20:36:25.026Z"
   },
   {
    "duration": 202,
    "start_time": "2022-12-28T20:40:12.205Z"
   },
   {
    "duration": 241,
    "start_time": "2022-12-28T20:40:21.819Z"
   },
   {
    "duration": 217,
    "start_time": "2022-12-28T20:40:49.709Z"
   },
   {
    "duration": 238,
    "start_time": "2022-12-28T20:43:59.809Z"
   },
   {
    "duration": 181,
    "start_time": "2022-12-28T20:46:05.119Z"
   },
   {
    "duration": 9,
    "start_time": "2022-12-28T20:46:19.405Z"
   },
   {
    "duration": 398,
    "start_time": "2022-12-28T20:46:26.738Z"
   },
   {
    "duration": 576,
    "start_time": "2022-12-28T20:48:17.555Z"
   },
   {
    "duration": 93,
    "start_time": "2022-12-28T20:48:18.133Z"
   },
   {
    "duration": 104,
    "start_time": "2022-12-28T20:48:18.228Z"
   },
   {
    "duration": 14,
    "start_time": "2022-12-28T20:48:18.334Z"
   },
   {
    "duration": 1844,
    "start_time": "2022-12-28T20:48:18.350Z"
   },
   {
    "duration": 10,
    "start_time": "2022-12-28T20:48:20.196Z"
   },
   {
    "duration": 14,
    "start_time": "2022-12-28T20:48:20.208Z"
   },
   {
    "duration": 10,
    "start_time": "2022-12-28T20:48:20.224Z"
   },
   {
    "duration": 7,
    "start_time": "2022-12-28T20:48:20.236Z"
   },
   {
    "duration": 10,
    "start_time": "2022-12-28T20:48:20.245Z"
   },
   {
    "duration": 7,
    "start_time": "2022-12-28T20:48:20.256Z"
   },
   {
    "duration": 7,
    "start_time": "2022-12-28T20:48:20.298Z"
   },
   {
    "duration": 5,
    "start_time": "2022-12-28T20:48:20.307Z"
   },
   {
    "duration": 7,
    "start_time": "2022-12-28T20:48:20.316Z"
   },
   {
    "duration": 11,
    "start_time": "2022-12-28T20:48:20.324Z"
   },
   {
    "duration": 18,
    "start_time": "2022-12-28T20:48:20.336Z"
   },
   {
    "duration": 42,
    "start_time": "2022-12-28T20:48:20.355Z"
   },
   {
    "duration": 45,
    "start_time": "2022-12-28T20:48:20.399Z"
   },
   {
    "duration": 133,
    "start_time": "2022-12-28T20:48:20.446Z"
   },
   {
    "duration": 126,
    "start_time": "2022-12-28T20:48:20.581Z"
   },
   {
    "duration": 24,
    "start_time": "2022-12-28T20:48:20.709Z"
   },
   {
    "duration": 22,
    "start_time": "2022-12-28T20:48:20.734Z"
   },
   {
    "duration": 9,
    "start_time": "2022-12-28T20:48:20.758Z"
   },
   {
    "duration": 31,
    "start_time": "2022-12-28T20:48:20.769Z"
   },
   {
    "duration": 20,
    "start_time": "2022-12-28T20:48:20.801Z"
   },
   {
    "duration": 4,
    "start_time": "2022-12-28T20:48:20.822Z"
   },
   {
    "duration": 32,
    "start_time": "2022-12-28T20:48:20.827Z"
   },
   {
    "duration": 4,
    "start_time": "2022-12-28T20:48:20.860Z"
   },
   {
    "duration": 225,
    "start_time": "2022-12-28T20:48:20.865Z"
   },
   {
    "duration": 147,
    "start_time": "2022-12-28T20:48:21.092Z"
   },
   {
    "duration": 33,
    "start_time": "2022-12-28T20:48:21.241Z"
   },
   {
    "duration": 51,
    "start_time": "2022-12-28T20:48:21.276Z"
   },
   {
    "duration": 4,
    "start_time": "2022-12-28T20:48:21.329Z"
   },
   {
    "duration": 28,
    "start_time": "2022-12-28T20:48:21.335Z"
   },
   {
    "duration": 6,
    "start_time": "2022-12-28T20:48:21.364Z"
   },
   {
    "duration": 46,
    "start_time": "2022-12-28T20:48:21.372Z"
   },
   {
    "duration": 134,
    "start_time": "2022-12-28T20:48:21.419Z"
   },
   {
    "duration": 44,
    "start_time": "2022-12-28T20:48:21.555Z"
   },
   {
    "duration": 9,
    "start_time": "2022-12-28T20:48:21.601Z"
   },
   {
    "duration": 5,
    "start_time": "2022-12-28T20:48:21.611Z"
   },
   {
    "duration": 25,
    "start_time": "2022-12-28T20:48:21.714Z"
   },
   {
    "duration": 7,
    "start_time": "2022-12-28T20:48:21.741Z"
   },
   {
    "duration": 132,
    "start_time": "2022-12-28T20:48:21.750Z"
   },
   {
    "duration": 166,
    "start_time": "2022-12-28T20:48:21.883Z"
   },
   {
    "duration": 30,
    "start_time": "2022-12-28T20:48:22.051Z"
   },
   {
    "duration": 21,
    "start_time": "2022-12-28T20:48:22.083Z"
   },
   {
    "duration": 29,
    "start_time": "2022-12-28T20:48:22.106Z"
   },
   {
    "duration": 147,
    "start_time": "2022-12-28T20:48:22.137Z"
   },
   {
    "duration": 137,
    "start_time": "2022-12-28T20:48:22.298Z"
   },
   {
    "duration": 9,
    "start_time": "2022-12-28T20:48:22.437Z"
   },
   {
    "duration": 52,
    "start_time": "2022-12-28T20:48:22.448Z"
   },
   {
    "duration": 8,
    "start_time": "2022-12-28T20:48:22.502Z"
   },
   {
    "duration": 38,
    "start_time": "2022-12-28T20:48:22.512Z"
   },
   {
    "duration": 56,
    "start_time": "2022-12-28T20:48:22.552Z"
   },
   {
    "duration": 34,
    "start_time": "2022-12-28T20:48:22.610Z"
   },
   {
    "duration": 7,
    "start_time": "2022-12-28T20:48:22.646Z"
   },
   {
    "duration": 14,
    "start_time": "2022-12-28T20:48:22.655Z"
   },
   {
    "duration": 43,
    "start_time": "2022-12-28T20:48:22.671Z"
   },
   {
    "duration": 6,
    "start_time": "2022-12-28T20:48:22.716Z"
   },
   {
    "duration": 14,
    "start_time": "2022-12-28T20:48:22.724Z"
   },
   {
    "duration": 7,
    "start_time": "2022-12-28T20:48:22.740Z"
   },
   {
    "duration": 8,
    "start_time": "2022-12-28T20:48:22.749Z"
   },
   {
    "duration": 7,
    "start_time": "2022-12-28T20:48:22.758Z"
   },
   {
    "duration": 8,
    "start_time": "2022-12-28T20:48:22.797Z"
   },
   {
    "duration": 35,
    "start_time": "2022-12-28T20:48:22.807Z"
   },
   {
    "duration": 15,
    "start_time": "2022-12-28T20:48:22.844Z"
   },
   {
    "duration": 23,
    "start_time": "2022-12-28T20:48:22.860Z"
   },
   {
    "duration": 24,
    "start_time": "2022-12-28T20:48:22.884Z"
   },
   {
    "duration": 23,
    "start_time": "2022-12-28T20:48:22.909Z"
   },
   {
    "duration": 24,
    "start_time": "2022-12-28T20:48:22.934Z"
   },
   {
    "duration": 338,
    "start_time": "2022-12-28T20:48:22.960Z"
   },
   {
    "duration": 4,
    "start_time": "2022-12-28T20:48:23.300Z"
   },
   {
    "duration": 10,
    "start_time": "2022-12-28T20:48:23.305Z"
   },
   {
    "duration": 233,
    "start_time": "2022-12-28T20:48:23.317Z"
   },
   {
    "duration": 8,
    "start_time": "2022-12-28T20:48:23.551Z"
   },
   {
    "duration": 227,
    "start_time": "2022-12-28T20:48:23.561Z"
   },
   {
    "duration": 14,
    "start_time": "2022-12-28T20:48:23.789Z"
   },
   {
    "duration": 345,
    "start_time": "2022-12-28T20:48:23.804Z"
   },
   {
    "duration": 8,
    "start_time": "2022-12-28T20:48:24.151Z"
   },
   {
    "duration": 250,
    "start_time": "2022-12-28T20:48:24.160Z"
   },
   {
    "duration": 4,
    "start_time": "2022-12-28T20:48:24.412Z"
   },
   {
    "duration": 17,
    "start_time": "2022-12-28T20:48:24.417Z"
   },
   {
    "duration": 208,
    "start_time": "2022-12-28T20:48:24.435Z"
   },
   {
    "duration": 10,
    "start_time": "2022-12-28T20:48:24.645Z"
   },
   {
    "duration": 172,
    "start_time": "2022-12-28T20:48:24.658Z"
   },
   {
    "duration": 9,
    "start_time": "2022-12-28T20:48:24.832Z"
   },
   {
    "duration": 142,
    "start_time": "2022-12-28T20:48:24.842Z"
   },
   {
    "duration": 16,
    "start_time": "2022-12-28T20:48:24.986Z"
   },
   {
    "duration": 154,
    "start_time": "2022-12-28T20:48:25.003Z"
   },
   {
    "duration": 7,
    "start_time": "2022-12-28T20:48:25.159Z"
   },
   {
    "duration": 117,
    "start_time": "2022-12-28T20:48:25.167Z"
   },
   {
    "duration": 17,
    "start_time": "2022-12-28T20:48:25.286Z"
   },
   {
    "duration": 130,
    "start_time": "2022-12-28T20:48:25.304Z"
   },
   {
    "duration": 10,
    "start_time": "2022-12-28T20:48:25.435Z"
   },
   {
    "duration": 168,
    "start_time": "2022-12-28T20:48:25.446Z"
   },
   {
    "duration": 10,
    "start_time": "2022-12-28T20:48:25.616Z"
   },
   {
    "duration": 287,
    "start_time": "2022-12-28T20:48:25.628Z"
   },
   {
    "duration": 9,
    "start_time": "2022-12-28T20:48:25.917Z"
   },
   {
    "duration": 146,
    "start_time": "2022-12-28T20:48:25.927Z"
   },
   {
    "duration": 8,
    "start_time": "2022-12-28T20:48:26.074Z"
   },
   {
    "duration": 14,
    "start_time": "2022-12-28T20:48:26.084Z"
   },
   {
    "duration": 143,
    "start_time": "2022-12-28T20:48:26.099Z"
   },
   {
    "duration": 6,
    "start_time": "2022-12-28T20:48:26.243Z"
   },
   {
    "duration": 142,
    "start_time": "2022-12-28T20:48:26.250Z"
   },
   {
    "duration": 258,
    "start_time": "2022-12-28T20:48:26.397Z"
   },
   {
    "duration": 5,
    "start_time": "2022-12-28T20:48:26.656Z"
   },
   {
    "duration": 10,
    "start_time": "2022-12-28T20:48:26.662Z"
   },
   {
    "duration": 27,
    "start_time": "2022-12-28T20:48:26.673Z"
   },
   {
    "duration": 4,
    "start_time": "2022-12-28T20:48:26.702Z"
   },
   {
    "duration": 216,
    "start_time": "2022-12-28T20:48:26.708Z"
   },
   {
    "duration": 5,
    "start_time": "2022-12-28T20:48:26.925Z"
   },
   {
    "duration": 217,
    "start_time": "2022-12-28T20:48:26.931Z"
   },
   {
    "duration": 4,
    "start_time": "2022-12-28T20:48:27.150Z"
   },
   {
    "duration": 222,
    "start_time": "2022-12-28T20:48:27.156Z"
   },
   {
    "duration": 17,
    "start_time": "2022-12-28T20:48:27.380Z"
   },
   {
    "duration": 25,
    "start_time": "2022-12-28T20:48:27.399Z"
   },
   {
    "duration": 233,
    "start_time": "2022-12-28T20:48:27.426Z"
   },
   {
    "duration": 16,
    "start_time": "2022-12-28T20:48:27.661Z"
   },
   {
    "duration": 142,
    "start_time": "2022-12-28T20:48:27.679Z"
   },
   {
    "duration": 15,
    "start_time": "2022-12-28T20:48:27.823Z"
   },
   {
    "duration": 14,
    "start_time": "2022-12-28T20:48:27.840Z"
   },
   {
    "duration": 173,
    "start_time": "2022-12-28T20:48:27.861Z"
   },
   {
    "duration": 4,
    "start_time": "2022-12-28T20:48:28.035Z"
   },
   {
    "duration": 17,
    "start_time": "2022-12-28T20:48:28.041Z"
   },
   {
    "duration": 4,
    "start_time": "2022-12-28T20:48:28.059Z"
   },
   {
    "duration": 160,
    "start_time": "2022-12-28T20:48:28.065Z"
   },
   {
    "duration": 12,
    "start_time": "2022-12-28T20:48:28.227Z"
   },
   {
    "duration": 146,
    "start_time": "2022-12-28T20:48:28.241Z"
   },
   {
    "duration": 19,
    "start_time": "2022-12-28T20:48:28.388Z"
   },
   {
    "duration": 8,
    "start_time": "2022-12-28T20:48:28.409Z"
   },
   {
    "duration": 13,
    "start_time": "2022-12-28T20:48:28.419Z"
   },
   {
    "duration": 5,
    "start_time": "2022-12-28T20:48:28.433Z"
   },
   {
    "duration": 19,
    "start_time": "2022-12-28T20:48:28.440Z"
   },
   {
    "duration": 41,
    "start_time": "2022-12-28T20:48:28.460Z"
   },
   {
    "duration": 17,
    "start_time": "2022-12-28T20:48:28.502Z"
   },
   {
    "duration": 148,
    "start_time": "2022-12-28T20:48:28.520Z"
   },
   {
    "duration": 15,
    "start_time": "2022-12-28T20:48:28.670Z"
   },
   {
    "duration": 743,
    "start_time": "2022-12-28T20:49:49.028Z"
   },
   {
    "duration": 13,
    "start_time": "2022-12-28T20:50:17.866Z"
   },
   {
    "duration": 128,
    "start_time": "2022-12-28T20:50:26.808Z"
   },
   {
    "duration": 126,
    "start_time": "2022-12-28T20:51:55.929Z"
   },
   {
    "duration": 115,
    "start_time": "2022-12-28T20:52:06.372Z"
   },
   {
    "duration": 5,
    "start_time": "2022-12-28T20:53:35.017Z"
   }
  ],
  "kernelspec": {
   "display_name": "Python 3 (ipykernel)",
   "language": "python",
   "name": "python3"
  },
  "language_info": {
   "codemirror_mode": {
    "name": "ipython",
    "version": 3
   },
   "file_extension": ".py",
   "mimetype": "text/x-python",
   "name": "python",
   "nbconvert_exporter": "python",
   "pygments_lexer": "ipython3",
   "version": "3.9.12"
  },
  "toc": {
   "base_numbering": 1,
   "nav_menu": {
    "height": "293px",
    "width": "641px"
   },
   "number_sections": true,
   "sideBar": true,
   "skip_h1_title": true,
   "title_cell": "Содержание",
   "title_sidebar": "Contents",
   "toc_cell": true,
   "toc_position": {},
   "toc_section_display": true,
   "toc_window_display": false
  }
 },
 "nbformat": 4,
 "nbformat_minor": 2
}
