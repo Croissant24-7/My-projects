{
 "cells": [
  {
   "cell_type": "markdown",
   "metadata": {
    "toc": true
   },
   "source": [
    "<h1>Содержание<span class=\"tocSkip\"></span></h1>\n",
    "<div class=\"toc\"><ul class=\"toc-item\"><li><span><a href=\"#Приоритизация-гипотез\" data-toc-modified-id=\"Приоритизация-гипотез-1\"><span class=\"toc-item-num\">1&nbsp;&nbsp;</span>Приоритизация гипотез</a></span><ul class=\"toc-item\"><li><span><a href=\"#Применяем-фреймворк-ICE-для-приоритизации-гипотез.\" data-toc-modified-id=\"Применяем-фреймворк-ICE-для-приоритизации-гипотез.-1.1\"><span class=\"toc-item-num\">1.1&nbsp;&nbsp;</span>Применяем фреймворк ICE для приоритизации гипотез.</a></span></li><li><span><a href=\"#Применяем-фреймворк-RICE-для-приоритизации-гипотез.\" data-toc-modified-id=\"Применяем-фреймворк-RICE-для-приоритизации-гипотез.-1.2\"><span class=\"toc-item-num\">1.2&nbsp;&nbsp;</span>Применяем фреймворк RICE для приоритизации гипотез.</a></span></li></ul></li><li><span><a href=\"#Анализ-A/B-теста\" data-toc-modified-id=\"Анализ-A/B-теста-2\"><span class=\"toc-item-num\">2&nbsp;&nbsp;</span>Анализ A/B-теста</a></span><ul class=\"toc-item\"><li><span><a href=\"#Предобработка-данных\" data-toc-modified-id=\"Предобработка-данных-2.1\"><span class=\"toc-item-num\">2.1&nbsp;&nbsp;</span>Предобработка данных</a></span></li><li><span><a href=\"#Строим-график-кумулятивной-выручки-по-группам.\" data-toc-modified-id=\"Строим-график-кумулятивной-выручки-по-группам.-2.2\"><span class=\"toc-item-num\">2.2&nbsp;&nbsp;</span>Строим график кумулятивной выручки по группам.</a></span></li><li><span><a href=\"#Строим-график-кумулятивного-среднего-чека-по-группам.\" data-toc-modified-id=\"Строим-график-кумулятивного-среднего-чека-по-группам.-2.3\"><span class=\"toc-item-num\">2.3&nbsp;&nbsp;</span>Строим график кумулятивного среднего чека по группам.</a></span></li><li><span><a href=\"#Строим-график-относительного-изменения-кумулятивного-среднего-чека-группы-B-к-группе-A.\" data-toc-modified-id=\"Строим-график-относительного-изменения-кумулятивного-среднего-чека-группы-B-к-группе-A.-2.4\"><span class=\"toc-item-num\">2.4&nbsp;&nbsp;</span>Строим график относительного изменения кумулятивного среднего чека группы B к группе A.</a></span></li><li><span><a href=\"#Строим-график-кумулятивного-среднего-количества-заказов-на-посетителя-по-группам.\" data-toc-modified-id=\"Строим-график-кумулятивного-среднего-количества-заказов-на-посетителя-по-группам.-2.5\"><span class=\"toc-item-num\">2.5&nbsp;&nbsp;</span>Строим график кумулятивного среднего количества заказов на посетителя по группам.</a></span></li><li><span><a href=\"#Строим-график-относительного-изменения-кумулятивного-среднего-количества-заказов-на-посетителя-группы-B-к-группе-A.\" data-toc-modified-id=\"Строим-график-относительного-изменения-кумулятивного-среднего-количества-заказов-на-посетителя-группы-B-к-группе-A.-2.6\"><span class=\"toc-item-num\">2.6&nbsp;&nbsp;</span>Строим график относительного изменения кумулятивного среднего количества заказов на посетителя группы B к группе A.</a></span></li><li><span><a href=\"#Строим-точечный-график-количества-заказов-по-пользователям.\" data-toc-modified-id=\"Строим-точечный-график-количества-заказов-по-пользователям.-2.7\"><span class=\"toc-item-num\">2.7&nbsp;&nbsp;</span>Строим точечный график количества заказов по пользователям.</a></span></li><li><span><a href=\"#Определяем-95-й-и-99-й-перцентили-количества-заказов-на-пользователя-и-выбираем-границу-для-определения-аномальных-пользователей.\" data-toc-modified-id=\"Определяем-95-й-и-99-й-перцентили-количества-заказов-на-пользователя-и-выбираем-границу-для-определения-аномальных-пользователей.-2.8\"><span class=\"toc-item-num\">2.8&nbsp;&nbsp;</span>Определяем 95-й и 99-й перцентили количества заказов на пользователя и выбираем границу для определения аномальных пользователей.</a></span></li><li><span><a href=\"#Строим-точечный-график-стоимостей-заказов.\" data-toc-modified-id=\"Строим-точечный-график-стоимостей-заказов.-2.9\"><span class=\"toc-item-num\">2.9&nbsp;&nbsp;</span>Строим точечный график стоимостей заказов.</a></span></li><li><span><a href=\"#Определяем-95-й-и-99-й-перцентили-стоимости-заказов-и-выбираем-границу-для-определения-аномальных-заказов.\" data-toc-modified-id=\"Определяем-95-й-и-99-й-перцентили-стоимости-заказов-и-выбираем-границу-для-определения-аномальных-заказов.-2.10\"><span class=\"toc-item-num\">2.10&nbsp;&nbsp;</span>Определяем 95-й и 99-й перцентили стоимости заказов и выбираем границу для определения аномальных заказов.</a></span></li><li><span><a href=\"#Считаем-статистическую-значимость-различий-в-среднем-количестве-заказов-на-посетителя-между-группами-по-«сырым»-данным.\" data-toc-modified-id=\"Считаем-статистическую-значимость-различий-в-среднем-количестве-заказов-на-посетителя-между-группами-по-«сырым»-данным.-2.11\"><span class=\"toc-item-num\">2.11&nbsp;&nbsp;</span>Считаем статистическую значимость различий в среднем количестве заказов на посетителя между группами по «сырым» данным.</a></span></li><li><span><a href=\"#Считаем-статистическую-значимость-различий-в-среднем-чеке-заказа-между-группами-по-«сырым»-данным.\" data-toc-modified-id=\"Считаем-статистическую-значимость-различий-в-среднем-чеке-заказа-между-группами-по-«сырым»-данным.-2.12\"><span class=\"toc-item-num\">2.12&nbsp;&nbsp;</span>Считаем статистическую значимость различий в среднем чеке заказа между группами по «сырым» данным.</a></span></li><li><span><a href=\"#Считаем-статистическую-значимость-различий-в-среднем-количестве-заказов-на-посетителя-между-группами-по-«очищенным»-данным.\" data-toc-modified-id=\"Считаем-статистическую-значимость-различий-в-среднем-количестве-заказов-на-посетителя-между-группами-по-«очищенным»-данным.-2.13\"><span class=\"toc-item-num\">2.13&nbsp;&nbsp;</span>Считаем статистическую значимость различий в среднем количестве заказов на посетителя между группами по «очищенным» данным.</a></span></li><li><span><a href=\"#Считаем-статистическую-значимость-различий-в-среднем-чеке-заказа-между-группами-по-«очищенным»-данным.\" data-toc-modified-id=\"Считаем-статистическую-значимость-различий-в-среднем-чеке-заказа-между-группами-по-«очищенным»-данным.-2.14\"><span class=\"toc-item-num\">2.14&nbsp;&nbsp;</span>Считаем статистическую значимость различий в среднем чеке заказа между группами по «очищенным» данным.</a></span></li></ul></li><li><span><a href=\"#Решение-по-результатам-теста.\" data-toc-modified-id=\"Решение-по-результатам-теста.-3\"><span class=\"toc-item-num\">3&nbsp;&nbsp;</span>Решение по результатам теста.</a></span></li></ul></div>"
   ]
  },
  {
   "cell_type": "markdown",
   "metadata": {},
   "source": [
    "**Описание проекта**\n",
    "\n",
    "Мы работаем аналитиком крупного интернет-магазина. Вместе с отделом маркетинга мы подготовили список гипотез для увеличения выручки.\n",
    "Необходимо приоритизировать гипотезы, запустить A/B-тест и проанализировать результаты. "
   ]
  },
  {
   "cell_type": "markdown",
   "metadata": {},
   "source": [
    "## Приоритизация гипотез"
   ]
  },
  {
   "cell_type": "markdown",
   "metadata": {},
   "source": [
    "### Применяем фреймворк ICE для приоритизации гипотез."
   ]
  },
  {
   "cell_type": "code",
   "execution_count": 1,
   "metadata": {},
   "outputs": [],
   "source": [
    "import pandas as pd\n",
    "import scipy.stats as stats\n",
    "import datetime as dt\n",
    "import numpy as np\n",
    "import matplotlib.pyplot as plt\n",
    "import math as mth\n",
    "# сначала импортируем библиотеки, которые понадобятся нам в дальнейшей работе\n",
    "plt.rcParams[\"figure.figsize\"] = (10,8) # зададим размер для всех графиков в проекте"
   ]
  },
  {
   "cell_type": "code",
   "execution_count": 2,
   "metadata": {},
   "outputs": [
    {
     "data": {
      "text/html": [
       "<div>\n",
       "<style scoped>\n",
       "    .dataframe tbody tr th:only-of-type {\n",
       "        vertical-align: middle;\n",
       "    }\n",
       "\n",
       "    .dataframe tbody tr th {\n",
       "        vertical-align: top;\n",
       "    }\n",
       "\n",
       "    .dataframe thead th {\n",
       "        text-align: right;\n",
       "    }\n",
       "</style>\n",
       "<table border=\"1\" class=\"dataframe\">\n",
       "  <thead>\n",
       "    <tr style=\"text-align: right;\">\n",
       "      <th></th>\n",
       "      <th>Hypothesis</th>\n",
       "      <th>Reach</th>\n",
       "      <th>Impact</th>\n",
       "      <th>Confidence</th>\n",
       "      <th>Efforts</th>\n",
       "    </tr>\n",
       "  </thead>\n",
       "  <tbody>\n",
       "    <tr>\n",
       "      <th>0</th>\n",
       "      <td>Добавить два новых канала привлечения трафика, что позволит привлекать на 30% больше пользователей</td>\n",
       "      <td>3</td>\n",
       "      <td>10</td>\n",
       "      <td>8</td>\n",
       "      <td>6</td>\n",
       "    </tr>\n",
       "    <tr>\n",
       "      <th>1</th>\n",
       "      <td>Запустить собственную службу доставки, что сократит срок доставки заказов</td>\n",
       "      <td>2</td>\n",
       "      <td>5</td>\n",
       "      <td>4</td>\n",
       "      <td>10</td>\n",
       "    </tr>\n",
       "    <tr>\n",
       "      <th>2</th>\n",
       "      <td>Добавить блоки рекомендаций товаров на сайт интернет магазина, чтобы повысить конверсию и средний чек заказа</td>\n",
       "      <td>8</td>\n",
       "      <td>3</td>\n",
       "      <td>7</td>\n",
       "      <td>3</td>\n",
       "    </tr>\n",
       "    <tr>\n",
       "      <th>3</th>\n",
       "      <td>Изменить структура категорий, что увеличит конверсию, т.к. пользователи быстрее найдут нужный товар</td>\n",
       "      <td>8</td>\n",
       "      <td>3</td>\n",
       "      <td>3</td>\n",
       "      <td>8</td>\n",
       "    </tr>\n",
       "    <tr>\n",
       "      <th>4</th>\n",
       "      <td>Изменить цвет фона главной страницы, чтобы увеличить вовлеченность пользователей</td>\n",
       "      <td>3</td>\n",
       "      <td>1</td>\n",
       "      <td>1</td>\n",
       "      <td>1</td>\n",
       "    </tr>\n",
       "    <tr>\n",
       "      <th>5</th>\n",
       "      <td>Добавить страницу отзывов клиентов о магазине, что позволит увеличить количество заказов</td>\n",
       "      <td>3</td>\n",
       "      <td>2</td>\n",
       "      <td>2</td>\n",
       "      <td>3</td>\n",
       "    </tr>\n",
       "    <tr>\n",
       "      <th>6</th>\n",
       "      <td>Показать на главной странице баннеры с актуальными акциями и распродажами, чтобы увеличить конверсию</td>\n",
       "      <td>5</td>\n",
       "      <td>3</td>\n",
       "      <td>8</td>\n",
       "      <td>3</td>\n",
       "    </tr>\n",
       "    <tr>\n",
       "      <th>7</th>\n",
       "      <td>Добавить форму подписки на все основные страницы, чтобы собрать базу клиентов для email-рассылок</td>\n",
       "      <td>10</td>\n",
       "      <td>7</td>\n",
       "      <td>8</td>\n",
       "      <td>5</td>\n",
       "    </tr>\n",
       "    <tr>\n",
       "      <th>8</th>\n",
       "      <td>Запустить акцию, дающую скидку на товар в день рождения</td>\n",
       "      <td>1</td>\n",
       "      <td>9</td>\n",
       "      <td>9</td>\n",
       "      <td>5</td>\n",
       "    </tr>\n",
       "  </tbody>\n",
       "</table>\n",
       "</div>"
      ],
      "text/plain": [
       "                                                                                                     Hypothesis  \\\n",
       "0            Добавить два новых канала привлечения трафика, что позволит привлекать на 30% больше пользователей   \n",
       "1                                     Запустить собственную службу доставки, что сократит срок доставки заказов   \n",
       "2  Добавить блоки рекомендаций товаров на сайт интернет магазина, чтобы повысить конверсию и средний чек заказа   \n",
       "3           Изменить структура категорий, что увеличит конверсию, т.к. пользователи быстрее найдут нужный товар   \n",
       "4                              Изменить цвет фона главной страницы, чтобы увеличить вовлеченность пользователей   \n",
       "5                      Добавить страницу отзывов клиентов о магазине, что позволит увеличить количество заказов   \n",
       "6          Показать на главной странице баннеры с актуальными акциями и распродажами, чтобы увеличить конверсию   \n",
       "7              Добавить форму подписки на все основные страницы, чтобы собрать базу клиентов для email-рассылок   \n",
       "8                                                       Запустить акцию, дающую скидку на товар в день рождения   \n",
       "\n",
       "   Reach  Impact  Confidence  Efforts  \n",
       "0      3      10           8        6  \n",
       "1      2       5           4       10  \n",
       "2      8       3           7        3  \n",
       "3      8       3           3        8  \n",
       "4      3       1           1        1  \n",
       "5      3       2           2        3  \n",
       "6      5       3           8        3  \n",
       "7     10       7           8        5  \n",
       "8      1       9           9        5  "
      ]
     },
     "execution_count": 2,
     "metadata": {},
     "output_type": "execute_result"
    }
   ],
   "source": [
    "data = pd.read_csv('/datasets/hypothesis.csv') # выгрузим файл с гипотезами в датафрейм и посмотрим на него\n",
    "pd.options.display.max_colwidth=150 # увеличим ширину отображаемого окна\n",
    "data"
   ]
  },
  {
   "cell_type": "markdown",
   "metadata": {},
   "source": [
    "Перед нами 9 гипотез по увеличению выручки интернет-магазина с указанными параметрами Reach, Impact, Confidence, Effort."
   ]
  },
  {
   "cell_type": "code",
   "execution_count": 3,
   "metadata": {
    "scrolled": true
   },
   "outputs": [
    {
     "data": {
      "text/html": [
       "<div>\n",
       "<style scoped>\n",
       "    .dataframe tbody tr th:only-of-type {\n",
       "        vertical-align: middle;\n",
       "    }\n",
       "\n",
       "    .dataframe tbody tr th {\n",
       "        vertical-align: top;\n",
       "    }\n",
       "\n",
       "    .dataframe thead th {\n",
       "        text-align: right;\n",
       "    }\n",
       "</style>\n",
       "<table border=\"1\" class=\"dataframe\">\n",
       "  <thead>\n",
       "    <tr style=\"text-align: right;\">\n",
       "      <th></th>\n",
       "      <th>Hypothesis</th>\n",
       "      <th>ICE</th>\n",
       "    </tr>\n",
       "  </thead>\n",
       "  <tbody>\n",
       "    <tr>\n",
       "      <th>8</th>\n",
       "      <td>Запустить акцию, дающую скидку на товар в день рождения</td>\n",
       "      <td>16.20</td>\n",
       "    </tr>\n",
       "    <tr>\n",
       "      <th>0</th>\n",
       "      <td>Добавить два новых канала привлечения трафика, что позволит привлекать на 30% больше пользователей</td>\n",
       "      <td>13.33</td>\n",
       "    </tr>\n",
       "    <tr>\n",
       "      <th>7</th>\n",
       "      <td>Добавить форму подписки на все основные страницы, чтобы собрать базу клиентов для email-рассылок</td>\n",
       "      <td>11.20</td>\n",
       "    </tr>\n",
       "    <tr>\n",
       "      <th>6</th>\n",
       "      <td>Показать на главной странице баннеры с актуальными акциями и распродажами, чтобы увеличить конверсию</td>\n",
       "      <td>8.00</td>\n",
       "    </tr>\n",
       "    <tr>\n",
       "      <th>2</th>\n",
       "      <td>Добавить блоки рекомендаций товаров на сайт интернет магазина, чтобы повысить конверсию и средний чек заказа</td>\n",
       "      <td>7.00</td>\n",
       "    </tr>\n",
       "    <tr>\n",
       "      <th>1</th>\n",
       "      <td>Запустить собственную службу доставки, что сократит срок доставки заказов</td>\n",
       "      <td>2.00</td>\n",
       "    </tr>\n",
       "    <tr>\n",
       "      <th>5</th>\n",
       "      <td>Добавить страницу отзывов клиентов о магазине, что позволит увеличить количество заказов</td>\n",
       "      <td>1.33</td>\n",
       "    </tr>\n",
       "    <tr>\n",
       "      <th>3</th>\n",
       "      <td>Изменить структура категорий, что увеличит конверсию, т.к. пользователи быстрее найдут нужный товар</td>\n",
       "      <td>1.12</td>\n",
       "    </tr>\n",
       "    <tr>\n",
       "      <th>4</th>\n",
       "      <td>Изменить цвет фона главной страницы, чтобы увеличить вовлеченность пользователей</td>\n",
       "      <td>1.00</td>\n",
       "    </tr>\n",
       "  </tbody>\n",
       "</table>\n",
       "</div>"
      ],
      "text/plain": [
       "                                                                                                     Hypothesis  \\\n",
       "8                                                       Запустить акцию, дающую скидку на товар в день рождения   \n",
       "0            Добавить два новых канала привлечения трафика, что позволит привлекать на 30% больше пользователей   \n",
       "7              Добавить форму подписки на все основные страницы, чтобы собрать базу клиентов для email-рассылок   \n",
       "6          Показать на главной странице баннеры с актуальными акциями и распродажами, чтобы увеличить конверсию   \n",
       "2  Добавить блоки рекомендаций товаров на сайт интернет магазина, чтобы повысить конверсию и средний чек заказа   \n",
       "1                                     Запустить собственную службу доставки, что сократит срок доставки заказов   \n",
       "5                      Добавить страницу отзывов клиентов о магазине, что позволит увеличить количество заказов   \n",
       "3           Изменить структура категорий, что увеличит конверсию, т.к. пользователи быстрее найдут нужный товар   \n",
       "4                              Изменить цвет фона главной страницы, чтобы увеличить вовлеченность пользователей   \n",
       "\n",
       "     ICE  \n",
       "8  16.20  \n",
       "0  13.33  \n",
       "7  11.20  \n",
       "6   8.00  \n",
       "2   7.00  \n",
       "1   2.00  \n",
       "5   1.33  \n",
       "3   1.12  \n",
       "4   1.00  "
      ]
     },
     "execution_count": 3,
     "metadata": {},
     "output_type": "execute_result"
    }
   ],
   "source": [
    "data['ICE'] = data['Impact'] * data['Confidence'] / data['Efforts'] # посчитаем ICE для гипотез. Добавим полученные значения ICE к существующей таблице. \n",
    "pd.options.display.max_colwidth=150 # увеличим ширину отображаемого окна\n",
    "data['ICE'] = data['ICE'].round(2) # округлим значение метрики для удобства\n",
    "data[['Hypothesis', 'ICE']].sort_values(by=['ICE'], ascending=False) # отсортируем их по убыванию приоритета."
   ]
  },
  {
   "cell_type": "markdown",
   "metadata": {},
   "source": [
    "Применив фреймворк ICE, видим, что в топ перспективных гипотез входят **гипотезы 8 (акция со скидкой), 0 (два новых канала привлечения) и 7 (форма подписки)**."
   ]
  },
  {
   "cell_type": "markdown",
   "metadata": {},
   "source": [
    "### Применяем фреймворк RICE для приоритизации гипотез. "
   ]
  },
  {
   "cell_type": "code",
   "execution_count": 4,
   "metadata": {},
   "outputs": [
    {
     "data": {
      "text/html": [
       "<div>\n",
       "<style scoped>\n",
       "    .dataframe tbody tr th:only-of-type {\n",
       "        vertical-align: middle;\n",
       "    }\n",
       "\n",
       "    .dataframe tbody tr th {\n",
       "        vertical-align: top;\n",
       "    }\n",
       "\n",
       "    .dataframe thead th {\n",
       "        text-align: right;\n",
       "    }\n",
       "</style>\n",
       "<table border=\"1\" class=\"dataframe\">\n",
       "  <thead>\n",
       "    <tr style=\"text-align: right;\">\n",
       "      <th></th>\n",
       "      <th>Hypothesis</th>\n",
       "      <th>RICE</th>\n",
       "    </tr>\n",
       "  </thead>\n",
       "  <tbody>\n",
       "    <tr>\n",
       "      <th>7</th>\n",
       "      <td>Добавить форму подписки на все основные страницы, чтобы собрать базу клиентов для email-рассылок</td>\n",
       "      <td>112.0</td>\n",
       "    </tr>\n",
       "    <tr>\n",
       "      <th>2</th>\n",
       "      <td>Добавить блоки рекомендаций товаров на сайт интернет магазина, чтобы повысить конверсию и средний чек заказа</td>\n",
       "      <td>56.0</td>\n",
       "    </tr>\n",
       "    <tr>\n",
       "      <th>0</th>\n",
       "      <td>Добавить два новых канала привлечения трафика, что позволит привлекать на 30% больше пользователей</td>\n",
       "      <td>40.0</td>\n",
       "    </tr>\n",
       "    <tr>\n",
       "      <th>6</th>\n",
       "      <td>Показать на главной странице баннеры с актуальными акциями и распродажами, чтобы увеличить конверсию</td>\n",
       "      <td>40.0</td>\n",
       "    </tr>\n",
       "    <tr>\n",
       "      <th>8</th>\n",
       "      <td>Запустить акцию, дающую скидку на товар в день рождения</td>\n",
       "      <td>16.2</td>\n",
       "    </tr>\n",
       "    <tr>\n",
       "      <th>3</th>\n",
       "      <td>Изменить структура категорий, что увеличит конверсию, т.к. пользователи быстрее найдут нужный товар</td>\n",
       "      <td>9.0</td>\n",
       "    </tr>\n",
       "    <tr>\n",
       "      <th>1</th>\n",
       "      <td>Запустить собственную службу доставки, что сократит срок доставки заказов</td>\n",
       "      <td>4.0</td>\n",
       "    </tr>\n",
       "    <tr>\n",
       "      <th>5</th>\n",
       "      <td>Добавить страницу отзывов клиентов о магазине, что позволит увеличить количество заказов</td>\n",
       "      <td>4.0</td>\n",
       "    </tr>\n",
       "    <tr>\n",
       "      <th>4</th>\n",
       "      <td>Изменить цвет фона главной страницы, чтобы увеличить вовлеченность пользователей</td>\n",
       "      <td>3.0</td>\n",
       "    </tr>\n",
       "  </tbody>\n",
       "</table>\n",
       "</div>"
      ],
      "text/plain": [
       "                                                                                                     Hypothesis  \\\n",
       "7              Добавить форму подписки на все основные страницы, чтобы собрать базу клиентов для email-рассылок   \n",
       "2  Добавить блоки рекомендаций товаров на сайт интернет магазина, чтобы повысить конверсию и средний чек заказа   \n",
       "0            Добавить два новых канала привлечения трафика, что позволит привлекать на 30% больше пользователей   \n",
       "6          Показать на главной странице баннеры с актуальными акциями и распродажами, чтобы увеличить конверсию   \n",
       "8                                                       Запустить акцию, дающую скидку на товар в день рождения   \n",
       "3           Изменить структура категорий, что увеличит конверсию, т.к. пользователи быстрее найдут нужный товар   \n",
       "1                                     Запустить собственную службу доставки, что сократит срок доставки заказов   \n",
       "5                      Добавить страницу отзывов клиентов о магазине, что позволит увеличить количество заказов   \n",
       "4                              Изменить цвет фона главной страницы, чтобы увеличить вовлеченность пользователей   \n",
       "\n",
       "    RICE  \n",
       "7  112.0  \n",
       "2   56.0  \n",
       "0   40.0  \n",
       "6   40.0  \n",
       "8   16.2  \n",
       "3    9.0  \n",
       "1    4.0  \n",
       "5    4.0  \n",
       "4    3.0  "
      ]
     },
     "execution_count": 4,
     "metadata": {},
     "output_type": "execute_result"
    }
   ],
   "source": [
    "data['RICE'] = data['Reach'] * data['Impact'] * data['Confidence'] / data['Efforts'] # посчитаем RICE для гипотез. Добавим полученные значения RICE к существующей таблице.\n",
    "pd.options.display.max_colwidth=150 # увеличим ширину отображаемого окна\n",
    "data[['Hypothesis', 'RICE']].sort_values(by=['RICE'], ascending=False) # отсортируем их по убыванию приоритета."
   ]
  },
  {
   "cell_type": "markdown",
   "metadata": {},
   "source": [
    "Применив фреймворк RICE, видим, что в топ перспективных гипотез входят **гипотезы 7 (форма подписки) - с большим отрывом, 2 (блоки рекомендаций товаров), 0 (два новых канала привлечения) и 6 (показ баннеров на главной странице)**."
   ]
  },
  {
   "cell_type": "markdown",
   "metadata": {},
   "source": [
    "Мы видим, что приоритизация гипотез при применении RICE вместо ICE **изменилась** - **более приоритетными** стали гипотезы **с более широким охватом** (параметр REACH отображает нашу оценку того, скольких пользователей затронет изменение, которое мы хотим внести). Данный параметр в принципе **не участвует** в расчете по методологии ICE. В данной связи в случае применения фреймворка RICE на первое место, например, вырывается гипотеза 7, параметру REACH которой присвоен наивысший балл - 10. Иные гипотезы тоже меняют свое положение в рейтинге.\n",
    "\n",
    "**Таким образом, мы тестируем гипотезу номер 7 - \"Добавить форму подписки на все основные страницы, чтобы собрать базу клиентов для email-рассылок\"**."
   ]
  },
  {
   "cell_type": "markdown",
   "metadata": {},
   "source": [
    "## Анализ A/B-теста\n",
    "\n",
    "Мы провели A/B-тест и получили результаты, которые описаны в файлах /datasets/orders.csv и /datasets/visitors.csv."
   ]
  },
  {
   "cell_type": "markdown",
   "metadata": {},
   "source": [
    "### Предобработка данных\n",
    "\n",
    "Для начала изучим информацию в файлах."
   ]
  },
  {
   "cell_type": "code",
   "execution_count": 5,
   "metadata": {},
   "outputs": [
    {
     "data": {
      "text/html": [
       "<div>\n",
       "<style scoped>\n",
       "    .dataframe tbody tr th:only-of-type {\n",
       "        vertical-align: middle;\n",
       "    }\n",
       "\n",
       "    .dataframe tbody tr th {\n",
       "        vertical-align: top;\n",
       "    }\n",
       "\n",
       "    .dataframe thead th {\n",
       "        text-align: right;\n",
       "    }\n",
       "</style>\n",
       "<table border=\"1\" class=\"dataframe\">\n",
       "  <thead>\n",
       "    <tr style=\"text-align: right;\">\n",
       "      <th></th>\n",
       "      <th>transactionId</th>\n",
       "      <th>visitorId</th>\n",
       "      <th>date</th>\n",
       "      <th>revenue</th>\n",
       "      <th>group</th>\n",
       "    </tr>\n",
       "  </thead>\n",
       "  <tbody>\n",
       "    <tr>\n",
       "      <th>0</th>\n",
       "      <td>3667963787</td>\n",
       "      <td>3312258926</td>\n",
       "      <td>2019-08-15</td>\n",
       "      <td>1650</td>\n",
       "      <td>B</td>\n",
       "    </tr>\n",
       "    <tr>\n",
       "      <th>1</th>\n",
       "      <td>2804400009</td>\n",
       "      <td>3642806036</td>\n",
       "      <td>2019-08-15</td>\n",
       "      <td>730</td>\n",
       "      <td>B</td>\n",
       "    </tr>\n",
       "    <tr>\n",
       "      <th>2</th>\n",
       "      <td>2961555356</td>\n",
       "      <td>4069496402</td>\n",
       "      <td>2019-08-15</td>\n",
       "      <td>400</td>\n",
       "      <td>A</td>\n",
       "    </tr>\n",
       "    <tr>\n",
       "      <th>3</th>\n",
       "      <td>3797467345</td>\n",
       "      <td>1196621759</td>\n",
       "      <td>2019-08-15</td>\n",
       "      <td>9759</td>\n",
       "      <td>B</td>\n",
       "    </tr>\n",
       "    <tr>\n",
       "      <th>4</th>\n",
       "      <td>2282983706</td>\n",
       "      <td>2322279887</td>\n",
       "      <td>2019-08-15</td>\n",
       "      <td>2308</td>\n",
       "      <td>B</td>\n",
       "    </tr>\n",
       "  </tbody>\n",
       "</table>\n",
       "</div>"
      ],
      "text/plain": [
       "   transactionId   visitorId        date  revenue group\n",
       "0     3667963787  3312258926  2019-08-15     1650     B\n",
       "1     2804400009  3642806036  2019-08-15      730     B\n",
       "2     2961555356  4069496402  2019-08-15      400     A\n",
       "3     3797467345  1196621759  2019-08-15     9759     B\n",
       "4     2282983706  2322279887  2019-08-15     2308     B"
      ]
     },
     "execution_count": 5,
     "metadata": {},
     "output_type": "execute_result"
    }
   ],
   "source": [
    "orders = pd.read_csv('/datasets/orders.csv') # загружаем данные о заказах из файла в датафрейм\n",
    "orders.head() # выводим его первые строки"
   ]
  },
  {
   "cell_type": "code",
   "execution_count": 6,
   "metadata": {},
   "outputs": [
    {
     "name": "stdout",
     "output_type": "stream",
     "text": [
      "<class 'pandas.core.frame.DataFrame'>\n",
      "RangeIndex: 1197 entries, 0 to 1196\n",
      "Data columns (total 5 columns):\n",
      " #   Column         Non-Null Count  Dtype \n",
      "---  ------         --------------  ----- \n",
      " 0   transactionId  1197 non-null   int64 \n",
      " 1   visitorId      1197 non-null   int64 \n",
      " 2   date           1197 non-null   object\n",
      " 3   revenue        1197 non-null   int64 \n",
      " 4   group          1197 non-null   object\n",
      "dtypes: int64(3), object(2)\n",
      "memory usage: 46.9+ KB\n"
     ]
    }
   ],
   "source": [
    "orders.info() # выведем общую информацию о датафрейме"
   ]
  },
  {
   "cell_type": "markdown",
   "metadata": {},
   "source": [
    "Видим, что формат данных в столбце с датой неверный (object вместо datetime). Кроме того, неплохо было бы поправить названия столбцов для удобства.\n",
    "Исходя из данных, понимаем, что в выборку попали 1 197 заказов."
   ]
  },
  {
   "cell_type": "code",
   "execution_count": 7,
   "metadata": {},
   "outputs": [],
   "source": [
    "orders = orders.rename(columns={'transactionId': 'transaction_id', 'visitorId': 'visitor_id'}) # приводим в порядок названия некоторых столбцов"
   ]
  },
  {
   "cell_type": "code",
   "execution_count": 8,
   "metadata": {},
   "outputs": [],
   "source": [
    "orders['date'] = orders['date'].map(lambda x: dt.datetime.strptime(x, '%Y-%m-%d')) # приведем дату к нужному виду"
   ]
  },
  {
   "cell_type": "code",
   "execution_count": 9,
   "metadata": {},
   "outputs": [
    {
     "data": {
      "text/html": [
       "<div>\n",
       "<style scoped>\n",
       "    .dataframe tbody tr th:only-of-type {\n",
       "        vertical-align: middle;\n",
       "    }\n",
       "\n",
       "    .dataframe tbody tr th {\n",
       "        vertical-align: top;\n",
       "    }\n",
       "\n",
       "    .dataframe thead th {\n",
       "        text-align: right;\n",
       "    }\n",
       "</style>\n",
       "<table border=\"1\" class=\"dataframe\">\n",
       "  <thead>\n",
       "    <tr style=\"text-align: right;\">\n",
       "      <th></th>\n",
       "      <th>date</th>\n",
       "      <th>group</th>\n",
       "      <th>visitors</th>\n",
       "    </tr>\n",
       "  </thead>\n",
       "  <tbody>\n",
       "    <tr>\n",
       "      <th>0</th>\n",
       "      <td>2019-08-01</td>\n",
       "      <td>A</td>\n",
       "      <td>719</td>\n",
       "    </tr>\n",
       "    <tr>\n",
       "      <th>1</th>\n",
       "      <td>2019-08-02</td>\n",
       "      <td>A</td>\n",
       "      <td>619</td>\n",
       "    </tr>\n",
       "    <tr>\n",
       "      <th>2</th>\n",
       "      <td>2019-08-03</td>\n",
       "      <td>A</td>\n",
       "      <td>507</td>\n",
       "    </tr>\n",
       "    <tr>\n",
       "      <th>3</th>\n",
       "      <td>2019-08-04</td>\n",
       "      <td>A</td>\n",
       "      <td>717</td>\n",
       "    </tr>\n",
       "    <tr>\n",
       "      <th>4</th>\n",
       "      <td>2019-08-05</td>\n",
       "      <td>A</td>\n",
       "      <td>756</td>\n",
       "    </tr>\n",
       "  </tbody>\n",
       "</table>\n",
       "</div>"
      ],
      "text/plain": [
       "         date group  visitors\n",
       "0  2019-08-01     A       719\n",
       "1  2019-08-02     A       619\n",
       "2  2019-08-03     A       507\n",
       "3  2019-08-04     A       717\n",
       "4  2019-08-05     A       756"
      ]
     },
     "execution_count": 9,
     "metadata": {},
     "output_type": "execute_result"
    }
   ],
   "source": [
    "visitors = pd.read_csv('/datasets/visitors.csv') # загружаем данные о пользователях из файла в датафрейм\n",
    "visitors.head() # выводим его первые строки"
   ]
  },
  {
   "cell_type": "code",
   "execution_count": 10,
   "metadata": {},
   "outputs": [
    {
     "name": "stdout",
     "output_type": "stream",
     "text": [
      "<class 'pandas.core.frame.DataFrame'>\n",
      "RangeIndex: 62 entries, 0 to 61\n",
      "Data columns (total 3 columns):\n",
      " #   Column    Non-Null Count  Dtype \n",
      "---  ------    --------------  ----- \n",
      " 0   date      62 non-null     object\n",
      " 1   group     62 non-null     object\n",
      " 2   visitors  62 non-null     int64 \n",
      "dtypes: int64(1), object(2)\n",
      "memory usage: 1.6+ KB\n"
     ]
    }
   ],
   "source": [
    "visitors.info() # выведем общую информацию о датафрейме"
   ]
  },
  {
   "cell_type": "markdown",
   "metadata": {},
   "source": [
    "Видим, что формат данных в столбце с датой неверный (object вместо datetime). Данные подсказывают нам, что тест длился месяц."
   ]
  },
  {
   "cell_type": "code",
   "execution_count": 11,
   "metadata": {},
   "outputs": [],
   "source": [
    "visitors['date'] = visitors['date'].map(lambda x: dt.datetime.strptime(x, '%Y-%m-%d')) # приведем дату к нужному виду"
   ]
  },
  {
   "cell_type": "code",
   "execution_count": 12,
   "metadata": {},
   "outputs": [
    {
     "data": {
      "text/plain": [
       "transaction_id    0\n",
       "visitor_id        0\n",
       "date              0\n",
       "revenue           0\n",
       "group             0\n",
       "dtype: int64"
      ]
     },
     "execution_count": 12,
     "metadata": {},
     "output_type": "execute_result"
    }
   ],
   "source": [
    "orders.isna().sum() # определяем, в каких столбцах есть пропуски, а также их количество"
   ]
  },
  {
   "cell_type": "markdown",
   "metadata": {},
   "source": [
    "Отлично, пропусков в этом датафрейме нет."
   ]
  },
  {
   "cell_type": "code",
   "execution_count": 13,
   "metadata": {},
   "outputs": [
    {
     "data": {
      "text/plain": [
       "date        0\n",
       "group       0\n",
       "visitors    0\n",
       "dtype: int64"
      ]
     },
     "execution_count": 13,
     "metadata": {},
     "output_type": "execute_result"
    }
   ],
   "source": [
    "visitors.isna().sum() # определяем, в каких столбцах есть пропуски, а также их количество"
   ]
  },
  {
   "cell_type": "markdown",
   "metadata": {},
   "source": [
    "Отлично, в этом датафрейме пропусков тоже нет."
   ]
  },
  {
   "cell_type": "code",
   "execution_count": 14,
   "metadata": {},
   "outputs": [
    {
     "data": {
      "text/plain": [
       "0"
      ]
     },
     "execution_count": 14,
     "metadata": {},
     "output_type": "execute_result"
    }
   ],
   "source": [
    "orders.duplicated().sum() # проверим, нет ли явных дубликатов"
   ]
  },
  {
   "cell_type": "code",
   "execution_count": 15,
   "metadata": {},
   "outputs": [
    {
     "data": {
      "text/plain": [
       "0"
      ]
     },
     "execution_count": 15,
     "metadata": {},
     "output_type": "execute_result"
    }
   ],
   "source": [
    "visitors.duplicated().sum() # проверим, нет ли явных дубликатов"
   ]
  },
  {
   "cell_type": "markdown",
   "metadata": {},
   "source": [
    "Явных дубликатов в датафреймах не обнаружено."
   ]
  },
  {
   "cell_type": "markdown",
   "metadata": {},
   "source": [
    "Посмотрим на временные рамки проведенного теста."
   ]
  },
  {
   "cell_type": "code",
   "execution_count": 16,
   "metadata": {},
   "outputs": [
    {
     "data": {
      "text/plain": [
       "Timestamp('2019-08-01 00:00:00')"
      ]
     },
     "execution_count": 16,
     "metadata": {},
     "output_type": "execute_result"
    }
   ],
   "source": [
    "orders['date'].min() # узнаем минимальную дату в датафрейме orders"
   ]
  },
  {
   "cell_type": "code",
   "execution_count": 17,
   "metadata": {},
   "outputs": [
    {
     "data": {
      "text/plain": [
       "Timestamp('2019-08-31 00:00:00')"
      ]
     },
     "execution_count": 17,
     "metadata": {},
     "output_type": "execute_result"
    }
   ],
   "source": [
    "orders['date'].max() # узнаем максимальную дату в датафрейме orders"
   ]
  },
  {
   "cell_type": "code",
   "execution_count": 18,
   "metadata": {},
   "outputs": [
    {
     "data": {
      "text/plain": [
       "Timestamp('2019-08-01 00:00:00')"
      ]
     },
     "execution_count": 18,
     "metadata": {},
     "output_type": "execute_result"
    }
   ],
   "source": [
    "visitors['date'].min() # узнаем минимальную дату в датафрейме visitors"
   ]
  },
  {
   "cell_type": "code",
   "execution_count": 19,
   "metadata": {},
   "outputs": [
    {
     "data": {
      "text/plain": [
       "Timestamp('2019-08-31 00:00:00')"
      ]
     },
     "execution_count": 19,
     "metadata": {},
     "output_type": "execute_result"
    }
   ],
   "source": [
    "visitors['date'].max() # узнаем максимальную дату в датафрейме visitors"
   ]
  },
  {
   "cell_type": "markdown",
   "metadata": {},
   "source": [
    "Видим, что тест начался **1 августа 2019 года**, закончился **31 августа 2019 года** - соответствующие даты содержатся в обоих датафреймах. Таким образом, тест продлился 1 месяц."
   ]
  },
  {
   "cell_type": "code",
   "execution_count": 20,
   "metadata": {},
   "outputs": [
    {
     "data": {
      "text/html": [
       "<div>\n",
       "<style scoped>\n",
       "    .dataframe tbody tr th:only-of-type {\n",
       "        vertical-align: middle;\n",
       "    }\n",
       "\n",
       "    .dataframe tbody tr th {\n",
       "        vertical-align: top;\n",
       "    }\n",
       "\n",
       "    .dataframe thead th {\n",
       "        text-align: right;\n",
       "    }\n",
       "</style>\n",
       "<table border=\"1\" class=\"dataframe\">\n",
       "  <thead>\n",
       "    <tr style=\"text-align: right;\">\n",
       "      <th></th>\n",
       "      <th>groups_amount</th>\n",
       "    </tr>\n",
       "    <tr>\n",
       "      <th>visitor_id</th>\n",
       "      <th></th>\n",
       "    </tr>\n",
       "  </thead>\n",
       "  <tbody>\n",
       "    <tr>\n",
       "      <th>5114589</th>\n",
       "      <td>1</td>\n",
       "    </tr>\n",
       "    <tr>\n",
       "      <th>6958315</th>\n",
       "      <td>1</td>\n",
       "    </tr>\n",
       "    <tr>\n",
       "      <th>8300375</th>\n",
       "      <td>2</td>\n",
       "    </tr>\n",
       "    <tr>\n",
       "      <th>11685486</th>\n",
       "      <td>1</td>\n",
       "    </tr>\n",
       "    <tr>\n",
       "      <th>39475350</th>\n",
       "      <td>1</td>\n",
       "    </tr>\n",
       "    <tr>\n",
       "      <th>...</th>\n",
       "      <td>...</td>\n",
       "    </tr>\n",
       "    <tr>\n",
       "      <th>4266935830</th>\n",
       "      <td>2</td>\n",
       "    </tr>\n",
       "    <tr>\n",
       "      <th>4278982564</th>\n",
       "      <td>1</td>\n",
       "    </tr>\n",
       "    <tr>\n",
       "      <th>4279090005</th>\n",
       "      <td>1</td>\n",
       "    </tr>\n",
       "    <tr>\n",
       "      <th>4281247801</th>\n",
       "      <td>1</td>\n",
       "    </tr>\n",
       "    <tr>\n",
       "      <th>4283872382</th>\n",
       "      <td>1</td>\n",
       "    </tr>\n",
       "  </tbody>\n",
       "</table>\n",
       "<p>1031 rows × 1 columns</p>\n",
       "</div>"
      ],
      "text/plain": [
       "            groups_amount\n",
       "visitor_id               \n",
       "5114589                 1\n",
       "6958315                 1\n",
       "8300375                 2\n",
       "11685486                1\n",
       "39475350                1\n",
       "...                   ...\n",
       "4266935830              2\n",
       "4278982564              1\n",
       "4279090005              1\n",
       "4281247801              1\n",
       "4283872382              1\n",
       "\n",
       "[1031 rows x 1 columns]"
      ]
     },
     "execution_count": 20,
     "metadata": {},
     "output_type": "execute_result"
    }
   ],
   "source": [
    "groups_count = orders.groupby('visitor_id').agg({'group': 'nunique'}) # посчитаем распределение групп по клиентам\n",
    "groups_count.columns = ['groups_amount'] # переименуем столбец\n",
    "groups_count"
   ]
  },
  {
   "cell_type": "markdown",
   "metadata": {},
   "source": [
    "Мы видим, что в датафрейме orders имеется 1031 пользователь, при этом часть их них попала в обе группы (А и B), что **методологически неверно**."
   ]
  },
  {
   "cell_type": "code",
   "execution_count": 21,
   "metadata": {},
   "outputs": [
    {
     "data": {
      "text/plain": [
       "groups_amount\n",
       "1                973\n",
       "2                 58\n",
       "dtype: int64"
      ]
     },
     "execution_count": 21,
     "metadata": {},
     "output_type": "execute_result"
    }
   ],
   "source": [
    "groups_count.value_counts() # посчитаем, сколько пользователей попало в обе группы"
   ]
  },
  {
   "cell_type": "markdown",
   "metadata": {},
   "source": [
    "Видим, что 58 пользователей (5,6% от общего количества) попали в обе группы, что говорит об **ошибке при сборе данных**. Вместе с тем, удаление данных пользователей повлияет на конверсию, так как мы не можем удалить их из таблицы visitors (данные там уже агрегированы). \n",
    "Поэтому данный факт нам нужно иметь ввиду в процессе интерпретации результатов А/В-теста."
   ]
  },
  {
   "cell_type": "code",
   "execution_count": 22,
   "metadata": {},
   "outputs": [
    {
     "data": {
      "text/html": [
       "<div>\n",
       "<style scoped>\n",
       "    .dataframe tbody tr th:only-of-type {\n",
       "        vertical-align: middle;\n",
       "    }\n",
       "\n",
       "    .dataframe tbody tr th {\n",
       "        vertical-align: top;\n",
       "    }\n",
       "\n",
       "    .dataframe thead th {\n",
       "        text-align: right;\n",
       "    }\n",
       "</style>\n",
       "<table border=\"1\" class=\"dataframe\">\n",
       "  <thead>\n",
       "    <tr style=\"text-align: right;\">\n",
       "      <th></th>\n",
       "      <th>visitor_id</th>\n",
       "    </tr>\n",
       "    <tr>\n",
       "      <th>group</th>\n",
       "      <th></th>\n",
       "    </tr>\n",
       "  </thead>\n",
       "  <tbody>\n",
       "    <tr>\n",
       "      <th>A</th>\n",
       "      <td>503</td>\n",
       "    </tr>\n",
       "    <tr>\n",
       "      <th>B</th>\n",
       "      <td>586</td>\n",
       "    </tr>\n",
       "  </tbody>\n",
       "</table>\n",
       "</div>"
      ],
      "text/plain": [
       "       visitor_id\n",
       "group            \n",
       "A             503\n",
       "B             586"
      ]
     },
     "execution_count": 22,
     "metadata": {},
     "output_type": "execute_result"
    }
   ],
   "source": [
    "groups_count_1 = orders.groupby('group').agg({'visitor_id': 'nunique'}) # посчитаем распределение клиентов по группам\n",
    "groups_count_1 # выведем на экран"
   ]
  },
  {
   "cell_type": "markdown",
   "metadata": {},
   "source": [
    "Видим, что пользователи распределены по группам не вполне равномерно, однако разница **не критична** (около 17%). Суммарное количество пользователей составляет 1 089, что на 58 больше общего количества уникальных пользователей. Как мы ранее узнали, 58 пользователей ошибочно попали в обе группы."
   ]
  },
  {
   "cell_type": "markdown",
   "metadata": {},
   "source": [
    "### Строим график кумулятивной выручки по группам."
   ]
  },
  {
   "cell_type": "markdown",
   "metadata": {},
   "source": [
    "Чтобы построить этот график и другие, нужно сначала собрать кумулятивные данные."
   ]
  },
  {
   "cell_type": "code",
   "execution_count": 23,
   "metadata": {},
   "outputs": [],
   "source": [
    "# создаем массив уникальных пар значений дат и групп теста\n",
    "datesGroups = orders[['date','group']].drop_duplicates()"
   ]
  },
  {
   "cell_type": "code",
   "execution_count": 24,
   "metadata": {},
   "outputs": [],
   "source": [
    "# получаем агрегированные кумулятивные по дням данные о заказах \n",
    "ordersAggregated = datesGroups.apply(lambda x: orders[np.logical_and(orders['date'] <= x['date'], orders['group'] == x['group'])]\\\n",
    ".agg({'date' : 'max', 'group' : 'max', 'transaction_id' : 'nunique', 'visitor_id' : 'nunique', 'revenue' : 'sum'}), axis=1).sort_values(by=['date','group'])"
   ]
  },
  {
   "cell_type": "code",
   "execution_count": 25,
   "metadata": {},
   "outputs": [],
   "source": [
    "# получаем агрегированные кумулятивные по дням данные о посетителях интернет-магазина \n",
    "visitorsAggregated = datesGroups.apply(lambda x: visitors[np.logical_and(visitors['date'] <= x['date'], visitors['group'] == x['group'])].agg({'date' : 'max', 'group' : 'max', 'visitors' : 'sum'}), axis=1).sort_values(by=['date','group'])"
   ]
  },
  {
   "cell_type": "code",
   "execution_count": 26,
   "metadata": {},
   "outputs": [],
   "source": [
    "# объединяем кумулятивные данные в одной таблице и присваиваем ее столбцам понятные названия\n",
    "cumulativeData = ordersAggregated.merge(visitorsAggregated, left_on=['date', 'group'], right_on=['date', 'group'])\n",
    "cumulativeData.columns = ['date', 'group', 'orders', 'buyers', 'revenue', 'visitors']"
   ]
  },
  {
   "cell_type": "markdown",
   "metadata": {},
   "source": [
    "В нашем новом датафрейме:\n",
    "\n",
    "orders — кумулятивное количество заказов на указанную дату в указанной группе;\n",
    "\n",
    "buyers — кумулятивное количество пользователей, совершивших хотя бы один заказ, на указанную дату в указанной группе;\n",
    "\n",
    "revenue — кумулятивная выручка на указанную дату в указанной группе (средний чек);\n",
    "\n",
    "visitors — кумулятивное количество посетителей интернет-магазина на указанную дату в определённой группе."
   ]
  },
  {
   "cell_type": "code",
   "execution_count": 27,
   "metadata": {},
   "outputs": [
    {
     "data": {
      "text/html": [
       "<div>\n",
       "<style scoped>\n",
       "    .dataframe tbody tr th:only-of-type {\n",
       "        vertical-align: middle;\n",
       "    }\n",
       "\n",
       "    .dataframe tbody tr th {\n",
       "        vertical-align: top;\n",
       "    }\n",
       "\n",
       "    .dataframe thead th {\n",
       "        text-align: right;\n",
       "    }\n",
       "</style>\n",
       "<table border=\"1\" class=\"dataframe\">\n",
       "  <thead>\n",
       "    <tr style=\"text-align: right;\">\n",
       "      <th></th>\n",
       "      <th>date</th>\n",
       "      <th>group</th>\n",
       "      <th>orders</th>\n",
       "      <th>buyers</th>\n",
       "      <th>revenue</th>\n",
       "      <th>visitors</th>\n",
       "    </tr>\n",
       "  </thead>\n",
       "  <tbody>\n",
       "    <tr>\n",
       "      <th>0</th>\n",
       "      <td>2019-08-01</td>\n",
       "      <td>A</td>\n",
       "      <td>24</td>\n",
       "      <td>20</td>\n",
       "      <td>148579</td>\n",
       "      <td>719</td>\n",
       "    </tr>\n",
       "    <tr>\n",
       "      <th>1</th>\n",
       "      <td>2019-08-01</td>\n",
       "      <td>B</td>\n",
       "      <td>21</td>\n",
       "      <td>20</td>\n",
       "      <td>101217</td>\n",
       "      <td>713</td>\n",
       "    </tr>\n",
       "    <tr>\n",
       "      <th>2</th>\n",
       "      <td>2019-08-02</td>\n",
       "      <td>A</td>\n",
       "      <td>44</td>\n",
       "      <td>38</td>\n",
       "      <td>242401</td>\n",
       "      <td>1338</td>\n",
       "    </tr>\n",
       "    <tr>\n",
       "      <th>3</th>\n",
       "      <td>2019-08-02</td>\n",
       "      <td>B</td>\n",
       "      <td>45</td>\n",
       "      <td>43</td>\n",
       "      <td>266748</td>\n",
       "      <td>1294</td>\n",
       "    </tr>\n",
       "    <tr>\n",
       "      <th>4</th>\n",
       "      <td>2019-08-03</td>\n",
       "      <td>A</td>\n",
       "      <td>68</td>\n",
       "      <td>62</td>\n",
       "      <td>354874</td>\n",
       "      <td>1845</td>\n",
       "    </tr>\n",
       "  </tbody>\n",
       "</table>\n",
       "</div>"
      ],
      "text/plain": [
       "        date group  orders  buyers  revenue  visitors\n",
       "0 2019-08-01     A      24      20   148579       719\n",
       "1 2019-08-01     B      21      20   101217       713\n",
       "2 2019-08-02     A      44      38   242401      1338\n",
       "3 2019-08-02     B      45      43   266748      1294\n",
       "4 2019-08-03     A      68      62   354874      1845"
      ]
     },
     "execution_count": 27,
     "metadata": {},
     "output_type": "execute_result"
    }
   ],
   "source": [
    "cumulativeData.head() # посмотрим, что получилось"
   ]
  },
  {
   "cell_type": "code",
   "execution_count": 28,
   "metadata": {},
   "outputs": [
    {
     "data": {
      "image/png": "[encoded data removed]",
      "text/plain": [
       "<Figure size 720x576 with 1 Axes>"
      ]
     },
     "metadata": {
      "needs_background": "light"
     },
     "output_type": "display_data"
    }
   ],
   "source": [
    "# датафрейм с кумулятивным количеством заказов и кумулятивной выручкой по дням в группе А\n",
    "cumulativeRevenueA = cumulativeData[cumulativeData['group']=='A'][['date','revenue', 'orders']]\n",
    "\n",
    "# датафрейм с кумулятивным количеством заказов и кумулятивной выручкой по дням в группе B\n",
    "cumulativeRevenueB = cumulativeData[cumulativeData['group']=='B'][['date','revenue', 'orders']]\n",
    "\n",
    "# Строим график выручки группы А\n",
    "plt.plot(cumulativeRevenueA['date'], cumulativeRevenueA['revenue'], label='A')\n",
    "\n",
    "# Строим график выручки группы B\n",
    "plt.plot(cumulativeRevenueB['date'], cumulativeRevenueB['revenue'], label='B')\n",
    "plt.title('Кумулятивная выручка по группам')\n",
    "plt.xlabel('Дата')\n",
    "plt.ylabel('Кумулятивная выручка')\n",
    "plt.xticks(rotation=45)\n",
    "plt.legend()\n",
    "plt.show()"
   ]
  },
  {
   "cell_type": "markdown",
   "metadata": {},
   "source": [
    "Видим, что выручка в обеих группах увеличивается, при это группа В демонстрирует более динамичный рост. Вместе с тем, обращает на себя внимание скачок по группе В между 17 и 21 августа - похоже, что в этот период были сделаны **аномально большие заказы, либо произошел всплеск числа заказов**, что и оказало существенное влияние на кумулятивную выручку."
   ]
  },
  {
   "cell_type": "markdown",
   "metadata": {},
   "source": [
    "### Строим график кумулятивного среднего чека по группам."
   ]
  },
  {
   "cell_type": "code",
   "execution_count": 29,
   "metadata": {},
   "outputs": [
    {
     "data": {
      "image/png": "[encoded data removed]",
      "text/plain": [
       "<Figure size 720x576 with 1 Axes>"
      ]
     },
     "metadata": {
      "needs_background": "light"
     },
     "output_type": "display_data"
    }
   ],
   "source": [
    "plt.plot(cumulativeRevenueA['date'], cumulativeRevenueA['revenue']/cumulativeRevenueA['orders'], label='A')\n",
    "plt.plot(cumulativeRevenueB['date'], cumulativeRevenueB['revenue']/cumulativeRevenueB['orders'], label='B')\n",
    "plt.title('Кумулятивный средний чек по группам')\n",
    "plt.xlabel('Дата')\n",
    "plt.ylabel('Кумулятивный средний чек')\n",
    "plt.xticks(rotation=45)\n",
    "plt.legend()\n",
    "plt.show()"
   ]
  },
  {
   "cell_type": "markdown",
   "metadata": {},
   "source": [
    "Средний чек после 17 августа начинает **очень существенно различаться** - очевидное лидерство за группой В. Как мы уже предположили выше, данный факт может быть обусловлен аномальным размером/количеством заказов."
   ]
  },
  {
   "cell_type": "markdown",
   "metadata": {},
   "source": [
    "### Строим график относительного изменения кумулятивного среднего чека группы B к группе A."
   ]
  },
  {
   "cell_type": "code",
   "execution_count": 30,
   "metadata": {},
   "outputs": [
    {
     "data": {
      "image/png": "[encoded data removed]",
      "text/plain": [
       "<Figure size 720x576 with 1 Axes>"
      ]
     },
     "metadata": {
      "needs_background": "light"
     },
     "output_type": "display_data"
    }
   ],
   "source": [
    "# собираем данные в одном датафрейме\n",
    "mergedCumulativeRevenue = cumulativeRevenueA.merge(cumulativeRevenueB, left_on='date', right_on='date', how='left', suffixes=['A', 'B'])\n",
    "\n",
    "# cтроим отношение средних чеков\n",
    "plt.plot(mergedCumulativeRevenue['date'], (mergedCumulativeRevenue['revenueB']/mergedCumulativeRevenue['ordersB'])/(mergedCumulativeRevenue['revenueA']/mergedCumulativeRevenue['ordersA'])-1)\n",
    "plt.title('Относительное изменение кумулятивного среднего чека группы B к группе A')\n",
    "plt.xlabel('Дата')\n",
    "plt.ylabel('Отношение')\n",
    "plt.xticks(rotation=45)\n",
    "# добавляем ось X\n",
    "plt.axhline(y=0, color='black', linestyle='--')\n",
    "plt.show()"
   ]
  },
  {
   "cell_type": "markdown",
   "metadata": {},
   "source": [
    "Данный график еще раз наглядно иллюстрирует скачок, после которого соотношение начало плавно выравниваться, однако по состоянию на конце месяца преимущество группы В оставалось существенным."
   ]
  },
  {
   "cell_type": "markdown",
   "metadata": {},
   "source": [
    "### Строим график кумулятивного среднего количества заказов на посетителя по группам."
   ]
  },
  {
   "cell_type": "code",
   "execution_count": 31,
   "metadata": {},
   "outputs": [
    {
     "data": {
      "image/png": "[encoded data removed]",
      "text/plain": [
       "<Figure size 720x576 with 1 Axes>"
      ]
     },
     "metadata": {
      "needs_background": "light"
     },
     "output_type": "display_data"
    }
   ],
   "source": [
    "# считаем кумулятивное среднее количество заказов на посетителя\n",
    "cumulativeData['conversion'] = cumulativeData['orders']/cumulativeData['visitors']\n",
    "\n",
    "# отделяем данные по группе A\n",
    "cumulativeDataA = cumulativeData[cumulativeData['group']=='A']\n",
    "\n",
    "# отделяем данные по группе B\n",
    "cumulativeDataB = cumulativeData[cumulativeData['group']=='B']\n",
    "\n",
    "# строим графики\n",
    "plt.plot(cumulativeDataA['date'], cumulativeDataA['conversion'], label='A')\n",
    "plt.plot(cumulativeDataB['date'], cumulativeDataB['conversion'], label='B')\n",
    "plt.title('Кумулятивное среднее количество заказов на посетителя по группам')\n",
    "plt.xlabel('Дата')\n",
    "plt.ylabel('Кумулятивное среднее количество заказов на посетителя')\n",
    "plt.xticks(rotation=45)\n",
    "plt.legend()\n",
    "plt.show()"
   ]
  },
  {
   "cell_type": "markdown",
   "metadata": {},
   "source": [
    "Видим неоспоримое преимущество группы В после 5 мая."
   ]
  },
  {
   "cell_type": "markdown",
   "metadata": {},
   "source": [
    "### Строим график относительного изменения кумулятивного среднего количества заказов на посетителя группы B к группе A."
   ]
  },
  {
   "cell_type": "code",
   "execution_count": 32,
   "metadata": {},
   "outputs": [
    {
     "data": {
      "image/png": "[encoded data removed]",
      "text/plain": [
       "<Figure size 720x576 with 1 Axes>"
      ]
     },
     "metadata": {
      "needs_background": "light"
     },
     "output_type": "display_data"
    }
   ],
   "source": [
    "mergedCumulativeConversions = cumulativeDataA[['date','conversion']].merge(cumulativeDataB[['date','conversion']], left_on='date', right_on='date', how='left', suffixes=['A', 'B'])\n",
    "plt.plot(mergedCumulativeConversions['date'], mergedCumulativeConversions['conversionB']/mergedCumulativeConversions['conversionA']-1)\n",
    "plt.xlabel('Дата')\n",
    "plt.title('Относительный прирост кумулятивного среднего количества заказов на посетителя группы B относительно группы A')\n",
    "plt.ylabel('Отношение')\n",
    "plt.xticks(rotation=30)\n",
    "plt.axhline(y=0, color='black', linestyle='--')\n",
    "plt.axhline(y=-0.1, color='grey', linestyle='--')\n",
    "plt.show()"
   ]
  },
  {
   "cell_type": "markdown",
   "metadata": {},
   "source": [
    "Данный график дополнительно иллюстрирует более высокие результаты группы В относительно группы А и по смыслу коррелирует с ранее построенными графиками."
   ]
  },
  {
   "cell_type": "markdown",
   "metadata": {},
   "source": [
    "### Строим точечный график количества заказов по пользователям."
   ]
  },
  {
   "cell_type": "code",
   "execution_count": 33,
   "metadata": {},
   "outputs": [
    {
     "data": {
      "text/html": [
       "<div>\n",
       "<style scoped>\n",
       "    .dataframe tbody tr th:only-of-type {\n",
       "        vertical-align: middle;\n",
       "    }\n",
       "\n",
       "    .dataframe tbody tr th {\n",
       "        vertical-align: top;\n",
       "    }\n",
       "\n",
       "    .dataframe thead th {\n",
       "        text-align: right;\n",
       "    }\n",
       "</style>\n",
       "<table border=\"1\" class=\"dataframe\">\n",
       "  <thead>\n",
       "    <tr style=\"text-align: right;\">\n",
       "      <th></th>\n",
       "      <th>visitor_id</th>\n",
       "      <th>orders</th>\n",
       "    </tr>\n",
       "  </thead>\n",
       "  <tbody>\n",
       "    <tr>\n",
       "      <th>1023</th>\n",
       "      <td>4256040402</td>\n",
       "      <td>11</td>\n",
       "    </tr>\n",
       "    <tr>\n",
       "      <th>591</th>\n",
       "      <td>2458001652</td>\n",
       "      <td>11</td>\n",
       "    </tr>\n",
       "    <tr>\n",
       "      <th>569</th>\n",
       "      <td>2378935119</td>\n",
       "      <td>9</td>\n",
       "    </tr>\n",
       "    <tr>\n",
       "      <th>487</th>\n",
       "      <td>2038680547</td>\n",
       "      <td>8</td>\n",
       "    </tr>\n",
       "    <tr>\n",
       "      <th>44</th>\n",
       "      <td>199603092</td>\n",
       "      <td>5</td>\n",
       "    </tr>\n",
       "    <tr>\n",
       "      <th>744</th>\n",
       "      <td>3062433592</td>\n",
       "      <td>5</td>\n",
       "    </tr>\n",
       "    <tr>\n",
       "      <th>55</th>\n",
       "      <td>237748145</td>\n",
       "      <td>5</td>\n",
       "    </tr>\n",
       "    <tr>\n",
       "      <th>917</th>\n",
       "      <td>3803269165</td>\n",
       "      <td>5</td>\n",
       "    </tr>\n",
       "    <tr>\n",
       "      <th>299</th>\n",
       "      <td>1230306981</td>\n",
       "      <td>5</td>\n",
       "    </tr>\n",
       "    <tr>\n",
       "      <th>897</th>\n",
       "      <td>3717692402</td>\n",
       "      <td>5</td>\n",
       "    </tr>\n",
       "  </tbody>\n",
       "</table>\n",
       "</div>"
      ],
      "text/plain": [
       "      visitor_id  orders\n",
       "1023  4256040402      11\n",
       "591   2458001652      11\n",
       "569   2378935119       9\n",
       "487   2038680547       8\n",
       "44     199603092       5\n",
       "744   3062433592       5\n",
       "55     237748145       5\n",
       "917   3803269165       5\n",
       "299   1230306981       5\n",
       "897   3717692402       5"
      ]
     },
     "execution_count": 33,
     "metadata": {},
     "output_type": "execute_result"
    }
   ],
   "source": [
    "ordersByUsers = (orders.groupby('visitor_id', as_index=False).agg({'transaction_id': 'nunique'}))\n",
    "ordersByUsers.columns = ['visitor_id', 'orders']\n",
    "ordersByUsers.sort_values(by='orders', ascending=False).head(10)\n",
    "# подсчитаем количество заказов по пользователям и выведем отсортированную таблицу"
   ]
  },
  {
   "cell_type": "markdown",
   "metadata": {},
   "source": [
    "Видим, что отдельные пользователи совершили по 5-11 заказов, что скорее всего превышает обычное количество заказов в месяц."
   ]
  },
  {
   "cell_type": "code",
   "execution_count": 34,
   "metadata": {},
   "outputs": [
    {
     "data": {
      "image/png": "[encoded data removed]",
      "text/plain": [
       "<Figure size 720x576 with 1 Axes>"
      ]
     },
     "metadata": {
      "needs_background": "light"
     },
     "output_type": "display_data"
    }
   ],
   "source": [
    "x_values = pd.Series(range(0,len(ordersByUsers))) # построим точечную диаграмму числа заказов на одного пользователя\n",
    "plt.title('Число заказов на одного пользователя')\n",
    "plt.xlabel('Пользователь')\n",
    "plt.ylabel('Количество заказов')\n",
    "plt.scatter(x_values, ordersByUsers['orders'])\n",
    "plt.show()"
   ]
  },
  {
   "cell_type": "markdown",
   "metadata": {},
   "source": [
    "Пользователей с 2-3 заказами относительно много, но пока непонятно, считать их аномалиями или нет. Кроме того, пользователей с 5 заказами тоже не так уж мало."
   ]
  },
  {
   "cell_type": "markdown",
   "metadata": {},
   "source": [
    "### Определяем 95-й и 99-й перцентили количества заказов на пользователя и выбираем границу для определения аномальных пользователей."
   ]
  },
  {
   "cell_type": "code",
   "execution_count": 35,
   "metadata": {},
   "outputs": [
    {
     "data": {
      "text/plain": [
       "array([2., 4.])"
      ]
     },
     "execution_count": 35,
     "metadata": {},
     "output_type": "execute_result"
    }
   ],
   "source": [
    "np.percentile(ordersByUsers['orders'], [95, 99]) # используем соответствующую функцию"
   ]
  },
  {
   "cell_type": "markdown",
   "metadata": {},
   "source": [
    "Не более 5% пользователей оформляли **больше 2 заказов**, 1% пользователей заказывал **больше 4 раз**.\n",
    "Целесообразно выбрать **2 заказа** на одного пользователя за верхнюю границу числа заказов, и в дальнейшем отсеять аномальных пользователей по ней."
   ]
  },
  {
   "cell_type": "markdown",
   "metadata": {},
   "source": [
    "### Строим точечный график стоимостей заказов."
   ]
  },
  {
   "cell_type": "code",
   "execution_count": 36,
   "metadata": {},
   "outputs": [
    {
     "data": {
      "image/png": "[encoded data removed]",
      "text/plain": [
       "<Figure size 720x576 with 1 Axes>"
      ]
     },
     "metadata": {
      "needs_background": "light"
     },
     "output_type": "display_data"
    }
   ],
   "source": [
    "x1_values = pd.Series(range(0,len(orders['revenue'])))\n",
    "plt.title('Cтоимость заказов')\n",
    "plt.xlabel('Заказ')\n",
    "plt.ylabel('Стоимость')\n",
    "plt.scatter(x1_values, orders['revenue'])\n",
    "plt.show()"
   ]
  },
  {
   "cell_type": "markdown",
   "metadata": {},
   "source": [
    "Сразу видим 2 аномально больших заказа, один из которых особенно сильно выбивается из общей картины. Однако без расчета перцентилей точно определить границу аномальности по графику нельзя.\n",
    "\n",
    "Можно предварительно предположить, что эти два заказа (особенно самый крупный) в середине месяца повлияли на результаты группы В."
   ]
  },
  {
   "cell_type": "code",
   "execution_count": 37,
   "metadata": {},
   "outputs": [
    {
     "data": {
      "image/png": "[encoded data removed]",
      "text/plain": [
       "<Figure size 720x576 with 1 Axes>"
      ]
     },
     "metadata": {
      "needs_background": "light"
     },
     "output_type": "display_data"
    }
   ],
   "source": [
    "# посмотрим на аналогичный график с более близкого расстояния\n",
    "x1_values = pd.Series(range(0,len(orders['revenue'])))\n",
    "plt.title('Cтоимость заказов')\n",
    "plt.xlabel('Заказ')\n",
    "plt.ylabel('Стоимость')\n",
    "plt.ylim(0, 100000)\n",
    "plt.scatter(x1_values, orders['revenue'])\n",
    "plt.show()"
   ]
  },
  {
   "cell_type": "markdown",
   "metadata": {},
   "source": [
    "Видим, что стоимость большинства заказов не превышает 20 000 рублей, при этом их основная масса была менее 10 000 рублей."
   ]
  },
  {
   "cell_type": "markdown",
   "metadata": {},
   "source": [
    "### Определяем 95-й и 99-й перцентили стоимости заказов и выбираем границу для определения аномальных заказов."
   ]
  },
  {
   "cell_type": "code",
   "execution_count": 38,
   "metadata": {},
   "outputs": [
    {
     "data": {
      "text/plain": [
       "array([28000. , 58233.2])"
      ]
     },
     "execution_count": 38,
     "metadata": {},
     "output_type": "execute_result"
    }
   ],
   "source": [
    "np.percentile(orders['revenue'], [95, 99]) # применим соответствующую функцию"
   ]
  },
  {
   "cell_type": "markdown",
   "metadata": {},
   "source": [
    "Не более 5% заказов дороже **28 000 рублей**, 1% заказов больше **58 233 рублей**.\n",
    "Целесообразно выбрать **28 000 рублей за верхнюю границу** стоимости заказа, и в дальнейшем отсеять аномальные заказы по ней."
   ]
  },
  {
   "cell_type": "markdown",
   "metadata": {},
   "source": [
    "### Считаем статистическую значимость различий в среднем количестве заказов на посетителя между группами по «сырым» данным."
   ]
  },
  {
   "cell_type": "markdown",
   "metadata": {},
   "source": [
    "Сформулируем гипотезы. **Нулевая**: различий в среднем количестве заказов на посетителя между группами нет. \n",
    "\n",
    "**Альтернативная**: различия в среднем количестве заказов на посетителя между группами есть.\n",
    "\n",
    "Для проверки гипотез здесь и далее используем **критерий Манна-Уитни**, так как в наших данных есть большие (по сравнению с нормальным распределением) выбросы, сильно сдвигающие параметрические результаты (поэтому алгебраические метрики нам не подходят).\n",
    "\n",
    "Начнем с подготовки данных."
   ]
  },
  {
   "cell_type": "code",
   "execution_count": 39,
   "metadata": {},
   "outputs": [],
   "source": [
    "visitorsADaily = visitors[visitors['group'] == 'A'][['date', 'visitors']]\n",
    "visitorsADaily.columns = ['date', 'visitorsPerDateA']\n",
    "\n",
    "visitorsACummulative = visitorsADaily.apply(\n",
    "    lambda x: visitorsADaily[visitorsADaily['date'] <= x['date']].agg(\n",
    "        {'date': 'max', 'visitorsPerDateA': 'sum'}\n",
    "    ),\n",
    "    axis=1,\n",
    ")\n",
    "visitorsACummulative.columns = ['date', 'visitorsCummulativeA']\n",
    "\n",
    "visitorsBDaily = visitors[visitors['group'] == 'B'][['date', 'visitors']]\n",
    "visitorsBDaily.columns = ['date', 'visitorsPerDateB']"
   ]
  },
  {
   "cell_type": "code",
   "execution_count": 40,
   "metadata": {},
   "outputs": [],
   "source": [
    "# Создадим переменные ordersByUsersA и ordersByUsersB. \n",
    "# В них для пользователей укажем число совершённых заказов. \n",
    "\n",
    "ordersByUsersA = (\n",
    "    orders[orders['group'] == 'A']\n",
    "    .groupby('visitor_id', as_index=False)\n",
    "    .agg({'transaction_id': pd.Series.nunique})\n",
    ")\n",
    "ordersByUsersA.columns = ['visitor_id', 'orders']\n",
    "\n",
    "ordersByUsersB = (\n",
    "    orders[orders['group'] == 'B']\n",
    "    .groupby('visitor_id', as_index=False)\n",
    "    .agg({'transaction_id': pd.Series.nunique})\n",
    ")\n",
    "ordersByUsersB.columns = ['visitor_id', 'orders']"
   ]
  },
  {
   "cell_type": "markdown",
   "metadata": {},
   "source": [
    "Объявим переменные sampleA и sampleB, в которых пользователям из разных групп будет соответствовать количество заказов. \n",
    "Это нужно, чтобы подготовить выборки к проверке критерием Манна-Уитни."
   ]
  },
  {
   "cell_type": "code",
   "execution_count": 41,
   "metadata": {},
   "outputs": [],
   "source": [
    "sampleA = pd.concat([ordersByUsersA['orders'],pd.Series(0, index=np.arange(visitorsADaily['visitorsPerDateA'].sum() - len(ordersByUsersA['orders'])), name='orders')],axis=0)\n",
    "sampleB = pd.concat([ordersByUsersB['orders'],pd.Series(0, index=np.arange(visitorsBDaily['visitorsPerDateB'].sum() - len(ordersByUsersB['orders'])), name='orders')],axis=0)"
   ]
  },
  {
   "cell_type": "code",
   "execution_count": 42,
   "metadata": {},
   "outputs": [
    {
     "name": "stdout",
     "output_type": "stream",
     "text": [
      "P-value: 0.017\n",
      "Относительная разница между сравниваемыми величинами: 0.138\n"
     ]
    }
   ],
   "source": [
    "# Применим критерий Манна-Уитни и отформатируем p-value, округлив его до трёх знаков после запятой.\n",
    "# Выведем относительный прирост среднего числа заказов группы B. Округлим до трёх знаков после запятой.\n",
    "print('P-value:', \"{0:.3f}\".format(stats.mannwhitneyu(sampleA, sampleB)[1]))\n",
    "print('Относительная разница между сравниваемыми величинами:', \"{0:.3f}\".format(sampleB.mean() / sampleA.mean() - 1))"
   ]
  },
  {
   "cell_type": "markdown",
   "metadata": {},
   "source": [
    "P-value (0.017) меньше 0.05. Значит, нулевую гипотезу о том, что статистически значимых различий в среднем числе заказов на посетителя между группами нет, **отвергаем**. Относительный выигрыш группы B равен 13.8%.\n",
    "\n",
    "**Вывод**: По «сырым» данным различия в среднем числе заказов на посетителя групп A и B есть. "
   ]
  },
  {
   "cell_type": "markdown",
   "metadata": {},
   "source": [
    "### Считаем статистическую значимость различий в среднем чеке заказа между группами по «сырым» данным."
   ]
  },
  {
   "cell_type": "markdown",
   "metadata": {},
   "source": [
    "**Нулевая гипотеза**: различий в среднем чеке между группами нет. \n",
    "\n",
    "**Альтернативная гипотеза**: различия в среднем чеке между группами есть. \n",
    "\n",
    "\n",
    "Чтобы рассчитать статистическую значимость различий в среднем чеке, передадим критерию mannwhitneyu() данные о выручке с заказов, а также найдём относительные различия в среднем чеке между группами."
   ]
  },
  {
   "cell_type": "code",
   "execution_count": 43,
   "metadata": {},
   "outputs": [
    {
     "name": "stdout",
     "output_type": "stream",
     "text": [
      "P-value: 0.729\n",
      "Относительное различие в среднем чеке между группами: 0.259\n"
     ]
    }
   ],
   "source": [
    "print('P-value:', '{0:.3f}'.format(stats.mannwhitneyu(orders[orders['group']=='A']['revenue'], orders[orders['group']=='B']['revenue'])[1]))\n",
    "print('Относительное различие в среднем чеке между группами:', '{0:.3f}'.format(orders[orders['group']=='B']['revenue'].mean()/orders[orders['group']=='A']['revenue'].mean()-1))"
   ]
  },
  {
   "cell_type": "markdown",
   "metadata": {},
   "source": [
    "P-value значительно больше 0.05. Значит, **причин отвергать нулевую гипотезу и считать, что в среднем чеке есть различия, нет**. При этом средний чек группы B значительно выше среднего чека группы A."
   ]
  },
  {
   "cell_type": "markdown",
   "metadata": {},
   "source": [
    "### Считаем статистическую значимость различий в среднем количестве заказов на посетителя между группами по «очищенным» данным."
   ]
  },
  {
   "cell_type": "markdown",
   "metadata": {},
   "source": [
    "Примем за аномальных пользователей тех, кто совершил от 2 заказов или совершил заказ дороже 28 000 рублей. Так мы уберём 5% пользователей с наибольшим числом заказов и 5% пользователей с дорогими заказами. Сделаем срезы пользователей с числом заказов больше 2 — usersWithManyOrders и пользователей, совершивших заказы дороже 28 000 — usersWithExpensiveOrders (значения для границ зададим методом для расчета процентилей). Объединим их в таблице abnormalUsers. "
   ]
  },
  {
   "cell_type": "code",
   "execution_count": 44,
   "metadata": {},
   "outputs": [
    {
     "name": "stdout",
     "output_type": "stream",
     "text": [
      "1099    148427295\n",
      "18      199603092\n",
      "928     204675465\n",
      "23      237748145\n",
      "37      249864742\n",
      "Name: visitor_id, dtype: int64\n",
      "74\n",
      "0.07177497575169738\n"
     ]
    }
   ],
   "source": [
    "usersWithManyOrders = pd.concat(\n",
    "    [\n",
    "        ordersByUsersA[ordersByUsersA['orders'] > np.percentile(ordersByUsers['orders'], 95)]['visitor_id'],\n",
    "        ordersByUsersB[ordersByUsersB['orders'] > np.percentile(ordersByUsers['orders'], 95)]['visitor_id'],\n",
    "    ],\n",
    "    axis=0,\n",
    ")\n",
    "usersWithExpensiveOrders = orders[orders['revenue'] > np.percentile(orders['revenue'], 95)]['visitor_id']\n",
    "abnormalUsers = (\n",
    "    pd.concat([usersWithManyOrders, usersWithExpensiveOrders], axis=0)\n",
    "    .drop_duplicates()\n",
    "    .sort_values()\n",
    ")\n",
    "print(abnormalUsers.head(5))\n",
    "print(abnormalUsers.shape[0]) # узнаем, сколько всего аномальных пользователей\n",
    "print(abnormalUsers.shape[0]/len(ordersByUsers))"
   ]
  },
  {
   "cell_type": "markdown",
   "metadata": {},
   "source": [
    "Всего в нашей выборке **74** аномальных пользователя. Как мы уже ранее определили, в тестировании принимал участие **1 031** уникальный пользователь. Таким образом, относительные потери после фильтрации составят **7,2%**. "
   ]
  },
  {
   "cell_type": "code",
   "execution_count": 45,
   "metadata": {},
   "outputs": [],
   "source": [
    "# Сначала подготовим выборки количества заказов по пользователям по группам теста\n",
    "\n",
    "sampleAFiltered = pd.concat(\n",
    "    [\n",
    "        ordersByUsersA[\n",
    "            np.logical_not(ordersByUsersA['visitor_id'].isin(abnormalUsers))\n",
    "        ]['orders'],\n",
    "        pd.Series(\n",
    "            0,\n",
    "            index=np.arange(\n",
    "                visitorsADaily['visitorsPerDateA'].sum() - len(ordersByUsersA['orders'])\n",
    "            ),\n",
    "            name='orders',\n",
    "        ),\n",
    "    ],\n",
    "    axis=0,\n",
    ")\n",
    "\n",
    "sampleBFiltered = pd.concat(\n",
    "    [\n",
    "        ordersByUsersB[\n",
    "            np.logical_not(ordersByUsersB['visitor_id'].isin(abnormalUsers))\n",
    "        ]['orders'],\n",
    "        pd.Series(\n",
    "            0,\n",
    "            index=np.arange(\n",
    "                visitorsBDaily['visitorsPerDateB'].sum() - len(ordersByUsersB['orders'])\n",
    "            ),\n",
    "            name='orders',\n",
    "        ),\n",
    "    ],\n",
    "    axis=0,\n",
    ")"
   ]
  },
  {
   "cell_type": "code",
   "execution_count": 46,
   "metadata": {},
   "outputs": [
    {
     "name": "stdout",
     "output_type": "stream",
     "text": [
      "P-value: 0.013\n",
      "Относительная разница между сравниваемыми величинами: 0.173\n"
     ]
    }
   ],
   "source": [
    "# Применим статистический критерий Манна-Уитни к полученным выборкам\n",
    "print('P-value:', '{0:.3f}'.format(stats.mannwhitneyu(sampleAFiltered, sampleBFiltered)[1]))\n",
    "print('Относительная разница между сравниваемыми величинами:', '{0:.3f}'.format(sampleBFiltered.mean()/sampleAFiltered.mean()-1))"
   ]
  },
  {
   "cell_type": "markdown",
   "metadata": {},
   "source": [
    "Результаты по среднему количеству заказов на посетителя **изменились не критично** (ранее было 0.017 и 0.138, соответственно). Таким образом, различия в среднем количестве заказов на посетителя между группами сохраняются. Преимущество группы В стало сильнее."
   ]
  },
  {
   "cell_type": "markdown",
   "metadata": {},
   "source": [
    "### Считаем статистическую значимость различий в среднем чеке заказа между группами по «очищенным» данным."
   ]
  },
  {
   "cell_type": "code",
   "execution_count": 47,
   "metadata": {},
   "outputs": [
    {
     "name": "stdout",
     "output_type": "stream",
     "text": [
      "P-value: 0.738\n",
      "Относительная разница между сравниваемыми величинами: -0.020\n"
     ]
    }
   ],
   "source": [
    "print('P-value:',\n",
    "    '{0:.3f}'.format(\n",
    "        stats.mannwhitneyu(\n",
    "            orders[\n",
    "                np.logical_and(\n",
    "                    orders['group'] == 'A',\n",
    "                    np.logical_not(orders['visitor_id'].isin(abnormalUsers)),\n",
    "                )\n",
    "            ]['revenue'],\n",
    "            orders[\n",
    "                np.logical_and(\n",
    "                    orders['group'] == 'B',\n",
    "                    np.logical_not(orders['visitor_id'].isin(abnormalUsers)),\n",
    "                )\n",
    "            ]['revenue'],\n",
    "        )[1]\n",
    "    )\n",
    ")\n",
    "\n",
    "print('Относительная разница между сравниваемыми величинами:',\n",
    "    \"{0:.3f}\".format(\n",
    "        orders[\n",
    "            np.logical_and(\n",
    "                orders['group'] == 'B',\n",
    "                np.logical_not(orders['visitor_id'].isin(abnormalUsers)),\n",
    "            )\n",
    "        ]['revenue'].mean()\n",
    "        / orders[\n",
    "            np.logical_and(\n",
    "                orders['group'] == 'A',\n",
    "                np.logical_not(orders['visitor_id'].isin(abnormalUsers)),\n",
    "            )\n",
    "        ]['revenue'].mean()\n",
    "        - 1\n",
    "    )\n",
    ")"
   ]
  },
  {
   "cell_type": "markdown",
   "metadata": {},
   "source": [
    "P-value увеличился незначительно, при этом разница между сегментами изменилась коренным образом - теперь средний чек группы B чуть ниже среднего чека группы A. Существенное влияние до этого оказывали аномально дорогие заказы в группе В."
   ]
  },
  {
   "cell_type": "markdown",
   "metadata": {},
   "source": [
    "## Решение по результатам теста. "
   ]
  },
  {
   "cell_type": "markdown",
   "metadata": {},
   "source": [
    "По совокупности полученных результатов целесообразно принять следующее решение:\n",
    "\n",
    "**Остановить тест, зафиксировать победу группы В.**\n",
    "\n",
    "**Имеющиеся факты:**\n",
    "\n",
    "- есть статистически значимое различие по среднему количеству заказов на посетителя между группами и по «сырым» данным, и по данным после фильтрации аномалий (**результат лучше у группы В на 17%**);\n",
    "- **нет статистически значимого различия** по среднему чеку между группами ни по «сырым», ни по данным после фильтрации аномалий;\n",
    "- график относительного изменения кумулятивного среднего количества заказов на посетителя группы B к группе A сообщает, что **результаты группы B лучше группы A**;\n",
    "- график относительного изменения кумулятивного среднего чека группы B к группе A показал **преимущество группы В**.\n",
    "\n",
    "Вместе с тем, мы помним, что 58 пользователей **ошибочно** попали в обе группы. Кроме того, имелся **небольшой дисбаланс** в части количества участников групп (В больше на 17%).\n",
    "\n",
    "Также отметим, что в нашей выборке было 74 **аномальных пользователя** (относительные потери после фильтрации составили **7,2%**). "
   ]
  }
 ],
 "metadata": {
  "ExecuteTimeLog": [
   {
    "duration": 2552,
    "start_time": "2023-03-20T08:30:59.615Z"
   },
   {
    "duration": 6,
    "start_time": "2023-03-20T08:31:24.413Z"
   },
   {
    "duration": 228,
    "start_time": "2023-03-20T08:32:16.530Z"
   },
   {
    "duration": 38,
    "start_time": "2023-03-20T08:33:26.330Z"
   },
   {
    "duration": 28,
    "start_time": "2023-03-20T08:36:11.339Z"
   },
   {
    "duration": 12,
    "start_time": "2023-03-20T08:41:26.869Z"
   },
   {
    "duration": 47,
    "start_time": "2023-03-21T17:02:42.007Z"
   },
   {
    "duration": 1154,
    "start_time": "2023-03-21T17:02:52.262Z"
   },
   {
    "duration": 149,
    "start_time": "2023-03-21T17:02:53.419Z"
   },
   {
    "duration": 11,
    "start_time": "2023-03-21T17:02:53.569Z"
   },
   {
    "duration": 11,
    "start_time": "2023-03-21T17:02:53.581Z"
   },
   {
    "duration": 96,
    "start_time": "2023-03-21T17:02:53.594Z"
   },
   {
    "duration": 88,
    "start_time": "2023-03-21T17:05:49.959Z"
   },
   {
    "duration": 13,
    "start_time": "2023-03-21T17:07:02.744Z"
   },
   {
    "duration": 10,
    "start_time": "2023-03-21T17:07:52.887Z"
   },
   {
    "duration": 4,
    "start_time": "2023-03-21T17:19:05.028Z"
   },
   {
    "duration": 10,
    "start_time": "2023-03-21T17:19:12.407Z"
   },
   {
    "duration": 12,
    "start_time": "2023-03-21T17:26:07.945Z"
   },
   {
    "duration": 1012,
    "start_time": "2023-03-21T17:29:54.776Z"
   },
   {
    "duration": 86,
    "start_time": "2023-03-21T17:29:55.790Z"
   },
   {
    "duration": 10,
    "start_time": "2023-03-21T17:29:55.878Z"
   },
   {
    "duration": 11,
    "start_time": "2023-03-21T17:29:55.890Z"
   },
   {
    "duration": 46,
    "start_time": "2023-03-21T17:29:55.902Z"
   },
   {
    "duration": 10,
    "start_time": "2023-03-21T17:29:55.950Z"
   },
   {
    "duration": 10,
    "start_time": "2023-03-21T17:29:55.962Z"
   },
   {
    "duration": 14,
    "start_time": "2023-03-21T17:29:55.974Z"
   },
   {
    "duration": 15,
    "start_time": "2023-03-21T17:29:55.990Z"
   },
   {
    "duration": 19,
    "start_time": "2023-03-21T17:29:56.007Z"
   },
   {
    "duration": 9,
    "start_time": "2023-03-21T17:29:56.028Z"
   },
   {
    "duration": 4,
    "start_time": "2023-03-21T17:31:21.262Z"
   },
   {
    "duration": 975,
    "start_time": "2023-03-21T17:31:34.000Z"
   },
   {
    "duration": 89,
    "start_time": "2023-03-21T17:31:34.977Z"
   },
   {
    "duration": 10,
    "start_time": "2023-03-21T17:31:35.068Z"
   },
   {
    "duration": 11,
    "start_time": "2023-03-21T17:31:35.080Z"
   },
   {
    "duration": 44,
    "start_time": "2023-03-21T17:31:35.093Z"
   },
   {
    "duration": 10,
    "start_time": "2023-03-21T17:31:35.138Z"
   },
   {
    "duration": 7,
    "start_time": "2023-03-21T17:31:35.149Z"
   },
   {
    "duration": 11,
    "start_time": "2023-03-21T17:31:35.158Z"
   },
   {
    "duration": 20,
    "start_time": "2023-03-21T17:31:35.171Z"
   },
   {
    "duration": 9,
    "start_time": "2023-03-21T17:31:35.192Z"
   },
   {
    "duration": 6,
    "start_time": "2023-03-21T17:31:35.202Z"
   },
   {
    "duration": 11,
    "start_time": "2023-03-21T17:35:21.816Z"
   },
   {
    "duration": 6,
    "start_time": "2023-03-21T17:36:06.806Z"
   },
   {
    "duration": 5,
    "start_time": "2023-03-21T17:41:58.049Z"
   },
   {
    "duration": 5,
    "start_time": "2023-03-21T17:42:59.195Z"
   },
   {
    "duration": 5,
    "start_time": "2023-03-21T17:43:10.307Z"
   },
   {
    "duration": 1090,
    "start_time": "2023-03-22T11:20:45.419Z"
   },
   {
    "duration": 136,
    "start_time": "2023-03-22T11:20:46.511Z"
   },
   {
    "duration": 10,
    "start_time": "2023-03-22T11:20:46.648Z"
   },
   {
    "duration": 9,
    "start_time": "2023-03-22T11:20:46.659Z"
   },
   {
    "duration": 84,
    "start_time": "2023-03-22T11:20:46.669Z"
   },
   {
    "duration": 10,
    "start_time": "2023-03-22T11:20:46.754Z"
   },
   {
    "duration": 5,
    "start_time": "2023-03-22T11:20:46.765Z"
   },
   {
    "duration": 11,
    "start_time": "2023-03-22T11:20:46.771Z"
   },
   {
    "duration": 71,
    "start_time": "2023-03-22T11:20:46.784Z"
   },
   {
    "duration": 8,
    "start_time": "2023-03-22T11:20:46.857Z"
   },
   {
    "duration": 6,
    "start_time": "2023-03-22T11:20:46.866Z"
   },
   {
    "duration": 8,
    "start_time": "2023-03-22T11:20:46.873Z"
   },
   {
    "duration": 7,
    "start_time": "2023-03-22T11:20:46.882Z"
   },
   {
    "duration": 5,
    "start_time": "2023-03-22T11:20:46.890Z"
   },
   {
    "duration": 5,
    "start_time": "2023-03-22T11:20:46.896Z"
   },
   {
    "duration": 91,
    "start_time": "2023-03-22T11:58:17.417Z"
   },
   {
    "duration": 24,
    "start_time": "2023-03-22T11:59:13.164Z"
   },
   {
    "duration": 8,
    "start_time": "2023-03-22T11:59:57.438Z"
   },
   {
    "duration": 101,
    "start_time": "2023-03-22T12:00:56.510Z"
   },
   {
    "duration": 95,
    "start_time": "2023-03-22T12:02:22.875Z"
   },
   {
    "duration": 107,
    "start_time": "2023-03-22T12:02:27.630Z"
   },
   {
    "duration": 7,
    "start_time": "2023-03-22T12:02:41.776Z"
   },
   {
    "duration": 58,
    "start_time": "2023-03-22T12:02:58.171Z"
   },
   {
    "duration": 6,
    "start_time": "2023-03-22T12:03:10.303Z"
   },
   {
    "duration": 62,
    "start_time": "2023-03-22T12:03:16.454Z"
   },
   {
    "duration": 7,
    "start_time": "2023-03-22T12:03:40.921Z"
   },
   {
    "duration": 6,
    "start_time": "2023-03-22T12:05:27.696Z"
   },
   {
    "duration": 7,
    "start_time": "2023-03-22T12:06:32.292Z"
   },
   {
    "duration": 7,
    "start_time": "2023-03-22T12:11:07.467Z"
   },
   {
    "duration": 11,
    "start_time": "2023-03-22T12:11:14.144Z"
   },
   {
    "duration": 12,
    "start_time": "2023-03-22T12:14:31.934Z"
   },
   {
    "duration": 10,
    "start_time": "2023-03-22T12:15:51.032Z"
   },
   {
    "duration": 30,
    "start_time": "2023-03-22T12:19:01.062Z"
   },
   {
    "duration": 11,
    "start_time": "2023-03-22T12:26:23.799Z"
   },
   {
    "duration": 6,
    "start_time": "2023-03-22T12:26:32.905Z"
   },
   {
    "duration": 12,
    "start_time": "2023-03-22T12:26:50.055Z"
   },
   {
    "duration": 9,
    "start_time": "2023-03-22T12:35:48.336Z"
   },
   {
    "duration": 10,
    "start_time": "2023-03-22T12:44:02.966Z"
   },
   {
    "duration": 9,
    "start_time": "2023-03-22T12:57:37.513Z"
   },
   {
    "duration": 160,
    "start_time": "2023-03-22T12:58:50.644Z"
   },
   {
    "duration": 12,
    "start_time": "2023-03-22T12:59:58.419Z"
   },
   {
    "duration": 182,
    "start_time": "2023-03-22T13:01:15.459Z"
   },
   {
    "duration": 124,
    "start_time": "2023-03-22T13:01:46.927Z"
   },
   {
    "duration": 8,
    "start_time": "2023-03-22T13:02:14.836Z"
   },
   {
    "duration": 9,
    "start_time": "2023-03-22T13:05:39.197Z"
   },
   {
    "duration": 218,
    "start_time": "2023-03-22T13:08:04.187Z"
   },
   {
    "duration": 150,
    "start_time": "2023-03-22T13:09:48.143Z"
   },
   {
    "duration": 179,
    "start_time": "2023-03-22T13:09:53.520Z"
   },
   {
    "duration": 162,
    "start_time": "2023-03-22T13:10:31.094Z"
   },
   {
    "duration": 166,
    "start_time": "2023-03-22T13:15:06.680Z"
   },
   {
    "duration": 153,
    "start_time": "2023-03-22T13:16:33.258Z"
   },
   {
    "duration": 169,
    "start_time": "2023-03-22T13:16:51.513Z"
   },
   {
    "duration": 176,
    "start_time": "2023-03-22T13:18:56.746Z"
   },
   {
    "duration": 148,
    "start_time": "2023-03-22T13:24:31.547Z"
   },
   {
    "duration": 283,
    "start_time": "2023-03-22T13:25:20.964Z"
   },
   {
    "duration": 189,
    "start_time": "2023-03-22T13:26:03.518Z"
   },
   {
    "duration": 247,
    "start_time": "2023-03-22T13:32:20.099Z"
   },
   {
    "duration": 211,
    "start_time": "2023-03-22T13:32:31.321Z"
   },
   {
    "duration": 276,
    "start_time": "2023-03-22T13:39:26.999Z"
   },
   {
    "duration": 254,
    "start_time": "2023-03-22T13:39:46.839Z"
   },
   {
    "duration": 220,
    "start_time": "2023-03-22T13:39:53.516Z"
   },
   {
    "duration": 256,
    "start_time": "2023-03-22T13:40:39.796Z"
   },
   {
    "duration": 278,
    "start_time": "2023-03-22T13:41:23.228Z"
   },
   {
    "duration": 197,
    "start_time": "2023-03-22T13:48:40.091Z"
   },
   {
    "duration": 197,
    "start_time": "2023-03-22T13:49:24.107Z"
   },
   {
    "duration": 231,
    "start_time": "2023-03-22T13:49:52.562Z"
   },
   {
    "duration": 237,
    "start_time": "2023-03-22T13:51:07.120Z"
   },
   {
    "duration": 298,
    "start_time": "2023-03-22T13:51:24.184Z"
   },
   {
    "duration": 9,
    "start_time": "2023-03-22T13:53:25.919Z"
   },
   {
    "duration": 4,
    "start_time": "2023-03-22T13:53:39.000Z"
   },
   {
    "duration": 964,
    "start_time": "2023-03-22T13:53:47.701Z"
   },
   {
    "duration": 88,
    "start_time": "2023-03-22T13:53:48.669Z"
   },
   {
    "duration": 15,
    "start_time": "2023-03-22T13:53:48.758Z"
   },
   {
    "duration": 12,
    "start_time": "2023-03-22T13:53:48.775Z"
   },
   {
    "duration": 40,
    "start_time": "2023-03-22T13:53:48.789Z"
   },
   {
    "duration": 10,
    "start_time": "2023-03-22T13:53:48.831Z"
   },
   {
    "duration": 6,
    "start_time": "2023-03-22T13:53:48.842Z"
   },
   {
    "duration": 12,
    "start_time": "2023-03-22T13:53:48.849Z"
   },
   {
    "duration": 39,
    "start_time": "2023-03-22T13:53:48.862Z"
   },
   {
    "duration": 10,
    "start_time": "2023-03-22T13:53:48.903Z"
   },
   {
    "duration": 5,
    "start_time": "2023-03-22T13:53:48.915Z"
   },
   {
    "duration": 7,
    "start_time": "2023-03-22T13:53:48.921Z"
   },
   {
    "duration": 34,
    "start_time": "2023-03-22T13:53:48.930Z"
   },
   {
    "duration": 8,
    "start_time": "2023-03-22T13:53:48.967Z"
   },
   {
    "duration": 5,
    "start_time": "2023-03-22T13:53:48.978Z"
   },
   {
    "duration": 47,
    "start_time": "2023-03-22T13:53:48.985Z"
   },
   {
    "duration": 0,
    "start_time": "2023-03-22T13:53:49.034Z"
   },
   {
    "duration": 0,
    "start_time": "2023-03-22T13:53:49.038Z"
   },
   {
    "duration": 0,
    "start_time": "2023-03-22T13:53:49.039Z"
   },
   {
    "duration": 0,
    "start_time": "2023-03-22T13:53:49.040Z"
   },
   {
    "duration": 0,
    "start_time": "2023-03-22T13:53:49.042Z"
   },
   {
    "duration": 0,
    "start_time": "2023-03-22T13:53:49.043Z"
   },
   {
    "duration": 0,
    "start_time": "2023-03-22T13:53:49.045Z"
   },
   {
    "duration": 0,
    "start_time": "2023-03-22T13:53:49.046Z"
   },
   {
    "duration": 0,
    "start_time": "2023-03-22T13:53:49.047Z"
   },
   {
    "duration": 0,
    "start_time": "2023-03-22T13:53:49.049Z"
   },
   {
    "duration": 0,
    "start_time": "2023-03-22T13:53:49.050Z"
   },
   {
    "duration": 0,
    "start_time": "2023-03-22T13:53:49.052Z"
   },
   {
    "duration": 969,
    "start_time": "2023-03-22T13:54:05.989Z"
   },
   {
    "duration": 96,
    "start_time": "2023-03-22T13:54:06.960Z"
   },
   {
    "duration": 10,
    "start_time": "2023-03-22T13:54:07.058Z"
   },
   {
    "duration": 24,
    "start_time": "2023-03-22T13:54:07.079Z"
   },
   {
    "duration": 40,
    "start_time": "2023-03-22T13:54:07.105Z"
   },
   {
    "duration": 10,
    "start_time": "2023-03-22T13:54:07.147Z"
   },
   {
    "duration": 9,
    "start_time": "2023-03-22T13:54:07.158Z"
   },
   {
    "duration": 31,
    "start_time": "2023-03-22T13:54:07.168Z"
   },
   {
    "duration": 20,
    "start_time": "2023-03-22T13:54:07.202Z"
   },
   {
    "duration": 11,
    "start_time": "2023-03-22T13:54:07.224Z"
   },
   {
    "duration": 7,
    "start_time": "2023-03-22T13:54:07.236Z"
   },
   {
    "duration": 6,
    "start_time": "2023-03-22T13:54:07.245Z"
   },
   {
    "duration": 22,
    "start_time": "2023-03-22T13:54:07.252Z"
   },
   {
    "duration": 8,
    "start_time": "2023-03-22T13:54:07.277Z"
   },
   {
    "duration": 5,
    "start_time": "2023-03-22T13:54:07.288Z"
   },
   {
    "duration": 19,
    "start_time": "2023-03-22T13:54:07.296Z"
   },
   {
    "duration": 8,
    "start_time": "2023-03-22T13:54:07.317Z"
   },
   {
    "duration": 11,
    "start_time": "2023-03-22T13:54:07.327Z"
   },
   {
    "duration": 34,
    "start_time": "2023-03-22T13:54:07.340Z"
   },
   {
    "duration": 202,
    "start_time": "2023-03-22T13:54:07.379Z"
   },
   {
    "duration": 141,
    "start_time": "2023-03-22T13:54:07.583Z"
   },
   {
    "duration": 6,
    "start_time": "2023-03-22T13:54:07.726Z"
   },
   {
    "duration": 15,
    "start_time": "2023-03-22T13:54:07.733Z"
   },
   {
    "duration": 495,
    "start_time": "2023-03-22T13:54:07.750Z"
   },
   {
    "duration": 325,
    "start_time": "2023-03-22T13:54:08.247Z"
   },
   {
    "duration": 367,
    "start_time": "2023-03-22T13:54:08.574Z"
   },
   {
    "duration": 335,
    "start_time": "2023-03-22T13:54:08.944Z"
   },
   {
    "duration": 4,
    "start_time": "2023-03-22T13:54:50.028Z"
   },
   {
    "duration": 1030,
    "start_time": "2023-03-22T13:54:56.665Z"
   },
   {
    "duration": 104,
    "start_time": "2023-03-22T13:54:57.698Z"
   },
   {
    "duration": 17,
    "start_time": "2023-03-22T13:54:57.807Z"
   },
   {
    "duration": 13,
    "start_time": "2023-03-22T13:54:57.826Z"
   },
   {
    "duration": 60,
    "start_time": "2023-03-22T13:54:57.841Z"
   },
   {
    "duration": 10,
    "start_time": "2023-03-22T13:54:57.903Z"
   },
   {
    "duration": 4,
    "start_time": "2023-03-22T13:54:57.915Z"
   },
   {
    "duration": 17,
    "start_time": "2023-03-22T13:54:57.921Z"
   },
   {
    "duration": 21,
    "start_time": "2023-03-22T13:54:57.939Z"
   },
   {
    "duration": 19,
    "start_time": "2023-03-22T13:54:57.963Z"
   },
   {
    "duration": 5,
    "start_time": "2023-03-22T13:54:57.987Z"
   },
   {
    "duration": 16,
    "start_time": "2023-03-22T13:54:57.994Z"
   },
   {
    "duration": 32,
    "start_time": "2023-03-22T13:54:58.012Z"
   },
   {
    "duration": 16,
    "start_time": "2023-03-22T13:54:58.046Z"
   },
   {
    "duration": 13,
    "start_time": "2023-03-22T13:54:58.063Z"
   },
   {
    "duration": 16,
    "start_time": "2023-03-22T13:54:58.078Z"
   },
   {
    "duration": 7,
    "start_time": "2023-03-22T13:54:58.096Z"
   },
   {
    "duration": 9,
    "start_time": "2023-03-22T13:54:58.104Z"
   },
   {
    "duration": 5,
    "start_time": "2023-03-22T13:54:58.115Z"
   },
   {
    "duration": 190,
    "start_time": "2023-03-22T13:54:58.121Z"
   },
   {
    "duration": 122,
    "start_time": "2023-03-22T13:54:58.312Z"
   },
   {
    "duration": 6,
    "start_time": "2023-03-22T13:54:58.436Z"
   },
   {
    "duration": 9,
    "start_time": "2023-03-22T13:54:58.443Z"
   },
   {
    "duration": 326,
    "start_time": "2023-03-22T13:54:58.453Z"
   },
   {
    "duration": 225,
    "start_time": "2023-03-22T13:54:58.787Z"
   },
   {
    "duration": 314,
    "start_time": "2023-03-22T13:54:59.014Z"
   },
   {
    "duration": 258,
    "start_time": "2023-03-22T13:54:59.330Z"
   },
   {
    "duration": 314,
    "start_time": "2023-03-22T14:00:54.695Z"
   },
   {
    "duration": 303,
    "start_time": "2023-03-22T14:01:33.024Z"
   },
   {
    "duration": 1081,
    "start_time": "2023-03-22T14:01:47.264Z"
   },
   {
    "duration": 105,
    "start_time": "2023-03-22T14:01:48.347Z"
   },
   {
    "duration": 10,
    "start_time": "2023-03-22T14:01:48.453Z"
   },
   {
    "duration": 15,
    "start_time": "2023-03-22T14:01:48.465Z"
   },
   {
    "duration": 49,
    "start_time": "2023-03-22T14:01:48.484Z"
   },
   {
    "duration": 12,
    "start_time": "2023-03-22T14:01:48.534Z"
   },
   {
    "duration": 7,
    "start_time": "2023-03-22T14:01:48.547Z"
   },
   {
    "duration": 10,
    "start_time": "2023-03-22T14:01:48.556Z"
   },
   {
    "duration": 45,
    "start_time": "2023-03-22T14:01:48.568Z"
   },
   {
    "duration": 9,
    "start_time": "2023-03-22T14:01:48.615Z"
   },
   {
    "duration": 9,
    "start_time": "2023-03-22T14:01:48.626Z"
   },
   {
    "duration": 21,
    "start_time": "2023-03-22T14:01:48.637Z"
   },
   {
    "duration": 13,
    "start_time": "2023-03-22T14:01:48.660Z"
   },
   {
    "duration": 13,
    "start_time": "2023-03-22T14:01:48.677Z"
   },
   {
    "duration": 11,
    "start_time": "2023-03-22T14:01:48.691Z"
   },
   {
    "duration": 15,
    "start_time": "2023-03-22T14:01:48.704Z"
   },
   {
    "duration": 6,
    "start_time": "2023-03-22T14:01:48.721Z"
   },
   {
    "duration": 10,
    "start_time": "2023-03-22T14:01:48.729Z"
   },
   {
    "duration": 5,
    "start_time": "2023-03-22T14:01:48.741Z"
   },
   {
    "duration": 193,
    "start_time": "2023-03-22T14:01:48.747Z"
   },
   {
    "duration": 138,
    "start_time": "2023-03-22T14:01:48.942Z"
   },
   {
    "duration": 19,
    "start_time": "2023-03-22T14:01:49.081Z"
   },
   {
    "duration": 11,
    "start_time": "2023-03-22T14:01:49.102Z"
   },
   {
    "duration": 320,
    "start_time": "2023-03-22T14:01:49.115Z"
   },
   {
    "duration": 218,
    "start_time": "2023-03-22T14:01:49.437Z"
   },
   {
    "duration": 343,
    "start_time": "2023-03-22T14:01:49.657Z"
   },
   {
    "duration": 236,
    "start_time": "2023-03-22T14:01:50.002Z"
   },
   {
    "duration": 325,
    "start_time": "2023-03-22T14:01:50.240Z"
   },
   {
    "duration": 315,
    "start_time": "2023-03-22T14:02:27.316Z"
   },
   {
    "duration": 345,
    "start_time": "2023-03-22T14:02:49.559Z"
   },
   {
    "duration": 99,
    "start_time": "2023-03-22T14:15:27.870Z"
   },
   {
    "duration": 11,
    "start_time": "2023-03-22T14:15:51.731Z"
   },
   {
    "duration": 117,
    "start_time": "2023-03-22T14:15:58.941Z"
   },
   {
    "duration": 1254,
    "start_time": "2023-03-22T17:05:24.564Z"
   },
   {
    "duration": 158,
    "start_time": "2023-03-22T17:05:25.820Z"
   },
   {
    "duration": 13,
    "start_time": "2023-03-22T17:05:25.980Z"
   },
   {
    "duration": 39,
    "start_time": "2023-03-22T17:05:25.996Z"
   },
   {
    "duration": 119,
    "start_time": "2023-03-22T17:05:26.037Z"
   },
   {
    "duration": 15,
    "start_time": "2023-03-22T17:05:26.157Z"
   },
   {
    "duration": 7,
    "start_time": "2023-03-22T17:05:26.173Z"
   },
   {
    "duration": 22,
    "start_time": "2023-03-22T17:05:26.181Z"
   },
   {
    "duration": 76,
    "start_time": "2023-03-22T17:05:26.205Z"
   },
   {
    "duration": 11,
    "start_time": "2023-03-22T17:05:26.284Z"
   },
   {
    "duration": 8,
    "start_time": "2023-03-22T17:05:26.297Z"
   },
   {
    "duration": 27,
    "start_time": "2023-03-22T17:05:26.307Z"
   },
   {
    "duration": 8,
    "start_time": "2023-03-22T17:05:26.336Z"
   },
   {
    "duration": 7,
    "start_time": "2023-03-22T17:05:26.346Z"
   },
   {
    "duration": 11,
    "start_time": "2023-03-22T17:05:26.354Z"
   },
   {
    "duration": 13,
    "start_time": "2023-03-22T17:05:26.367Z"
   },
   {
    "duration": 7,
    "start_time": "2023-03-22T17:05:26.382Z"
   },
   {
    "duration": 11,
    "start_time": "2023-03-22T17:05:26.391Z"
   },
   {
    "duration": 6,
    "start_time": "2023-03-22T17:05:26.404Z"
   },
   {
    "duration": 220,
    "start_time": "2023-03-22T17:05:26.412Z"
   },
   {
    "duration": 137,
    "start_time": "2023-03-22T17:05:26.634Z"
   },
   {
    "duration": 7,
    "start_time": "2023-03-22T17:05:26.773Z"
   },
   {
    "duration": 12,
    "start_time": "2023-03-22T17:05:26.782Z"
   },
   {
    "duration": 358,
    "start_time": "2023-03-22T17:05:26.796Z"
   },
   {
    "duration": 236,
    "start_time": "2023-03-22T17:05:27.161Z"
   },
   {
    "duration": 349,
    "start_time": "2023-03-22T17:05:27.399Z"
   },
   {
    "duration": 259,
    "start_time": "2023-03-22T17:05:27.750Z"
   },
   {
    "duration": 395,
    "start_time": "2023-03-22T17:05:28.013Z"
   },
   {
    "duration": 12,
    "start_time": "2023-03-22T17:05:28.410Z"
   },
   {
    "duration": 150,
    "start_time": "2023-03-22T17:05:28.423Z"
   },
   {
    "duration": 162,
    "start_time": "2023-03-22T17:07:38.560Z"
   },
   {
    "duration": 149,
    "start_time": "2023-03-22T17:08:01.991Z"
   },
   {
    "duration": 141,
    "start_time": "2023-03-22T17:08:22.070Z"
   },
   {
    "duration": 4,
    "start_time": "2023-03-22T17:12:41.848Z"
   },
   {
    "duration": 219,
    "start_time": "2023-03-22T17:19:16.451Z"
   },
   {
    "duration": 185,
    "start_time": "2023-03-22T17:20:30.473Z"
   },
   {
    "duration": 172,
    "start_time": "2023-03-22T17:20:48.442Z"
   },
   {
    "duration": 249,
    "start_time": "2023-03-22T17:21:26.171Z"
   },
   {
    "duration": 321,
    "start_time": "2023-03-22T17:21:38.242Z"
   },
   {
    "duration": 218,
    "start_time": "2023-03-22T17:21:55.624Z"
   },
   {
    "duration": 225,
    "start_time": "2023-03-22T17:22:08.230Z"
   },
   {
    "duration": 280,
    "start_time": "2023-03-22T17:22:35.396Z"
   },
   {
    "duration": 349,
    "start_time": "2023-03-22T17:23:17.252Z"
   },
   {
    "duration": 780,
    "start_time": "2023-03-22T17:25:47.649Z"
   },
   {
    "duration": 6,
    "start_time": "2023-03-22T17:25:56.960Z"
   },
   {
    "duration": 23,
    "start_time": "2023-03-22T17:33:39.449Z"
   },
   {
    "duration": 143,
    "start_time": "2023-03-22T17:34:30.822Z"
   },
   {
    "duration": 714,
    "start_time": "2023-03-22T17:35:32.899Z"
   },
   {
    "duration": 11,
    "start_time": "2023-03-22T17:36:13.178Z"
   },
   {
    "duration": 8,
    "start_time": "2023-03-22T17:36:19.621Z"
   },
   {
    "duration": 702,
    "start_time": "2023-03-22T17:36:49.231Z"
   },
   {
    "duration": 47,
    "start_time": "2023-03-22T17:37:10.638Z"
   },
   {
    "duration": 687,
    "start_time": "2023-03-22T17:37:46.018Z"
   },
   {
    "duration": 222,
    "start_time": "2023-03-22T17:45:06.485Z"
   },
   {
    "duration": 145,
    "start_time": "2023-03-22T17:47:33.605Z"
   },
   {
    "duration": 5,
    "start_time": "2023-03-22T17:48:37.192Z"
   },
   {
    "duration": 35,
    "start_time": "2023-03-22T17:49:33.262Z"
   },
   {
    "duration": 10,
    "start_time": "2023-03-22T18:02:08.840Z"
   },
   {
    "duration": 9,
    "start_time": "2023-03-22T18:11:07.960Z"
   },
   {
    "duration": 9,
    "start_time": "2023-03-22T18:15:48.470Z"
   },
   {
    "duration": 22,
    "start_time": "2023-03-22T18:16:31.612Z"
   },
   {
    "duration": 16,
    "start_time": "2023-03-22T18:18:28.157Z"
   },
   {
    "duration": 1102,
    "start_time": "2023-03-22T18:47:35.139Z"
   },
   {
    "duration": 141,
    "start_time": "2023-03-22T18:47:36.243Z"
   },
   {
    "duration": 13,
    "start_time": "2023-03-22T18:47:36.385Z"
   },
   {
    "duration": 11,
    "start_time": "2023-03-22T18:47:36.400Z"
   },
   {
    "duration": 80,
    "start_time": "2023-03-22T18:47:36.413Z"
   },
   {
    "duration": 12,
    "start_time": "2023-03-22T18:47:36.494Z"
   },
   {
    "duration": 4,
    "start_time": "2023-03-22T18:47:36.508Z"
   },
   {
    "duration": 15,
    "start_time": "2023-03-22T18:47:36.513Z"
   },
   {
    "duration": 28,
    "start_time": "2023-03-22T18:47:36.529Z"
   },
   {
    "duration": 17,
    "start_time": "2023-03-22T18:47:36.558Z"
   },
   {
    "duration": 4,
    "start_time": "2023-03-22T18:47:36.577Z"
   },
   {
    "duration": 9,
    "start_time": "2023-03-22T18:47:36.583Z"
   },
   {
    "duration": 7,
    "start_time": "2023-03-22T18:47:36.593Z"
   },
   {
    "duration": 6,
    "start_time": "2023-03-22T18:47:36.603Z"
   },
   {
    "duration": 9,
    "start_time": "2023-03-22T18:47:36.610Z"
   },
   {
    "duration": 11,
    "start_time": "2023-03-22T18:47:36.620Z"
   },
   {
    "duration": 37,
    "start_time": "2023-03-22T18:47:36.633Z"
   },
   {
    "duration": 11,
    "start_time": "2023-03-22T18:47:36.672Z"
   },
   {
    "duration": 5,
    "start_time": "2023-03-22T18:47:36.684Z"
   },
   {
    "duration": 215,
    "start_time": "2023-03-22T18:47:36.691Z"
   },
   {
    "duration": 167,
    "start_time": "2023-03-22T18:47:36.908Z"
   },
   {
    "duration": 9,
    "start_time": "2023-03-22T18:47:37.077Z"
   },
   {
    "duration": 12,
    "start_time": "2023-03-22T18:47:37.087Z"
   },
   {
    "duration": 396,
    "start_time": "2023-03-22T18:47:37.101Z"
   },
   {
    "duration": 240,
    "start_time": "2023-03-22T18:47:37.499Z"
   },
   {
    "duration": 356,
    "start_time": "2023-03-22T18:47:37.741Z"
   },
   {
    "duration": 274,
    "start_time": "2023-03-22T18:47:38.099Z"
   },
   {
    "duration": 329,
    "start_time": "2023-03-22T18:47:38.374Z"
   },
   {
    "duration": 11,
    "start_time": "2023-03-22T18:47:38.705Z"
   },
   {
    "duration": 163,
    "start_time": "2023-03-22T18:47:38.717Z"
   },
   {
    "duration": 6,
    "start_time": "2023-03-22T18:47:38.881Z"
   },
   {
    "duration": 187,
    "start_time": "2023-03-22T18:47:38.888Z"
   },
   {
    "duration": 5,
    "start_time": "2023-03-22T18:47:39.076Z"
   },
   {
    "duration": 242,
    "start_time": "2023-03-22T18:47:39.083Z"
   },
   {
    "duration": 156,
    "start_time": "2023-03-22T18:47:39.327Z"
   },
   {
    "duration": 8,
    "start_time": "2023-03-22T18:47:39.485Z"
   },
   {
    "duration": 23,
    "start_time": "2023-03-22T18:47:39.495Z"
   },
   {
    "duration": 11,
    "start_time": "2023-03-22T18:47:39.519Z"
   },
   {
    "duration": 33,
    "start_time": "2023-03-22T18:47:39.531Z"
   },
   {
    "duration": 10,
    "start_time": "2023-03-22T18:47:39.566Z"
   },
   {
    "duration": 27,
    "start_time": "2023-03-22T18:47:39.580Z"
   },
   {
    "duration": 14,
    "start_time": "2023-03-22T18:47:39.608Z"
   },
   {
    "duration": 57,
    "start_time": "2023-03-23T14:41:48.103Z"
   },
   {
    "duration": 1264,
    "start_time": "2023-03-23T14:41:54.543Z"
   },
   {
    "duration": 169,
    "start_time": "2023-03-23T14:41:55.810Z"
   },
   {
    "duration": 14,
    "start_time": "2023-03-23T14:41:55.981Z"
   },
   {
    "duration": 48,
    "start_time": "2023-03-23T14:41:55.996Z"
   },
   {
    "duration": 170,
    "start_time": "2023-03-23T14:41:56.045Z"
   },
   {
    "duration": 11,
    "start_time": "2023-03-23T14:41:56.217Z"
   },
   {
    "duration": 28,
    "start_time": "2023-03-23T14:41:56.229Z"
   },
   {
    "duration": 48,
    "start_time": "2023-03-23T14:41:56.259Z"
   },
   {
    "duration": 96,
    "start_time": "2023-03-23T14:41:56.309Z"
   },
   {
    "duration": 11,
    "start_time": "2023-03-23T14:41:56.408Z"
   },
   {
    "duration": 9,
    "start_time": "2023-03-23T14:41:56.420Z"
   },
   {
    "duration": 23,
    "start_time": "2023-03-23T14:41:56.431Z"
   },
   {
    "duration": 32,
    "start_time": "2023-03-23T14:41:56.456Z"
   },
   {
    "duration": 20,
    "start_time": "2023-03-23T14:41:56.490Z"
   },
   {
    "duration": 5,
    "start_time": "2023-03-23T14:41:56.512Z"
   },
   {
    "duration": 15,
    "start_time": "2023-03-23T14:41:56.518Z"
   },
   {
    "duration": 7,
    "start_time": "2023-03-23T14:41:56.535Z"
   },
   {
    "duration": 11,
    "start_time": "2023-03-23T14:41:56.543Z"
   },
   {
    "duration": 7,
    "start_time": "2023-03-23T14:41:56.555Z"
   },
   {
    "duration": 189,
    "start_time": "2023-03-23T14:41:56.564Z"
   },
   {
    "duration": 137,
    "start_time": "2023-03-23T14:41:56.754Z"
   },
   {
    "duration": 6,
    "start_time": "2023-03-23T14:41:56.893Z"
   },
   {
    "duration": 24,
    "start_time": "2023-03-23T14:41:56.901Z"
   },
   {
    "duration": 327,
    "start_time": "2023-03-23T14:41:56.927Z"
   },
   {
    "duration": 291,
    "start_time": "2023-03-23T14:41:57.255Z"
   },
   {
    "duration": 424,
    "start_time": "2023-03-23T14:41:57.548Z"
   },
   {
    "duration": 288,
    "start_time": "2023-03-23T14:41:57.974Z"
   },
   {
    "duration": 397,
    "start_time": "2023-03-23T14:41:58.265Z"
   },
   {
    "duration": 24,
    "start_time": "2023-03-23T14:41:58.664Z"
   },
   {
    "duration": 185,
    "start_time": "2023-03-23T14:41:58.690Z"
   },
   {
    "duration": 18,
    "start_time": "2023-03-23T14:41:58.878Z"
   },
   {
    "duration": 183,
    "start_time": "2023-03-23T14:41:58.902Z"
   },
   {
    "duration": 5,
    "start_time": "2023-03-23T14:41:59.086Z"
   },
   {
    "duration": 245,
    "start_time": "2023-03-23T14:41:59.093Z"
   },
   {
    "duration": 169,
    "start_time": "2023-03-23T14:41:59.340Z"
   },
   {
    "duration": 7,
    "start_time": "2023-03-23T14:41:59.511Z"
   },
   {
    "duration": 25,
    "start_time": "2023-03-23T14:41:59.520Z"
   },
   {
    "duration": 11,
    "start_time": "2023-03-23T14:41:59.546Z"
   },
   {
    "duration": 37,
    "start_time": "2023-03-23T14:41:59.559Z"
   },
   {
    "duration": 13,
    "start_time": "2023-03-23T14:41:59.598Z"
   },
   {
    "duration": 31,
    "start_time": "2023-03-23T14:41:59.613Z"
   },
   {
    "duration": 42,
    "start_time": "2023-03-23T14:41:59.647Z"
   },
   {
    "duration": 5,
    "start_time": "2023-03-23T14:51:54.273Z"
   },
   {
    "duration": 5,
    "start_time": "2023-03-23T14:52:06.179Z"
   },
   {
    "duration": 5,
    "start_time": "2023-03-23T14:54:17.575Z"
   },
   {
    "duration": 4,
    "start_time": "2023-03-23T14:54:55.571Z"
   },
   {
    "duration": 4,
    "start_time": "2023-03-23T14:55:22.801Z"
   },
   {
    "duration": 4,
    "start_time": "2023-03-23T14:55:24.856Z"
   },
   {
    "duration": 245,
    "start_time": "2023-03-23T15:02:34.746Z"
   },
   {
    "duration": 374,
    "start_time": "2023-03-23T15:03:24.715Z"
   },
   {
    "duration": 385,
    "start_time": "2023-03-23T15:03:32.377Z"
   },
   {
    "duration": 287,
    "start_time": "2023-03-23T15:03:40.495Z"
   },
   {
    "duration": 364,
    "start_time": "2023-03-23T15:03:50.915Z"
   },
   {
    "duration": 226,
    "start_time": "2023-03-23T15:03:57.920Z"
   },
   {
    "duration": 166,
    "start_time": "2023-03-23T15:04:03.408Z"
   },
   {
    "duration": 170,
    "start_time": "2023-03-23T15:16:25.386Z"
   },
   {
    "duration": 151,
    "start_time": "2023-03-23T15:16:33.854Z"
   },
   {
    "duration": 182,
    "start_time": "2023-03-23T15:17:00.983Z"
   },
   {
    "duration": 263,
    "start_time": "2023-03-23T15:17:50.604Z"
   },
   {
    "duration": 162,
    "start_time": "2023-03-23T15:20:21.666Z"
   },
   {
    "duration": 29,
    "start_time": "2023-03-23T15:37:26.894Z"
   },
   {
    "duration": 30,
    "start_time": "2023-03-23T15:37:57.512Z"
   },
   {
    "duration": 12,
    "start_time": "2023-03-23T15:39:08.816Z"
   },
   {
    "duration": 25,
    "start_time": "2023-03-23T15:41:54.560Z"
   },
   {
    "duration": 14,
    "start_time": "2023-03-23T15:45:45.965Z"
   },
   {
    "duration": 16,
    "start_time": "2023-03-23T15:46:01.817Z"
   },
   {
    "duration": 104,
    "start_time": "2023-03-23T16:05:32.388Z"
   },
   {
    "duration": 11,
    "start_time": "2023-03-23T16:07:04.534Z"
   },
   {
    "duration": 5,
    "start_time": "2023-03-23T16:12:08.230Z"
   },
   {
    "duration": 45,
    "start_time": "2023-03-23T16:14:52.992Z"
   },
   {
    "duration": 1352,
    "start_time": "2023-03-23T16:26:01.046Z"
   },
   {
    "duration": 96,
    "start_time": "2023-03-23T16:26:02.401Z"
   },
   {
    "duration": 15,
    "start_time": "2023-03-23T16:26:02.499Z"
   },
   {
    "duration": 13,
    "start_time": "2023-03-23T16:26:02.516Z"
   },
   {
    "duration": 58,
    "start_time": "2023-03-23T16:26:02.531Z"
   },
   {
    "duration": 17,
    "start_time": "2023-03-23T16:26:02.590Z"
   },
   {
    "duration": 18,
    "start_time": "2023-03-23T16:26:02.609Z"
   },
   {
    "duration": 50,
    "start_time": "2023-03-23T16:26:02.629Z"
   },
   {
    "duration": 35,
    "start_time": "2023-03-23T16:26:02.681Z"
   },
   {
    "duration": 20,
    "start_time": "2023-03-23T16:26:02.718Z"
   },
   {
    "duration": 28,
    "start_time": "2023-03-23T16:26:02.740Z"
   },
   {
    "duration": 19,
    "start_time": "2023-03-23T16:26:02.770Z"
   },
   {
    "duration": 15,
    "start_time": "2023-03-23T16:26:02.792Z"
   },
   {
    "duration": 32,
    "start_time": "2023-03-23T16:26:02.811Z"
   },
   {
    "duration": 19,
    "start_time": "2023-03-23T16:26:02.845Z"
   },
   {
    "duration": 40,
    "start_time": "2023-03-23T16:26:02.866Z"
   },
   {
    "duration": 27,
    "start_time": "2023-03-23T16:26:02.908Z"
   },
   {
    "duration": 34,
    "start_time": "2023-03-23T16:26:02.937Z"
   },
   {
    "duration": 9,
    "start_time": "2023-03-23T16:26:02.972Z"
   },
   {
    "duration": 24,
    "start_time": "2023-03-23T16:26:02.982Z"
   },
   {
    "duration": 45,
    "start_time": "2023-03-23T16:26:03.008Z"
   },
   {
    "duration": 23,
    "start_time": "2023-03-23T16:26:03.055Z"
   },
   {
    "duration": 7,
    "start_time": "2023-03-23T16:26:03.080Z"
   },
   {
    "duration": 176,
    "start_time": "2023-03-23T16:26:03.089Z"
   },
   {
    "duration": 139,
    "start_time": "2023-03-23T16:26:03.266Z"
   },
   {
    "duration": 7,
    "start_time": "2023-03-23T16:26:03.407Z"
   },
   {
    "duration": 22,
    "start_time": "2023-03-23T16:26:03.415Z"
   },
   {
    "duration": 341,
    "start_time": "2023-03-23T16:26:03.439Z"
   },
   {
    "duration": 244,
    "start_time": "2023-03-23T16:26:03.790Z"
   },
   {
    "duration": 381,
    "start_time": "2023-03-23T16:26:04.036Z"
   },
   {
    "duration": 311,
    "start_time": "2023-03-23T16:26:04.420Z"
   },
   {
    "duration": 400,
    "start_time": "2023-03-23T16:26:04.733Z"
   },
   {
    "duration": 17,
    "start_time": "2023-03-23T16:26:05.135Z"
   },
   {
    "duration": 201,
    "start_time": "2023-03-23T16:26:05.154Z"
   },
   {
    "duration": 7,
    "start_time": "2023-03-23T16:26:05.357Z"
   },
   {
    "duration": 211,
    "start_time": "2023-03-23T16:26:05.367Z"
   },
   {
    "duration": 172,
    "start_time": "2023-03-23T16:26:05.581Z"
   },
   {
    "duration": 7,
    "start_time": "2023-03-23T16:26:05.755Z"
   },
   {
    "duration": 249,
    "start_time": "2023-03-23T16:26:05.763Z"
   },
   {
    "duration": 172,
    "start_time": "2023-03-23T16:26:06.014Z"
   },
   {
    "duration": 8,
    "start_time": "2023-03-23T16:26:06.191Z"
   },
   {
    "duration": 25,
    "start_time": "2023-03-23T16:26:06.201Z"
   },
   {
    "duration": 12,
    "start_time": "2023-03-23T16:26:06.228Z"
   },
   {
    "duration": 12,
    "start_time": "2023-03-23T16:26:06.242Z"
   },
   {
    "duration": 39,
    "start_time": "2023-03-23T16:26:06.256Z"
   },
   {
    "duration": 45,
    "start_time": "2023-03-23T16:26:06.297Z"
   },
   {
    "duration": 15,
    "start_time": "2023-03-23T16:26:06.345Z"
   },
   {
    "duration": 1446,
    "start_time": "2023-03-23T16:36:44.227Z"
   },
   {
    "duration": 96,
    "start_time": "2023-03-23T16:36:45.676Z"
   },
   {
    "duration": 16,
    "start_time": "2023-03-23T16:36:45.774Z"
   },
   {
    "duration": 57,
    "start_time": "2023-03-23T16:36:45.793Z"
   },
   {
    "duration": 85,
    "start_time": "2023-03-23T16:36:45.852Z"
   },
   {
    "duration": 18,
    "start_time": "2023-03-23T16:36:45.939Z"
   },
   {
    "duration": 35,
    "start_time": "2023-03-23T16:36:45.960Z"
   },
   {
    "duration": 113,
    "start_time": "2023-03-23T16:36:45.998Z"
   },
   {
    "duration": 78,
    "start_time": "2023-03-23T16:36:46.114Z"
   },
   {
    "duration": 31,
    "start_time": "2023-03-23T16:36:46.195Z"
   },
   {
    "duration": 118,
    "start_time": "2023-03-23T16:36:46.229Z"
   },
   {
    "duration": 52,
    "start_time": "2023-03-23T16:36:46.349Z"
   },
   {
    "duration": 33,
    "start_time": "2023-03-23T16:36:46.404Z"
   },
   {
    "duration": 23,
    "start_time": "2023-03-23T16:36:46.440Z"
   },
   {
    "duration": 32,
    "start_time": "2023-03-23T16:36:46.465Z"
   },
   {
    "duration": 17,
    "start_time": "2023-03-23T16:36:46.498Z"
   },
   {
    "duration": 58,
    "start_time": "2023-03-23T16:36:46.517Z"
   },
   {
    "duration": 23,
    "start_time": "2023-03-23T16:36:46.576Z"
   },
   {
    "duration": 19,
    "start_time": "2023-03-23T16:36:46.601Z"
   },
   {
    "duration": 31,
    "start_time": "2023-03-23T16:36:46.622Z"
   },
   {
    "duration": 8,
    "start_time": "2023-03-23T16:36:46.656Z"
   },
   {
    "duration": 19,
    "start_time": "2023-03-23T16:36:46.667Z"
   },
   {
    "duration": 35,
    "start_time": "2023-03-23T16:36:46.689Z"
   },
   {
    "duration": 199,
    "start_time": "2023-03-23T16:36:46.727Z"
   },
   {
    "duration": 134,
    "start_time": "2023-03-23T16:36:46.928Z"
   },
   {
    "duration": 7,
    "start_time": "2023-03-23T16:36:47.064Z"
   },
   {
    "duration": 25,
    "start_time": "2023-03-23T16:36:47.073Z"
   },
   {
    "duration": 350,
    "start_time": "2023-03-23T16:36:47.101Z"
   },
   {
    "duration": 286,
    "start_time": "2023-03-23T16:36:47.453Z"
   },
   {
    "duration": 422,
    "start_time": "2023-03-23T16:36:47.742Z"
   },
   {
    "duration": 330,
    "start_time": "2023-03-23T16:36:48.167Z"
   },
   {
    "duration": 377,
    "start_time": "2023-03-23T16:36:48.498Z"
   },
   {
    "duration": 23,
    "start_time": "2023-03-23T16:36:48.877Z"
   },
   {
    "duration": 189,
    "start_time": "2023-03-23T16:36:48.902Z"
   },
   {
    "duration": 8,
    "start_time": "2023-03-23T16:36:49.094Z"
   },
   {
    "duration": 218,
    "start_time": "2023-03-23T16:36:49.105Z"
   },
   {
    "duration": 201,
    "start_time": "2023-03-23T16:36:49.325Z"
   },
   {
    "duration": 7,
    "start_time": "2023-03-23T16:36:49.528Z"
   },
   {
    "duration": 73,
    "start_time": "2023-03-23T16:36:49.537Z"
   },
   {
    "duration": 197,
    "start_time": "2023-03-23T16:36:49.612Z"
   },
   {
    "duration": 7,
    "start_time": "2023-03-23T16:36:49.811Z"
   },
   {
    "duration": 33,
    "start_time": "2023-03-23T16:36:49.820Z"
   },
   {
    "duration": 34,
    "start_time": "2023-03-23T16:36:49.856Z"
   },
   {
    "duration": 13,
    "start_time": "2023-03-23T16:36:49.892Z"
   },
   {
    "duration": 15,
    "start_time": "2023-03-23T16:36:49.908Z"
   },
   {
    "duration": 42,
    "start_time": "2023-03-23T16:36:49.926Z"
   },
   {
    "duration": 24,
    "start_time": "2023-03-23T16:36:49.991Z"
   },
   {
    "duration": 48,
    "start_time": "2023-03-23T16:39:50.551Z"
   },
   {
    "duration": 2043,
    "start_time": "2023-03-23T16:40:46.323Z"
   },
   {
    "duration": 107,
    "start_time": "2023-03-23T16:40:48.368Z"
   },
   {
    "duration": 15,
    "start_time": "2023-03-23T16:40:48.477Z"
   },
   {
    "duration": 12,
    "start_time": "2023-03-23T16:40:48.493Z"
   },
   {
    "duration": 44,
    "start_time": "2023-03-23T16:40:48.506Z"
   },
   {
    "duration": 12,
    "start_time": "2023-03-23T16:40:48.552Z"
   },
   {
    "duration": 6,
    "start_time": "2023-03-23T16:40:48.566Z"
   },
   {
    "duration": 21,
    "start_time": "2023-03-23T16:40:48.573Z"
   },
   {
    "duration": 30,
    "start_time": "2023-03-23T16:40:48.596Z"
   },
   {
    "duration": 13,
    "start_time": "2023-03-23T16:40:48.629Z"
   },
   {
    "duration": 7,
    "start_time": "2023-03-23T16:40:48.643Z"
   },
   {
    "duration": 9,
    "start_time": "2023-03-23T16:40:48.652Z"
   },
   {
    "duration": 8,
    "start_time": "2023-03-23T16:40:48.663Z"
   },
   {
    "duration": 7,
    "start_time": "2023-03-23T16:40:48.689Z"
   },
   {
    "duration": 15,
    "start_time": "2023-03-23T16:40:48.698Z"
   },
   {
    "duration": 8,
    "start_time": "2023-03-23T16:40:48.715Z"
   },
   {
    "duration": 6,
    "start_time": "2023-03-23T16:40:48.725Z"
   },
   {
    "duration": 6,
    "start_time": "2023-03-23T16:40:48.733Z"
   },
   {
    "duration": 15,
    "start_time": "2023-03-23T16:40:48.741Z"
   },
   {
    "duration": 33,
    "start_time": "2023-03-23T16:40:48.759Z"
   },
   {
    "duration": 8,
    "start_time": "2023-03-23T16:40:48.794Z"
   },
   {
    "duration": 15,
    "start_time": "2023-03-23T16:40:48.805Z"
   },
   {
    "duration": 8,
    "start_time": "2023-03-23T16:40:48.822Z"
   },
   {
    "duration": 225,
    "start_time": "2023-03-23T16:40:48.832Z"
   },
   {
    "duration": 154,
    "start_time": "2023-03-23T16:40:49.059Z"
   },
   {
    "duration": 11,
    "start_time": "2023-03-23T16:40:49.215Z"
   },
   {
    "duration": 16,
    "start_time": "2023-03-23T16:40:49.228Z"
   },
   {
    "duration": 398,
    "start_time": "2023-03-23T16:40:49.247Z"
   },
   {
    "duration": 250,
    "start_time": "2023-03-23T16:40:49.648Z"
   },
   {
    "duration": 354,
    "start_time": "2023-03-23T16:40:49.900Z"
   },
   {
    "duration": 303,
    "start_time": "2023-03-23T16:40:50.257Z"
   },
   {
    "duration": 387,
    "start_time": "2023-03-23T16:40:50.562Z"
   },
   {
    "duration": 11,
    "start_time": "2023-03-23T16:40:50.951Z"
   },
   {
    "duration": 157,
    "start_time": "2023-03-23T16:40:50.964Z"
   },
   {
    "duration": 6,
    "start_time": "2023-03-23T16:40:51.122Z"
   },
   {
    "duration": 176,
    "start_time": "2023-03-23T16:40:51.130Z"
   },
   {
    "duration": 195,
    "start_time": "2023-03-23T16:40:51.308Z"
   },
   {
    "duration": 6,
    "start_time": "2023-03-23T16:40:51.506Z"
   },
   {
    "duration": 78,
    "start_time": "2023-03-23T16:40:51.514Z"
   },
   {
    "duration": 166,
    "start_time": "2023-03-23T16:40:51.594Z"
   },
   {
    "duration": 9,
    "start_time": "2023-03-23T16:40:51.762Z"
   },
   {
    "duration": 54,
    "start_time": "2023-03-23T16:40:51.774Z"
   },
   {
    "duration": 12,
    "start_time": "2023-03-23T16:40:51.830Z"
   },
   {
    "duration": 12,
    "start_time": "2023-03-23T16:40:51.844Z"
   },
   {
    "duration": 38,
    "start_time": "2023-03-23T16:40:51.859Z"
   },
   {
    "duration": 32,
    "start_time": "2023-03-23T16:40:51.899Z"
   },
   {
    "duration": 22,
    "start_time": "2023-03-23T16:40:51.933Z"
   },
   {
    "duration": 954,
    "start_time": "2023-03-24T12:42:46.407Z"
   },
   {
    "duration": 76,
    "start_time": "2023-03-24T12:42:47.363Z"
   },
   {
    "duration": 11,
    "start_time": "2023-03-24T12:42:47.441Z"
   },
   {
    "duration": 10,
    "start_time": "2023-03-24T12:42:47.453Z"
   },
   {
    "duration": 39,
    "start_time": "2023-03-24T12:42:47.465Z"
   },
   {
    "duration": 10,
    "start_time": "2023-03-24T12:42:47.505Z"
   },
   {
    "duration": 4,
    "start_time": "2023-03-24T12:42:47.516Z"
   },
   {
    "duration": 13,
    "start_time": "2023-03-24T12:42:47.521Z"
   },
   {
    "duration": 22,
    "start_time": "2023-03-24T12:42:47.536Z"
   },
   {
    "duration": 9,
    "start_time": "2023-03-24T12:42:47.560Z"
   },
   {
    "duration": 7,
    "start_time": "2023-03-24T12:42:47.570Z"
   },
   {
    "duration": 8,
    "start_time": "2023-03-24T12:42:47.578Z"
   },
   {
    "duration": 6,
    "start_time": "2023-03-24T12:42:47.587Z"
   },
   {
    "duration": 6,
    "start_time": "2023-03-24T12:42:47.596Z"
   },
   {
    "duration": 5,
    "start_time": "2023-03-24T12:42:47.603Z"
   },
   {
    "duration": 7,
    "start_time": "2023-03-24T12:42:47.609Z"
   },
   {
    "duration": 5,
    "start_time": "2023-03-24T12:42:47.617Z"
   },
   {
    "duration": 5,
    "start_time": "2023-03-24T12:42:47.623Z"
   },
   {
    "duration": 6,
    "start_time": "2023-03-24T12:42:47.629Z"
   },
   {
    "duration": 39,
    "start_time": "2023-03-24T12:42:47.636Z"
   },
   {
    "duration": 5,
    "start_time": "2023-03-24T12:42:47.677Z"
   },
   {
    "duration": 13,
    "start_time": "2023-03-24T12:42:47.683Z"
   },
   {
    "duration": 5,
    "start_time": "2023-03-24T12:42:47.697Z"
   },
   {
    "duration": 173,
    "start_time": "2023-03-24T12:42:47.703Z"
   },
   {
    "duration": 127,
    "start_time": "2023-03-24T12:42:47.877Z"
   },
   {
    "duration": 6,
    "start_time": "2023-03-24T12:42:48.006Z"
   },
   {
    "duration": 7,
    "start_time": "2023-03-24T12:42:48.013Z"
   },
   {
    "duration": 272,
    "start_time": "2023-03-24T12:42:48.022Z"
   },
   {
    "duration": 196,
    "start_time": "2023-03-24T12:42:48.295Z"
   },
   {
    "duration": 287,
    "start_time": "2023-03-24T12:42:48.493Z"
   },
   {
    "duration": 215,
    "start_time": "2023-03-24T12:42:48.781Z"
   },
   {
    "duration": 307,
    "start_time": "2023-03-24T12:42:48.998Z"
   },
   {
    "duration": 10,
    "start_time": "2023-03-24T12:42:49.307Z"
   },
   {
    "duration": 153,
    "start_time": "2023-03-24T12:42:49.319Z"
   },
   {
    "duration": 5,
    "start_time": "2023-03-24T12:42:49.474Z"
   },
   {
    "duration": 166,
    "start_time": "2023-03-24T12:42:49.481Z"
   },
   {
    "duration": 136,
    "start_time": "2023-03-24T12:42:49.648Z"
   },
   {
    "duration": 5,
    "start_time": "2023-03-24T12:42:49.786Z"
   },
   {
    "duration": 46,
    "start_time": "2023-03-24T12:42:49.793Z"
   },
   {
    "duration": 134,
    "start_time": "2023-03-24T12:42:49.840Z"
   },
   {
    "duration": 5,
    "start_time": "2023-03-24T12:42:49.978Z"
   },
   {
    "duration": 23,
    "start_time": "2023-03-24T12:42:49.984Z"
   },
   {
    "duration": 14,
    "start_time": "2023-03-24T12:42:50.009Z"
   },
   {
    "duration": 9,
    "start_time": "2023-03-24T12:42:50.025Z"
   },
   {
    "duration": 35,
    "start_time": "2023-03-24T12:42:50.036Z"
   },
   {
    "duration": 31,
    "start_time": "2023-03-24T12:42:50.073Z"
   },
   {
    "duration": 12,
    "start_time": "2023-03-24T12:42:50.106Z"
   }
  ],
  "kernelspec": {
   "display_name": "Python 3 (ipykernel)",
   "language": "python",
   "name": "python3"
  },
  "language_info": {
   "codemirror_mode": {
    "name": "ipython",
    "version": 3
   },
   "file_extension": ".py",
   "mimetype": "text/x-python",
   "name": "python",
   "nbconvert_exporter": "python",
   "pygments_lexer": "ipython3",
   "version": "3.9.12"
  },
  "toc": {
   "base_numbering": 1,
   "nav_menu": {},
   "number_sections": true,
   "sideBar": true,
   "skip_h1_title": true,
   "title_cell": "Содержание",
   "title_sidebar": "Contents",
   "toc_cell": true,
   "toc_position": {
    "height": "calc(100% - 180px)",
    "left": "10px",
    "top": "150px",
    "width": "295.403px"
   },
   "toc_section_display": true,
   "toc_window_display": false
  }
 },
 "nbformat": 4,
 "nbformat_minor": 2
}
