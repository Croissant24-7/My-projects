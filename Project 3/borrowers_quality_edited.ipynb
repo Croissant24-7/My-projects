{
 "cells": [
  {
   "cell_type": "markdown",
   "id": "c5e1d635",
   "metadata": {
    "id": "c81daeeb"
   },
   "source": [
    "# Исследование надежности заемщиков\n"
   ]
  },
  {
   "cell_type": "markdown",
   "id": "b05d8bec",
   "metadata": {
    "id": "744d7639"
   },
   "source": [
    "## Откроем таблицу и изучим общую информацию о данных"
   ]
  },
  {
   "cell_type": "markdown",
   "id": "afe1a5dd",
   "metadata": {
    "id": "e7a14c31"
   },
   "source": [
    "Импортируем библиотеку pandas. Считаем данные из csv-файла в датафрейм и сохраним в переменную `data`. Путь к файлу:\n",
    "\n",
    "`/datasets/data.csv`"
   ]
  },
  {
   "cell_type": "code",
   "execution_count": 1,
   "id": "57b112bc",
   "metadata": {
    "id": "7bcf75c9"
   },
   "outputs": [],
   "source": [
    "import pandas as pd\n",
    "\n",
    "try:\n",
    "    data = pd.read_csv('/datasets/data.csv')\n",
    "except:\n",
    "    data = pd.read_csv('https://code.s3.yandex.net/datasets/data.csv')"
   ]
  },
  {
   "cell_type": "markdown",
   "id": "baba7fd4",
   "metadata": {
    "id": "b8038fe3"
   },
   "source": [
    "Выведем первые 20 строчек датафрейма `data` на экран."
   ]
  },
  {
   "cell_type": "code",
   "execution_count": 2,
   "id": "c325e22a",
   "metadata": {
    "id": "2a7cab99",
    "outputId": "1a8f3ef2-d323-4ec2-ddf7-89670b5944c4"
   },
   "outputs": [
    {
     "data": {
      "text/html": [
       "<div>\n",
       "<style scoped>\n",
       "    .dataframe tbody tr th:only-of-type {\n",
       "        vertical-align: middle;\n",
       "    }\n",
       "\n",
       "    .dataframe tbody tr th {\n",
       "        vertical-align: top;\n",
       "    }\n",
       "\n",
       "    .dataframe thead th {\n",
       "        text-align: right;\n",
       "    }\n",
       "</style>\n",
       "<table border=\"1\" class=\"dataframe\">\n",
       "  <thead>\n",
       "    <tr style=\"text-align: right;\">\n",
       "      <th></th>\n",
       "      <th>children</th>\n",
       "      <th>days_employed</th>\n",
       "      <th>dob_years</th>\n",
       "      <th>education</th>\n",
       "      <th>education_id</th>\n",
       "      <th>family_status</th>\n",
       "      <th>family_status_id</th>\n",
       "      <th>gender</th>\n",
       "      <th>income_type</th>\n",
       "      <th>debt</th>\n",
       "      <th>total_income</th>\n",
       "      <th>purpose</th>\n",
       "    </tr>\n",
       "  </thead>\n",
       "  <tbody>\n",
       "    <tr>\n",
       "      <th>0</th>\n",
       "      <td>1</td>\n",
       "      <td>-8437.673028</td>\n",
       "      <td>42</td>\n",
       "      <td>высшее</td>\n",
       "      <td>0</td>\n",
       "      <td>женат / замужем</td>\n",
       "      <td>0</td>\n",
       "      <td>F</td>\n",
       "      <td>сотрудник</td>\n",
       "      <td>0</td>\n",
       "      <td>253875.639453</td>\n",
       "      <td>покупка жилья</td>\n",
       "    </tr>\n",
       "    <tr>\n",
       "      <th>1</th>\n",
       "      <td>1</td>\n",
       "      <td>-4024.803754</td>\n",
       "      <td>36</td>\n",
       "      <td>среднее</td>\n",
       "      <td>1</td>\n",
       "      <td>женат / замужем</td>\n",
       "      <td>0</td>\n",
       "      <td>F</td>\n",
       "      <td>сотрудник</td>\n",
       "      <td>0</td>\n",
       "      <td>112080.014102</td>\n",
       "      <td>приобретение автомобиля</td>\n",
       "    </tr>\n",
       "    <tr>\n",
       "      <th>2</th>\n",
       "      <td>0</td>\n",
       "      <td>-5623.422610</td>\n",
       "      <td>33</td>\n",
       "      <td>Среднее</td>\n",
       "      <td>1</td>\n",
       "      <td>женат / замужем</td>\n",
       "      <td>0</td>\n",
       "      <td>M</td>\n",
       "      <td>сотрудник</td>\n",
       "      <td>0</td>\n",
       "      <td>145885.952297</td>\n",
       "      <td>покупка жилья</td>\n",
       "    </tr>\n",
       "    <tr>\n",
       "      <th>3</th>\n",
       "      <td>3</td>\n",
       "      <td>-4124.747207</td>\n",
       "      <td>32</td>\n",
       "      <td>среднее</td>\n",
       "      <td>1</td>\n",
       "      <td>женат / замужем</td>\n",
       "      <td>0</td>\n",
       "      <td>M</td>\n",
       "      <td>сотрудник</td>\n",
       "      <td>0</td>\n",
       "      <td>267628.550329</td>\n",
       "      <td>дополнительное образование</td>\n",
       "    </tr>\n",
       "    <tr>\n",
       "      <th>4</th>\n",
       "      <td>0</td>\n",
       "      <td>340266.072047</td>\n",
       "      <td>53</td>\n",
       "      <td>среднее</td>\n",
       "      <td>1</td>\n",
       "      <td>гражданский брак</td>\n",
       "      <td>1</td>\n",
       "      <td>F</td>\n",
       "      <td>пенсионер</td>\n",
       "      <td>0</td>\n",
       "      <td>158616.077870</td>\n",
       "      <td>сыграть свадьбу</td>\n",
       "    </tr>\n",
       "    <tr>\n",
       "      <th>5</th>\n",
       "      <td>0</td>\n",
       "      <td>-926.185831</td>\n",
       "      <td>27</td>\n",
       "      <td>высшее</td>\n",
       "      <td>0</td>\n",
       "      <td>гражданский брак</td>\n",
       "      <td>1</td>\n",
       "      <td>M</td>\n",
       "      <td>компаньон</td>\n",
       "      <td>0</td>\n",
       "      <td>255763.565419</td>\n",
       "      <td>покупка жилья</td>\n",
       "    </tr>\n",
       "    <tr>\n",
       "      <th>6</th>\n",
       "      <td>0</td>\n",
       "      <td>-2879.202052</td>\n",
       "      <td>43</td>\n",
       "      <td>высшее</td>\n",
       "      <td>0</td>\n",
       "      <td>женат / замужем</td>\n",
       "      <td>0</td>\n",
       "      <td>F</td>\n",
       "      <td>компаньон</td>\n",
       "      <td>0</td>\n",
       "      <td>240525.971920</td>\n",
       "      <td>операции с жильем</td>\n",
       "    </tr>\n",
       "    <tr>\n",
       "      <th>7</th>\n",
       "      <td>0</td>\n",
       "      <td>-152.779569</td>\n",
       "      <td>50</td>\n",
       "      <td>СРЕДНЕЕ</td>\n",
       "      <td>1</td>\n",
       "      <td>женат / замужем</td>\n",
       "      <td>0</td>\n",
       "      <td>M</td>\n",
       "      <td>сотрудник</td>\n",
       "      <td>0</td>\n",
       "      <td>135823.934197</td>\n",
       "      <td>образование</td>\n",
       "    </tr>\n",
       "    <tr>\n",
       "      <th>8</th>\n",
       "      <td>2</td>\n",
       "      <td>-6929.865299</td>\n",
       "      <td>35</td>\n",
       "      <td>ВЫСШЕЕ</td>\n",
       "      <td>0</td>\n",
       "      <td>гражданский брак</td>\n",
       "      <td>1</td>\n",
       "      <td>F</td>\n",
       "      <td>сотрудник</td>\n",
       "      <td>0</td>\n",
       "      <td>95856.832424</td>\n",
       "      <td>на проведение свадьбы</td>\n",
       "    </tr>\n",
       "    <tr>\n",
       "      <th>9</th>\n",
       "      <td>0</td>\n",
       "      <td>-2188.756445</td>\n",
       "      <td>41</td>\n",
       "      <td>среднее</td>\n",
       "      <td>1</td>\n",
       "      <td>женат / замужем</td>\n",
       "      <td>0</td>\n",
       "      <td>M</td>\n",
       "      <td>сотрудник</td>\n",
       "      <td>0</td>\n",
       "      <td>144425.938277</td>\n",
       "      <td>покупка жилья для семьи</td>\n",
       "    </tr>\n",
       "    <tr>\n",
       "      <th>10</th>\n",
       "      <td>2</td>\n",
       "      <td>-4171.483647</td>\n",
       "      <td>36</td>\n",
       "      <td>высшее</td>\n",
       "      <td>0</td>\n",
       "      <td>женат / замужем</td>\n",
       "      <td>0</td>\n",
       "      <td>M</td>\n",
       "      <td>компаньон</td>\n",
       "      <td>0</td>\n",
       "      <td>113943.491460</td>\n",
       "      <td>покупка недвижимости</td>\n",
       "    </tr>\n",
       "    <tr>\n",
       "      <th>11</th>\n",
       "      <td>0</td>\n",
       "      <td>-792.701887</td>\n",
       "      <td>40</td>\n",
       "      <td>среднее</td>\n",
       "      <td>1</td>\n",
       "      <td>женат / замужем</td>\n",
       "      <td>0</td>\n",
       "      <td>F</td>\n",
       "      <td>сотрудник</td>\n",
       "      <td>0</td>\n",
       "      <td>77069.234271</td>\n",
       "      <td>покупка коммерческой недвижимости</td>\n",
       "    </tr>\n",
       "    <tr>\n",
       "      <th>12</th>\n",
       "      <td>0</td>\n",
       "      <td>NaN</td>\n",
       "      <td>65</td>\n",
       "      <td>среднее</td>\n",
       "      <td>1</td>\n",
       "      <td>гражданский брак</td>\n",
       "      <td>1</td>\n",
       "      <td>M</td>\n",
       "      <td>пенсионер</td>\n",
       "      <td>0</td>\n",
       "      <td>NaN</td>\n",
       "      <td>сыграть свадьбу</td>\n",
       "    </tr>\n",
       "    <tr>\n",
       "      <th>13</th>\n",
       "      <td>0</td>\n",
       "      <td>-1846.641941</td>\n",
       "      <td>54</td>\n",
       "      <td>неоконченное высшее</td>\n",
       "      <td>2</td>\n",
       "      <td>женат / замужем</td>\n",
       "      <td>0</td>\n",
       "      <td>F</td>\n",
       "      <td>сотрудник</td>\n",
       "      <td>0</td>\n",
       "      <td>130458.228857</td>\n",
       "      <td>приобретение автомобиля</td>\n",
       "    </tr>\n",
       "    <tr>\n",
       "      <th>14</th>\n",
       "      <td>0</td>\n",
       "      <td>-1844.956182</td>\n",
       "      <td>56</td>\n",
       "      <td>высшее</td>\n",
       "      <td>0</td>\n",
       "      <td>гражданский брак</td>\n",
       "      <td>1</td>\n",
       "      <td>F</td>\n",
       "      <td>компаньон</td>\n",
       "      <td>1</td>\n",
       "      <td>165127.911772</td>\n",
       "      <td>покупка жилой недвижимости</td>\n",
       "    </tr>\n",
       "    <tr>\n",
       "      <th>15</th>\n",
       "      <td>1</td>\n",
       "      <td>-972.364419</td>\n",
       "      <td>26</td>\n",
       "      <td>среднее</td>\n",
       "      <td>1</td>\n",
       "      <td>женат / замужем</td>\n",
       "      <td>0</td>\n",
       "      <td>F</td>\n",
       "      <td>сотрудник</td>\n",
       "      <td>0</td>\n",
       "      <td>116820.904450</td>\n",
       "      <td>строительство собственной недвижимости</td>\n",
       "    </tr>\n",
       "    <tr>\n",
       "      <th>16</th>\n",
       "      <td>0</td>\n",
       "      <td>-1719.934226</td>\n",
       "      <td>35</td>\n",
       "      <td>среднее</td>\n",
       "      <td>1</td>\n",
       "      <td>женат / замужем</td>\n",
       "      <td>0</td>\n",
       "      <td>F</td>\n",
       "      <td>сотрудник</td>\n",
       "      <td>0</td>\n",
       "      <td>289202.704229</td>\n",
       "      <td>недвижимость</td>\n",
       "    </tr>\n",
       "    <tr>\n",
       "      <th>17</th>\n",
       "      <td>0</td>\n",
       "      <td>-2369.999720</td>\n",
       "      <td>33</td>\n",
       "      <td>высшее</td>\n",
       "      <td>0</td>\n",
       "      <td>гражданский брак</td>\n",
       "      <td>1</td>\n",
       "      <td>M</td>\n",
       "      <td>сотрудник</td>\n",
       "      <td>0</td>\n",
       "      <td>90410.586745</td>\n",
       "      <td>строительство недвижимости</td>\n",
       "    </tr>\n",
       "    <tr>\n",
       "      <th>18</th>\n",
       "      <td>0</td>\n",
       "      <td>400281.136913</td>\n",
       "      <td>53</td>\n",
       "      <td>среднее</td>\n",
       "      <td>1</td>\n",
       "      <td>вдовец / вдова</td>\n",
       "      <td>2</td>\n",
       "      <td>F</td>\n",
       "      <td>пенсионер</td>\n",
       "      <td>0</td>\n",
       "      <td>56823.777243</td>\n",
       "      <td>на покупку подержанного автомобиля</td>\n",
       "    </tr>\n",
       "    <tr>\n",
       "      <th>19</th>\n",
       "      <td>0</td>\n",
       "      <td>-10038.818549</td>\n",
       "      <td>48</td>\n",
       "      <td>СРЕДНЕЕ</td>\n",
       "      <td>1</td>\n",
       "      <td>в разводе</td>\n",
       "      <td>3</td>\n",
       "      <td>F</td>\n",
       "      <td>сотрудник</td>\n",
       "      <td>0</td>\n",
       "      <td>242831.107982</td>\n",
       "      <td>на покупку своего автомобиля</td>\n",
       "    </tr>\n",
       "  </tbody>\n",
       "</table>\n",
       "</div>"
      ],
      "text/plain": [
       "    children  days_employed  dob_years            education  education_id  \\\n",
       "0          1   -8437.673028         42               высшее             0   \n",
       "1          1   -4024.803754         36              среднее             1   \n",
       "2          0   -5623.422610         33              Среднее             1   \n",
       "3          3   -4124.747207         32              среднее             1   \n",
       "4          0  340266.072047         53              среднее             1   \n",
       "5          0    -926.185831         27               высшее             0   \n",
       "6          0   -2879.202052         43               высшее             0   \n",
       "7          0    -152.779569         50              СРЕДНЕЕ             1   \n",
       "8          2   -6929.865299         35               ВЫСШЕЕ             0   \n",
       "9          0   -2188.756445         41              среднее             1   \n",
       "10         2   -4171.483647         36               высшее             0   \n",
       "11         0    -792.701887         40              среднее             1   \n",
       "12         0            NaN         65              среднее             1   \n",
       "13         0   -1846.641941         54  неоконченное высшее             2   \n",
       "14         0   -1844.956182         56               высшее             0   \n",
       "15         1    -972.364419         26              среднее             1   \n",
       "16         0   -1719.934226         35              среднее             1   \n",
       "17         0   -2369.999720         33               высшее             0   \n",
       "18         0  400281.136913         53              среднее             1   \n",
       "19         0  -10038.818549         48              СРЕДНЕЕ             1   \n",
       "\n",
       "       family_status  family_status_id gender income_type  debt  \\\n",
       "0    женат / замужем                 0      F   сотрудник     0   \n",
       "1    женат / замужем                 0      F   сотрудник     0   \n",
       "2    женат / замужем                 0      M   сотрудник     0   \n",
       "3    женат / замужем                 0      M   сотрудник     0   \n",
       "4   гражданский брак                 1      F   пенсионер     0   \n",
       "5   гражданский брак                 1      M   компаньон     0   \n",
       "6    женат / замужем                 0      F   компаньон     0   \n",
       "7    женат / замужем                 0      M   сотрудник     0   \n",
       "8   гражданский брак                 1      F   сотрудник     0   \n",
       "9    женат / замужем                 0      M   сотрудник     0   \n",
       "10   женат / замужем                 0      M   компаньон     0   \n",
       "11   женат / замужем                 0      F   сотрудник     0   \n",
       "12  гражданский брак                 1      M   пенсионер     0   \n",
       "13   женат / замужем                 0      F   сотрудник     0   \n",
       "14  гражданский брак                 1      F   компаньон     1   \n",
       "15   женат / замужем                 0      F   сотрудник     0   \n",
       "16   женат / замужем                 0      F   сотрудник     0   \n",
       "17  гражданский брак                 1      M   сотрудник     0   \n",
       "18    вдовец / вдова                 2      F   пенсионер     0   \n",
       "19         в разводе                 3      F   сотрудник     0   \n",
       "\n",
       "     total_income                                 purpose  \n",
       "0   253875.639453                           покупка жилья  \n",
       "1   112080.014102                 приобретение автомобиля  \n",
       "2   145885.952297                           покупка жилья  \n",
       "3   267628.550329              дополнительное образование  \n",
       "4   158616.077870                         сыграть свадьбу  \n",
       "5   255763.565419                           покупка жилья  \n",
       "6   240525.971920                       операции с жильем  \n",
       "7   135823.934197                             образование  \n",
       "8    95856.832424                   на проведение свадьбы  \n",
       "9   144425.938277                 покупка жилья для семьи  \n",
       "10  113943.491460                    покупка недвижимости  \n",
       "11   77069.234271       покупка коммерческой недвижимости  \n",
       "12            NaN                         сыграть свадьбу  \n",
       "13  130458.228857                 приобретение автомобиля  \n",
       "14  165127.911772              покупка жилой недвижимости  \n",
       "15  116820.904450  строительство собственной недвижимости  \n",
       "16  289202.704229                            недвижимость  \n",
       "17   90410.586745              строительство недвижимости  \n",
       "18   56823.777243      на покупку подержанного автомобиля  \n",
       "19  242831.107982            на покупку своего автомобиля  "
      ]
     },
     "execution_count": 2,
     "metadata": {},
     "output_type": "execute_result"
    }
   ],
   "source": [
    "data.head(20)"
   ]
  },
  {
   "cell_type": "markdown",
   "id": "f75834e2",
   "metadata": {
    "id": "1c12e233"
   },
   "source": [
    "Выведем основную информацию о датафрейме с помощью метода `info()`."
   ]
  },
  {
   "cell_type": "code",
   "execution_count": 3,
   "id": "349e6d15",
   "metadata": {
    "id": "2b757bca",
    "outputId": "15376089-8dad-46c9-b520-c05248d43158"
   },
   "outputs": [
    {
     "name": "stdout",
     "output_type": "stream",
     "text": [
      "<class 'pandas.core.frame.DataFrame'>\n",
      "RangeIndex: 21525 entries, 0 to 21524\n",
      "Data columns (total 12 columns):\n",
      " #   Column            Non-Null Count  Dtype  \n",
      "---  ------            --------------  -----  \n",
      " 0   children          21525 non-null  int64  \n",
      " 1   days_employed     19351 non-null  float64\n",
      " 2   dob_years         21525 non-null  int64  \n",
      " 3   education         21525 non-null  object \n",
      " 4   education_id      21525 non-null  int64  \n",
      " 5   family_status     21525 non-null  object \n",
      " 6   family_status_id  21525 non-null  int64  \n",
      " 7   gender            21525 non-null  object \n",
      " 8   income_type       21525 non-null  object \n",
      " 9   debt              21525 non-null  int64  \n",
      " 10  total_income      19351 non-null  float64\n",
      " 11  purpose           21525 non-null  object \n",
      "dtypes: float64(2), int64(5), object(5)\n",
      "memory usage: 2.0+ MB\n"
     ]
    }
   ],
   "source": [
    "data.info()"
   ]
  },
  {
   "cell_type": "markdown",
   "id": "55b61a0c",
   "metadata": {
    "id": "333ec665"
   },
   "source": [
    "## Предобработка данных"
   ]
  },
  {
   "cell_type": "markdown",
   "id": "f7507496",
   "metadata": {
    "id": "02d92d53"
   },
   "source": [
    "### Удаление пропусков"
   ]
  },
  {
   "cell_type": "markdown",
   "id": "974c3d58",
   "metadata": {
    "id": "cd84967c"
   },
   "source": [
    "Выведем количество пропущенных значений для каждого столбца."
   ]
  },
  {
   "cell_type": "code",
   "execution_count": 4,
   "id": "f839aaf9",
   "metadata": {
    "id": "7f9b2309",
    "outputId": "81f4d817-781c-465c-ed15-91ce4446810d"
   },
   "outputs": [
    {
     "data": {
      "text/plain": [
       "children               0\n",
       "days_employed       2174\n",
       "dob_years              0\n",
       "education              0\n",
       "education_id           0\n",
       "family_status          0\n",
       "family_status_id       0\n",
       "gender                 0\n",
       "income_type            0\n",
       "debt                   0\n",
       "total_income        2174\n",
       "purpose                0\n",
       "dtype: int64"
      ]
     },
     "execution_count": 4,
     "metadata": {},
     "output_type": "execute_result"
    }
   ],
   "source": [
    "data.isna().sum()"
   ]
  },
  {
   "cell_type": "markdown",
   "id": "cdcc0a46",
   "metadata": {
    "id": "db86e27b"
   },
   "source": [
    "В двух столбцах есть пропущенные значения. Один из них — `days_employed`. Другой столбец с пропущенными значениями — `total_income` — хранит данные о доходах. На сумму дохода сильнее всего влияет тип занятости, поэтому заполнить пропуски в этом столбце нужно медианным значением по каждому типу из столбца `income_type`. Например, у человека с типом занятости `сотрудник` пропуск в столбце `total_income` должен быть заполнен медианным доходом среди всех записей с тем же типом."
   ]
  },
  {
   "cell_type": "code",
   "execution_count": 5,
   "id": "98429bf3",
   "metadata": {
    "id": "42006a93"
   },
   "outputs": [],
   "source": [
    "for t in data['income_type'].unique()\n",
    "    data.loc[(data['income_type'] == t) & (data['total_income'].isna()), 'total_income'] = \\\n",
    "    data.loc[(data['income_type'] == t), 'total_income'].median()"
   ]
  },
  {
   "cell_type": "markdown",
   "id": "d02682c0",
   "metadata": {
    "id": "89da5ece"
   },
   "source": [
    "### Обработка аномальных значений"
   ]
  },
  {
   "cell_type": "markdown",
   "id": "d72f19f8",
   "metadata": {
    "id": "57964554"
   },
   "source": [
    "В данных могут встречаться артефакты (аномалии) — значения, которые не отражают действительность и появились по какой-то ошибке. Таким артефактом будет отрицательное количество дней трудового стажа в столбце `days_employed`. Для реальных данных это нормально. Обработаем значения в этом столбце: заменим все отрицательные значения положительными с помощью метода `abs()`."
   ]
  },
  {
   "cell_type": "code",
   "execution_count": 6,
   "id": "58646673",
   "metadata": {
    "id": "f6f055bf"
   },
   "outputs": [],
   "source": [
    "data['days_employed'] = data['days_employed'].abs()"
   ]
  },
  {
   "cell_type": "markdown",
   "id": "d9bbd615",
   "metadata": {
    "id": "6107dd2f"
   },
   "source": [
    "Для каждого типа занятости выведем медианное значение трудового стажа `days_employed` в днях."
   ]
  },
  {
   "cell_type": "code",
   "execution_count": 7,
   "id": "c8d13121",
   "metadata": {
    "id": "85a5faf6",
    "outputId": "801ef80e-522b-4668-f34e-565af7432bcf"
   },
   "outputs": [
    {
     "data": {
      "text/plain": [
       "income_type\n",
       "безработный        366413.652744\n",
       "в декрете            3296.759962\n",
       "госслужащий          2689.368353\n",
       "компаньон            1547.382223\n",
       "пенсионер          365213.306266\n",
       "предприниматель       520.848083\n",
       "сотрудник            1574.202821\n",
       "студент               578.751554\n",
       "Name: days_employed, dtype: float64"
      ]
     },
     "execution_count": 7,
     "metadata": {},
     "output_type": "execute_result"
    }
   ],
   "source": [
    "data.groupby('income_type')['days_employed'].agg('median')"
   ]
  },
  {
   "cell_type": "markdown",
   "id": "214aecb1",
   "metadata": {
    "id": "38d1a030"
   },
   "source": [
    "У двух типов (безработные и пенсионеры) получаются аномально большие значения. Исправить такие значения сложно, поэтому оставим их как есть."
   ]
  },
  {
   "cell_type": "markdown",
   "id": "d3572581",
   "metadata": {
    "id": "d8a9f147"
   },
   "source": [
    "Выведем перечень уникальных значений столбца `children`."
   ]
  },
  {
   "cell_type": "code",
   "execution_count": 8,
   "id": "688587bf",
   "metadata": {
    "id": "ef5056eb",
    "outputId": "6975b15c-7f95-4697-d16d-a0c79b657b03"
   },
   "outputs": [
    {
     "data": {
      "text/plain": [
       "array([ 1,  0,  3,  2, -1,  4, 20,  5])"
      ]
     },
     "execution_count": 8,
     "metadata": {},
     "output_type": "execute_result"
    }
   ],
   "source": [
    "data['children'].unique()"
   ]
  },
  {
   "cell_type": "markdown",
   "id": "697cbf2b",
   "metadata": {
    "id": "40b9ebf2"
   },
   "source": [
    "В столбце `children` есть два аномальных значения. Удалим строки, в которых встречаются такие аномальные значения из датафрейма `data`."
   ]
  },
  {
   "cell_type": "code",
   "execution_count": 9,
   "id": "6cbc03c3",
   "metadata": {
    "id": "3ff9801d"
   },
   "outputs": [],
   "source": [
    "data = data[(data['children'] != -1) & (data['children'] != 20)]"
   ]
  },
  {
   "cell_type": "markdown",
   "id": "c02c60d6",
   "metadata": {
    "id": "bbc4d0ce"
   },
   "source": [
    "Ещё раз выведем перечень уникальных значений столбца `children`, чтобы убедиться, что артефакты удалены."
   ]
  },
  {
   "cell_type": "code",
   "execution_count": 10,
   "id": "b9d2a266",
   "metadata": {
    "id": "ad4fa8b7",
    "outputId": "b2097101-d49d-44d9-901b-32a65c9463d1"
   },
   "outputs": [
    {
     "data": {
      "text/plain": [
       "array([1, 0, 3, 2, 4, 5])"
      ]
     },
     "execution_count": 10,
     "metadata": {},
     "output_type": "execute_result"
    }
   ],
   "source": [
    "data['children'].unique()"
   ]
  },
  {
   "cell_type": "markdown",
   "id": "8d6c0db5",
   "metadata": {
    "id": "75440b63"
   },
   "source": [
    "### Удаление пропусков (продолжение)"
   ]
  },
  {
   "cell_type": "markdown",
   "id": "6c9ee0c6",
   "metadata": {
    "id": "f4ea573f"
   },
   "source": [
    "Заполним пропуски в столбце `days_employed` медианными значениями по каждого типа занятости `income_type`."
   ]
  },
  {
   "cell_type": "code",
   "execution_count": 11,
   "id": "c1427566",
   "metadata": {
    "id": "af6b1a7e"
   },
   "outputs": [],
   "source": [
    "for t in data['income_type'].unique():\n",
    "    data.loc[(data['income_type'] == t) & (data['days_employed'].isna()), 'days_employed'] = \\\n",
    "    data.loc[(data['income_type'] == t), 'days_employed'].median()"
   ]
  },
  {
   "cell_type": "markdown",
   "id": "417dea2d",
   "metadata": {
    "id": "2753f40d"
   },
   "source": [
    "Убедимся, что все пропуски заполнены. Проверим себя и ещё раз выведем количество пропущенных значений для каждого столбца с помощью двух методов."
   ]
  },
  {
   "cell_type": "code",
   "execution_count": 12,
   "id": "ea2b5a69",
   "metadata": {
    "id": "55f78bc2",
    "outputId": "8da1e4e1-358e-4e87-98c9-f261bce0a7b2"
   },
   "outputs": [
    {
     "data": {
      "text/plain": [
       "children            0\n",
       "days_employed       0\n",
       "dob_years           0\n",
       "education           0\n",
       "education_id        0\n",
       "family_status       0\n",
       "family_status_id    0\n",
       "gender              0\n",
       "income_type         0\n",
       "debt                0\n",
       "total_income        0\n",
       "purpose             0\n",
       "dtype: int64"
      ]
     },
     "execution_count": 12,
     "metadata": {},
     "output_type": "execute_result"
    }
   ],
   "source": [
    "data.isna().sum()"
   ]
  },
  {
   "cell_type": "markdown",
   "id": "37c56f7e",
   "metadata": {
    "id": "ddc81e43"
   },
   "source": [
    "### Изменение типов данных"
   ]
  },
  {
   "cell_type": "markdown",
   "id": "b3a470e5",
   "metadata": {
    "id": "42d19d24"
   },
   "source": [
    "Заменим вещественный тип данных в столбце `total_income` на целочисленный с помощью метода `astype()`."
   ]
  },
  {
   "cell_type": "code",
   "execution_count": 13,
   "id": "f62ae86f",
   "metadata": {
    "id": "920b65ad"
   },
   "outputs": [],
   "source": [
    "data['total_income'] = data['total_income'].astype(int)"
   ]
  },
  {
   "cell_type": "markdown",
   "id": "7b8e9d20",
   "metadata": {
    "id": "80c420ba"
   },
   "source": [
    "### Обработка дубликатов"
   ]
  },
  {
   "cell_type": "markdown",
   "id": "09883bde",
   "metadata": {},
   "source": [
    "Обработаем неявные дубликаты в столбце `education`. В этом столбце есть одни и те же значения, но записанные по-разному: с использованием заглавных и строчных букв. Приведем их к нижнему регистру. Проверим остальные столбцы."
   ]
  },
  {
   "cell_type": "code",
   "execution_count": 14,
   "id": "70afe492",
   "metadata": {},
   "outputs": [],
   "source": [
    "data['education'] = data['education'].str.lower()"
   ]
  },
  {
   "cell_type": "markdown",
   "id": "9b914cdc",
   "metadata": {
    "id": "dc587695"
   },
   "source": [
    "Выведем на экран количество строк-дубликатов в данных. Если такие строки присутствуют, удалим их."
   ]
  },
  {
   "cell_type": "code",
   "execution_count": 15,
   "id": "b7d30df7",
   "metadata": {
    "id": "3ee445e4",
    "outputId": "9684deba-1934-42d1-99e1-cda61740f822"
   },
   "outputs": [
    {
     "data": {
      "text/plain": [
       "71"
      ]
     },
     "execution_count": 15,
     "metadata": {},
     "output_type": "execute_result"
    }
   ],
   "source": [
    "data.duplicated().sum()"
   ]
  },
  {
   "cell_type": "code",
   "execution_count": 16,
   "id": "ccc13d28",
   "metadata": {
    "id": "8575fe05"
   },
   "outputs": [],
   "source": [
    "data = data.drop_duplicates()"
   ]
  },
  {
   "cell_type": "markdown",
   "id": "d38087c1",
   "metadata": {
    "id": "9904cf55"
   },
   "source": [
    "### Категоризация данных"
   ]
  },
  {
   "cell_type": "markdown",
   "id": "44cdcd0d",
   "metadata": {
    "id": "72fcc8a2"
   },
   "source": [
    "На основании диапазонов, указанных ниже, создадим в датафрейме `data` столбец `total_income_category` с категориями:**\n",
    "\n",
    "- 0–30000 — `'E'`;\n",
    "- 30001–50000 — `'D'`;\n",
    "- 50001–200000 — `'C'`;\n",
    "- 200001–1000000 — `'B'`;\n",
    "- 1000001 и выше — `'A'`.\n",
    "\n",
    "\n",
    "**Например, кредитополучателю с доходом 25000 нужно назначить категорию `'E'`, а клиенту, получающему 235000, — `'B'`. Используем собственную функцию с именем `categorize_income()` и метод `apply()`.**"
   ]
  },
  {
   "cell_type": "code",
   "execution_count": 17,
   "id": "e9566ed6",
   "metadata": {
    "id": "e1771346"
   },
   "outputs": [],
   "source": [
    "def categorize_income(income):\n",
    "    try:\n",
    "        if 0 <= income <= 30000:\n",
    "            return 'E'\n",
    "        elif 30001 <= income <= 50000:\n",
    "            return 'D'\n",
    "        elif 50001 <= income <= 200000:\n",
    "            return 'C'\n",
    "        elif 200001 <= income <= 1000000:\n",
    "            return 'B'\n",
    "        elif income >= 1000001:\n",
    "            return 'A'\n",
    "    except:\n",
    "        pass"
   ]
  },
  {
   "cell_type": "code",
   "execution_count": 18,
   "id": "5e480f35",
   "metadata": {
    "id": "d5f3586d"
   },
   "outputs": [],
   "source": [
    "data['total_income_category'] = data['total_income'].apply(categorize_income)"
   ]
  },
  {
   "cell_type": "markdown",
   "id": "401cd067",
   "metadata": {
    "id": "dde49b5c"
   },
   "source": [
    "Выведем на экран перечень уникальных целей взятия кредита из столбца `purpose`."
   ]
  },
  {
   "cell_type": "code",
   "execution_count": 19,
   "id": "cfc48481",
   "metadata": {
    "id": "f67ce9b3",
    "outputId": "673c12d9-7d7e-4ae0-9812-c622c89dd244"
   },
   "outputs": [
    {
     "data": {
      "text/plain": [
       "array(['покупка жилья', 'приобретение автомобиля',\n",
       "       'дополнительное образование', 'сыграть свадьбу',\n",
       "       'операции с жильем', 'образование', 'на проведение свадьбы',\n",
       "       'покупка жилья для семьи', 'покупка недвижимости',\n",
       "       'покупка коммерческой недвижимости', 'покупка жилой недвижимости',\n",
       "       'строительство собственной недвижимости', 'недвижимость',\n",
       "       'строительство недвижимости', 'на покупку подержанного автомобиля',\n",
       "       'на покупку своего автомобиля',\n",
       "       'операции с коммерческой недвижимостью',\n",
       "       'строительство жилой недвижимости', 'жилье',\n",
       "       'операции со своей недвижимостью', 'автомобили',\n",
       "       'заняться образованием', 'сделка с подержанным автомобилем',\n",
       "       'получение образования', 'автомобиль', 'свадьба',\n",
       "       'получение дополнительного образования', 'покупка своего жилья',\n",
       "       'операции с недвижимостью', 'получение высшего образования',\n",
       "       'свой автомобиль', 'сделка с автомобилем',\n",
       "       'профильное образование', 'высшее образование',\n",
       "       'покупка жилья для сдачи', 'на покупку автомобиля', 'ремонт жилью',\n",
       "       'заняться высшим образованием'], dtype=object)"
      ]
     },
     "execution_count": 19,
     "metadata": {},
     "output_type": "execute_result"
    }
   ],
   "source": [
    "data['purpose'].unique()"
   ]
  },
  {
   "cell_type": "markdown",
   "id": "6191ada7",
   "metadata": {
    "id": "85d0aef0"
   },
   "source": [
    "Создадим функцию, которая на основании данных из столбца `purpose` сформирует новый столбец `purpose_category`, в который войдут следующие категории:\n",
    "\n",
    "- `'операции с автомобилем'`,\n",
    "- `'операции с недвижимостью'`,\n",
    "- `'проведение свадьбы'`,\n",
    "- `'получение образования'`.\n",
    "\n",
    "**Например, если в столбце `purpose` находится подстрока `'на покупку автомобиля'`, то в столбце `purpose_category` должна появиться строка `'операции с автомобилем'`.**\n",
    "\n",
    "**Используем собственную функцию с именем `categorize_purpose()` и метод `apply()`. Изучим данные в столбце `purpose` и определим, какие подстроки помогут нам правильно определить категорию.**"
   ]
  },
  {
   "cell_type": "code",
   "execution_count": 20,
   "id": "c05b0cd5",
   "metadata": {
    "id": "e149fab4"
   },
   "outputs": [],
   "source": [
    "def categorize_purpose(row):\n",
    "    try:\n",
    "        if 'автом' in row:\n",
    "            return 'операции с автомобилем'\n",
    "        elif 'жил' in row or 'недвиж' in row:\n",
    "            return 'операции с недвижимостью'\n",
    "        elif 'свад' in row:\n",
    "            return 'проведение свадьбы'\n",
    "        elif 'образов' in row:\n",
    "            return 'получение образования'\n",
    "    except:\n",
    "        return 'нет категории'"
   ]
  },
  {
   "cell_type": "code",
   "execution_count": 21,
   "id": "8a0395ec",
   "metadata": {
    "id": "bf36e69b"
   },
   "outputs": [],
   "source": [
    "data['purpose_category'] = data['purpose'].apply(categorize_purpose)"
   ]
  },
  {
   "cell_type": "markdown",
   "id": "d8414248",
   "metadata": {
    "id": "09b242bf"
   },
   "source": [
    "### Исследуем данные и ответим на вопросы"
   ]
  },
  {
   "cell_type": "markdown",
   "id": "f20c6fd2",
   "metadata": {
    "id": "c5d66278"
   },
   "source": [
    "**Есть ли зависимость между количеством детей и возвратом кредита в срок?**"
   ]
  },
  {
   "cell_type": "code",
   "execution_count": 22,
   "id": "4c6edb97",
   "metadata": {},
   "outputs": [
    {
     "name": "stdout",
     "output_type": "stream",
     "text": [
      "0    19599\n",
      "1     1732\n",
      "Name: debt, dtype: int64\n"
     ]
    }
   ],
   "source": [
    "print(data['debt'].value_counts())\n",
    "# всего 1 732 клиента из выборки (8,8%) допускали просрочки"
   ]
  },
  {
   "cell_type": "code",
   "execution_count": 23,
   "id": "9cae3731",
   "metadata": {},
   "outputs": [
    {
     "name": "stdout",
     "output_type": "stream",
     "text": [
      "0    14091\n",
      "1     4808\n",
      "2     2052\n",
      "3      330\n",
      "4       41\n",
      "5        9\n",
      "Name: children, dtype: int64\n"
     ]
    }
   ],
   "source": [
    "print(data['children'].value_counts())\n",
    "# получаем распределение клиентов в зависимости от количества детей. Клиентов, имеющих 4 и 5 детей, относительно мало - выборка по ним будет не репрезентативна."
   ]
  },
  {
   "cell_type": "code",
   "execution_count": 24,
   "id": "7dc7337a",
   "metadata": {},
   "outputs": [
    {
     "name": "stdout",
     "output_type": "stream",
     "text": [
      "0    14091\n",
      "1     4808\n",
      "2     2052\n",
      "3      330\n",
      "4       41\n",
      "5        9\n",
      "Name: children, dtype: int64\n"
     ]
    }
   ],
   "source": [
    "print(data['children'].value_counts())\n",
    "# получаем распределение \"неплательщиков\" по количеству детей. Цифры не показательны, так как клиенты по количеству детей распределены неравномерно"
   ]
  },
  {
   "cell_type": "code",
   "execution_count": 25,
   "id": "14bd1c3b",
   "metadata": {
    "id": "2cacfc4a"
   },
   "outputs": [
    {
     "name": "stdout",
     "output_type": "stream",
     "text": [
      "          debt\n",
      "children      \n",
      "0         1063\n",
      "1          444\n",
      "2          194\n",
      "3           27\n",
      "4            4\n",
      "5            0\n"
     ]
    }
   ],
   "source": [
    "data_grouped = data.groupby(['children']).agg({'debt':'sum'}) # получаем количество \"неплательщиков\" в каждой категории клиентов (в зависимости от количества детей) другим способом\n",
    "print(data_grouped)\n",
    "# цифры не показательны, так как клиенты по количеству детей распределены неравномерно"
   ]
  },
  {
   "cell_type": "code",
   "execution_count": 26,
   "id": "dcc8eac6",
   "metadata": {},
   "outputs": [
    {
     "name": "stdout",
     "output_type": "stream",
     "text": [
      "children\n",
      "0    0.075438\n",
      "1    0.092346\n",
      "2    0.094542\n",
      "3    0.081818\n",
      "4    0.097561\n",
      "5    0.000000\n",
      "Name: debt, dtype: float64\n"
     ]
    }
   ],
   "source": [
    "data_grouped_avg = data.groupby('children')['debt'].mean()\n",
    "print(data_grouped_avg)\n",
    "# определяем, какова доля неплательщиков в каждой категории клиентов"
   ]
  },
  {
   "cell_type": "code",
   "execution_count": 27,
   "id": "605fbd8d",
   "metadata": {},
   "outputs": [
    {
     "name": "stdout",
     "output_type": "stream",
     "text": [
      "Доля неплательщиков среди бездетных составляет 7.54%\n",
      "Доля неплательщиков среди имеющих 1 ребенка составляет 9.23%\n",
      "Доля неплательщиков среди имеющих 2 детей составляет 9.45%\n",
      "Доля неплательщиков среди имеющих 3 детей составляет 8.18%\n",
      "Доля неплательщиков среди имеющих 4 детей составляет 9.76%\n",
      "Доля неплательщиков среди имеющих 5 детей составляет 0.00%\n"
     ]
    }
   ],
   "source": [
    "print(f'Доля неплательщиков среди бездетных составляет {data_grouped_avg[0]:.2%}')\n",
    "print(f'Доля неплательщиков среди имеющих 1 ребенка составляет {data_grouped_avg[1]:.2%}')\n",
    "print(f'Доля неплательщиков среди имеющих 2 детей составляет {data_grouped_avg[2]:.2%}')\n",
    "print(f'Доля неплательщиков среди имеющих 3 детей составляет {data_grouped_avg[3]:.2%}')\n",
    "print(f'Доля неплательщиков среди имеющих 4 детей составляет {data_grouped_avg[4]:.2%}')\n",
    "print(f'Доля неплательщиков среди имеющих 5 детей составляет {data_grouped_avg[5]:.2%}')\n",
    "# отображаем данные в более читабельном формате"
   ]
  },
  {
   "cell_type": "code",
   "execution_count": 42,
   "id": "dd439b0f",
   "metadata": {},
   "outputs": [
    {
     "name": "stdout",
     "output_type": "stream",
     "text": [
      "Доля неплательщиков среди бездетных составляет 7.54%\n",
      "Доля неплательщиков среди имеющих детей (любое количество) составляет 9.24%\n"
     ]
    }
   ],
   "source": [
    "debtors = data[data['debt'] == 1]\n",
    "percentage_0 = debtors[debtors['children'] == 0].shape[0] / data[data['children'] == 0].shape[0]\n",
    "percentage_1 = debtors[debtors['children'] != 0].shape[0] / data[data['children'] != 0].shape[0]\n",
    "print(f'Доля неплательщиков среди бездетных составляет {percentage_0:.2%}')\n",
    "print(f'Доля неплательщиков среди имеющих детей (любое количество) составляет {percentage_1:.2%}')\n",
    "# сравниваем долю \"неплательщиков\" среди бездетных клиентов и имеющих хотя бы одного ребенка"
   ]
  },
  {
   "cell_type": "code",
   "execution_count": 29,
   "id": "b567b82a",
   "metadata": {},
   "outputs": [
    {
     "data": {
      "text/html": [
       "<div>\n",
       "<style scoped>\n",
       "    .dataframe tbody tr th:only-of-type {\n",
       "        vertical-align: middle;\n",
       "    }\n",
       "\n",
       "    .dataframe tbody tr th {\n",
       "        vertical-align: top;\n",
       "    }\n",
       "\n",
       "    .dataframe thead th {\n",
       "        text-align: right;\n",
       "    }\n",
       "</style>\n",
       "<table border=\"1\" class=\"dataframe\">\n",
       "  <thead>\n",
       "    <tr style=\"text-align: right;\">\n",
       "      <th></th>\n",
       "      <th>debt</th>\n",
       "    </tr>\n",
       "    <tr>\n",
       "      <th>children</th>\n",
       "      <th></th>\n",
       "    </tr>\n",
       "  </thead>\n",
       "  <tbody>\n",
       "    <tr>\n",
       "      <th>0</th>\n",
       "      <td>7.54</td>\n",
       "    </tr>\n",
       "    <tr>\n",
       "      <th>1</th>\n",
       "      <td>9.23</td>\n",
       "    </tr>\n",
       "    <tr>\n",
       "      <th>2</th>\n",
       "      <td>9.45</td>\n",
       "    </tr>\n",
       "    <tr>\n",
       "      <th>3</th>\n",
       "      <td>8.18</td>\n",
       "    </tr>\n",
       "    <tr>\n",
       "      <th>4</th>\n",
       "      <td>9.76</td>\n",
       "    </tr>\n",
       "    <tr>\n",
       "      <th>5</th>\n",
       "      <td>0.00</td>\n",
       "    </tr>\n",
       "  </tbody>\n",
       "</table>\n",
       "</div>"
      ],
      "text/plain": [
       "          debt\n",
       "children      \n",
       "0         7.54\n",
       "1         9.23\n",
       "2         9.45\n",
       "3         8.18\n",
       "4         9.76\n",
       "5         0.00"
      ]
     },
     "execution_count": 29,
     "metadata": {},
     "output_type": "execute_result"
    }
   ],
   "source": [
    "data_pivot_children = data.pivot_table(index=['children'], values='debt', aggfunc='mean')\n",
    "data_pivot_children['debt'] = data_pivot_children['debt'] * 100\n",
    "data_pivot_children['debt'] = data_pivot_children['debt'].round(2)\n",
    "data_pivot_children\n",
    "# определяем другим способом (с помощью сводной таблицы), какова доля неплательщиков в каждой категории клиентов"
   ]
  },
  {
   "cell_type": "markdown",
   "id": "6291745c",
   "metadata": {
    "id": "3a6b99ec"
   },
   "source": [
    "**Вывод:** \n",
    "Результаты анализа показывают, что определенная зависимость между фактом наличия детей и возвратом кредита в срок имеется: доля имевших задолженность по кредиту среди бездетных немного ниже. При этом прямой зависимости между количеством детей и возвратом кредита в срок не обнаружено (доля неплательщиков среди имеющих 3 детей ниже, чем среди имеющих 1 или 2).\n",
    "Таким образом, возможно сделать вывод, что более надежным при прочих равных является заемщик без детей."
   ]
  },
  {
   "cell_type": "markdown",
   "id": "3dc00e79",
   "metadata": {
    "id": "97be82ca"
   },
   "source": [
    "**Есть ли зависимость между семейным положением и возвратом кредита в срок?**"
   ]
  },
  {
   "cell_type": "code",
   "execution_count": 30,
   "id": "309d5760",
   "metadata": {},
   "outputs": [
    {
     "name": "stdout",
     "output_type": "stream",
     "text": [
      "женат / замужем          12261\n",
      "гражданский брак          4134\n",
      "Не женат / не замужем     2796\n",
      "в разводе                 1189\n",
      "вдовец / вдова             951\n",
      "Name: family_status, dtype: int64\n"
     ]
    }
   ],
   "source": [
    "print(data['family_status'].value_counts())\n",
    "# получаем распределение клиентов по семейному положению"
   ]
  },
  {
   "cell_type": "code",
   "execution_count": 31,
   "id": "07a2d6bf",
   "metadata": {},
   "outputs": [
    {
     "name": "stdout",
     "output_type": "stream",
     "text": [
      "женат / замужем          927\n",
      "гражданский брак         385\n",
      "Не женат / не замужем    273\n",
      "в разводе                 84\n",
      "вдовец / вдова            63\n",
      "Name: family_status, dtype: int64\n"
     ]
    }
   ],
   "source": [
    "print(debtors['family_status'].value_counts())\n",
    "# получаем распределение \"неплательщиков\" по семейному положению"
   ]
  },
  {
   "cell_type": "code",
   "execution_count": 32,
   "id": "fe95c2eb",
   "metadata": {
    "id": "dc3f7ee8"
   },
   "outputs": [
    {
     "name": "stdout",
     "output_type": "stream",
     "text": [
      "family_status\n",
      "Не женат / не замужем    0.097639\n",
      "в разводе                0.070648\n",
      "вдовец / вдова           0.066246\n",
      "гражданский брак         0.093130\n",
      "женат / замужем          0.075606\n",
      "Name: debt, dtype: float64\n"
     ]
    }
   ],
   "source": [
    "data_grouped_avg_1 = data.groupby('family_status')['debt'].mean()\n",
    "print(data_grouped_avg_1)\n",
    "# определяем, какова доля неплательщиков в каждой категории клиентов"
   ]
  },
  {
   "cell_type": "code",
   "execution_count": 33,
   "id": "561444a5",
   "metadata": {},
   "outputs": [
    {
     "name": "stdout",
     "output_type": "stream",
     "text": [
      "Доля неплательщиков среди не состоящих в браке составляет 9.76%\n",
      "Доля неплательщиков среди разведенных составляет 7.06%\n",
      "Доля неплательщиков среди овдовевших составляет 6.62%\n",
      "Доля неплательщиков среди состоящих в гражданском браке составляет 9.31%\n",
      "Доля неплательщиков среди состояющих в браке составляет 7.56%\n"
     ]
    }
   ],
   "source": [
    "print(f'Доля неплательщиков среди не состоящих в браке составляет {data_grouped_avg_1[0]:.2%}')\n",
    "print(f'Доля неплательщиков среди разведенных составляет {data_grouped_avg_1[1]:.2%}')\n",
    "print(f'Доля неплательщиков среди овдовевших составляет {data_grouped_avg_1[2]:.2%}')\n",
    "print(f'Доля неплательщиков среди состоящих в гражданском браке составляет {data_grouped_avg_1[3]:.2%}')\n",
    "print(f'Доля неплательщиков среди состояющих в браке составляет {data_grouped_avg_1[4]:.2%}')\n",
    "# отображаем данные в более читабельном формате"
   ]
  },
  {
   "cell_type": "code",
   "execution_count": 34,
   "id": "88bf110f",
   "metadata": {},
   "outputs": [
    {
     "data": {
      "text/html": [
       "<div>\n",
       "<style scoped>\n",
       "    .dataframe tbody tr th:only-of-type {\n",
       "        vertical-align: middle;\n",
       "    }\n",
       "\n",
       "    .dataframe tbody tr th {\n",
       "        vertical-align: top;\n",
       "    }\n",
       "\n",
       "    .dataframe thead th {\n",
       "        text-align: right;\n",
       "    }\n",
       "</style>\n",
       "<table border=\"1\" class=\"dataframe\">\n",
       "  <thead>\n",
       "    <tr style=\"text-align: right;\">\n",
       "      <th></th>\n",
       "      <th>debt</th>\n",
       "    </tr>\n",
       "    <tr>\n",
       "      <th>family_status</th>\n",
       "      <th></th>\n",
       "    </tr>\n",
       "  </thead>\n",
       "  <tbody>\n",
       "    <tr>\n",
       "      <th>Не женат / не замужем</th>\n",
       "      <td>9.76</td>\n",
       "    </tr>\n",
       "    <tr>\n",
       "      <th>в разводе</th>\n",
       "      <td>7.06</td>\n",
       "    </tr>\n",
       "    <tr>\n",
       "      <th>вдовец / вдова</th>\n",
       "      <td>6.62</td>\n",
       "    </tr>\n",
       "    <tr>\n",
       "      <th>гражданский брак</th>\n",
       "      <td>9.31</td>\n",
       "    </tr>\n",
       "    <tr>\n",
       "      <th>женат / замужем</th>\n",
       "      <td>7.56</td>\n",
       "    </tr>\n",
       "  </tbody>\n",
       "</table>\n",
       "</div>"
      ],
      "text/plain": [
       "                       debt\n",
       "family_status              \n",
       "Не женат / не замужем  9.76\n",
       "в разводе              7.06\n",
       "вдовец / вдова         6.62\n",
       "гражданский брак       9.31\n",
       "женат / замужем        7.56"
      ]
     },
     "execution_count": 34,
     "metadata": {},
     "output_type": "execute_result"
    }
   ],
   "source": [
    "data_pivot_status = data.pivot_table(index=['family_status'], values='debt', aggfunc='mean')\n",
    "data_pivot_status['debt'] = data_pivot_status['debt'] * 100\n",
    "data_pivot_status['debt'] = data_pivot_status['debt'].round(2)\n",
    "data_pivot_status\n",
    "# определяем другим способом (с помощью сводной таблицы), какова доля неплательщиков в каждой категории клиентов"
   ]
  },
  {
   "cell_type": "markdown",
   "id": "8b549220",
   "metadata": {
    "id": "1cef7837"
   },
   "source": [
    "**Вывод:** \n",
    "Результаты анализа показывают, что определенная зависимость между семейным положением и возвратом кредита в срок имеется: доля имевших задолженность по кредиту среди не состоящих в браке и состоящих в гражданском браке выше, чем в других категориях.\n",
    "Таким образом, возможно сделать вывод, что более надежным при прочих равных является заемщик, состоящий либо состоявший в браке (при этом выборка по разведенным и овдовевшим не репрезентативна)."
   ]
  },
  {
   "cell_type": "markdown",
   "id": "0852c9fc",
   "metadata": {
    "id": "1e8b2fca"
   },
   "source": [
    "**Есть ли зависимость между уровнем дохода и возвратом кредита в срок?**"
   ]
  },
  {
   "cell_type": "code",
   "execution_count": 35,
   "id": "bec87217",
   "metadata": {},
   "outputs": [
    {
     "name": "stdout",
     "output_type": "stream",
     "text": [
      "C    15921\n",
      "B     5014\n",
      "D      349\n",
      "A       25\n",
      "E       22\n",
      "Name: total_income_category, dtype: int64\n"
     ]
    }
   ],
   "source": [
    "print(data['total_income_category'].value_counts())\n",
    "# получаем распределение клиентов по доходу, применяя ранее созданную категоризацию. Клиентов, зарабатывающих менее 30 тыс. и более 1 млн, очень мало."
   ]
  },
  {
   "cell_type": "code",
   "execution_count": 36,
   "id": "a2d9e3bb",
   "metadata": {
    "id": "cd7e3720"
   },
   "outputs": [
    {
     "name": "stdout",
     "output_type": "stream",
     "text": [
      "total_income_category\n",
      "A    0.080000\n",
      "B    0.070602\n",
      "C    0.084982\n",
      "D    0.060172\n",
      "E    0.090909\n",
      "Name: debt, dtype: float64\n"
     ]
    }
   ],
   "source": [
    "data_grouped_avg_2 = data.groupby('total_income_category')['debt'].mean()\n",
    "print(data_grouped_avg_2)\n",
    "# определяем, какова доля неплательщиков в каждой категории клиентов"
   ]
  },
  {
   "cell_type": "code",
   "execution_count": 37,
   "id": "c22934b4",
   "metadata": {},
   "outputs": [
    {
     "name": "stdout",
     "output_type": "stream",
     "text": [
      "Доля неплательщиков среди зарабатывающих от 1 млн составляет 8.00%\n",
      "Доля неплательщиков среди зарабатывающих от 200 тыс. до 1 млн составляет 7.06%\n",
      "Доля неплательщиков среди зарабатывающих от 50 тыс. до 200 тыс. составляет 8.50%\n",
      "Доля неплательщиков среди зарабатывающих от 30 тыс. до 50 тыс. составляет 6.02%\n",
      "Доля неплательщиков среди зарабатывающих до 30 тыс. составляет 9.09%\n"
     ]
    }
   ],
   "source": [
    "print(f'Доля неплательщиков среди зарабатывающих от 1 млн составляет {data_grouped_avg_2[0]:.2%}')\n",
    "print(f'Доля неплательщиков среди зарабатывающих от 200 тыс. до 1 млн составляет {data_grouped_avg_2[1]:.2%}')\n",
    "print(f'Доля неплательщиков среди зарабатывающих от 50 тыс. до 200 тыс. составляет {data_grouped_avg_2[2]:.2%}')\n",
    "print(f'Доля неплательщиков среди зарабатывающих от 30 тыс. до 50 тыс. составляет {data_grouped_avg_2[3]:.2%}')\n",
    "print(f'Доля неплательщиков среди зарабатывающих до 30 тыс. составляет {data_grouped_avg_2[4]:.2%}')\n",
    "# отображаем данные в более читабельном формате"
   ]
  },
  {
   "cell_type": "code",
   "execution_count": 38,
   "id": "16cd4343",
   "metadata": {},
   "outputs": [
    {
     "data": {
      "text/html": [
       "<div>\n",
       "<style scoped>\n",
       "    .dataframe tbody tr th:only-of-type {\n",
       "        vertical-align: middle;\n",
       "    }\n",
       "\n",
       "    .dataframe tbody tr th {\n",
       "        vertical-align: top;\n",
       "    }\n",
       "\n",
       "    .dataframe thead th {\n",
       "        text-align: right;\n",
       "    }\n",
       "</style>\n",
       "<table border=\"1\" class=\"dataframe\">\n",
       "  <thead>\n",
       "    <tr style=\"text-align: right;\">\n",
       "      <th></th>\n",
       "      <th>debt</th>\n",
       "    </tr>\n",
       "    <tr>\n",
       "      <th>total_income_category</th>\n",
       "      <th></th>\n",
       "    </tr>\n",
       "  </thead>\n",
       "  <tbody>\n",
       "    <tr>\n",
       "      <th>A</th>\n",
       "      <td>8.00</td>\n",
       "    </tr>\n",
       "    <tr>\n",
       "      <th>B</th>\n",
       "      <td>7.06</td>\n",
       "    </tr>\n",
       "    <tr>\n",
       "      <th>C</th>\n",
       "      <td>8.50</td>\n",
       "    </tr>\n",
       "    <tr>\n",
       "      <th>D</th>\n",
       "      <td>6.02</td>\n",
       "    </tr>\n",
       "    <tr>\n",
       "      <th>E</th>\n",
       "      <td>9.09</td>\n",
       "    </tr>\n",
       "  </tbody>\n",
       "</table>\n",
       "</div>"
      ],
      "text/plain": [
       "                       debt\n",
       "total_income_category      \n",
       "A                      8.00\n",
       "B                      7.06\n",
       "C                      8.50\n",
       "D                      6.02\n",
       "E                      9.09"
      ]
     },
     "execution_count": 38,
     "metadata": {},
     "output_type": "execute_result"
    }
   ],
   "source": [
    "data_pivot_income = data.pivot_table(index=['total_income_category'], values='debt', aggfunc='mean')\n",
    "data_pivot_income['debt'] = data_pivot_income['debt'] * 100\n",
    "data_pivot_income['debt'] = data_pivot_income['debt'].round(2)\n",
    "data_pivot_income\n",
    "# определяем другим способом (с помощью сводной таблицы), какова доля неплательщиков в каждой категории клиентов"
   ]
  },
  {
   "cell_type": "markdown",
   "id": "7986d04a",
   "metadata": {
    "id": "e8593def"
   },
   "source": [
    "**Вывод:** \n",
    "Клиентов, зарабатывающих менее 30 тыс. и более 1 млн руб. относительно мало, в связи с чем выборка по ним не может быть признана репрезентативной в полной мере. Доля неплательщиков в категории клиентов с доходом от 30 тыс. до 50 тыс. ниже, чем в других категориях, однако таких клиентов также относительно немного. При этом среди двух основных категорий клиентов по доходам (B и C) меньше доля неплательщиков все-таки среди зарабатывающих больше. В целом возможно провести более детальный анализ на предмет определение влияния иных дополнительных факторов на платежную дисциплину клиентов."
   ]
  },
  {
   "cell_type": "markdown",
   "id": "8a818fa7",
   "metadata": {
    "id": "99ecbd1f"
   },
   "source": [
    "**Как разные цели кредита влияют на его возврат в срок?**"
   ]
  },
  {
   "cell_type": "code",
   "execution_count": 39,
   "id": "1363b386",
   "metadata": {
    "id": "2b687290",
    "scrolled": true
   },
   "outputs": [
    {
     "name": "stdout",
     "output_type": "stream",
     "text": [
      "операции с недвижимостью    10751\n",
      "операции с автомобилем       4279\n",
      "получение образования        3988\n",
      "проведение свадьбы           2313\n",
      "Name: purpose_category, dtype: int64\n"
     ]
    }
   ],
   "source": [
    "print(data['purpose_category'].value_counts())\n",
    "# получаем распределение клиентов по целям кредитования. Видим, что клиентов, получивших кредит на проведение свадьбы, относительно немного (10,8%).\n",
    "# Впрочем, остальные категории также существенно меньше, чем количество заемщиков, получивших ссуду на операции с недвижимостью (50,4%)."
   ]
  },
  {
   "cell_type": "code",
   "execution_count": 40,
   "id": "1ea0b37e",
   "metadata": {},
   "outputs": [
    {
     "data": {
      "text/html": [
       "<div>\n",
       "<style scoped>\n",
       "    .dataframe tbody tr th:only-of-type {\n",
       "        vertical-align: middle;\n",
       "    }\n",
       "\n",
       "    .dataframe tbody tr th {\n",
       "        vertical-align: top;\n",
       "    }\n",
       "\n",
       "    .dataframe thead th {\n",
       "        text-align: right;\n",
       "    }\n",
       "</style>\n",
       "<table border=\"1\" class=\"dataframe\">\n",
       "  <thead>\n",
       "    <tr style=\"text-align: right;\">\n",
       "      <th></th>\n",
       "      <th>debt</th>\n",
       "    </tr>\n",
       "    <tr>\n",
       "      <th>purpose_category</th>\n",
       "      <th></th>\n",
       "    </tr>\n",
       "  </thead>\n",
       "  <tbody>\n",
       "    <tr>\n",
       "      <th>операции с недвижимостью</th>\n",
       "      <td>7.26</td>\n",
       "    </tr>\n",
       "    <tr>\n",
       "      <th>проведение свадьбы</th>\n",
       "      <td>7.91</td>\n",
       "    </tr>\n",
       "    <tr>\n",
       "      <th>получение образования</th>\n",
       "      <td>9.25</td>\n",
       "    </tr>\n",
       "    <tr>\n",
       "      <th>операции с автомобилем</th>\n",
       "      <td>9.35</td>\n",
       "    </tr>\n",
       "  </tbody>\n",
       "</table>\n",
       "</div>"
      ],
      "text/plain": [
       "                          debt\n",
       "purpose_category              \n",
       "операции с недвижимостью  7.26\n",
       "проведение свадьбы        7.91\n",
       "получение образования     9.25\n",
       "операции с автомобилем    9.35"
      ]
     },
     "execution_count": 40,
     "metadata": {},
     "output_type": "execute_result"
    }
   ],
   "source": [
    "data_pivot = data.pivot_table(index=['purpose_category'], values='debt', aggfunc='mean')\n",
    "data_pivot['debt'] = data_pivot['debt'] * 100\n",
    "data_pivot['debt'] = data_pivot['debt'].round(2)\n",
    "data_pivot.sort_values(by='debt')\n",
    "# с помощью сводной таблицы получаем долю неплательщиков в разбивке по целям кредитования"
   ]
  },
  {
   "cell_type": "markdown",
   "id": "24e17889",
   "metadata": {
    "id": "b4bb2ce6"
   },
   "source": [
    "**Вывод:** \n",
    "Возможно предположить, что кредит, выданный на операции с недвижимостью (доля неплательщиков - 7,26%), будет возвращен в срок с большей вероятностью, чем выданный на сделку с автомобилем (доля - 9,35%) или образование (доля - 9,25%). Возможно, ключевым фактором в данном случае является залог приобретенной на кредит недвижимости либо более тщательная процедура отбора заемщиков (учитывая более высокий средний чек). Относительно невелика доля неплательщиков также среди клиентов, получивших кредиты на проведение свадьбы (7,91%), что может быть связано как с небольшим средним размером данного кредита, так и с влиянием иных факторов (подобных клиентов существенно меньше, чем клиентов иных категорий; возможно, многие клиенты гасят кредит за счет средств, подаренных им на свадьбу). На относительно высокую долю неплательщиков среди получивших кредиты на образование может влиять отсутствие обеспечения, молодой возраст заемщиков, отсутствие стабильного и/или достаточного дохода у них. Вместе с тем, как было отмечено выше, выборка клиентов не сбалансирована по целям кредитования (так, например, ссуд на операции с недвижимостью больше половины, кредиты на проведение свадьбы составляют чуть больше 10%)."
   ]
  },
  {
   "cell_type": "markdown",
   "id": "f2b6b7b8",
   "metadata": {
    "id": "09c3ac4c"
   },
   "source": [
    "**Приведем возможные причины появления пропусков в исходных данных.**"
   ]
  },
  {
   "cell_type": "markdown",
   "id": "149efa61",
   "metadata": {
    "id": "9da2ceda"
   },
   "source": [
    "В ходе анализа исходных данных было выявлено 2 174 строки (около 10% от общего количества), в которых находились пропуски (NaN) в столбцах days_employed (общий трудовой стаж в днях) и total_income (ежемесячный доход) - в каждой из этих 2 174 строк отсутствовали данные в указанных двух столбцах.\n",
    "При этом необходимо отметить, что распределение клиентов с пропусками по различным категориям (например, по типу занятости, цели кредитования или по возрасту) не свидетельствует о наличии какой-либо закономерности (данные были пропущены и по сотрудникам, и по пенсионерам, и по госслужащим, например). Кроме того, доля неплательщиков в данной выборке (8,5%) даже несколько ниже аналогичной доли в общей выборке всех клиентов. Таким образом, отсутствие в исходной базе соответствующих данных само по себе не свидетельствует о потенциальном/фактическом низком качестве ссуд клиентов (хотя показатель ежемесячного дохода по сути является одним из ключевых для оценки кредитоспособности).\n",
    "Таким образом, возможно предположить, что данные о занятости и доходе по ряду клиентов не попали в базу данных из-за человеческого фактора или некоего технического сбоя при переносе сведений (в зависимости от способа наполнения базы первичными сведениями).\n",
    "\n",
    "Также возможно предположить, что данные клиенты **после получения кредитов** по различным причинам (увольнение, человеческий фактор) не подтвердили документально свой ранее заявленный доход в ходе очередного периодического мониторинга, в связи с чем Банк исключил соответствующие сведения из базы. Однако, **против** данной гипотезы говорит факт отсутствия пропусков в столбце income_type. "
   ]
  },
  {
   "cell_type": "markdown",
   "id": "a9600a86",
   "metadata": {
    "id": "7b0487d6"
   },
   "source": [
    "**Почему заполнить пропуски медианным значением — лучшее решение для количественных переменных**."
   ]
  },
  {
   "cell_type": "markdown",
   "id": "66e7486d",
   "metadata": {
    "id": "7ecf2b8e"
   },
   "source": [
    "Потому что медианное значение представляет собой некую усредненную величину - при этом его не искажают аномально низкие или высокие значения, как арифметическое среднее."
   ]
  },
  {
   "cell_type": "markdown",
   "id": "e81f56e3",
   "metadata": {
    "id": "6db5255a"
   },
   "source": [
    "**Oбщий вывод.**"
   ]
  },
  {
   "cell_type": "markdown",
   "id": "357c4c00",
   "metadata": {
    "id": "bad65432"
   },
   "source": [
    "В целях выявления взаимосвязи различных параметров заемщиков с уровнем их кредитоспособности для построения эффективной скоринговой модели был проведен анализ базы текущих клиентов Банка (21 331 строка после обработки).\n",
    "В ходе исследования был использован параметр **debt** (имел ли заемщик задолженность по возврату кредитов).\n",
    "Для формирования выводов было выдвинуто несколько гипотез:\n",
    "\n",
    "- Существует зависимость между количеством детей и возвратом кредита в срок.\n",
    "- Существует зависимость между семейным положением и возвратом кредита в срок.\n",
    "- Существует зависимость между уровнем дохода и возвратом кредита в срок.\n",
    "- Существует зависимость между целью кредита и его возвратом в срок.\n",
    "\n",
    "По результатам анализа установлено следующее.\n",
    "\n",
    "**Гипотеза 1 - подтверждена частично.**\n",
    "Определенная зависимость между **фактом** наличия детей и возвратом кредита в срок имеется: доля имевших задолженность по кредиту среди бездетных **ниже** (доля неплательщиков среди них составляет 7,54%, доля неплательщиков среди имеющих детей составляет 9,24%).\n",
    "При этом прямой зависимости между **количеством** детей и возвратом кредита в срок **не обнаружено** (выборка несимметрична, требуется дополнительный анализ на большем массиве).\n",
    "\n",
    "Таким образом, возможно сделать вывод, что **более надежным** при прочих равных является заемщик **без детей**.\n",
    "\n",
    "**Гипотеза 2 - подтверждена.**\n",
    "Определенная зависимость между семейным положением и возвратом кредита в срок **выявлена**: доля имевших задолженность по кредиту среди не состоящих в браке (9,76%) и состоящих в гражданском браке (9,31%) **выше**, чем в других категориях (6,62% - 7,56%).\n",
    "\n",
    "Таким образом, возможно сделать вывод, что **более надежным** при прочих равных является заемщик, **состоящий либо состоявший в браке** (при этом выборка по разведенным и овдовевшим **не репрезентативна**).\n",
    "\n",
    "**Гипотеза 3 - подтверждена частично.**\n",
    "Среди двух основных категорий клиентов по доходам (B и C) ожидаемо **меньше** доля неплательщиков среди **зарабатывающих больше** (7,06% против 8,5%). \n",
    "Клиентов, зарабатывающих менее 30 тыс. и более 1 млн руб., очень мало (0,2%), в связи с чем выборка по ним **не может быть признана репрезентативной в полной мере**. Доля неплательщиков в категории клиентов с доходом от 30 тыс. до 50 тыс. **ниже (6,02%)**, чем в других категориях, однако таких клиентов также **относительно немного** (1,6%).\n",
    "\n",
    "В целом заемщики с **более высоким доходом** являются **более надежными**, однако целесообразно провести более детальный анализ на предмет определения влияния иных факторов на платежную дисциплину клиентов Банка из выборки и выявления более четких закономерностей.\n",
    "\n",
    "**Гипотеза 4 - подтверждена.**\n",
    "Кредит, выданный на **операции с недвижимостью** (доля неплательщиков - 7,26%), будет возвращен в срок с **большей вероятностью**, чем выданный на иные цели (9,25% - 9,35%). Относительно невелика доля неплательщиков также среди клиентов, получивших кредиты **на проведение свадьбы** (7,91%). Вместе с тем, выборка клиентов по целям кредитования **не сбалансирована** (ссуд на операции с недвижимостью больше половины, а кредиты на проведение свадьбы составляют чуть больше 10%).\n",
    "\n",
    "\n",
    "**Общие замечания и рекомендации:**\n",
    "\n",
    "1. Выборка клиентов **не вполне сбалансирована** по всем параметрам, использованным в ходе анализа (количество детей, семейное положение, уровень дохода, цель кредитования), в связи с чем при формировании окончательных выводов целесообразно учитывать возможное дополнительное влияние иных факторов.\n",
    "Также следует обратить внимание на ряд допущений, принятых в ходе исследования - указанные ключевые параметры были статичны и актуальны на момент выдачи кредита **и** на момент выгрузки среза (мы **исключаем** их возможную динамику в течение какого-либо промежутка времени).\n",
    "\n",
    "2. Для формирования максимально адекватных выводов по данной выборке клиентов в базе данных **не хватает** ключевых показателей - длительности просрочки и ее величины, характеризующих платежную дисциплину заемщика. Очевидно, что просрочка может быть обусловлена человеческим фактором или техническими причинами (может длиться 1 день и/или составлять 1 рубль, например). В данной связи столбец 'debt' (имел ли клиент задолженность по возврату кредитов) нуждается в дополнительной детализации, либо пояснениях (например, что клиенты с единицей в данном столбце - только \"злостные\" крупные неплательщики). Выводы, основанные лишь на факте просрочки, с высокой долей вероятности будут искажены и не объективны. Отказываясь от клиентов, аналогичных **всем** заемщикам, имевшим **любую** задолженность по кредиту, мы рискуем упустить возможности и дополнительную прибыль."
   ]
  }
 ],
 "metadata": {
  "ExecuteTimeLog": [
   {
    "duration": 699,
    "start_time": "2022-12-06T13:07:47.264Z"
   },
   {
    "duration": 25,
    "start_time": "2022-12-06T13:07:49.954Z"
   },
   {
    "duration": 16,
    "start_time": "2022-12-06T13:07:54.997Z"
   },
   {
    "duration": 9,
    "start_time": "2022-12-06T13:07:57.814Z"
   },
   {
    "duration": 36,
    "start_time": "2022-12-06T13:08:09.901Z"
   },
   {
    "duration": 4,
    "start_time": "2022-12-06T13:08:12.454Z"
   },
   {
    "duration": 8,
    "start_time": "2022-12-06T13:08:14.621Z"
   },
   {
    "duration": 5,
    "start_time": "2022-12-06T13:08:17.861Z"
   },
   {
    "duration": 5,
    "start_time": "2022-12-06T13:08:21.056Z"
   },
   {
    "duration": 36,
    "start_time": "2022-12-06T13:08:24.356Z"
   },
   {
    "duration": 13,
    "start_time": "2022-12-06T13:08:27.213Z"
   },
   {
    "duration": 5,
    "start_time": "2022-12-06T13:08:30.167Z"
   },
   {
    "duration": 12,
    "start_time": "2022-12-06T13:08:32.460Z"
   },
   {
    "duration": 23,
    "start_time": "2022-12-06T13:08:34.795Z"
   },
   {
    "duration": 19,
    "start_time": "2022-12-06T13:08:37.162Z"
   },
   {
    "duration": 4,
    "start_time": "2022-12-06T13:08:40.714Z"
   },
   {
    "duration": 11,
    "start_time": "2022-12-06T13:08:42.986Z"
   },
   {
    "duration": 6,
    "start_time": "2022-12-06T13:08:45.198Z"
   },
   {
    "duration": 4,
    "start_time": "2022-12-06T13:08:48.676Z"
   },
   {
    "duration": 9,
    "start_time": "2022-12-06T13:08:51.370Z"
   },
   {
    "duration": 83,
    "start_time": "2022-12-06T13:16:54.141Z"
   },
   {
    "duration": 6,
    "start_time": "2022-12-06T13:17:51.525Z"
   },
   {
    "duration": 9,
    "start_time": "2022-12-06T13:18:00.960Z"
   },
   {
    "duration": 11,
    "start_time": "2022-12-06T13:18:19.322Z"
   },
   {
    "duration": 5,
    "start_time": "2022-12-06T13:18:21.367Z"
   },
   {
    "duration": 37,
    "start_time": "2022-12-06T13:18:24.622Z"
   },
   {
    "duration": 76,
    "start_time": "2022-12-06T13:19:06.143Z"
   },
   {
    "duration": 16,
    "start_time": "2022-12-06T13:19:08.499Z"
   },
   {
    "duration": 19,
    "start_time": "2022-12-06T13:19:13.414Z"
   },
   {
    "duration": 9,
    "start_time": "2022-12-06T13:19:16.935Z"
   },
   {
    "duration": 38,
    "start_time": "2022-12-06T13:19:20.030Z"
   },
   {
    "duration": 4,
    "start_time": "2022-12-06T13:19:22.635Z"
   },
   {
    "duration": 8,
    "start_time": "2022-12-06T13:19:25.070Z"
   },
   {
    "duration": 4,
    "start_time": "2022-12-06T13:19:29.467Z"
   },
   {
    "duration": 5,
    "start_time": "2022-12-06T13:19:33.518Z"
   },
   {
    "duration": 5,
    "start_time": "2022-12-06T13:19:35.782Z"
   },
   {
    "duration": 35,
    "start_time": "2022-12-06T13:19:37.956Z"
   },
   {
    "duration": 10,
    "start_time": "2022-12-06T13:19:42.060Z"
   },
   {
    "duration": 3,
    "start_time": "2022-12-06T13:19:44.879Z"
   },
   {
    "duration": 12,
    "start_time": "2022-12-06T13:19:47.834Z"
   },
   {
    "duration": 19,
    "start_time": "2022-12-06T13:19:49.843Z"
   },
   {
    "duration": 19,
    "start_time": "2022-12-06T13:19:51.712Z"
   },
   {
    "duration": 4,
    "start_time": "2022-12-06T13:19:54.552Z"
   },
   {
    "duration": 10,
    "start_time": "2022-12-06T13:19:56.700Z"
   },
   {
    "duration": 5,
    "start_time": "2022-12-06T13:19:58.696Z"
   },
   {
    "duration": 4,
    "start_time": "2022-12-06T13:20:02.101Z"
   },
   {
    "duration": 12,
    "start_time": "2022-12-06T13:20:04.798Z"
   },
   {
    "duration": 8,
    "start_time": "2022-12-06T13:20:34.981Z"
   },
   {
    "duration": 9,
    "start_time": "2022-12-06T13:25:19.146Z"
   },
   {
    "duration": 14,
    "start_time": "2022-12-06T13:27:57.334Z"
   },
   {
    "duration": 8,
    "start_time": "2022-12-06T13:28:43.344Z"
   },
   {
    "duration": 6,
    "start_time": "2022-12-06T13:29:01.421Z"
   },
   {
    "duration": 7,
    "start_time": "2022-12-06T13:29:10.863Z"
   },
   {
    "duration": 5,
    "start_time": "2022-12-06T13:31:29.728Z"
   },
   {
    "duration": 5,
    "start_time": "2022-12-06T13:32:52.791Z"
   },
   {
    "duration": 981,
    "start_time": "2022-12-06T13:47:58.221Z"
   },
   {
    "duration": 200,
    "start_time": "2022-12-06T13:50:18.236Z"
   },
   {
    "duration": 135,
    "start_time": "2022-12-06T13:51:24.593Z"
   },
   {
    "duration": 6,
    "start_time": "2022-12-06T13:58:04.152Z"
   },
   {
    "duration": 51,
    "start_time": "2022-12-06T14:10:10.730Z"
   },
   {
    "duration": 9,
    "start_time": "2022-12-06T14:10:16.071Z"
   },
   {
    "duration": 6,
    "start_time": "2022-12-06T14:11:33.690Z"
   },
   {
    "duration": 11,
    "start_time": "2022-12-06T14:12:09.781Z"
   },
   {
    "duration": 19,
    "start_time": "2022-12-06T14:50:23.303Z"
   },
   {
    "duration": 14,
    "start_time": "2022-12-06T14:52:46.312Z"
   },
   {
    "duration": 22,
    "start_time": "2022-12-06T14:54:29.966Z"
   },
   {
    "duration": 23,
    "start_time": "2022-12-06T14:54:39.627Z"
   },
   {
    "duration": 22,
    "start_time": "2022-12-06T14:54:53.816Z"
   },
   {
    "duration": 22,
    "start_time": "2022-12-06T14:55:03.929Z"
   },
   {
    "duration": 24,
    "start_time": "2022-12-06T14:55:12.045Z"
   },
   {
    "duration": 20,
    "start_time": "2022-12-06T14:56:53.114Z"
   },
   {
    "duration": 27,
    "start_time": "2022-12-06T14:59:46.761Z"
   },
   {
    "duration": 5,
    "start_time": "2022-12-06T15:04:30.356Z"
   },
   {
    "duration": 3,
    "start_time": "2022-12-06T15:04:40.777Z"
   },
   {
    "duration": 64,
    "start_time": "2022-12-06T15:06:32.456Z"
   },
   {
    "duration": 13,
    "start_time": "2022-12-06T15:07:05.461Z"
   },
   {
    "duration": 8,
    "start_time": "2022-12-06T15:07:17.693Z"
   },
   {
    "duration": 8,
    "start_time": "2022-12-06T15:07:33.571Z"
   },
   {
    "duration": 10,
    "start_time": "2022-12-06T15:33:37.247Z"
   },
   {
    "duration": 10,
    "start_time": "2022-12-06T15:33:43.872Z"
   },
   {
    "duration": 9,
    "start_time": "2022-12-06T15:35:50.287Z"
   },
   {
    "duration": 10,
    "start_time": "2022-12-06T15:36:05.303Z"
   },
   {
    "duration": 22,
    "start_time": "2022-12-06T15:38:37.559Z"
   },
   {
    "duration": 20,
    "start_time": "2022-12-06T15:40:03.714Z"
   },
   {
    "duration": 4,
    "start_time": "2022-12-06T15:42:03.017Z"
   },
   {
    "duration": 25,
    "start_time": "2022-12-06T15:42:32.913Z"
   },
   {
    "duration": 14,
    "start_time": "2022-12-06T15:46:47.226Z"
   },
   {
    "duration": 6,
    "start_time": "2022-12-06T15:50:45.520Z"
   },
   {
    "duration": 5,
    "start_time": "2022-12-06T15:52:36.386Z"
   },
   {
    "duration": 48,
    "start_time": "2022-12-06T15:55:13.162Z"
   },
   {
    "duration": 51,
    "start_time": "2022-12-06T15:55:18.193Z"
   },
   {
    "duration": 8,
    "start_time": "2022-12-06T15:55:23.885Z"
   },
   {
    "duration": 46,
    "start_time": "2022-12-07T15:02:41.568Z"
   },
   {
    "duration": 6,
    "start_time": "2022-12-07T15:02:46.493Z"
   },
   {
    "duration": 592,
    "start_time": "2022-12-07T15:03:07.392Z"
   },
   {
    "duration": 27,
    "start_time": "2022-12-07T15:03:07.986Z"
   },
   {
    "duration": 43,
    "start_time": "2022-12-07T15:03:08.015Z"
   },
   {
    "duration": 59,
    "start_time": "2022-12-07T15:03:08.060Z"
   },
   {
    "duration": 85,
    "start_time": "2022-12-07T15:03:08.122Z"
   },
   {
    "duration": 18,
    "start_time": "2022-12-07T15:03:08.209Z"
   },
   {
    "duration": 37,
    "start_time": "2022-12-07T15:03:08.229Z"
   },
   {
    "duration": 23,
    "start_time": "2022-12-07T15:03:08.268Z"
   },
   {
    "duration": 29,
    "start_time": "2022-12-07T15:03:08.293Z"
   },
   {
    "duration": 43,
    "start_time": "2022-12-07T15:03:08.324Z"
   },
   {
    "duration": 80,
    "start_time": "2022-12-07T15:03:08.370Z"
   },
   {
    "duration": 24,
    "start_time": "2022-12-07T15:03:08.451Z"
   },
   {
    "duration": 78,
    "start_time": "2022-12-07T15:03:08.478Z"
   },
   {
    "duration": 34,
    "start_time": "2022-12-07T15:03:08.559Z"
   },
   {
    "duration": 41,
    "start_time": "2022-12-07T15:03:08.594Z"
   },
   {
    "duration": 19,
    "start_time": "2022-12-07T15:03:08.637Z"
   },
   {
    "duration": 8,
    "start_time": "2022-12-07T15:03:08.658Z"
   },
   {
    "duration": 30,
    "start_time": "2022-12-07T15:03:08.667Z"
   },
   {
    "duration": 30,
    "start_time": "2022-12-07T15:03:08.698Z"
   },
   {
    "duration": 21,
    "start_time": "2022-12-07T15:03:08.729Z"
   },
   {
    "duration": 39,
    "start_time": "2022-12-07T15:03:08.751Z"
   },
   {
    "duration": 22,
    "start_time": "2022-12-07T15:03:08.792Z"
   },
   {
    "duration": 19,
    "start_time": "2022-12-07T15:03:08.816Z"
   },
   {
    "duration": 36,
    "start_time": "2022-12-07T15:03:08.837Z"
   },
   {
    "duration": 23,
    "start_time": "2022-12-07T15:03:08.875Z"
   },
   {
    "duration": 75,
    "start_time": "2022-12-07T15:03:08.899Z"
   },
   {
    "duration": 0,
    "start_time": "2022-12-07T15:03:08.976Z"
   },
   {
    "duration": 0,
    "start_time": "2022-12-07T15:03:08.977Z"
   },
   {
    "duration": 0,
    "start_time": "2022-12-07T15:03:08.978Z"
   },
   {
    "duration": 0,
    "start_time": "2022-12-07T15:03:08.980Z"
   },
   {
    "duration": 3,
    "start_time": "2022-12-07T15:04:02.459Z"
   },
   {
    "duration": 3,
    "start_time": "2022-12-07T15:04:12.893Z"
   },
   {
    "duration": 5,
    "start_time": "2022-12-07T15:05:34.223Z"
   },
   {
    "duration": 13,
    "start_time": "2022-12-07T15:09:01.070Z"
   },
   {
    "duration": 105,
    "start_time": "2022-12-07T15:09:48.154Z"
   },
   {
    "duration": 11,
    "start_time": "2022-12-07T15:09:54.098Z"
   },
   {
    "duration": 14,
    "start_time": "2022-12-07T15:10:48.667Z"
   },
   {
    "duration": 12,
    "start_time": "2022-12-07T15:11:00.807Z"
   },
   {
    "duration": 8,
    "start_time": "2022-12-07T16:10:00.218Z"
   },
   {
    "duration": 4,
    "start_time": "2022-12-07T16:12:28.520Z"
   },
   {
    "duration": 4,
    "start_time": "2022-12-07T16:12:35.589Z"
   },
   {
    "duration": 6,
    "start_time": "2022-12-07T16:13:27.125Z"
   },
   {
    "duration": 16,
    "start_time": "2022-12-07T16:20:22.691Z"
   },
   {
    "duration": 5,
    "start_time": "2022-12-07T16:22:46.957Z"
   },
   {
    "duration": 7,
    "start_time": "2022-12-07T16:24:52.936Z"
   },
   {
    "duration": 4,
    "start_time": "2022-12-07T16:28:04.830Z"
   },
   {
    "duration": 6,
    "start_time": "2022-12-07T16:28:52.729Z"
   },
   {
    "duration": 13,
    "start_time": "2022-12-07T16:40:42.213Z"
   },
   {
    "duration": 100,
    "start_time": "2022-12-07T16:42:39.392Z"
   },
   {
    "duration": 14,
    "start_time": "2022-12-07T16:42:54.817Z"
   },
   {
    "duration": 14,
    "start_time": "2022-12-07T16:42:57.209Z"
   },
   {
    "duration": 21,
    "start_time": "2022-12-07T16:43:03.105Z"
   },
   {
    "duration": 23,
    "start_time": "2022-12-07T16:43:58.322Z"
   },
   {
    "duration": 19,
    "start_time": "2022-12-07T16:44:05.217Z"
   },
   {
    "duration": 101,
    "start_time": "2022-12-07T16:44:50.380Z"
   },
   {
    "duration": 20,
    "start_time": "2022-12-07T16:44:58.427Z"
   },
   {
    "duration": 121,
    "start_time": "2022-12-07T16:45:05.490Z"
   },
   {
    "duration": 28,
    "start_time": "2022-12-07T16:45:14.147Z"
   },
   {
    "duration": 21,
    "start_time": "2022-12-07T16:45:19.354Z"
   },
   {
    "duration": 43,
    "start_time": "2022-12-07T16:47:00.245Z"
   },
   {
    "duration": 31,
    "start_time": "2022-12-07T16:47:38.015Z"
   },
   {
    "duration": 23,
    "start_time": "2022-12-07T16:55:59.612Z"
   },
   {
    "duration": 32,
    "start_time": "2022-12-07T16:56:07.290Z"
   },
   {
    "duration": 23,
    "start_time": "2022-12-07T16:56:20.152Z"
   },
   {
    "duration": 27,
    "start_time": "2022-12-07T16:56:57.669Z"
   },
   {
    "duration": 22,
    "start_time": "2022-12-07T16:57:18.879Z"
   },
   {
    "duration": 21,
    "start_time": "2022-12-07T16:57:31.601Z"
   },
   {
    "duration": 23,
    "start_time": "2022-12-07T16:57:53.669Z"
   },
   {
    "duration": 113,
    "start_time": "2022-12-07T17:00:01.894Z"
   },
   {
    "duration": 27,
    "start_time": "2022-12-07T17:00:23.532Z"
   },
   {
    "duration": 525,
    "start_time": "2022-12-08T14:27:57.046Z"
   },
   {
    "duration": 21,
    "start_time": "2022-12-08T14:27:57.573Z"
   },
   {
    "duration": 17,
    "start_time": "2022-12-08T14:27:57.595Z"
   },
   {
    "duration": 25,
    "start_time": "2022-12-08T14:27:57.614Z"
   },
   {
    "duration": 40,
    "start_time": "2022-12-08T14:27:57.643Z"
   },
   {
    "duration": 4,
    "start_time": "2022-12-08T14:27:57.685Z"
   },
   {
    "duration": 18,
    "start_time": "2022-12-08T14:27:57.690Z"
   },
   {
    "duration": 30,
    "start_time": "2022-12-08T14:27:57.709Z"
   },
   {
    "duration": 21,
    "start_time": "2022-12-08T14:27:57.741Z"
   },
   {
    "duration": 13,
    "start_time": "2022-12-08T14:27:57.763Z"
   },
   {
    "duration": 39,
    "start_time": "2022-12-08T14:27:57.777Z"
   },
   {
    "duration": 18,
    "start_time": "2022-12-08T14:27:57.818Z"
   },
   {
    "duration": 54,
    "start_time": "2022-12-08T14:27:57.838Z"
   },
   {
    "duration": 50,
    "start_time": "2022-12-08T14:27:57.894Z"
   },
   {
    "duration": 32,
    "start_time": "2022-12-08T14:27:57.946Z"
   },
   {
    "duration": 17,
    "start_time": "2022-12-08T14:27:57.980Z"
   },
   {
    "duration": 6,
    "start_time": "2022-12-08T14:27:57.998Z"
   },
   {
    "duration": 38,
    "start_time": "2022-12-08T14:27:58.005Z"
   },
   {
    "duration": 8,
    "start_time": "2022-12-08T14:27:58.045Z"
   },
   {
    "duration": 23,
    "start_time": "2022-12-08T14:27:58.055Z"
   },
   {
    "duration": 37,
    "start_time": "2022-12-08T14:27:58.079Z"
   },
   {
    "duration": 23,
    "start_time": "2022-12-08T14:27:58.117Z"
   },
   {
    "duration": 28,
    "start_time": "2022-12-08T14:27:58.141Z"
   },
   {
    "duration": 16,
    "start_time": "2022-12-08T14:27:58.170Z"
   },
   {
    "duration": 19,
    "start_time": "2022-12-08T14:27:58.187Z"
   },
   {
    "duration": 48,
    "start_time": "2022-12-08T14:27:58.207Z"
   },
   {
    "duration": 26,
    "start_time": "2022-12-08T14:27:58.256Z"
   },
   {
    "duration": 11,
    "start_time": "2022-12-08T14:27:58.284Z"
   },
   {
    "duration": 35,
    "start_time": "2022-12-08T14:27:58.296Z"
   },
   {
    "duration": 17,
    "start_time": "2022-12-08T14:27:58.336Z"
   },
   {
    "duration": 26,
    "start_time": "2022-12-08T14:27:58.354Z"
   },
   {
    "duration": 29,
    "start_time": "2022-12-08T14:27:58.381Z"
   },
   {
    "duration": 35,
    "start_time": "2022-12-08T14:27:58.411Z"
   },
   {
    "duration": 23,
    "start_time": "2022-12-08T14:27:58.447Z"
   },
   {
    "duration": 25,
    "start_time": "2022-12-08T14:27:58.471Z"
   },
   {
    "duration": 45,
    "start_time": "2022-12-08T14:27:58.497Z"
   },
   {
    "duration": 15,
    "start_time": "2022-12-08T14:47:17.685Z"
   },
   {
    "duration": 25,
    "start_time": "2022-12-08T14:47:51.800Z"
   },
   {
    "duration": 432,
    "start_time": "2022-12-08T15:10:41.119Z"
   },
   {
    "duration": 10,
    "start_time": "2022-12-08T15:11:08.540Z"
   },
   {
    "duration": 12,
    "start_time": "2022-12-08T15:11:17.081Z"
   },
   {
    "duration": 13,
    "start_time": "2022-12-08T15:11:47.422Z"
   },
   {
    "duration": 16,
    "start_time": "2022-12-08T15:11:55.788Z"
   },
   {
    "duration": 11,
    "start_time": "2022-12-08T15:12:14.973Z"
   },
   {
    "duration": 11,
    "start_time": "2022-12-08T15:12:25.991Z"
   },
   {
    "duration": 15,
    "start_time": "2022-12-08T15:12:30.856Z"
   },
   {
    "duration": 14,
    "start_time": "2022-12-08T15:16:18.041Z"
   },
   {
    "duration": 15,
    "start_time": "2022-12-08T15:28:56.875Z"
   },
   {
    "duration": 5,
    "start_time": "2022-12-08T15:30:56.810Z"
   },
   {
    "duration": 498,
    "start_time": "2022-12-09T05:30:04.317Z"
   },
   {
    "duration": 21,
    "start_time": "2022-12-09T05:30:04.817Z"
   },
   {
    "duration": 16,
    "start_time": "2022-12-09T05:30:04.839Z"
   },
   {
    "duration": 9,
    "start_time": "2022-12-09T05:30:04.857Z"
   },
   {
    "duration": 37,
    "start_time": "2022-12-09T05:30:04.867Z"
   },
   {
    "duration": 3,
    "start_time": "2022-12-09T05:30:04.906Z"
   },
   {
    "duration": 17,
    "start_time": "2022-12-09T05:30:04.911Z"
   },
   {
    "duration": 12,
    "start_time": "2022-12-09T05:30:04.930Z"
   },
   {
    "duration": 21,
    "start_time": "2022-12-09T05:30:04.944Z"
   },
   {
    "duration": 5,
    "start_time": "2022-12-09T05:30:04.977Z"
   },
   {
    "duration": 33,
    "start_time": "2022-12-09T05:30:04.983Z"
   },
   {
    "duration": 8,
    "start_time": "2022-12-09T05:30:05.018Z"
   },
   {
    "duration": 4,
    "start_time": "2022-12-09T05:30:05.028Z"
   },
   {
    "duration": 16,
    "start_time": "2022-12-09T05:30:05.033Z"
   },
   {
    "duration": 43,
    "start_time": "2022-12-09T05:30:05.051Z"
   },
   {
    "duration": 17,
    "start_time": "2022-12-09T05:30:05.095Z"
   },
   {
    "duration": 4,
    "start_time": "2022-12-09T05:30:05.113Z"
   },
   {
    "duration": 16,
    "start_time": "2022-12-09T05:30:05.118Z"
   },
   {
    "duration": 12,
    "start_time": "2022-12-09T05:30:05.136Z"
   },
   {
    "duration": 28,
    "start_time": "2022-12-09T05:30:05.150Z"
   },
   {
    "duration": 8,
    "start_time": "2022-12-09T05:30:05.180Z"
   },
   {
    "duration": 11,
    "start_time": "2022-12-09T05:30:05.189Z"
   },
   {
    "duration": 10,
    "start_time": "2022-12-09T05:30:05.201Z"
   },
   {
    "duration": 75,
    "start_time": "2022-12-09T05:30:05.213Z"
   },
   {
    "duration": 0,
    "start_time": "2022-12-09T05:30:05.290Z"
   },
   {
    "duration": 0,
    "start_time": "2022-12-09T05:30:05.291Z"
   },
   {
    "duration": 0,
    "start_time": "2022-12-09T05:30:05.292Z"
   },
   {
    "duration": 0,
    "start_time": "2022-12-09T05:30:05.293Z"
   },
   {
    "duration": 0,
    "start_time": "2022-12-09T05:30:05.294Z"
   },
   {
    "duration": 0,
    "start_time": "2022-12-09T05:30:05.295Z"
   },
   {
    "duration": 0,
    "start_time": "2022-12-09T05:30:05.296Z"
   },
   {
    "duration": 0,
    "start_time": "2022-12-09T05:30:05.297Z"
   },
   {
    "duration": 0,
    "start_time": "2022-12-09T05:30:05.298Z"
   },
   {
    "duration": 0,
    "start_time": "2022-12-09T05:30:05.299Z"
   },
   {
    "duration": 0,
    "start_time": "2022-12-09T05:30:05.300Z"
   },
   {
    "duration": 0,
    "start_time": "2022-12-09T05:30:05.301Z"
   },
   {
    "duration": 0,
    "start_time": "2022-12-09T05:30:05.302Z"
   },
   {
    "duration": 0,
    "start_time": "2022-12-09T05:30:05.303Z"
   },
   {
    "duration": 0,
    "start_time": "2022-12-09T05:30:05.304Z"
   },
   {
    "duration": 453,
    "start_time": "2022-12-09T05:42:50.895Z"
   },
   {
    "duration": 22,
    "start_time": "2022-12-09T05:42:51.349Z"
   },
   {
    "duration": 20,
    "start_time": "2022-12-09T05:42:51.373Z"
   },
   {
    "duration": 17,
    "start_time": "2022-12-09T05:42:51.394Z"
   },
   {
    "duration": 61,
    "start_time": "2022-12-09T05:42:51.412Z"
   },
   {
    "duration": 3,
    "start_time": "2022-12-09T05:42:51.474Z"
   },
   {
    "duration": 31,
    "start_time": "2022-12-09T05:42:51.479Z"
   },
   {
    "duration": 29,
    "start_time": "2022-12-09T05:42:51.512Z"
   },
   {
    "duration": 14,
    "start_time": "2022-12-09T05:42:51.543Z"
   },
   {
    "duration": 34,
    "start_time": "2022-12-09T05:42:51.560Z"
   },
   {
    "duration": 72,
    "start_time": "2022-12-09T05:42:51.597Z"
   },
   {
    "duration": 9,
    "start_time": "2022-12-09T05:42:51.671Z"
   },
   {
    "duration": 34,
    "start_time": "2022-12-09T05:42:51.682Z"
   },
   {
    "duration": 33,
    "start_time": "2022-12-09T05:42:51.718Z"
   },
   {
    "duration": 28,
    "start_time": "2022-12-09T05:42:51.753Z"
   },
   {
    "duration": 23,
    "start_time": "2022-12-09T05:42:51.783Z"
   },
   {
    "duration": 26,
    "start_time": "2022-12-09T05:42:51.808Z"
   },
   {
    "duration": 29,
    "start_time": "2022-12-09T05:42:51.836Z"
   },
   {
    "duration": 25,
    "start_time": "2022-12-09T05:42:51.867Z"
   },
   {
    "duration": 19,
    "start_time": "2022-12-09T05:42:51.894Z"
   },
   {
    "duration": 37,
    "start_time": "2022-12-09T05:42:51.915Z"
   },
   {
    "duration": 27,
    "start_time": "2022-12-09T05:42:51.954Z"
   },
   {
    "duration": 38,
    "start_time": "2022-12-09T05:42:51.983Z"
   },
   {
    "duration": 32,
    "start_time": "2022-12-09T05:42:52.023Z"
   },
   {
    "duration": 38,
    "start_time": "2022-12-09T05:42:52.056Z"
   },
   {
    "duration": 34,
    "start_time": "2022-12-09T05:42:52.096Z"
   },
   {
    "duration": 18,
    "start_time": "2022-12-09T05:42:52.132Z"
   },
   {
    "duration": 42,
    "start_time": "2022-12-09T05:42:52.153Z"
   },
   {
    "duration": 45,
    "start_time": "2022-12-09T05:42:52.197Z"
   },
   {
    "duration": 10,
    "start_time": "2022-12-09T05:42:52.243Z"
   },
   {
    "duration": 38,
    "start_time": "2022-12-09T05:42:52.255Z"
   },
   {
    "duration": 29,
    "start_time": "2022-12-09T05:42:52.295Z"
   },
   {
    "duration": 24,
    "start_time": "2022-12-09T05:42:52.325Z"
   },
   {
    "duration": 53,
    "start_time": "2022-12-09T05:42:52.352Z"
   },
   {
    "duration": 11,
    "start_time": "2022-12-09T05:42:52.407Z"
   },
   {
    "duration": 36,
    "start_time": "2022-12-09T05:42:52.420Z"
   },
   {
    "duration": 31,
    "start_time": "2022-12-09T05:42:52.458Z"
   },
   {
    "duration": 55,
    "start_time": "2022-12-09T05:42:52.491Z"
   },
   {
    "duration": 42,
    "start_time": "2022-12-09T05:42:52.548Z"
   },
   {
    "duration": 709,
    "start_time": "2022-12-12T13:23:44.099Z"
   },
   {
    "duration": 21,
    "start_time": "2022-12-12T13:23:44.810Z"
   },
   {
    "duration": 13,
    "start_time": "2022-12-12T13:23:44.833Z"
   },
   {
    "duration": 8,
    "start_time": "2022-12-12T13:23:44.848Z"
   },
   {
    "duration": 42,
    "start_time": "2022-12-12T13:23:44.858Z"
   },
   {
    "duration": 3,
    "start_time": "2022-12-12T13:23:44.902Z"
   },
   {
    "duration": 11,
    "start_time": "2022-12-12T13:23:44.906Z"
   },
   {
    "duration": 4,
    "start_time": "2022-12-12T13:23:44.918Z"
   },
   {
    "duration": 8,
    "start_time": "2022-12-12T13:23:44.923Z"
   },
   {
    "duration": 3,
    "start_time": "2022-12-12T13:23:44.935Z"
   },
   {
    "duration": 58,
    "start_time": "2022-12-12T13:23:44.940Z"
   },
   {
    "duration": 9,
    "start_time": "2022-12-12T13:23:45.000Z"
   },
   {
    "duration": 16,
    "start_time": "2022-12-12T13:23:45.011Z"
   },
   {
    "duration": 29,
    "start_time": "2022-12-12T13:23:45.029Z"
   },
   {
    "duration": 22,
    "start_time": "2022-12-12T13:23:45.059Z"
   },
   {
    "duration": 16,
    "start_time": "2022-12-12T13:23:45.083Z"
   },
   {
    "duration": 3,
    "start_time": "2022-12-12T13:23:45.100Z"
   },
   {
    "duration": 14,
    "start_time": "2022-12-12T13:23:45.105Z"
   },
   {
    "duration": 6,
    "start_time": "2022-12-12T13:23:45.121Z"
   },
   {
    "duration": 9,
    "start_time": "2022-12-12T13:23:45.128Z"
   },
   {
    "duration": 15,
    "start_time": "2022-12-12T13:23:45.139Z"
   },
   {
    "duration": 3,
    "start_time": "2022-12-12T13:23:45.156Z"
   },
   {
    "duration": 6,
    "start_time": "2022-12-12T13:23:45.161Z"
   },
   {
    "duration": 9,
    "start_time": "2022-12-12T13:23:45.169Z"
   },
   {
    "duration": 27,
    "start_time": "2022-12-12T13:23:45.179Z"
   },
   {
    "duration": 6,
    "start_time": "2022-12-12T13:23:45.207Z"
   },
   {
    "duration": 9,
    "start_time": "2022-12-12T13:23:45.215Z"
   },
   {
    "duration": 13,
    "start_time": "2022-12-12T13:23:45.227Z"
   },
   {
    "duration": 14,
    "start_time": "2022-12-12T13:23:45.241Z"
   },
   {
    "duration": 5,
    "start_time": "2022-12-12T13:23:45.256Z"
   },
   {
    "duration": 6,
    "start_time": "2022-12-12T13:23:45.262Z"
   },
   {
    "duration": 28,
    "start_time": "2022-12-12T13:23:45.270Z"
   },
   {
    "duration": 6,
    "start_time": "2022-12-12T13:23:45.300Z"
   },
   {
    "duration": 23,
    "start_time": "2022-12-12T13:23:45.308Z"
   },
   {
    "duration": 6,
    "start_time": "2022-12-12T13:23:45.333Z"
   },
   {
    "duration": 10,
    "start_time": "2022-12-12T13:23:45.340Z"
   },
   {
    "duration": 12,
    "start_time": "2022-12-12T13:23:45.352Z"
   },
   {
    "duration": 17,
    "start_time": "2022-12-12T13:23:45.365Z"
   },
   {
    "duration": 20,
    "start_time": "2022-12-12T13:23:45.396Z"
   },
   {
    "duration": 6,
    "start_time": "2022-12-12T13:33:26.626Z"
   },
   {
    "duration": 18,
    "start_time": "2022-12-12T13:33:29.401Z"
   },
   {
    "duration": 49,
    "start_time": "2022-12-12T13:34:31.500Z"
   },
   {
    "duration": 53,
    "start_time": "2022-12-12T13:34:42.790Z"
   },
   {
    "duration": 54,
    "start_time": "2022-12-12T13:35:30.326Z"
   },
   {
    "duration": 59,
    "start_time": "2022-12-12T13:35:47.374Z"
   },
   {
    "duration": 144,
    "start_time": "2022-12-12T13:36:01.187Z"
   },
   {
    "duration": 6,
    "start_time": "2022-12-12T13:44:07.633Z"
   },
   {
    "duration": 71,
    "start_time": "2022-12-12T15:06:21.250Z"
   },
   {
    "duration": 17,
    "start_time": "2022-12-12T15:06:24.033Z"
   },
   {
    "duration": 17,
    "start_time": "2022-12-12T15:06:29.425Z"
   },
   {
    "duration": 10,
    "start_time": "2022-12-12T15:06:34.862Z"
   },
   {
    "duration": 5,
    "start_time": "2022-12-12T15:10:45.478Z"
   },
   {
    "duration": 77,
    "start_time": "2022-12-12T15:10:57.841Z"
   },
   {
    "duration": 6,
    "start_time": "2022-12-12T15:11:06.270Z"
   },
   {
    "duration": 9,
    "start_time": "2022-12-12T15:11:16.717Z"
   },
   {
    "duration": 25,
    "start_time": "2022-12-12T15:14:02.096Z"
   },
   {
    "duration": 25,
    "start_time": "2022-12-12T15:15:28.256Z"
   },
   {
    "duration": 5,
    "start_time": "2022-12-12T15:21:27.577Z"
   },
   {
    "duration": 5,
    "start_time": "2022-12-12T15:21:57.402Z"
   },
   {
    "duration": 5,
    "start_time": "2022-12-12T15:22:47.634Z"
   },
   {
    "duration": 5,
    "start_time": "2022-12-12T15:24:09.569Z"
   },
   {
    "duration": 6,
    "start_time": "2022-12-12T15:52:30.281Z"
   },
   {
    "duration": 6,
    "start_time": "2022-12-12T15:52:53.858Z"
   },
   {
    "duration": 6,
    "start_time": "2022-12-12T15:53:04.554Z"
   },
   {
    "duration": 5,
    "start_time": "2022-12-12T15:56:00.123Z"
   },
   {
    "duration": 5,
    "start_time": "2022-12-12T15:56:16.579Z"
   },
   {
    "duration": 463,
    "start_time": "2022-12-12T15:56:34.323Z"
   },
   {
    "duration": 23,
    "start_time": "2022-12-12T15:56:34.788Z"
   },
   {
    "duration": 17,
    "start_time": "2022-12-12T15:56:34.813Z"
   },
   {
    "duration": 10,
    "start_time": "2022-12-12T15:56:34.832Z"
   },
   {
    "duration": 28,
    "start_time": "2022-12-12T15:56:34.844Z"
   },
   {
    "duration": 54,
    "start_time": "2022-12-12T15:56:34.874Z"
   },
   {
    "duration": 3,
    "start_time": "2022-12-12T15:56:34.930Z"
   },
   {
    "duration": 18,
    "start_time": "2022-12-12T15:56:34.935Z"
   },
   {
    "duration": 6,
    "start_time": "2022-12-12T15:56:34.957Z"
   },
   {
    "duration": 12,
    "start_time": "2022-12-12T15:56:34.966Z"
   },
   {
    "duration": 17,
    "start_time": "2022-12-12T15:56:34.980Z"
   },
   {
    "duration": 42,
    "start_time": "2022-12-12T15:56:34.999Z"
   },
   {
    "duration": 11,
    "start_time": "2022-12-12T15:56:35.042Z"
   },
   {
    "duration": 6,
    "start_time": "2022-12-12T15:56:35.054Z"
   },
   {
    "duration": 40,
    "start_time": "2022-12-12T15:56:35.061Z"
   },
   {
    "duration": 24,
    "start_time": "2022-12-12T15:56:35.103Z"
   },
   {
    "duration": 22,
    "start_time": "2022-12-12T15:56:35.128Z"
   },
   {
    "duration": 3,
    "start_time": "2022-12-12T15:56:35.152Z"
   },
   {
    "duration": 39,
    "start_time": "2022-12-12T15:56:35.157Z"
   },
   {
    "duration": 6,
    "start_time": "2022-12-12T15:56:35.198Z"
   },
   {
    "duration": 11,
    "start_time": "2022-12-12T15:56:35.206Z"
   },
   {
    "duration": 11,
    "start_time": "2022-12-12T15:56:35.219Z"
   },
   {
    "duration": 5,
    "start_time": "2022-12-12T15:56:35.232Z"
   },
   {
    "duration": 13,
    "start_time": "2022-12-12T15:56:35.238Z"
   },
   {
    "duration": 6,
    "start_time": "2022-12-12T15:56:35.252Z"
   },
   {
    "duration": 29,
    "start_time": "2022-12-12T15:56:35.259Z"
   },
   {
    "duration": 26,
    "start_time": "2022-12-12T15:56:35.296Z"
   },
   {
    "duration": 6,
    "start_time": "2022-12-12T15:56:35.325Z"
   },
   {
    "duration": 15,
    "start_time": "2022-12-12T15:56:35.333Z"
   },
   {
    "duration": 16,
    "start_time": "2022-12-12T15:56:35.349Z"
   },
   {
    "duration": 5,
    "start_time": "2022-12-12T15:56:35.366Z"
   },
   {
    "duration": 7,
    "start_time": "2022-12-12T15:56:35.373Z"
   },
   {
    "duration": 7,
    "start_time": "2022-12-12T15:56:35.397Z"
   },
   {
    "duration": 6,
    "start_time": "2022-12-12T15:56:35.405Z"
   },
   {
    "duration": 24,
    "start_time": "2022-12-12T15:56:35.412Z"
   },
   {
    "duration": 5,
    "start_time": "2022-12-12T15:56:35.438Z"
   },
   {
    "duration": 15,
    "start_time": "2022-12-12T15:56:35.445Z"
   },
   {
    "duration": 11,
    "start_time": "2022-12-12T15:56:35.462Z"
   },
   {
    "duration": 36,
    "start_time": "2022-12-12T15:56:35.474Z"
   },
   {
    "duration": 6,
    "start_time": "2022-12-12T15:56:35.512Z"
   },
   {
    "duration": 21,
    "start_time": "2022-12-12T15:56:35.520Z"
   },
   {
    "duration": 468,
    "start_time": "2022-12-12T15:57:02.623Z"
   },
   {
    "duration": 26,
    "start_time": "2022-12-12T15:57:03.093Z"
   },
   {
    "duration": 33,
    "start_time": "2022-12-12T15:57:03.120Z"
   },
   {
    "duration": 43,
    "start_time": "2022-12-12T15:57:03.155Z"
   },
   {
    "duration": 45,
    "start_time": "2022-12-12T15:57:03.201Z"
   },
   {
    "duration": 3,
    "start_time": "2022-12-12T15:57:03.248Z"
   },
   {
    "duration": 42,
    "start_time": "2022-12-12T15:57:03.253Z"
   },
   {
    "duration": 8,
    "start_time": "2022-12-12T15:57:03.296Z"
   },
   {
    "duration": 14,
    "start_time": "2022-12-12T15:57:03.305Z"
   },
   {
    "duration": 5,
    "start_time": "2022-12-12T15:57:03.321Z"
   },
   {
    "duration": 39,
    "start_time": "2022-12-12T15:57:03.327Z"
   },
   {
    "duration": 9,
    "start_time": "2022-12-12T15:57:03.368Z"
   },
   {
    "duration": 19,
    "start_time": "2022-12-12T15:57:03.379Z"
   },
   {
    "duration": 15,
    "start_time": "2022-12-12T15:57:03.401Z"
   },
   {
    "duration": 26,
    "start_time": "2022-12-12T15:57:03.418Z"
   },
   {
    "duration": 18,
    "start_time": "2022-12-12T15:57:03.446Z"
   },
   {
    "duration": 4,
    "start_time": "2022-12-12T15:57:03.466Z"
   },
   {
    "duration": 11,
    "start_time": "2022-12-12T15:57:03.496Z"
   },
   {
    "duration": 25,
    "start_time": "2022-12-12T15:57:03.509Z"
   },
   {
    "duration": 11,
    "start_time": "2022-12-12T15:57:03.536Z"
   },
   {
    "duration": 13,
    "start_time": "2022-12-12T15:57:03.549Z"
   },
   {
    "duration": 23,
    "start_time": "2022-12-12T15:57:03.564Z"
   },
   {
    "duration": 12,
    "start_time": "2022-12-12T15:57:03.589Z"
   },
   {
    "duration": 8,
    "start_time": "2022-12-12T15:57:03.603Z"
   },
   {
    "duration": 16,
    "start_time": "2022-12-12T15:57:03.612Z"
   },
   {
    "duration": 6,
    "start_time": "2022-12-12T15:57:03.630Z"
   },
   {
    "duration": 9,
    "start_time": "2022-12-12T15:57:03.638Z"
   },
   {
    "duration": 21,
    "start_time": "2022-12-12T15:57:03.648Z"
   },
   {
    "duration": 32,
    "start_time": "2022-12-12T15:57:03.670Z"
   },
   {
    "duration": 36,
    "start_time": "2022-12-12T15:57:03.703Z"
   },
   {
    "duration": 15,
    "start_time": "2022-12-12T15:57:03.740Z"
   },
   {
    "duration": 24,
    "start_time": "2022-12-12T15:57:03.757Z"
   },
   {
    "duration": 23,
    "start_time": "2022-12-12T15:57:03.783Z"
   },
   {
    "duration": 23,
    "start_time": "2022-12-12T15:57:03.808Z"
   },
   {
    "duration": 10,
    "start_time": "2022-12-12T15:57:03.832Z"
   },
   {
    "duration": 25,
    "start_time": "2022-12-12T15:57:03.844Z"
   },
   {
    "duration": 15,
    "start_time": "2022-12-12T15:57:03.871Z"
   },
   {
    "duration": 35,
    "start_time": "2022-12-12T15:57:03.888Z"
   },
   {
    "duration": 7,
    "start_time": "2022-12-12T15:57:03.925Z"
   },
   {
    "duration": 20,
    "start_time": "2022-12-12T15:57:03.934Z"
   },
   {
    "duration": 11,
    "start_time": "2022-12-12T16:54:52.869Z"
   },
   {
    "duration": 11,
    "start_time": "2022-12-12T16:55:56.857Z"
   }
  ],
  "colab": {
   "name": "dpp_template_part2.ipynb",
   "provenance": []
  },
  "kernelspec": {
   "display_name": "Python 3 (ipykernel)",
   "language": "python",
   "name": "python3"
  },
  "language_info": {
   "codemirror_mode": {
    "name": "ipython",
    "version": 3
   },
   "file_extension": ".py",
   "mimetype": "text/x-python",
   "name": "python",
   "nbconvert_exporter": "python",
   "pygments_lexer": "ipython3",
   "version": "3.9.12"
  },
  "toc": {
   "base_numbering": 1,
   "nav_menu": {},
   "number_sections": true,
   "sideBar": true,
   "skip_h1_title": true,
   "title_cell": "Table of Contents",
   "title_sidebar": "Contents",
   "toc_cell": false,
   "toc_position": {
    "height": "calc(100% - 180px)",
    "left": "10px",
    "top": "150px",
    "width": "165px"
   },
   "toc_section_display": true,
   "toc_window_display": true
  }
 },
 "nbformat": 4,
 "nbformat_minor": 5
}
